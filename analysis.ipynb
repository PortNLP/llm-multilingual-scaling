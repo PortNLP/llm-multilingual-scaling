{
 "cells": [
  {
   "cell_type": "code",
   "execution_count": null,
   "id": "initial_id",
   "metadata": {
    "ExecuteTime": {
     "end_time": "2024-01-29T23:34:37.702605918Z",
     "start_time": "2024-01-29T23:34:37.600478397Z"
    },
    "collapsed": true
   },
   "outputs": [],
   "source": [
    "import pandas as pd\n",
    "\n",
    "df = pd.read_excel('SIB-200 languages - ACL.xlsx')\n",
    "df"
   ]
  },
  {
   "cell_type": "code",
   "execution_count": null,
   "id": "9ec085e302f81484",
   "metadata": {
    "ExecuteTime": {
     "end_time": "2024-01-29T23:34:38.323858310Z",
     "start_time": "2024-01-29T23:34:38.273879658Z"
    },
    "collapsed": false
   },
   "outputs": [],
   "source": [
    "import pandas as pd\n",
    "\n",
    "model_params = {\n",
    "    'xglm-564M': 564,\n",
    "    'xglm-1.7B': 1700,\n",
    "    'xglm-2.9B': 2900,\n",
    "    'xglm-7.5B': 7500,\n",
    "    'bloom-560M': 560,\n",
    "    'bloom-1b1': 1100,\n",
    "    'bloom-1b7': 1700,\n",
    "    'bloom-3b': 3000,\n",
    "    'bloom-7b1': 7100,\n",
    "    'bloomz-560M': 560,\n",
    "    'bloomz-1b1': 1100,\n",
    "    'bloomz-1b7': 1700,\n",
    "    'bloomz-3b': 3000,\n",
    "    'bloomz-7b1': 7100\n",
    "}\n",
    "\n",
    "# Function to extract model name from the 'Model' column\n",
    "def extract_model_name(model_string):\n",
    "    return model_string.split()[1]  # Assuming model name is always the second part\n",
    "\n",
    "# Function to get number of parameters for a given model name\n",
    "def get_params(model_name):\n",
    "    return model_params.get(model_name, 0)  # Return 0 if model name not found in dictionary\n",
    "\n",
    "# Select relevant columns for analysis\n",
    "columns_to_plot = ['Language Name', 'Language Family', 'Script (ISO 15924)', 'Resource Level', 'Population', 'Language Vitality', 'Digital Language Support', \n",
    "                   'Bloom Train Data Percentage', 'BLOOMZ Finetune Data', 'XGLM Train Percentage'] + list(df.columns[15:])\n",
    "\n",
    "# Melt the DataFrame to make it suitable for plotting\n",
    "melted_df = pd.melt(df, id_vars=columns_to_plot[:10], value_vars=columns_to_plot[9:],\n",
    "                    var_name='Model', value_name='F1 Score')\n",
    "melted_df['Num_Params'] = melted_df['Model'].apply(extract_model_name).apply(get_params)\n",
    "melted_df"
   ]
  },
  {
   "cell_type": "code",
   "execution_count": null,
   "id": "ef17e461ca40af21",
   "metadata": {
    "ExecuteTime": {
     "end_time": "2024-01-29T23:34:40.268039689Z",
     "start_time": "2024-01-29T23:34:40.262890300Z"
    },
    "collapsed": false
   },
   "outputs": [],
   "source": [
    "import plotly.io as pio\n",
    "pio.renderers.default = 'vscode'"
   ]
  },
  {
   "cell_type": "code",
   "execution_count": null,
   "id": "57ebb0144cf30395",
   "metadata": {
    "ExecuteTime": {
     "end_time": "2024-01-29T23:34:41.517380121Z",
     "start_time": "2024-01-29T23:34:41.498081016Z"
    },
    "collapsed": false
   },
   "outputs": [],
   "source": [
    "from functools import reduce\n",
    "import operator\n",
    "import plotly.graph_objects as go\n",
    "from plotly.subplots import make_subplots\n",
    "import plotly.express as px\n",
    "\n",
    "def filter_df(melted_df: pd.DataFrame, filter_column: str = None, value: str = None, only_bloom: bool = False, only_bloomz: bool = False, only_xglm : bool = False) -> pd.DataFrame:\n",
    "    conditions = []  # Initialize an empty list to store conditions\n",
    "    if filter_column is not None and value is not None:\n",
    "        conditions.append(melted_df[filter_column] == value)\n",
    "    if only_bloom:\n",
    "        conditions.append(melted_df['Bloom Train Data Percentage'] > 0)\n",
    "    if only_bloomz:\n",
    "        conditions.append(melted_df['BLOOMZ Finetune Data'] > 0)\n",
    "    if only_xglm:\n",
    "        conditions.append(melted_df['XGLM Train Percentage'] > 0)\n",
    "\n",
    "    # If no conditions were added, return the original DataFrame\n",
    "    if not conditions:\n",
    "        return melted_df\n",
    "\n",
    "    # Use reduce with the logical AND operator to combine conditions\n",
    "    combined_conditions = reduce(operator.and_, conditions)\n",
    "\n",
    "    return melted_df[combined_conditions]\n",
    "\n",
    "def generate_box(melted_df, filter_column, value, only_bloomz, only_bloom, only_xglm):\n",
    "    filtered_df = filter_df(melted_df, filter_column, value, only_bloom=only_bloom, only_bloomz=only_bloomz, only_xglm=only_gxlm)\n",
    "    unique_models = ['Bloom', 'Bloomz', 'XGLM']\n",
    "\n",
    "    # Create subplots\n",
    "    fig = make_subplots(rows=1, cols=len(unique_models), shared_yaxes=True,\n",
    "                        subplot_titles=unique_models)\n",
    "\n",
    "    # Iterate through each unique model\n",
    "    for i, model_name in enumerate(unique_models):\n",
    "        model_data = filtered_df[filtered_df['Model'].str.startswith(\"F1 \" + model_name.lower() + '-')]\n",
    "        fig.add_trace(go.Box(x=model_data['Model'], y=model_data['F1 Score'], name=model_name), row=1, col=i+1)\n",
    "\n",
    "    # Update layout\n",
    "    if filter is None:\n",
    "        title = f'Box Plot for F1 Scores (Filter: None, Only Bloomz = {only_bloomz}, Only Bloom = {only_bloom}, Only XGLM = {only_xglm})'\n",
    "    else:\n",
    "        title = f'Box Plot for F1 Scores ({filter_column} = {value}, Only Bloomz = {only_bloomz}, Only Bloom = {only_bloom}, Only XGLM = {only_xglm})'\n",
    "    fig.update_layout(title=title,\n",
    "                      xaxis_title='Model',\n",
    "                      yaxis_title='F1 Score',\n",
    "                      showlegend=False,\n",
    "                      height=600)\n",
    "\n",
    "    # Show plot\n",
    "    fig.show()\n",
    "\n",
    "def generate_polar_plot(melted_df, filter_column, model_name, value, only_bloom, only_bloomz, only_xglm):\n",
    "    filtered_df = filter_df(melted_df, filter_column, value, only_bloom, only_bloom, only_xglm)\n",
    "    model_data = filtered_df[filtered_df['Model'].str.startswith(\"F1 \" + model_name.lower() + '-')]\n",
    "    fig = px.line_polar(model_data, r='F1 Score', theta='Language Name', line_close=True,\n",
    "                        color='Model', title=f'Radar Chart for F1 Scores for {model_name} ({filter_column} = {value}, Only Bloomz = {only_bloomz}, Only Bloom = {only_bloom}, Only XGLM = {only_xglm})',\n",
    "                        height=600, width=800)\n",
    "    fig.show()\n",
    "    \n",
    "def genetate_line(melted_df, filter_column, value, only_bloom, only_bloomz, only_xglm):\n",
    "    # Filter the dataframe\n",
    "    filtered_df = filter_df(melted_df, filter_column, value, only_bloom, only_bloomz, only_xglm)\n",
    "    \n",
    "    # Filter data for the specific model\n",
    "    unique_models = ['Bloom', 'Bloomz', 'XGLM']\n",
    "    \n",
    "    # Create an empty figure\n",
    "    fig = px.line()\n",
    "    \n",
    "    # Define a color map for each model\n",
    "    color_map = {'Bloom': 'red', 'Bloomz': 'blue', 'XGLM': 'green'}\n",
    "    \n",
    "    for model_name in unique_models:\n",
    "        model_data = filtered_df[filtered_df['Model'].str.startswith(\"F1 \" + model_name.lower() + '-')]\n",
    "    \n",
    "        # Add model_name as a column\n",
    "        model_data['model_name'] = model_name\n",
    "    \n",
    "        # Calculate mean F1 score and variance for each unique value of Num_Params and Model\n",
    "        mean_data = model_data.groupby(['Num_Params', 'model_name'])['F1 Score'].mean().reset_index()\n",
    "        variance_data = model_data.groupby(['Num_Params', 'model_name'])['F1 Score'].var().reset_index()\n",
    "    \n",
    "        # Add a trace for each model with a specified color and error bars representing variance\n",
    "        fig.add_trace(px.line(mean_data, x='Num_Params', y='F1 Score', hover_name='model_name').update_traces(\n",
    "            line=dict(color=color_map[model_name]), error_y=dict(array=variance_data['F1 Score'])).data[0])\n",
    "    \n",
    "    # Update layout\n",
    "    fig.update_layout(title=f'Line Plot for Mean F1 Scores with Variance (Filter: {filter_column} = {value}, Only Bloomz = {only_bloomz}, Only Bloom = {only_bloom}, Only XGLM = {only_xglm})',\n",
    "                      xaxis_title='Number of Parameters',\n",
    "                      yaxis_title='Mean F1 Score',\n",
    "                      showlegend=True,\n",
    "                      height=600)\n",
    "    fig.show()"
   ]
  },
  {
   "cell_type": "code",
   "execution_count": null,
   "id": "7b134b16acb3e38a",
   "metadata": {
    "ExecuteTime": {
     "end_time": "2024-01-29T23:34:44.982984693Z",
     "start_time": "2024-01-29T23:34:44.928240404Z"
    },
    "collapsed": false
   },
   "outputs": [],
   "source": [
    "only_bloom = False\n",
    "only_bloomz = False\n",
    "only_gxlm = False\n",
    "\n",
    "# we can filter based on 'Language Family', 'Script (ISO 15924)', 'Resource Level', 'Population', 'Language Vitality', 'Digital Language Support'.\n",
    "filter_column = None\n",
    "value = None\n",
    "\n",
    "if filter_column is None:\n",
    "    generate_box(melted_df, filter_column, value, only_bloomz, only_bloom, only_gxlm)\n",
    "elif value != None:\n",
    "    generate_box(melted_df, filter_column, value, only_bloomz, only_bloom, only_gxlm)\n",
    "else:\n",
    "    for value in df[filter_column].unique():\n",
    "        generate_box(melted_df, filter_column, value, only_bloomz, only_bloom, only_gxlm)"
   ]
  },
  {
   "cell_type": "code",
   "execution_count": null,
   "id": "198e222b413bc0aa",
   "metadata": {
    "ExecuteTime": {
     "end_time": "2024-01-29T22:28:42.056820847Z",
     "start_time": "2024-01-29T22:28:41.812307533Z"
    },
    "collapsed": false
   },
   "outputs": [],
   "source": [
    "import warnings\n",
    "\n",
    "warnings.filterwarnings('ignore')\n",
    "\n",
    "only_bloomz = False\n",
    "only_bloom = False\n",
    "only_xglm = False\n",
    "\n",
    "# we can filter based on 'Language Family', 'Script (ISO 15924)', 'Resource Level', 'Population', 'Language Vitality', 'Digital Language Support'.\n",
    "model_name = 'XGLM'\n",
    "filter_column = 'Resource Level'\n",
    "value = None\n",
    "\n",
    "if filter_column is None:\n",
    "    generate_polar_plot(melted_df, filter_column, model_name, value, only_bloom, only_bloomz, only_xglm)\n",
    "elif value != None:\n",
    "    generate_polar_plot(melted_df, filter_column, model_name, value, only_bloom, only_bloomz, only_xglm)\n",
    "else:\n",
    "    for value in df[filter_column].unique():\n",
    "        generate_polar_plot(melted_df, filter_column, model_name, value, only_bloom, only_bloomz, only_gxlm)\n"
   ]
  },
  {
   "cell_type": "code",
   "execution_count": null,
   "id": "addb828027a4abb1",
   "metadata": {
    "ExecuteTime": {
     "end_time": "2024-01-29T23:48:38.630576032Z",
     "start_time": "2024-01-29T23:48:38.471307122Z"
    },
    "collapsed": false
   },
   "outputs": [],
   "source": [
    "import plotly.express as px\n",
    "\n",
    "only_bloomz = True\n",
    "only_bloom = False\n",
    "only_xglm = False\n",
    "\n",
    "filter_column = None\n",
    "value = None\n",
    "\n",
    "if filter_column is None:\n",
    "    genetate_line(melted_df, filter_column, value, only_bloom, only_bloomz, only_xglm)\n",
    "elif value != None:\n",
    "    genetate_line(melted_df, filter_column, value, only_bloom, only_bloomz, only_xglm)\n",
    "else:\n",
    "    for value in df[filter_column].unique():\n",
    "        genetate_line(melted_df, filter_column, value, only_bloom, only_bloomz, only_xglm)"
   ]
  },
  {
   "cell_type": "code",
   "execution_count": null,
   "id": "2d96813825f6a160",
   "metadata": {
    "ExecuteTime": {
     "end_time": "2024-01-29T23:48:40.958158440Z",
     "start_time": "2024-01-29T23:48:40.852967059Z"
    },
    "collapsed": false
   },
   "outputs": [],
   "source": [
    "import plotly.express as px\n",
    "\n",
    "only_bloomz = False\n",
    "only_bloom = False\n",
    "only_xglm = False\n",
    "\n",
    "filter_column = None\n",
    "value = None\n",
    "\n",
    "if filter_column is None:\n",
    "    genetate_line(melted_df, filter_column, value, only_bloom, only_bloomz, only_xglm)\n",
    "elif value != None:\n",
    "    genetate_line(melted_df, filter_column, value, only_bloom, only_bloomz, only_xglm)\n",
    "else:\n",
    "    for value in df[filter_column].unique():\n",
    "        genetate_line(melted_df, filter_column, value, only_bloom, only_bloomz, only_xglm)"
   ]
  },
  {
   "cell_type": "code",
   "execution_count": null,
   "id": "2a99d91d0b13af80",
   "metadata": {
    "ExecuteTime": {
     "end_time": "2024-01-29T23:59:06.885696554Z",
     "start_time": "2024-01-29T23:59:06.837513686Z"
    },
    "collapsed": false
   },
   "outputs": [],
   "source": [
    "import plotly.figure_factory as ff\n",
    "import pandas as pd\n",
    "\n",
    "only_bloomz = False\n",
    "only_bloom = True\n",
    "only_xglm = False\n",
    "\n",
    "filter_column = 'Resource Level'\n",
    "value = 5\n",
    "\n",
    "model_name = 'Bloom'\n",
    "\n",
    "# Filter the dataframe\n",
    "filtered_df = filter_df(melted_df, filter_column, value, only_bloom, only_bloomz, only_xglm)\n",
    "model_data = filtered_df[filtered_df['Model'].str.startswith(\"F1 \" + model_name.lower() + '-')]\n",
    "\n",
    "# Calculate correlation matrix\n",
    "correlation_matrix = model_data.corr()\n",
    "\n",
    "# Create annotated heatmap\n",
    "fig = ff.create_annotated_heatmap(z=correlation_matrix.values,\n",
    "                                  x=correlation_matrix.columns.tolist(),\n",
    "                                  y=correlation_matrix.index.tolist(),\n",
    "                                  colorscale='Viridis',\n",
    "                                  annotation_text=correlation_matrix.round(2).values,\n",
    "                                  showscale=True)\n",
    "\n",
    "# Set title\n",
    "fig.update_layout(title_text=f'Correlation Matrix of {model_name}')\n",
    "\n",
    "# Show the plot\n",
    "fig.show()"
   ]
  },
  {
   "cell_type": "code",
   "execution_count": null,
   "id": "8c0c0cbdeac29c3f",
   "metadata": {
    "collapsed": false
   },
   "outputs": [],
   "source": []
  }
 ],
 "metadata": {
  "kernelspec": {
   "display_name": "Python 3",
   "language": "python",
   "name": "python3"
  },
  "language_info": {
   "codemirror_mode": {
    "name": "ipython",
    "version": 3
   },
   "file_extension": ".py",
   "mimetype": "text/x-python",
   "name": "python",
   "nbconvert_exporter": "python",
   "pygments_lexer": "ipython3",
   "version": "3.11.4"
  }
 },
 "nbformat": 4,
 "nbformat_minor": 5
}
