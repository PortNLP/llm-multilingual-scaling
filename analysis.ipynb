{
 "cells": [
  {
   "cell_type": "code",
   "execution_count": 103,
   "id": "initial_id",
   "metadata": {
    "collapsed": true,
    "ExecuteTime": {
     "end_time": "2024-01-29T23:34:37.702605918Z",
     "start_time": "2024-01-29T23:34:37.600478397Z"
    }
   },
   "outputs": [
    {
     "data": {
      "text/plain": "    Folder Name                 Language Name ISO 639 - 1 ISO 639 - 2 (B)  \\\n0      ace_Arab                          Aceh         NaN             ace   \n1      ace_Latn                          Aceh         NaN             ace   \n2      acm_Arab    Mesopotamian Spoken Arabic         NaN             NaN   \n3      acq_Arab  Arabic, Ta’izzi-Adeni Spoken         NaN             NaN   \n4      aeb_Arab        Tunisian Spoken Arabic         NaN             NaN   \n..          ...                           ...         ...             ...   \n199    yue_Hant                   Yue Chinese         NaN             NaN   \n200    zho_Hans                       Chinese          zh             chi   \n201    zho_Hant                       Chinese          zh             chi   \n202    zsm_Latn                Standard Malay          ms             NaN   \n203    zul_Latn                          Zulu          zu             zul   \n\n    ISO 639 - 2 (T) ISO 639 - 3 Script (ISO 15924) Language Family  \\\n0               ace         ace               Arab    Austronesian   \n1               ace         ace               Latn    Austronesian   \n2               NaN         acm               Arab    Afro-Asiatic   \n3               NaN         acq               Arab    Afro-Asiatic   \n4               NaN         aeb               Arab    Afro-Asiatic   \n..              ...         ...                ...             ...   \n199             NaN         yue               Hant    Sino-Tibetan   \n200             zho         zho               Hans    Sino-Tibetan   \n201             zho         zho               Hant    Sino-Tibetan   \n202             NaN         zsm               Latn    Austronesian   \n203             zul         zul               Latn     Niger-Congo   \n\n                 Population Language Vitality  ... F1 bloom-560M top_logprobs  \\\n0    1 million to 1 billion        Endangered  ...                   0.107849   \n1    1 million to 1 billion        Endangered  ...                   0.342138   \n2    1 million to 1 billion     Institutional  ...                   0.278445   \n3    1 million to 1 billion     Institutional  ...                   0.284537   \n4    1 million to 1 billion     Institutional  ...                   0.246542   \n..                      ...               ...  ...                        ...   \n199  1 million to 1 billion     Institutional  ...                   0.470718   \n200          1 billion plus     Institutional  ...                   0.575235   \n201          1 billion plus     Institutional  ...                   0.499104   \n202                    None     Institutional  ...                   0.379750   \n203  1 million to 1 billion     Institutional  ...                   0.113258   \n\n    F1 bloom-1b1 top_logprobs  F1 bloom-1b7 top_logprobs  \\\n0                    0.060857                   0.058200   \n1                    0.178062                   0.343913   \n2                    0.147609                   0.476331   \n3                    0.114834                   0.475256   \n4                    0.083677                   0.441795   \n..                        ...                        ...   \n199                  0.482206                   0.611877   \n200                  0.205650                   0.622164   \n201                  0.516944                   0.632183   \n202                  0.245707                   0.396761   \n203                  0.072342                   0.027937   \n\n     F1 bloom-3b top_logprobs  F1 bloom-7b1 top_logprobs  \\\n0                    0.079073                   0.141397   \n1                    0.245114                   0.286047   \n2                    0.280736                   0.477222   \n3                    0.255168                   0.479613   \n4                    0.288001                   0.492984   \n..                        ...                        ...   \n199                  0.418489                   0.600772   \n200                  0.520559                   0.617129   \n201                  0.407866                   0.595262   \n202                  0.219560                   0.412593   \n203                  0.101265                   0.045728   \n\n     F1 bloomz-560M generate  F1 bloomz-1b1 generate  F1 bloomz-1b7 generate  \\\n0                   0.105192                0.094892                0.114471   \n1                   0.352888                0.260779                0.262736   \n2                   0.459507                0.382058                0.335226   \n3                   0.460365                0.330938                0.353313   \n4                   0.455299                0.343693                0.315781   \n..                       ...                     ...                     ...   \n199                 0.344580                0.321814                0.366669   \n200                 0.327759                0.330228                0.391396   \n201                 0.337263                0.356543                0.376002   \n202                 0.392790                0.316372                0.298548   \n203                 0.247997                0.161390                0.244301   \n\n     F1 bloomz-3b generate  F1 bloomz-7b1 generate  \n0                 0.142853                0.102029  \n1                 0.335329                0.411151  \n2                 0.435668                0.491921  \n3                 0.453236                0.496479  \n4                 0.442202                0.466282  \n..                     ...                     ...  \n199               0.482894                0.499337  \n200               0.489759                0.508120  \n201               0.485621                0.520345  \n202               0.451145                0.495171  \n203               0.345928                0.408460  \n\n[204 rows x 29 columns]",
      "text/html": "<div>\n<style scoped>\n    .dataframe tbody tr th:only-of-type {\n        vertical-align: middle;\n    }\n\n    .dataframe tbody tr th {\n        vertical-align: top;\n    }\n\n    .dataframe thead th {\n        text-align: right;\n    }\n</style>\n<table border=\"1\" class=\"dataframe\">\n  <thead>\n    <tr style=\"text-align: right;\">\n      <th></th>\n      <th>Folder Name</th>\n      <th>Language Name</th>\n      <th>ISO 639 - 1</th>\n      <th>ISO 639 - 2 (B)</th>\n      <th>ISO 639 - 2 (T)</th>\n      <th>ISO 639 - 3</th>\n      <th>Script (ISO 15924)</th>\n      <th>Language Family</th>\n      <th>Population</th>\n      <th>Language Vitality</th>\n      <th>...</th>\n      <th>F1 bloom-560M top_logprobs</th>\n      <th>F1 bloom-1b1 top_logprobs</th>\n      <th>F1 bloom-1b7 top_logprobs</th>\n      <th>F1 bloom-3b top_logprobs</th>\n      <th>F1 bloom-7b1 top_logprobs</th>\n      <th>F1 bloomz-560M generate</th>\n      <th>F1 bloomz-1b1 generate</th>\n      <th>F1 bloomz-1b7 generate</th>\n      <th>F1 bloomz-3b generate</th>\n      <th>F1 bloomz-7b1 generate</th>\n    </tr>\n  </thead>\n  <tbody>\n    <tr>\n      <th>0</th>\n      <td>ace_Arab</td>\n      <td>Aceh</td>\n      <td>NaN</td>\n      <td>ace</td>\n      <td>ace</td>\n      <td>ace</td>\n      <td>Arab</td>\n      <td>Austronesian</td>\n      <td>1 million to 1 billion</td>\n      <td>Endangered</td>\n      <td>...</td>\n      <td>0.107849</td>\n      <td>0.060857</td>\n      <td>0.058200</td>\n      <td>0.079073</td>\n      <td>0.141397</td>\n      <td>0.105192</td>\n      <td>0.094892</td>\n      <td>0.114471</td>\n      <td>0.142853</td>\n      <td>0.102029</td>\n    </tr>\n    <tr>\n      <th>1</th>\n      <td>ace_Latn</td>\n      <td>Aceh</td>\n      <td>NaN</td>\n      <td>ace</td>\n      <td>ace</td>\n      <td>ace</td>\n      <td>Latn</td>\n      <td>Austronesian</td>\n      <td>1 million to 1 billion</td>\n      <td>Endangered</td>\n      <td>...</td>\n      <td>0.342138</td>\n      <td>0.178062</td>\n      <td>0.343913</td>\n      <td>0.245114</td>\n      <td>0.286047</td>\n      <td>0.352888</td>\n      <td>0.260779</td>\n      <td>0.262736</td>\n      <td>0.335329</td>\n      <td>0.411151</td>\n    </tr>\n    <tr>\n      <th>2</th>\n      <td>acm_Arab</td>\n      <td>Mesopotamian Spoken Arabic</td>\n      <td>NaN</td>\n      <td>NaN</td>\n      <td>NaN</td>\n      <td>acm</td>\n      <td>Arab</td>\n      <td>Afro-Asiatic</td>\n      <td>1 million to 1 billion</td>\n      <td>Institutional</td>\n      <td>...</td>\n      <td>0.278445</td>\n      <td>0.147609</td>\n      <td>0.476331</td>\n      <td>0.280736</td>\n      <td>0.477222</td>\n      <td>0.459507</td>\n      <td>0.382058</td>\n      <td>0.335226</td>\n      <td>0.435668</td>\n      <td>0.491921</td>\n    </tr>\n    <tr>\n      <th>3</th>\n      <td>acq_Arab</td>\n      <td>Arabic, Ta’izzi-Adeni Spoken</td>\n      <td>NaN</td>\n      <td>NaN</td>\n      <td>NaN</td>\n      <td>acq</td>\n      <td>Arab</td>\n      <td>Afro-Asiatic</td>\n      <td>1 million to 1 billion</td>\n      <td>Institutional</td>\n      <td>...</td>\n      <td>0.284537</td>\n      <td>0.114834</td>\n      <td>0.475256</td>\n      <td>0.255168</td>\n      <td>0.479613</td>\n      <td>0.460365</td>\n      <td>0.330938</td>\n      <td>0.353313</td>\n      <td>0.453236</td>\n      <td>0.496479</td>\n    </tr>\n    <tr>\n      <th>4</th>\n      <td>aeb_Arab</td>\n      <td>Tunisian Spoken Arabic</td>\n      <td>NaN</td>\n      <td>NaN</td>\n      <td>NaN</td>\n      <td>aeb</td>\n      <td>Arab</td>\n      <td>Afro-Asiatic</td>\n      <td>1 million to 1 billion</td>\n      <td>Institutional</td>\n      <td>...</td>\n      <td>0.246542</td>\n      <td>0.083677</td>\n      <td>0.441795</td>\n      <td>0.288001</td>\n      <td>0.492984</td>\n      <td>0.455299</td>\n      <td>0.343693</td>\n      <td>0.315781</td>\n      <td>0.442202</td>\n      <td>0.466282</td>\n    </tr>\n    <tr>\n      <th>...</th>\n      <td>...</td>\n      <td>...</td>\n      <td>...</td>\n      <td>...</td>\n      <td>...</td>\n      <td>...</td>\n      <td>...</td>\n      <td>...</td>\n      <td>...</td>\n      <td>...</td>\n      <td>...</td>\n      <td>...</td>\n      <td>...</td>\n      <td>...</td>\n      <td>...</td>\n      <td>...</td>\n      <td>...</td>\n      <td>...</td>\n      <td>...</td>\n      <td>...</td>\n      <td>...</td>\n    </tr>\n    <tr>\n      <th>199</th>\n      <td>yue_Hant</td>\n      <td>Yue Chinese</td>\n      <td>NaN</td>\n      <td>NaN</td>\n      <td>NaN</td>\n      <td>yue</td>\n      <td>Hant</td>\n      <td>Sino-Tibetan</td>\n      <td>1 million to 1 billion</td>\n      <td>Institutional</td>\n      <td>...</td>\n      <td>0.470718</td>\n      <td>0.482206</td>\n      <td>0.611877</td>\n      <td>0.418489</td>\n      <td>0.600772</td>\n      <td>0.344580</td>\n      <td>0.321814</td>\n      <td>0.366669</td>\n      <td>0.482894</td>\n      <td>0.499337</td>\n    </tr>\n    <tr>\n      <th>200</th>\n      <td>zho_Hans</td>\n      <td>Chinese</td>\n      <td>zh</td>\n      <td>chi</td>\n      <td>zho</td>\n      <td>zho</td>\n      <td>Hans</td>\n      <td>Sino-Tibetan</td>\n      <td>1 billion plus</td>\n      <td>Institutional</td>\n      <td>...</td>\n      <td>0.575235</td>\n      <td>0.205650</td>\n      <td>0.622164</td>\n      <td>0.520559</td>\n      <td>0.617129</td>\n      <td>0.327759</td>\n      <td>0.330228</td>\n      <td>0.391396</td>\n      <td>0.489759</td>\n      <td>0.508120</td>\n    </tr>\n    <tr>\n      <th>201</th>\n      <td>zho_Hant</td>\n      <td>Chinese</td>\n      <td>zh</td>\n      <td>chi</td>\n      <td>zho</td>\n      <td>zho</td>\n      <td>Hant</td>\n      <td>Sino-Tibetan</td>\n      <td>1 billion plus</td>\n      <td>Institutional</td>\n      <td>...</td>\n      <td>0.499104</td>\n      <td>0.516944</td>\n      <td>0.632183</td>\n      <td>0.407866</td>\n      <td>0.595262</td>\n      <td>0.337263</td>\n      <td>0.356543</td>\n      <td>0.376002</td>\n      <td>0.485621</td>\n      <td>0.520345</td>\n    </tr>\n    <tr>\n      <th>202</th>\n      <td>zsm_Latn</td>\n      <td>Standard Malay</td>\n      <td>ms</td>\n      <td>NaN</td>\n      <td>NaN</td>\n      <td>zsm</td>\n      <td>Latn</td>\n      <td>Austronesian</td>\n      <td>None</td>\n      <td>Institutional</td>\n      <td>...</td>\n      <td>0.379750</td>\n      <td>0.245707</td>\n      <td>0.396761</td>\n      <td>0.219560</td>\n      <td>0.412593</td>\n      <td>0.392790</td>\n      <td>0.316372</td>\n      <td>0.298548</td>\n      <td>0.451145</td>\n      <td>0.495171</td>\n    </tr>\n    <tr>\n      <th>203</th>\n      <td>zul_Latn</td>\n      <td>Zulu</td>\n      <td>zu</td>\n      <td>zul</td>\n      <td>zul</td>\n      <td>zul</td>\n      <td>Latn</td>\n      <td>Niger-Congo</td>\n      <td>1 million to 1 billion</td>\n      <td>Institutional</td>\n      <td>...</td>\n      <td>0.113258</td>\n      <td>0.072342</td>\n      <td>0.027937</td>\n      <td>0.101265</td>\n      <td>0.045728</td>\n      <td>0.247997</td>\n      <td>0.161390</td>\n      <td>0.244301</td>\n      <td>0.345928</td>\n      <td>0.408460</td>\n    </tr>\n  </tbody>\n</table>\n<p>204 rows × 29 columns</p>\n</div>"
     },
     "execution_count": 103,
     "metadata": {},
     "output_type": "execute_result"
    }
   ],
   "source": [
    "import pandas as pd\n",
    "\n",
    "df = pd.read_excel('SIB-200 languages - ACL.xlsx')\n",
    "df"
   ]
  },
  {
   "cell_type": "code",
   "execution_count": 104,
   "id": "9ec085e302f81484",
   "metadata": {
    "collapsed": false,
    "ExecuteTime": {
     "end_time": "2024-01-29T23:34:38.323858310Z",
     "start_time": "2024-01-29T23:34:38.273879658Z"
    }
   },
   "outputs": [
    {
     "data": {
      "text/plain": "                     Language Name Language Family Script (ISO 15924)  \\\n0                             Aceh    Austronesian               Arab   \n1                             Aceh    Austronesian               Latn   \n2       Mesopotamian Spoken Arabic    Afro-Asiatic               Arab   \n3     Arabic, Ta’izzi-Adeni Spoken    Afro-Asiatic               Arab   \n4           Tunisian Spoken Arabic    Afro-Asiatic               Arab   \n...                            ...             ...                ...   \n2851                   Yue Chinese    Sino-Tibetan               Hant   \n2852                       Chinese    Sino-Tibetan               Hans   \n2853                       Chinese    Sino-Tibetan               Hant   \n2854                Standard Malay    Austronesian               Latn   \n2855                          Zulu     Niger-Congo               Latn   \n\n     Resource Level              Population Language Vitality  \\\n0                 1  1 million to 1 billion        Endangered   \n1                 1  1 million to 1 billion        Endangered   \n2              None  1 million to 1 billion     Institutional   \n3              None  1 million to 1 billion     Institutional   \n4              None  1 million to 1 billion     Institutional   \n...             ...                     ...               ...   \n2851           None  1 million to 1 billion     Institutional   \n2852              5          1 billion plus     Institutional   \n2853              5          1 billion plus     Institutional   \n2854              3                    None     Institutional   \n2855              2  1 million to 1 billion     Institutional   \n\n     Digital Language Support  Bloom Train Data Percentage  \\\n0                   Ascending                          NaN   \n1                   Ascending                          NaN   \n2                    Emerging                          NaN   \n3                    Emerging                          NaN   \n4                    Emerging                          NaN   \n...                       ...                          ...   \n2851                    Vital                          NaN   \n2852                 Thriving                       16.200   \n2853                 Thriving                        0.050   \n2854                    Vital                          NaN   \n2855                    Vital                        0.001   \n\n      BLOOMZ Finetune Data  XGLM Train Percentage                      Model  \\\n0                      NaN                    NaN  F1 xglm-564M top_logprobs   \n1                      NaN                    NaN  F1 xglm-564M top_logprobs   \n2                      NaN                    NaN  F1 xglm-564M top_logprobs   \n3                      NaN                    NaN  F1 xglm-564M top_logprobs   \n4                      NaN                    NaN  F1 xglm-564M top_logprobs   \n...                    ...                    ...                        ...   \n2851                   NaN                    NaN     F1 bloomz-7b1 generate   \n2852                  4.51                8.09494     F1 bloomz-7b1 generate   \n2853                   NaN                    NaN     F1 bloomz-7b1 generate   \n2854                   NaN                    NaN     F1 bloomz-7b1 generate   \n2855                  1.16                    NaN     F1 bloomz-7b1 generate   \n\n      F1 Score  Num_Params  \n0     0.171161         564  \n1     0.361237         564  \n2     0.465124         564  \n3     0.502488         564  \n4     0.507390         564  \n...        ...         ...  \n2851  0.499337        7100  \n2852  0.508120        7100  \n2853  0.520345        7100  \n2854  0.495171        7100  \n2855  0.408460        7100  \n\n[2856 rows x 13 columns]",
      "text/html": "<div>\n<style scoped>\n    .dataframe tbody tr th:only-of-type {\n        vertical-align: middle;\n    }\n\n    .dataframe tbody tr th {\n        vertical-align: top;\n    }\n\n    .dataframe thead th {\n        text-align: right;\n    }\n</style>\n<table border=\"1\" class=\"dataframe\">\n  <thead>\n    <tr style=\"text-align: right;\">\n      <th></th>\n      <th>Language Name</th>\n      <th>Language Family</th>\n      <th>Script (ISO 15924)</th>\n      <th>Resource Level</th>\n      <th>Population</th>\n      <th>Language Vitality</th>\n      <th>Digital Language Support</th>\n      <th>Bloom Train Data Percentage</th>\n      <th>BLOOMZ Finetune Data</th>\n      <th>XGLM Train Percentage</th>\n      <th>Model</th>\n      <th>F1 Score</th>\n      <th>Num_Params</th>\n    </tr>\n  </thead>\n  <tbody>\n    <tr>\n      <th>0</th>\n      <td>Aceh</td>\n      <td>Austronesian</td>\n      <td>Arab</td>\n      <td>1</td>\n      <td>1 million to 1 billion</td>\n      <td>Endangered</td>\n      <td>Ascending</td>\n      <td>NaN</td>\n      <td>NaN</td>\n      <td>NaN</td>\n      <td>F1 xglm-564M top_logprobs</td>\n      <td>0.171161</td>\n      <td>564</td>\n    </tr>\n    <tr>\n      <th>1</th>\n      <td>Aceh</td>\n      <td>Austronesian</td>\n      <td>Latn</td>\n      <td>1</td>\n      <td>1 million to 1 billion</td>\n      <td>Endangered</td>\n      <td>Ascending</td>\n      <td>NaN</td>\n      <td>NaN</td>\n      <td>NaN</td>\n      <td>F1 xglm-564M top_logprobs</td>\n      <td>0.361237</td>\n      <td>564</td>\n    </tr>\n    <tr>\n      <th>2</th>\n      <td>Mesopotamian Spoken Arabic</td>\n      <td>Afro-Asiatic</td>\n      <td>Arab</td>\n      <td>None</td>\n      <td>1 million to 1 billion</td>\n      <td>Institutional</td>\n      <td>Emerging</td>\n      <td>NaN</td>\n      <td>NaN</td>\n      <td>NaN</td>\n      <td>F1 xglm-564M top_logprobs</td>\n      <td>0.465124</td>\n      <td>564</td>\n    </tr>\n    <tr>\n      <th>3</th>\n      <td>Arabic, Ta’izzi-Adeni Spoken</td>\n      <td>Afro-Asiatic</td>\n      <td>Arab</td>\n      <td>None</td>\n      <td>1 million to 1 billion</td>\n      <td>Institutional</td>\n      <td>Emerging</td>\n      <td>NaN</td>\n      <td>NaN</td>\n      <td>NaN</td>\n      <td>F1 xglm-564M top_logprobs</td>\n      <td>0.502488</td>\n      <td>564</td>\n    </tr>\n    <tr>\n      <th>4</th>\n      <td>Tunisian Spoken Arabic</td>\n      <td>Afro-Asiatic</td>\n      <td>Arab</td>\n      <td>None</td>\n      <td>1 million to 1 billion</td>\n      <td>Institutional</td>\n      <td>Emerging</td>\n      <td>NaN</td>\n      <td>NaN</td>\n      <td>NaN</td>\n      <td>F1 xglm-564M top_logprobs</td>\n      <td>0.507390</td>\n      <td>564</td>\n    </tr>\n    <tr>\n      <th>...</th>\n      <td>...</td>\n      <td>...</td>\n      <td>...</td>\n      <td>...</td>\n      <td>...</td>\n      <td>...</td>\n      <td>...</td>\n      <td>...</td>\n      <td>...</td>\n      <td>...</td>\n      <td>...</td>\n      <td>...</td>\n      <td>...</td>\n    </tr>\n    <tr>\n      <th>2851</th>\n      <td>Yue Chinese</td>\n      <td>Sino-Tibetan</td>\n      <td>Hant</td>\n      <td>None</td>\n      <td>1 million to 1 billion</td>\n      <td>Institutional</td>\n      <td>Vital</td>\n      <td>NaN</td>\n      <td>NaN</td>\n      <td>NaN</td>\n      <td>F1 bloomz-7b1 generate</td>\n      <td>0.499337</td>\n      <td>7100</td>\n    </tr>\n    <tr>\n      <th>2852</th>\n      <td>Chinese</td>\n      <td>Sino-Tibetan</td>\n      <td>Hans</td>\n      <td>5</td>\n      <td>1 billion plus</td>\n      <td>Institutional</td>\n      <td>Thriving</td>\n      <td>16.200</td>\n      <td>4.51</td>\n      <td>8.09494</td>\n      <td>F1 bloomz-7b1 generate</td>\n      <td>0.508120</td>\n      <td>7100</td>\n    </tr>\n    <tr>\n      <th>2853</th>\n      <td>Chinese</td>\n      <td>Sino-Tibetan</td>\n      <td>Hant</td>\n      <td>5</td>\n      <td>1 billion plus</td>\n      <td>Institutional</td>\n      <td>Thriving</td>\n      <td>0.050</td>\n      <td>NaN</td>\n      <td>NaN</td>\n      <td>F1 bloomz-7b1 generate</td>\n      <td>0.520345</td>\n      <td>7100</td>\n    </tr>\n    <tr>\n      <th>2854</th>\n      <td>Standard Malay</td>\n      <td>Austronesian</td>\n      <td>Latn</td>\n      <td>3</td>\n      <td>None</td>\n      <td>Institutional</td>\n      <td>Vital</td>\n      <td>NaN</td>\n      <td>NaN</td>\n      <td>NaN</td>\n      <td>F1 bloomz-7b1 generate</td>\n      <td>0.495171</td>\n      <td>7100</td>\n    </tr>\n    <tr>\n      <th>2855</th>\n      <td>Zulu</td>\n      <td>Niger-Congo</td>\n      <td>Latn</td>\n      <td>2</td>\n      <td>1 million to 1 billion</td>\n      <td>Institutional</td>\n      <td>Vital</td>\n      <td>0.001</td>\n      <td>1.16</td>\n      <td>NaN</td>\n      <td>F1 bloomz-7b1 generate</td>\n      <td>0.408460</td>\n      <td>7100</td>\n    </tr>\n  </tbody>\n</table>\n<p>2856 rows × 13 columns</p>\n</div>"
     },
     "execution_count": 104,
     "metadata": {},
     "output_type": "execute_result"
    }
   ],
   "source": [
    "import pandas as pd\n",
    "\n",
    "model_params = {\n",
    "    'xglm-564M': 564,\n",
    "    'xglm-1.7B': 1700,\n",
    "    'xglm-2.9B': 2900,\n",
    "    'xglm-7.5B': 7500,\n",
    "    'bloom-560M': 560,\n",
    "    'bloom-1b1': 1100,\n",
    "    'bloom-1b7': 1700,\n",
    "    'bloom-3b': 3000,\n",
    "    'bloom-7b1': 7100,\n",
    "    'bloomz-560M': 560,\n",
    "    'bloomz-1b1': 1100,\n",
    "    'bloomz-1b7': 1700,\n",
    "    'bloomz-3b': 3000,\n",
    "    'bloomz-7b1': 7100\n",
    "}\n",
    "\n",
    "# Function to extract model name from the 'Model' column\n",
    "def extract_model_name(model_string):\n",
    "    return model_string.split()[1]  # Assuming model name is always the second part\n",
    "\n",
    "# Function to get number of parameters for a given model name\n",
    "def get_params(model_name):\n",
    "    return model_params.get(model_name, 0)  # Return 0 if model name not found in dictionary\n",
    "\n",
    "# Select relevant columns for analysis\n",
    "columns_to_plot = ['Language Name', 'Language Family', 'Script (ISO 15924)', 'Resource Level', 'Population', 'Language Vitality', 'Digital Language Support', \n",
    "                   'Bloom Train Data Percentage', 'BLOOMZ Finetune Data', 'XGLM Train Percentage'] + list(df.columns[15:])\n",
    "\n",
    "# Melt the DataFrame to make it suitable for plotting\n",
    "melted_df = pd.melt(df, id_vars=columns_to_plot[:10], value_vars=columns_to_plot[9:],\n",
    "                    var_name='Model', value_name='F1 Score')\n",
    "melted_df['Num_Params'] = melted_df['Model'].apply(extract_model_name).apply(get_params)\n",
    "melted_df"
   ]
  },
  {
   "cell_type": "code",
   "execution_count": 105,
   "id": "ef17e461ca40af21",
   "metadata": {
    "collapsed": false,
    "ExecuteTime": {
     "end_time": "2024-01-29T23:34:40.268039689Z",
     "start_time": "2024-01-29T23:34:40.262890300Z"
    }
   },
   "outputs": [],
   "source": [
    "import plotly.io as pio\n",
    "pio.renderers.default = 'vscode'"
   ]
  },
  {
   "cell_type": "code",
   "execution_count": 106,
   "id": "57ebb0144cf30395",
   "metadata": {
    "collapsed": false,
    "ExecuteTime": {
     "end_time": "2024-01-29T23:34:41.517380121Z",
     "start_time": "2024-01-29T23:34:41.498081016Z"
    }
   },
   "outputs": [],
   "source": [
    "from functools import reduce\n",
    "import operator\n",
    "import plotly.graph_objects as go\n",
    "from plotly.subplots import make_subplots\n",
    "import plotly.express as px\n",
    "\n",
    "def filter_df(melted_df: pd.DataFrame, filter_column: str = None, value: str = None, only_bloom: bool = False, only_bloomz: bool = False, only_xglm : bool = False) -> pd.DataFrame:\n",
    "    conditions = []  # Initialize an empty list to store conditions\n",
    "    if filter_column is not None and value is not None:\n",
    "        conditions.append(melted_df[filter_column] == value)\n",
    "    if only_bloom:\n",
    "        conditions.append(melted_df['Bloom Train Data Percentage'] > 0)\n",
    "    if only_bloomz:\n",
    "        conditions.append(melted_df['BLOOMZ Finetune Data'] > 0)\n",
    "    if only_xglm:\n",
    "        conditions.append(melted_df['XGLM Train Percentage'] > 0)\n",
    "\n",
    "    # If no conditions were added, return the original DataFrame\n",
    "    if not conditions:\n",
    "        return melted_df\n",
    "\n",
    "    # Use reduce with the logical AND operator to combine conditions\n",
    "    combined_conditions = reduce(operator.and_, conditions)\n",
    "\n",
    "    return melted_df[combined_conditions]\n",
    "\n",
    "def generate_box(melted_df, filter_column, value, only_bloomz, only_bloom, only_xglm):\n",
    "    filtered_df = filter_df(melted_df, filter_column, value, only_bloom=only_bloom, only_bloomz=only_bloomz, only_xglm=only_gxlm)\n",
    "    unique_models = ['Bloom', 'Bloomz', 'XGLM']\n",
    "\n",
    "    # Create subplots\n",
    "    fig = make_subplots(rows=1, cols=len(unique_models), shared_yaxes=True,\n",
    "                        subplot_titles=unique_models)\n",
    "\n",
    "    # Iterate through each unique model\n",
    "    for i, model_name in enumerate(unique_models):\n",
    "        model_data = filtered_df[filtered_df['Model'].str.startswith(\"F1 \" + model_name.lower() + '-')]\n",
    "        fig.add_trace(go.Box(x=model_data['Model'], y=model_data['F1 Score'], name=model_name), row=1, col=i+1)\n",
    "\n",
    "    # Update layout\n",
    "    if filter is None:\n",
    "        title = f'Box Plot for F1 Scores (Filter: None, Only Bloomz = {only_bloomz}, Only Bloom = {only_bloom}, Only XGLM = {only_xglm})'\n",
    "    else:\n",
    "        title = f'Box Plot for F1 Scores ({filter_column} = {value}, Only Bloomz = {only_bloomz}, Only Bloom = {only_bloom}, Only XGLM = {only_xglm})'\n",
    "    fig.update_layout(title=title,\n",
    "                      xaxis_title='Model',\n",
    "                      yaxis_title='F1 Score',\n",
    "                      showlegend=False,\n",
    "                      height=600)\n",
    "\n",
    "    # Show plot\n",
    "    fig.show()\n",
    "\n",
    "def generate_polar_plot(melted_df, filter_column, model_name, value, only_bloom, only_bloomz, only_xglm):\n",
    "    filtered_df = filter_df(melted_df, filter_column, value, only_bloom, only_bloom, only_xglm)\n",
    "    model_data = filtered_df[filtered_df['Model'].str.startswith(\"F1 \" + model_name.lower() + '-')]\n",
    "    fig = px.line_polar(model_data, r='F1 Score', theta='Language Name', line_close=True,\n",
    "                        color='Model', title=f'Radar Chart for F1 Scores for {model_name} ({filter_column} = {value}, Only Bloomz = {only_bloomz}, Only Bloom = {only_bloom}, Only XGLM = {only_xglm})',\n",
    "                        height=600, width=800)\n",
    "    fig.show()\n",
    "    \n",
    "def genetate_line(melted_df, filter_column, value, only_bloom, only_bloomz, only_xglm):\n",
    "    # Filter the dataframe\n",
    "    filtered_df = filter_df(melted_df, filter_column, value, only_bloom, only_bloomz, only_xglm)\n",
    "    \n",
    "    # Filter data for the specific model\n",
    "    unique_models = ['Bloom', 'Bloomz', 'XGLM']\n",
    "    \n",
    "    # Create an empty figure\n",
    "    fig = px.line()\n",
    "    \n",
    "    # Define a color map for each model\n",
    "    color_map = {'Bloom': 'red', 'Bloomz': 'blue', 'XGLM': 'green'}\n",
    "    \n",
    "    for model_name in unique_models:\n",
    "        model_data = filtered_df[filtered_df['Model'].str.startswith(\"F1 \" + model_name.lower() + '-')]\n",
    "    \n",
    "        # Add model_name as a column\n",
    "        model_data['model_name'] = model_name\n",
    "    \n",
    "        # Calculate mean F1 score and variance for each unique value of Num_Params and Model\n",
    "        mean_data = model_data.groupby(['Num_Params', 'model_name'])['F1 Score'].mean().reset_index()\n",
    "        variance_data = model_data.groupby(['Num_Params', 'model_name'])['F1 Score'].var().reset_index()\n",
    "    \n",
    "        # Add a trace for each model with a specified color and error bars representing variance\n",
    "        fig.add_trace(px.line(mean_data, x='Num_Params', y='F1 Score', hover_name='model_name').update_traces(\n",
    "            line=dict(color=color_map[model_name]), error_y=dict(array=variance_data['F1 Score'])).data[0])\n",
    "    \n",
    "    # Update layout\n",
    "    fig.update_layout(title=f'Line Plot for Mean F1 Scores with Variance (Filter: {filter_column} = {value}, Only Bloomz = {only_bloomz}, Only Bloom = {only_bloom}, Only XGLM = {only_xglm})',\n",
    "                      xaxis_title='Number of Parameters',\n",
    "                      yaxis_title='Mean F1 Score',\n",
    "                      showlegend=True,\n",
    "                      height=600)\n",
    "    fig.show()"
   ]
  },
  {
   "cell_type": "code",
   "outputs": [
    {
     "data": {
      "application/vnd.plotly.v1+json": {
       "data": [
        {
         "name": "Bloom",
         "x": [
          "F1 bloom-560M top_logprobs",
          "F1 bloom-560M top_logprobs",
          "F1 bloom-560M top_logprobs",
          "F1 bloom-560M top_logprobs",
          "F1 bloom-560M top_logprobs",
          "F1 bloom-560M top_logprobs",
          "F1 bloom-560M top_logprobs",
          "F1 bloom-560M top_logprobs",
          "F1 bloom-560M top_logprobs",
          "F1 bloom-560M top_logprobs",
          "F1 bloom-560M top_logprobs",
          "F1 bloom-560M top_logprobs",
          "F1 bloom-560M top_logprobs",
          "F1 bloom-560M top_logprobs",
          "F1 bloom-560M top_logprobs",
          "F1 bloom-560M top_logprobs",
          "F1 bloom-560M top_logprobs",
          "F1 bloom-560M top_logprobs",
          "F1 bloom-560M top_logprobs",
          "F1 bloom-560M top_logprobs",
          "F1 bloom-560M top_logprobs",
          "F1 bloom-560M top_logprobs",
          "F1 bloom-560M top_logprobs",
          "F1 bloom-560M top_logprobs",
          "F1 bloom-560M top_logprobs",
          "F1 bloom-560M top_logprobs",
          "F1 bloom-560M top_logprobs",
          "F1 bloom-560M top_logprobs",
          "F1 bloom-560M top_logprobs",
          "F1 bloom-560M top_logprobs",
          "F1 bloom-560M top_logprobs",
          "F1 bloom-560M top_logprobs",
          "F1 bloom-560M top_logprobs",
          "F1 bloom-560M top_logprobs",
          "F1 bloom-560M top_logprobs",
          "F1 bloom-560M top_logprobs",
          "F1 bloom-560M top_logprobs",
          "F1 bloom-560M top_logprobs",
          "F1 bloom-560M top_logprobs",
          "F1 bloom-560M top_logprobs",
          "F1 bloom-560M top_logprobs",
          "F1 bloom-560M top_logprobs",
          "F1 bloom-560M top_logprobs",
          "F1 bloom-560M top_logprobs",
          "F1 bloom-560M top_logprobs",
          "F1 bloom-560M top_logprobs",
          "F1 bloom-560M top_logprobs",
          "F1 bloom-560M top_logprobs",
          "F1 bloom-560M top_logprobs",
          "F1 bloom-560M top_logprobs",
          "F1 bloom-560M top_logprobs",
          "F1 bloom-560M top_logprobs",
          "F1 bloom-560M top_logprobs",
          "F1 bloom-560M top_logprobs",
          "F1 bloom-560M top_logprobs",
          "F1 bloom-560M top_logprobs",
          "F1 bloom-560M top_logprobs",
          "F1 bloom-560M top_logprobs",
          "F1 bloom-560M top_logprobs",
          "F1 bloom-560M top_logprobs",
          "F1 bloom-560M top_logprobs",
          "F1 bloom-560M top_logprobs",
          "F1 bloom-560M top_logprobs",
          "F1 bloom-560M top_logprobs",
          "F1 bloom-560M top_logprobs",
          "F1 bloom-560M top_logprobs",
          "F1 bloom-560M top_logprobs",
          "F1 bloom-560M top_logprobs",
          "F1 bloom-560M top_logprobs",
          "F1 bloom-560M top_logprobs",
          "F1 bloom-560M top_logprobs",
          "F1 bloom-560M top_logprobs",
          "F1 bloom-560M top_logprobs",
          "F1 bloom-560M top_logprobs",
          "F1 bloom-560M top_logprobs",
          "F1 bloom-560M top_logprobs",
          "F1 bloom-560M top_logprobs",
          "F1 bloom-560M top_logprobs",
          "F1 bloom-560M top_logprobs",
          "F1 bloom-560M top_logprobs",
          "F1 bloom-560M top_logprobs",
          "F1 bloom-560M top_logprobs",
          "F1 bloom-560M top_logprobs",
          "F1 bloom-560M top_logprobs",
          "F1 bloom-560M top_logprobs",
          "F1 bloom-560M top_logprobs",
          "F1 bloom-560M top_logprobs",
          "F1 bloom-560M top_logprobs",
          "F1 bloom-560M top_logprobs",
          "F1 bloom-560M top_logprobs",
          "F1 bloom-560M top_logprobs",
          "F1 bloom-560M top_logprobs",
          "F1 bloom-560M top_logprobs",
          "F1 bloom-560M top_logprobs",
          "F1 bloom-560M top_logprobs",
          "F1 bloom-560M top_logprobs",
          "F1 bloom-560M top_logprobs",
          "F1 bloom-560M top_logprobs",
          "F1 bloom-560M top_logprobs",
          "F1 bloom-560M top_logprobs",
          "F1 bloom-560M top_logprobs",
          "F1 bloom-560M top_logprobs",
          "F1 bloom-560M top_logprobs",
          "F1 bloom-560M top_logprobs",
          "F1 bloom-560M top_logprobs",
          "F1 bloom-560M top_logprobs",
          "F1 bloom-560M top_logprobs",
          "F1 bloom-560M top_logprobs",
          "F1 bloom-560M top_logprobs",
          "F1 bloom-560M top_logprobs",
          "F1 bloom-560M top_logprobs",
          "F1 bloom-560M top_logprobs",
          "F1 bloom-560M top_logprobs",
          "F1 bloom-560M top_logprobs",
          "F1 bloom-560M top_logprobs",
          "F1 bloom-560M top_logprobs",
          "F1 bloom-560M top_logprobs",
          "F1 bloom-560M top_logprobs",
          "F1 bloom-560M top_logprobs",
          "F1 bloom-560M top_logprobs",
          "F1 bloom-560M top_logprobs",
          "F1 bloom-560M top_logprobs",
          "F1 bloom-560M top_logprobs",
          "F1 bloom-560M top_logprobs",
          "F1 bloom-560M top_logprobs",
          "F1 bloom-560M top_logprobs",
          "F1 bloom-560M top_logprobs",
          "F1 bloom-560M top_logprobs",
          "F1 bloom-560M top_logprobs",
          "F1 bloom-560M top_logprobs",
          "F1 bloom-560M top_logprobs",
          "F1 bloom-560M top_logprobs",
          "F1 bloom-560M top_logprobs",
          "F1 bloom-560M top_logprobs",
          "F1 bloom-560M top_logprobs",
          "F1 bloom-560M top_logprobs",
          "F1 bloom-560M top_logprobs",
          "F1 bloom-560M top_logprobs",
          "F1 bloom-560M top_logprobs",
          "F1 bloom-560M top_logprobs",
          "F1 bloom-560M top_logprobs",
          "F1 bloom-560M top_logprobs",
          "F1 bloom-560M top_logprobs",
          "F1 bloom-560M top_logprobs",
          "F1 bloom-560M top_logprobs",
          "F1 bloom-560M top_logprobs",
          "F1 bloom-560M top_logprobs",
          "F1 bloom-560M top_logprobs",
          "F1 bloom-560M top_logprobs",
          "F1 bloom-560M top_logprobs",
          "F1 bloom-560M top_logprobs",
          "F1 bloom-560M top_logprobs",
          "F1 bloom-560M top_logprobs",
          "F1 bloom-560M top_logprobs",
          "F1 bloom-560M top_logprobs",
          "F1 bloom-560M top_logprobs",
          "F1 bloom-560M top_logprobs",
          "F1 bloom-560M top_logprobs",
          "F1 bloom-560M top_logprobs",
          "F1 bloom-560M top_logprobs",
          "F1 bloom-560M top_logprobs",
          "F1 bloom-560M top_logprobs",
          "F1 bloom-560M top_logprobs",
          "F1 bloom-560M top_logprobs",
          "F1 bloom-560M top_logprobs",
          "F1 bloom-560M top_logprobs",
          "F1 bloom-560M top_logprobs",
          "F1 bloom-560M top_logprobs",
          "F1 bloom-560M top_logprobs",
          "F1 bloom-560M top_logprobs",
          "F1 bloom-560M top_logprobs",
          "F1 bloom-560M top_logprobs",
          "F1 bloom-560M top_logprobs",
          "F1 bloom-560M top_logprobs",
          "F1 bloom-560M top_logprobs",
          "F1 bloom-560M top_logprobs",
          "F1 bloom-560M top_logprobs",
          "F1 bloom-560M top_logprobs",
          "F1 bloom-560M top_logprobs",
          "F1 bloom-560M top_logprobs",
          "F1 bloom-560M top_logprobs",
          "F1 bloom-560M top_logprobs",
          "F1 bloom-560M top_logprobs",
          "F1 bloom-560M top_logprobs",
          "F1 bloom-560M top_logprobs",
          "F1 bloom-560M top_logprobs",
          "F1 bloom-560M top_logprobs",
          "F1 bloom-560M top_logprobs",
          "F1 bloom-560M top_logprobs",
          "F1 bloom-560M top_logprobs",
          "F1 bloom-560M top_logprobs",
          "F1 bloom-560M top_logprobs",
          "F1 bloom-560M top_logprobs",
          "F1 bloom-560M top_logprobs",
          "F1 bloom-560M top_logprobs",
          "F1 bloom-560M top_logprobs",
          "F1 bloom-560M top_logprobs",
          "F1 bloom-560M top_logprobs",
          "F1 bloom-560M top_logprobs",
          "F1 bloom-560M top_logprobs",
          "F1 bloom-560M top_logprobs",
          "F1 bloom-560M top_logprobs",
          "F1 bloom-560M top_logprobs",
          "F1 bloom-560M top_logprobs",
          "F1 bloom-1b1 top_logprobs",
          "F1 bloom-1b1 top_logprobs",
          "F1 bloom-1b1 top_logprobs",
          "F1 bloom-1b1 top_logprobs",
          "F1 bloom-1b1 top_logprobs",
          "F1 bloom-1b1 top_logprobs",
          "F1 bloom-1b1 top_logprobs",
          "F1 bloom-1b1 top_logprobs",
          "F1 bloom-1b1 top_logprobs",
          "F1 bloom-1b1 top_logprobs",
          "F1 bloom-1b1 top_logprobs",
          "F1 bloom-1b1 top_logprobs",
          "F1 bloom-1b1 top_logprobs",
          "F1 bloom-1b1 top_logprobs",
          "F1 bloom-1b1 top_logprobs",
          "F1 bloom-1b1 top_logprobs",
          "F1 bloom-1b1 top_logprobs",
          "F1 bloom-1b1 top_logprobs",
          "F1 bloom-1b1 top_logprobs",
          "F1 bloom-1b1 top_logprobs",
          "F1 bloom-1b1 top_logprobs",
          "F1 bloom-1b1 top_logprobs",
          "F1 bloom-1b1 top_logprobs",
          "F1 bloom-1b1 top_logprobs",
          "F1 bloom-1b1 top_logprobs",
          "F1 bloom-1b1 top_logprobs",
          "F1 bloom-1b1 top_logprobs",
          "F1 bloom-1b1 top_logprobs",
          "F1 bloom-1b1 top_logprobs",
          "F1 bloom-1b1 top_logprobs",
          "F1 bloom-1b1 top_logprobs",
          "F1 bloom-1b1 top_logprobs",
          "F1 bloom-1b1 top_logprobs",
          "F1 bloom-1b1 top_logprobs",
          "F1 bloom-1b1 top_logprobs",
          "F1 bloom-1b1 top_logprobs",
          "F1 bloom-1b1 top_logprobs",
          "F1 bloom-1b1 top_logprobs",
          "F1 bloom-1b1 top_logprobs",
          "F1 bloom-1b1 top_logprobs",
          "F1 bloom-1b1 top_logprobs",
          "F1 bloom-1b1 top_logprobs",
          "F1 bloom-1b1 top_logprobs",
          "F1 bloom-1b1 top_logprobs",
          "F1 bloom-1b1 top_logprobs",
          "F1 bloom-1b1 top_logprobs",
          "F1 bloom-1b1 top_logprobs",
          "F1 bloom-1b1 top_logprobs",
          "F1 bloom-1b1 top_logprobs",
          "F1 bloom-1b1 top_logprobs",
          "F1 bloom-1b1 top_logprobs",
          "F1 bloom-1b1 top_logprobs",
          "F1 bloom-1b1 top_logprobs",
          "F1 bloom-1b1 top_logprobs",
          "F1 bloom-1b1 top_logprobs",
          "F1 bloom-1b1 top_logprobs",
          "F1 bloom-1b1 top_logprobs",
          "F1 bloom-1b1 top_logprobs",
          "F1 bloom-1b1 top_logprobs",
          "F1 bloom-1b1 top_logprobs",
          "F1 bloom-1b1 top_logprobs",
          "F1 bloom-1b1 top_logprobs",
          "F1 bloom-1b1 top_logprobs",
          "F1 bloom-1b1 top_logprobs",
          "F1 bloom-1b1 top_logprobs",
          "F1 bloom-1b1 top_logprobs",
          "F1 bloom-1b1 top_logprobs",
          "F1 bloom-1b1 top_logprobs",
          "F1 bloom-1b1 top_logprobs",
          "F1 bloom-1b1 top_logprobs",
          "F1 bloom-1b1 top_logprobs",
          "F1 bloom-1b1 top_logprobs",
          "F1 bloom-1b1 top_logprobs",
          "F1 bloom-1b1 top_logprobs",
          "F1 bloom-1b1 top_logprobs",
          "F1 bloom-1b1 top_logprobs",
          "F1 bloom-1b1 top_logprobs",
          "F1 bloom-1b1 top_logprobs",
          "F1 bloom-1b1 top_logprobs",
          "F1 bloom-1b1 top_logprobs",
          "F1 bloom-1b1 top_logprobs",
          "F1 bloom-1b1 top_logprobs",
          "F1 bloom-1b1 top_logprobs",
          "F1 bloom-1b1 top_logprobs",
          "F1 bloom-1b1 top_logprobs",
          "F1 bloom-1b1 top_logprobs",
          "F1 bloom-1b1 top_logprobs",
          "F1 bloom-1b1 top_logprobs",
          "F1 bloom-1b1 top_logprobs",
          "F1 bloom-1b1 top_logprobs",
          "F1 bloom-1b1 top_logprobs",
          "F1 bloom-1b1 top_logprobs",
          "F1 bloom-1b1 top_logprobs",
          "F1 bloom-1b1 top_logprobs",
          "F1 bloom-1b1 top_logprobs",
          "F1 bloom-1b1 top_logprobs",
          "F1 bloom-1b1 top_logprobs",
          "F1 bloom-1b1 top_logprobs",
          "F1 bloom-1b1 top_logprobs",
          "F1 bloom-1b1 top_logprobs",
          "F1 bloom-1b1 top_logprobs",
          "F1 bloom-1b1 top_logprobs",
          "F1 bloom-1b1 top_logprobs",
          "F1 bloom-1b1 top_logprobs",
          "F1 bloom-1b1 top_logprobs",
          "F1 bloom-1b1 top_logprobs",
          "F1 bloom-1b1 top_logprobs",
          "F1 bloom-1b1 top_logprobs",
          "F1 bloom-1b1 top_logprobs",
          "F1 bloom-1b1 top_logprobs",
          "F1 bloom-1b1 top_logprobs",
          "F1 bloom-1b1 top_logprobs",
          "F1 bloom-1b1 top_logprobs",
          "F1 bloom-1b1 top_logprobs",
          "F1 bloom-1b1 top_logprobs",
          "F1 bloom-1b1 top_logprobs",
          "F1 bloom-1b1 top_logprobs",
          "F1 bloom-1b1 top_logprobs",
          "F1 bloom-1b1 top_logprobs",
          "F1 bloom-1b1 top_logprobs",
          "F1 bloom-1b1 top_logprobs",
          "F1 bloom-1b1 top_logprobs",
          "F1 bloom-1b1 top_logprobs",
          "F1 bloom-1b1 top_logprobs",
          "F1 bloom-1b1 top_logprobs",
          "F1 bloom-1b1 top_logprobs",
          "F1 bloom-1b1 top_logprobs",
          "F1 bloom-1b1 top_logprobs",
          "F1 bloom-1b1 top_logprobs",
          "F1 bloom-1b1 top_logprobs",
          "F1 bloom-1b1 top_logprobs",
          "F1 bloom-1b1 top_logprobs",
          "F1 bloom-1b1 top_logprobs",
          "F1 bloom-1b1 top_logprobs",
          "F1 bloom-1b1 top_logprobs",
          "F1 bloom-1b1 top_logprobs",
          "F1 bloom-1b1 top_logprobs",
          "F1 bloom-1b1 top_logprobs",
          "F1 bloom-1b1 top_logprobs",
          "F1 bloom-1b1 top_logprobs",
          "F1 bloom-1b1 top_logprobs",
          "F1 bloom-1b1 top_logprobs",
          "F1 bloom-1b1 top_logprobs",
          "F1 bloom-1b1 top_logprobs",
          "F1 bloom-1b1 top_logprobs",
          "F1 bloom-1b1 top_logprobs",
          "F1 bloom-1b1 top_logprobs",
          "F1 bloom-1b1 top_logprobs",
          "F1 bloom-1b1 top_logprobs",
          "F1 bloom-1b1 top_logprobs",
          "F1 bloom-1b1 top_logprobs",
          "F1 bloom-1b1 top_logprobs",
          "F1 bloom-1b1 top_logprobs",
          "F1 bloom-1b1 top_logprobs",
          "F1 bloom-1b1 top_logprobs",
          "F1 bloom-1b1 top_logprobs",
          "F1 bloom-1b1 top_logprobs",
          "F1 bloom-1b1 top_logprobs",
          "F1 bloom-1b1 top_logprobs",
          "F1 bloom-1b1 top_logprobs",
          "F1 bloom-1b1 top_logprobs",
          "F1 bloom-1b1 top_logprobs",
          "F1 bloom-1b1 top_logprobs",
          "F1 bloom-1b1 top_logprobs",
          "F1 bloom-1b1 top_logprobs",
          "F1 bloom-1b1 top_logprobs",
          "F1 bloom-1b1 top_logprobs",
          "F1 bloom-1b1 top_logprobs",
          "F1 bloom-1b1 top_logprobs",
          "F1 bloom-1b1 top_logprobs",
          "F1 bloom-1b1 top_logprobs",
          "F1 bloom-1b1 top_logprobs",
          "F1 bloom-1b1 top_logprobs",
          "F1 bloom-1b1 top_logprobs",
          "F1 bloom-1b1 top_logprobs",
          "F1 bloom-1b1 top_logprobs",
          "F1 bloom-1b1 top_logprobs",
          "F1 bloom-1b1 top_logprobs",
          "F1 bloom-1b1 top_logprobs",
          "F1 bloom-1b1 top_logprobs",
          "F1 bloom-1b1 top_logprobs",
          "F1 bloom-1b1 top_logprobs",
          "F1 bloom-1b1 top_logprobs",
          "F1 bloom-1b1 top_logprobs",
          "F1 bloom-1b1 top_logprobs",
          "F1 bloom-1b1 top_logprobs",
          "F1 bloom-1b1 top_logprobs",
          "F1 bloom-1b1 top_logprobs",
          "F1 bloom-1b1 top_logprobs",
          "F1 bloom-1b1 top_logprobs",
          "F1 bloom-1b1 top_logprobs",
          "F1 bloom-1b1 top_logprobs",
          "F1 bloom-1b1 top_logprobs",
          "F1 bloom-1b1 top_logprobs",
          "F1 bloom-1b1 top_logprobs",
          "F1 bloom-1b1 top_logprobs",
          "F1 bloom-1b1 top_logprobs",
          "F1 bloom-1b1 top_logprobs",
          "F1 bloom-1b1 top_logprobs",
          "F1 bloom-1b1 top_logprobs",
          "F1 bloom-1b1 top_logprobs",
          "F1 bloom-1b1 top_logprobs",
          "F1 bloom-1b1 top_logprobs",
          "F1 bloom-1b1 top_logprobs",
          "F1 bloom-1b7 top_logprobs",
          "F1 bloom-1b7 top_logprobs",
          "F1 bloom-1b7 top_logprobs",
          "F1 bloom-1b7 top_logprobs",
          "F1 bloom-1b7 top_logprobs",
          "F1 bloom-1b7 top_logprobs",
          "F1 bloom-1b7 top_logprobs",
          "F1 bloom-1b7 top_logprobs",
          "F1 bloom-1b7 top_logprobs",
          "F1 bloom-1b7 top_logprobs",
          "F1 bloom-1b7 top_logprobs",
          "F1 bloom-1b7 top_logprobs",
          "F1 bloom-1b7 top_logprobs",
          "F1 bloom-1b7 top_logprobs",
          "F1 bloom-1b7 top_logprobs",
          "F1 bloom-1b7 top_logprobs",
          "F1 bloom-1b7 top_logprobs",
          "F1 bloom-1b7 top_logprobs",
          "F1 bloom-1b7 top_logprobs",
          "F1 bloom-1b7 top_logprobs",
          "F1 bloom-1b7 top_logprobs",
          "F1 bloom-1b7 top_logprobs",
          "F1 bloom-1b7 top_logprobs",
          "F1 bloom-1b7 top_logprobs",
          "F1 bloom-1b7 top_logprobs",
          "F1 bloom-1b7 top_logprobs",
          "F1 bloom-1b7 top_logprobs",
          "F1 bloom-1b7 top_logprobs",
          "F1 bloom-1b7 top_logprobs",
          "F1 bloom-1b7 top_logprobs",
          "F1 bloom-1b7 top_logprobs",
          "F1 bloom-1b7 top_logprobs",
          "F1 bloom-1b7 top_logprobs",
          "F1 bloom-1b7 top_logprobs",
          "F1 bloom-1b7 top_logprobs",
          "F1 bloom-1b7 top_logprobs",
          "F1 bloom-1b7 top_logprobs",
          "F1 bloom-1b7 top_logprobs",
          "F1 bloom-1b7 top_logprobs",
          "F1 bloom-1b7 top_logprobs",
          "F1 bloom-1b7 top_logprobs",
          "F1 bloom-1b7 top_logprobs",
          "F1 bloom-1b7 top_logprobs",
          "F1 bloom-1b7 top_logprobs",
          "F1 bloom-1b7 top_logprobs",
          "F1 bloom-1b7 top_logprobs",
          "F1 bloom-1b7 top_logprobs",
          "F1 bloom-1b7 top_logprobs",
          "F1 bloom-1b7 top_logprobs",
          "F1 bloom-1b7 top_logprobs",
          "F1 bloom-1b7 top_logprobs",
          "F1 bloom-1b7 top_logprobs",
          "F1 bloom-1b7 top_logprobs",
          "F1 bloom-1b7 top_logprobs",
          "F1 bloom-1b7 top_logprobs",
          "F1 bloom-1b7 top_logprobs",
          "F1 bloom-1b7 top_logprobs",
          "F1 bloom-1b7 top_logprobs",
          "F1 bloom-1b7 top_logprobs",
          "F1 bloom-1b7 top_logprobs",
          "F1 bloom-1b7 top_logprobs",
          "F1 bloom-1b7 top_logprobs",
          "F1 bloom-1b7 top_logprobs",
          "F1 bloom-1b7 top_logprobs",
          "F1 bloom-1b7 top_logprobs",
          "F1 bloom-1b7 top_logprobs",
          "F1 bloom-1b7 top_logprobs",
          "F1 bloom-1b7 top_logprobs",
          "F1 bloom-1b7 top_logprobs",
          "F1 bloom-1b7 top_logprobs",
          "F1 bloom-1b7 top_logprobs",
          "F1 bloom-1b7 top_logprobs",
          "F1 bloom-1b7 top_logprobs",
          "F1 bloom-1b7 top_logprobs",
          "F1 bloom-1b7 top_logprobs",
          "F1 bloom-1b7 top_logprobs",
          "F1 bloom-1b7 top_logprobs",
          "F1 bloom-1b7 top_logprobs",
          "F1 bloom-1b7 top_logprobs",
          "F1 bloom-1b7 top_logprobs",
          "F1 bloom-1b7 top_logprobs",
          "F1 bloom-1b7 top_logprobs",
          "F1 bloom-1b7 top_logprobs",
          "F1 bloom-1b7 top_logprobs",
          "F1 bloom-1b7 top_logprobs",
          "F1 bloom-1b7 top_logprobs",
          "F1 bloom-1b7 top_logprobs",
          "F1 bloom-1b7 top_logprobs",
          "F1 bloom-1b7 top_logprobs",
          "F1 bloom-1b7 top_logprobs",
          "F1 bloom-1b7 top_logprobs",
          "F1 bloom-1b7 top_logprobs",
          "F1 bloom-1b7 top_logprobs",
          "F1 bloom-1b7 top_logprobs",
          "F1 bloom-1b7 top_logprobs",
          "F1 bloom-1b7 top_logprobs",
          "F1 bloom-1b7 top_logprobs",
          "F1 bloom-1b7 top_logprobs",
          "F1 bloom-1b7 top_logprobs",
          "F1 bloom-1b7 top_logprobs",
          "F1 bloom-1b7 top_logprobs",
          "F1 bloom-1b7 top_logprobs",
          "F1 bloom-1b7 top_logprobs",
          "F1 bloom-1b7 top_logprobs",
          "F1 bloom-1b7 top_logprobs",
          "F1 bloom-1b7 top_logprobs",
          "F1 bloom-1b7 top_logprobs",
          "F1 bloom-1b7 top_logprobs",
          "F1 bloom-1b7 top_logprobs",
          "F1 bloom-1b7 top_logprobs",
          "F1 bloom-1b7 top_logprobs",
          "F1 bloom-1b7 top_logprobs",
          "F1 bloom-1b7 top_logprobs",
          "F1 bloom-1b7 top_logprobs",
          "F1 bloom-1b7 top_logprobs",
          "F1 bloom-1b7 top_logprobs",
          "F1 bloom-1b7 top_logprobs",
          "F1 bloom-1b7 top_logprobs",
          "F1 bloom-1b7 top_logprobs",
          "F1 bloom-1b7 top_logprobs",
          "F1 bloom-1b7 top_logprobs",
          "F1 bloom-1b7 top_logprobs",
          "F1 bloom-1b7 top_logprobs",
          "F1 bloom-1b7 top_logprobs",
          "F1 bloom-1b7 top_logprobs",
          "F1 bloom-1b7 top_logprobs",
          "F1 bloom-1b7 top_logprobs",
          "F1 bloom-1b7 top_logprobs",
          "F1 bloom-1b7 top_logprobs",
          "F1 bloom-1b7 top_logprobs",
          "F1 bloom-1b7 top_logprobs",
          "F1 bloom-1b7 top_logprobs",
          "F1 bloom-1b7 top_logprobs",
          "F1 bloom-1b7 top_logprobs",
          "F1 bloom-1b7 top_logprobs",
          "F1 bloom-1b7 top_logprobs",
          "F1 bloom-1b7 top_logprobs",
          "F1 bloom-1b7 top_logprobs",
          "F1 bloom-1b7 top_logprobs",
          "F1 bloom-1b7 top_logprobs",
          "F1 bloom-1b7 top_logprobs",
          "F1 bloom-1b7 top_logprobs",
          "F1 bloom-1b7 top_logprobs",
          "F1 bloom-1b7 top_logprobs",
          "F1 bloom-1b7 top_logprobs",
          "F1 bloom-1b7 top_logprobs",
          "F1 bloom-1b7 top_logprobs",
          "F1 bloom-1b7 top_logprobs",
          "F1 bloom-1b7 top_logprobs",
          "F1 bloom-1b7 top_logprobs",
          "F1 bloom-1b7 top_logprobs",
          "F1 bloom-1b7 top_logprobs",
          "F1 bloom-1b7 top_logprobs",
          "F1 bloom-1b7 top_logprobs",
          "F1 bloom-1b7 top_logprobs",
          "F1 bloom-1b7 top_logprobs",
          "F1 bloom-1b7 top_logprobs",
          "F1 bloom-1b7 top_logprobs",
          "F1 bloom-1b7 top_logprobs",
          "F1 bloom-1b7 top_logprobs",
          "F1 bloom-1b7 top_logprobs",
          "F1 bloom-1b7 top_logprobs",
          "F1 bloom-1b7 top_logprobs",
          "F1 bloom-1b7 top_logprobs",
          "F1 bloom-1b7 top_logprobs",
          "F1 bloom-1b7 top_logprobs",
          "F1 bloom-1b7 top_logprobs",
          "F1 bloom-1b7 top_logprobs",
          "F1 bloom-1b7 top_logprobs",
          "F1 bloom-1b7 top_logprobs",
          "F1 bloom-1b7 top_logprobs",
          "F1 bloom-1b7 top_logprobs",
          "F1 bloom-1b7 top_logprobs",
          "F1 bloom-1b7 top_logprobs",
          "F1 bloom-1b7 top_logprobs",
          "F1 bloom-1b7 top_logprobs",
          "F1 bloom-1b7 top_logprobs",
          "F1 bloom-1b7 top_logprobs",
          "F1 bloom-1b7 top_logprobs",
          "F1 bloom-1b7 top_logprobs",
          "F1 bloom-1b7 top_logprobs",
          "F1 bloom-1b7 top_logprobs",
          "F1 bloom-1b7 top_logprobs",
          "F1 bloom-1b7 top_logprobs",
          "F1 bloom-1b7 top_logprobs",
          "F1 bloom-1b7 top_logprobs",
          "F1 bloom-1b7 top_logprobs",
          "F1 bloom-1b7 top_logprobs",
          "F1 bloom-1b7 top_logprobs",
          "F1 bloom-1b7 top_logprobs",
          "F1 bloom-1b7 top_logprobs",
          "F1 bloom-1b7 top_logprobs",
          "F1 bloom-1b7 top_logprobs",
          "F1 bloom-1b7 top_logprobs",
          "F1 bloom-1b7 top_logprobs",
          "F1 bloom-1b7 top_logprobs",
          "F1 bloom-1b7 top_logprobs",
          "F1 bloom-1b7 top_logprobs",
          "F1 bloom-1b7 top_logprobs",
          "F1 bloom-1b7 top_logprobs",
          "F1 bloom-1b7 top_logprobs",
          "F1 bloom-1b7 top_logprobs",
          "F1 bloom-1b7 top_logprobs",
          "F1 bloom-1b7 top_logprobs",
          "F1 bloom-3b top_logprobs",
          "F1 bloom-3b top_logprobs",
          "F1 bloom-3b top_logprobs",
          "F1 bloom-3b top_logprobs",
          "F1 bloom-3b top_logprobs",
          "F1 bloom-3b top_logprobs",
          "F1 bloom-3b top_logprobs",
          "F1 bloom-3b top_logprobs",
          "F1 bloom-3b top_logprobs",
          "F1 bloom-3b top_logprobs",
          "F1 bloom-3b top_logprobs",
          "F1 bloom-3b top_logprobs",
          "F1 bloom-3b top_logprobs",
          "F1 bloom-3b top_logprobs",
          "F1 bloom-3b top_logprobs",
          "F1 bloom-3b top_logprobs",
          "F1 bloom-3b top_logprobs",
          "F1 bloom-3b top_logprobs",
          "F1 bloom-3b top_logprobs",
          "F1 bloom-3b top_logprobs",
          "F1 bloom-3b top_logprobs",
          "F1 bloom-3b top_logprobs",
          "F1 bloom-3b top_logprobs",
          "F1 bloom-3b top_logprobs",
          "F1 bloom-3b top_logprobs",
          "F1 bloom-3b top_logprobs",
          "F1 bloom-3b top_logprobs",
          "F1 bloom-3b top_logprobs",
          "F1 bloom-3b top_logprobs",
          "F1 bloom-3b top_logprobs",
          "F1 bloom-3b top_logprobs",
          "F1 bloom-3b top_logprobs",
          "F1 bloom-3b top_logprobs",
          "F1 bloom-3b top_logprobs",
          "F1 bloom-3b top_logprobs",
          "F1 bloom-3b top_logprobs",
          "F1 bloom-3b top_logprobs",
          "F1 bloom-3b top_logprobs",
          "F1 bloom-3b top_logprobs",
          "F1 bloom-3b top_logprobs",
          "F1 bloom-3b top_logprobs",
          "F1 bloom-3b top_logprobs",
          "F1 bloom-3b top_logprobs",
          "F1 bloom-3b top_logprobs",
          "F1 bloom-3b top_logprobs",
          "F1 bloom-3b top_logprobs",
          "F1 bloom-3b top_logprobs",
          "F1 bloom-3b top_logprobs",
          "F1 bloom-3b top_logprobs",
          "F1 bloom-3b top_logprobs",
          "F1 bloom-3b top_logprobs",
          "F1 bloom-3b top_logprobs",
          "F1 bloom-3b top_logprobs",
          "F1 bloom-3b top_logprobs",
          "F1 bloom-3b top_logprobs",
          "F1 bloom-3b top_logprobs",
          "F1 bloom-3b top_logprobs",
          "F1 bloom-3b top_logprobs",
          "F1 bloom-3b top_logprobs",
          "F1 bloom-3b top_logprobs",
          "F1 bloom-3b top_logprobs",
          "F1 bloom-3b top_logprobs",
          "F1 bloom-3b top_logprobs",
          "F1 bloom-3b top_logprobs",
          "F1 bloom-3b top_logprobs",
          "F1 bloom-3b top_logprobs",
          "F1 bloom-3b top_logprobs",
          "F1 bloom-3b top_logprobs",
          "F1 bloom-3b top_logprobs",
          "F1 bloom-3b top_logprobs",
          "F1 bloom-3b top_logprobs",
          "F1 bloom-3b top_logprobs",
          "F1 bloom-3b top_logprobs",
          "F1 bloom-3b top_logprobs",
          "F1 bloom-3b top_logprobs",
          "F1 bloom-3b top_logprobs",
          "F1 bloom-3b top_logprobs",
          "F1 bloom-3b top_logprobs",
          "F1 bloom-3b top_logprobs",
          "F1 bloom-3b top_logprobs",
          "F1 bloom-3b top_logprobs",
          "F1 bloom-3b top_logprobs",
          "F1 bloom-3b top_logprobs",
          "F1 bloom-3b top_logprobs",
          "F1 bloom-3b top_logprobs",
          "F1 bloom-3b top_logprobs",
          "F1 bloom-3b top_logprobs",
          "F1 bloom-3b top_logprobs",
          "F1 bloom-3b top_logprobs",
          "F1 bloom-3b top_logprobs",
          "F1 bloom-3b top_logprobs",
          "F1 bloom-3b top_logprobs",
          "F1 bloom-3b top_logprobs",
          "F1 bloom-3b top_logprobs",
          "F1 bloom-3b top_logprobs",
          "F1 bloom-3b top_logprobs",
          "F1 bloom-3b top_logprobs",
          "F1 bloom-3b top_logprobs",
          "F1 bloom-3b top_logprobs",
          "F1 bloom-3b top_logprobs",
          "F1 bloom-3b top_logprobs",
          "F1 bloom-3b top_logprobs",
          "F1 bloom-3b top_logprobs",
          "F1 bloom-3b top_logprobs",
          "F1 bloom-3b top_logprobs",
          "F1 bloom-3b top_logprobs",
          "F1 bloom-3b top_logprobs",
          "F1 bloom-3b top_logprobs",
          "F1 bloom-3b top_logprobs",
          "F1 bloom-3b top_logprobs",
          "F1 bloom-3b top_logprobs",
          "F1 bloom-3b top_logprobs",
          "F1 bloom-3b top_logprobs",
          "F1 bloom-3b top_logprobs",
          "F1 bloom-3b top_logprobs",
          "F1 bloom-3b top_logprobs",
          "F1 bloom-3b top_logprobs",
          "F1 bloom-3b top_logprobs",
          "F1 bloom-3b top_logprobs",
          "F1 bloom-3b top_logprobs",
          "F1 bloom-3b top_logprobs",
          "F1 bloom-3b top_logprobs",
          "F1 bloom-3b top_logprobs",
          "F1 bloom-3b top_logprobs",
          "F1 bloom-3b top_logprobs",
          "F1 bloom-3b top_logprobs",
          "F1 bloom-3b top_logprobs",
          "F1 bloom-3b top_logprobs",
          "F1 bloom-3b top_logprobs",
          "F1 bloom-3b top_logprobs",
          "F1 bloom-3b top_logprobs",
          "F1 bloom-3b top_logprobs",
          "F1 bloom-3b top_logprobs",
          "F1 bloom-3b top_logprobs",
          "F1 bloom-3b top_logprobs",
          "F1 bloom-3b top_logprobs",
          "F1 bloom-3b top_logprobs",
          "F1 bloom-3b top_logprobs",
          "F1 bloom-3b top_logprobs",
          "F1 bloom-3b top_logprobs",
          "F1 bloom-3b top_logprobs",
          "F1 bloom-3b top_logprobs",
          "F1 bloom-3b top_logprobs",
          "F1 bloom-3b top_logprobs",
          "F1 bloom-3b top_logprobs",
          "F1 bloom-3b top_logprobs",
          "F1 bloom-3b top_logprobs",
          "F1 bloom-3b top_logprobs",
          "F1 bloom-3b top_logprobs",
          "F1 bloom-3b top_logprobs",
          "F1 bloom-3b top_logprobs",
          "F1 bloom-3b top_logprobs",
          "F1 bloom-3b top_logprobs",
          "F1 bloom-3b top_logprobs",
          "F1 bloom-3b top_logprobs",
          "F1 bloom-3b top_logprobs",
          "F1 bloom-3b top_logprobs",
          "F1 bloom-3b top_logprobs",
          "F1 bloom-3b top_logprobs",
          "F1 bloom-3b top_logprobs",
          "F1 bloom-3b top_logprobs",
          "F1 bloom-3b top_logprobs",
          "F1 bloom-3b top_logprobs",
          "F1 bloom-3b top_logprobs",
          "F1 bloom-3b top_logprobs",
          "F1 bloom-3b top_logprobs",
          "F1 bloom-3b top_logprobs",
          "F1 bloom-3b top_logprobs",
          "F1 bloom-3b top_logprobs",
          "F1 bloom-3b top_logprobs",
          "F1 bloom-3b top_logprobs",
          "F1 bloom-3b top_logprobs",
          "F1 bloom-3b top_logprobs",
          "F1 bloom-3b top_logprobs",
          "F1 bloom-3b top_logprobs",
          "F1 bloom-3b top_logprobs",
          "F1 bloom-3b top_logprobs",
          "F1 bloom-3b top_logprobs",
          "F1 bloom-3b top_logprobs",
          "F1 bloom-3b top_logprobs",
          "F1 bloom-3b top_logprobs",
          "F1 bloom-3b top_logprobs",
          "F1 bloom-3b top_logprobs",
          "F1 bloom-3b top_logprobs",
          "F1 bloom-3b top_logprobs",
          "F1 bloom-3b top_logprobs",
          "F1 bloom-3b top_logprobs",
          "F1 bloom-3b top_logprobs",
          "F1 bloom-3b top_logprobs",
          "F1 bloom-3b top_logprobs",
          "F1 bloom-3b top_logprobs",
          "F1 bloom-3b top_logprobs",
          "F1 bloom-3b top_logprobs",
          "F1 bloom-3b top_logprobs",
          "F1 bloom-3b top_logprobs",
          "F1 bloom-3b top_logprobs",
          "F1 bloom-3b top_logprobs",
          "F1 bloom-3b top_logprobs",
          "F1 bloom-3b top_logprobs",
          "F1 bloom-3b top_logprobs",
          "F1 bloom-3b top_logprobs",
          "F1 bloom-3b top_logprobs",
          "F1 bloom-3b top_logprobs",
          "F1 bloom-3b top_logprobs",
          "F1 bloom-7b1 top_logprobs",
          "F1 bloom-7b1 top_logprobs",
          "F1 bloom-7b1 top_logprobs",
          "F1 bloom-7b1 top_logprobs",
          "F1 bloom-7b1 top_logprobs",
          "F1 bloom-7b1 top_logprobs",
          "F1 bloom-7b1 top_logprobs",
          "F1 bloom-7b1 top_logprobs",
          "F1 bloom-7b1 top_logprobs",
          "F1 bloom-7b1 top_logprobs",
          "F1 bloom-7b1 top_logprobs",
          "F1 bloom-7b1 top_logprobs",
          "F1 bloom-7b1 top_logprobs",
          "F1 bloom-7b1 top_logprobs",
          "F1 bloom-7b1 top_logprobs",
          "F1 bloom-7b1 top_logprobs",
          "F1 bloom-7b1 top_logprobs",
          "F1 bloom-7b1 top_logprobs",
          "F1 bloom-7b1 top_logprobs",
          "F1 bloom-7b1 top_logprobs",
          "F1 bloom-7b1 top_logprobs",
          "F1 bloom-7b1 top_logprobs",
          "F1 bloom-7b1 top_logprobs",
          "F1 bloom-7b1 top_logprobs",
          "F1 bloom-7b1 top_logprobs",
          "F1 bloom-7b1 top_logprobs",
          "F1 bloom-7b1 top_logprobs",
          "F1 bloom-7b1 top_logprobs",
          "F1 bloom-7b1 top_logprobs",
          "F1 bloom-7b1 top_logprobs",
          "F1 bloom-7b1 top_logprobs",
          "F1 bloom-7b1 top_logprobs",
          "F1 bloom-7b1 top_logprobs",
          "F1 bloom-7b1 top_logprobs",
          "F1 bloom-7b1 top_logprobs",
          "F1 bloom-7b1 top_logprobs",
          "F1 bloom-7b1 top_logprobs",
          "F1 bloom-7b1 top_logprobs",
          "F1 bloom-7b1 top_logprobs",
          "F1 bloom-7b1 top_logprobs",
          "F1 bloom-7b1 top_logprobs",
          "F1 bloom-7b1 top_logprobs",
          "F1 bloom-7b1 top_logprobs",
          "F1 bloom-7b1 top_logprobs",
          "F1 bloom-7b1 top_logprobs",
          "F1 bloom-7b1 top_logprobs",
          "F1 bloom-7b1 top_logprobs",
          "F1 bloom-7b1 top_logprobs",
          "F1 bloom-7b1 top_logprobs",
          "F1 bloom-7b1 top_logprobs",
          "F1 bloom-7b1 top_logprobs",
          "F1 bloom-7b1 top_logprobs",
          "F1 bloom-7b1 top_logprobs",
          "F1 bloom-7b1 top_logprobs",
          "F1 bloom-7b1 top_logprobs",
          "F1 bloom-7b1 top_logprobs",
          "F1 bloom-7b1 top_logprobs",
          "F1 bloom-7b1 top_logprobs",
          "F1 bloom-7b1 top_logprobs",
          "F1 bloom-7b1 top_logprobs",
          "F1 bloom-7b1 top_logprobs",
          "F1 bloom-7b1 top_logprobs",
          "F1 bloom-7b1 top_logprobs",
          "F1 bloom-7b1 top_logprobs",
          "F1 bloom-7b1 top_logprobs",
          "F1 bloom-7b1 top_logprobs",
          "F1 bloom-7b1 top_logprobs",
          "F1 bloom-7b1 top_logprobs",
          "F1 bloom-7b1 top_logprobs",
          "F1 bloom-7b1 top_logprobs",
          "F1 bloom-7b1 top_logprobs",
          "F1 bloom-7b1 top_logprobs",
          "F1 bloom-7b1 top_logprobs",
          "F1 bloom-7b1 top_logprobs",
          "F1 bloom-7b1 top_logprobs",
          "F1 bloom-7b1 top_logprobs",
          "F1 bloom-7b1 top_logprobs",
          "F1 bloom-7b1 top_logprobs",
          "F1 bloom-7b1 top_logprobs",
          "F1 bloom-7b1 top_logprobs",
          "F1 bloom-7b1 top_logprobs",
          "F1 bloom-7b1 top_logprobs",
          "F1 bloom-7b1 top_logprobs",
          "F1 bloom-7b1 top_logprobs",
          "F1 bloom-7b1 top_logprobs",
          "F1 bloom-7b1 top_logprobs",
          "F1 bloom-7b1 top_logprobs",
          "F1 bloom-7b1 top_logprobs",
          "F1 bloom-7b1 top_logprobs",
          "F1 bloom-7b1 top_logprobs",
          "F1 bloom-7b1 top_logprobs",
          "F1 bloom-7b1 top_logprobs",
          "F1 bloom-7b1 top_logprobs",
          "F1 bloom-7b1 top_logprobs",
          "F1 bloom-7b1 top_logprobs",
          "F1 bloom-7b1 top_logprobs",
          "F1 bloom-7b1 top_logprobs",
          "F1 bloom-7b1 top_logprobs",
          "F1 bloom-7b1 top_logprobs",
          "F1 bloom-7b1 top_logprobs",
          "F1 bloom-7b1 top_logprobs",
          "F1 bloom-7b1 top_logprobs",
          "F1 bloom-7b1 top_logprobs",
          "F1 bloom-7b1 top_logprobs",
          "F1 bloom-7b1 top_logprobs",
          "F1 bloom-7b1 top_logprobs",
          "F1 bloom-7b1 top_logprobs",
          "F1 bloom-7b1 top_logprobs",
          "F1 bloom-7b1 top_logprobs",
          "F1 bloom-7b1 top_logprobs",
          "F1 bloom-7b1 top_logprobs",
          "F1 bloom-7b1 top_logprobs",
          "F1 bloom-7b1 top_logprobs",
          "F1 bloom-7b1 top_logprobs",
          "F1 bloom-7b1 top_logprobs",
          "F1 bloom-7b1 top_logprobs",
          "F1 bloom-7b1 top_logprobs",
          "F1 bloom-7b1 top_logprobs",
          "F1 bloom-7b1 top_logprobs",
          "F1 bloom-7b1 top_logprobs",
          "F1 bloom-7b1 top_logprobs",
          "F1 bloom-7b1 top_logprobs",
          "F1 bloom-7b1 top_logprobs",
          "F1 bloom-7b1 top_logprobs",
          "F1 bloom-7b1 top_logprobs",
          "F1 bloom-7b1 top_logprobs",
          "F1 bloom-7b1 top_logprobs",
          "F1 bloom-7b1 top_logprobs",
          "F1 bloom-7b1 top_logprobs",
          "F1 bloom-7b1 top_logprobs",
          "F1 bloom-7b1 top_logprobs",
          "F1 bloom-7b1 top_logprobs",
          "F1 bloom-7b1 top_logprobs",
          "F1 bloom-7b1 top_logprobs",
          "F1 bloom-7b1 top_logprobs",
          "F1 bloom-7b1 top_logprobs",
          "F1 bloom-7b1 top_logprobs",
          "F1 bloom-7b1 top_logprobs",
          "F1 bloom-7b1 top_logprobs",
          "F1 bloom-7b1 top_logprobs",
          "F1 bloom-7b1 top_logprobs",
          "F1 bloom-7b1 top_logprobs",
          "F1 bloom-7b1 top_logprobs",
          "F1 bloom-7b1 top_logprobs",
          "F1 bloom-7b1 top_logprobs",
          "F1 bloom-7b1 top_logprobs",
          "F1 bloom-7b1 top_logprobs",
          "F1 bloom-7b1 top_logprobs",
          "F1 bloom-7b1 top_logprobs",
          "F1 bloom-7b1 top_logprobs",
          "F1 bloom-7b1 top_logprobs",
          "F1 bloom-7b1 top_logprobs",
          "F1 bloom-7b1 top_logprobs",
          "F1 bloom-7b1 top_logprobs",
          "F1 bloom-7b1 top_logprobs",
          "F1 bloom-7b1 top_logprobs",
          "F1 bloom-7b1 top_logprobs",
          "F1 bloom-7b1 top_logprobs",
          "F1 bloom-7b1 top_logprobs",
          "F1 bloom-7b1 top_logprobs",
          "F1 bloom-7b1 top_logprobs",
          "F1 bloom-7b1 top_logprobs",
          "F1 bloom-7b1 top_logprobs",
          "F1 bloom-7b1 top_logprobs",
          "F1 bloom-7b1 top_logprobs",
          "F1 bloom-7b1 top_logprobs",
          "F1 bloom-7b1 top_logprobs",
          "F1 bloom-7b1 top_logprobs",
          "F1 bloom-7b1 top_logprobs",
          "F1 bloom-7b1 top_logprobs",
          "F1 bloom-7b1 top_logprobs",
          "F1 bloom-7b1 top_logprobs",
          "F1 bloom-7b1 top_logprobs",
          "F1 bloom-7b1 top_logprobs",
          "F1 bloom-7b1 top_logprobs",
          "F1 bloom-7b1 top_logprobs",
          "F1 bloom-7b1 top_logprobs",
          "F1 bloom-7b1 top_logprobs",
          "F1 bloom-7b1 top_logprobs",
          "F1 bloom-7b1 top_logprobs",
          "F1 bloom-7b1 top_logprobs",
          "F1 bloom-7b1 top_logprobs",
          "F1 bloom-7b1 top_logprobs",
          "F1 bloom-7b1 top_logprobs",
          "F1 bloom-7b1 top_logprobs",
          "F1 bloom-7b1 top_logprobs",
          "F1 bloom-7b1 top_logprobs",
          "F1 bloom-7b1 top_logprobs",
          "F1 bloom-7b1 top_logprobs",
          "F1 bloom-7b1 top_logprobs",
          "F1 bloom-7b1 top_logprobs",
          "F1 bloom-7b1 top_logprobs",
          "F1 bloom-7b1 top_logprobs",
          "F1 bloom-7b1 top_logprobs",
          "F1 bloom-7b1 top_logprobs",
          "F1 bloom-7b1 top_logprobs",
          "F1 bloom-7b1 top_logprobs",
          "F1 bloom-7b1 top_logprobs",
          "F1 bloom-7b1 top_logprobs",
          "F1 bloom-7b1 top_logprobs",
          "F1 bloom-7b1 top_logprobs",
          "F1 bloom-7b1 top_logprobs",
          "F1 bloom-7b1 top_logprobs",
          "F1 bloom-7b1 top_logprobs"
         ],
         "y": [
          0.107849433327655,
          0.342138467013863,
          0.278445111778445,
          0.284536995096001,
          0.246541776954793,
          0.279757302441289,
          0.257178096463811,
          0.178924339941289,
          0.220607423507175,
          0.0478109493653535,
          0.246260321011506,
          0.272414369454325,
          0.155823513908516,
          0.273405884849049,
          0.217230926830921,
          0.247682468958137,
          0.250309998418017,
          0.444949185441411,
          0.414391720392075,
          0.221821285063843,
          0.0976361410730466,
          0.0721369539551358,
          0.0804796937818456,
          0.167504900646938,
          0.4309586504712,
          0.136139841219759,
          0.127603730602231,
          0.375831301839431,
          0.283593003882859,
          0.0616842784544648,
          0.373842489615713,
          0.0558677785835146,
          0.242934154793993,
          0.334563584563585,
          0.111907534913348,
          0.397680560895982,
          0.259234637391743,
          0.254070513463117,
          0.233500734944834,
          0.0674014852218092,
          0.279032425487391,
          0.206427732003036,
          0.37129193557765,
          0.297982243744956,
          0.192346390300028,
          0.264963791092323,
          0.0262891270730017,
          0.0759537733221944,
          0.559392789373814,
          0.332029263080682,
          0.235266316987994,
          0.566634907645865,
          0.130258889710109,
          0.299084643256055,
          0.220986942182955,
          0.217988784337514,
          0.130404793130135,
          0.153388709617462,
          0.350841306478561,
          0.226925525412097,
          0.209297837239014,
          0.128808696391114,
          0.160334346504559,
          0.321508539240546,
          0.4204719287442,
          0.146262128039622,
          0.226168430335097,
          0.254175281388101,
          0.0979152723036117,
          0.429539494563663,
          0.339285964661904,
          0.24987740209524,
          0.249416344090051,
          0.0986132497434787,
          0.094952585605284,
          0.36753526287798,
          0.476530643273076,
          0.231561710732316,
          0.349001380421898,
          0.406200830619621,
          0.329557406457103,
          0.111353008334868,
          0.207589944221628,
          0.207925656556133,
          0.241827612270962,
          0.115116137198981,
          0.163969658932087,
          0.0990340140049442,
          0.0472336674661255,
          0.188537373707883,
          0.435575104081004,
          0.0526874964299994,
          0.0703861323360308,
          0.241693091959049,
          0.174522167701325,
          0.0402332361516035,
          0.146482495000481,
          0.234832943427009,
          0.0760206702829654,
          0.24989991671526,
          0.18239017218609,
          0.0759983004869759,
          0.102677770659833,
          0.317876432123799,
          0.273407764280359,
          0.167957400752844,
          0.220075087022864,
          0.27736830379988,
          0.168392089049849,
          0.299760403580712,
          0.205712277612367,
          0.128901722136044,
          0.205215102261061,
          0.316203613443894,
          0.140933140933141,
          0.345765784068466,
          0.353569119955675,
          0.1159792121977,
          0.264742456122234,
          0.0860873975541888,
          0.43844295077973,
          0.146468841236283,
          0.248177426438296,
          0.0574344023323615,
          0.136237582413398,
          0.162708536992562,
          0.0628687102371313,
          0.286782597845494,
          0.395635656676213,
          0.37441110415458,
          0.15033796612744,
          0.153658849645972,
          0.107139666373116,
          0.140265591013923,
          0.330994932600366,
          0.1419506329365,
          0.45985906299203,
          0.163634384712016,
          0.4777758857073,
          0.112002881036483,
          0.0582232893157263,
          0.217070786157082,
          0.1772795839655,
          0.170296818278881,
          0.0894325799986177,
          0.293973732251995,
          0.31448221549619,
          0.176529630359614,
          0.142942990583358,
          0.197769466761063,
          0.136547343810073,
          0.0455948232951717,
          0.296375580761423,
          0.142164904125037,
          0.0769852170423832,
          0.218427304858929,
          0.192293260474228,
          0.216465316068387,
          0.15352263835236,
          0.126354714069889,
          0.21529230409121,
          0.161023045394082,
          0.265554277415638,
          0.331480641111799,
          0.183699956893446,
          0.124059948319167,
          0.419500550900479,
          0.363083798133707,
          0.238680653275862,
          0.197803538180897,
          0.4684975292464,
          0.211681309999224,
          0.0902828171079232,
          0.044579437126021,
          0.295462861874898,
          0.0558647701504844,
          0.276656536122668,
          0.0468384074941452,
          0.0738586118581092,
          0.408902579899884,
          0.132071099190664,
          0.155431061313414,
          0.217606212755769,
          0.141634760161701,
          0.231089208438437,
          0.125255446308078,
          0.0771609066459565,
          0.0554037862449077,
          0.170983924410361,
          0.17364880543455,
          0.123432027273152,
          0.219041853347637,
          0.34795962703674,
          0.354002071366884,
          0.258311957665437,
          0.303433700427371,
          0.145760194998314,
          0.0980703170066175,
          0.164911404933479,
          0.470717953432585,
          0.575235142191088,
          0.499103929276343,
          0.37974987974988,
          0.113258132810975,
          0.0608567606757866,
          0.178061685378758,
          0.147608759390884,
          0.114834486144844,
          0.083677251734642,
          0.109382560158958,
          0.119534832522702,
          0.0909098993132607,
          0.124743172935944,
          0.0394047619047619,
          0.127095127095127,
          0.134261883029665,
          0.0878194662906517,
          0.123992152416522,
          0.0826793550586538,
          0.136027770678934,
          0.0756603542317828,
          0.237570023159817,
          0.38927590266876,
          0.142657342657343,
          0.106358217184501,
          0.0911652200149655,
          0.0754322529748209,
          0.14196462378969,
          0.192815904972684,
          0.0649350649350649,
          0.120014627410003,
          0.313268849597476,
          0.344993981990549,
          0.0517228029423151,
          0.176541834466991,
          0.038265306122449,
          0.18419399766414,
          0.217832231625335,
          0.0697738554881412,
          0.230091358317165,
          0.169797781505413,
          0.18202380952381,
          0.127309503521023,
          0.0244530244530244,
          0.147851999925963,
          0.155905544035796,
          0.142220983726162,
          0.170521496628154,
          0.155730577621625,
          0.156600608693632,
          0.0465162907268171,
          0.0493345809939696,
          0.461064728921872,
          0.229007228045564,
          0.113789930007442,
          0.362485516546169,
          0.126567075249135,
          0.179249373470207,
          0.0786934444865479,
          0.0927604505586157,
          0.12483601609658,
          0.18416116047695,
          0.202807313555889,
          0.0809747862379441,
          0.0665733139306078,
          0.107316487913503,
          0.0951741941784289,
          0.218758572078492,
          0.223077975664183,
          0.123961370049788,
          0.130593519089649,
          0.130835122324484,
          0.064238184916151,
          0.42933450475142,
          0.319475319566181,
          0.193306986509265,
          0.218121427234728,
          0.0369458128078818,
          0.0906307977736549,
          0.186735799411856,
          0.229180273917116,
          0.148933803340545,
          0.294594290346137,
          0.178153797556783,
          0.192164535398068,
          0.0795713127267762,
          0.119552257054825,
          0.125510775738867,
          0.111592085502096,
          0.0737910809695456,
          0.165775358321942,
          0.103893249607535,
          0.0611465386891066,
          0.103203255177252,
          0.221800574878391,
          0.0336696143147756,
          0.0367872470876763,
          0.124385958939339,
          0.157762872048586,
          0.0415947200798127,
          0.124378268850703,
          0.098286704009194,
          0.0461711290020596,
          0.13507505026302,
          0.138703221177448,
          0.0703619513901032,
          0.0816473988439306,
          0.16533646383044,
          0.0912639632316182,
          0.127634246941178,
          0.238201054911501,
          0.146328006886461,
          0.177673452673453,
          0.120069475038419,
          0.173839834779526,
          0.119475790136223,
          0.134476703607211,
          0.23426092941476,
          0.207858851123898,
          0.346440117179559,
          0.325491419315422,
          0.0737609329446064,
          0.0603463089542356,
          0.0414268716155509,
          0.189727600441886,
          0.0628385505121833,
          0.158944584989218,
          0.0367872470876763,
          0.0866807925355935,
          0.106548331491405,
          0.0577200577200577,
          0.0516220073068042,
          0.144759079409694,
          0.125229955229955,
          0.0243433696348495,
          0.138827745692734,
          0.0551159572898703,
          0.18606803699683,
          0.206613814756672,
          0.0905407457330929,
          0.223424617710332,
          0.162488335996117,
          0.223814780464397,
          0.0600310902925376,
          0.0692338840298024,
          0.0730200976939491,
          0.199394437357655,
          0.175336619354757,
          0.0718173852725348,
          0.198379723042426,
          0.0785286843546005,
          0.128529707829808,
          0.0949158368513207,
          0.136524247787502,
          0.127263083451202,
          0.0546034829667661,
          0.106303502635917,
          0.0514099520551133,
          0.0337802614842463,
          0.1849835596973,
          0.166260265438275,
          0.0481049562682216,
          0.118128497952856,
          0.0802400670413093,
          0.0840713643948146,
          0.144399241109767,
          0.268026679130032,
          0.170710713452055,
          0.0645604395604396,
          0.08275412318539,
          0.194348635031865,
          0.136616262666683,
          0.18203081232493,
          0.208693096838993,
          0.348615482414468,
          0.153195964376089,
          0.0694545738880714,
          0.0243433696348495,
          0.19649595610602,
          0.0567181187195691,
          0.185383859296903,
          0.0686853625432509,
          0.0314663310258024,
          0.208861920688008,
          0.14355606079744,
          0.116444756501133,
          0.181247263696243,
          0.164239317219655,
          0.146537857746649,
          0.119774425350453,
          0.0484100616990982,
          0.0312274012227993,
          0.032034632034632,
          0.0929965062757351,
          0.04742145820984,
          0.153272188139948,
          0.271085084276089,
          0.230007714894649,
          0.146195797024357,
          0.1241766547889,
          0.0854598617756512,
          0.0854894589414713,
          0.122147643572199,
          0.482205570962415,
          0.205650103225546,
          0.516943662488084,
          0.245707277048888,
          0.0723419169792969,
          0.0582001682085786,
          0.343913004108728,
          0.476331084622959,
          0.475256221619929,
          0.441794576536043,
          0.28839417835397,
          0.436121881452951,
          0.17448296200301,
          0.273079230447245,
          0.0532239690134427,
          0.419952929245926,
          0.47329941150997,
          0.124593640090445,
          0.473462451407314,
          0.317100250861432,
          0.42201087133418,
          0.204438422609105,
          0.284919103785563,
          0.397217456546082,
          0.127299231380864,
          0.0366300366300366,
          0.238316149686255,
          0.11492467092813,
          0.153361036837008,
          0.425110992422851,
          0.0281870595771941,
          0.0279365079365079,
          0.396536796536797,
          0.463248626576639,
          0.0367872470876763,
          0.393816251110742,
          0.0425520322545494,
          0.217854832934872,
          0.254121905789822,
          0.0608089495235294,
          0.147126544350304,
          0.154330531426156,
          0.204013126460339,
          0.0729407102765941,
          0.0367872470876763,
          0.244394294590834,
          0.122502681402207,
          0.326594287399027,
          0.457427652992169,
          0.310346046635243,
          0.255185596251079,
          0.0366300366300366,
          0.0746548666188986,
          0.597213782429593,
          0.351657587252693,
          0.0786894414801392,
          0.205074455710699,
          0.101908030479459,
          0.296735360943413,
          0.0585470465607452,
          0.0663869549199466,
          0.0736928451214166,
          0.141239201881034,
          0.330430846662387,
          0.225704475756028,
          0.0280612244897959,
          0.0704348076563018,
          0.11708501126203,
          0.471979963128636,
          0.285952610262009,
          0.0618321814013594,
          0.309076808289141,
          0.131477856037838,
          0.0939717072125174,
          0.51157033556828,
          0.417966541768513,
          0.182493356680431,
          0.244324821716126,
          0.0429544024257681,
          0.079575935484575,
          0.230748586619053,
          0.471429430202537,
          0.225305705902721,
          0.530818189746761,
          0.437419021259771,
          0.371138225799576,
          0.191445502488276,
          0.115424450045696,
          0.0390790462526474,
          0.174169099514093,
          0.118535329744753,
          0.214822843600299,
          0.0555879494655005,
          0.128232673337446,
          0.114653120452034,
          0.37981825027785,
          0.0417744562613778,
          0.0733169369001511,
          0.116805055355476,
          0.0901190848034702,
          0.06019113048491,
          0.0389255189255189,
          0.205911905460989,
          0.0580021482277121,
          0.222966306850441,
          0.0553366248109262,
          0.109713203463203,
          0.0674311026217185,
          0.378665918004146,
          0.274172640730307,
          0.0423469387755102,
          0.23397989909998,
          0.263504292142166,
          0.188415316986746,
          0.376946288356774,
          0.119502833279974,
          0.0566305658471557,
          0.108460366821371,
          0.338918639642438,
          0.208311121320059,
          0.454572087982438,
          0.284392124378743,
          0.0638540980004395,
          0.13781934304975,
          0.0366300366300366,
          0.454222040386129,
          0.0278128950695322,
          0.247823925641569,
          0.114786298536021,
          0.132203077426316,
          0.0890641104926819,
          0.111795973450109,
          0.41769633874897,
          0.370392218011266,
          0.335984325943078,
          0.0821771061874891,
          0.0876212805858109,
          0.102278673707245,
          0.0334310134310134,
          0.0549034649118754,
          0.0278128950695322,
          0.316395935544968,
          0.122665575759286,
          0.395345586777881,
          0.0714863498483317,
          0.0850455809854306,
          0.0641609325540787,
          0.216463944068193,
          0.542748522660713,
          0.0670956460919741,
          0.194175698837803,
          0.347762714042821,
          0.0801439939370974,
          0.154098058096614,
          0.157109007968737,
          0.302959777147907,
          0.0367872470876763,
          0.345175547442501,
          0.104103815439219,
          0.0430389977773288,
          0.180027381851968,
          0.219208206947118,
          0.100462653187855,
          0.057033213423348,
          0.061991258249401,
          0.0607501537200246,
          0.0283140283140283,
          0.419078649443609,
          0.328069537240888,
          0.0534036340487953,
          0.0483926604279563,
          0.464621782267724,
          0.378203117643812,
          0.0278128950695322,
          0.173896563342318,
          0.340840805675683,
          0.189531169437795,
          0.0841184845715762,
          0.0976489674942699,
          0.224667495073618,
          0.0280612244897959,
          0.102289526722104,
          0.104763066131275,
          0.0473545673228297,
          0.350190617972803,
          0.0849518698355908,
          0.0369897959183673,
          0.206522098931709,
          0.0279365079365079,
          0.281665978689898,
          0.196476038581302,
          0.0678946241165132,
          0.0492096073361235,
          0.0814944951066894,
          0.068291820859215,
          0.38511442730609,
          0.172815946103294,
          0.344402005615726,
          0.452683106636539,
          0.209323654741575,
          0.205103217180656,
          0.0278128950695322,
          0.112327658882705,
          0.0971051016214962,
          0.611877183305755,
          0.62216430255792,
          0.632183213750034,
          0.396761017216028,
          0.0279365079365079,
          0.0790729868719706,
          0.245114400304685,
          0.280735511947718,
          0.255168232944176,
          0.288000605675852,
          0.220774272868795,
          0.345638807669617,
          0.106718581102215,
          0.127411460850017,
          0.0369458128078818,
          0.294308469119672,
          0.265605144121768,
          0.149561047890893,
          0.271883992832323,
          0.251876542568256,
          0.278968889627887,
          0.302726341702672,
          0.145816596256209,
          0.415044793927133,
          0.207271087781324,
          0.149873659444946,
          0.129103648964276,
          0.127882686419272,
          0.146315119512443,
          0.350991661032229,
          0.0314663310258024,
          0.238676942231745,
          0.335047320055236,
          0.380258454581913,
          0.0426246242840129,
          0.240875064852518,
          0.0557741989193602,
          0.0696784527764594,
          0.291672224445334,
          0.10976294029577,
          0.275864124188488,
          0.269130140387432,
          0.0711360711360711,
          0.232712535075818,
          0.0958941679438574,
          0.147509513077432,
          0.0490234803598859,
          0.300145999443661,
          0.318435036838312,
          0.186135915847094,
          0.204821110501838,
          0.0397828362114076,
          0.0893340069541443,
          0.647926688037922,
          0.159077412513256,
          0.100536851327898,
          0.183392123189051,
          0.168656415393342,
          0.0896324121046268,
          0.162777204975362,
          0.167716556019528,
          0.100223914017018,
          0.196649749250986,
          0.167087403893172,
          0.215175524713403,
          0.110710918576674,
          0.0387146728610143,
          0.0302076777847703,
          0.130837434092018,
          0.211067503924647,
          0.156052682789488,
          0.194822472848789,
          0.175648939122213,
          0.0549803499112255,
          0.412087936598919,
          0.322653599060829,
          0.0979825070722717,
          0.126319286401613,
          0.108473705794375,
          0.174262613909484,
          0.36717495663944,
          0.346273275238264,
          0.0810005955926146,
          0.295629211549507,
          0.327077989396049,
          0.325626784004598,
          0.0929423383792676,
          0.207208940128195,
          0.160558760427378,
          0.16302581430999,
          0.174033373571281,
          0.140316032887975,
          0.0585291825601903,
          0.128629597986785,
          0.119450383193691,
          0.238062312766875,
          0.0549422336328626,
          0.0986216476119244,
          0.156968151230567,
          0.147125434509657,
          0.10828885400314,
          0.186691344525446,
          0.13781047302642,
          0.0730236144674085,
          0.212755410646878,
          0.26661311674343,
          0.0902815838595655,
          0.0617078666230692,
          0.132545574143756,
          0.191769029615424,
          0.20991303619829,
          0.0493234738829452,
          0.161714402011327,
          0.0703323186199899,
          0.241824051232849,
          0.256749470731715,
          0.173459990562851,
          0.206853761067143,
          0.344807152934431,
          0.142770543391661,
          0.403122593359317,
          0.349886112475726,
          0.16962286757002,
          0.131475967085582,
          0.0371057513914657,
          0.273849134670758,
          0.0963737256420183,
          0.195451183077363,
          0.110750093783037,
          0.158444245983898,
          0.165567245759577,
          0.0399078847512627,
          0.26871170397921,
          0.307140525073656,
          0.310233158235207,
          0.0910724495630156,
          0.176418405085083,
          0.0850043953492229,
          0.217937682559734,
          0.234620943894127,
          0.0634339149715608,
          0.407899056936475,
          0.118516547021438,
          0.27128144326468,
          0.158100408182134,
          0.222898156774131,
          0.153501944142338,
          0.0828929135380748,
          0.272396000128153,
          0.187894097912265,
          0.251478584618915,
          0.17550159964372,
          0.175086321725462,
          0.184308173029978,
          0.191703418397771,
          0.143692364833747,
          0.0629406435858049,
          0.18397306641902,
          0.0311915159076731,
          0.0745869776482021,
          0.0575795885530399,
          0.0856213080029436,
          0.169517109169249,
          0.176848606068839,
          0.0838063896887426,
          0.150400849390417,
          0.155092855353737,
          0.323577150278049,
          0.113585165477917,
          0.100663919413919,
          0.186326039187605,
          0.364899526615836,
          0.283097348989011,
          0.137620824625119,
          0.0942030192030192,
          0.295245289158916,
          0.172000968382204,
          0.0994728800611154,
          0.12075142664203,
          0.0421875731610245,
          0.0744990303813833,
          0.227223061568413,
          0.0886183261183261,
          0.0369458128078818,
          0.335818891434345,
          0.198257123052528,
          0.185037150300716,
          0.173354622107705,
          0.161562439175197,
          0.173338152465287,
          0.134258400107519,
          0.0544700460829493,
          0.0366300366300366,
          0.0856741573033708,
          0.174901477832512,
          0.318057092043763,
          0.21142470190645,
          0.195196066695037,
          0.268338448293814,
          0.354684553290825,
          0.218568934483619,
          0.11822277524219,
          0.0642567371776297,
          0.0734715904710508,
          0.418488691371987,
          0.520559177698393,
          0.407866073624759,
          0.219560094244648,
          0.101265353454872,
          0.141396998767094,
          0.286047396844719,
          0.4772218656473,
          0.4796128864501,
          0.492983637293565,
          0.147562668040721,
          0.512526224314632,
          0.123711158975072,
          0.124035297838153,
          0.0568617301096311,
          0.483400725642793,
          0.436821867888111,
          0.0513338513338513,
          0.430725353772461,
          0.365674961014306,
          0.457502651092911,
          0.127795875621963,
          0.212476412476412,
          0.418641790439027,
          0.191863057804897,
          0.131864892297481,
          0.0354420354420354,
          0.12061923623791,
          0.104498796358221,
          0.285612761222517,
          0.0609005506964691,
          0.136407123662601,
          0.504808654295896,
          0.427048100203684,
          0.0565925076844094,
          0.276726592995767,
          0.056221198156682,
          0.103153854593947,
          0.21717099325795,
          0.166093922563902,
          0.186266385541663,
          0.103334951700122,
          0.119744394625911,
          0.130716516120727,
          0.102413413050699,
          0.0876322751322751,
          0.0918606734041754,
          0.170624599692923,
          0.322175647313001,
          0.232997597874075,
          0.152350235465649,
          0.0483204738523888,
          0.0788046510589863,
          0.469410391121946,
          0.13997856039348,
          0.192197853819391,
          0.478129555462423,
          0.122491548214032,
          0.0788039112055128,
          0.0959660556635194,
          0.20678957458821,
          0.104134340893897,
          0.174115641807335,
          0.150623864169386,
          0.0847211087073915,
          0.0244530244530244,
          0.0504745551634998,
          0.0447280859651994,
          0.226990933819237,
          0.262091738864953,
          0.0780134713984116,
          0.109605151489968,
          0.104749501031765,
          0.0279365079365079,
          0.385244656472024,
          0.387845987392414,
          0.0851146898831089,
          0.131238803913463,
          0.0565329580107905,
          0.0245636716224951,
          0.0822824680483985,
          0.522078896224078,
          0.0755766421401096,
          0.071228046279691,
          0.316177190835377,
          0.57678466225656,
          0.0589555915824274,
          0.138385138385138,
          0.121085168746218,
          0.0793197278911565,
          0.173019588938602,
          0.206034420457146,
          0.0243433696348495,
          0.189351931563713,
          0.0571226644929953,
          0.16483451221231,
          0.0628189490067943,
          0.0955799067723304,
          0.119818871604586,
          0.21000604777941,
          0.126661478243419,
          0.133297713089854,
          0.0425213237264887,
          0.0518153621601897,
          0.105724299065421,
          0.129681709392124,
          0.130640885446304,
          0.0364684335272571,
          0.125765250667895,
          0.149849294907061,
          0.128138583746413,
          0.150930022358594,
          0.182897549263608,
          0.124980903298781,
          0.173779096547513,
          0.157414414312576,
          0.083313325330132,
          0.16237383907541,
          0.284303021100774,
          0.140376458112407,
          0.39867788729122,
          0.404436762602465,
          0.0784750624815683,
          0.256216119471398,
          0.0831090781339537,
          0.247379583758752,
          0.188644282546722,
          0.112672899234872,
          0.042989417989418,
          0.0703488372093023,
          0.169608068607159,
          0.130749152807976,
          0.21671110321252,
          0.171998498396014,
          0.135706290973049,
          0.0643364701363549,
          0.167216203149059,
          0.03147804576376,
          0.212186019839081,
          0.140519722717039,
          0.147848027046712,
          0.102049949620749,
          0.0279365079365079,
          0.129287138943684,
          0.203753487480362,
          0.152729478666856,
          0.148176014591883,
          0.145468567974962,
          0.285169083185225,
          0.193717861086282,
          0.203581408239793,
          0.14836276809961,
          0.194504722317664,
          0.212412470764431,
          0.11041935231845,
          0.214255071397928,
          0.0509664189800013,
          0.0526662277814352,
          0.246388764247482,
          0.0354420354420354,
          0.0915559929160986,
          0.0847037494952522,
          0.0875061316392586,
          0.158025468736955,
          0.203623795559279,
          0.055055935701097,
          0.123153102825289,
          0.311846447373264,
          0.155725167035669,
          0.16294599636846,
          0.0723909657320872,
          0.294392161816097,
          0.182821544021054,
          0.0803159973666886,
          0.111590156177381,
          0.387417027417027,
          0.111070958564937,
          0.0340045872524883,
          0.110458229048439,
          0.102156418122805,
          0.0541624062281705,
          0.105135501843113,
          0.0646753246753247,
          0.0243433696348495,
          0.209926939003026,
          0.14911120488226,
          0.18385341730903,
          0.17542778487679,
          0.159214847176405,
          0.064196864385811,
          0.158503151076472,
          0.0333355826978878,
          0.132852064185924,
          0.125485002438378,
          0.0826291079812207,
          0.378354214700963,
          0.133187590233091,
          0.137618526539878,
          0.271440007319864,
          0.115429701001466,
          0.110522625779214,
          0.0356643356643357,
          0.0280612244897959,
          0.0354420354420354,
          0.600772063535089,
          0.617128655703205,
          0.595262291511391,
          0.412592938763456,
          0.0457276927865163
         ],
         "type": "box",
         "xaxis": "x",
         "yaxis": "y"
        },
        {
         "name": "Bloomz",
         "x": [
          "F1 bloomz-560M generate",
          "F1 bloomz-560M generate",
          "F1 bloomz-560M generate",
          "F1 bloomz-560M generate",
          "F1 bloomz-560M generate",
          "F1 bloomz-560M generate",
          "F1 bloomz-560M generate",
          "F1 bloomz-560M generate",
          "F1 bloomz-560M generate",
          "F1 bloomz-560M generate",
          "F1 bloomz-560M generate",
          "F1 bloomz-560M generate",
          "F1 bloomz-560M generate",
          "F1 bloomz-560M generate",
          "F1 bloomz-560M generate",
          "F1 bloomz-560M generate",
          "F1 bloomz-560M generate",
          "F1 bloomz-560M generate",
          "F1 bloomz-560M generate",
          "F1 bloomz-560M generate",
          "F1 bloomz-560M generate",
          "F1 bloomz-560M generate",
          "F1 bloomz-560M generate",
          "F1 bloomz-560M generate",
          "F1 bloomz-560M generate",
          "F1 bloomz-560M generate",
          "F1 bloomz-560M generate",
          "F1 bloomz-560M generate",
          "F1 bloomz-560M generate",
          "F1 bloomz-560M generate",
          "F1 bloomz-560M generate",
          "F1 bloomz-560M generate",
          "F1 bloomz-560M generate",
          "F1 bloomz-560M generate",
          "F1 bloomz-560M generate",
          "F1 bloomz-560M generate",
          "F1 bloomz-560M generate",
          "F1 bloomz-560M generate",
          "F1 bloomz-560M generate",
          "F1 bloomz-560M generate",
          "F1 bloomz-560M generate",
          "F1 bloomz-560M generate",
          "F1 bloomz-560M generate",
          "F1 bloomz-560M generate",
          "F1 bloomz-560M generate",
          "F1 bloomz-560M generate",
          "F1 bloomz-560M generate",
          "F1 bloomz-560M generate",
          "F1 bloomz-560M generate",
          "F1 bloomz-560M generate",
          "F1 bloomz-560M generate",
          "F1 bloomz-560M generate",
          "F1 bloomz-560M generate",
          "F1 bloomz-560M generate",
          "F1 bloomz-560M generate",
          "F1 bloomz-560M generate",
          "F1 bloomz-560M generate",
          "F1 bloomz-560M generate",
          "F1 bloomz-560M generate",
          "F1 bloomz-560M generate",
          "F1 bloomz-560M generate",
          "F1 bloomz-560M generate",
          "F1 bloomz-560M generate",
          "F1 bloomz-560M generate",
          "F1 bloomz-560M generate",
          "F1 bloomz-560M generate",
          "F1 bloomz-560M generate",
          "F1 bloomz-560M generate",
          "F1 bloomz-560M generate",
          "F1 bloomz-560M generate",
          "F1 bloomz-560M generate",
          "F1 bloomz-560M generate",
          "F1 bloomz-560M generate",
          "F1 bloomz-560M generate",
          "F1 bloomz-560M generate",
          "F1 bloomz-560M generate",
          "F1 bloomz-560M generate",
          "F1 bloomz-560M generate",
          "F1 bloomz-560M generate",
          "F1 bloomz-560M generate",
          "F1 bloomz-560M generate",
          "F1 bloomz-560M generate",
          "F1 bloomz-560M generate",
          "F1 bloomz-560M generate",
          "F1 bloomz-560M generate",
          "F1 bloomz-560M generate",
          "F1 bloomz-560M generate",
          "F1 bloomz-560M generate",
          "F1 bloomz-560M generate",
          "F1 bloomz-560M generate",
          "F1 bloomz-560M generate",
          "F1 bloomz-560M generate",
          "F1 bloomz-560M generate",
          "F1 bloomz-560M generate",
          "F1 bloomz-560M generate",
          "F1 bloomz-560M generate",
          "F1 bloomz-560M generate",
          "F1 bloomz-560M generate",
          "F1 bloomz-560M generate",
          "F1 bloomz-560M generate",
          "F1 bloomz-560M generate",
          "F1 bloomz-560M generate",
          "F1 bloomz-560M generate",
          "F1 bloomz-560M generate",
          "F1 bloomz-560M generate",
          "F1 bloomz-560M generate",
          "F1 bloomz-560M generate",
          "F1 bloomz-560M generate",
          "F1 bloomz-560M generate",
          "F1 bloomz-560M generate",
          "F1 bloomz-560M generate",
          "F1 bloomz-560M generate",
          "F1 bloomz-560M generate",
          "F1 bloomz-560M generate",
          "F1 bloomz-560M generate",
          "F1 bloomz-560M generate",
          "F1 bloomz-560M generate",
          "F1 bloomz-560M generate",
          "F1 bloomz-560M generate",
          "F1 bloomz-560M generate",
          "F1 bloomz-560M generate",
          "F1 bloomz-560M generate",
          "F1 bloomz-560M generate",
          "F1 bloomz-560M generate",
          "F1 bloomz-560M generate",
          "F1 bloomz-560M generate",
          "F1 bloomz-560M generate",
          "F1 bloomz-560M generate",
          "F1 bloomz-560M generate",
          "F1 bloomz-560M generate",
          "F1 bloomz-560M generate",
          "F1 bloomz-560M generate",
          "F1 bloomz-560M generate",
          "F1 bloomz-560M generate",
          "F1 bloomz-560M generate",
          "F1 bloomz-560M generate",
          "F1 bloomz-560M generate",
          "F1 bloomz-560M generate",
          "F1 bloomz-560M generate",
          "F1 bloomz-560M generate",
          "F1 bloomz-560M generate",
          "F1 bloomz-560M generate",
          "F1 bloomz-560M generate",
          "F1 bloomz-560M generate",
          "F1 bloomz-560M generate",
          "F1 bloomz-560M generate",
          "F1 bloomz-560M generate",
          "F1 bloomz-560M generate",
          "F1 bloomz-560M generate",
          "F1 bloomz-560M generate",
          "F1 bloomz-560M generate",
          "F1 bloomz-560M generate",
          "F1 bloomz-560M generate",
          "F1 bloomz-560M generate",
          "F1 bloomz-560M generate",
          "F1 bloomz-560M generate",
          "F1 bloomz-560M generate",
          "F1 bloomz-560M generate",
          "F1 bloomz-560M generate",
          "F1 bloomz-560M generate",
          "F1 bloomz-560M generate",
          "F1 bloomz-560M generate",
          "F1 bloomz-560M generate",
          "F1 bloomz-560M generate",
          "F1 bloomz-560M generate",
          "F1 bloomz-560M generate",
          "F1 bloomz-560M generate",
          "F1 bloomz-560M generate",
          "F1 bloomz-560M generate",
          "F1 bloomz-560M generate",
          "F1 bloomz-560M generate",
          "F1 bloomz-560M generate",
          "F1 bloomz-560M generate",
          "F1 bloomz-560M generate",
          "F1 bloomz-560M generate",
          "F1 bloomz-560M generate",
          "F1 bloomz-560M generate",
          "F1 bloomz-560M generate",
          "F1 bloomz-560M generate",
          "F1 bloomz-560M generate",
          "F1 bloomz-560M generate",
          "F1 bloomz-560M generate",
          "F1 bloomz-560M generate",
          "F1 bloomz-560M generate",
          "F1 bloomz-560M generate",
          "F1 bloomz-560M generate",
          "F1 bloomz-560M generate",
          "F1 bloomz-560M generate",
          "F1 bloomz-560M generate",
          "F1 bloomz-560M generate",
          "F1 bloomz-560M generate",
          "F1 bloomz-560M generate",
          "F1 bloomz-560M generate",
          "F1 bloomz-560M generate",
          "F1 bloomz-560M generate",
          "F1 bloomz-560M generate",
          "F1 bloomz-560M generate",
          "F1 bloomz-560M generate",
          "F1 bloomz-560M generate",
          "F1 bloomz-560M generate",
          "F1 bloomz-560M generate",
          "F1 bloomz-560M generate",
          "F1 bloomz-560M generate",
          "F1 bloomz-560M generate",
          "F1 bloomz-1b1 generate",
          "F1 bloomz-1b1 generate",
          "F1 bloomz-1b1 generate",
          "F1 bloomz-1b1 generate",
          "F1 bloomz-1b1 generate",
          "F1 bloomz-1b1 generate",
          "F1 bloomz-1b1 generate",
          "F1 bloomz-1b1 generate",
          "F1 bloomz-1b1 generate",
          "F1 bloomz-1b1 generate",
          "F1 bloomz-1b1 generate",
          "F1 bloomz-1b1 generate",
          "F1 bloomz-1b1 generate",
          "F1 bloomz-1b1 generate",
          "F1 bloomz-1b1 generate",
          "F1 bloomz-1b1 generate",
          "F1 bloomz-1b1 generate",
          "F1 bloomz-1b1 generate",
          "F1 bloomz-1b1 generate",
          "F1 bloomz-1b1 generate",
          "F1 bloomz-1b1 generate",
          "F1 bloomz-1b1 generate",
          "F1 bloomz-1b1 generate",
          "F1 bloomz-1b1 generate",
          "F1 bloomz-1b1 generate",
          "F1 bloomz-1b1 generate",
          "F1 bloomz-1b1 generate",
          "F1 bloomz-1b1 generate",
          "F1 bloomz-1b1 generate",
          "F1 bloomz-1b1 generate",
          "F1 bloomz-1b1 generate",
          "F1 bloomz-1b1 generate",
          "F1 bloomz-1b1 generate",
          "F1 bloomz-1b1 generate",
          "F1 bloomz-1b1 generate",
          "F1 bloomz-1b1 generate",
          "F1 bloomz-1b1 generate",
          "F1 bloomz-1b1 generate",
          "F1 bloomz-1b1 generate",
          "F1 bloomz-1b1 generate",
          "F1 bloomz-1b1 generate",
          "F1 bloomz-1b1 generate",
          "F1 bloomz-1b1 generate",
          "F1 bloomz-1b1 generate",
          "F1 bloomz-1b1 generate",
          "F1 bloomz-1b1 generate",
          "F1 bloomz-1b1 generate",
          "F1 bloomz-1b1 generate",
          "F1 bloomz-1b1 generate",
          "F1 bloomz-1b1 generate",
          "F1 bloomz-1b1 generate",
          "F1 bloomz-1b1 generate",
          "F1 bloomz-1b1 generate",
          "F1 bloomz-1b1 generate",
          "F1 bloomz-1b1 generate",
          "F1 bloomz-1b1 generate",
          "F1 bloomz-1b1 generate",
          "F1 bloomz-1b1 generate",
          "F1 bloomz-1b1 generate",
          "F1 bloomz-1b1 generate",
          "F1 bloomz-1b1 generate",
          "F1 bloomz-1b1 generate",
          "F1 bloomz-1b1 generate",
          "F1 bloomz-1b1 generate",
          "F1 bloomz-1b1 generate",
          "F1 bloomz-1b1 generate",
          "F1 bloomz-1b1 generate",
          "F1 bloomz-1b1 generate",
          "F1 bloomz-1b1 generate",
          "F1 bloomz-1b1 generate",
          "F1 bloomz-1b1 generate",
          "F1 bloomz-1b1 generate",
          "F1 bloomz-1b1 generate",
          "F1 bloomz-1b1 generate",
          "F1 bloomz-1b1 generate",
          "F1 bloomz-1b1 generate",
          "F1 bloomz-1b1 generate",
          "F1 bloomz-1b1 generate",
          "F1 bloomz-1b1 generate",
          "F1 bloomz-1b1 generate",
          "F1 bloomz-1b1 generate",
          "F1 bloomz-1b1 generate",
          "F1 bloomz-1b1 generate",
          "F1 bloomz-1b1 generate",
          "F1 bloomz-1b1 generate",
          "F1 bloomz-1b1 generate",
          "F1 bloomz-1b1 generate",
          "F1 bloomz-1b1 generate",
          "F1 bloomz-1b1 generate",
          "F1 bloomz-1b1 generate",
          "F1 bloomz-1b1 generate",
          "F1 bloomz-1b1 generate",
          "F1 bloomz-1b1 generate",
          "F1 bloomz-1b1 generate",
          "F1 bloomz-1b1 generate",
          "F1 bloomz-1b1 generate",
          "F1 bloomz-1b1 generate",
          "F1 bloomz-1b1 generate",
          "F1 bloomz-1b1 generate",
          "F1 bloomz-1b1 generate",
          "F1 bloomz-1b1 generate",
          "F1 bloomz-1b1 generate",
          "F1 bloomz-1b1 generate",
          "F1 bloomz-1b1 generate",
          "F1 bloomz-1b1 generate",
          "F1 bloomz-1b1 generate",
          "F1 bloomz-1b1 generate",
          "F1 bloomz-1b1 generate",
          "F1 bloomz-1b1 generate",
          "F1 bloomz-1b1 generate",
          "F1 bloomz-1b1 generate",
          "F1 bloomz-1b1 generate",
          "F1 bloomz-1b1 generate",
          "F1 bloomz-1b1 generate",
          "F1 bloomz-1b1 generate",
          "F1 bloomz-1b1 generate",
          "F1 bloomz-1b1 generate",
          "F1 bloomz-1b1 generate",
          "F1 bloomz-1b1 generate",
          "F1 bloomz-1b1 generate",
          "F1 bloomz-1b1 generate",
          "F1 bloomz-1b1 generate",
          "F1 bloomz-1b1 generate",
          "F1 bloomz-1b1 generate",
          "F1 bloomz-1b1 generate",
          "F1 bloomz-1b1 generate",
          "F1 bloomz-1b1 generate",
          "F1 bloomz-1b1 generate",
          "F1 bloomz-1b1 generate",
          "F1 bloomz-1b1 generate",
          "F1 bloomz-1b1 generate",
          "F1 bloomz-1b1 generate",
          "F1 bloomz-1b1 generate",
          "F1 bloomz-1b1 generate",
          "F1 bloomz-1b1 generate",
          "F1 bloomz-1b1 generate",
          "F1 bloomz-1b1 generate",
          "F1 bloomz-1b1 generate",
          "F1 bloomz-1b1 generate",
          "F1 bloomz-1b1 generate",
          "F1 bloomz-1b1 generate",
          "F1 bloomz-1b1 generate",
          "F1 bloomz-1b1 generate",
          "F1 bloomz-1b1 generate",
          "F1 bloomz-1b1 generate",
          "F1 bloomz-1b1 generate",
          "F1 bloomz-1b1 generate",
          "F1 bloomz-1b1 generate",
          "F1 bloomz-1b1 generate",
          "F1 bloomz-1b1 generate",
          "F1 bloomz-1b1 generate",
          "F1 bloomz-1b1 generate",
          "F1 bloomz-1b1 generate",
          "F1 bloomz-1b1 generate",
          "F1 bloomz-1b1 generate",
          "F1 bloomz-1b1 generate",
          "F1 bloomz-1b1 generate",
          "F1 bloomz-1b1 generate",
          "F1 bloomz-1b1 generate",
          "F1 bloomz-1b1 generate",
          "F1 bloomz-1b1 generate",
          "F1 bloomz-1b1 generate",
          "F1 bloomz-1b1 generate",
          "F1 bloomz-1b1 generate",
          "F1 bloomz-1b1 generate",
          "F1 bloomz-1b1 generate",
          "F1 bloomz-1b1 generate",
          "F1 bloomz-1b1 generate",
          "F1 bloomz-1b1 generate",
          "F1 bloomz-1b1 generate",
          "F1 bloomz-1b1 generate",
          "F1 bloomz-1b1 generate",
          "F1 bloomz-1b1 generate",
          "F1 bloomz-1b1 generate",
          "F1 bloomz-1b1 generate",
          "F1 bloomz-1b1 generate",
          "F1 bloomz-1b1 generate",
          "F1 bloomz-1b1 generate",
          "F1 bloomz-1b1 generate",
          "F1 bloomz-1b1 generate",
          "F1 bloomz-1b1 generate",
          "F1 bloomz-1b1 generate",
          "F1 bloomz-1b1 generate",
          "F1 bloomz-1b1 generate",
          "F1 bloomz-1b1 generate",
          "F1 bloomz-1b1 generate",
          "F1 bloomz-1b1 generate",
          "F1 bloomz-1b1 generate",
          "F1 bloomz-1b1 generate",
          "F1 bloomz-1b1 generate",
          "F1 bloomz-1b1 generate",
          "F1 bloomz-1b1 generate",
          "F1 bloomz-1b1 generate",
          "F1 bloomz-1b1 generate",
          "F1 bloomz-1b1 generate",
          "F1 bloomz-1b1 generate",
          "F1 bloomz-1b1 generate",
          "F1 bloomz-1b1 generate",
          "F1 bloomz-1b1 generate",
          "F1 bloomz-1b1 generate",
          "F1 bloomz-1b1 generate",
          "F1 bloomz-1b1 generate",
          "F1 bloomz-1b1 generate",
          "F1 bloomz-1b1 generate",
          "F1 bloomz-1b7 generate",
          "F1 bloomz-1b7 generate",
          "F1 bloomz-1b7 generate",
          "F1 bloomz-1b7 generate",
          "F1 bloomz-1b7 generate",
          "F1 bloomz-1b7 generate",
          "F1 bloomz-1b7 generate",
          "F1 bloomz-1b7 generate",
          "F1 bloomz-1b7 generate",
          "F1 bloomz-1b7 generate",
          "F1 bloomz-1b7 generate",
          "F1 bloomz-1b7 generate",
          "F1 bloomz-1b7 generate",
          "F1 bloomz-1b7 generate",
          "F1 bloomz-1b7 generate",
          "F1 bloomz-1b7 generate",
          "F1 bloomz-1b7 generate",
          "F1 bloomz-1b7 generate",
          "F1 bloomz-1b7 generate",
          "F1 bloomz-1b7 generate",
          "F1 bloomz-1b7 generate",
          "F1 bloomz-1b7 generate",
          "F1 bloomz-1b7 generate",
          "F1 bloomz-1b7 generate",
          "F1 bloomz-1b7 generate",
          "F1 bloomz-1b7 generate",
          "F1 bloomz-1b7 generate",
          "F1 bloomz-1b7 generate",
          "F1 bloomz-1b7 generate",
          "F1 bloomz-1b7 generate",
          "F1 bloomz-1b7 generate",
          "F1 bloomz-1b7 generate",
          "F1 bloomz-1b7 generate",
          "F1 bloomz-1b7 generate",
          "F1 bloomz-1b7 generate",
          "F1 bloomz-1b7 generate",
          "F1 bloomz-1b7 generate",
          "F1 bloomz-1b7 generate",
          "F1 bloomz-1b7 generate",
          "F1 bloomz-1b7 generate",
          "F1 bloomz-1b7 generate",
          "F1 bloomz-1b7 generate",
          "F1 bloomz-1b7 generate",
          "F1 bloomz-1b7 generate",
          "F1 bloomz-1b7 generate",
          "F1 bloomz-1b7 generate",
          "F1 bloomz-1b7 generate",
          "F1 bloomz-1b7 generate",
          "F1 bloomz-1b7 generate",
          "F1 bloomz-1b7 generate",
          "F1 bloomz-1b7 generate",
          "F1 bloomz-1b7 generate",
          "F1 bloomz-1b7 generate",
          "F1 bloomz-1b7 generate",
          "F1 bloomz-1b7 generate",
          "F1 bloomz-1b7 generate",
          "F1 bloomz-1b7 generate",
          "F1 bloomz-1b7 generate",
          "F1 bloomz-1b7 generate",
          "F1 bloomz-1b7 generate",
          "F1 bloomz-1b7 generate",
          "F1 bloomz-1b7 generate",
          "F1 bloomz-1b7 generate",
          "F1 bloomz-1b7 generate",
          "F1 bloomz-1b7 generate",
          "F1 bloomz-1b7 generate",
          "F1 bloomz-1b7 generate",
          "F1 bloomz-1b7 generate",
          "F1 bloomz-1b7 generate",
          "F1 bloomz-1b7 generate",
          "F1 bloomz-1b7 generate",
          "F1 bloomz-1b7 generate",
          "F1 bloomz-1b7 generate",
          "F1 bloomz-1b7 generate",
          "F1 bloomz-1b7 generate",
          "F1 bloomz-1b7 generate",
          "F1 bloomz-1b7 generate",
          "F1 bloomz-1b7 generate",
          "F1 bloomz-1b7 generate",
          "F1 bloomz-1b7 generate",
          "F1 bloomz-1b7 generate",
          "F1 bloomz-1b7 generate",
          "F1 bloomz-1b7 generate",
          "F1 bloomz-1b7 generate",
          "F1 bloomz-1b7 generate",
          "F1 bloomz-1b7 generate",
          "F1 bloomz-1b7 generate",
          "F1 bloomz-1b7 generate",
          "F1 bloomz-1b7 generate",
          "F1 bloomz-1b7 generate",
          "F1 bloomz-1b7 generate",
          "F1 bloomz-1b7 generate",
          "F1 bloomz-1b7 generate",
          "F1 bloomz-1b7 generate",
          "F1 bloomz-1b7 generate",
          "F1 bloomz-1b7 generate",
          "F1 bloomz-1b7 generate",
          "F1 bloomz-1b7 generate",
          "F1 bloomz-1b7 generate",
          "F1 bloomz-1b7 generate",
          "F1 bloomz-1b7 generate",
          "F1 bloomz-1b7 generate",
          "F1 bloomz-1b7 generate",
          "F1 bloomz-1b7 generate",
          "F1 bloomz-1b7 generate",
          "F1 bloomz-1b7 generate",
          "F1 bloomz-1b7 generate",
          "F1 bloomz-1b7 generate",
          "F1 bloomz-1b7 generate",
          "F1 bloomz-1b7 generate",
          "F1 bloomz-1b7 generate",
          "F1 bloomz-1b7 generate",
          "F1 bloomz-1b7 generate",
          "F1 bloomz-1b7 generate",
          "F1 bloomz-1b7 generate",
          "F1 bloomz-1b7 generate",
          "F1 bloomz-1b7 generate",
          "F1 bloomz-1b7 generate",
          "F1 bloomz-1b7 generate",
          "F1 bloomz-1b7 generate",
          "F1 bloomz-1b7 generate",
          "F1 bloomz-1b7 generate",
          "F1 bloomz-1b7 generate",
          "F1 bloomz-1b7 generate",
          "F1 bloomz-1b7 generate",
          "F1 bloomz-1b7 generate",
          "F1 bloomz-1b7 generate",
          "F1 bloomz-1b7 generate",
          "F1 bloomz-1b7 generate",
          "F1 bloomz-1b7 generate",
          "F1 bloomz-1b7 generate",
          "F1 bloomz-1b7 generate",
          "F1 bloomz-1b7 generate",
          "F1 bloomz-1b7 generate",
          "F1 bloomz-1b7 generate",
          "F1 bloomz-1b7 generate",
          "F1 bloomz-1b7 generate",
          "F1 bloomz-1b7 generate",
          "F1 bloomz-1b7 generate",
          "F1 bloomz-1b7 generate",
          "F1 bloomz-1b7 generate",
          "F1 bloomz-1b7 generate",
          "F1 bloomz-1b7 generate",
          "F1 bloomz-1b7 generate",
          "F1 bloomz-1b7 generate",
          "F1 bloomz-1b7 generate",
          "F1 bloomz-1b7 generate",
          "F1 bloomz-1b7 generate",
          "F1 bloomz-1b7 generate",
          "F1 bloomz-1b7 generate",
          "F1 bloomz-1b7 generate",
          "F1 bloomz-1b7 generate",
          "F1 bloomz-1b7 generate",
          "F1 bloomz-1b7 generate",
          "F1 bloomz-1b7 generate",
          "F1 bloomz-1b7 generate",
          "F1 bloomz-1b7 generate",
          "F1 bloomz-1b7 generate",
          "F1 bloomz-1b7 generate",
          "F1 bloomz-1b7 generate",
          "F1 bloomz-1b7 generate",
          "F1 bloomz-1b7 generate",
          "F1 bloomz-1b7 generate",
          "F1 bloomz-1b7 generate",
          "F1 bloomz-1b7 generate",
          "F1 bloomz-1b7 generate",
          "F1 bloomz-1b7 generate",
          "F1 bloomz-1b7 generate",
          "F1 bloomz-1b7 generate",
          "F1 bloomz-1b7 generate",
          "F1 bloomz-1b7 generate",
          "F1 bloomz-1b7 generate",
          "F1 bloomz-1b7 generate",
          "F1 bloomz-1b7 generate",
          "F1 bloomz-1b7 generate",
          "F1 bloomz-1b7 generate",
          "F1 bloomz-1b7 generate",
          "F1 bloomz-1b7 generate",
          "F1 bloomz-1b7 generate",
          "F1 bloomz-1b7 generate",
          "F1 bloomz-1b7 generate",
          "F1 bloomz-1b7 generate",
          "F1 bloomz-1b7 generate",
          "F1 bloomz-1b7 generate",
          "F1 bloomz-1b7 generate",
          "F1 bloomz-1b7 generate",
          "F1 bloomz-1b7 generate",
          "F1 bloomz-1b7 generate",
          "F1 bloomz-1b7 generate",
          "F1 bloomz-1b7 generate",
          "F1 bloomz-1b7 generate",
          "F1 bloomz-1b7 generate",
          "F1 bloomz-1b7 generate",
          "F1 bloomz-1b7 generate",
          "F1 bloomz-1b7 generate",
          "F1 bloomz-1b7 generate",
          "F1 bloomz-1b7 generate",
          "F1 bloomz-1b7 generate",
          "F1 bloomz-1b7 generate",
          "F1 bloomz-1b7 generate",
          "F1 bloomz-1b7 generate",
          "F1 bloomz-1b7 generate",
          "F1 bloomz-1b7 generate",
          "F1 bloomz-1b7 generate",
          "F1 bloomz-3b generate",
          "F1 bloomz-3b generate",
          "F1 bloomz-3b generate",
          "F1 bloomz-3b generate",
          "F1 bloomz-3b generate",
          "F1 bloomz-3b generate",
          "F1 bloomz-3b generate",
          "F1 bloomz-3b generate",
          "F1 bloomz-3b generate",
          "F1 bloomz-3b generate",
          "F1 bloomz-3b generate",
          "F1 bloomz-3b generate",
          "F1 bloomz-3b generate",
          "F1 bloomz-3b generate",
          "F1 bloomz-3b generate",
          "F1 bloomz-3b generate",
          "F1 bloomz-3b generate",
          "F1 bloomz-3b generate",
          "F1 bloomz-3b generate",
          "F1 bloomz-3b generate",
          "F1 bloomz-3b generate",
          "F1 bloomz-3b generate",
          "F1 bloomz-3b generate",
          "F1 bloomz-3b generate",
          "F1 bloomz-3b generate",
          "F1 bloomz-3b generate",
          "F1 bloomz-3b generate",
          "F1 bloomz-3b generate",
          "F1 bloomz-3b generate",
          "F1 bloomz-3b generate",
          "F1 bloomz-3b generate",
          "F1 bloomz-3b generate",
          "F1 bloomz-3b generate",
          "F1 bloomz-3b generate",
          "F1 bloomz-3b generate",
          "F1 bloomz-3b generate",
          "F1 bloomz-3b generate",
          "F1 bloomz-3b generate",
          "F1 bloomz-3b generate",
          "F1 bloomz-3b generate",
          "F1 bloomz-3b generate",
          "F1 bloomz-3b generate",
          "F1 bloomz-3b generate",
          "F1 bloomz-3b generate",
          "F1 bloomz-3b generate",
          "F1 bloomz-3b generate",
          "F1 bloomz-3b generate",
          "F1 bloomz-3b generate",
          "F1 bloomz-3b generate",
          "F1 bloomz-3b generate",
          "F1 bloomz-3b generate",
          "F1 bloomz-3b generate",
          "F1 bloomz-3b generate",
          "F1 bloomz-3b generate",
          "F1 bloomz-3b generate",
          "F1 bloomz-3b generate",
          "F1 bloomz-3b generate",
          "F1 bloomz-3b generate",
          "F1 bloomz-3b generate",
          "F1 bloomz-3b generate",
          "F1 bloomz-3b generate",
          "F1 bloomz-3b generate",
          "F1 bloomz-3b generate",
          "F1 bloomz-3b generate",
          "F1 bloomz-3b generate",
          "F1 bloomz-3b generate",
          "F1 bloomz-3b generate",
          "F1 bloomz-3b generate",
          "F1 bloomz-3b generate",
          "F1 bloomz-3b generate",
          "F1 bloomz-3b generate",
          "F1 bloomz-3b generate",
          "F1 bloomz-3b generate",
          "F1 bloomz-3b generate",
          "F1 bloomz-3b generate",
          "F1 bloomz-3b generate",
          "F1 bloomz-3b generate",
          "F1 bloomz-3b generate",
          "F1 bloomz-3b generate",
          "F1 bloomz-3b generate",
          "F1 bloomz-3b generate",
          "F1 bloomz-3b generate",
          "F1 bloomz-3b generate",
          "F1 bloomz-3b generate",
          "F1 bloomz-3b generate",
          "F1 bloomz-3b generate",
          "F1 bloomz-3b generate",
          "F1 bloomz-3b generate",
          "F1 bloomz-3b generate",
          "F1 bloomz-3b generate",
          "F1 bloomz-3b generate",
          "F1 bloomz-3b generate",
          "F1 bloomz-3b generate",
          "F1 bloomz-3b generate",
          "F1 bloomz-3b generate",
          "F1 bloomz-3b generate",
          "F1 bloomz-3b generate",
          "F1 bloomz-3b generate",
          "F1 bloomz-3b generate",
          "F1 bloomz-3b generate",
          "F1 bloomz-3b generate",
          "F1 bloomz-3b generate",
          "F1 bloomz-3b generate",
          "F1 bloomz-3b generate",
          "F1 bloomz-3b generate",
          "F1 bloomz-3b generate",
          "F1 bloomz-3b generate",
          "F1 bloomz-3b generate",
          "F1 bloomz-3b generate",
          "F1 bloomz-3b generate",
          "F1 bloomz-3b generate",
          "F1 bloomz-3b generate",
          "F1 bloomz-3b generate",
          "F1 bloomz-3b generate",
          "F1 bloomz-3b generate",
          "F1 bloomz-3b generate",
          "F1 bloomz-3b generate",
          "F1 bloomz-3b generate",
          "F1 bloomz-3b generate",
          "F1 bloomz-3b generate",
          "F1 bloomz-3b generate",
          "F1 bloomz-3b generate",
          "F1 bloomz-3b generate",
          "F1 bloomz-3b generate",
          "F1 bloomz-3b generate",
          "F1 bloomz-3b generate",
          "F1 bloomz-3b generate",
          "F1 bloomz-3b generate",
          "F1 bloomz-3b generate",
          "F1 bloomz-3b generate",
          "F1 bloomz-3b generate",
          "F1 bloomz-3b generate",
          "F1 bloomz-3b generate",
          "F1 bloomz-3b generate",
          "F1 bloomz-3b generate",
          "F1 bloomz-3b generate",
          "F1 bloomz-3b generate",
          "F1 bloomz-3b generate",
          "F1 bloomz-3b generate",
          "F1 bloomz-3b generate",
          "F1 bloomz-3b generate",
          "F1 bloomz-3b generate",
          "F1 bloomz-3b generate",
          "F1 bloomz-3b generate",
          "F1 bloomz-3b generate",
          "F1 bloomz-3b generate",
          "F1 bloomz-3b generate",
          "F1 bloomz-3b generate",
          "F1 bloomz-3b generate",
          "F1 bloomz-3b generate",
          "F1 bloomz-3b generate",
          "F1 bloomz-3b generate",
          "F1 bloomz-3b generate",
          "F1 bloomz-3b generate",
          "F1 bloomz-3b generate",
          "F1 bloomz-3b generate",
          "F1 bloomz-3b generate",
          "F1 bloomz-3b generate",
          "F1 bloomz-3b generate",
          "F1 bloomz-3b generate",
          "F1 bloomz-3b generate",
          "F1 bloomz-3b generate",
          "F1 bloomz-3b generate",
          "F1 bloomz-3b generate",
          "F1 bloomz-3b generate",
          "F1 bloomz-3b generate",
          "F1 bloomz-3b generate",
          "F1 bloomz-3b generate",
          "F1 bloomz-3b generate",
          "F1 bloomz-3b generate",
          "F1 bloomz-3b generate",
          "F1 bloomz-3b generate",
          "F1 bloomz-3b generate",
          "F1 bloomz-3b generate",
          "F1 bloomz-3b generate",
          "F1 bloomz-3b generate",
          "F1 bloomz-3b generate",
          "F1 bloomz-3b generate",
          "F1 bloomz-3b generate",
          "F1 bloomz-3b generate",
          "F1 bloomz-3b generate",
          "F1 bloomz-3b generate",
          "F1 bloomz-3b generate",
          "F1 bloomz-3b generate",
          "F1 bloomz-3b generate",
          "F1 bloomz-3b generate",
          "F1 bloomz-3b generate",
          "F1 bloomz-3b generate",
          "F1 bloomz-3b generate",
          "F1 bloomz-3b generate",
          "F1 bloomz-3b generate",
          "F1 bloomz-3b generate",
          "F1 bloomz-3b generate",
          "F1 bloomz-3b generate",
          "F1 bloomz-3b generate",
          "F1 bloomz-3b generate",
          "F1 bloomz-3b generate",
          "F1 bloomz-3b generate",
          "F1 bloomz-3b generate",
          "F1 bloomz-3b generate",
          "F1 bloomz-3b generate",
          "F1 bloomz-3b generate",
          "F1 bloomz-3b generate",
          "F1 bloomz-3b generate",
          "F1 bloomz-7b1 generate",
          "F1 bloomz-7b1 generate",
          "F1 bloomz-7b1 generate",
          "F1 bloomz-7b1 generate",
          "F1 bloomz-7b1 generate",
          "F1 bloomz-7b1 generate",
          "F1 bloomz-7b1 generate",
          "F1 bloomz-7b1 generate",
          "F1 bloomz-7b1 generate",
          "F1 bloomz-7b1 generate",
          "F1 bloomz-7b1 generate",
          "F1 bloomz-7b1 generate",
          "F1 bloomz-7b1 generate",
          "F1 bloomz-7b1 generate",
          "F1 bloomz-7b1 generate",
          "F1 bloomz-7b1 generate",
          "F1 bloomz-7b1 generate",
          "F1 bloomz-7b1 generate",
          "F1 bloomz-7b1 generate",
          "F1 bloomz-7b1 generate",
          "F1 bloomz-7b1 generate",
          "F1 bloomz-7b1 generate",
          "F1 bloomz-7b1 generate",
          "F1 bloomz-7b1 generate",
          "F1 bloomz-7b1 generate",
          "F1 bloomz-7b1 generate",
          "F1 bloomz-7b1 generate",
          "F1 bloomz-7b1 generate",
          "F1 bloomz-7b1 generate",
          "F1 bloomz-7b1 generate",
          "F1 bloomz-7b1 generate",
          "F1 bloomz-7b1 generate",
          "F1 bloomz-7b1 generate",
          "F1 bloomz-7b1 generate",
          "F1 bloomz-7b1 generate",
          "F1 bloomz-7b1 generate",
          "F1 bloomz-7b1 generate",
          "F1 bloomz-7b1 generate",
          "F1 bloomz-7b1 generate",
          "F1 bloomz-7b1 generate",
          "F1 bloomz-7b1 generate",
          "F1 bloomz-7b1 generate",
          "F1 bloomz-7b1 generate",
          "F1 bloomz-7b1 generate",
          "F1 bloomz-7b1 generate",
          "F1 bloomz-7b1 generate",
          "F1 bloomz-7b1 generate",
          "F1 bloomz-7b1 generate",
          "F1 bloomz-7b1 generate",
          "F1 bloomz-7b1 generate",
          "F1 bloomz-7b1 generate",
          "F1 bloomz-7b1 generate",
          "F1 bloomz-7b1 generate",
          "F1 bloomz-7b1 generate",
          "F1 bloomz-7b1 generate",
          "F1 bloomz-7b1 generate",
          "F1 bloomz-7b1 generate",
          "F1 bloomz-7b1 generate",
          "F1 bloomz-7b1 generate",
          "F1 bloomz-7b1 generate",
          "F1 bloomz-7b1 generate",
          "F1 bloomz-7b1 generate",
          "F1 bloomz-7b1 generate",
          "F1 bloomz-7b1 generate",
          "F1 bloomz-7b1 generate",
          "F1 bloomz-7b1 generate",
          "F1 bloomz-7b1 generate",
          "F1 bloomz-7b1 generate",
          "F1 bloomz-7b1 generate",
          "F1 bloomz-7b1 generate",
          "F1 bloomz-7b1 generate",
          "F1 bloomz-7b1 generate",
          "F1 bloomz-7b1 generate",
          "F1 bloomz-7b1 generate",
          "F1 bloomz-7b1 generate",
          "F1 bloomz-7b1 generate",
          "F1 bloomz-7b1 generate",
          "F1 bloomz-7b1 generate",
          "F1 bloomz-7b1 generate",
          "F1 bloomz-7b1 generate",
          "F1 bloomz-7b1 generate",
          "F1 bloomz-7b1 generate",
          "F1 bloomz-7b1 generate",
          "F1 bloomz-7b1 generate",
          "F1 bloomz-7b1 generate",
          "F1 bloomz-7b1 generate",
          "F1 bloomz-7b1 generate",
          "F1 bloomz-7b1 generate",
          "F1 bloomz-7b1 generate",
          "F1 bloomz-7b1 generate",
          "F1 bloomz-7b1 generate",
          "F1 bloomz-7b1 generate",
          "F1 bloomz-7b1 generate",
          "F1 bloomz-7b1 generate",
          "F1 bloomz-7b1 generate",
          "F1 bloomz-7b1 generate",
          "F1 bloomz-7b1 generate",
          "F1 bloomz-7b1 generate",
          "F1 bloomz-7b1 generate",
          "F1 bloomz-7b1 generate",
          "F1 bloomz-7b1 generate",
          "F1 bloomz-7b1 generate",
          "F1 bloomz-7b1 generate",
          "F1 bloomz-7b1 generate",
          "F1 bloomz-7b1 generate",
          "F1 bloomz-7b1 generate",
          "F1 bloomz-7b1 generate",
          "F1 bloomz-7b1 generate",
          "F1 bloomz-7b1 generate",
          "F1 bloomz-7b1 generate",
          "F1 bloomz-7b1 generate",
          "F1 bloomz-7b1 generate",
          "F1 bloomz-7b1 generate",
          "F1 bloomz-7b1 generate",
          "F1 bloomz-7b1 generate",
          "F1 bloomz-7b1 generate",
          "F1 bloomz-7b1 generate",
          "F1 bloomz-7b1 generate",
          "F1 bloomz-7b1 generate",
          "F1 bloomz-7b1 generate",
          "F1 bloomz-7b1 generate",
          "F1 bloomz-7b1 generate",
          "F1 bloomz-7b1 generate",
          "F1 bloomz-7b1 generate",
          "F1 bloomz-7b1 generate",
          "F1 bloomz-7b1 generate",
          "F1 bloomz-7b1 generate",
          "F1 bloomz-7b1 generate",
          "F1 bloomz-7b1 generate",
          "F1 bloomz-7b1 generate",
          "F1 bloomz-7b1 generate",
          "F1 bloomz-7b1 generate",
          "F1 bloomz-7b1 generate",
          "F1 bloomz-7b1 generate",
          "F1 bloomz-7b1 generate",
          "F1 bloomz-7b1 generate",
          "F1 bloomz-7b1 generate",
          "F1 bloomz-7b1 generate",
          "F1 bloomz-7b1 generate",
          "F1 bloomz-7b1 generate",
          "F1 bloomz-7b1 generate",
          "F1 bloomz-7b1 generate",
          "F1 bloomz-7b1 generate",
          "F1 bloomz-7b1 generate",
          "F1 bloomz-7b1 generate",
          "F1 bloomz-7b1 generate",
          "F1 bloomz-7b1 generate",
          "F1 bloomz-7b1 generate",
          "F1 bloomz-7b1 generate",
          "F1 bloomz-7b1 generate",
          "F1 bloomz-7b1 generate",
          "F1 bloomz-7b1 generate",
          "F1 bloomz-7b1 generate",
          "F1 bloomz-7b1 generate",
          "F1 bloomz-7b1 generate",
          "F1 bloomz-7b1 generate",
          "F1 bloomz-7b1 generate",
          "F1 bloomz-7b1 generate",
          "F1 bloomz-7b1 generate",
          "F1 bloomz-7b1 generate",
          "F1 bloomz-7b1 generate",
          "F1 bloomz-7b1 generate",
          "F1 bloomz-7b1 generate",
          "F1 bloomz-7b1 generate",
          "F1 bloomz-7b1 generate",
          "F1 bloomz-7b1 generate",
          "F1 bloomz-7b1 generate",
          "F1 bloomz-7b1 generate",
          "F1 bloomz-7b1 generate",
          "F1 bloomz-7b1 generate",
          "F1 bloomz-7b1 generate",
          "F1 bloomz-7b1 generate",
          "F1 bloomz-7b1 generate",
          "F1 bloomz-7b1 generate",
          "F1 bloomz-7b1 generate",
          "F1 bloomz-7b1 generate",
          "F1 bloomz-7b1 generate",
          "F1 bloomz-7b1 generate",
          "F1 bloomz-7b1 generate",
          "F1 bloomz-7b1 generate",
          "F1 bloomz-7b1 generate",
          "F1 bloomz-7b1 generate",
          "F1 bloomz-7b1 generate",
          "F1 bloomz-7b1 generate",
          "F1 bloomz-7b1 generate",
          "F1 bloomz-7b1 generate",
          "F1 bloomz-7b1 generate",
          "F1 bloomz-7b1 generate",
          "F1 bloomz-7b1 generate",
          "F1 bloomz-7b1 generate",
          "F1 bloomz-7b1 generate",
          "F1 bloomz-7b1 generate",
          "F1 bloomz-7b1 generate",
          "F1 bloomz-7b1 generate",
          "F1 bloomz-7b1 generate",
          "F1 bloomz-7b1 generate",
          "F1 bloomz-7b1 generate",
          "F1 bloomz-7b1 generate",
          "F1 bloomz-7b1 generate",
          "F1 bloomz-7b1 generate",
          "F1 bloomz-7b1 generate",
          "F1 bloomz-7b1 generate",
          "F1 bloomz-7b1 generate",
          "F1 bloomz-7b1 generate"
         ],
         "y": [
          0.105191935929301,
          0.35288835938085,
          0.459507145640562,
          0.460365120659238,
          0.455298726466379,
          0.414981019597472,
          0.437620356387798,
          0.310248032497588,
          0.269024004871661,
          0.0691921403578806,
          0.450989203466502,
          0.456802101407365,
          0.227042722771366,
          0.458502812270869,
          0.439471210603868,
          0.490721694317563,
          0.358078734223405,
          0.488424124046205,
          0.30444713581506,
          0.296985947348249,
          0.170149635017873,
          0.216593799977123,
          0.119937965115313,
          0.238140085351318,
          0.394733836104539,
          0.0639049746933564,
          0.265177314945117,
          0.450735840769097,
          0.293824402372892,
          0.107721500192153,
          0.368158394049787,
          0.0597230524008767,
          0.29009443176444,
          0.382114861802452,
          0.129153410549406,
          0.494547665855617,
          0.379577690564162,
          0.300483624503897,
          0.336290436696093,
          0.0704859568519943,
          0.301084425190302,
          0.305228324672559,
          0.400426549239398,
          0.395861343707588,
          0.259919371830486,
          0.33868947860793,
          0.0468384074941452,
          0.115968053173242,
          0.521740016707451,
          0.347428415792973,
          0.330331267984865,
          0.438796883564325,
          0.288177418183139,
          0.219670529502123,
          0.319631538814946,
          0.256755613918313,
          0.237898901158115,
          0.524349955599956,
          0.403778319863867,
          0.301304929417122,
          0.165740965432366,
          0.229257785893367,
          0.204036235867417,
          0.517243198257509,
          0.347840293085343,
          0.384507247973026,
          0.300536935585177,
          0.237053127500019,
          0.0527200072654618,
          0.36116154335494,
          0.328448637316562,
          0.28168084247752,
          0.275671233729609,
          0.0449279595015576,
          0.269671740703252,
          0.375990239974863,
          0.458266886094449,
          0.202781901617466,
          0.44103128054741,
          0.400852656471241,
          0.242785995279308,
          0.140795096529627,
          0.245119887347234,
          0.273035111173656,
          0.41557005024924,
          0.284561127346412,
          0.205271050327213,
          0.109451331835902,
          0.147535370792713,
          0.254705933097877,
          0.383223289199039,
          0.0924826730727975,
          0.189959114959115,
          0.300467835031375,
          0.328981158680108,
          0.11589164732277,
          0.278173313077077,
          0.223601029789323,
          0.0852008490595619,
          0.288417930926165,
          0.327599173534144,
          0.11311490233904,
          0.137181775681074,
          0.4536359050632,
          0.342467693125588,
          0.354188470758837,
          0.237031950887564,
          0.355598630225496,
          0.245578509761634,
          0.357225952732315,
          0.348834509325548,
          0.26768526414145,
          0.278430119659505,
          0.376782727425895,
          0.282972274247052,
          0.365179974889228,
          0.363310191225534,
          0.39407210031348,
          0.393811051235561,
          0.0794491885823155,
          0.365432976785161,
          0.140275116720771,
          0.348924654222494,
          0.168749633642289,
          0.23921144262714,
          0.260150249152926,
          0.0939979173209029,
          0.349049010293388,
          0.306591809930947,
          0.304949367449367,
          0.37971225767903,
          0.31799826423565,
          0.156079545454545,
          0.331635063297952,
          0.44684544845706,
          0.398363107814965,
          0.433748151294792,
          0.382538202247899,
          0.388890872457413,
          0.218377919436272,
          0.31346975709045,
          0.309774413751552,
          0.296656098957424,
          0.511097244046414,
          0.301142617891094,
          0.376770473037769,
          0.436041590549263,
          0.31615026766792,
          0.180039411850422,
          0.301606682899432,
          0.282696446308354,
          0.0525256636367747,
          0.370379651184462,
          0.182806600036989,
          0.0683895229349775,
          0.357469790364527,
          0.302856155472435,
          0.270377985938121,
          0.282233200355952,
          0.21614888953581,
          0.241646108993048,
          0.301621477937267,
          0.488677896943917,
          0.424594460770931,
          0.167967362898238,
          0.25727208141655,
          0.401876293014134,
          0.335117912106011,
          0.316298737008074,
          0.27987722777125,
          0.382768215198105,
          0.284870671956119,
          0.0665214058812162,
          0.0908812260536399,
          0.451753299778654,
          0.124570894609666,
          0.404800876872488,
          0.103752496594051,
          0.0781906889790707,
          0.393920268565058,
          0.317490720468056,
          0.27390542577787,
          0.262393162393162,
          0.254403079497537,
          0.342694271443208,
          0.31855960086159,
          0.0621325535660966,
          0.0745081531371854,
          0.078210354236638,
          0.290241011219808,
          0.401172724349728,
          0.318381927103458,
          0.381171993528973,
          0.382067719600813,
          0.383560611436912,
          0.331111996489283,
          0.268159902041481,
          0.0528122937893548,
          0.276107687621547,
          0.344580379060084,
          0.327758771492787,
          0.337263240734487,
          0.392789512073049,
          0.247996566526717,
          0.0948916054591201,
          0.260778965412123,
          0.38205816858528,
          0.330938279729718,
          0.34369285894494,
          0.318131054632897,
          0.369023412635643,
          0.262674584103155,
          0.255212773779149,
          0.0456611913057906,
          0.342135719883565,
          0.346219733522199,
          0.147106704177122,
          0.343739657981896,
          0.382246477511325,
          0.34967499153159,
          0.279729989963819,
          0.373226082547714,
          0.35285344092161,
          0.185810890012571,
          0.19139602329226,
          0.207386221601353,
          0.0707554993269279,
          0.214927666218214,
          0.242946625178342,
          0.0317460317460317,
          0.171275858053315,
          0.349086411095527,
          0.299514325249619,
          0.0707343807088053,
          0.270756919822516,
          0.0902399127589967,
          0.228436333296813,
          0.254468554706466,
          0.103250716755988,
          0.340967332623886,
          0.243553623428201,
          0.251009684436588,
          0.174686951680983,
          0.0494987680156614,
          0.221911663216011,
          0.175723165723166,
          0.316209342687924,
          0.361779909432521,
          0.254120675005264,
          0.20032362004193,
          0.0745629897528632,
          0.118267195126979,
          0.386150448404891,
          0.280520467505004,
          0.223749114929239,
          0.308508996201712,
          0.205682651536837,
          0.216969389157596,
          0.188091749694263,
          0.170689214167475,
          0.176771054141471,
          0.396907944748308,
          0.298661292162903,
          0.236106079987157,
          0.138581945361606,
          0.166751216547758,
          0.147127032631234,
          0.358681633407243,
          0.25903341358726,
          0.322892437892438,
          0.218957148076622,
          0.15254229156166,
          0.0869027773052541,
          0.353627171683537,
          0.364485947982287,
          0.232079198251974,
          0.162784325889165,
          0.0814732881439254,
          0.126027206624222,
          0.263119305927354,
          0.319229099120519,
          0.193033936738537,
          0.331445192376244,
          0.293894442094536,
          0.295754639297972,
          0.134344963151702,
          0.206627847989589,
          0.168335510532716,
          0.356474511804722,
          0.251574512444078,
          0.258851635889747,
          0.0438744613632506,
          0.0776757118220533,
          0.178159619103318,
          0.306062229843175,
          0.0372405372405372,
          0.106510582202983,
          0.23923384139014,
          0.245435988160446,
          0.0448747680890538,
          0.189324707550514,
          0.18977318977319,
          0.0565195173808455,
          0.226638312793743,
          0.207908163265306,
          0.0758287441960911,
          0.0906314095418933,
          0.262016112483402,
          0.286328486328486,
          0.201011804706723,
          0.234761738861147,
          0.285868177634941,
          0.214481061504735,
          0.291895248665504,
          0.194399591558407,
          0.170918490311385,
          0.231005091754835,
          0.251898260102508,
          0.233457891900473,
          0.374238426429261,
          0.361453313373663,
          0.278987678987679,
          0.313640603119081,
          0.0432159165035877,
          0.300770490643908,
          0.068482541758122,
          0.260405745822356,
          0.0620942440903302,
          0.200017434819691,
          0.155944705857749,
          0.0648434169084983,
          0.333174169342197,
          0.260317314746882,
          0.314649120953939,
          0.350477481358988,
          0.203512217437256,
          0.130179033696622,
          0.216358190551174,
          0.355780317992299,
          0.309623824451411,
          0.300605055898345,
          0.405056186085504,
          0.261247069955485,
          0.164498883710706,
          0.253106417392132,
          0.190545454545455,
          0.254938867438867,
          0.372691496940639,
          0.231515132577064,
          0.229306867099681,
          0.247072304508587,
          0.208508711951524,
          0.177522913685535,
          0.243330627705628,
          0.297700463129456,
          0.0803451577908762,
          0.260184597570616,
          0.151513045083969,
          0.0368228262965105,
          0.221038961038961,
          0.239563583928984,
          0.19171993121573,
          0.17211408876447,
          0.162176870748299,
          0.15824940123205,
          0.20415287327052,
          0.36710183841662,
          0.265518365156046,
          0.0643060040917775,
          0.171420000806647,
          0.296879637305169,
          0.281766828126284,
          0.265911335144842,
          0.257261876811086,
          0.36600491796144,
          0.208976293852654,
          0.0646536646536647,
          0.06573512287798,
          0.282353353259854,
          0.0382690521142378,
          0.238953022286356,
          0.0617358320876151,
          0.0495721224269524,
          0.342456830261852,
          0.205839778833908,
          0.171368317549035,
          0.233898549464342,
          0.192519892760646,
          0.208980506276563,
          0.300408096510152,
          0.0377585377585378,
          0.0438850555129625,
          0.0445861678004535,
          0.149183741293127,
          0.315411921347486,
          0.213253945381784,
          0.296947856063821,
          0.383325214143629,
          0.293605222046028,
          0.282852282852283,
          0.199719818896773,
          0.0374215850990536,
          0.171600761516728,
          0.321813874512171,
          0.330227742013419,
          0.356542503250036,
          0.316372024031447,
          0.16139013108183,
          0.114470728161755,
          0.262736488613497,
          0.335226430315716,
          0.353313172043011,
          0.315780882977715,
          0.207929175031976,
          0.332090521880203,
          0.244945394372259,
          0.217555988722112,
          0.0472255017709563,
          0.348998026239406,
          0.342716911325934,
          0.181883185307843,
          0.339783633304849,
          0.327394284439325,
          0.320660544913539,
          0.38052598327372,
          0.308558400440498,
          0.385202226615889,
          0.228993444972348,
          0.138954234518751,
          0.179842187422772,
          0.138846337200064,
          0.219351312514928,
          0.234246039152254,
          0.0685854793738611,
          0.20621333976143,
          0.39227966043185,
          0.333272831714686,
          0.0716278143056386,
          0.246342592592593,
          0.0603595227026189,
          0.221580932032769,
          0.247276981714672,
          0.123418248418248,
          0.342571118397731,
          0.249945887445887,
          0.205166301479694,
          0.230185514968124,
          0.0721685761047463,
          0.177464008859358,
          0.186445971595824,
          0.223661969132687,
          0.273657124947363,
          0.224265780123165,
          0.189428860175112,
          0.0468384074941452,
          0.0689798071127185,
          0.389342140418455,
          0.203480887304417,
          0.181298977567013,
          0.307918053127291,
          0.188496148973368,
          0.210602131066198,
          0.182070753375361,
          0.20531112223139,
          0.183735528007713,
          0.339680695921552,
          0.243352613181814,
          0.179032721010333,
          0.140645050017247,
          0.207261501601124,
          0.159133905500185,
          0.35731273920175,
          0.225545263559969,
          0.364085655417324,
          0.197105846656553,
          0.174169905855007,
          0.0784305353940739,
          0.365836222261394,
          0.320290369747601,
          0.182705353542541,
          0.197899037520295,
          0.058410469198851,
          0.281614651244289,
          0.239012617816966,
          0.346982748276964,
          0.214443203402899,
          0.318729710774865,
          0.248095652350971,
          0.319019502832601,
          0.0902325903364253,
          0.189934807081776,
          0.195593758093758,
          0.363795071814554,
          0.235211475894706,
          0.222333430125125,
          0.0819693246471489,
          0.119530078710645,
          0.220156654939264,
          0.227404187427479,
          0.0706394027913015,
          0.18122851950729,
          0.253471745367692,
          0.233773478955778,
          0.113612623935205,
          0.184083301056825,
          0.167716482589354,
          0.0837514774665476,
          0.209988669802906,
          0.216784038683749,
          0.117258881954642,
          0.173890023447546,
          0.214273531698087,
          0.21275803382826,
          0.285437381341086,
          0.180432360037623,
          0.212297809816535,
          0.210358010791315,
          0.220655534941249,
          0.224161727043163,
          0.206216332752969,
          0.191374446809229,
          0.232829730259587,
          0.17556598934001,
          0.363348696084352,
          0.379995665926579,
          0.347828292580985,
          0.331276792519011,
          0.077175697865353,
          0.25351552985649,
          0.0909431569237865,
          0.194096467338367,
          0.133824508824509,
          0.190395365152647,
          0.158023127577278,
          0.089520757020757,
          0.235178196119999,
          0.231649010202367,
          0.218104892523497,
          0.373902967913712,
          0.23503584392302,
          0.126747787610619,
          0.242067739519014,
          0.303659769760424,
          0.380685614624586,
          0.263925010093623,
          0.373045871354006,
          0.232133140039668,
          0.161943716291542,
          0.145377200171721,
          0.219386957400212,
          0.196596553562976,
          0.369804182482076,
          0.156456690028587,
          0.235818860942014,
          0.24726553869411,
          0.223349679729768,
          0.144152457198309,
          0.217203582447405,
          0.318003371529928,
          0.0468384074941452,
          0.22056856187291,
          0.225233669592602,
          0.0682349503214494,
          0.227840161861041,
          0.225012329520881,
          0.159796917421627,
          0.208373422457012,
          0.158833544504276,
          0.20495914240317,
          0.266981876345761,
          0.352700316351094,
          0.225150521537257,
          0.111106058692266,
          0.237310577035762,
          0.277513709073495,
          0.197414862960392,
          0.263733001141908,
          0.189634445450086,
          0.319160849865503,
          0.238254854947265,
          0.0597230524008767,
          0.12026862026862,
          0.354524389406839,
          0.112679737613034,
          0.22128221136332,
          0.0999225006458279,
          0.0608309439478271,
          0.226064885960066,
          0.241053433973059,
          0.220985646633144,
          0.184553261204205,
          0.219629897121645,
          0.191736634184337,
          0.279117150983332,
          0.051456388799485,
          0.12305155162298,
          0.0856213535525925,
          0.163086342880863,
          0.380419090713208,
          0.15484496124031,
          0.225920715248155,
          0.35645208523292,
          0.259641395649786,
          0.25330357056325,
          0.227492535854429,
          0.0413223140495868,
          0.240244675866295,
          0.366669087599249,
          0.391396207570736,
          0.37600173724301,
          0.298548131038464,
          0.244301465925196,
          0.142853239065781,
          0.335328829636287,
          0.435668208116553,
          0.453235950497058,
          0.442201626722128,
          0.309195402298851,
          0.460215925139126,
          0.353334084969588,
          0.311738626592701,
          0.0966988089229176,
          0.453119724646723,
          0.468787309386968,
          0.224052041896281,
          0.4685437729426,
          0.448474045735154,
          0.431383948991394,
          0.437715565183884,
          0.45371030368647,
          0.490311157552537,
          0.251676516653264,
          0.180199641239969,
          0.246925387419148,
          0.209598074697315,
          0.303137833497269,
          0.399032778687034,
          0.118899841791408,
          0.27183064361268,
          0.467022728128972,
          0.456995128234726,
          0.136020583190395,
          0.385718830617577,
          0.122298096855619,
          0.296820307580396,
          0.367181144271767,
          0.219131969563004,
          0.468189708472662,
          0.36953902692819,
          0.263210007047216,
          0.257559000722616,
          0.13855967163379,
          0.282627514912547,
          0.228985538562018,
          0.362025829235218,
          0.399073345554303,
          0.263839329963326,
          0.310533410008243,
          0.0468384074941452,
          0.150617810823415,
          0.499246825246599,
          0.322594951193767,
          0.263794841687022,
          0.458974951142749,
          0.286603839265792,
          0.238598827366943,
          0.264775402664062,
          0.240365179252479,
          0.28559235575745,
          0.473167474796977,
          0.373280608194401,
          0.272123200937371,
          0.173927345802346,
          0.223477332852333,
          0.227730348343102,
          0.496015773455631,
          0.359427414544742,
          0.468589619504254,
          0.345680412717618,
          0.230059065228557,
          0.123677809604583,
          0.491596424010217,
          0.475761356766987,
          0.272280693580953,
          0.288032050283102,
          0.0796985030571368,
          0.374499537450028,
          0.36350123649198,
          0.491369822450511,
          0.228236916522483,
          0.436003946710886,
          0.396787199657328,
          0.417700528539747,
          0.165559057002673,
          0.257941044256834,
          0.247284617069929,
          0.467202146332743,
          0.284661891639784,
          0.318550527155142,
          0.115057399291472,
          0.186701991370554,
          0.234287074776721,
          0.359101543132126,
          0.147806570343527,
          0.197297461008905,
          0.358427308795794,
          0.390438352027084,
          0.176449237301497,
          0.28669803599019,
          0.233312402913111,
          0.0777793013893466,
          0.285457482953011,
          0.29068680473966,
          0.176291380261069,
          0.214062443379468,
          0.372963113448116,
          0.313025608210379,
          0.357771463913372,
          0.247601589425387,
          0.311300733600579,
          0.237092350982415,
          0.308532110667571,
          0.309250695541018,
          0.344421994995854,
          0.255928304910406,
          0.303665007218404,
          0.228949958561286,
          0.484816628264209,
          0.485791820457073,
          0.474578989869755,
          0.480698651719545,
          0.117112072267842,
          0.413779360007808,
          0.191099773033434,
          0.303626122544788,
          0.202793848092565,
          0.298256392996475,
          0.236799414259226,
          0.106231671554252,
          0.323413037885589,
          0.302455451525219,
          0.334206219294316,
          0.493562392795883,
          0.366645206626145,
          0.15875570174122,
          0.367978570924484,
          0.431505069074708,
          0.475748646482015,
          0.361555070112006,
          0.490123254185489,
          0.427047805561966,
          0.231729119847561,
          0.33792688727822,
          0.304074896471866,
          0.273860453272218,
          0.464908159502658,
          0.332936729432731,
          0.280514317878901,
          0.413597301839747,
          0.386566690431008,
          0.301437100448958,
          0.266855990053265,
          0.405212520426055,
          0.056225896684708,
          0.324513920515065,
          0.190761059556772,
          0.0995180508528673,
          0.259885848981594,
          0.218235444845291,
          0.245748546829397,
          0.385213801396446,
          0.204639613453064,
          0.228701621411516,
          0.356734917262025,
          0.469949684994275,
          0.372258926287564,
          0.18821349873865,
          0.293674490618539,
          0.380190907180535,
          0.333361471784353,
          0.43096663836203,
          0.23106998293636,
          0.452307605253105,
          0.254245878112147,
          0.0691469522114683,
          0.198033056017522,
          0.480511036927889,
          0.170539018933724,
          0.311507543884616,
          0.157621051678075,
          0.096399304357241,
          0.322245137491616,
          0.359589284504884,
          0.344928118855106,
          0.25574456420042,
          0.342146274777854,
          0.294312611490418,
          0.382615844521307,
          0.059008160703076,
          0.154419233276095,
          0.150771378169634,
          0.265705836188268,
          0.456542896318381,
          0.217090890682637,
          0.364379437265494,
          0.494098548510313,
          0.379073245600644,
          0.358700852312834,
          0.329349844118726,
          0.085013854679803,
          0.368853184304338,
          0.482893601694005,
          0.489758628164161,
          0.485620779999753,
          0.451145223187134,
          0.345928047108171,
          0.102028873024681,
          0.411151149942641,
          0.491920691382189,
          0.496479038101379,
          0.466281905484891,
          0.370527169345519,
          0.486685279850708,
          0.404000173882803,
          0.317035916981569,
          0.0962876782512168,
          0.488297614449688,
          0.500647008274361,
          0.209396172803068,
          0.502391341382103,
          0.508502193075378,
          0.502548178199186,
          0.491881204843077,
          0.528717318172795,
          0.505319832911455,
          0.24263853013853,
          0.222245255730468,
          0.280789440734459,
          0.194097051597052,
          0.36031318389759,
          0.419503148383898,
          0.11332435846297,
          0.295577355936472,
          0.524179984582101,
          0.493125734489198,
          0.118785975928833,
          0.449490021053794,
          0.0964885954381753,
          0.378776397539368,
          0.388534779593326,
          0.336846579163695,
          0.529206485338561,
          0.402451255420139,
          0.323620175556151,
          0.263291814021219,
          0.170070957010978,
          0.293239572144647,
          0.255321182372266,
          0.395028064923513,
          0.510229848215561,
          0.27313262298287,
          0.305423678648516,
          0.0468384074941452,
          0.16738087065757,
          0.518622157163824,
          0.405440863905397,
          0.297837761189614,
          0.534818481496631,
          0.259804276625009,
          0.260960778352083,
          0.267562026875445,
          0.256111174365702,
          0.292285103874778,
          0.545128887124999,
          0.43148216480696,
          0.296318874982525,
          0.224158471163452,
          0.234115555408972,
          0.201893858143858,
          0.534852806342245,
          0.360897845171588,
          0.518546236457695,
          0.372952636892852,
          0.241632590717005,
          0.115985007435868,
          0.5332712405576,
          0.493779294195719,
          0.323289907746236,
          0.28411659554838,
          0.0782312925170068,
          0.444979296066253,
          0.401470217968086,
          0.519885392531937,
          0.248778971281853,
          0.501257174586726,
          0.45227167959825,
          0.458815804779457,
          0.137732919254658,
          0.243238471961876,
          0.294853476994554,
          0.526591287620699,
          0.36034100183636,
          0.343234450290553,
          0.114460403726708,
          0.203987029594446,
          0.243347138117896,
          0.450231223850545,
          0.143455035302861,
          0.199697162697749,
          0.442147803546383,
          0.443822020198024,
          0.194999850227654,
          0.256766391158633,
          0.260676873101911,
          0.0833259190808484,
          0.286766381766382,
          0.313258090988807,
          0.21624668695626,
          0.208909913813857,
          0.42764944141908,
          0.363080195158615,
          0.450971431718381,
          0.33286723523445,
          0.450436980190777,
          0.298514392370504,
          0.386369642886827,
          0.361897456010828,
          0.342802054606974,
          0.277691293287763,
          0.327047947357278,
          0.323032033326151,
          0.505002619221101,
          0.50994958184869,
          0.515039682539683,
          0.506327784327672,
          0.101878273433267,
          0.429589099625864,
          0.228991596638655,
          0.410138833901952,
          0.230884681025908,
          0.239522893078782,
          0.181880536695717,
          0.102529761904762,
          0.42645817135815,
          0.374479336488158,
          0.387028329269709,
          0.531338409702776,
          0.425791002254091,
          0.144420418131967,
          0.39841207578762,
          0.497370885260481,
          0.537519583695547,
          0.404639626145859,
          0.513507211543004,
          0.452520512973293,
          0.295199564661189,
          0.369092470442958,
          0.291118963717728,
          0.330314864397929,
          0.526884270516346,
          0.341308003643641,
          0.26618722922399,
          0.481391088994557,
          0.4628478557642,
          0.414032854923359,
          0.30172785739606,
          0.467322770737455,
          0.0468384074941452,
          0.377914380991639,
          0.201982386704483,
          0.104605478555058,
          0.345487867378346,
          0.354326375379007,
          0.205635336070119,
          0.462959538735936,
          0.273153440822614,
          0.300422781527894,
          0.408148879074512,
          0.557821869666487,
          0.432920958269336,
          0.271944450116185,
          0.301420381620604,
          0.444643130589121,
          0.395500848219893,
          0.502909647208043,
          0.314300225272111,
          0.508182233696179,
          0.280993814948399,
          0.0902698865191394,
          0.192152777777778,
          0.5112754544526,
          0.150060641972407,
          0.398441062465769,
          0.144614440093361,
          0.0860835966185638,
          0.379645071850754,
          0.421861388011921,
          0.410147691828341,
          0.291839461592865,
          0.435954248668968,
          0.339737041310854,
          0.41533326844921,
          0.0674311026217185,
          0.143082439617766,
          0.301780602914606,
          0.221486408678527,
          0.508301090000791,
          0.262631307063215,
          0.429469525579517,
          0.539050765126347,
          0.401590428563267,
          0.385144300374292,
          0.409093736098984,
          0.107782227760213,
          0.437727601381159,
          0.499336724113173,
          0.508120333613755,
          0.520345172039545,
          0.495171407929426,
          0.408460248804203
         ],
         "type": "box",
         "xaxis": "x2",
         "yaxis": "y2"
        },
        {
         "name": "XGLM",
         "x": [
          "F1 xglm-564M top_logprobs",
          "F1 xglm-564M top_logprobs",
          "F1 xglm-564M top_logprobs",
          "F1 xglm-564M top_logprobs",
          "F1 xglm-564M top_logprobs",
          "F1 xglm-564M top_logprobs",
          "F1 xglm-564M top_logprobs",
          "F1 xglm-564M top_logprobs",
          "F1 xglm-564M top_logprobs",
          "F1 xglm-564M top_logprobs",
          "F1 xglm-564M top_logprobs",
          "F1 xglm-564M top_logprobs",
          "F1 xglm-564M top_logprobs",
          "F1 xglm-564M top_logprobs",
          "F1 xglm-564M top_logprobs",
          "F1 xglm-564M top_logprobs",
          "F1 xglm-564M top_logprobs",
          "F1 xglm-564M top_logprobs",
          "F1 xglm-564M top_logprobs",
          "F1 xglm-564M top_logprobs",
          "F1 xglm-564M top_logprobs",
          "F1 xglm-564M top_logprobs",
          "F1 xglm-564M top_logprobs",
          "F1 xglm-564M top_logprobs",
          "F1 xglm-564M top_logprobs",
          "F1 xglm-564M top_logprobs",
          "F1 xglm-564M top_logprobs",
          "F1 xglm-564M top_logprobs",
          "F1 xglm-564M top_logprobs",
          "F1 xglm-564M top_logprobs",
          "F1 xglm-564M top_logprobs",
          "F1 xglm-564M top_logprobs",
          "F1 xglm-564M top_logprobs",
          "F1 xglm-564M top_logprobs",
          "F1 xglm-564M top_logprobs",
          "F1 xglm-564M top_logprobs",
          "F1 xglm-564M top_logprobs",
          "F1 xglm-564M top_logprobs",
          "F1 xglm-564M top_logprobs",
          "F1 xglm-564M top_logprobs",
          "F1 xglm-564M top_logprobs",
          "F1 xglm-564M top_logprobs",
          "F1 xglm-564M top_logprobs",
          "F1 xglm-564M top_logprobs",
          "F1 xglm-564M top_logprobs",
          "F1 xglm-564M top_logprobs",
          "F1 xglm-564M top_logprobs",
          "F1 xglm-564M top_logprobs",
          "F1 xglm-564M top_logprobs",
          "F1 xglm-564M top_logprobs",
          "F1 xglm-564M top_logprobs",
          "F1 xglm-564M top_logprobs",
          "F1 xglm-564M top_logprobs",
          "F1 xglm-564M top_logprobs",
          "F1 xglm-564M top_logprobs",
          "F1 xglm-564M top_logprobs",
          "F1 xglm-564M top_logprobs",
          "F1 xglm-564M top_logprobs",
          "F1 xglm-564M top_logprobs",
          "F1 xglm-564M top_logprobs",
          "F1 xglm-564M top_logprobs",
          "F1 xglm-564M top_logprobs",
          "F1 xglm-564M top_logprobs",
          "F1 xglm-564M top_logprobs",
          "F1 xglm-564M top_logprobs",
          "F1 xglm-564M top_logprobs",
          "F1 xglm-564M top_logprobs",
          "F1 xglm-564M top_logprobs",
          "F1 xglm-564M top_logprobs",
          "F1 xglm-564M top_logprobs",
          "F1 xglm-564M top_logprobs",
          "F1 xglm-564M top_logprobs",
          "F1 xglm-564M top_logprobs",
          "F1 xglm-564M top_logprobs",
          "F1 xglm-564M top_logprobs",
          "F1 xglm-564M top_logprobs",
          "F1 xglm-564M top_logprobs",
          "F1 xglm-564M top_logprobs",
          "F1 xglm-564M top_logprobs",
          "F1 xglm-564M top_logprobs",
          "F1 xglm-564M top_logprobs",
          "F1 xglm-564M top_logprobs",
          "F1 xglm-564M top_logprobs",
          "F1 xglm-564M top_logprobs",
          "F1 xglm-564M top_logprobs",
          "F1 xglm-564M top_logprobs",
          "F1 xglm-564M top_logprobs",
          "F1 xglm-564M top_logprobs",
          "F1 xglm-564M top_logprobs",
          "F1 xglm-564M top_logprobs",
          "F1 xglm-564M top_logprobs",
          "F1 xglm-564M top_logprobs",
          "F1 xglm-564M top_logprobs",
          "F1 xglm-564M top_logprobs",
          "F1 xglm-564M top_logprobs",
          "F1 xglm-564M top_logprobs",
          "F1 xglm-564M top_logprobs",
          "F1 xglm-564M top_logprobs",
          "F1 xglm-564M top_logprobs",
          "F1 xglm-564M top_logprobs",
          "F1 xglm-564M top_logprobs",
          "F1 xglm-564M top_logprobs",
          "F1 xglm-564M top_logprobs",
          "F1 xglm-564M top_logprobs",
          "F1 xglm-564M top_logprobs",
          "F1 xglm-564M top_logprobs",
          "F1 xglm-564M top_logprobs",
          "F1 xglm-564M top_logprobs",
          "F1 xglm-564M top_logprobs",
          "F1 xglm-564M top_logprobs",
          "F1 xglm-564M top_logprobs",
          "F1 xglm-564M top_logprobs",
          "F1 xglm-564M top_logprobs",
          "F1 xglm-564M top_logprobs",
          "F1 xglm-564M top_logprobs",
          "F1 xglm-564M top_logprobs",
          "F1 xglm-564M top_logprobs",
          "F1 xglm-564M top_logprobs",
          "F1 xglm-564M top_logprobs",
          "F1 xglm-564M top_logprobs",
          "F1 xglm-564M top_logprobs",
          "F1 xglm-564M top_logprobs",
          "F1 xglm-564M top_logprobs",
          "F1 xglm-564M top_logprobs",
          "F1 xglm-564M top_logprobs",
          "F1 xglm-564M top_logprobs",
          "F1 xglm-564M top_logprobs",
          "F1 xglm-564M top_logprobs",
          "F1 xglm-564M top_logprobs",
          "F1 xglm-564M top_logprobs",
          "F1 xglm-564M top_logprobs",
          "F1 xglm-564M top_logprobs",
          "F1 xglm-564M top_logprobs",
          "F1 xglm-564M top_logprobs",
          "F1 xglm-564M top_logprobs",
          "F1 xglm-564M top_logprobs",
          "F1 xglm-564M top_logprobs",
          "F1 xglm-564M top_logprobs",
          "F1 xglm-564M top_logprobs",
          "F1 xglm-564M top_logprobs",
          "F1 xglm-564M top_logprobs",
          "F1 xglm-564M top_logprobs",
          "F1 xglm-564M top_logprobs",
          "F1 xglm-564M top_logprobs",
          "F1 xglm-564M top_logprobs",
          "F1 xglm-564M top_logprobs",
          "F1 xglm-564M top_logprobs",
          "F1 xglm-564M top_logprobs",
          "F1 xglm-564M top_logprobs",
          "F1 xglm-564M top_logprobs",
          "F1 xglm-564M top_logprobs",
          "F1 xglm-564M top_logprobs",
          "F1 xglm-564M top_logprobs",
          "F1 xglm-564M top_logprobs",
          "F1 xglm-564M top_logprobs",
          "F1 xglm-564M top_logprobs",
          "F1 xglm-564M top_logprobs",
          "F1 xglm-564M top_logprobs",
          "F1 xglm-564M top_logprobs",
          "F1 xglm-564M top_logprobs",
          "F1 xglm-564M top_logprobs",
          "F1 xglm-564M top_logprobs",
          "F1 xglm-564M top_logprobs",
          "F1 xglm-564M top_logprobs",
          "F1 xglm-564M top_logprobs",
          "F1 xglm-564M top_logprobs",
          "F1 xglm-564M top_logprobs",
          "F1 xglm-564M top_logprobs",
          "F1 xglm-564M top_logprobs",
          "F1 xglm-564M top_logprobs",
          "F1 xglm-564M top_logprobs",
          "F1 xglm-564M top_logprobs",
          "F1 xglm-564M top_logprobs",
          "F1 xglm-564M top_logprobs",
          "F1 xglm-564M top_logprobs",
          "F1 xglm-564M top_logprobs",
          "F1 xglm-564M top_logprobs",
          "F1 xglm-564M top_logprobs",
          "F1 xglm-564M top_logprobs",
          "F1 xglm-564M top_logprobs",
          "F1 xglm-564M top_logprobs",
          "F1 xglm-564M top_logprobs",
          "F1 xglm-564M top_logprobs",
          "F1 xglm-564M top_logprobs",
          "F1 xglm-564M top_logprobs",
          "F1 xglm-564M top_logprobs",
          "F1 xglm-564M top_logprobs",
          "F1 xglm-564M top_logprobs",
          "F1 xglm-564M top_logprobs",
          "F1 xglm-564M top_logprobs",
          "F1 xglm-564M top_logprobs",
          "F1 xglm-564M top_logprobs",
          "F1 xglm-564M top_logprobs",
          "F1 xglm-564M top_logprobs",
          "F1 xglm-564M top_logprobs",
          "F1 xglm-564M top_logprobs",
          "F1 xglm-564M top_logprobs",
          "F1 xglm-564M top_logprobs",
          "F1 xglm-564M top_logprobs",
          "F1 xglm-564M top_logprobs",
          "F1 xglm-564M top_logprobs",
          "F1 xglm-564M top_logprobs",
          "F1 xglm-564M top_logprobs",
          "F1 xglm-564M top_logprobs",
          "F1 xglm-1.7B top_logprobs",
          "F1 xglm-1.7B top_logprobs",
          "F1 xglm-1.7B top_logprobs",
          "F1 xglm-1.7B top_logprobs",
          "F1 xglm-1.7B top_logprobs",
          "F1 xglm-1.7B top_logprobs",
          "F1 xglm-1.7B top_logprobs",
          "F1 xglm-1.7B top_logprobs",
          "F1 xglm-1.7B top_logprobs",
          "F1 xglm-1.7B top_logprobs",
          "F1 xglm-1.7B top_logprobs",
          "F1 xglm-1.7B top_logprobs",
          "F1 xglm-1.7B top_logprobs",
          "F1 xglm-1.7B top_logprobs",
          "F1 xglm-1.7B top_logprobs",
          "F1 xglm-1.7B top_logprobs",
          "F1 xglm-1.7B top_logprobs",
          "F1 xglm-1.7B top_logprobs",
          "F1 xglm-1.7B top_logprobs",
          "F1 xglm-1.7B top_logprobs",
          "F1 xglm-1.7B top_logprobs",
          "F1 xglm-1.7B top_logprobs",
          "F1 xglm-1.7B top_logprobs",
          "F1 xglm-1.7B top_logprobs",
          "F1 xglm-1.7B top_logprobs",
          "F1 xglm-1.7B top_logprobs",
          "F1 xglm-1.7B top_logprobs",
          "F1 xglm-1.7B top_logprobs",
          "F1 xglm-1.7B top_logprobs",
          "F1 xglm-1.7B top_logprobs",
          "F1 xglm-1.7B top_logprobs",
          "F1 xglm-1.7B top_logprobs",
          "F1 xglm-1.7B top_logprobs",
          "F1 xglm-1.7B top_logprobs",
          "F1 xglm-1.7B top_logprobs",
          "F1 xglm-1.7B top_logprobs",
          "F1 xglm-1.7B top_logprobs",
          "F1 xglm-1.7B top_logprobs",
          "F1 xglm-1.7B top_logprobs",
          "F1 xglm-1.7B top_logprobs",
          "F1 xglm-1.7B top_logprobs",
          "F1 xglm-1.7B top_logprobs",
          "F1 xglm-1.7B top_logprobs",
          "F1 xglm-1.7B top_logprobs",
          "F1 xglm-1.7B top_logprobs",
          "F1 xglm-1.7B top_logprobs",
          "F1 xglm-1.7B top_logprobs",
          "F1 xglm-1.7B top_logprobs",
          "F1 xglm-1.7B top_logprobs",
          "F1 xglm-1.7B top_logprobs",
          "F1 xglm-1.7B top_logprobs",
          "F1 xglm-1.7B top_logprobs",
          "F1 xglm-1.7B top_logprobs",
          "F1 xglm-1.7B top_logprobs",
          "F1 xglm-1.7B top_logprobs",
          "F1 xglm-1.7B top_logprobs",
          "F1 xglm-1.7B top_logprobs",
          "F1 xglm-1.7B top_logprobs",
          "F1 xglm-1.7B top_logprobs",
          "F1 xglm-1.7B top_logprobs",
          "F1 xglm-1.7B top_logprobs",
          "F1 xglm-1.7B top_logprobs",
          "F1 xglm-1.7B top_logprobs",
          "F1 xglm-1.7B top_logprobs",
          "F1 xglm-1.7B top_logprobs",
          "F1 xglm-1.7B top_logprobs",
          "F1 xglm-1.7B top_logprobs",
          "F1 xglm-1.7B top_logprobs",
          "F1 xglm-1.7B top_logprobs",
          "F1 xglm-1.7B top_logprobs",
          "F1 xglm-1.7B top_logprobs",
          "F1 xglm-1.7B top_logprobs",
          "F1 xglm-1.7B top_logprobs",
          "F1 xglm-1.7B top_logprobs",
          "F1 xglm-1.7B top_logprobs",
          "F1 xglm-1.7B top_logprobs",
          "F1 xglm-1.7B top_logprobs",
          "F1 xglm-1.7B top_logprobs",
          "F1 xglm-1.7B top_logprobs",
          "F1 xglm-1.7B top_logprobs",
          "F1 xglm-1.7B top_logprobs",
          "F1 xglm-1.7B top_logprobs",
          "F1 xglm-1.7B top_logprobs",
          "F1 xglm-1.7B top_logprobs",
          "F1 xglm-1.7B top_logprobs",
          "F1 xglm-1.7B top_logprobs",
          "F1 xglm-1.7B top_logprobs",
          "F1 xglm-1.7B top_logprobs",
          "F1 xglm-1.7B top_logprobs",
          "F1 xglm-1.7B top_logprobs",
          "F1 xglm-1.7B top_logprobs",
          "F1 xglm-1.7B top_logprobs",
          "F1 xglm-1.7B top_logprobs",
          "F1 xglm-1.7B top_logprobs",
          "F1 xglm-1.7B top_logprobs",
          "F1 xglm-1.7B top_logprobs",
          "F1 xglm-1.7B top_logprobs",
          "F1 xglm-1.7B top_logprobs",
          "F1 xglm-1.7B top_logprobs",
          "F1 xglm-1.7B top_logprobs",
          "F1 xglm-1.7B top_logprobs",
          "F1 xglm-1.7B top_logprobs",
          "F1 xglm-1.7B top_logprobs",
          "F1 xglm-1.7B top_logprobs",
          "F1 xglm-1.7B top_logprobs",
          "F1 xglm-1.7B top_logprobs",
          "F1 xglm-1.7B top_logprobs",
          "F1 xglm-1.7B top_logprobs",
          "F1 xglm-1.7B top_logprobs",
          "F1 xglm-1.7B top_logprobs",
          "F1 xglm-1.7B top_logprobs",
          "F1 xglm-1.7B top_logprobs",
          "F1 xglm-1.7B top_logprobs",
          "F1 xglm-1.7B top_logprobs",
          "F1 xglm-1.7B top_logprobs",
          "F1 xglm-1.7B top_logprobs",
          "F1 xglm-1.7B top_logprobs",
          "F1 xglm-1.7B top_logprobs",
          "F1 xglm-1.7B top_logprobs",
          "F1 xglm-1.7B top_logprobs",
          "F1 xglm-1.7B top_logprobs",
          "F1 xglm-1.7B top_logprobs",
          "F1 xglm-1.7B top_logprobs",
          "F1 xglm-1.7B top_logprobs",
          "F1 xglm-1.7B top_logprobs",
          "F1 xglm-1.7B top_logprobs",
          "F1 xglm-1.7B top_logprobs",
          "F1 xglm-1.7B top_logprobs",
          "F1 xglm-1.7B top_logprobs",
          "F1 xglm-1.7B top_logprobs",
          "F1 xglm-1.7B top_logprobs",
          "F1 xglm-1.7B top_logprobs",
          "F1 xglm-1.7B top_logprobs",
          "F1 xglm-1.7B top_logprobs",
          "F1 xglm-1.7B top_logprobs",
          "F1 xglm-1.7B top_logprobs",
          "F1 xglm-1.7B top_logprobs",
          "F1 xglm-1.7B top_logprobs",
          "F1 xglm-1.7B top_logprobs",
          "F1 xglm-1.7B top_logprobs",
          "F1 xglm-1.7B top_logprobs",
          "F1 xglm-1.7B top_logprobs",
          "F1 xglm-1.7B top_logprobs",
          "F1 xglm-1.7B top_logprobs",
          "F1 xglm-1.7B top_logprobs",
          "F1 xglm-1.7B top_logprobs",
          "F1 xglm-1.7B top_logprobs",
          "F1 xglm-1.7B top_logprobs",
          "F1 xglm-1.7B top_logprobs",
          "F1 xglm-1.7B top_logprobs",
          "F1 xglm-1.7B top_logprobs",
          "F1 xglm-1.7B top_logprobs",
          "F1 xglm-1.7B top_logprobs",
          "F1 xglm-1.7B top_logprobs",
          "F1 xglm-1.7B top_logprobs",
          "F1 xglm-1.7B top_logprobs",
          "F1 xglm-1.7B top_logprobs",
          "F1 xglm-1.7B top_logprobs",
          "F1 xglm-1.7B top_logprobs",
          "F1 xglm-1.7B top_logprobs",
          "F1 xglm-1.7B top_logprobs",
          "F1 xglm-1.7B top_logprobs",
          "F1 xglm-1.7B top_logprobs",
          "F1 xglm-1.7B top_logprobs",
          "F1 xglm-1.7B top_logprobs",
          "F1 xglm-1.7B top_logprobs",
          "F1 xglm-1.7B top_logprobs",
          "F1 xglm-1.7B top_logprobs",
          "F1 xglm-1.7B top_logprobs",
          "F1 xglm-1.7B top_logprobs",
          "F1 xglm-1.7B top_logprobs",
          "F1 xglm-1.7B top_logprobs",
          "F1 xglm-1.7B top_logprobs",
          "F1 xglm-1.7B top_logprobs",
          "F1 xglm-1.7B top_logprobs",
          "F1 xglm-1.7B top_logprobs",
          "F1 xglm-1.7B top_logprobs",
          "F1 xglm-1.7B top_logprobs",
          "F1 xglm-1.7B top_logprobs",
          "F1 xglm-1.7B top_logprobs",
          "F1 xglm-1.7B top_logprobs",
          "F1 xglm-1.7B top_logprobs",
          "F1 xglm-1.7B top_logprobs",
          "F1 xglm-1.7B top_logprobs",
          "F1 xglm-1.7B top_logprobs",
          "F1 xglm-1.7B top_logprobs",
          "F1 xglm-1.7B top_logprobs",
          "F1 xglm-1.7B top_logprobs",
          "F1 xglm-1.7B top_logprobs",
          "F1 xglm-1.7B top_logprobs",
          "F1 xglm-1.7B top_logprobs",
          "F1 xglm-1.7B top_logprobs",
          "F1 xglm-1.7B top_logprobs",
          "F1 xglm-1.7B top_logprobs",
          "F1 xglm-1.7B top_logprobs",
          "F1 xglm-1.7B top_logprobs",
          "F1 xglm-1.7B top_logprobs",
          "F1 xglm-1.7B top_logprobs",
          "F1 xglm-1.7B top_logprobs",
          "F1 xglm-1.7B top_logprobs",
          "F1 xglm-1.7B top_logprobs",
          "F1 xglm-1.7B top_logprobs",
          "F1 xglm-1.7B top_logprobs",
          "F1 xglm-1.7B top_logprobs",
          "F1 xglm-2.9B top_logprobs",
          "F1 xglm-2.9B top_logprobs",
          "F1 xglm-2.9B top_logprobs",
          "F1 xglm-2.9B top_logprobs",
          "F1 xglm-2.9B top_logprobs",
          "F1 xglm-2.9B top_logprobs",
          "F1 xglm-2.9B top_logprobs",
          "F1 xglm-2.9B top_logprobs",
          "F1 xglm-2.9B top_logprobs",
          "F1 xglm-2.9B top_logprobs",
          "F1 xglm-2.9B top_logprobs",
          "F1 xglm-2.9B top_logprobs",
          "F1 xglm-2.9B top_logprobs",
          "F1 xglm-2.9B top_logprobs",
          "F1 xglm-2.9B top_logprobs",
          "F1 xglm-2.9B top_logprobs",
          "F1 xglm-2.9B top_logprobs",
          "F1 xglm-2.9B top_logprobs",
          "F1 xglm-2.9B top_logprobs",
          "F1 xglm-2.9B top_logprobs",
          "F1 xglm-2.9B top_logprobs",
          "F1 xglm-2.9B top_logprobs",
          "F1 xglm-2.9B top_logprobs",
          "F1 xglm-2.9B top_logprobs",
          "F1 xglm-2.9B top_logprobs",
          "F1 xglm-2.9B top_logprobs",
          "F1 xglm-2.9B top_logprobs",
          "F1 xglm-2.9B top_logprobs",
          "F1 xglm-2.9B top_logprobs",
          "F1 xglm-2.9B top_logprobs",
          "F1 xglm-2.9B top_logprobs",
          "F1 xglm-2.9B top_logprobs",
          "F1 xglm-2.9B top_logprobs",
          "F1 xglm-2.9B top_logprobs",
          "F1 xglm-2.9B top_logprobs",
          "F1 xglm-2.9B top_logprobs",
          "F1 xglm-2.9B top_logprobs",
          "F1 xglm-2.9B top_logprobs",
          "F1 xglm-2.9B top_logprobs",
          "F1 xglm-2.9B top_logprobs",
          "F1 xglm-2.9B top_logprobs",
          "F1 xglm-2.9B top_logprobs",
          "F1 xglm-2.9B top_logprobs",
          "F1 xglm-2.9B top_logprobs",
          "F1 xglm-2.9B top_logprobs",
          "F1 xglm-2.9B top_logprobs",
          "F1 xglm-2.9B top_logprobs",
          "F1 xglm-2.9B top_logprobs",
          "F1 xglm-2.9B top_logprobs",
          "F1 xglm-2.9B top_logprobs",
          "F1 xglm-2.9B top_logprobs",
          "F1 xglm-2.9B top_logprobs",
          "F1 xglm-2.9B top_logprobs",
          "F1 xglm-2.9B top_logprobs",
          "F1 xglm-2.9B top_logprobs",
          "F1 xglm-2.9B top_logprobs",
          "F1 xglm-2.9B top_logprobs",
          "F1 xglm-2.9B top_logprobs",
          "F1 xglm-2.9B top_logprobs",
          "F1 xglm-2.9B top_logprobs",
          "F1 xglm-2.9B top_logprobs",
          "F1 xglm-2.9B top_logprobs",
          "F1 xglm-2.9B top_logprobs",
          "F1 xglm-2.9B top_logprobs",
          "F1 xglm-2.9B top_logprobs",
          "F1 xglm-2.9B top_logprobs",
          "F1 xglm-2.9B top_logprobs",
          "F1 xglm-2.9B top_logprobs",
          "F1 xglm-2.9B top_logprobs",
          "F1 xglm-2.9B top_logprobs",
          "F1 xglm-2.9B top_logprobs",
          "F1 xglm-2.9B top_logprobs",
          "F1 xglm-2.9B top_logprobs",
          "F1 xglm-2.9B top_logprobs",
          "F1 xglm-2.9B top_logprobs",
          "F1 xglm-2.9B top_logprobs",
          "F1 xglm-2.9B top_logprobs",
          "F1 xglm-2.9B top_logprobs",
          "F1 xglm-2.9B top_logprobs",
          "F1 xglm-2.9B top_logprobs",
          "F1 xglm-2.9B top_logprobs",
          "F1 xglm-2.9B top_logprobs",
          "F1 xglm-2.9B top_logprobs",
          "F1 xglm-2.9B top_logprobs",
          "F1 xglm-2.9B top_logprobs",
          "F1 xglm-2.9B top_logprobs",
          "F1 xglm-2.9B top_logprobs",
          "F1 xglm-2.9B top_logprobs",
          "F1 xglm-2.9B top_logprobs",
          "F1 xglm-2.9B top_logprobs",
          "F1 xglm-2.9B top_logprobs",
          "F1 xglm-2.9B top_logprobs",
          "F1 xglm-2.9B top_logprobs",
          "F1 xglm-2.9B top_logprobs",
          "F1 xglm-2.9B top_logprobs",
          "F1 xglm-2.9B top_logprobs",
          "F1 xglm-2.9B top_logprobs",
          "F1 xglm-2.9B top_logprobs",
          "F1 xglm-2.9B top_logprobs",
          "F1 xglm-2.9B top_logprobs",
          "F1 xglm-2.9B top_logprobs",
          "F1 xglm-2.9B top_logprobs",
          "F1 xglm-2.9B top_logprobs",
          "F1 xglm-2.9B top_logprobs",
          "F1 xglm-2.9B top_logprobs",
          "F1 xglm-2.9B top_logprobs",
          "F1 xglm-2.9B top_logprobs",
          "F1 xglm-2.9B top_logprobs",
          "F1 xglm-2.9B top_logprobs",
          "F1 xglm-2.9B top_logprobs",
          "F1 xglm-2.9B top_logprobs",
          "F1 xglm-2.9B top_logprobs",
          "F1 xglm-2.9B top_logprobs",
          "F1 xglm-2.9B top_logprobs",
          "F1 xglm-2.9B top_logprobs",
          "F1 xglm-2.9B top_logprobs",
          "F1 xglm-2.9B top_logprobs",
          "F1 xglm-2.9B top_logprobs",
          "F1 xglm-2.9B top_logprobs",
          "F1 xglm-2.9B top_logprobs",
          "F1 xglm-2.9B top_logprobs",
          "F1 xglm-2.9B top_logprobs",
          "F1 xglm-2.9B top_logprobs",
          "F1 xglm-2.9B top_logprobs",
          "F1 xglm-2.9B top_logprobs",
          "F1 xglm-2.9B top_logprobs",
          "F1 xglm-2.9B top_logprobs",
          "F1 xglm-2.9B top_logprobs",
          "F1 xglm-2.9B top_logprobs",
          "F1 xglm-2.9B top_logprobs",
          "F1 xglm-2.9B top_logprobs",
          "F1 xglm-2.9B top_logprobs",
          "F1 xglm-2.9B top_logprobs",
          "F1 xglm-2.9B top_logprobs",
          "F1 xglm-2.9B top_logprobs",
          "F1 xglm-2.9B top_logprobs",
          "F1 xglm-2.9B top_logprobs",
          "F1 xglm-2.9B top_logprobs",
          "F1 xglm-2.9B top_logprobs",
          "F1 xglm-2.9B top_logprobs",
          "F1 xglm-2.9B top_logprobs",
          "F1 xglm-2.9B top_logprobs",
          "F1 xglm-2.9B top_logprobs",
          "F1 xglm-2.9B top_logprobs",
          "F1 xglm-2.9B top_logprobs",
          "F1 xglm-2.9B top_logprobs",
          "F1 xglm-2.9B top_logprobs",
          "F1 xglm-2.9B top_logprobs",
          "F1 xglm-2.9B top_logprobs",
          "F1 xglm-2.9B top_logprobs",
          "F1 xglm-2.9B top_logprobs",
          "F1 xglm-2.9B top_logprobs",
          "F1 xglm-2.9B top_logprobs",
          "F1 xglm-2.9B top_logprobs",
          "F1 xglm-2.9B top_logprobs",
          "F1 xglm-2.9B top_logprobs",
          "F1 xglm-2.9B top_logprobs",
          "F1 xglm-2.9B top_logprobs",
          "F1 xglm-2.9B top_logprobs",
          "F1 xglm-2.9B top_logprobs",
          "F1 xglm-2.9B top_logprobs",
          "F1 xglm-2.9B top_logprobs",
          "F1 xglm-2.9B top_logprobs",
          "F1 xglm-2.9B top_logprobs",
          "F1 xglm-2.9B top_logprobs",
          "F1 xglm-2.9B top_logprobs",
          "F1 xglm-2.9B top_logprobs",
          "F1 xglm-2.9B top_logprobs",
          "F1 xglm-2.9B top_logprobs",
          "F1 xglm-2.9B top_logprobs",
          "F1 xglm-2.9B top_logprobs",
          "F1 xglm-2.9B top_logprobs",
          "F1 xglm-2.9B top_logprobs",
          "F1 xglm-2.9B top_logprobs",
          "F1 xglm-2.9B top_logprobs",
          "F1 xglm-2.9B top_logprobs",
          "F1 xglm-2.9B top_logprobs",
          "F1 xglm-2.9B top_logprobs",
          "F1 xglm-2.9B top_logprobs",
          "F1 xglm-2.9B top_logprobs",
          "F1 xglm-2.9B top_logprobs",
          "F1 xglm-2.9B top_logprobs",
          "F1 xglm-2.9B top_logprobs",
          "F1 xglm-2.9B top_logprobs",
          "F1 xglm-2.9B top_logprobs",
          "F1 xglm-2.9B top_logprobs",
          "F1 xglm-2.9B top_logprobs",
          "F1 xglm-2.9B top_logprobs",
          "F1 xglm-2.9B top_logprobs",
          "F1 xglm-2.9B top_logprobs",
          "F1 xglm-2.9B top_logprobs",
          "F1 xglm-2.9B top_logprobs",
          "F1 xglm-2.9B top_logprobs",
          "F1 xglm-2.9B top_logprobs",
          "F1 xglm-2.9B top_logprobs",
          "F1 xglm-2.9B top_logprobs",
          "F1 xglm-2.9B top_logprobs",
          "F1 xglm-2.9B top_logprobs",
          "F1 xglm-2.9B top_logprobs",
          "F1 xglm-2.9B top_logprobs",
          "F1 xglm-2.9B top_logprobs",
          "F1 xglm-2.9B top_logprobs",
          "F1 xglm-2.9B top_logprobs",
          "F1 xglm-2.9B top_logprobs",
          "F1 xglm-7.5B top_logprobs",
          "F1 xglm-7.5B top_logprobs",
          "F1 xglm-7.5B top_logprobs",
          "F1 xglm-7.5B top_logprobs",
          "F1 xglm-7.5B top_logprobs",
          "F1 xglm-7.5B top_logprobs",
          "F1 xglm-7.5B top_logprobs",
          "F1 xglm-7.5B top_logprobs",
          "F1 xglm-7.5B top_logprobs",
          "F1 xglm-7.5B top_logprobs",
          "F1 xglm-7.5B top_logprobs",
          "F1 xglm-7.5B top_logprobs",
          "F1 xglm-7.5B top_logprobs",
          "F1 xglm-7.5B top_logprobs",
          "F1 xglm-7.5B top_logprobs",
          "F1 xglm-7.5B top_logprobs",
          "F1 xglm-7.5B top_logprobs",
          "F1 xglm-7.5B top_logprobs",
          "F1 xglm-7.5B top_logprobs",
          "F1 xglm-7.5B top_logprobs",
          "F1 xglm-7.5B top_logprobs",
          "F1 xglm-7.5B top_logprobs",
          "F1 xglm-7.5B top_logprobs",
          "F1 xglm-7.5B top_logprobs",
          "F1 xglm-7.5B top_logprobs",
          "F1 xglm-7.5B top_logprobs",
          "F1 xglm-7.5B top_logprobs",
          "F1 xglm-7.5B top_logprobs",
          "F1 xglm-7.5B top_logprobs",
          "F1 xglm-7.5B top_logprobs",
          "F1 xglm-7.5B top_logprobs",
          "F1 xglm-7.5B top_logprobs",
          "F1 xglm-7.5B top_logprobs",
          "F1 xglm-7.5B top_logprobs",
          "F1 xglm-7.5B top_logprobs",
          "F1 xglm-7.5B top_logprobs",
          "F1 xglm-7.5B top_logprobs",
          "F1 xglm-7.5B top_logprobs",
          "F1 xglm-7.5B top_logprobs",
          "F1 xglm-7.5B top_logprobs",
          "F1 xglm-7.5B top_logprobs",
          "F1 xglm-7.5B top_logprobs",
          "F1 xglm-7.5B top_logprobs",
          "F1 xglm-7.5B top_logprobs",
          "F1 xglm-7.5B top_logprobs",
          "F1 xglm-7.5B top_logprobs",
          "F1 xglm-7.5B top_logprobs",
          "F1 xglm-7.5B top_logprobs",
          "F1 xglm-7.5B top_logprobs",
          "F1 xglm-7.5B top_logprobs",
          "F1 xglm-7.5B top_logprobs",
          "F1 xglm-7.5B top_logprobs",
          "F1 xglm-7.5B top_logprobs",
          "F1 xglm-7.5B top_logprobs",
          "F1 xglm-7.5B top_logprobs",
          "F1 xglm-7.5B top_logprobs",
          "F1 xglm-7.5B top_logprobs",
          "F1 xglm-7.5B top_logprobs",
          "F1 xglm-7.5B top_logprobs",
          "F1 xglm-7.5B top_logprobs",
          "F1 xglm-7.5B top_logprobs",
          "F1 xglm-7.5B top_logprobs",
          "F1 xglm-7.5B top_logprobs",
          "F1 xglm-7.5B top_logprobs",
          "F1 xglm-7.5B top_logprobs",
          "F1 xglm-7.5B top_logprobs",
          "F1 xglm-7.5B top_logprobs",
          "F1 xglm-7.5B top_logprobs",
          "F1 xglm-7.5B top_logprobs",
          "F1 xglm-7.5B top_logprobs",
          "F1 xglm-7.5B top_logprobs",
          "F1 xglm-7.5B top_logprobs",
          "F1 xglm-7.5B top_logprobs",
          "F1 xglm-7.5B top_logprobs",
          "F1 xglm-7.5B top_logprobs",
          "F1 xglm-7.5B top_logprobs",
          "F1 xglm-7.5B top_logprobs",
          "F1 xglm-7.5B top_logprobs",
          "F1 xglm-7.5B top_logprobs",
          "F1 xglm-7.5B top_logprobs",
          "F1 xglm-7.5B top_logprobs",
          "F1 xglm-7.5B top_logprobs",
          "F1 xglm-7.5B top_logprobs",
          "F1 xglm-7.5B top_logprobs",
          "F1 xglm-7.5B top_logprobs",
          "F1 xglm-7.5B top_logprobs",
          "F1 xglm-7.5B top_logprobs",
          "F1 xglm-7.5B top_logprobs",
          "F1 xglm-7.5B top_logprobs",
          "F1 xglm-7.5B top_logprobs",
          "F1 xglm-7.5B top_logprobs",
          "F1 xglm-7.5B top_logprobs",
          "F1 xglm-7.5B top_logprobs",
          "F1 xglm-7.5B top_logprobs",
          "F1 xglm-7.5B top_logprobs",
          "F1 xglm-7.5B top_logprobs",
          "F1 xglm-7.5B top_logprobs",
          "F1 xglm-7.5B top_logprobs",
          "F1 xglm-7.5B top_logprobs",
          "F1 xglm-7.5B top_logprobs",
          "F1 xglm-7.5B top_logprobs",
          "F1 xglm-7.5B top_logprobs",
          "F1 xglm-7.5B top_logprobs",
          "F1 xglm-7.5B top_logprobs",
          "F1 xglm-7.5B top_logprobs",
          "F1 xglm-7.5B top_logprobs",
          "F1 xglm-7.5B top_logprobs",
          "F1 xglm-7.5B top_logprobs",
          "F1 xglm-7.5B top_logprobs",
          "F1 xglm-7.5B top_logprobs",
          "F1 xglm-7.5B top_logprobs",
          "F1 xglm-7.5B top_logprobs",
          "F1 xglm-7.5B top_logprobs",
          "F1 xglm-7.5B top_logprobs",
          "F1 xglm-7.5B top_logprobs",
          "F1 xglm-7.5B top_logprobs",
          "F1 xglm-7.5B top_logprobs",
          "F1 xglm-7.5B top_logprobs",
          "F1 xglm-7.5B top_logprobs",
          "F1 xglm-7.5B top_logprobs",
          "F1 xglm-7.5B top_logprobs",
          "F1 xglm-7.5B top_logprobs",
          "F1 xglm-7.5B top_logprobs",
          "F1 xglm-7.5B top_logprobs",
          "F1 xglm-7.5B top_logprobs",
          "F1 xglm-7.5B top_logprobs",
          "F1 xglm-7.5B top_logprobs",
          "F1 xglm-7.5B top_logprobs",
          "F1 xglm-7.5B top_logprobs",
          "F1 xglm-7.5B top_logprobs",
          "F1 xglm-7.5B top_logprobs",
          "F1 xglm-7.5B top_logprobs",
          "F1 xglm-7.5B top_logprobs",
          "F1 xglm-7.5B top_logprobs",
          "F1 xglm-7.5B top_logprobs",
          "F1 xglm-7.5B top_logprobs",
          "F1 xglm-7.5B top_logprobs",
          "F1 xglm-7.5B top_logprobs",
          "F1 xglm-7.5B top_logprobs",
          "F1 xglm-7.5B top_logprobs",
          "F1 xglm-7.5B top_logprobs",
          "F1 xglm-7.5B top_logprobs",
          "F1 xglm-7.5B top_logprobs",
          "F1 xglm-7.5B top_logprobs",
          "F1 xglm-7.5B top_logprobs",
          "F1 xglm-7.5B top_logprobs",
          "F1 xglm-7.5B top_logprobs",
          "F1 xglm-7.5B top_logprobs",
          "F1 xglm-7.5B top_logprobs",
          "F1 xglm-7.5B top_logprobs",
          "F1 xglm-7.5B top_logprobs",
          "F1 xglm-7.5B top_logprobs",
          "F1 xglm-7.5B top_logprobs",
          "F1 xglm-7.5B top_logprobs",
          "F1 xglm-7.5B top_logprobs",
          "F1 xglm-7.5B top_logprobs",
          "F1 xglm-7.5B top_logprobs",
          "F1 xglm-7.5B top_logprobs",
          "F1 xglm-7.5B top_logprobs",
          "F1 xglm-7.5B top_logprobs",
          "F1 xglm-7.5B top_logprobs",
          "F1 xglm-7.5B top_logprobs",
          "F1 xglm-7.5B top_logprobs",
          "F1 xglm-7.5B top_logprobs",
          "F1 xglm-7.5B top_logprobs",
          "F1 xglm-7.5B top_logprobs",
          "F1 xglm-7.5B top_logprobs",
          "F1 xglm-7.5B top_logprobs",
          "F1 xglm-7.5B top_logprobs",
          "F1 xglm-7.5B top_logprobs",
          "F1 xglm-7.5B top_logprobs",
          "F1 xglm-7.5B top_logprobs",
          "F1 xglm-7.5B top_logprobs",
          "F1 xglm-7.5B top_logprobs",
          "F1 xglm-7.5B top_logprobs",
          "F1 xglm-7.5B top_logprobs",
          "F1 xglm-7.5B top_logprobs",
          "F1 xglm-7.5B top_logprobs",
          "F1 xglm-7.5B top_logprobs",
          "F1 xglm-7.5B top_logprobs",
          "F1 xglm-7.5B top_logprobs",
          "F1 xglm-7.5B top_logprobs",
          "F1 xglm-7.5B top_logprobs",
          "F1 xglm-7.5B top_logprobs",
          "F1 xglm-7.5B top_logprobs",
          "F1 xglm-7.5B top_logprobs",
          "F1 xglm-7.5B top_logprobs",
          "F1 xglm-7.5B top_logprobs",
          "F1 xglm-7.5B top_logprobs",
          "F1 xglm-7.5B top_logprobs",
          "F1 xglm-7.5B top_logprobs",
          "F1 xglm-7.5B top_logprobs",
          "F1 xglm-7.5B top_logprobs",
          "F1 xglm-7.5B top_logprobs",
          "F1 xglm-7.5B top_logprobs",
          "F1 xglm-7.5B top_logprobs",
          "F1 xglm-7.5B top_logprobs",
          "F1 xglm-7.5B top_logprobs",
          "F1 xglm-7.5B top_logprobs",
          "F1 xglm-7.5B top_logprobs",
          "F1 xglm-7.5B top_logprobs",
          "F1 xglm-7.5B top_logprobs",
          "F1 xglm-7.5B top_logprobs",
          "F1 xglm-7.5B top_logprobs"
         ],
         "y": [
          0.1711607017146,
          0.361237485832117,
          0.465124225940687,
          0.502487932269611,
          0.507390200886136,
          0.277564644349433,
          0.505190980208573,
          0.246301270790579,
          0.253976091322193,
          0.0695094551582101,
          0.490770354964728,
          0.45989332262641,
          0.185042136835411,
          0.483224514225536,
          0.554336679336679,
          0.592388646923719,
          0.138516473491843,
          0.320903722851775,
          0.426739275836449,
          0.15206378138709,
          0.252034433389451,
          0.344924822449449,
          0.254498421791198,
          0.220135478066513,
          0.471614332001778,
          0.192645397967427,
          0.226233459095904,
          0.353185539772235,
          0.397886477338532,
          0.15463087825808,
          0.369379657072221,
          0.0839212994738046,
          0.209433086213769,
          0.400263388963048,
          0.399321563526884,
          0.474417412579155,
          0.414823860445389,
          0.228293462230653,
          0.264653971184563,
          0.0442613217553063,
          0.398551240262491,
          0.137893870028393,
          0.251990243394247,
          0.408344169197416,
          0.194095152159668,
          0.236503112818902,
          0.0745431217300546,
          0.350248141831494,
          0.449099978651442,
          0.397503610458358,
          0.513603460671583,
          0.4536423375431,
          0.135598673740261,
          0.212817950146566,
          0.123171635823782,
          0.412608742471637,
          0.122186382840429,
          0.146428571428571,
          0.25779281136424,
          0.232275484103545,
          0.186241485670057,
          0.145029841548158,
          0.13903244041098,
          0.306607403940978,
          0.320252208924209,
          0.0412801484230056,
          0.429608739437302,
          0.226822187348718,
          0.0997247583243824,
          0.369632546103134,
          0.384168993373391,
          0.216498953876312,
          0.168175135741706,
          0.0388997858864749,
          0.193770338282533,
          0.366499736346145,
          0.500405414098786,
          0.136043306211373,
          0.337422809414147,
          0.411140560120152,
          0.447267466317532,
          0.147284804735886,
          0.185934658632027,
          0.211080923597509,
          0.0633193566802496,
          0.371323366675029,
          0.235725012314874,
          0.0643756551447466,
          0.224298321430196,
          0.0859041835357625,
          0.359997847240162,
          0.128768926925609,
          0.0968055330276875,
          0.321084866181651,
          0.266200616682235,
          0.208491113771693,
          0.244368664292351,
          0.201585305751972,
          0.105714298140436,
          0.241863971796377,
          0.285325702043786,
          0.344336172390684,
          0.129619499645383,
          0.201166521148175,
          0.329009624799098,
          0.294904416891599,
          0.167517667517668,
          0.345522940358939,
          0.262260903496705,
          0.285689289152536,
          0.201610157767793,
          0.209774524060238,
          0.177004642183214,
          0.341177439460052,
          0.138674455289362,
          0.390555945177794,
          0.449147849022841,
          0.0375361884795847,
          0.192849828474336,
          0.108736161797386,
          0.453344885599772,
          0.300128379491728,
          0.340417973030424,
          0.0824860497757694,
          0.198945317299868,
          0.180292122872768,
          0.401420729607488,
          0.253253164782973,
          0.28115918892332,
          0.226878172652709,
          0.300135770835735,
          0.205419105626747,
          0.145733386904864,
          0.280838353338001,
          0.439259829383559,
          0.0417925017540648,
          0.492967547846143,
          0.0281870595771941,
          0.376910386387992,
          0.250204590927187,
          0.391000800760348,
          0.233277894671334,
          0.206975017319845,
          0.334744832632157,
          0.341095262963943,
          0.191304534352926,
          0.239215587240265,
          0.183565537014245,
          0.336368847341698,
          0.161620513186395,
          0.34801143875554,
          0.0695982646555625,
          0.251367978836537,
          0.124545047928927,
          0.0281870595771941,
          0.229871691490571,
          0.214328516883561,
          0.179296631717615,
          0.259433719433719,
          0.158798185941043,
          0.17235026555584,
          0.193539935328256,
          0.250057273768614,
          0.319108110982283,
          0.235023845532929,
          0.204439175766599,
          0.426441867737597,
          0.259275308296835,
          0.319635107252148,
          0.213406866243001,
          0.280436117964898,
          0.273849848591073,
          0.0810295076611192,
          0.229040578702248,
          0.287789192231917,
          0.116399685678233,
          0.313143719026072,
          0.423262288024594,
          0.0580010229119907,
          0.370119311582726,
          0.240275453275834,
          0.198948141391617,
          0.285439495995442,
          0.212916873175755,
          0.442782481921208,
          0.229382625536946,
          0.0579313517844253,
          0.0721433328576186,
          0.285316773558655,
          0.204605120993195,
          0.474631803255665,
          0.296873205827258,
          0.26465058750773,
          0.418842253493217,
          0.444959536066835,
          0.27183102600328,
          0.224653569295784,
          0.0979107312440646,
          0.16615452805929,
          0.5436269525996,
          0.597528691852645,
          0.516878503600854,
          0.463946767518196,
          0.187143689843031,
          0.101481903585665,
          0.42986781480042,
          0.3183878024657,
          0.335040682939843,
          0.321945868742977,
          0.34399991863074,
          0.368101538307351,
          0.260158784889025,
          0.369335310300087,
          0.0538740859496899,
          0.312647856152689,
          0.262747061104831,
          0.180066398041393,
          0.282881481038163,
          0.405214125784093,
          0.454688366862892,
          0.346511021216653,
          0.382529443648035,
          0.621002920942388,
          0.280267120391822,
          0.282320606690743,
          0.482030786818748,
          0.472068504342487,
          0.194001230186363,
          0.500443115099147,
          0.323929915237899,
          0.268302779958545,
          0.5226557640918,
          0.542569244116151,
          0.0686992745816275,
          0.442992639991875,
          0.116585984008852,
          0.440661715569034,
          0.422104037395969,
          0.561684568019972,
          0.431326437434812,
          0.343683590878913,
          0.354895001661806,
          0.311994954154603,
          0.135866270541857,
          0.53798004777744,
          0.255026936125204,
          0.337999982623791,
          0.551609028676698,
          0.232375234579317,
          0.296336158883656,
          0.0726828937555089,
          0.326005238637707,
          0.506896064038921,
          0.442370977749503,
          0.537961429309226,
          0.588018566654006,
          0.192433038485363,
          0.317472889940524,
          0.192816773838368,
          0.669170869224021,
          0.152752476530373,
          0.348690686297873,
          0.361467804082243,
          0.272547278257597,
          0.190950124618451,
          0.149785642775167,
          0.188942890159178,
          0.401300111239464,
          0.426325890672241,
          0.130838395562917,
          0.365299808206841,
          0.255071268735865,
          0.132109257076691,
          0.543526119841586,
          0.554396767781523,
          0.389516732475026,
          0.252242284043526,
          0.0545619085623076,
          0.278377773938312,
          0.383620951929909,
          0.629534159177946,
          0.227107364685004,
          0.366015673131423,
          0.478685097227297,
          0.57910995660434,
          0.158566850163489,
          0.28533797667239,
          0.291306125022074,
          0.137474156277422,
          0.514966207074967,
          0.350743078789436,
          0.0874277105080089,
          0.374730091572384,
          0.222025212600764,
          0.45681153966418,
          0.309499458468546,
          0.159193362502422,
          0.331524089087861,
          0.292574252881948,
          0.371416049923721,
          0.233470973330888,
          0.322592737254391,
          0.112343496833112,
          0.315881817677523,
          0.34726542945721,
          0.582439967973859,
          0.169421253073354,
          0.419323850752422,
          0.422548988853337,
          0.331183745307122,
          0.359515315149103,
          0.319452712176799,
          0.353908358340971,
          0.442646439643587,
          0.276135812272373,
          0.252196871318434,
          0.286349481653504,
          0.378112834689159,
          0.329184483281823,
          0.610894572272294,
          0.65444344748117,
          0.0709782291294896,
          0.446762787190684,
          0.0786051212938005,
          0.556977816107683,
          0.45733762036283,
          0.435702056811192,
          0.161876608169029,
          0.313255414955162,
          0.282250794054176,
          0.602415818745123,
          0.364813152855757,
          0.32785734462913,
          0.283110355849644,
          0.525335105692249,
          0.272609392374813,
          0.15039447602916,
          0.334616250788973,
          0.33929859822717,
          0.06398255740361,
          0.458026842655023,
          0.130281424092234,
          0.477449091306298,
          0.340423366316223,
          0.46667736665144,
          0.287560819462228,
          0.260314364174842,
          0.333482954585343,
          0.486666459756674,
          0.295166541765635,
          0.366875127276753,
          0.267831433245089,
          0.524516067668864,
          0.2569743085506,
          0.501731617306211,
          0.0721608777935488,
          0.273307050092764,
          0.142081314131004,
          0.104506485561485,
          0.29855235452577,
          0.306396514815364,
          0.206781854193707,
          0.280309960693453,
          0.340400098817334,
          0.206071901853946,
          0.280037831835067,
          0.275728603280513,
          0.398438410977673,
          0.443642950982872,
          0.210351466076067,
          0.47569029348216,
          0.370270473123738,
          0.546287636713169,
          0.293449034331887,
          0.473941102237748,
          0.271528021528021,
          0.099560336955295,
          0.419902084115382,
          0.462935428194854,
          0.163234721065837,
          0.301369172340975,
          0.497926003648673,
          0.0355555555555555,
          0.412161355770378,
          0.279664650352024,
          0.268113299619904,
          0.355134348943205,
          0.28291041182324,
          0.644096663049102,
          0.285875645111595,
          0.0688644518811547,
          0.218558945776688,
          0.478282272570998,
          0.229641206038611,
          0.63761324512271,
          0.40861025897398,
          0.319850294158503,
          0.589010617463857,
          0.391210059781488,
          0.345963390186993,
          0.286273756258021,
          0.0278128950695322,
          0.275034721842711,
          0.532076374141461,
          0.530437915877723,
          0.592133112124812,
          0.59167667164365,
          0.233441284147317,
          0.180929673078329,
          0.410092792235649,
          0.485401639550279,
          0.513837800389041,
          0.491563052187167,
          0.354412818462961,
          0.565705560290224,
          0.241129503776053,
          0.438139736415599,
          0.125018748049783,
          0.569161076352969,
          0.49290498485033,
          0.157646711009125,
          0.499783289625799,
          0.581397697276901,
          0.617353842100142,
          0.462113994380004,
          0.438418141987149,
          0.620223145232871,
          0.137548262548263,
          0.355883121608445,
          0.426200376440745,
          0.43833114315994,
          0.244290771063099,
          0.488540697327345,
          0.331398335438496,
          0.277923332957613,
          0.636923755818537,
          0.586651657429646,
          0.13371033725723,
          0.410783918458153,
          0.0468384074941452,
          0.318432288234762,
          0.433638850729068,
          0.541493997609106,
          0.359067147874217,
          0.402706861035091,
          0.266233766233766,
          0.260914415508774,
          0.13605128606912,
          0.476209752249902,
          0.197420675951087,
          0.317258934935343,
          0.472759868486706,
          0.196868403935902,
          0.260636427410305,
          0.0468384074941452,
          0.272693787713178,
          0.586466234237461,
          0.489859540200015,
          0.512909069870953,
          0.477762345941727,
          0.160759242245665,
          0.235846756038591,
          0.180107317375677,
          0.442599834308206,
          0.18724061616164,
          0.225511078959355,
          0.417189567189567,
          0.276479880628487,
          0.195868837045308,
          0.147480389650636,
          0.196951225534662,
          0.407047815812345,
          0.356344450729649,
          0.0727165753072489,
          0.506610506610507,
          0.307010014527008,
          0.0968548199767712,
          0.536331899241991,
          0.544432502952081,
          0.330099133670562,
          0.263589268105033,
          0.107486750172616,
          0.284895622976118,
          0.449454032274127,
          0.512587195990981,
          0.169516706204013,
          0.399855895874553,
          0.465314882258404,
          0.653724277986524,
          0.0869895293540614,
          0.230988208532535,
          0.267588141076209,
          0.0813938478617253,
          0.560718646432932,
          0.37390995726321,
          0.0852762798948059,
          0.35189118024176,
          0.159576629384352,
          0.500258156631417,
          0.223923654937112,
          0.122396556305857,
          0.401092789856835,
          0.219124670678786,
          0.340945890766093,
          0.191322497168629,
          0.292618269050993,
          0.138683590845245,
          0.251102197388645,
          0.329530506481287,
          0.435307789177377,
          0.146083028481472,
          0.444653858820329,
          0.38520378578845,
          0.306682159389325,
          0.321961948570038,
          0.394027026524653,
          0.399124845220816,
          0.415993712099447,
          0.219994458037936,
          0.239380903876702,
          0.238044082863202,
          0.445838756809299,
          0.379319207137508,
          0.607096444546318,
          0.620752077691456,
          0.0548874774082445,
          0.400990004764309,
          0.108214568110631,
          0.48212561096132,
          0.57530099327974,
          0.376072945620053,
          0.16808870641576,
          0.234255297912689,
          0.248531221468327,
          0.467987609043879,
          0.325623633476095,
          0.309396141221692,
          0.27844135444492,
          0.541716868844528,
          0.249053471104079,
          0.161687028144546,
          0.300184302996677,
          0.41112682172481,
          0.133408773198714,
          0.536826326934962,
          0.0808970187852175,
          0.497245588996129,
          0.36210755698207,
          0.489332501370749,
          0.30125164100728,
          0.187726655973594,
          0.436477347537255,
          0.501435486445845,
          0.168325018555433,
          0.38771707416618,
          0.202041411682323,
          0.591667937498448,
          0.239260820883417,
          0.349005275408095,
          0.0883449124330583,
          0.411722030975746,
          0.214007967838613,
          0.079228887704917,
          0.270430557762094,
          0.32403825684078,
          0.219373475886443,
          0.252449613861409,
          0.33330895953543,
          0.229408756055324,
          0.236656839095863,
          0.362787573623487,
          0.429391651438702,
          0.470656285111715,
          0.256473591633662,
          0.508566871101456,
          0.337325055097217,
          0.456891056142199,
          0.20252102659059,
          0.480875633402671,
          0.291431187859759,
          0.0885093692649474,
          0.383674462357241,
          0.465644228739467,
          0.234128520280794,
          0.438679397319138,
          0.49291203054834,
          0.0841750841750842,
          0.403845981141069,
          0.223307921205024,
          0.260174506392994,
          0.328776167545645,
          0.132033454202105,
          0.510108150169351,
          0.257899349182808,
          0.0335092176405446,
          0.149976863625875,
          0.405674169063507,
          0.198889868076942,
          0.652279593590055,
          0.370321846918865,
          0.407914374223984,
          0.431970392103283,
          0.478028547487803,
          0.25110157084947,
          0.263102919841464,
          0.125875885158817,
          0.194160175278812,
          0.655562964316161,
          0.640362165139547,
          0.686492259337087,
          0.477167151552928,
          0.256498317435806,
          0.185928576190672,
          0.427536912209552,
          0.523763495412727,
          0.507488508919447,
          0.53809400456841,
          0.311173391831171,
          0.546035038334753,
          0.271219109124804,
          0.396807337784728,
          0.109272364903301,
          0.504180436662047,
          0.50878976232569,
          0.218728434171034,
          0.508519044816549,
          0.497914815395281,
          0.581015393247275,
          0.584603687455395,
          0.435847969998153,
          0.637255567129563,
          0.243951938468487,
          0.343636661511398,
          0.399260122782838,
          0.400792948029158,
          0.208501731548762,
          0.477215424701019,
          0.385063218724959,
          0.215470665109955,
          0.635009054092134,
          0.650591083891184,
          0.114967399336758,
          0.498477693611577,
          0.101356829475138,
          0.257829618038082,
          0.447099529651504,
          0.516332466499035,
          0.599835480709251,
          0.410154118144433,
          0.239643307832631,
          0.304241285550235,
          0.202036778494121,
          0.452510311169059,
          0.210471652505123,
          0.334121209121209,
          0.459970937104778,
          0.224897556432322,
          0.320281608839961,
          0.0635459616783895,
          0.33919839211974,
          0.596577177208756,
          0.380314903638406,
          0.523418034848296,
          0.597509825724902,
          0.204504918003707,
          0.309227300559419,
          0.128735519364979,
          0.540056791252651,
          0.217560394078296,
          0.28098933507381,
          0.41370565703541,
          0.267738188895689,
          0.198034435788074,
          0.227007861748656,
          0.184374677492368,
          0.392819349962207,
          0.36834490483617,
          0.110940652122918,
          0.484624242518979,
          0.257289658409601,
          0.127593588585571,
          0.589809995144303,
          0.605849373631064,
          0.215195887505225,
          0.187272383700955,
          0.127121161964221,
          0.259754003382783,
          0.421685527849911,
          0.615193734839352,
          0.241176423381966,
          0.42067284374596,
          0.461906382335148,
          0.573921210083186,
          0.154144431043901,
          0.290933424206719,
          0.344985742843619,
          0.0853899021014924,
          0.610490091712329,
          0.445788844399828,
          0.0969170426791406,
          0.453920800277942,
          0.166170634920635,
          0.351507885975804,
          0.229606625258799,
          0.161348198966438,
          0.341285251252029,
          0.237362637362637,
          0.378967990225784,
          0.2681359109136,
          0.275933865832149,
          0.117868836957397,
          0.268315085059816,
          0.327189010237402,
          0.452327737621855,
          0.168784621215354,
          0.376094800390312,
          0.307782380636921,
          0.382370919382246,
          0.196993062532872,
          0.36373249251947,
          0.310599143510181,
          0.332857991681521,
          0.23850503824368,
          0.207711172311504,
          0.22718351099526,
          0.391704859251315,
          0.269274929094177,
          0.666728289645253,
          0.603522058275579,
          0.102452346954965,
          0.498252881308021,
          0.175501111505372,
          0.545480989600935,
          0.465878182789313,
          0.371856202064435,
          0.236006887455104,
          0.261324947117297,
          0.22756174708091,
          0.560378395862088,
          0.184135079531433,
          0.348136293824984,
          0.329901947168134,
          0.582427679570871,
          0.282393143303833,
          0.137225299426342,
          0.370193887763131,
          0.238076321388961,
          0.108192850539485,
          0.523805731380268,
          0.117403702530904,
          0.441950394642817,
          0.451768896725691,
          0.542465799975706,
          0.277353765187189,
          0.15446854732569,
          0.408795844140491,
          0.513710846976153,
          0.445529672253089,
          0.280206843098829,
          0.270947747978828,
          0.609508673990255,
          0.229809976973492,
          0.534091518933962,
          0.0669887433497779,
          0.381820906459441,
          0.243233433196002,
          0.115557519961387,
          0.185753825786536,
          0.209629717779123,
          0.21821676270746,
          0.246355799863747,
          0.377356536839053,
          0.277724195064943,
          0.271385119053778,
          0.509291423206185,
          0.366221465518742,
          0.377447197036148,
          0.265934445040114,
          0.494456056158184,
          0.38035228470394,
          0.569195092509115,
          0.203965239086092,
          0.479816182033039,
          0.304248222503301,
          0.152546005578065,
          0.37919752886969,
          0.482739364635901,
          0.187469014014898,
          0.448173497476209,
          0.446449812288322,
          0.0916417372434262,
          0.423307085005771,
          0.31164225424433,
          0.268055090888815,
          0.355623188634602,
          0.287888810924068,
          0.593802162425769,
          0.272508952390335,
          0.068849295203975,
          0.188283804203674,
          0.439403104191021,
          0.286482781219623,
          0.605541031336608,
          0.391296619850395,
          0.382862375719518,
          0.630737036977415,
          0.438056169479999,
          0.302272679463477,
          0.280056056933207,
          0.0878981972005228,
          0.293018846883015,
          0.5800883129143,
          0.55255113695866,
          0.511382362237925,
          0.583817696405991,
          0.230771987867916
         ],
         "type": "box",
         "xaxis": "x3",
         "yaxis": "y3"
        }
       ],
       "layout": {
        "template": {
         "data": {
          "histogram2dcontour": [
           {
            "type": "histogram2dcontour",
            "colorbar": {
             "outlinewidth": 0,
             "ticks": ""
            },
            "colorscale": [
             [
              0.0,
              "#0d0887"
             ],
             [
              0.1111111111111111,
              "#46039f"
             ],
             [
              0.2222222222222222,
              "#7201a8"
             ],
             [
              0.3333333333333333,
              "#9c179e"
             ],
             [
              0.4444444444444444,
              "#bd3786"
             ],
             [
              0.5555555555555556,
              "#d8576b"
             ],
             [
              0.6666666666666666,
              "#ed7953"
             ],
             [
              0.7777777777777778,
              "#fb9f3a"
             ],
             [
              0.8888888888888888,
              "#fdca26"
             ],
             [
              1.0,
              "#f0f921"
             ]
            ]
           }
          ],
          "choropleth": [
           {
            "type": "choropleth",
            "colorbar": {
             "outlinewidth": 0,
             "ticks": ""
            }
           }
          ],
          "histogram2d": [
           {
            "type": "histogram2d",
            "colorbar": {
             "outlinewidth": 0,
             "ticks": ""
            },
            "colorscale": [
             [
              0.0,
              "#0d0887"
             ],
             [
              0.1111111111111111,
              "#46039f"
             ],
             [
              0.2222222222222222,
              "#7201a8"
             ],
             [
              0.3333333333333333,
              "#9c179e"
             ],
             [
              0.4444444444444444,
              "#bd3786"
             ],
             [
              0.5555555555555556,
              "#d8576b"
             ],
             [
              0.6666666666666666,
              "#ed7953"
             ],
             [
              0.7777777777777778,
              "#fb9f3a"
             ],
             [
              0.8888888888888888,
              "#fdca26"
             ],
             [
              1.0,
              "#f0f921"
             ]
            ]
           }
          ],
          "heatmap": [
           {
            "type": "heatmap",
            "colorbar": {
             "outlinewidth": 0,
             "ticks": ""
            },
            "colorscale": [
             [
              0.0,
              "#0d0887"
             ],
             [
              0.1111111111111111,
              "#46039f"
             ],
             [
              0.2222222222222222,
              "#7201a8"
             ],
             [
              0.3333333333333333,
              "#9c179e"
             ],
             [
              0.4444444444444444,
              "#bd3786"
             ],
             [
              0.5555555555555556,
              "#d8576b"
             ],
             [
              0.6666666666666666,
              "#ed7953"
             ],
             [
              0.7777777777777778,
              "#fb9f3a"
             ],
             [
              0.8888888888888888,
              "#fdca26"
             ],
             [
              1.0,
              "#f0f921"
             ]
            ]
           }
          ],
          "heatmapgl": [
           {
            "type": "heatmapgl",
            "colorbar": {
             "outlinewidth": 0,
             "ticks": ""
            },
            "colorscale": [
             [
              0.0,
              "#0d0887"
             ],
             [
              0.1111111111111111,
              "#46039f"
             ],
             [
              0.2222222222222222,
              "#7201a8"
             ],
             [
              0.3333333333333333,
              "#9c179e"
             ],
             [
              0.4444444444444444,
              "#bd3786"
             ],
             [
              0.5555555555555556,
              "#d8576b"
             ],
             [
              0.6666666666666666,
              "#ed7953"
             ],
             [
              0.7777777777777778,
              "#fb9f3a"
             ],
             [
              0.8888888888888888,
              "#fdca26"
             ],
             [
              1.0,
              "#f0f921"
             ]
            ]
           }
          ],
          "contourcarpet": [
           {
            "type": "contourcarpet",
            "colorbar": {
             "outlinewidth": 0,
             "ticks": ""
            }
           }
          ],
          "contour": [
           {
            "type": "contour",
            "colorbar": {
             "outlinewidth": 0,
             "ticks": ""
            },
            "colorscale": [
             [
              0.0,
              "#0d0887"
             ],
             [
              0.1111111111111111,
              "#46039f"
             ],
             [
              0.2222222222222222,
              "#7201a8"
             ],
             [
              0.3333333333333333,
              "#9c179e"
             ],
             [
              0.4444444444444444,
              "#bd3786"
             ],
             [
              0.5555555555555556,
              "#d8576b"
             ],
             [
              0.6666666666666666,
              "#ed7953"
             ],
             [
              0.7777777777777778,
              "#fb9f3a"
             ],
             [
              0.8888888888888888,
              "#fdca26"
             ],
             [
              1.0,
              "#f0f921"
             ]
            ]
           }
          ],
          "surface": [
           {
            "type": "surface",
            "colorbar": {
             "outlinewidth": 0,
             "ticks": ""
            },
            "colorscale": [
             [
              0.0,
              "#0d0887"
             ],
             [
              0.1111111111111111,
              "#46039f"
             ],
             [
              0.2222222222222222,
              "#7201a8"
             ],
             [
              0.3333333333333333,
              "#9c179e"
             ],
             [
              0.4444444444444444,
              "#bd3786"
             ],
             [
              0.5555555555555556,
              "#d8576b"
             ],
             [
              0.6666666666666666,
              "#ed7953"
             ],
             [
              0.7777777777777778,
              "#fb9f3a"
             ],
             [
              0.8888888888888888,
              "#fdca26"
             ],
             [
              1.0,
              "#f0f921"
             ]
            ]
           }
          ],
          "mesh3d": [
           {
            "type": "mesh3d",
            "colorbar": {
             "outlinewidth": 0,
             "ticks": ""
            }
           }
          ],
          "scatter": [
           {
            "fillpattern": {
             "fillmode": "overlay",
             "size": 10,
             "solidity": 0.2
            },
            "type": "scatter"
           }
          ],
          "parcoords": [
           {
            "type": "parcoords",
            "line": {
             "colorbar": {
              "outlinewidth": 0,
              "ticks": ""
             }
            }
           }
          ],
          "scatterpolargl": [
           {
            "type": "scatterpolargl",
            "marker": {
             "colorbar": {
              "outlinewidth": 0,
              "ticks": ""
             }
            }
           }
          ],
          "bar": [
           {
            "error_x": {
             "color": "#2a3f5f"
            },
            "error_y": {
             "color": "#2a3f5f"
            },
            "marker": {
             "line": {
              "color": "#E5ECF6",
              "width": 0.5
             },
             "pattern": {
              "fillmode": "overlay",
              "size": 10,
              "solidity": 0.2
             }
            },
            "type": "bar"
           }
          ],
          "scattergeo": [
           {
            "type": "scattergeo",
            "marker": {
             "colorbar": {
              "outlinewidth": 0,
              "ticks": ""
             }
            }
           }
          ],
          "scatterpolar": [
           {
            "type": "scatterpolar",
            "marker": {
             "colorbar": {
              "outlinewidth": 0,
              "ticks": ""
             }
            }
           }
          ],
          "histogram": [
           {
            "marker": {
             "pattern": {
              "fillmode": "overlay",
              "size": 10,
              "solidity": 0.2
             }
            },
            "type": "histogram"
           }
          ],
          "scattergl": [
           {
            "type": "scattergl",
            "marker": {
             "colorbar": {
              "outlinewidth": 0,
              "ticks": ""
             }
            }
           }
          ],
          "scatter3d": [
           {
            "type": "scatter3d",
            "line": {
             "colorbar": {
              "outlinewidth": 0,
              "ticks": ""
             }
            },
            "marker": {
             "colorbar": {
              "outlinewidth": 0,
              "ticks": ""
             }
            }
           }
          ],
          "scattermapbox": [
           {
            "type": "scattermapbox",
            "marker": {
             "colorbar": {
              "outlinewidth": 0,
              "ticks": ""
             }
            }
           }
          ],
          "scatterternary": [
           {
            "type": "scatterternary",
            "marker": {
             "colorbar": {
              "outlinewidth": 0,
              "ticks": ""
             }
            }
           }
          ],
          "scattercarpet": [
           {
            "type": "scattercarpet",
            "marker": {
             "colorbar": {
              "outlinewidth": 0,
              "ticks": ""
             }
            }
           }
          ],
          "carpet": [
           {
            "aaxis": {
             "endlinecolor": "#2a3f5f",
             "gridcolor": "white",
             "linecolor": "white",
             "minorgridcolor": "white",
             "startlinecolor": "#2a3f5f"
            },
            "baxis": {
             "endlinecolor": "#2a3f5f",
             "gridcolor": "white",
             "linecolor": "white",
             "minorgridcolor": "white",
             "startlinecolor": "#2a3f5f"
            },
            "type": "carpet"
           }
          ],
          "table": [
           {
            "cells": {
             "fill": {
              "color": "#EBF0F8"
             },
             "line": {
              "color": "white"
             }
            },
            "header": {
             "fill": {
              "color": "#C8D4E3"
             },
             "line": {
              "color": "white"
             }
            },
            "type": "table"
           }
          ],
          "barpolar": [
           {
            "marker": {
             "line": {
              "color": "#E5ECF6",
              "width": 0.5
             },
             "pattern": {
              "fillmode": "overlay",
              "size": 10,
              "solidity": 0.2
             }
            },
            "type": "barpolar"
           }
          ],
          "pie": [
           {
            "automargin": true,
            "type": "pie"
           }
          ]
         },
         "layout": {
          "autotypenumbers": "strict",
          "colorway": [
           "#636efa",
           "#EF553B",
           "#00cc96",
           "#ab63fa",
           "#FFA15A",
           "#19d3f3",
           "#FF6692",
           "#B6E880",
           "#FF97FF",
           "#FECB52"
          ],
          "font": {
           "color": "#2a3f5f"
          },
          "hovermode": "closest",
          "hoverlabel": {
           "align": "left"
          },
          "paper_bgcolor": "white",
          "plot_bgcolor": "#E5ECF6",
          "polar": {
           "bgcolor": "#E5ECF6",
           "angularaxis": {
            "gridcolor": "white",
            "linecolor": "white",
            "ticks": ""
           },
           "radialaxis": {
            "gridcolor": "white",
            "linecolor": "white",
            "ticks": ""
           }
          },
          "ternary": {
           "bgcolor": "#E5ECF6",
           "aaxis": {
            "gridcolor": "white",
            "linecolor": "white",
            "ticks": ""
           },
           "baxis": {
            "gridcolor": "white",
            "linecolor": "white",
            "ticks": ""
           },
           "caxis": {
            "gridcolor": "white",
            "linecolor": "white",
            "ticks": ""
           }
          },
          "coloraxis": {
           "colorbar": {
            "outlinewidth": 0,
            "ticks": ""
           }
          },
          "colorscale": {
           "sequential": [
            [
             0.0,
             "#0d0887"
            ],
            [
             0.1111111111111111,
             "#46039f"
            ],
            [
             0.2222222222222222,
             "#7201a8"
            ],
            [
             0.3333333333333333,
             "#9c179e"
            ],
            [
             0.4444444444444444,
             "#bd3786"
            ],
            [
             0.5555555555555556,
             "#d8576b"
            ],
            [
             0.6666666666666666,
             "#ed7953"
            ],
            [
             0.7777777777777778,
             "#fb9f3a"
            ],
            [
             0.8888888888888888,
             "#fdca26"
            ],
            [
             1.0,
             "#f0f921"
            ]
           ],
           "sequentialminus": [
            [
             0.0,
             "#0d0887"
            ],
            [
             0.1111111111111111,
             "#46039f"
            ],
            [
             0.2222222222222222,
             "#7201a8"
            ],
            [
             0.3333333333333333,
             "#9c179e"
            ],
            [
             0.4444444444444444,
             "#bd3786"
            ],
            [
             0.5555555555555556,
             "#d8576b"
            ],
            [
             0.6666666666666666,
             "#ed7953"
            ],
            [
             0.7777777777777778,
             "#fb9f3a"
            ],
            [
             0.8888888888888888,
             "#fdca26"
            ],
            [
             1.0,
             "#f0f921"
            ]
           ],
           "diverging": [
            [
             0,
             "#8e0152"
            ],
            [
             0.1,
             "#c51b7d"
            ],
            [
             0.2,
             "#de77ae"
            ],
            [
             0.3,
             "#f1b6da"
            ],
            [
             0.4,
             "#fde0ef"
            ],
            [
             0.5,
             "#f7f7f7"
            ],
            [
             0.6,
             "#e6f5d0"
            ],
            [
             0.7,
             "#b8e186"
            ],
            [
             0.8,
             "#7fbc41"
            ],
            [
             0.9,
             "#4d9221"
            ],
            [
             1,
             "#276419"
            ]
           ]
          },
          "xaxis": {
           "gridcolor": "white",
           "linecolor": "white",
           "ticks": "",
           "title": {
            "standoff": 15
           },
           "zerolinecolor": "white",
           "automargin": true,
           "zerolinewidth": 2
          },
          "yaxis": {
           "gridcolor": "white",
           "linecolor": "white",
           "ticks": "",
           "title": {
            "standoff": 15
           },
           "zerolinecolor": "white",
           "automargin": true,
           "zerolinewidth": 2
          },
          "scene": {
           "xaxis": {
            "backgroundcolor": "#E5ECF6",
            "gridcolor": "white",
            "linecolor": "white",
            "showbackground": true,
            "ticks": "",
            "zerolinecolor": "white",
            "gridwidth": 2
           },
           "yaxis": {
            "backgroundcolor": "#E5ECF6",
            "gridcolor": "white",
            "linecolor": "white",
            "showbackground": true,
            "ticks": "",
            "zerolinecolor": "white",
            "gridwidth": 2
           },
           "zaxis": {
            "backgroundcolor": "#E5ECF6",
            "gridcolor": "white",
            "linecolor": "white",
            "showbackground": true,
            "ticks": "",
            "zerolinecolor": "white",
            "gridwidth": 2
           }
          },
          "shapedefaults": {
           "line": {
            "color": "#2a3f5f"
           }
          },
          "annotationdefaults": {
           "arrowcolor": "#2a3f5f",
           "arrowhead": 0,
           "arrowwidth": 1
          },
          "geo": {
           "bgcolor": "white",
           "landcolor": "#E5ECF6",
           "subunitcolor": "white",
           "showland": true,
           "showlakes": true,
           "lakecolor": "white"
          },
          "title": {
           "x": 0.05
          },
          "mapbox": {
           "style": "light"
          }
         }
        },
        "xaxis": {
         "anchor": "y",
         "domain": [
          0.0,
          0.2888888888888889
         ],
         "title": {
          "text": "Model"
         }
        },
        "yaxis": {
         "anchor": "x",
         "domain": [
          0.0,
          1.0
         ],
         "title": {
          "text": "F1 Score"
         }
        },
        "xaxis2": {
         "anchor": "y2",
         "domain": [
          0.35555555555555557,
          0.6444444444444445
         ]
        },
        "yaxis2": {
         "anchor": "x2",
         "domain": [
          0.0,
          1.0
         ],
         "matches": "y",
         "showticklabels": false
        },
        "xaxis3": {
         "anchor": "y3",
         "domain": [
          0.7111111111111111,
          1.0
         ]
        },
        "yaxis3": {
         "anchor": "x3",
         "domain": [
          0.0,
          1.0
         ],
         "matches": "y",
         "showticklabels": false
        },
        "annotations": [
         {
          "font": {
           "size": 16
          },
          "showarrow": false,
          "text": "Bloom",
          "x": 0.14444444444444446,
          "xanchor": "center",
          "xref": "paper",
          "y": 1.0,
          "yanchor": "bottom",
          "yref": "paper"
         },
         {
          "font": {
           "size": 16
          },
          "showarrow": false,
          "text": "Bloomz",
          "x": 0.5,
          "xanchor": "center",
          "xref": "paper",
          "y": 1.0,
          "yanchor": "bottom",
          "yref": "paper"
         },
         {
          "font": {
           "size": 16
          },
          "showarrow": false,
          "text": "XGLM",
          "x": 0.8555555555555556,
          "xanchor": "center",
          "xref": "paper",
          "y": 1.0,
          "yanchor": "bottom",
          "yref": "paper"
         }
        ],
        "title": {
         "text": "Box Plot for F1 Scores (None = None, Only Bloomz = False, Only Bloom = False, Only XGLM = False)"
        },
        "showlegend": false,
        "height": 600
       },
       "config": {
        "plotlyServerURL": "https://plot.ly"
       }
      }
     },
     "metadata": {},
     "output_type": "display_data"
    }
   ],
   "source": [
    "only_bloom = False\n",
    "only_bloomz = False\n",
    "only_gxlm = False\n",
    "\n",
    "# we can filter based on 'Language Family', 'Script (ISO 15924)', 'Resource Level', 'Population', 'Language Vitality', 'Digital Language Support'.\n",
    "filter_column = None\n",
    "value = None\n",
    "\n",
    "if filter_column is None:\n",
    "    generate_box(melted_df, filter_column, value, only_bloomz, only_bloom, only_gxlm)\n",
    "elif value != None:\n",
    "    generate_box(melted_df, filter_column, value, only_bloomz, only_bloom, only_gxlm)\n",
    "else:\n",
    "    for value in df[filter_column].unique():\n",
    "        generate_box(melted_df, filter_column, value, only_bloomz, only_bloom, only_gxlm)"
   ],
   "metadata": {
    "collapsed": false,
    "ExecuteTime": {
     "end_time": "2024-01-29T23:34:44.982984693Z",
     "start_time": "2024-01-29T23:34:44.928240404Z"
    }
   },
   "id": "7b134b16acb3e38a",
   "execution_count": 107
  },
  {
   "cell_type": "code",
   "outputs": [
    {
     "data": {
      "application/vnd.plotly.v1+json": {
       "data": [
        {
         "hovertemplate": "Model=F1 xglm-564M top_logprobs<br>F1 Score=%{r}<br>Language Name=%{theta}<extra></extra>",
         "legendgroup": "F1 xglm-564M top_logprobs",
         "line": {
          "color": "#636efa",
          "dash": "solid"
         },
         "marker": {
          "symbol": "circle"
         },
         "mode": "lines",
         "name": "F1 xglm-564M top_logprobs",
         "r": [
          0.1711607017146,
          0.361237485832117,
          0.246301270790579,
          0.253976091322193,
          0.138516473491843,
          0.320903722851775,
          0.15206378138709,
          0.252034433389451,
          0.344924822449449,
          0.254498421791198,
          0.220135478066513,
          0.397886477338532,
          0.15463087825808,
          0.369379657072221,
          0.0839212994738046,
          0.398551240262491,
          0.137893870028393,
          0.194095152159668,
          0.0745431217300546,
          0.397503610458358,
          0.135598673740261,
          0.212817950146566,
          0.123171635823782,
          0.25779281136424,
          0.186241485670057,
          0.145029841548158,
          0.320252208924209,
          0.0412801484230056,
          0.0388997858864749,
          0.193770338282533,
          0.366499736346145,
          0.411140560120152,
          0.147284804735886,
          0.0633193566802496,
          0.371323366675029,
          0.235725012314874,
          0.128768926925609,
          0.0968055330276875,
          0.321084866181651,
          0.266200616682235,
          0.208491113771693,
          0.285325702043786,
          0.201166521148175,
          0.329009624799098,
          0.294904416891599,
          0.345522940358939,
          0.262260903496705,
          0.285689289152536,
          0.209774524060238,
          0.449147849022841,
          0.0375361884795847,
          0.108736161797386,
          0.453344885599772,
          0.300128379491728,
          0.180292122872768,
          0.401420729607488,
          0.28115918892332,
          0.226878172652709,
          0.300135770835735,
          0.205419105626747,
          0.280838353338001,
          0.439259829383559,
          0.0417925017540648,
          0.492967547846143,
          0.376910386387992,
          0.250204590927187,
          0.233277894671334,
          0.191304534352926,
          0.161620513186395,
          0.0695982646555625,
          0.251367978836537,
          0.179296631717615,
          0.259433719433719,
          0.158798185941043,
          0.17235026555584,
          0.319108110982283,
          0.204439175766599,
          0.426441867737597,
          0.213406866243001,
          0.229040578702248,
          0.287789192231917,
          0.116399685678233,
          0.370119311582726,
          0.198948141391617,
          0.285439495995442,
          0.212916873175755,
          0.229382625536946,
          0.0721433328576186,
          0.26465058750773,
          0.0979107312440646,
          0.1711607017146
         ],
         "showlegend": true,
         "subplot": "polar",
         "theta": [
          "Aceh",
          "Aceh",
          "Akan",
          "Tosk Albanian",
          "Assamese",
          "Asturianu",
          "Central Aymara",
          "South Azerbaijani",
          "North Azerbaijani",
          "Bashkort",
          "Bamanankan",
          "Bhojpuri",
          "Banjar",
          "Banjar",
          "Central Tibetan",
          "Crimean Tatar",
          "Welsh",
          "Southwestern Dinka",
          "Dzongkha",
          "Esperanto",
          "Éwé",
          "Faroese",
          "Fijian",
          "Friulian",
          "West Central Oromo",
          "Scottish Gaelic",
          "Guarani",
          "Gujarati",
          "Armenian",
          "Igbo",
          "Ilocano",
          "Javanese",
          "Kabyle",
          "Kannada",
          "Kashmiri",
          "Kashmiri",
          "Halh Mongolian",
          "Khmer",
          "Gikuyu",
          "Kinyarwanda",
          "Kyrgyz",
          "Kongo",
          "Ligurian",
          "Limburgish",
          "Lingala",
          "Lombard",
          "Latgalian",
          "Luxembourgish",
          "Ganda",
          "Maithili",
          "Malayalam",
          "Minangkabau",
          "Minangkabau",
          "Macedonian",
          "Maori",
          "Burmese",
          "Nynorsk",
          "Bokmål",
          "Nepali",
          "Northern Sotho",
          "Chichewa",
          "Occitan",
          "Odia",
          "Pangasinan",
          "Papiamentu",
          "Southern Pashto",
          "Merina Malagasy",
          "Ayacucho Quechua",
          "Sango",
          "Santhali",
          "Sicilian",
          "Samoan",
          "Shona",
          "Sindhi",
          "Somali",
          "Sardinian",
          "Swati",
          "Sunda",
          "Silesian",
          "Tatar",
          "Telugu",
          "Tajik",
          "Tok Pisin",
          "Tsonga",
          "Turkmen",
          "Tumbuka",
          "Twi",
          "Uyghur",
          "Venetian",
          "Eastern Yiddish",
          "Aceh"
         ],
         "type": "scatterpolar"
        },
        {
         "hovertemplate": "Model=F1 xglm-1.7B top_logprobs<br>F1 Score=%{r}<br>Language Name=%{theta}<extra></extra>",
         "legendgroup": "F1 xglm-1.7B top_logprobs",
         "line": {
          "color": "#EF553B",
          "dash": "solid"
         },
         "marker": {
          "symbol": "circle"
         },
         "mode": "lines",
         "name": "F1 xglm-1.7B top_logprobs",
         "r": [
          0.101481903585665,
          0.42986781480042,
          0.260158784889025,
          0.369335310300087,
          0.346511021216653,
          0.382529443648035,
          0.280267120391822,
          0.282320606690743,
          0.482030786818748,
          0.472068504342487,
          0.194001230186363,
          0.542569244116151,
          0.0686992745816275,
          0.442992639991875,
          0.116585984008852,
          0.53798004777744,
          0.255026936125204,
          0.232375234579317,
          0.0726828937555089,
          0.442370977749503,
          0.192433038485363,
          0.317472889940524,
          0.192816773838368,
          0.361467804082243,
          0.190950124618451,
          0.149785642775167,
          0.426325890672241,
          0.130838395562917,
          0.0545619085623076,
          0.278377773938312,
          0.383620951929909,
          0.478685097227297,
          0.158566850163489,
          0.137474156277422,
          0.514966207074967,
          0.350743078789436,
          0.309499458468546,
          0.159193362502422,
          0.331524089087861,
          0.292574252881948,
          0.371416049923721,
          0.34726542945721,
          0.419323850752422,
          0.422548988853337,
          0.331183745307122,
          0.319452712176799,
          0.353908358340971,
          0.442646439643587,
          0.252196871318434,
          0.65444344748117,
          0.0709782291294896,
          0.0786051212938005,
          0.556977816107683,
          0.45733762036283,
          0.282250794054176,
          0.602415818745123,
          0.32785734462913,
          0.283110355849644,
          0.525335105692249,
          0.272609392374813,
          0.334616250788973,
          0.33929859822717,
          0.06398255740361,
          0.458026842655023,
          0.477449091306298,
          0.340423366316223,
          0.287560819462228,
          0.295166541765635,
          0.2569743085506,
          0.0721608777935488,
          0.273307050092764,
          0.206781854193707,
          0.280309960693453,
          0.340400098817334,
          0.206071901853946,
          0.398438410977673,
          0.210351466076067,
          0.47569029348216,
          0.293449034331887,
          0.419902084115382,
          0.462935428194854,
          0.163234721065837,
          0.412161355770378,
          0.268113299619904,
          0.355134348943205,
          0.28291041182324,
          0.285875645111595,
          0.218558945776688,
          0.319850294158503,
          0.0278128950695322,
          0.101481903585665
         ],
         "showlegend": true,
         "subplot": "polar",
         "theta": [
          "Aceh",
          "Aceh",
          "Akan",
          "Tosk Albanian",
          "Assamese",
          "Asturianu",
          "Central Aymara",
          "South Azerbaijani",
          "North Azerbaijani",
          "Bashkort",
          "Bamanankan",
          "Bhojpuri",
          "Banjar",
          "Banjar",
          "Central Tibetan",
          "Crimean Tatar",
          "Welsh",
          "Southwestern Dinka",
          "Dzongkha",
          "Esperanto",
          "Éwé",
          "Faroese",
          "Fijian",
          "Friulian",
          "West Central Oromo",
          "Scottish Gaelic",
          "Guarani",
          "Gujarati",
          "Armenian",
          "Igbo",
          "Ilocano",
          "Javanese",
          "Kabyle",
          "Kannada",
          "Kashmiri",
          "Kashmiri",
          "Halh Mongolian",
          "Khmer",
          "Gikuyu",
          "Kinyarwanda",
          "Kyrgyz",
          "Kongo",
          "Ligurian",
          "Limburgish",
          "Lingala",
          "Lombard",
          "Latgalian",
          "Luxembourgish",
          "Ganda",
          "Maithili",
          "Malayalam",
          "Minangkabau",
          "Minangkabau",
          "Macedonian",
          "Maori",
          "Burmese",
          "Nynorsk",
          "Bokmål",
          "Nepali",
          "Northern Sotho",
          "Chichewa",
          "Occitan",
          "Odia",
          "Pangasinan",
          "Papiamentu",
          "Southern Pashto",
          "Merina Malagasy",
          "Ayacucho Quechua",
          "Sango",
          "Santhali",
          "Sicilian",
          "Samoan",
          "Shona",
          "Sindhi",
          "Somali",
          "Sardinian",
          "Swati",
          "Sunda",
          "Silesian",
          "Tatar",
          "Telugu",
          "Tajik",
          "Tok Pisin",
          "Tsonga",
          "Turkmen",
          "Tumbuka",
          "Twi",
          "Uyghur",
          "Venetian",
          "Eastern Yiddish",
          "Aceh"
         ],
         "type": "scatterpolar"
        },
        {
         "hovertemplate": "Model=F1 xglm-2.9B top_logprobs<br>F1 Score=%{r}<br>Language Name=%{theta}<extra></extra>",
         "legendgroup": "F1 xglm-2.9B top_logprobs",
         "line": {
          "color": "#00cc96",
          "dash": "solid"
         },
         "marker": {
          "symbol": "circle"
         },
         "mode": "lines",
         "name": "F1 xglm-2.9B top_logprobs",
         "r": [
          0.180929673078329,
          0.410092792235649,
          0.241129503776053,
          0.438139736415599,
          0.462113994380004,
          0.438418141987149,
          0.137548262548263,
          0.355883121608445,
          0.426200376440745,
          0.43833114315994,
          0.244290771063099,
          0.586651657429646,
          0.13371033725723,
          0.410783918458153,
          0.0468384074941452,
          0.476209752249902,
          0.197420675951087,
          0.196868403935902,
          0.0468384074941452,
          0.489859540200015,
          0.160759242245665,
          0.235846756038591,
          0.180107317375677,
          0.417189567189567,
          0.195868837045308,
          0.147480389650636,
          0.356344450729649,
          0.0727165753072489,
          0.107486750172616,
          0.284895622976118,
          0.449454032274127,
          0.465314882258404,
          0.0869895293540614,
          0.0813938478617253,
          0.560718646432932,
          0.37390995726321,
          0.223923654937112,
          0.122396556305857,
          0.401092789856835,
          0.219124670678786,
          0.340945890766093,
          0.329530506481287,
          0.444653858820329,
          0.38520378578845,
          0.306682159389325,
          0.394027026524653,
          0.399124845220816,
          0.415993712099447,
          0.239380903876702,
          0.620752077691456,
          0.0548874774082445,
          0.108214568110631,
          0.48212561096132,
          0.57530099327974,
          0.248531221468327,
          0.467987609043879,
          0.309396141221692,
          0.27844135444492,
          0.541716868844528,
          0.249053471104079,
          0.300184302996677,
          0.41112682172481,
          0.133408773198714,
          0.536826326934962,
          0.497245588996129,
          0.36210755698207,
          0.30125164100728,
          0.168325018555433,
          0.239260820883417,
          0.0883449124330583,
          0.411722030975746,
          0.219373475886443,
          0.252449613861409,
          0.33330895953543,
          0.229408756055324,
          0.429391651438702,
          0.256473591633662,
          0.508566871101456,
          0.20252102659059,
          0.383674462357241,
          0.465644228739467,
          0.234128520280794,
          0.403845981141069,
          0.260174506392994,
          0.328776167545645,
          0.132033454202105,
          0.257899349182808,
          0.149976863625875,
          0.407914374223984,
          0.125875885158817,
          0.180929673078329
         ],
         "showlegend": true,
         "subplot": "polar",
         "theta": [
          "Aceh",
          "Aceh",
          "Akan",
          "Tosk Albanian",
          "Assamese",
          "Asturianu",
          "Central Aymara",
          "South Azerbaijani",
          "North Azerbaijani",
          "Bashkort",
          "Bamanankan",
          "Bhojpuri",
          "Banjar",
          "Banjar",
          "Central Tibetan",
          "Crimean Tatar",
          "Welsh",
          "Southwestern Dinka",
          "Dzongkha",
          "Esperanto",
          "Éwé",
          "Faroese",
          "Fijian",
          "Friulian",
          "West Central Oromo",
          "Scottish Gaelic",
          "Guarani",
          "Gujarati",
          "Armenian",
          "Igbo",
          "Ilocano",
          "Javanese",
          "Kabyle",
          "Kannada",
          "Kashmiri",
          "Kashmiri",
          "Halh Mongolian",
          "Khmer",
          "Gikuyu",
          "Kinyarwanda",
          "Kyrgyz",
          "Kongo",
          "Ligurian",
          "Limburgish",
          "Lingala",
          "Lombard",
          "Latgalian",
          "Luxembourgish",
          "Ganda",
          "Maithili",
          "Malayalam",
          "Minangkabau",
          "Minangkabau",
          "Macedonian",
          "Maori",
          "Burmese",
          "Nynorsk",
          "Bokmål",
          "Nepali",
          "Northern Sotho",
          "Chichewa",
          "Occitan",
          "Odia",
          "Pangasinan",
          "Papiamentu",
          "Southern Pashto",
          "Merina Malagasy",
          "Ayacucho Quechua",
          "Sango",
          "Santhali",
          "Sicilian",
          "Samoan",
          "Shona",
          "Sindhi",
          "Somali",
          "Sardinian",
          "Swati",
          "Sunda",
          "Silesian",
          "Tatar",
          "Telugu",
          "Tajik",
          "Tok Pisin",
          "Tsonga",
          "Turkmen",
          "Tumbuka",
          "Twi",
          "Uyghur",
          "Venetian",
          "Eastern Yiddish",
          "Aceh"
         ],
         "type": "scatterpolar"
        },
        {
         "hovertemplate": "Model=F1 xglm-7.5B top_logprobs<br>F1 Score=%{r}<br>Language Name=%{theta}<extra></extra>",
         "legendgroup": "F1 xglm-7.5B top_logprobs",
         "line": {
          "color": "#ab63fa",
          "dash": "solid"
         },
         "marker": {
          "symbol": "circle"
         },
         "mode": "lines",
         "name": "F1 xglm-7.5B top_logprobs",
         "r": [
          0.185928576190672,
          0.427536912209552,
          0.271219109124804,
          0.396807337784728,
          0.584603687455395,
          0.435847969998153,
          0.243951938468487,
          0.343636661511398,
          0.399260122782838,
          0.400792948029158,
          0.208501731548762,
          0.650591083891184,
          0.114967399336758,
          0.498477693611577,
          0.101356829475138,
          0.452510311169059,
          0.210471652505123,
          0.224897556432322,
          0.0635459616783895,
          0.380314903638406,
          0.204504918003707,
          0.309227300559419,
          0.128735519364979,
          0.41370565703541,
          0.198034435788074,
          0.227007861748656,
          0.36834490483617,
          0.110940652122918,
          0.127121161964221,
          0.259754003382783,
          0.421685527849911,
          0.461906382335148,
          0.154144431043901,
          0.0853899021014924,
          0.610490091712329,
          0.445788844399828,
          0.229606625258799,
          0.161348198966438,
          0.341285251252029,
          0.237362637362637,
          0.378967990225784,
          0.327189010237402,
          0.376094800390312,
          0.307782380636921,
          0.382370919382246,
          0.36373249251947,
          0.310599143510181,
          0.332857991681521,
          0.207711172311504,
          0.603522058275579,
          0.102452346954965,
          0.175501111505372,
          0.545480989600935,
          0.465878182789313,
          0.22756174708091,
          0.560378395862088,
          0.348136293824984,
          0.329901947168134,
          0.582427679570871,
          0.282393143303833,
          0.370193887763131,
          0.238076321388961,
          0.108192850539485,
          0.523805731380268,
          0.441950394642817,
          0.451768896725691,
          0.277353765187189,
          0.445529672253089,
          0.229809976973492,
          0.0669887433497779,
          0.381820906459441,
          0.21821676270746,
          0.246355799863747,
          0.377356536839053,
          0.277724195064943,
          0.366221465518742,
          0.265934445040114,
          0.494456056158184,
          0.203965239086092,
          0.37919752886969,
          0.482739364635901,
          0.187469014014898,
          0.423307085005771,
          0.268055090888815,
          0.355623188634602,
          0.287888810924068,
          0.272508952390335,
          0.188283804203674,
          0.382862375719518,
          0.0878981972005228,
          0.185928576190672
         ],
         "showlegend": true,
         "subplot": "polar",
         "theta": [
          "Aceh",
          "Aceh",
          "Akan",
          "Tosk Albanian",
          "Assamese",
          "Asturianu",
          "Central Aymara",
          "South Azerbaijani",
          "North Azerbaijani",
          "Bashkort",
          "Bamanankan",
          "Bhojpuri",
          "Banjar",
          "Banjar",
          "Central Tibetan",
          "Crimean Tatar",
          "Welsh",
          "Southwestern Dinka",
          "Dzongkha",
          "Esperanto",
          "Éwé",
          "Faroese",
          "Fijian",
          "Friulian",
          "West Central Oromo",
          "Scottish Gaelic",
          "Guarani",
          "Gujarati",
          "Armenian",
          "Igbo",
          "Ilocano",
          "Javanese",
          "Kabyle",
          "Kannada",
          "Kashmiri",
          "Kashmiri",
          "Halh Mongolian",
          "Khmer",
          "Gikuyu",
          "Kinyarwanda",
          "Kyrgyz",
          "Kongo",
          "Ligurian",
          "Limburgish",
          "Lingala",
          "Lombard",
          "Latgalian",
          "Luxembourgish",
          "Ganda",
          "Maithili",
          "Malayalam",
          "Minangkabau",
          "Minangkabau",
          "Macedonian",
          "Maori",
          "Burmese",
          "Nynorsk",
          "Bokmål",
          "Nepali",
          "Northern Sotho",
          "Chichewa",
          "Occitan",
          "Odia",
          "Pangasinan",
          "Papiamentu",
          "Southern Pashto",
          "Merina Malagasy",
          "Ayacucho Quechua",
          "Sango",
          "Santhali",
          "Sicilian",
          "Samoan",
          "Shona",
          "Sindhi",
          "Somali",
          "Sardinian",
          "Swati",
          "Sunda",
          "Silesian",
          "Tatar",
          "Telugu",
          "Tajik",
          "Tok Pisin",
          "Tsonga",
          "Turkmen",
          "Tumbuka",
          "Twi",
          "Uyghur",
          "Venetian",
          "Eastern Yiddish",
          "Aceh"
         ],
         "type": "scatterpolar"
        }
       ],
       "layout": {
        "template": {
         "data": {
          "histogram2dcontour": [
           {
            "type": "histogram2dcontour",
            "colorbar": {
             "outlinewidth": 0,
             "ticks": ""
            },
            "colorscale": [
             [
              0.0,
              "#0d0887"
             ],
             [
              0.1111111111111111,
              "#46039f"
             ],
             [
              0.2222222222222222,
              "#7201a8"
             ],
             [
              0.3333333333333333,
              "#9c179e"
             ],
             [
              0.4444444444444444,
              "#bd3786"
             ],
             [
              0.5555555555555556,
              "#d8576b"
             ],
             [
              0.6666666666666666,
              "#ed7953"
             ],
             [
              0.7777777777777778,
              "#fb9f3a"
             ],
             [
              0.8888888888888888,
              "#fdca26"
             ],
             [
              1.0,
              "#f0f921"
             ]
            ]
           }
          ],
          "choropleth": [
           {
            "type": "choropleth",
            "colorbar": {
             "outlinewidth": 0,
             "ticks": ""
            }
           }
          ],
          "histogram2d": [
           {
            "type": "histogram2d",
            "colorbar": {
             "outlinewidth": 0,
             "ticks": ""
            },
            "colorscale": [
             [
              0.0,
              "#0d0887"
             ],
             [
              0.1111111111111111,
              "#46039f"
             ],
             [
              0.2222222222222222,
              "#7201a8"
             ],
             [
              0.3333333333333333,
              "#9c179e"
             ],
             [
              0.4444444444444444,
              "#bd3786"
             ],
             [
              0.5555555555555556,
              "#d8576b"
             ],
             [
              0.6666666666666666,
              "#ed7953"
             ],
             [
              0.7777777777777778,
              "#fb9f3a"
             ],
             [
              0.8888888888888888,
              "#fdca26"
             ],
             [
              1.0,
              "#f0f921"
             ]
            ]
           }
          ],
          "heatmap": [
           {
            "type": "heatmap",
            "colorbar": {
             "outlinewidth": 0,
             "ticks": ""
            },
            "colorscale": [
             [
              0.0,
              "#0d0887"
             ],
             [
              0.1111111111111111,
              "#46039f"
             ],
             [
              0.2222222222222222,
              "#7201a8"
             ],
             [
              0.3333333333333333,
              "#9c179e"
             ],
             [
              0.4444444444444444,
              "#bd3786"
             ],
             [
              0.5555555555555556,
              "#d8576b"
             ],
             [
              0.6666666666666666,
              "#ed7953"
             ],
             [
              0.7777777777777778,
              "#fb9f3a"
             ],
             [
              0.8888888888888888,
              "#fdca26"
             ],
             [
              1.0,
              "#f0f921"
             ]
            ]
           }
          ],
          "heatmapgl": [
           {
            "type": "heatmapgl",
            "colorbar": {
             "outlinewidth": 0,
             "ticks": ""
            },
            "colorscale": [
             [
              0.0,
              "#0d0887"
             ],
             [
              0.1111111111111111,
              "#46039f"
             ],
             [
              0.2222222222222222,
              "#7201a8"
             ],
             [
              0.3333333333333333,
              "#9c179e"
             ],
             [
              0.4444444444444444,
              "#bd3786"
             ],
             [
              0.5555555555555556,
              "#d8576b"
             ],
             [
              0.6666666666666666,
              "#ed7953"
             ],
             [
              0.7777777777777778,
              "#fb9f3a"
             ],
             [
              0.8888888888888888,
              "#fdca26"
             ],
             [
              1.0,
              "#f0f921"
             ]
            ]
           }
          ],
          "contourcarpet": [
           {
            "type": "contourcarpet",
            "colorbar": {
             "outlinewidth": 0,
             "ticks": ""
            }
           }
          ],
          "contour": [
           {
            "type": "contour",
            "colorbar": {
             "outlinewidth": 0,
             "ticks": ""
            },
            "colorscale": [
             [
              0.0,
              "#0d0887"
             ],
             [
              0.1111111111111111,
              "#46039f"
             ],
             [
              0.2222222222222222,
              "#7201a8"
             ],
             [
              0.3333333333333333,
              "#9c179e"
             ],
             [
              0.4444444444444444,
              "#bd3786"
             ],
             [
              0.5555555555555556,
              "#d8576b"
             ],
             [
              0.6666666666666666,
              "#ed7953"
             ],
             [
              0.7777777777777778,
              "#fb9f3a"
             ],
             [
              0.8888888888888888,
              "#fdca26"
             ],
             [
              1.0,
              "#f0f921"
             ]
            ]
           }
          ],
          "surface": [
           {
            "type": "surface",
            "colorbar": {
             "outlinewidth": 0,
             "ticks": ""
            },
            "colorscale": [
             [
              0.0,
              "#0d0887"
             ],
             [
              0.1111111111111111,
              "#46039f"
             ],
             [
              0.2222222222222222,
              "#7201a8"
             ],
             [
              0.3333333333333333,
              "#9c179e"
             ],
             [
              0.4444444444444444,
              "#bd3786"
             ],
             [
              0.5555555555555556,
              "#d8576b"
             ],
             [
              0.6666666666666666,
              "#ed7953"
             ],
             [
              0.7777777777777778,
              "#fb9f3a"
             ],
             [
              0.8888888888888888,
              "#fdca26"
             ],
             [
              1.0,
              "#f0f921"
             ]
            ]
           }
          ],
          "mesh3d": [
           {
            "type": "mesh3d",
            "colorbar": {
             "outlinewidth": 0,
             "ticks": ""
            }
           }
          ],
          "scatter": [
           {
            "fillpattern": {
             "fillmode": "overlay",
             "size": 10,
             "solidity": 0.2
            },
            "type": "scatter"
           }
          ],
          "parcoords": [
           {
            "type": "parcoords",
            "line": {
             "colorbar": {
              "outlinewidth": 0,
              "ticks": ""
             }
            }
           }
          ],
          "scatterpolargl": [
           {
            "type": "scatterpolargl",
            "marker": {
             "colorbar": {
              "outlinewidth": 0,
              "ticks": ""
             }
            }
           }
          ],
          "bar": [
           {
            "error_x": {
             "color": "#2a3f5f"
            },
            "error_y": {
             "color": "#2a3f5f"
            },
            "marker": {
             "line": {
              "color": "#E5ECF6",
              "width": 0.5
             },
             "pattern": {
              "fillmode": "overlay",
              "size": 10,
              "solidity": 0.2
             }
            },
            "type": "bar"
           }
          ],
          "scattergeo": [
           {
            "type": "scattergeo",
            "marker": {
             "colorbar": {
              "outlinewidth": 0,
              "ticks": ""
             }
            }
           }
          ],
          "scatterpolar": [
           {
            "type": "scatterpolar",
            "marker": {
             "colorbar": {
              "outlinewidth": 0,
              "ticks": ""
             }
            }
           }
          ],
          "histogram": [
           {
            "marker": {
             "pattern": {
              "fillmode": "overlay",
              "size": 10,
              "solidity": 0.2
             }
            },
            "type": "histogram"
           }
          ],
          "scattergl": [
           {
            "type": "scattergl",
            "marker": {
             "colorbar": {
              "outlinewidth": 0,
              "ticks": ""
             }
            }
           }
          ],
          "scatter3d": [
           {
            "type": "scatter3d",
            "line": {
             "colorbar": {
              "outlinewidth": 0,
              "ticks": ""
             }
            },
            "marker": {
             "colorbar": {
              "outlinewidth": 0,
              "ticks": ""
             }
            }
           }
          ],
          "scattermapbox": [
           {
            "type": "scattermapbox",
            "marker": {
             "colorbar": {
              "outlinewidth": 0,
              "ticks": ""
             }
            }
           }
          ],
          "scatterternary": [
           {
            "type": "scatterternary",
            "marker": {
             "colorbar": {
              "outlinewidth": 0,
              "ticks": ""
             }
            }
           }
          ],
          "scattercarpet": [
           {
            "type": "scattercarpet",
            "marker": {
             "colorbar": {
              "outlinewidth": 0,
              "ticks": ""
             }
            }
           }
          ],
          "carpet": [
           {
            "aaxis": {
             "endlinecolor": "#2a3f5f",
             "gridcolor": "white",
             "linecolor": "white",
             "minorgridcolor": "white",
             "startlinecolor": "#2a3f5f"
            },
            "baxis": {
             "endlinecolor": "#2a3f5f",
             "gridcolor": "white",
             "linecolor": "white",
             "minorgridcolor": "white",
             "startlinecolor": "#2a3f5f"
            },
            "type": "carpet"
           }
          ],
          "table": [
           {
            "cells": {
             "fill": {
              "color": "#EBF0F8"
             },
             "line": {
              "color": "white"
             }
            },
            "header": {
             "fill": {
              "color": "#C8D4E3"
             },
             "line": {
              "color": "white"
             }
            },
            "type": "table"
           }
          ],
          "barpolar": [
           {
            "marker": {
             "line": {
              "color": "#E5ECF6",
              "width": 0.5
             },
             "pattern": {
              "fillmode": "overlay",
              "size": 10,
              "solidity": 0.2
             }
            },
            "type": "barpolar"
           }
          ],
          "pie": [
           {
            "automargin": true,
            "type": "pie"
           }
          ]
         },
         "layout": {
          "autotypenumbers": "strict",
          "colorway": [
           "#636efa",
           "#EF553B",
           "#00cc96",
           "#ab63fa",
           "#FFA15A",
           "#19d3f3",
           "#FF6692",
           "#B6E880",
           "#FF97FF",
           "#FECB52"
          ],
          "font": {
           "color": "#2a3f5f"
          },
          "hovermode": "closest",
          "hoverlabel": {
           "align": "left"
          },
          "paper_bgcolor": "white",
          "plot_bgcolor": "#E5ECF6",
          "polar": {
           "bgcolor": "#E5ECF6",
           "angularaxis": {
            "gridcolor": "white",
            "linecolor": "white",
            "ticks": ""
           },
           "radialaxis": {
            "gridcolor": "white",
            "linecolor": "white",
            "ticks": ""
           }
          },
          "ternary": {
           "bgcolor": "#E5ECF6",
           "aaxis": {
            "gridcolor": "white",
            "linecolor": "white",
            "ticks": ""
           },
           "baxis": {
            "gridcolor": "white",
            "linecolor": "white",
            "ticks": ""
           },
           "caxis": {
            "gridcolor": "white",
            "linecolor": "white",
            "ticks": ""
           }
          },
          "coloraxis": {
           "colorbar": {
            "outlinewidth": 0,
            "ticks": ""
           }
          },
          "colorscale": {
           "sequential": [
            [
             0.0,
             "#0d0887"
            ],
            [
             0.1111111111111111,
             "#46039f"
            ],
            [
             0.2222222222222222,
             "#7201a8"
            ],
            [
             0.3333333333333333,
             "#9c179e"
            ],
            [
             0.4444444444444444,
             "#bd3786"
            ],
            [
             0.5555555555555556,
             "#d8576b"
            ],
            [
             0.6666666666666666,
             "#ed7953"
            ],
            [
             0.7777777777777778,
             "#fb9f3a"
            ],
            [
             0.8888888888888888,
             "#fdca26"
            ],
            [
             1.0,
             "#f0f921"
            ]
           ],
           "sequentialminus": [
            [
             0.0,
             "#0d0887"
            ],
            [
             0.1111111111111111,
             "#46039f"
            ],
            [
             0.2222222222222222,
             "#7201a8"
            ],
            [
             0.3333333333333333,
             "#9c179e"
            ],
            [
             0.4444444444444444,
             "#bd3786"
            ],
            [
             0.5555555555555556,
             "#d8576b"
            ],
            [
             0.6666666666666666,
             "#ed7953"
            ],
            [
             0.7777777777777778,
             "#fb9f3a"
            ],
            [
             0.8888888888888888,
             "#fdca26"
            ],
            [
             1.0,
             "#f0f921"
            ]
           ],
           "diverging": [
            [
             0,
             "#8e0152"
            ],
            [
             0.1,
             "#c51b7d"
            ],
            [
             0.2,
             "#de77ae"
            ],
            [
             0.3,
             "#f1b6da"
            ],
            [
             0.4,
             "#fde0ef"
            ],
            [
             0.5,
             "#f7f7f7"
            ],
            [
             0.6,
             "#e6f5d0"
            ],
            [
             0.7,
             "#b8e186"
            ],
            [
             0.8,
             "#7fbc41"
            ],
            [
             0.9,
             "#4d9221"
            ],
            [
             1,
             "#276419"
            ]
           ]
          },
          "xaxis": {
           "gridcolor": "white",
           "linecolor": "white",
           "ticks": "",
           "title": {
            "standoff": 15
           },
           "zerolinecolor": "white",
           "automargin": true,
           "zerolinewidth": 2
          },
          "yaxis": {
           "gridcolor": "white",
           "linecolor": "white",
           "ticks": "",
           "title": {
            "standoff": 15
           },
           "zerolinecolor": "white",
           "automargin": true,
           "zerolinewidth": 2
          },
          "scene": {
           "xaxis": {
            "backgroundcolor": "#E5ECF6",
            "gridcolor": "white",
            "linecolor": "white",
            "showbackground": true,
            "ticks": "",
            "zerolinecolor": "white",
            "gridwidth": 2
           },
           "yaxis": {
            "backgroundcolor": "#E5ECF6",
            "gridcolor": "white",
            "linecolor": "white",
            "showbackground": true,
            "ticks": "",
            "zerolinecolor": "white",
            "gridwidth": 2
           },
           "zaxis": {
            "backgroundcolor": "#E5ECF6",
            "gridcolor": "white",
            "linecolor": "white",
            "showbackground": true,
            "ticks": "",
            "zerolinecolor": "white",
            "gridwidth": 2
           }
          },
          "shapedefaults": {
           "line": {
            "color": "#2a3f5f"
           }
          },
          "annotationdefaults": {
           "arrowcolor": "#2a3f5f",
           "arrowhead": 0,
           "arrowwidth": 1
          },
          "geo": {
           "bgcolor": "white",
           "landcolor": "#E5ECF6",
           "subunitcolor": "white",
           "showland": true,
           "showlakes": true,
           "lakecolor": "white"
          },
          "title": {
           "x": 0.05
          },
          "mapbox": {
           "style": "light"
          }
         }
        },
        "polar": {
         "domain": {
          "x": [
           0.0,
           1.0
          ],
          "y": [
           0.0,
           1.0
          ]
         },
         "angularaxis": {
          "direction": "clockwise",
          "rotation": 90
         }
        },
        "legend": {
         "title": {
          "text": "Model"
         },
         "tracegroupgap": 0
        },
        "title": {
         "text": "Radar Chart for F1 Scores for XGLM (Resource Level = 1, Only Bloomz = False, Only Bloom = False, Only XGLM = False)"
        },
        "height": 600,
        "width": 800
       },
       "config": {
        "plotlyServerURL": "https://plot.ly"
       }
      }
     },
     "metadata": {},
     "output_type": "display_data"
    },
    {
     "data": {
      "application/vnd.plotly.v1+json": {
       "data": [
        {
         "hovertemplate": "Model=F1 xglm-564M top_logprobs<br>F1 Score=%{r}<br>Language Name=%{theta}<extra></extra>",
         "legendgroup": "F1 xglm-564M top_logprobs",
         "line": {
          "color": "#636efa",
          "dash": "solid"
         },
         "marker": {
          "symbol": "circle"
         },
         "mode": "lines",
         "name": "F1 xglm-564M top_logprobs",
         "r": [
          0.465124225940687,
          0.502487932269611,
          0.507390200886136,
          0.505190980208573,
          0.490770354964728,
          0.483224514225536,
          0.554336679336679,
          0.264653971184563,
          0.384168993373391,
          0.359997847240162,
          0.177004642183214,
          0.0824860497757694,
          0.0579313517844253,
          0.5436269525996,
          0.465124225940687
         ],
         "showlegend": true,
         "subplot": "polar",
         "theta": [
          "Mesopotamian Spoken Arabic",
          "Arabic, Ta’izzi-Adeni Spoken",
          "Tunisian Spoken Arabic",
          "South Levantine Arabic",
          "Levantine Arabic",
          "Najdi Spoken Arabic",
          "Moroccan Spoken Arabic",
          "Chokwe",
          "Chhattisgarhi",
          "Kabuverdianu",
          "Dholuo",
          "Meitei",
          "Central Atlas Tamazight",
          "Yue Chinese",
          "Mesopotamian Spoken Arabic"
         ],
         "type": "scatterpolar"
        },
        {
         "hovertemplate": "Model=F1 xglm-1.7B top_logprobs<br>F1 Score=%{r}<br>Language Name=%{theta}<extra></extra>",
         "legendgroup": "F1 xglm-1.7B top_logprobs",
         "line": {
          "color": "#EF553B",
          "dash": "solid"
         },
         "marker": {
          "symbol": "circle"
         },
         "mode": "lines",
         "name": "F1 xglm-1.7B top_logprobs",
         "r": [
          0.3183878024657,
          0.335040682939843,
          0.321945868742977,
          0.368101538307351,
          0.312647856152689,
          0.282881481038163,
          0.405214125784093,
          0.311994954154603,
          0.554396767781523,
          0.45681153966418,
          0.286349481653504,
          0.161876608169029,
          0.0688644518811547,
          0.532076374141461,
          0.3183878024657
         ],
         "showlegend": true,
         "subplot": "polar",
         "theta": [
          "Mesopotamian Spoken Arabic",
          "Arabic, Ta’izzi-Adeni Spoken",
          "Tunisian Spoken Arabic",
          "South Levantine Arabic",
          "Levantine Arabic",
          "Najdi Spoken Arabic",
          "Moroccan Spoken Arabic",
          "Chokwe",
          "Chhattisgarhi",
          "Kabuverdianu",
          "Dholuo",
          "Meitei",
          "Central Atlas Tamazight",
          "Yue Chinese",
          "Mesopotamian Spoken Arabic"
         ],
         "type": "scatterpolar"
        },
        {
         "hovertemplate": "Model=F1 xglm-2.9B top_logprobs<br>F1 Score=%{r}<br>Language Name=%{theta}<extra></extra>",
         "legendgroup": "F1 xglm-2.9B top_logprobs",
         "line": {
          "color": "#00cc96",
          "dash": "solid"
         },
         "marker": {
          "symbol": "circle"
         },
         "mode": "lines",
         "name": "F1 xglm-2.9B top_logprobs",
         "r": [
          0.485401639550279,
          0.513837800389041,
          0.491563052187167,
          0.565705560290224,
          0.569161076352969,
          0.499783289625799,
          0.581397697276901,
          0.260914415508774,
          0.544432502952081,
          0.500258156631417,
          0.238044082863202,
          0.16808870641576,
          0.0335092176405446,
          0.655562964316161,
          0.485401639550279
         ],
         "showlegend": true,
         "subplot": "polar",
         "theta": [
          "Mesopotamian Spoken Arabic",
          "Arabic, Ta’izzi-Adeni Spoken",
          "Tunisian Spoken Arabic",
          "South Levantine Arabic",
          "Levantine Arabic",
          "Najdi Spoken Arabic",
          "Moroccan Spoken Arabic",
          "Chokwe",
          "Chhattisgarhi",
          "Kabuverdianu",
          "Dholuo",
          "Meitei",
          "Central Atlas Tamazight",
          "Yue Chinese",
          "Mesopotamian Spoken Arabic"
         ],
         "type": "scatterpolar"
        },
        {
         "hovertemplate": "Model=F1 xglm-7.5B top_logprobs<br>F1 Score=%{r}<br>Language Name=%{theta}<extra></extra>",
         "legendgroup": "F1 xglm-7.5B top_logprobs",
         "line": {
          "color": "#ab63fa",
          "dash": "solid"
         },
         "marker": {
          "symbol": "circle"
         },
         "mode": "lines",
         "name": "F1 xglm-7.5B top_logprobs",
         "r": [
          0.523763495412727,
          0.507488508919447,
          0.53809400456841,
          0.546035038334753,
          0.504180436662047,
          0.508519044816549,
          0.497914815395281,
          0.304241285550235,
          0.605849373631064,
          0.351507885975804,
          0.22718351099526,
          0.236006887455104,
          0.068849295203975,
          0.5800883129143,
          0.523763495412727
         ],
         "showlegend": true,
         "subplot": "polar",
         "theta": [
          "Mesopotamian Spoken Arabic",
          "Arabic, Ta’izzi-Adeni Spoken",
          "Tunisian Spoken Arabic",
          "South Levantine Arabic",
          "Levantine Arabic",
          "Najdi Spoken Arabic",
          "Moroccan Spoken Arabic",
          "Chokwe",
          "Chhattisgarhi",
          "Kabuverdianu",
          "Dholuo",
          "Meitei",
          "Central Atlas Tamazight",
          "Yue Chinese",
          "Mesopotamian Spoken Arabic"
         ],
         "type": "scatterpolar"
        }
       ],
       "layout": {
        "template": {
         "data": {
          "histogram2dcontour": [
           {
            "type": "histogram2dcontour",
            "colorbar": {
             "outlinewidth": 0,
             "ticks": ""
            },
            "colorscale": [
             [
              0.0,
              "#0d0887"
             ],
             [
              0.1111111111111111,
              "#46039f"
             ],
             [
              0.2222222222222222,
              "#7201a8"
             ],
             [
              0.3333333333333333,
              "#9c179e"
             ],
             [
              0.4444444444444444,
              "#bd3786"
             ],
             [
              0.5555555555555556,
              "#d8576b"
             ],
             [
              0.6666666666666666,
              "#ed7953"
             ],
             [
              0.7777777777777778,
              "#fb9f3a"
             ],
             [
              0.8888888888888888,
              "#fdca26"
             ],
             [
              1.0,
              "#f0f921"
             ]
            ]
           }
          ],
          "choropleth": [
           {
            "type": "choropleth",
            "colorbar": {
             "outlinewidth": 0,
             "ticks": ""
            }
           }
          ],
          "histogram2d": [
           {
            "type": "histogram2d",
            "colorbar": {
             "outlinewidth": 0,
             "ticks": ""
            },
            "colorscale": [
             [
              0.0,
              "#0d0887"
             ],
             [
              0.1111111111111111,
              "#46039f"
             ],
             [
              0.2222222222222222,
              "#7201a8"
             ],
             [
              0.3333333333333333,
              "#9c179e"
             ],
             [
              0.4444444444444444,
              "#bd3786"
             ],
             [
              0.5555555555555556,
              "#d8576b"
             ],
             [
              0.6666666666666666,
              "#ed7953"
             ],
             [
              0.7777777777777778,
              "#fb9f3a"
             ],
             [
              0.8888888888888888,
              "#fdca26"
             ],
             [
              1.0,
              "#f0f921"
             ]
            ]
           }
          ],
          "heatmap": [
           {
            "type": "heatmap",
            "colorbar": {
             "outlinewidth": 0,
             "ticks": ""
            },
            "colorscale": [
             [
              0.0,
              "#0d0887"
             ],
             [
              0.1111111111111111,
              "#46039f"
             ],
             [
              0.2222222222222222,
              "#7201a8"
             ],
             [
              0.3333333333333333,
              "#9c179e"
             ],
             [
              0.4444444444444444,
              "#bd3786"
             ],
             [
              0.5555555555555556,
              "#d8576b"
             ],
             [
              0.6666666666666666,
              "#ed7953"
             ],
             [
              0.7777777777777778,
              "#fb9f3a"
             ],
             [
              0.8888888888888888,
              "#fdca26"
             ],
             [
              1.0,
              "#f0f921"
             ]
            ]
           }
          ],
          "heatmapgl": [
           {
            "type": "heatmapgl",
            "colorbar": {
             "outlinewidth": 0,
             "ticks": ""
            },
            "colorscale": [
             [
              0.0,
              "#0d0887"
             ],
             [
              0.1111111111111111,
              "#46039f"
             ],
             [
              0.2222222222222222,
              "#7201a8"
             ],
             [
              0.3333333333333333,
              "#9c179e"
             ],
             [
              0.4444444444444444,
              "#bd3786"
             ],
             [
              0.5555555555555556,
              "#d8576b"
             ],
             [
              0.6666666666666666,
              "#ed7953"
             ],
             [
              0.7777777777777778,
              "#fb9f3a"
             ],
             [
              0.8888888888888888,
              "#fdca26"
             ],
             [
              1.0,
              "#f0f921"
             ]
            ]
           }
          ],
          "contourcarpet": [
           {
            "type": "contourcarpet",
            "colorbar": {
             "outlinewidth": 0,
             "ticks": ""
            }
           }
          ],
          "contour": [
           {
            "type": "contour",
            "colorbar": {
             "outlinewidth": 0,
             "ticks": ""
            },
            "colorscale": [
             [
              0.0,
              "#0d0887"
             ],
             [
              0.1111111111111111,
              "#46039f"
             ],
             [
              0.2222222222222222,
              "#7201a8"
             ],
             [
              0.3333333333333333,
              "#9c179e"
             ],
             [
              0.4444444444444444,
              "#bd3786"
             ],
             [
              0.5555555555555556,
              "#d8576b"
             ],
             [
              0.6666666666666666,
              "#ed7953"
             ],
             [
              0.7777777777777778,
              "#fb9f3a"
             ],
             [
              0.8888888888888888,
              "#fdca26"
             ],
             [
              1.0,
              "#f0f921"
             ]
            ]
           }
          ],
          "surface": [
           {
            "type": "surface",
            "colorbar": {
             "outlinewidth": 0,
             "ticks": ""
            },
            "colorscale": [
             [
              0.0,
              "#0d0887"
             ],
             [
              0.1111111111111111,
              "#46039f"
             ],
             [
              0.2222222222222222,
              "#7201a8"
             ],
             [
              0.3333333333333333,
              "#9c179e"
             ],
             [
              0.4444444444444444,
              "#bd3786"
             ],
             [
              0.5555555555555556,
              "#d8576b"
             ],
             [
              0.6666666666666666,
              "#ed7953"
             ],
             [
              0.7777777777777778,
              "#fb9f3a"
             ],
             [
              0.8888888888888888,
              "#fdca26"
             ],
             [
              1.0,
              "#f0f921"
             ]
            ]
           }
          ],
          "mesh3d": [
           {
            "type": "mesh3d",
            "colorbar": {
             "outlinewidth": 0,
             "ticks": ""
            }
           }
          ],
          "scatter": [
           {
            "fillpattern": {
             "fillmode": "overlay",
             "size": 10,
             "solidity": 0.2
            },
            "type": "scatter"
           }
          ],
          "parcoords": [
           {
            "type": "parcoords",
            "line": {
             "colorbar": {
              "outlinewidth": 0,
              "ticks": ""
             }
            }
           }
          ],
          "scatterpolargl": [
           {
            "type": "scatterpolargl",
            "marker": {
             "colorbar": {
              "outlinewidth": 0,
              "ticks": ""
             }
            }
           }
          ],
          "bar": [
           {
            "error_x": {
             "color": "#2a3f5f"
            },
            "error_y": {
             "color": "#2a3f5f"
            },
            "marker": {
             "line": {
              "color": "#E5ECF6",
              "width": 0.5
             },
             "pattern": {
              "fillmode": "overlay",
              "size": 10,
              "solidity": 0.2
             }
            },
            "type": "bar"
           }
          ],
          "scattergeo": [
           {
            "type": "scattergeo",
            "marker": {
             "colorbar": {
              "outlinewidth": 0,
              "ticks": ""
             }
            }
           }
          ],
          "scatterpolar": [
           {
            "type": "scatterpolar",
            "marker": {
             "colorbar": {
              "outlinewidth": 0,
              "ticks": ""
             }
            }
           }
          ],
          "histogram": [
           {
            "marker": {
             "pattern": {
              "fillmode": "overlay",
              "size": 10,
              "solidity": 0.2
             }
            },
            "type": "histogram"
           }
          ],
          "scattergl": [
           {
            "type": "scattergl",
            "marker": {
             "colorbar": {
              "outlinewidth": 0,
              "ticks": ""
             }
            }
           }
          ],
          "scatter3d": [
           {
            "type": "scatter3d",
            "line": {
             "colorbar": {
              "outlinewidth": 0,
              "ticks": ""
             }
            },
            "marker": {
             "colorbar": {
              "outlinewidth": 0,
              "ticks": ""
             }
            }
           }
          ],
          "scattermapbox": [
           {
            "type": "scattermapbox",
            "marker": {
             "colorbar": {
              "outlinewidth": 0,
              "ticks": ""
             }
            }
           }
          ],
          "scatterternary": [
           {
            "type": "scatterternary",
            "marker": {
             "colorbar": {
              "outlinewidth": 0,
              "ticks": ""
             }
            }
           }
          ],
          "scattercarpet": [
           {
            "type": "scattercarpet",
            "marker": {
             "colorbar": {
              "outlinewidth": 0,
              "ticks": ""
             }
            }
           }
          ],
          "carpet": [
           {
            "aaxis": {
             "endlinecolor": "#2a3f5f",
             "gridcolor": "white",
             "linecolor": "white",
             "minorgridcolor": "white",
             "startlinecolor": "#2a3f5f"
            },
            "baxis": {
             "endlinecolor": "#2a3f5f",
             "gridcolor": "white",
             "linecolor": "white",
             "minorgridcolor": "white",
             "startlinecolor": "#2a3f5f"
            },
            "type": "carpet"
           }
          ],
          "table": [
           {
            "cells": {
             "fill": {
              "color": "#EBF0F8"
             },
             "line": {
              "color": "white"
             }
            },
            "header": {
             "fill": {
              "color": "#C8D4E3"
             },
             "line": {
              "color": "white"
             }
            },
            "type": "table"
           }
          ],
          "barpolar": [
           {
            "marker": {
             "line": {
              "color": "#E5ECF6",
              "width": 0.5
             },
             "pattern": {
              "fillmode": "overlay",
              "size": 10,
              "solidity": 0.2
             }
            },
            "type": "barpolar"
           }
          ],
          "pie": [
           {
            "automargin": true,
            "type": "pie"
           }
          ]
         },
         "layout": {
          "autotypenumbers": "strict",
          "colorway": [
           "#636efa",
           "#EF553B",
           "#00cc96",
           "#ab63fa",
           "#FFA15A",
           "#19d3f3",
           "#FF6692",
           "#B6E880",
           "#FF97FF",
           "#FECB52"
          ],
          "font": {
           "color": "#2a3f5f"
          },
          "hovermode": "closest",
          "hoverlabel": {
           "align": "left"
          },
          "paper_bgcolor": "white",
          "plot_bgcolor": "#E5ECF6",
          "polar": {
           "bgcolor": "#E5ECF6",
           "angularaxis": {
            "gridcolor": "white",
            "linecolor": "white",
            "ticks": ""
           },
           "radialaxis": {
            "gridcolor": "white",
            "linecolor": "white",
            "ticks": ""
           }
          },
          "ternary": {
           "bgcolor": "#E5ECF6",
           "aaxis": {
            "gridcolor": "white",
            "linecolor": "white",
            "ticks": ""
           },
           "baxis": {
            "gridcolor": "white",
            "linecolor": "white",
            "ticks": ""
           },
           "caxis": {
            "gridcolor": "white",
            "linecolor": "white",
            "ticks": ""
           }
          },
          "coloraxis": {
           "colorbar": {
            "outlinewidth": 0,
            "ticks": ""
           }
          },
          "colorscale": {
           "sequential": [
            [
             0.0,
             "#0d0887"
            ],
            [
             0.1111111111111111,
             "#46039f"
            ],
            [
             0.2222222222222222,
             "#7201a8"
            ],
            [
             0.3333333333333333,
             "#9c179e"
            ],
            [
             0.4444444444444444,
             "#bd3786"
            ],
            [
             0.5555555555555556,
             "#d8576b"
            ],
            [
             0.6666666666666666,
             "#ed7953"
            ],
            [
             0.7777777777777778,
             "#fb9f3a"
            ],
            [
             0.8888888888888888,
             "#fdca26"
            ],
            [
             1.0,
             "#f0f921"
            ]
           ],
           "sequentialminus": [
            [
             0.0,
             "#0d0887"
            ],
            [
             0.1111111111111111,
             "#46039f"
            ],
            [
             0.2222222222222222,
             "#7201a8"
            ],
            [
             0.3333333333333333,
             "#9c179e"
            ],
            [
             0.4444444444444444,
             "#bd3786"
            ],
            [
             0.5555555555555556,
             "#d8576b"
            ],
            [
             0.6666666666666666,
             "#ed7953"
            ],
            [
             0.7777777777777778,
             "#fb9f3a"
            ],
            [
             0.8888888888888888,
             "#fdca26"
            ],
            [
             1.0,
             "#f0f921"
            ]
           ],
           "diverging": [
            [
             0,
             "#8e0152"
            ],
            [
             0.1,
             "#c51b7d"
            ],
            [
             0.2,
             "#de77ae"
            ],
            [
             0.3,
             "#f1b6da"
            ],
            [
             0.4,
             "#fde0ef"
            ],
            [
             0.5,
             "#f7f7f7"
            ],
            [
             0.6,
             "#e6f5d0"
            ],
            [
             0.7,
             "#b8e186"
            ],
            [
             0.8,
             "#7fbc41"
            ],
            [
             0.9,
             "#4d9221"
            ],
            [
             1,
             "#276419"
            ]
           ]
          },
          "xaxis": {
           "gridcolor": "white",
           "linecolor": "white",
           "ticks": "",
           "title": {
            "standoff": 15
           },
           "zerolinecolor": "white",
           "automargin": true,
           "zerolinewidth": 2
          },
          "yaxis": {
           "gridcolor": "white",
           "linecolor": "white",
           "ticks": "",
           "title": {
            "standoff": 15
           },
           "zerolinecolor": "white",
           "automargin": true,
           "zerolinewidth": 2
          },
          "scene": {
           "xaxis": {
            "backgroundcolor": "#E5ECF6",
            "gridcolor": "white",
            "linecolor": "white",
            "showbackground": true,
            "ticks": "",
            "zerolinecolor": "white",
            "gridwidth": 2
           },
           "yaxis": {
            "backgroundcolor": "#E5ECF6",
            "gridcolor": "white",
            "linecolor": "white",
            "showbackground": true,
            "ticks": "",
            "zerolinecolor": "white",
            "gridwidth": 2
           },
           "zaxis": {
            "backgroundcolor": "#E5ECF6",
            "gridcolor": "white",
            "linecolor": "white",
            "showbackground": true,
            "ticks": "",
            "zerolinecolor": "white",
            "gridwidth": 2
           }
          },
          "shapedefaults": {
           "line": {
            "color": "#2a3f5f"
           }
          },
          "annotationdefaults": {
           "arrowcolor": "#2a3f5f",
           "arrowhead": 0,
           "arrowwidth": 1
          },
          "geo": {
           "bgcolor": "white",
           "landcolor": "#E5ECF6",
           "subunitcolor": "white",
           "showland": true,
           "showlakes": true,
           "lakecolor": "white"
          },
          "title": {
           "x": 0.05
          },
          "mapbox": {
           "style": "light"
          }
         }
        },
        "polar": {
         "domain": {
          "x": [
           0.0,
           1.0
          ],
          "y": [
           0.0,
           1.0
          ]
         },
         "angularaxis": {
          "direction": "clockwise",
          "rotation": 90
         }
        },
        "legend": {
         "title": {
          "text": "Model"
         },
         "tracegroupgap": 0
        },
        "title": {
         "text": "Radar Chart for F1 Scores for XGLM (Resource Level = None, Only Bloomz = False, Only Bloom = False, Only XGLM = False)"
        },
        "height": 600,
        "width": 800
       },
       "config": {
        "plotlyServerURL": "https://plot.ly"
       }
      }
     },
     "metadata": {},
     "output_type": "display_data"
    },
    {
     "data": {
      "application/vnd.plotly.v1+json": {
       "data": [
        {
         "hovertemplate": "Model=F1 xglm-564M top_logprobs<br>F1 Score=%{r}<br>Language Name=%{theta}<extra></extra>",
         "legendgroup": "F1 xglm-564M top_logprobs",
         "line": {
          "color": "#636efa",
          "dash": "solid"
         },
         "marker": {
          "symbol": "circle"
         },
         "mode": "lines",
         "name": "F1 xglm-564M top_logprobs",
         "r": [
          0.277564644349433,
          0.592388646923719,
          0.192645397967427,
          0.353185539772235,
          0.209433086213769,
          0.399321563526884,
          0.414823860445389,
          0.251990243394247,
          0.350248141831494,
          0.513603460671583,
          0.306607403940978,
          0.0997247583243824,
          0.500405414098786,
          0.0643756551447466,
          0.224298321430196,
          0.167517667517668,
          0.138674455289362,
          0.239215587240265,
          0.229871691490571,
          0.280436117964898,
          0.313143719026072,
          0.423262288024594,
          0.285316773558655,
          0.474631803255665,
          0.296873205827258,
          0.463946767518196,
          0.277564644349433
         ],
         "showlegend": true,
         "subplot": "polar",
         "theta": [
          "Afrikaans",
          "Egyptian Spoken Arabic",
          "Belarusian",
          "Bengali",
          "Bosnian",
          "Bulgarian",
          "Cebuano",
          "Danish",
          "Greek",
          "Estonian",
          "Galician",
          "Hebrew",
          "Indonesian",
          "Georgian",
          "Kazakh",
          "Lithuanian",
          "Standard Latvian",
          "Romanian",
          "Slovak",
          "Tamil",
          "Tagalog",
          "Thai",
          "Ukrainian",
          "Urdu",
          "Northern Uzbek",
          "Standard Malay",
          "Afrikaans"
         ],
         "type": "scatterpolar"
        },
        {
         "hovertemplate": "Model=F1 xglm-1.7B top_logprobs<br>F1 Score=%{r}<br>Language Name=%{theta}<extra></extra>",
         "legendgroup": "F1 xglm-1.7B top_logprobs",
         "line": {
          "color": "#EF553B",
          "dash": "solid"
         },
         "marker": {
          "symbol": "circle"
         },
         "mode": "lines",
         "name": "F1 xglm-1.7B top_logprobs",
         "r": [
          0.34399991863074,
          0.454688366862892,
          0.323929915237899,
          0.5226557640918,
          0.440661715569034,
          0.561684568019972,
          0.343683590878913,
          0.337999982623791,
          0.326005238637707,
          0.537961429309226,
          0.401300111239464,
          0.132109257076691,
          0.629534159177946,
          0.0874277105080089,
          0.374730091572384,
          0.359515315149103,
          0.329184483281823,
          0.366875127276753,
          0.29855235452577,
          0.473941102237748,
          0.301369172340975,
          0.497926003648673,
          0.478282272570998,
          0.63761324512271,
          0.40861025897398,
          0.59167667164365,
          0.34399991863074
         ],
         "showlegend": true,
         "subplot": "polar",
         "theta": [
          "Afrikaans",
          "Egyptian Spoken Arabic",
          "Belarusian",
          "Bengali",
          "Bosnian",
          "Bulgarian",
          "Cebuano",
          "Danish",
          "Greek",
          "Estonian",
          "Galician",
          "Hebrew",
          "Indonesian",
          "Georgian",
          "Kazakh",
          "Lithuanian",
          "Standard Latvian",
          "Romanian",
          "Slovak",
          "Tamil",
          "Tagalog",
          "Thai",
          "Ukrainian",
          "Urdu",
          "Northern Uzbek",
          "Standard Malay",
          "Afrikaans"
         ],
         "type": "scatterpolar"
        },
        {
         "hovertemplate": "Model=F1 xglm-2.9B top_logprobs<br>F1 Score=%{r}<br>Language Name=%{theta}<extra></extra>",
         "legendgroup": "F1 xglm-2.9B top_logprobs",
         "line": {
          "color": "#00cc96",
          "dash": "solid"
         },
         "marker": {
          "symbol": "circle"
         },
         "mode": "lines",
         "name": "F1 xglm-2.9B top_logprobs",
         "r": [
          0.354412818462961,
          0.617353842100142,
          0.331398335438496,
          0.636923755818537,
          0.318432288234762,
          0.541493997609106,
          0.402706861035091,
          0.317258934935343,
          0.272693787713178,
          0.512909069870953,
          0.407047815812345,
          0.0968548199767712,
          0.512587195990981,
          0.0852762798948059,
          0.35189118024176,
          0.321961948570038,
          0.379319207137508,
          0.38771707416618,
          0.270430557762094,
          0.480875633402671,
          0.438679397319138,
          0.49291203054834,
          0.405674169063507,
          0.652279593590055,
          0.370321846918865,
          0.477167151552928,
          0.354412818462961
         ],
         "showlegend": true,
         "subplot": "polar",
         "theta": [
          "Afrikaans",
          "Egyptian Spoken Arabic",
          "Belarusian",
          "Bengali",
          "Bosnian",
          "Bulgarian",
          "Cebuano",
          "Danish",
          "Greek",
          "Estonian",
          "Galician",
          "Hebrew",
          "Indonesian",
          "Georgian",
          "Kazakh",
          "Lithuanian",
          "Standard Latvian",
          "Romanian",
          "Slovak",
          "Tamil",
          "Tagalog",
          "Thai",
          "Ukrainian",
          "Urdu",
          "Northern Uzbek",
          "Standard Malay",
          "Afrikaans"
         ],
         "type": "scatterpolar"
        },
        {
         "hovertemplate": "Model=F1 xglm-7.5B top_logprobs<br>F1 Score=%{r}<br>Language Name=%{theta}<extra></extra>",
         "legendgroup": "F1 xglm-7.5B top_logprobs",
         "line": {
          "color": "#ab63fa",
          "dash": "solid"
         },
         "marker": {
          "symbol": "circle"
         },
         "mode": "lines",
         "name": "F1 xglm-7.5B top_logprobs",
         "r": [
          0.311173391831171,
          0.581015393247275,
          0.385063218724959,
          0.635009054092134,
          0.257829618038082,
          0.516332466499035,
          0.410154118144433,
          0.334121209121209,
          0.33919839211974,
          0.523418034848296,
          0.392819349962207,
          0.127593588585571,
          0.615193734839352,
          0.0969170426791406,
          0.453920800277942,
          0.196993062532872,
          0.269274929094177,
          0.280206843098829,
          0.185753825786536,
          0.479816182033039,
          0.448173497476209,
          0.446449812288322,
          0.439403104191021,
          0.605541031336608,
          0.391296619850395,
          0.583817696405991,
          0.311173391831171
         ],
         "showlegend": true,
         "subplot": "polar",
         "theta": [
          "Afrikaans",
          "Egyptian Spoken Arabic",
          "Belarusian",
          "Bengali",
          "Bosnian",
          "Bulgarian",
          "Cebuano",
          "Danish",
          "Greek",
          "Estonian",
          "Galician",
          "Hebrew",
          "Indonesian",
          "Georgian",
          "Kazakh",
          "Lithuanian",
          "Standard Latvian",
          "Romanian",
          "Slovak",
          "Tamil",
          "Tagalog",
          "Thai",
          "Ukrainian",
          "Urdu",
          "Northern Uzbek",
          "Standard Malay",
          "Afrikaans"
         ],
         "type": "scatterpolar"
        }
       ],
       "layout": {
        "template": {
         "data": {
          "histogram2dcontour": [
           {
            "type": "histogram2dcontour",
            "colorbar": {
             "outlinewidth": 0,
             "ticks": ""
            },
            "colorscale": [
             [
              0.0,
              "#0d0887"
             ],
             [
              0.1111111111111111,
              "#46039f"
             ],
             [
              0.2222222222222222,
              "#7201a8"
             ],
             [
              0.3333333333333333,
              "#9c179e"
             ],
             [
              0.4444444444444444,
              "#bd3786"
             ],
             [
              0.5555555555555556,
              "#d8576b"
             ],
             [
              0.6666666666666666,
              "#ed7953"
             ],
             [
              0.7777777777777778,
              "#fb9f3a"
             ],
             [
              0.8888888888888888,
              "#fdca26"
             ],
             [
              1.0,
              "#f0f921"
             ]
            ]
           }
          ],
          "choropleth": [
           {
            "type": "choropleth",
            "colorbar": {
             "outlinewidth": 0,
             "ticks": ""
            }
           }
          ],
          "histogram2d": [
           {
            "type": "histogram2d",
            "colorbar": {
             "outlinewidth": 0,
             "ticks": ""
            },
            "colorscale": [
             [
              0.0,
              "#0d0887"
             ],
             [
              0.1111111111111111,
              "#46039f"
             ],
             [
              0.2222222222222222,
              "#7201a8"
             ],
             [
              0.3333333333333333,
              "#9c179e"
             ],
             [
              0.4444444444444444,
              "#bd3786"
             ],
             [
              0.5555555555555556,
              "#d8576b"
             ],
             [
              0.6666666666666666,
              "#ed7953"
             ],
             [
              0.7777777777777778,
              "#fb9f3a"
             ],
             [
              0.8888888888888888,
              "#fdca26"
             ],
             [
              1.0,
              "#f0f921"
             ]
            ]
           }
          ],
          "heatmap": [
           {
            "type": "heatmap",
            "colorbar": {
             "outlinewidth": 0,
             "ticks": ""
            },
            "colorscale": [
             [
              0.0,
              "#0d0887"
             ],
             [
              0.1111111111111111,
              "#46039f"
             ],
             [
              0.2222222222222222,
              "#7201a8"
             ],
             [
              0.3333333333333333,
              "#9c179e"
             ],
             [
              0.4444444444444444,
              "#bd3786"
             ],
             [
              0.5555555555555556,
              "#d8576b"
             ],
             [
              0.6666666666666666,
              "#ed7953"
             ],
             [
              0.7777777777777778,
              "#fb9f3a"
             ],
             [
              0.8888888888888888,
              "#fdca26"
             ],
             [
              1.0,
              "#f0f921"
             ]
            ]
           }
          ],
          "heatmapgl": [
           {
            "type": "heatmapgl",
            "colorbar": {
             "outlinewidth": 0,
             "ticks": ""
            },
            "colorscale": [
             [
              0.0,
              "#0d0887"
             ],
             [
              0.1111111111111111,
              "#46039f"
             ],
             [
              0.2222222222222222,
              "#7201a8"
             ],
             [
              0.3333333333333333,
              "#9c179e"
             ],
             [
              0.4444444444444444,
              "#bd3786"
             ],
             [
              0.5555555555555556,
              "#d8576b"
             ],
             [
              0.6666666666666666,
              "#ed7953"
             ],
             [
              0.7777777777777778,
              "#fb9f3a"
             ],
             [
              0.8888888888888888,
              "#fdca26"
             ],
             [
              1.0,
              "#f0f921"
             ]
            ]
           }
          ],
          "contourcarpet": [
           {
            "type": "contourcarpet",
            "colorbar": {
             "outlinewidth": 0,
             "ticks": ""
            }
           }
          ],
          "contour": [
           {
            "type": "contour",
            "colorbar": {
             "outlinewidth": 0,
             "ticks": ""
            },
            "colorscale": [
             [
              0.0,
              "#0d0887"
             ],
             [
              0.1111111111111111,
              "#46039f"
             ],
             [
              0.2222222222222222,
              "#7201a8"
             ],
             [
              0.3333333333333333,
              "#9c179e"
             ],
             [
              0.4444444444444444,
              "#bd3786"
             ],
             [
              0.5555555555555556,
              "#d8576b"
             ],
             [
              0.6666666666666666,
              "#ed7953"
             ],
             [
              0.7777777777777778,
              "#fb9f3a"
             ],
             [
              0.8888888888888888,
              "#fdca26"
             ],
             [
              1.0,
              "#f0f921"
             ]
            ]
           }
          ],
          "surface": [
           {
            "type": "surface",
            "colorbar": {
             "outlinewidth": 0,
             "ticks": ""
            },
            "colorscale": [
             [
              0.0,
              "#0d0887"
             ],
             [
              0.1111111111111111,
              "#46039f"
             ],
             [
              0.2222222222222222,
              "#7201a8"
             ],
             [
              0.3333333333333333,
              "#9c179e"
             ],
             [
              0.4444444444444444,
              "#bd3786"
             ],
             [
              0.5555555555555556,
              "#d8576b"
             ],
             [
              0.6666666666666666,
              "#ed7953"
             ],
             [
              0.7777777777777778,
              "#fb9f3a"
             ],
             [
              0.8888888888888888,
              "#fdca26"
             ],
             [
              1.0,
              "#f0f921"
             ]
            ]
           }
          ],
          "mesh3d": [
           {
            "type": "mesh3d",
            "colorbar": {
             "outlinewidth": 0,
             "ticks": ""
            }
           }
          ],
          "scatter": [
           {
            "fillpattern": {
             "fillmode": "overlay",
             "size": 10,
             "solidity": 0.2
            },
            "type": "scatter"
           }
          ],
          "parcoords": [
           {
            "type": "parcoords",
            "line": {
             "colorbar": {
              "outlinewidth": 0,
              "ticks": ""
             }
            }
           }
          ],
          "scatterpolargl": [
           {
            "type": "scatterpolargl",
            "marker": {
             "colorbar": {
              "outlinewidth": 0,
              "ticks": ""
             }
            }
           }
          ],
          "bar": [
           {
            "error_x": {
             "color": "#2a3f5f"
            },
            "error_y": {
             "color": "#2a3f5f"
            },
            "marker": {
             "line": {
              "color": "#E5ECF6",
              "width": 0.5
             },
             "pattern": {
              "fillmode": "overlay",
              "size": 10,
              "solidity": 0.2
             }
            },
            "type": "bar"
           }
          ],
          "scattergeo": [
           {
            "type": "scattergeo",
            "marker": {
             "colorbar": {
              "outlinewidth": 0,
              "ticks": ""
             }
            }
           }
          ],
          "scatterpolar": [
           {
            "type": "scatterpolar",
            "marker": {
             "colorbar": {
              "outlinewidth": 0,
              "ticks": ""
             }
            }
           }
          ],
          "histogram": [
           {
            "marker": {
             "pattern": {
              "fillmode": "overlay",
              "size": 10,
              "solidity": 0.2
             }
            },
            "type": "histogram"
           }
          ],
          "scattergl": [
           {
            "type": "scattergl",
            "marker": {
             "colorbar": {
              "outlinewidth": 0,
              "ticks": ""
             }
            }
           }
          ],
          "scatter3d": [
           {
            "type": "scatter3d",
            "line": {
             "colorbar": {
              "outlinewidth": 0,
              "ticks": ""
             }
            },
            "marker": {
             "colorbar": {
              "outlinewidth": 0,
              "ticks": ""
             }
            }
           }
          ],
          "scattermapbox": [
           {
            "type": "scattermapbox",
            "marker": {
             "colorbar": {
              "outlinewidth": 0,
              "ticks": ""
             }
            }
           }
          ],
          "scatterternary": [
           {
            "type": "scatterternary",
            "marker": {
             "colorbar": {
              "outlinewidth": 0,
              "ticks": ""
             }
            }
           }
          ],
          "scattercarpet": [
           {
            "type": "scattercarpet",
            "marker": {
             "colorbar": {
              "outlinewidth": 0,
              "ticks": ""
             }
            }
           }
          ],
          "carpet": [
           {
            "aaxis": {
             "endlinecolor": "#2a3f5f",
             "gridcolor": "white",
             "linecolor": "white",
             "minorgridcolor": "white",
             "startlinecolor": "#2a3f5f"
            },
            "baxis": {
             "endlinecolor": "#2a3f5f",
             "gridcolor": "white",
             "linecolor": "white",
             "minorgridcolor": "white",
             "startlinecolor": "#2a3f5f"
            },
            "type": "carpet"
           }
          ],
          "table": [
           {
            "cells": {
             "fill": {
              "color": "#EBF0F8"
             },
             "line": {
              "color": "white"
             }
            },
            "header": {
             "fill": {
              "color": "#C8D4E3"
             },
             "line": {
              "color": "white"
             }
            },
            "type": "table"
           }
          ],
          "barpolar": [
           {
            "marker": {
             "line": {
              "color": "#E5ECF6",
              "width": 0.5
             },
             "pattern": {
              "fillmode": "overlay",
              "size": 10,
              "solidity": 0.2
             }
            },
            "type": "barpolar"
           }
          ],
          "pie": [
           {
            "automargin": true,
            "type": "pie"
           }
          ]
         },
         "layout": {
          "autotypenumbers": "strict",
          "colorway": [
           "#636efa",
           "#EF553B",
           "#00cc96",
           "#ab63fa",
           "#FFA15A",
           "#19d3f3",
           "#FF6692",
           "#B6E880",
           "#FF97FF",
           "#FECB52"
          ],
          "font": {
           "color": "#2a3f5f"
          },
          "hovermode": "closest",
          "hoverlabel": {
           "align": "left"
          },
          "paper_bgcolor": "white",
          "plot_bgcolor": "#E5ECF6",
          "polar": {
           "bgcolor": "#E5ECF6",
           "angularaxis": {
            "gridcolor": "white",
            "linecolor": "white",
            "ticks": ""
           },
           "radialaxis": {
            "gridcolor": "white",
            "linecolor": "white",
            "ticks": ""
           }
          },
          "ternary": {
           "bgcolor": "#E5ECF6",
           "aaxis": {
            "gridcolor": "white",
            "linecolor": "white",
            "ticks": ""
           },
           "baxis": {
            "gridcolor": "white",
            "linecolor": "white",
            "ticks": ""
           },
           "caxis": {
            "gridcolor": "white",
            "linecolor": "white",
            "ticks": ""
           }
          },
          "coloraxis": {
           "colorbar": {
            "outlinewidth": 0,
            "ticks": ""
           }
          },
          "colorscale": {
           "sequential": [
            [
             0.0,
             "#0d0887"
            ],
            [
             0.1111111111111111,
             "#46039f"
            ],
            [
             0.2222222222222222,
             "#7201a8"
            ],
            [
             0.3333333333333333,
             "#9c179e"
            ],
            [
             0.4444444444444444,
             "#bd3786"
            ],
            [
             0.5555555555555556,
             "#d8576b"
            ],
            [
             0.6666666666666666,
             "#ed7953"
            ],
            [
             0.7777777777777778,
             "#fb9f3a"
            ],
            [
             0.8888888888888888,
             "#fdca26"
            ],
            [
             1.0,
             "#f0f921"
            ]
           ],
           "sequentialminus": [
            [
             0.0,
             "#0d0887"
            ],
            [
             0.1111111111111111,
             "#46039f"
            ],
            [
             0.2222222222222222,
             "#7201a8"
            ],
            [
             0.3333333333333333,
             "#9c179e"
            ],
            [
             0.4444444444444444,
             "#bd3786"
            ],
            [
             0.5555555555555556,
             "#d8576b"
            ],
            [
             0.6666666666666666,
             "#ed7953"
            ],
            [
             0.7777777777777778,
             "#fb9f3a"
            ],
            [
             0.8888888888888888,
             "#fdca26"
            ],
            [
             1.0,
             "#f0f921"
            ]
           ],
           "diverging": [
            [
             0,
             "#8e0152"
            ],
            [
             0.1,
             "#c51b7d"
            ],
            [
             0.2,
             "#de77ae"
            ],
            [
             0.3,
             "#f1b6da"
            ],
            [
             0.4,
             "#fde0ef"
            ],
            [
             0.5,
             "#f7f7f7"
            ],
            [
             0.6,
             "#e6f5d0"
            ],
            [
             0.7,
             "#b8e186"
            ],
            [
             0.8,
             "#7fbc41"
            ],
            [
             0.9,
             "#4d9221"
            ],
            [
             1,
             "#276419"
            ]
           ]
          },
          "xaxis": {
           "gridcolor": "white",
           "linecolor": "white",
           "ticks": "",
           "title": {
            "standoff": 15
           },
           "zerolinecolor": "white",
           "automargin": true,
           "zerolinewidth": 2
          },
          "yaxis": {
           "gridcolor": "white",
           "linecolor": "white",
           "ticks": "",
           "title": {
            "standoff": 15
           },
           "zerolinecolor": "white",
           "automargin": true,
           "zerolinewidth": 2
          },
          "scene": {
           "xaxis": {
            "backgroundcolor": "#E5ECF6",
            "gridcolor": "white",
            "linecolor": "white",
            "showbackground": true,
            "ticks": "",
            "zerolinecolor": "white",
            "gridwidth": 2
           },
           "yaxis": {
            "backgroundcolor": "#E5ECF6",
            "gridcolor": "white",
            "linecolor": "white",
            "showbackground": true,
            "ticks": "",
            "zerolinecolor": "white",
            "gridwidth": 2
           },
           "zaxis": {
            "backgroundcolor": "#E5ECF6",
            "gridcolor": "white",
            "linecolor": "white",
            "showbackground": true,
            "ticks": "",
            "zerolinecolor": "white",
            "gridwidth": 2
           }
          },
          "shapedefaults": {
           "line": {
            "color": "#2a3f5f"
           }
          },
          "annotationdefaults": {
           "arrowcolor": "#2a3f5f",
           "arrowhead": 0,
           "arrowwidth": 1
          },
          "geo": {
           "bgcolor": "white",
           "landcolor": "#E5ECF6",
           "subunitcolor": "white",
           "showland": true,
           "showlakes": true,
           "lakecolor": "white"
          },
          "title": {
           "x": 0.05
          },
          "mapbox": {
           "style": "light"
          }
         }
        },
        "polar": {
         "domain": {
          "x": [
           0.0,
           1.0
          ],
          "y": [
           0.0,
           1.0
          ]
         },
         "angularaxis": {
          "direction": "clockwise",
          "rotation": 90
         }
        },
        "legend": {
         "title": {
          "text": "Model"
         },
         "tracegroupgap": 0
        },
        "title": {
         "text": "Radar Chart for F1 Scores for XGLM (Resource Level = 3, Only Bloomz = False, Only Bloom = False, Only XGLM = False)"
        },
        "height": 600,
        "width": 800
       },
       "config": {
        "plotlyServerURL": "https://plot.ly"
       }
      }
     },
     "metadata": {},
     "output_type": "display_data"
    },
    {
     "data": {
      "application/vnd.plotly.v1+json": {
       "data": [
        {
         "hovertemplate": "Model=F1 xglm-564M top_logprobs<br>F1 Score=%{r}<br>Language Name=%{theta}<extra></extra>",
         "legendgroup": "F1 xglm-564M top_logprobs",
         "line": {
          "color": "#636efa",
          "dash": "solid"
         },
         "marker": {
          "symbol": "circle"
         },
         "mode": "lines",
         "name": "F1 xglm-564M top_logprobs",
         "r": [
          0.0695094551582101,
          0.13903244041098,
          0.226822187348718,
          0.136043306211373,
          0.129619499645383,
          0.192849828474336,
          0.340417973030424,
          0.0281870595771941,
          0.34801143875554,
          0.319635107252148,
          0.0580010229119907,
          0.240275453275834,
          0.27183102600328,
          0.224653569295784,
          0.16615452805929,
          0.187143689843031,
          0.0695094551582101
         ],
         "showlegend": true,
         "subplot": "polar",
         "theta": [
          "Amharic",
          "Irish",
          "Hausa",
          "Icelandic",
          "Lao",
          "Marathi",
          "Maltese",
          "Eastern Punjabi",
          "Sanskrit",
          "Swahili",
          "Tigrigna",
          "Setswana",
          "Wolof",
          "Xhosa",
          "Yoruba",
          "Zulu",
          "Amharic"
         ],
         "type": "scatterpolar"
        },
        {
         "hovertemplate": "Model=F1 xglm-1.7B top_logprobs<br>F1 Score=%{r}<br>Language Name=%{theta}<extra></extra>",
         "legendgroup": "F1 xglm-1.7B top_logprobs",
         "line": {
          "color": "#EF553B",
          "dash": "solid"
         },
         "marker": {
          "symbol": "circle"
         },
         "mode": "lines",
         "name": "F1 xglm-1.7B top_logprobs",
         "r": [
          0.0538740859496899,
          0.188942890159178,
          0.255071268735865,
          0.227107364685004,
          0.169421253073354,
          0.446762787190684,
          0.435702056811192,
          0.130281424092234,
          0.501731617306211,
          0.546287636713169,
          0.0355555555555555,
          0.279664650352024,
          0.345963390186993,
          0.286273756258021,
          0.275034721842711,
          0.233441284147317,
          0.0538740859496899
         ],
         "showlegend": true,
         "subplot": "polar",
         "theta": [
          "Amharic",
          "Irish",
          "Hausa",
          "Icelandic",
          "Lao",
          "Marathi",
          "Maltese",
          "Eastern Punjabi",
          "Sanskrit",
          "Swahili",
          "Tigrigna",
          "Setswana",
          "Wolof",
          "Xhosa",
          "Yoruba",
          "Zulu",
          "Amharic"
         ],
         "type": "scatterpolar"
        },
        {
         "hovertemplate": "Model=F1 xglm-2.9B top_logprobs<br>F1 Score=%{r}<br>Language Name=%{theta}<extra></extra>",
         "legendgroup": "F1 xglm-2.9B top_logprobs",
         "line": {
          "color": "#00cc96",
          "dash": "solid"
         },
         "marker": {
          "symbol": "circle"
         },
         "mode": "lines",
         "name": "F1 xglm-2.9B top_logprobs",
         "r": [
          0.125018748049783,
          0.196951225534662,
          0.307010014527008,
          0.169516706204013,
          0.146083028481472,
          0.400990004764309,
          0.376072945620053,
          0.0808970187852175,
          0.349005275408095,
          0.456891056142199,
          0.0841750841750842,
          0.223307921205024,
          0.25110157084947,
          0.263102919841464,
          0.194160175278812,
          0.256498317435806,
          0.125018748049783
         ],
         "showlegend": true,
         "subplot": "polar",
         "theta": [
          "Amharic",
          "Irish",
          "Hausa",
          "Icelandic",
          "Lao",
          "Marathi",
          "Maltese",
          "Eastern Punjabi",
          "Sanskrit",
          "Swahili",
          "Tigrigna",
          "Setswana",
          "Wolof",
          "Xhosa",
          "Yoruba",
          "Zulu",
          "Amharic"
         ],
         "type": "scatterpolar"
        },
        {
         "hovertemplate": "Model=F1 xglm-7.5B top_logprobs<br>F1 Score=%{r}<br>Language Name=%{theta}<extra></extra>",
         "legendgroup": "F1 xglm-7.5B top_logprobs",
         "line": {
          "color": "#ab63fa",
          "dash": "solid"
         },
         "marker": {
          "symbol": "circle"
         },
         "mode": "lines",
         "name": "F1 xglm-7.5B top_logprobs",
         "r": [
          0.109272364903301,
          0.184374677492368,
          0.257289658409601,
          0.241176423381966,
          0.168784621215354,
          0.498252881308021,
          0.371856202064435,
          0.117403702530904,
          0.534091518933962,
          0.569195092509115,
          0.0916417372434262,
          0.31164225424433,
          0.302272679463477,
          0.280056056933207,
          0.293018846883015,
          0.230771987867916,
          0.109272364903301
         ],
         "showlegend": true,
         "subplot": "polar",
         "theta": [
          "Amharic",
          "Irish",
          "Hausa",
          "Icelandic",
          "Lao",
          "Marathi",
          "Maltese",
          "Eastern Punjabi",
          "Sanskrit",
          "Swahili",
          "Tigrigna",
          "Setswana",
          "Wolof",
          "Xhosa",
          "Yoruba",
          "Zulu",
          "Amharic"
         ],
         "type": "scatterpolar"
        }
       ],
       "layout": {
        "template": {
         "data": {
          "histogram2dcontour": [
           {
            "type": "histogram2dcontour",
            "colorbar": {
             "outlinewidth": 0,
             "ticks": ""
            },
            "colorscale": [
             [
              0.0,
              "#0d0887"
             ],
             [
              0.1111111111111111,
              "#46039f"
             ],
             [
              0.2222222222222222,
              "#7201a8"
             ],
             [
              0.3333333333333333,
              "#9c179e"
             ],
             [
              0.4444444444444444,
              "#bd3786"
             ],
             [
              0.5555555555555556,
              "#d8576b"
             ],
             [
              0.6666666666666666,
              "#ed7953"
             ],
             [
              0.7777777777777778,
              "#fb9f3a"
             ],
             [
              0.8888888888888888,
              "#fdca26"
             ],
             [
              1.0,
              "#f0f921"
             ]
            ]
           }
          ],
          "choropleth": [
           {
            "type": "choropleth",
            "colorbar": {
             "outlinewidth": 0,
             "ticks": ""
            }
           }
          ],
          "histogram2d": [
           {
            "type": "histogram2d",
            "colorbar": {
             "outlinewidth": 0,
             "ticks": ""
            },
            "colorscale": [
             [
              0.0,
              "#0d0887"
             ],
             [
              0.1111111111111111,
              "#46039f"
             ],
             [
              0.2222222222222222,
              "#7201a8"
             ],
             [
              0.3333333333333333,
              "#9c179e"
             ],
             [
              0.4444444444444444,
              "#bd3786"
             ],
             [
              0.5555555555555556,
              "#d8576b"
             ],
             [
              0.6666666666666666,
              "#ed7953"
             ],
             [
              0.7777777777777778,
              "#fb9f3a"
             ],
             [
              0.8888888888888888,
              "#fdca26"
             ],
             [
              1.0,
              "#f0f921"
             ]
            ]
           }
          ],
          "heatmap": [
           {
            "type": "heatmap",
            "colorbar": {
             "outlinewidth": 0,
             "ticks": ""
            },
            "colorscale": [
             [
              0.0,
              "#0d0887"
             ],
             [
              0.1111111111111111,
              "#46039f"
             ],
             [
              0.2222222222222222,
              "#7201a8"
             ],
             [
              0.3333333333333333,
              "#9c179e"
             ],
             [
              0.4444444444444444,
              "#bd3786"
             ],
             [
              0.5555555555555556,
              "#d8576b"
             ],
             [
              0.6666666666666666,
              "#ed7953"
             ],
             [
              0.7777777777777778,
              "#fb9f3a"
             ],
             [
              0.8888888888888888,
              "#fdca26"
             ],
             [
              1.0,
              "#f0f921"
             ]
            ]
           }
          ],
          "heatmapgl": [
           {
            "type": "heatmapgl",
            "colorbar": {
             "outlinewidth": 0,
             "ticks": ""
            },
            "colorscale": [
             [
              0.0,
              "#0d0887"
             ],
             [
              0.1111111111111111,
              "#46039f"
             ],
             [
              0.2222222222222222,
              "#7201a8"
             ],
             [
              0.3333333333333333,
              "#9c179e"
             ],
             [
              0.4444444444444444,
              "#bd3786"
             ],
             [
              0.5555555555555556,
              "#d8576b"
             ],
             [
              0.6666666666666666,
              "#ed7953"
             ],
             [
              0.7777777777777778,
              "#fb9f3a"
             ],
             [
              0.8888888888888888,
              "#fdca26"
             ],
             [
              1.0,
              "#f0f921"
             ]
            ]
           }
          ],
          "contourcarpet": [
           {
            "type": "contourcarpet",
            "colorbar": {
             "outlinewidth": 0,
             "ticks": ""
            }
           }
          ],
          "contour": [
           {
            "type": "contour",
            "colorbar": {
             "outlinewidth": 0,
             "ticks": ""
            },
            "colorscale": [
             [
              0.0,
              "#0d0887"
             ],
             [
              0.1111111111111111,
              "#46039f"
             ],
             [
              0.2222222222222222,
              "#7201a8"
             ],
             [
              0.3333333333333333,
              "#9c179e"
             ],
             [
              0.4444444444444444,
              "#bd3786"
             ],
             [
              0.5555555555555556,
              "#d8576b"
             ],
             [
              0.6666666666666666,
              "#ed7953"
             ],
             [
              0.7777777777777778,
              "#fb9f3a"
             ],
             [
              0.8888888888888888,
              "#fdca26"
             ],
             [
              1.0,
              "#f0f921"
             ]
            ]
           }
          ],
          "surface": [
           {
            "type": "surface",
            "colorbar": {
             "outlinewidth": 0,
             "ticks": ""
            },
            "colorscale": [
             [
              0.0,
              "#0d0887"
             ],
             [
              0.1111111111111111,
              "#46039f"
             ],
             [
              0.2222222222222222,
              "#7201a8"
             ],
             [
              0.3333333333333333,
              "#9c179e"
             ],
             [
              0.4444444444444444,
              "#bd3786"
             ],
             [
              0.5555555555555556,
              "#d8576b"
             ],
             [
              0.6666666666666666,
              "#ed7953"
             ],
             [
              0.7777777777777778,
              "#fb9f3a"
             ],
             [
              0.8888888888888888,
              "#fdca26"
             ],
             [
              1.0,
              "#f0f921"
             ]
            ]
           }
          ],
          "mesh3d": [
           {
            "type": "mesh3d",
            "colorbar": {
             "outlinewidth": 0,
             "ticks": ""
            }
           }
          ],
          "scatter": [
           {
            "fillpattern": {
             "fillmode": "overlay",
             "size": 10,
             "solidity": 0.2
            },
            "type": "scatter"
           }
          ],
          "parcoords": [
           {
            "type": "parcoords",
            "line": {
             "colorbar": {
              "outlinewidth": 0,
              "ticks": ""
             }
            }
           }
          ],
          "scatterpolargl": [
           {
            "type": "scatterpolargl",
            "marker": {
             "colorbar": {
              "outlinewidth": 0,
              "ticks": ""
             }
            }
           }
          ],
          "bar": [
           {
            "error_x": {
             "color": "#2a3f5f"
            },
            "error_y": {
             "color": "#2a3f5f"
            },
            "marker": {
             "line": {
              "color": "#E5ECF6",
              "width": 0.5
             },
             "pattern": {
              "fillmode": "overlay",
              "size": 10,
              "solidity": 0.2
             }
            },
            "type": "bar"
           }
          ],
          "scattergeo": [
           {
            "type": "scattergeo",
            "marker": {
             "colorbar": {
              "outlinewidth": 0,
              "ticks": ""
             }
            }
           }
          ],
          "scatterpolar": [
           {
            "type": "scatterpolar",
            "marker": {
             "colorbar": {
              "outlinewidth": 0,
              "ticks": ""
             }
            }
           }
          ],
          "histogram": [
           {
            "marker": {
             "pattern": {
              "fillmode": "overlay",
              "size": 10,
              "solidity": 0.2
             }
            },
            "type": "histogram"
           }
          ],
          "scattergl": [
           {
            "type": "scattergl",
            "marker": {
             "colorbar": {
              "outlinewidth": 0,
              "ticks": ""
             }
            }
           }
          ],
          "scatter3d": [
           {
            "type": "scatter3d",
            "line": {
             "colorbar": {
              "outlinewidth": 0,
              "ticks": ""
             }
            },
            "marker": {
             "colorbar": {
              "outlinewidth": 0,
              "ticks": ""
             }
            }
           }
          ],
          "scattermapbox": [
           {
            "type": "scattermapbox",
            "marker": {
             "colorbar": {
              "outlinewidth": 0,
              "ticks": ""
             }
            }
           }
          ],
          "scatterternary": [
           {
            "type": "scatterternary",
            "marker": {
             "colorbar": {
              "outlinewidth": 0,
              "ticks": ""
             }
            }
           }
          ],
          "scattercarpet": [
           {
            "type": "scattercarpet",
            "marker": {
             "colorbar": {
              "outlinewidth": 0,
              "ticks": ""
             }
            }
           }
          ],
          "carpet": [
           {
            "aaxis": {
             "endlinecolor": "#2a3f5f",
             "gridcolor": "white",
             "linecolor": "white",
             "minorgridcolor": "white",
             "startlinecolor": "#2a3f5f"
            },
            "baxis": {
             "endlinecolor": "#2a3f5f",
             "gridcolor": "white",
             "linecolor": "white",
             "minorgridcolor": "white",
             "startlinecolor": "#2a3f5f"
            },
            "type": "carpet"
           }
          ],
          "table": [
           {
            "cells": {
             "fill": {
              "color": "#EBF0F8"
             },
             "line": {
              "color": "white"
             }
            },
            "header": {
             "fill": {
              "color": "#C8D4E3"
             },
             "line": {
              "color": "white"
             }
            },
            "type": "table"
           }
          ],
          "barpolar": [
           {
            "marker": {
             "line": {
              "color": "#E5ECF6",
              "width": 0.5
             },
             "pattern": {
              "fillmode": "overlay",
              "size": 10,
              "solidity": 0.2
             }
            },
            "type": "barpolar"
           }
          ],
          "pie": [
           {
            "automargin": true,
            "type": "pie"
           }
          ]
         },
         "layout": {
          "autotypenumbers": "strict",
          "colorway": [
           "#636efa",
           "#EF553B",
           "#00cc96",
           "#ab63fa",
           "#FFA15A",
           "#19d3f3",
           "#FF6692",
           "#B6E880",
           "#FF97FF",
           "#FECB52"
          ],
          "font": {
           "color": "#2a3f5f"
          },
          "hovermode": "closest",
          "hoverlabel": {
           "align": "left"
          },
          "paper_bgcolor": "white",
          "plot_bgcolor": "#E5ECF6",
          "polar": {
           "bgcolor": "#E5ECF6",
           "angularaxis": {
            "gridcolor": "white",
            "linecolor": "white",
            "ticks": ""
           },
           "radialaxis": {
            "gridcolor": "white",
            "linecolor": "white",
            "ticks": ""
           }
          },
          "ternary": {
           "bgcolor": "#E5ECF6",
           "aaxis": {
            "gridcolor": "white",
            "linecolor": "white",
            "ticks": ""
           },
           "baxis": {
            "gridcolor": "white",
            "linecolor": "white",
            "ticks": ""
           },
           "caxis": {
            "gridcolor": "white",
            "linecolor": "white",
            "ticks": ""
           }
          },
          "coloraxis": {
           "colorbar": {
            "outlinewidth": 0,
            "ticks": ""
           }
          },
          "colorscale": {
           "sequential": [
            [
             0.0,
             "#0d0887"
            ],
            [
             0.1111111111111111,
             "#46039f"
            ],
            [
             0.2222222222222222,
             "#7201a8"
            ],
            [
             0.3333333333333333,
             "#9c179e"
            ],
            [
             0.4444444444444444,
             "#bd3786"
            ],
            [
             0.5555555555555556,
             "#d8576b"
            ],
            [
             0.6666666666666666,
             "#ed7953"
            ],
            [
             0.7777777777777778,
             "#fb9f3a"
            ],
            [
             0.8888888888888888,
             "#fdca26"
            ],
            [
             1.0,
             "#f0f921"
            ]
           ],
           "sequentialminus": [
            [
             0.0,
             "#0d0887"
            ],
            [
             0.1111111111111111,
             "#46039f"
            ],
            [
             0.2222222222222222,
             "#7201a8"
            ],
            [
             0.3333333333333333,
             "#9c179e"
            ],
            [
             0.4444444444444444,
             "#bd3786"
            ],
            [
             0.5555555555555556,
             "#d8576b"
            ],
            [
             0.6666666666666666,
             "#ed7953"
            ],
            [
             0.7777777777777778,
             "#fb9f3a"
            ],
            [
             0.8888888888888888,
             "#fdca26"
            ],
            [
             1.0,
             "#f0f921"
            ]
           ],
           "diverging": [
            [
             0,
             "#8e0152"
            ],
            [
             0.1,
             "#c51b7d"
            ],
            [
             0.2,
             "#de77ae"
            ],
            [
             0.3,
             "#f1b6da"
            ],
            [
             0.4,
             "#fde0ef"
            ],
            [
             0.5,
             "#f7f7f7"
            ],
            [
             0.6,
             "#e6f5d0"
            ],
            [
             0.7,
             "#b8e186"
            ],
            [
             0.8,
             "#7fbc41"
            ],
            [
             0.9,
             "#4d9221"
            ],
            [
             1,
             "#276419"
            ]
           ]
          },
          "xaxis": {
           "gridcolor": "white",
           "linecolor": "white",
           "ticks": "",
           "title": {
            "standoff": 15
           },
           "zerolinecolor": "white",
           "automargin": true,
           "zerolinewidth": 2
          },
          "yaxis": {
           "gridcolor": "white",
           "linecolor": "white",
           "ticks": "",
           "title": {
            "standoff": 15
           },
           "zerolinecolor": "white",
           "automargin": true,
           "zerolinewidth": 2
          },
          "scene": {
           "xaxis": {
            "backgroundcolor": "#E5ECF6",
            "gridcolor": "white",
            "linecolor": "white",
            "showbackground": true,
            "ticks": "",
            "zerolinecolor": "white",
            "gridwidth": 2
           },
           "yaxis": {
            "backgroundcolor": "#E5ECF6",
            "gridcolor": "white",
            "linecolor": "white",
            "showbackground": true,
            "ticks": "",
            "zerolinecolor": "white",
            "gridwidth": 2
           },
           "zaxis": {
            "backgroundcolor": "#E5ECF6",
            "gridcolor": "white",
            "linecolor": "white",
            "showbackground": true,
            "ticks": "",
            "zerolinecolor": "white",
            "gridwidth": 2
           }
          },
          "shapedefaults": {
           "line": {
            "color": "#2a3f5f"
           }
          },
          "annotationdefaults": {
           "arrowcolor": "#2a3f5f",
           "arrowhead": 0,
           "arrowwidth": 1
          },
          "geo": {
           "bgcolor": "white",
           "landcolor": "#E5ECF6",
           "subunitcolor": "white",
           "showland": true,
           "showlakes": true,
           "lakecolor": "white"
          },
          "title": {
           "x": 0.05
          },
          "mapbox": {
           "style": "light"
          }
         }
        },
        "polar": {
         "domain": {
          "x": [
           0.0,
           1.0
          ],
          "y": [
           0.0,
           1.0
          ]
         },
         "angularaxis": {
          "direction": "clockwise",
          "rotation": 90
         }
        },
        "legend": {
         "title": {
          "text": "Model"
         },
         "tracegroupgap": 0
        },
        "title": {
         "text": "Radar Chart for F1 Scores for XGLM (Resource Level = 2, Only Bloomz = False, Only Bloom = False, Only XGLM = False)"
        },
        "height": 600,
        "width": 800
       },
       "config": {
        "plotlyServerURL": "https://plot.ly"
       }
      }
     },
     "metadata": {},
     "output_type": "display_data"
    },
    {
     "data": {
      "application/vnd.plotly.v1+json": {
       "data": [
        {
         "hovertemplate": "Model=F1 xglm-564M top_logprobs<br>F1 Score=%{r}<br>Language Name=%{theta}<extra></extra>",
         "legendgroup": "F1 xglm-564M top_logprobs",
         "line": {
          "color": "#636efa",
          "dash": "solid"
         },
         "marker": {
          "symbol": "circle"
         },
         "mode": "lines",
         "name": "F1 xglm-564M top_logprobs",
         "r": [
          0.45989332262641,
          0.185042136835411,
          0.408344169197416,
          0.449099978651442,
          0.146428571428571,
          0.447267466317532,
          0.250057273768614,
          0.597528691852645,
          0.516878503600854,
          0.45989332262641
         ],
         "showlegend": true,
         "subplot": "polar",
         "theta": [
          "Standard Arabic",
          "Standard Arabic",
          "Standard German",
          "English",
          "French",
          "Japanese",
          "Spanish",
          "Chinese",
          "Chinese",
          "Standard Arabic"
         ],
         "type": "scatterpolar"
        },
        {
         "hovertemplate": "Model=F1 xglm-1.7B top_logprobs<br>F1 Score=%{r}<br>Language Name=%{theta}<extra></extra>",
         "legendgroup": "F1 xglm-1.7B top_logprobs",
         "line": {
          "color": "#EF553B",
          "dash": "solid"
         },
         "marker": {
          "symbol": "circle"
         },
         "mode": "lines",
         "name": "F1 xglm-1.7B top_logprobs",
         "r": [
          0.262747061104831,
          0.180066398041393,
          0.551609028676698,
          0.506896064038921,
          0.348690686297873,
          0.57910995660434,
          0.275728603280513,
          0.530437915877723,
          0.592133112124812,
          0.262747061104831
         ],
         "showlegend": true,
         "subplot": "polar",
         "theta": [
          "Standard Arabic",
          "Standard Arabic",
          "Standard German",
          "English",
          "French",
          "Japanese",
          "Spanish",
          "Chinese",
          "Chinese",
          "Standard Arabic"
         ],
         "type": "scatterpolar"
        },
        {
         "hovertemplate": "Model=F1 xglm-2.9B top_logprobs<br>F1 Score=%{r}<br>Language Name=%{theta}<extra></extra>",
         "legendgroup": "F1 xglm-2.9B top_logprobs",
         "line": {
          "color": "#00cc96",
          "dash": "solid"
         },
         "marker": {
          "symbol": "circle"
         },
         "mode": "lines",
         "name": "F1 xglm-2.9B top_logprobs",
         "r": [
          0.49290498485033,
          0.157646711009125,
          0.472759868486706,
          0.586466234237461,
          0.225511078959355,
          0.653724277986524,
          0.362787573623487,
          0.640362165139547,
          0.686492259337087,
          0.49290498485033
         ],
         "showlegend": true,
         "subplot": "polar",
         "theta": [
          "Standard Arabic",
          "Standard Arabic",
          "Standard German",
          "English",
          "French",
          "Japanese",
          "Spanish",
          "Chinese",
          "Chinese",
          "Standard Arabic"
         ],
         "type": "scatterpolar"
        },
        {
         "hovertemplate": "Model=F1 xglm-7.5B top_logprobs<br>F1 Score=%{r}<br>Language Name=%{theta}<extra></extra>",
         "legendgroup": "F1 xglm-7.5B top_logprobs",
         "line": {
          "color": "#ab63fa",
          "dash": "solid"
         },
         "marker": {
          "symbol": "circle"
         },
         "mode": "lines",
         "name": "F1 xglm-7.5B top_logprobs",
         "r": [
          0.50878976232569,
          0.218728434171034,
          0.459970937104778,
          0.596577177208756,
          0.28098933507381,
          0.573921210083186,
          0.509291423206185,
          0.55255113695866,
          0.511382362237925,
          0.50878976232569
         ],
         "showlegend": true,
         "subplot": "polar",
         "theta": [
          "Standard Arabic",
          "Standard Arabic",
          "Standard German",
          "English",
          "French",
          "Japanese",
          "Spanish",
          "Chinese",
          "Chinese",
          "Standard Arabic"
         ],
         "type": "scatterpolar"
        }
       ],
       "layout": {
        "template": {
         "data": {
          "histogram2dcontour": [
           {
            "type": "histogram2dcontour",
            "colorbar": {
             "outlinewidth": 0,
             "ticks": ""
            },
            "colorscale": [
             [
              0.0,
              "#0d0887"
             ],
             [
              0.1111111111111111,
              "#46039f"
             ],
             [
              0.2222222222222222,
              "#7201a8"
             ],
             [
              0.3333333333333333,
              "#9c179e"
             ],
             [
              0.4444444444444444,
              "#bd3786"
             ],
             [
              0.5555555555555556,
              "#d8576b"
             ],
             [
              0.6666666666666666,
              "#ed7953"
             ],
             [
              0.7777777777777778,
              "#fb9f3a"
             ],
             [
              0.8888888888888888,
              "#fdca26"
             ],
             [
              1.0,
              "#f0f921"
             ]
            ]
           }
          ],
          "choropleth": [
           {
            "type": "choropleth",
            "colorbar": {
             "outlinewidth": 0,
             "ticks": ""
            }
           }
          ],
          "histogram2d": [
           {
            "type": "histogram2d",
            "colorbar": {
             "outlinewidth": 0,
             "ticks": ""
            },
            "colorscale": [
             [
              0.0,
              "#0d0887"
             ],
             [
              0.1111111111111111,
              "#46039f"
             ],
             [
              0.2222222222222222,
              "#7201a8"
             ],
             [
              0.3333333333333333,
              "#9c179e"
             ],
             [
              0.4444444444444444,
              "#bd3786"
             ],
             [
              0.5555555555555556,
              "#d8576b"
             ],
             [
              0.6666666666666666,
              "#ed7953"
             ],
             [
              0.7777777777777778,
              "#fb9f3a"
             ],
             [
              0.8888888888888888,
              "#fdca26"
             ],
             [
              1.0,
              "#f0f921"
             ]
            ]
           }
          ],
          "heatmap": [
           {
            "type": "heatmap",
            "colorbar": {
             "outlinewidth": 0,
             "ticks": ""
            },
            "colorscale": [
             [
              0.0,
              "#0d0887"
             ],
             [
              0.1111111111111111,
              "#46039f"
             ],
             [
              0.2222222222222222,
              "#7201a8"
             ],
             [
              0.3333333333333333,
              "#9c179e"
             ],
             [
              0.4444444444444444,
              "#bd3786"
             ],
             [
              0.5555555555555556,
              "#d8576b"
             ],
             [
              0.6666666666666666,
              "#ed7953"
             ],
             [
              0.7777777777777778,
              "#fb9f3a"
             ],
             [
              0.8888888888888888,
              "#fdca26"
             ],
             [
              1.0,
              "#f0f921"
             ]
            ]
           }
          ],
          "heatmapgl": [
           {
            "type": "heatmapgl",
            "colorbar": {
             "outlinewidth": 0,
             "ticks": ""
            },
            "colorscale": [
             [
              0.0,
              "#0d0887"
             ],
             [
              0.1111111111111111,
              "#46039f"
             ],
             [
              0.2222222222222222,
              "#7201a8"
             ],
             [
              0.3333333333333333,
              "#9c179e"
             ],
             [
              0.4444444444444444,
              "#bd3786"
             ],
             [
              0.5555555555555556,
              "#d8576b"
             ],
             [
              0.6666666666666666,
              "#ed7953"
             ],
             [
              0.7777777777777778,
              "#fb9f3a"
             ],
             [
              0.8888888888888888,
              "#fdca26"
             ],
             [
              1.0,
              "#f0f921"
             ]
            ]
           }
          ],
          "contourcarpet": [
           {
            "type": "contourcarpet",
            "colorbar": {
             "outlinewidth": 0,
             "ticks": ""
            }
           }
          ],
          "contour": [
           {
            "type": "contour",
            "colorbar": {
             "outlinewidth": 0,
             "ticks": ""
            },
            "colorscale": [
             [
              0.0,
              "#0d0887"
             ],
             [
              0.1111111111111111,
              "#46039f"
             ],
             [
              0.2222222222222222,
              "#7201a8"
             ],
             [
              0.3333333333333333,
              "#9c179e"
             ],
             [
              0.4444444444444444,
              "#bd3786"
             ],
             [
              0.5555555555555556,
              "#d8576b"
             ],
             [
              0.6666666666666666,
              "#ed7953"
             ],
             [
              0.7777777777777778,
              "#fb9f3a"
             ],
             [
              0.8888888888888888,
              "#fdca26"
             ],
             [
              1.0,
              "#f0f921"
             ]
            ]
           }
          ],
          "surface": [
           {
            "type": "surface",
            "colorbar": {
             "outlinewidth": 0,
             "ticks": ""
            },
            "colorscale": [
             [
              0.0,
              "#0d0887"
             ],
             [
              0.1111111111111111,
              "#46039f"
             ],
             [
              0.2222222222222222,
              "#7201a8"
             ],
             [
              0.3333333333333333,
              "#9c179e"
             ],
             [
              0.4444444444444444,
              "#bd3786"
             ],
             [
              0.5555555555555556,
              "#d8576b"
             ],
             [
              0.6666666666666666,
              "#ed7953"
             ],
             [
              0.7777777777777778,
              "#fb9f3a"
             ],
             [
              0.8888888888888888,
              "#fdca26"
             ],
             [
              1.0,
              "#f0f921"
             ]
            ]
           }
          ],
          "mesh3d": [
           {
            "type": "mesh3d",
            "colorbar": {
             "outlinewidth": 0,
             "ticks": ""
            }
           }
          ],
          "scatter": [
           {
            "fillpattern": {
             "fillmode": "overlay",
             "size": 10,
             "solidity": 0.2
            },
            "type": "scatter"
           }
          ],
          "parcoords": [
           {
            "type": "parcoords",
            "line": {
             "colorbar": {
              "outlinewidth": 0,
              "ticks": ""
             }
            }
           }
          ],
          "scatterpolargl": [
           {
            "type": "scatterpolargl",
            "marker": {
             "colorbar": {
              "outlinewidth": 0,
              "ticks": ""
             }
            }
           }
          ],
          "bar": [
           {
            "error_x": {
             "color": "#2a3f5f"
            },
            "error_y": {
             "color": "#2a3f5f"
            },
            "marker": {
             "line": {
              "color": "#E5ECF6",
              "width": 0.5
             },
             "pattern": {
              "fillmode": "overlay",
              "size": 10,
              "solidity": 0.2
             }
            },
            "type": "bar"
           }
          ],
          "scattergeo": [
           {
            "type": "scattergeo",
            "marker": {
             "colorbar": {
              "outlinewidth": 0,
              "ticks": ""
             }
            }
           }
          ],
          "scatterpolar": [
           {
            "type": "scatterpolar",
            "marker": {
             "colorbar": {
              "outlinewidth": 0,
              "ticks": ""
             }
            }
           }
          ],
          "histogram": [
           {
            "marker": {
             "pattern": {
              "fillmode": "overlay",
              "size": 10,
              "solidity": 0.2
             }
            },
            "type": "histogram"
           }
          ],
          "scattergl": [
           {
            "type": "scattergl",
            "marker": {
             "colorbar": {
              "outlinewidth": 0,
              "ticks": ""
             }
            }
           }
          ],
          "scatter3d": [
           {
            "type": "scatter3d",
            "line": {
             "colorbar": {
              "outlinewidth": 0,
              "ticks": ""
             }
            },
            "marker": {
             "colorbar": {
              "outlinewidth": 0,
              "ticks": ""
             }
            }
           }
          ],
          "scattermapbox": [
           {
            "type": "scattermapbox",
            "marker": {
             "colorbar": {
              "outlinewidth": 0,
              "ticks": ""
             }
            }
           }
          ],
          "scatterternary": [
           {
            "type": "scatterternary",
            "marker": {
             "colorbar": {
              "outlinewidth": 0,
              "ticks": ""
             }
            }
           }
          ],
          "scattercarpet": [
           {
            "type": "scattercarpet",
            "marker": {
             "colorbar": {
              "outlinewidth": 0,
              "ticks": ""
             }
            }
           }
          ],
          "carpet": [
           {
            "aaxis": {
             "endlinecolor": "#2a3f5f",
             "gridcolor": "white",
             "linecolor": "white",
             "minorgridcolor": "white",
             "startlinecolor": "#2a3f5f"
            },
            "baxis": {
             "endlinecolor": "#2a3f5f",
             "gridcolor": "white",
             "linecolor": "white",
             "minorgridcolor": "white",
             "startlinecolor": "#2a3f5f"
            },
            "type": "carpet"
           }
          ],
          "table": [
           {
            "cells": {
             "fill": {
              "color": "#EBF0F8"
             },
             "line": {
              "color": "white"
             }
            },
            "header": {
             "fill": {
              "color": "#C8D4E3"
             },
             "line": {
              "color": "white"
             }
            },
            "type": "table"
           }
          ],
          "barpolar": [
           {
            "marker": {
             "line": {
              "color": "#E5ECF6",
              "width": 0.5
             },
             "pattern": {
              "fillmode": "overlay",
              "size": 10,
              "solidity": 0.2
             }
            },
            "type": "barpolar"
           }
          ],
          "pie": [
           {
            "automargin": true,
            "type": "pie"
           }
          ]
         },
         "layout": {
          "autotypenumbers": "strict",
          "colorway": [
           "#636efa",
           "#EF553B",
           "#00cc96",
           "#ab63fa",
           "#FFA15A",
           "#19d3f3",
           "#FF6692",
           "#B6E880",
           "#FF97FF",
           "#FECB52"
          ],
          "font": {
           "color": "#2a3f5f"
          },
          "hovermode": "closest",
          "hoverlabel": {
           "align": "left"
          },
          "paper_bgcolor": "white",
          "plot_bgcolor": "#E5ECF6",
          "polar": {
           "bgcolor": "#E5ECF6",
           "angularaxis": {
            "gridcolor": "white",
            "linecolor": "white",
            "ticks": ""
           },
           "radialaxis": {
            "gridcolor": "white",
            "linecolor": "white",
            "ticks": ""
           }
          },
          "ternary": {
           "bgcolor": "#E5ECF6",
           "aaxis": {
            "gridcolor": "white",
            "linecolor": "white",
            "ticks": ""
           },
           "baxis": {
            "gridcolor": "white",
            "linecolor": "white",
            "ticks": ""
           },
           "caxis": {
            "gridcolor": "white",
            "linecolor": "white",
            "ticks": ""
           }
          },
          "coloraxis": {
           "colorbar": {
            "outlinewidth": 0,
            "ticks": ""
           }
          },
          "colorscale": {
           "sequential": [
            [
             0.0,
             "#0d0887"
            ],
            [
             0.1111111111111111,
             "#46039f"
            ],
            [
             0.2222222222222222,
             "#7201a8"
            ],
            [
             0.3333333333333333,
             "#9c179e"
            ],
            [
             0.4444444444444444,
             "#bd3786"
            ],
            [
             0.5555555555555556,
             "#d8576b"
            ],
            [
             0.6666666666666666,
             "#ed7953"
            ],
            [
             0.7777777777777778,
             "#fb9f3a"
            ],
            [
             0.8888888888888888,
             "#fdca26"
            ],
            [
             1.0,
             "#f0f921"
            ]
           ],
           "sequentialminus": [
            [
             0.0,
             "#0d0887"
            ],
            [
             0.1111111111111111,
             "#46039f"
            ],
            [
             0.2222222222222222,
             "#7201a8"
            ],
            [
             0.3333333333333333,
             "#9c179e"
            ],
            [
             0.4444444444444444,
             "#bd3786"
            ],
            [
             0.5555555555555556,
             "#d8576b"
            ],
            [
             0.6666666666666666,
             "#ed7953"
            ],
            [
             0.7777777777777778,
             "#fb9f3a"
            ],
            [
             0.8888888888888888,
             "#fdca26"
            ],
            [
             1.0,
             "#f0f921"
            ]
           ],
           "diverging": [
            [
             0,
             "#8e0152"
            ],
            [
             0.1,
             "#c51b7d"
            ],
            [
             0.2,
             "#de77ae"
            ],
            [
             0.3,
             "#f1b6da"
            ],
            [
             0.4,
             "#fde0ef"
            ],
            [
             0.5,
             "#f7f7f7"
            ],
            [
             0.6,
             "#e6f5d0"
            ],
            [
             0.7,
             "#b8e186"
            ],
            [
             0.8,
             "#7fbc41"
            ],
            [
             0.9,
             "#4d9221"
            ],
            [
             1,
             "#276419"
            ]
           ]
          },
          "xaxis": {
           "gridcolor": "white",
           "linecolor": "white",
           "ticks": "",
           "title": {
            "standoff": 15
           },
           "zerolinecolor": "white",
           "automargin": true,
           "zerolinewidth": 2
          },
          "yaxis": {
           "gridcolor": "white",
           "linecolor": "white",
           "ticks": "",
           "title": {
            "standoff": 15
           },
           "zerolinecolor": "white",
           "automargin": true,
           "zerolinewidth": 2
          },
          "scene": {
           "xaxis": {
            "backgroundcolor": "#E5ECF6",
            "gridcolor": "white",
            "linecolor": "white",
            "showbackground": true,
            "ticks": "",
            "zerolinecolor": "white",
            "gridwidth": 2
           },
           "yaxis": {
            "backgroundcolor": "#E5ECF6",
            "gridcolor": "white",
            "linecolor": "white",
            "showbackground": true,
            "ticks": "",
            "zerolinecolor": "white",
            "gridwidth": 2
           },
           "zaxis": {
            "backgroundcolor": "#E5ECF6",
            "gridcolor": "white",
            "linecolor": "white",
            "showbackground": true,
            "ticks": "",
            "zerolinecolor": "white",
            "gridwidth": 2
           }
          },
          "shapedefaults": {
           "line": {
            "color": "#2a3f5f"
           }
          },
          "annotationdefaults": {
           "arrowcolor": "#2a3f5f",
           "arrowhead": 0,
           "arrowwidth": 1
          },
          "geo": {
           "bgcolor": "white",
           "landcolor": "#E5ECF6",
           "subunitcolor": "white",
           "showland": true,
           "showlakes": true,
           "lakecolor": "white"
          },
          "title": {
           "x": 0.05
          },
          "mapbox": {
           "style": "light"
          }
         }
        },
        "polar": {
         "domain": {
          "x": [
           0.0,
           1.0
          ],
          "y": [
           0.0,
           1.0
          ]
         },
         "angularaxis": {
          "direction": "clockwise",
          "rotation": 90
         }
        },
        "legend": {
         "title": {
          "text": "Model"
         },
         "tracegroupgap": 0
        },
        "title": {
         "text": "Radar Chart for F1 Scores for XGLM (Resource Level = 5, Only Bloomz = False, Only Bloom = False, Only XGLM = False)"
        },
        "height": 600,
        "width": 800
       },
       "config": {
        "plotlyServerURL": "https://plot.ly"
       }
      }
     },
     "metadata": {},
     "output_type": "display_data"
    },
    {
     "data": {
      "application/vnd.plotly.v1+json": {
       "data": [
        {
         "hovertemplate": "Model=F1 xglm-564M top_logprobs<br>F1 Score=%{r}<br>Language Name=%{theta}<extra></extra>",
         "legendgroup": "F1 xglm-564M top_logprobs",
         "line": {
          "color": "#636efa",
          "dash": "solid"
         },
         "marker": {
          "symbol": "circle"
         },
         "mode": "lines",
         "name": "F1 xglm-564M top_logprobs",
         "r": [
          0.426739275836449,
          0.471614332001778,
          0.226233459095904,
          0.400263388963048,
          0.0442613217553063,
          0.236503112818902,
          0.122186382840429,
          0.232275484103545,
          0.429608739437302,
          0.185934658632027,
          0.211080923597509,
          0.0859041835357625,
          0.244368664292351,
          0.201585305751972,
          0.105714298140436,
          0.241863971796377,
          0.201610157767793,
          0.341177439460052,
          0.390555945177794,
          0.198945317299868,
          0.145733386904864,
          0.341095262963943,
          0.183565537014245,
          0.124545047928927,
          0.0281870595771941,
          0.214328516883561,
          0.193539935328256,
          0.273849848591073,
          0.0810295076611192,
          0.204605120993195,
          0.444959536066835,
          0.426739275836449
         ],
         "showlegend": true,
         "subplot": "polar",
         "theta": [
          "Awadhi",
          "Bali",
          "Bemba",
          "Bugis",
          "Central Kurdish",
          "Jula",
          "Fon",
          "Nigerian Fulfulde",
          "Haitian Creole",
          "Jingpho",
          "Kamba",
          "Kabiyè",
          "Kimbundu",
          "Northern Kurdish",
          "Yerwa Kanuri",
          "Yerwa Kanuri",
          "Luba-Lulua",
          "Mizo",
          "Magahi",
          "Moore",
          "Nuer",
          "Dari",
          "Rundi",
          "Shan",
          "Sinhala",
          "Slovene",
          "Southern Sotho",
          "Tamasheq",
          "Tamasheq",
          "Umbundu",
          "Waray-Waray",
          "Awadhi"
         ],
         "type": "scatterpolar"
        },
        {
         "hovertemplate": "Model=F1 xglm-1.7B top_logprobs<br>F1 Score=%{r}<br>Language Name=%{theta}<extra></extra>",
         "legendgroup": "F1 xglm-1.7B top_logprobs",
         "line": {
          "color": "#EF553B",
          "dash": "solid"
         },
         "marker": {
          "symbol": "circle"
         },
         "mode": "lines",
         "name": "F1 xglm-1.7B top_logprobs",
         "r": [
          0.621002920942388,
          0.500443115099147,
          0.268302779958545,
          0.422104037395969,
          0.135866270541857,
          0.296336158883656,
          0.152752476530373,
          0.272547278257597,
          0.365299808206841,
          0.28533797667239,
          0.291306125022074,
          0.222025212600764,
          0.233470973330888,
          0.322592737254391,
          0.112343496833112,
          0.315881817677523,
          0.276135812272373,
          0.378112834689159,
          0.610894572272294,
          0.313255414955162,
          0.15039447602916,
          0.486666459756674,
          0.267831433245089,
          0.142081314131004,
          0.104506485561485,
          0.306396514815364,
          0.280037831835067,
          0.271528021528021,
          0.099560336955295,
          0.229641206038611,
          0.391210059781488,
          0.621002920942388
         ],
         "showlegend": true,
         "subplot": "polar",
         "theta": [
          "Awadhi",
          "Bali",
          "Bemba",
          "Bugis",
          "Central Kurdish",
          "Jula",
          "Fon",
          "Nigerian Fulfulde",
          "Haitian Creole",
          "Jingpho",
          "Kamba",
          "Kabiyè",
          "Kimbundu",
          "Northern Kurdish",
          "Yerwa Kanuri",
          "Yerwa Kanuri",
          "Luba-Lulua",
          "Mizo",
          "Magahi",
          "Moore",
          "Nuer",
          "Dari",
          "Rundi",
          "Shan",
          "Sinhala",
          "Slovene",
          "Southern Sotho",
          "Tamasheq",
          "Tamasheq",
          "Umbundu",
          "Waray-Waray",
          "Awadhi"
         ],
         "type": "scatterpolar"
        },
        {
         "hovertemplate": "Model=F1 xglm-2.9B top_logprobs<br>F1 Score=%{r}<br>Language Name=%{theta}<extra></extra>",
         "legendgroup": "F1 xglm-2.9B top_logprobs",
         "line": {
          "color": "#00cc96",
          "dash": "solid"
         },
         "marker": {
          "symbol": "circle"
         },
         "mode": "lines",
         "name": "F1 xglm-2.9B top_logprobs",
         "r": [
          0.620223145232871,
          0.488540697327345,
          0.277923332957613,
          0.433638850729068,
          0.13605128606912,
          0.260636427410305,
          0.18724061616164,
          0.276479880628487,
          0.506610506610507,
          0.230988208532535,
          0.267588141076209,
          0.159576629384352,
          0.191322497168629,
          0.292618269050993,
          0.138683590845245,
          0.251102197388645,
          0.219994458037936,
          0.445838756809299,
          0.607096444546318,
          0.234255297912689,
          0.161687028144546,
          0.501435486445845,
          0.202041411682323,
          0.214007967838613,
          0.079228887704917,
          0.32403825684078,
          0.236656839095863,
          0.291431187859759,
          0.0885093692649474,
          0.198889868076942,
          0.478028547487803,
          0.620223145232871
         ],
         "showlegend": true,
         "subplot": "polar",
         "theta": [
          "Awadhi",
          "Bali",
          "Bemba",
          "Bugis",
          "Central Kurdish",
          "Jula",
          "Fon",
          "Nigerian Fulfulde",
          "Haitian Creole",
          "Jingpho",
          "Kamba",
          "Kabiyè",
          "Kimbundu",
          "Northern Kurdish",
          "Yerwa Kanuri",
          "Yerwa Kanuri",
          "Luba-Lulua",
          "Mizo",
          "Magahi",
          "Moore",
          "Nuer",
          "Dari",
          "Rundi",
          "Shan",
          "Sinhala",
          "Slovene",
          "Southern Sotho",
          "Tamasheq",
          "Tamasheq",
          "Umbundu",
          "Waray-Waray",
          "Awadhi"
         ],
         "type": "scatterpolar"
        },
        {
         "hovertemplate": "Model=F1 xglm-7.5B top_logprobs<br>F1 Score=%{r}<br>Language Name=%{theta}<extra></extra>",
         "legendgroup": "F1 xglm-7.5B top_logprobs",
         "line": {
          "color": "#ab63fa",
          "dash": "solid"
         },
         "marker": {
          "symbol": "circle"
         },
         "mode": "lines",
         "name": "F1 xglm-7.5B top_logprobs",
         "r": [
          0.637255567129563,
          0.477215424701019,
          0.215470665109955,
          0.447099529651504,
          0.202036778494121,
          0.320281608839961,
          0.217560394078296,
          0.267738188895689,
          0.484624242518979,
          0.290933424206719,
          0.344985742843619,
          0.166170634920635,
          0.2681359109136,
          0.275933865832149,
          0.117868836957397,
          0.268315085059816,
          0.23850503824368,
          0.391704859251315,
          0.666728289645253,
          0.261324947117297,
          0.137225299426342,
          0.513710846976153,
          0.270947747978828,
          0.243233433196002,
          0.115557519961387,
          0.209629717779123,
          0.271385119053778,
          0.304248222503301,
          0.152546005578065,
          0.286482781219623,
          0.438056169479999,
          0.637255567129563
         ],
         "showlegend": true,
         "subplot": "polar",
         "theta": [
          "Awadhi",
          "Bali",
          "Bemba",
          "Bugis",
          "Central Kurdish",
          "Jula",
          "Fon",
          "Nigerian Fulfulde",
          "Haitian Creole",
          "Jingpho",
          "Kamba",
          "Kabiyè",
          "Kimbundu",
          "Northern Kurdish",
          "Yerwa Kanuri",
          "Yerwa Kanuri",
          "Luba-Lulua",
          "Mizo",
          "Magahi",
          "Moore",
          "Nuer",
          "Dari",
          "Rundi",
          "Shan",
          "Sinhala",
          "Slovene",
          "Southern Sotho",
          "Tamasheq",
          "Tamasheq",
          "Umbundu",
          "Waray-Waray",
          "Awadhi"
         ],
         "type": "scatterpolar"
        }
       ],
       "layout": {
        "template": {
         "data": {
          "histogram2dcontour": [
           {
            "type": "histogram2dcontour",
            "colorbar": {
             "outlinewidth": 0,
             "ticks": ""
            },
            "colorscale": [
             [
              0.0,
              "#0d0887"
             ],
             [
              0.1111111111111111,
              "#46039f"
             ],
             [
              0.2222222222222222,
              "#7201a8"
             ],
             [
              0.3333333333333333,
              "#9c179e"
             ],
             [
              0.4444444444444444,
              "#bd3786"
             ],
             [
              0.5555555555555556,
              "#d8576b"
             ],
             [
              0.6666666666666666,
              "#ed7953"
             ],
             [
              0.7777777777777778,
              "#fb9f3a"
             ],
             [
              0.8888888888888888,
              "#fdca26"
             ],
             [
              1.0,
              "#f0f921"
             ]
            ]
           }
          ],
          "choropleth": [
           {
            "type": "choropleth",
            "colorbar": {
             "outlinewidth": 0,
             "ticks": ""
            }
           }
          ],
          "histogram2d": [
           {
            "type": "histogram2d",
            "colorbar": {
             "outlinewidth": 0,
             "ticks": ""
            },
            "colorscale": [
             [
              0.0,
              "#0d0887"
             ],
             [
              0.1111111111111111,
              "#46039f"
             ],
             [
              0.2222222222222222,
              "#7201a8"
             ],
             [
              0.3333333333333333,
              "#9c179e"
             ],
             [
              0.4444444444444444,
              "#bd3786"
             ],
             [
              0.5555555555555556,
              "#d8576b"
             ],
             [
              0.6666666666666666,
              "#ed7953"
             ],
             [
              0.7777777777777778,
              "#fb9f3a"
             ],
             [
              0.8888888888888888,
              "#fdca26"
             ],
             [
              1.0,
              "#f0f921"
             ]
            ]
           }
          ],
          "heatmap": [
           {
            "type": "heatmap",
            "colorbar": {
             "outlinewidth": 0,
             "ticks": ""
            },
            "colorscale": [
             [
              0.0,
              "#0d0887"
             ],
             [
              0.1111111111111111,
              "#46039f"
             ],
             [
              0.2222222222222222,
              "#7201a8"
             ],
             [
              0.3333333333333333,
              "#9c179e"
             ],
             [
              0.4444444444444444,
              "#bd3786"
             ],
             [
              0.5555555555555556,
              "#d8576b"
             ],
             [
              0.6666666666666666,
              "#ed7953"
             ],
             [
              0.7777777777777778,
              "#fb9f3a"
             ],
             [
              0.8888888888888888,
              "#fdca26"
             ],
             [
              1.0,
              "#f0f921"
             ]
            ]
           }
          ],
          "heatmapgl": [
           {
            "type": "heatmapgl",
            "colorbar": {
             "outlinewidth": 0,
             "ticks": ""
            },
            "colorscale": [
             [
              0.0,
              "#0d0887"
             ],
             [
              0.1111111111111111,
              "#46039f"
             ],
             [
              0.2222222222222222,
              "#7201a8"
             ],
             [
              0.3333333333333333,
              "#9c179e"
             ],
             [
              0.4444444444444444,
              "#bd3786"
             ],
             [
              0.5555555555555556,
              "#d8576b"
             ],
             [
              0.6666666666666666,
              "#ed7953"
             ],
             [
              0.7777777777777778,
              "#fb9f3a"
             ],
             [
              0.8888888888888888,
              "#fdca26"
             ],
             [
              1.0,
              "#f0f921"
             ]
            ]
           }
          ],
          "contourcarpet": [
           {
            "type": "contourcarpet",
            "colorbar": {
             "outlinewidth": 0,
             "ticks": ""
            }
           }
          ],
          "contour": [
           {
            "type": "contour",
            "colorbar": {
             "outlinewidth": 0,
             "ticks": ""
            },
            "colorscale": [
             [
              0.0,
              "#0d0887"
             ],
             [
              0.1111111111111111,
              "#46039f"
             ],
             [
              0.2222222222222222,
              "#7201a8"
             ],
             [
              0.3333333333333333,
              "#9c179e"
             ],
             [
              0.4444444444444444,
              "#bd3786"
             ],
             [
              0.5555555555555556,
              "#d8576b"
             ],
             [
              0.6666666666666666,
              "#ed7953"
             ],
             [
              0.7777777777777778,
              "#fb9f3a"
             ],
             [
              0.8888888888888888,
              "#fdca26"
             ],
             [
              1.0,
              "#f0f921"
             ]
            ]
           }
          ],
          "surface": [
           {
            "type": "surface",
            "colorbar": {
             "outlinewidth": 0,
             "ticks": ""
            },
            "colorscale": [
             [
              0.0,
              "#0d0887"
             ],
             [
              0.1111111111111111,
              "#46039f"
             ],
             [
              0.2222222222222222,
              "#7201a8"
             ],
             [
              0.3333333333333333,
              "#9c179e"
             ],
             [
              0.4444444444444444,
              "#bd3786"
             ],
             [
              0.5555555555555556,
              "#d8576b"
             ],
             [
              0.6666666666666666,
              "#ed7953"
             ],
             [
              0.7777777777777778,
              "#fb9f3a"
             ],
             [
              0.8888888888888888,
              "#fdca26"
             ],
             [
              1.0,
              "#f0f921"
             ]
            ]
           }
          ],
          "mesh3d": [
           {
            "type": "mesh3d",
            "colorbar": {
             "outlinewidth": 0,
             "ticks": ""
            }
           }
          ],
          "scatter": [
           {
            "fillpattern": {
             "fillmode": "overlay",
             "size": 10,
             "solidity": 0.2
            },
            "type": "scatter"
           }
          ],
          "parcoords": [
           {
            "type": "parcoords",
            "line": {
             "colorbar": {
              "outlinewidth": 0,
              "ticks": ""
             }
            }
           }
          ],
          "scatterpolargl": [
           {
            "type": "scatterpolargl",
            "marker": {
             "colorbar": {
              "outlinewidth": 0,
              "ticks": ""
             }
            }
           }
          ],
          "bar": [
           {
            "error_x": {
             "color": "#2a3f5f"
            },
            "error_y": {
             "color": "#2a3f5f"
            },
            "marker": {
             "line": {
              "color": "#E5ECF6",
              "width": 0.5
             },
             "pattern": {
              "fillmode": "overlay",
              "size": 10,
              "solidity": 0.2
             }
            },
            "type": "bar"
           }
          ],
          "scattergeo": [
           {
            "type": "scattergeo",
            "marker": {
             "colorbar": {
              "outlinewidth": 0,
              "ticks": ""
             }
            }
           }
          ],
          "scatterpolar": [
           {
            "type": "scatterpolar",
            "marker": {
             "colorbar": {
              "outlinewidth": 0,
              "ticks": ""
             }
            }
           }
          ],
          "histogram": [
           {
            "marker": {
             "pattern": {
              "fillmode": "overlay",
              "size": 10,
              "solidity": 0.2
             }
            },
            "type": "histogram"
           }
          ],
          "scattergl": [
           {
            "type": "scattergl",
            "marker": {
             "colorbar": {
              "outlinewidth": 0,
              "ticks": ""
             }
            }
           }
          ],
          "scatter3d": [
           {
            "type": "scatter3d",
            "line": {
             "colorbar": {
              "outlinewidth": 0,
              "ticks": ""
             }
            },
            "marker": {
             "colorbar": {
              "outlinewidth": 0,
              "ticks": ""
             }
            }
           }
          ],
          "scattermapbox": [
           {
            "type": "scattermapbox",
            "marker": {
             "colorbar": {
              "outlinewidth": 0,
              "ticks": ""
             }
            }
           }
          ],
          "scatterternary": [
           {
            "type": "scatterternary",
            "marker": {
             "colorbar": {
              "outlinewidth": 0,
              "ticks": ""
             }
            }
           }
          ],
          "scattercarpet": [
           {
            "type": "scattercarpet",
            "marker": {
             "colorbar": {
              "outlinewidth": 0,
              "ticks": ""
             }
            }
           }
          ],
          "carpet": [
           {
            "aaxis": {
             "endlinecolor": "#2a3f5f",
             "gridcolor": "white",
             "linecolor": "white",
             "minorgridcolor": "white",
             "startlinecolor": "#2a3f5f"
            },
            "baxis": {
             "endlinecolor": "#2a3f5f",
             "gridcolor": "white",
             "linecolor": "white",
             "minorgridcolor": "white",
             "startlinecolor": "#2a3f5f"
            },
            "type": "carpet"
           }
          ],
          "table": [
           {
            "cells": {
             "fill": {
              "color": "#EBF0F8"
             },
             "line": {
              "color": "white"
             }
            },
            "header": {
             "fill": {
              "color": "#C8D4E3"
             },
             "line": {
              "color": "white"
             }
            },
            "type": "table"
           }
          ],
          "barpolar": [
           {
            "marker": {
             "line": {
              "color": "#E5ECF6",
              "width": 0.5
             },
             "pattern": {
              "fillmode": "overlay",
              "size": 10,
              "solidity": 0.2
             }
            },
            "type": "barpolar"
           }
          ],
          "pie": [
           {
            "automargin": true,
            "type": "pie"
           }
          ]
         },
         "layout": {
          "autotypenumbers": "strict",
          "colorway": [
           "#636efa",
           "#EF553B",
           "#00cc96",
           "#ab63fa",
           "#FFA15A",
           "#19d3f3",
           "#FF6692",
           "#B6E880",
           "#FF97FF",
           "#FECB52"
          ],
          "font": {
           "color": "#2a3f5f"
          },
          "hovermode": "closest",
          "hoverlabel": {
           "align": "left"
          },
          "paper_bgcolor": "white",
          "plot_bgcolor": "#E5ECF6",
          "polar": {
           "bgcolor": "#E5ECF6",
           "angularaxis": {
            "gridcolor": "white",
            "linecolor": "white",
            "ticks": ""
           },
           "radialaxis": {
            "gridcolor": "white",
            "linecolor": "white",
            "ticks": ""
           }
          },
          "ternary": {
           "bgcolor": "#E5ECF6",
           "aaxis": {
            "gridcolor": "white",
            "linecolor": "white",
            "ticks": ""
           },
           "baxis": {
            "gridcolor": "white",
            "linecolor": "white",
            "ticks": ""
           },
           "caxis": {
            "gridcolor": "white",
            "linecolor": "white",
            "ticks": ""
           }
          },
          "coloraxis": {
           "colorbar": {
            "outlinewidth": 0,
            "ticks": ""
           }
          },
          "colorscale": {
           "sequential": [
            [
             0.0,
             "#0d0887"
            ],
            [
             0.1111111111111111,
             "#46039f"
            ],
            [
             0.2222222222222222,
             "#7201a8"
            ],
            [
             0.3333333333333333,
             "#9c179e"
            ],
            [
             0.4444444444444444,
             "#bd3786"
            ],
            [
             0.5555555555555556,
             "#d8576b"
            ],
            [
             0.6666666666666666,
             "#ed7953"
            ],
            [
             0.7777777777777778,
             "#fb9f3a"
            ],
            [
             0.8888888888888888,
             "#fdca26"
            ],
            [
             1.0,
             "#f0f921"
            ]
           ],
           "sequentialminus": [
            [
             0.0,
             "#0d0887"
            ],
            [
             0.1111111111111111,
             "#46039f"
            ],
            [
             0.2222222222222222,
             "#7201a8"
            ],
            [
             0.3333333333333333,
             "#9c179e"
            ],
            [
             0.4444444444444444,
             "#bd3786"
            ],
            [
             0.5555555555555556,
             "#d8576b"
            ],
            [
             0.6666666666666666,
             "#ed7953"
            ],
            [
             0.7777777777777778,
             "#fb9f3a"
            ],
            [
             0.8888888888888888,
             "#fdca26"
            ],
            [
             1.0,
             "#f0f921"
            ]
           ],
           "diverging": [
            [
             0,
             "#8e0152"
            ],
            [
             0.1,
             "#c51b7d"
            ],
            [
             0.2,
             "#de77ae"
            ],
            [
             0.3,
             "#f1b6da"
            ],
            [
             0.4,
             "#fde0ef"
            ],
            [
             0.5,
             "#f7f7f7"
            ],
            [
             0.6,
             "#e6f5d0"
            ],
            [
             0.7,
             "#b8e186"
            ],
            [
             0.8,
             "#7fbc41"
            ],
            [
             0.9,
             "#4d9221"
            ],
            [
             1,
             "#276419"
            ]
           ]
          },
          "xaxis": {
           "gridcolor": "white",
           "linecolor": "white",
           "ticks": "",
           "title": {
            "standoff": 15
           },
           "zerolinecolor": "white",
           "automargin": true,
           "zerolinewidth": 2
          },
          "yaxis": {
           "gridcolor": "white",
           "linecolor": "white",
           "ticks": "",
           "title": {
            "standoff": 15
           },
           "zerolinecolor": "white",
           "automargin": true,
           "zerolinewidth": 2
          },
          "scene": {
           "xaxis": {
            "backgroundcolor": "#E5ECF6",
            "gridcolor": "white",
            "linecolor": "white",
            "showbackground": true,
            "ticks": "",
            "zerolinecolor": "white",
            "gridwidth": 2
           },
           "yaxis": {
            "backgroundcolor": "#E5ECF6",
            "gridcolor": "white",
            "linecolor": "white",
            "showbackground": true,
            "ticks": "",
            "zerolinecolor": "white",
            "gridwidth": 2
           },
           "zaxis": {
            "backgroundcolor": "#E5ECF6",
            "gridcolor": "white",
            "linecolor": "white",
            "showbackground": true,
            "ticks": "",
            "zerolinecolor": "white",
            "gridwidth": 2
           }
          },
          "shapedefaults": {
           "line": {
            "color": "#2a3f5f"
           }
          },
          "annotationdefaults": {
           "arrowcolor": "#2a3f5f",
           "arrowhead": 0,
           "arrowwidth": 1
          },
          "geo": {
           "bgcolor": "white",
           "landcolor": "#E5ECF6",
           "subunitcolor": "white",
           "showland": true,
           "showlakes": true,
           "lakecolor": "white"
          },
          "title": {
           "x": 0.05
          },
          "mapbox": {
           "style": "light"
          }
         }
        },
        "polar": {
         "domain": {
          "x": [
           0.0,
           1.0
          ],
          "y": [
           0.0,
           1.0
          ]
         },
         "angularaxis": {
          "direction": "clockwise",
          "rotation": 90
         }
        },
        "legend": {
         "title": {
          "text": "Model"
         },
         "tracegroupgap": 0
        },
        "title": {
         "text": "Radar Chart for F1 Scores for XGLM (Resource Level = 0, Only Bloomz = False, Only Bloom = False, Only XGLM = False)"
        },
        "height": 600,
        "width": 800
       },
       "config": {
        "plotlyServerURL": "https://plot.ly"
       }
      }
     },
     "metadata": {},
     "output_type": "display_data"
    },
    {
     "data": {
      "application/vnd.plotly.v1+json": {
       "data": [
        {
         "hovertemplate": "Model=F1 xglm-564M top_logprobs<br>F1 Score=%{r}<br>Language Name=%{theta}<extra></extra>",
         "legendgroup": "F1 xglm-564M top_logprobs",
         "line": {
          "color": "#636efa",
          "dash": "solid"
         },
         "marker": {
          "symbol": "circle"
         },
         "mode": "lines",
         "name": "F1 xglm-564M top_logprobs",
         "r": [
          0.474417412579155,
          0.228293462230653,
          0.4536423375431,
          0.412608742471637,
          0.369632546103134,
          0.216498953876312,
          0.168175135741706,
          0.337422809414147,
          0.344336172390684,
          0.253253164782973,
          0.391000800760348,
          0.206975017319845,
          0.334744832632157,
          0.336368847341698,
          0.235023845532929,
          0.259275308296835,
          0.442782481921208,
          0.418842253493217,
          0.474417412579155
         ],
         "showlegend": true,
         "subplot": "polar",
         "theta": [
          "Catalan",
          "Czech",
          "Euskera",
          "Finnish",
          "Hindi",
          "Croatian",
          "Hungarian",
          "Italian",
          "Korean",
          "Dutch",
          "Iranian Persian",
          "Polish",
          "Portuguese",
          "Russian",
          "Serbian",
          "Swedish",
          "Turkish",
          "Vietnamese",
          "Catalan"
         ],
         "type": "scatterpolar"
        },
        {
         "hovertemplate": "Model=F1 xglm-1.7B top_logprobs<br>F1 Score=%{r}<br>Language Name=%{theta}<extra></extra>",
         "legendgroup": "F1 xglm-1.7B top_logprobs",
         "line": {
          "color": "#EF553B",
          "dash": "solid"
         },
         "marker": {
          "symbol": "circle"
         },
         "mode": "lines",
         "name": "F1 xglm-1.7B top_logprobs",
         "r": [
          0.431326437434812,
          0.354895001661806,
          0.588018566654006,
          0.669170869224021,
          0.543526119841586,
          0.389516732475026,
          0.252242284043526,
          0.366015673131423,
          0.582439967973859,
          0.364813152855757,
          0.46667736665144,
          0.260314364174842,
          0.333482954585343,
          0.524516067668864,
          0.443642950982872,
          0.370270473123738,
          0.644096663049102,
          0.589010617463857,
          0.431326437434812
         ],
         "showlegend": true,
         "subplot": "polar",
         "theta": [
          "Catalan",
          "Czech",
          "Euskera",
          "Finnish",
          "Hindi",
          "Croatian",
          "Hungarian",
          "Italian",
          "Korean",
          "Dutch",
          "Iranian Persian",
          "Polish",
          "Portuguese",
          "Russian",
          "Serbian",
          "Swedish",
          "Turkish",
          "Vietnamese",
          "Catalan"
         ],
         "type": "scatterpolar"
        },
        {
         "hovertemplate": "Model=F1 xglm-2.9B top_logprobs<br>F1 Score=%{r}<br>Language Name=%{theta}<extra></extra>",
         "legendgroup": "F1 xglm-2.9B top_logprobs",
         "line": {
          "color": "#00cc96",
          "dash": "solid"
         },
         "marker": {
          "symbol": "circle"
         },
         "mode": "lines",
         "name": "F1 xglm-2.9B top_logprobs",
         "r": [
          0.359067147874217,
          0.266233766233766,
          0.477762345941727,
          0.442599834308206,
          0.536331899241991,
          0.330099133670562,
          0.263589268105033,
          0.399855895874553,
          0.435307789177377,
          0.325623633476095,
          0.489332501370749,
          0.187726655973594,
          0.436477347537255,
          0.591667937498448,
          0.470656285111715,
          0.337325055097217,
          0.510108150169351,
          0.431970392103283,
          0.359067147874217
         ],
         "showlegend": true,
         "subplot": "polar",
         "theta": [
          "Catalan",
          "Czech",
          "Euskera",
          "Finnish",
          "Hindi",
          "Croatian",
          "Hungarian",
          "Italian",
          "Korean",
          "Dutch",
          "Iranian Persian",
          "Polish",
          "Portuguese",
          "Russian",
          "Serbian",
          "Swedish",
          "Turkish",
          "Vietnamese",
          "Catalan"
         ],
         "type": "scatterpolar"
        },
        {
         "hovertemplate": "Model=F1 xglm-7.5B top_logprobs<br>F1 Score=%{r}<br>Language Name=%{theta}<extra></extra>",
         "legendgroup": "F1 xglm-7.5B top_logprobs",
         "line": {
          "color": "#ab63fa",
          "dash": "solid"
         },
         "marker": {
          "symbol": "circle"
         },
         "mode": "lines",
         "name": "F1 xglm-7.5B top_logprobs",
         "r": [
          0.599835480709251,
          0.239643307832631,
          0.597509825724902,
          0.540056791252651,
          0.589809995144303,
          0.215195887505225,
          0.187272383700955,
          0.42067284374596,
          0.452327737621855,
          0.184135079531433,
          0.542465799975706,
          0.15446854732569,
          0.408795844140491,
          0.609508673990255,
          0.377447197036148,
          0.38035228470394,
          0.593802162425769,
          0.630737036977415,
          0.599835480709251
         ],
         "showlegend": true,
         "subplot": "polar",
         "theta": [
          "Catalan",
          "Czech",
          "Euskera",
          "Finnish",
          "Hindi",
          "Croatian",
          "Hungarian",
          "Italian",
          "Korean",
          "Dutch",
          "Iranian Persian",
          "Polish",
          "Portuguese",
          "Russian",
          "Serbian",
          "Swedish",
          "Turkish",
          "Vietnamese",
          "Catalan"
         ],
         "type": "scatterpolar"
        }
       ],
       "layout": {
        "template": {
         "data": {
          "histogram2dcontour": [
           {
            "type": "histogram2dcontour",
            "colorbar": {
             "outlinewidth": 0,
             "ticks": ""
            },
            "colorscale": [
             [
              0.0,
              "#0d0887"
             ],
             [
              0.1111111111111111,
              "#46039f"
             ],
             [
              0.2222222222222222,
              "#7201a8"
             ],
             [
              0.3333333333333333,
              "#9c179e"
             ],
             [
              0.4444444444444444,
              "#bd3786"
             ],
             [
              0.5555555555555556,
              "#d8576b"
             ],
             [
              0.6666666666666666,
              "#ed7953"
             ],
             [
              0.7777777777777778,
              "#fb9f3a"
             ],
             [
              0.8888888888888888,
              "#fdca26"
             ],
             [
              1.0,
              "#f0f921"
             ]
            ]
           }
          ],
          "choropleth": [
           {
            "type": "choropleth",
            "colorbar": {
             "outlinewidth": 0,
             "ticks": ""
            }
           }
          ],
          "histogram2d": [
           {
            "type": "histogram2d",
            "colorbar": {
             "outlinewidth": 0,
             "ticks": ""
            },
            "colorscale": [
             [
              0.0,
              "#0d0887"
             ],
             [
              0.1111111111111111,
              "#46039f"
             ],
             [
              0.2222222222222222,
              "#7201a8"
             ],
             [
              0.3333333333333333,
              "#9c179e"
             ],
             [
              0.4444444444444444,
              "#bd3786"
             ],
             [
              0.5555555555555556,
              "#d8576b"
             ],
             [
              0.6666666666666666,
              "#ed7953"
             ],
             [
              0.7777777777777778,
              "#fb9f3a"
             ],
             [
              0.8888888888888888,
              "#fdca26"
             ],
             [
              1.0,
              "#f0f921"
             ]
            ]
           }
          ],
          "heatmap": [
           {
            "type": "heatmap",
            "colorbar": {
             "outlinewidth": 0,
             "ticks": ""
            },
            "colorscale": [
             [
              0.0,
              "#0d0887"
             ],
             [
              0.1111111111111111,
              "#46039f"
             ],
             [
              0.2222222222222222,
              "#7201a8"
             ],
             [
              0.3333333333333333,
              "#9c179e"
             ],
             [
              0.4444444444444444,
              "#bd3786"
             ],
             [
              0.5555555555555556,
              "#d8576b"
             ],
             [
              0.6666666666666666,
              "#ed7953"
             ],
             [
              0.7777777777777778,
              "#fb9f3a"
             ],
             [
              0.8888888888888888,
              "#fdca26"
             ],
             [
              1.0,
              "#f0f921"
             ]
            ]
           }
          ],
          "heatmapgl": [
           {
            "type": "heatmapgl",
            "colorbar": {
             "outlinewidth": 0,
             "ticks": ""
            },
            "colorscale": [
             [
              0.0,
              "#0d0887"
             ],
             [
              0.1111111111111111,
              "#46039f"
             ],
             [
              0.2222222222222222,
              "#7201a8"
             ],
             [
              0.3333333333333333,
              "#9c179e"
             ],
             [
              0.4444444444444444,
              "#bd3786"
             ],
             [
              0.5555555555555556,
              "#d8576b"
             ],
             [
              0.6666666666666666,
              "#ed7953"
             ],
             [
              0.7777777777777778,
              "#fb9f3a"
             ],
             [
              0.8888888888888888,
              "#fdca26"
             ],
             [
              1.0,
              "#f0f921"
             ]
            ]
           }
          ],
          "contourcarpet": [
           {
            "type": "contourcarpet",
            "colorbar": {
             "outlinewidth": 0,
             "ticks": ""
            }
           }
          ],
          "contour": [
           {
            "type": "contour",
            "colorbar": {
             "outlinewidth": 0,
             "ticks": ""
            },
            "colorscale": [
             [
              0.0,
              "#0d0887"
             ],
             [
              0.1111111111111111,
              "#46039f"
             ],
             [
              0.2222222222222222,
              "#7201a8"
             ],
             [
              0.3333333333333333,
              "#9c179e"
             ],
             [
              0.4444444444444444,
              "#bd3786"
             ],
             [
              0.5555555555555556,
              "#d8576b"
             ],
             [
              0.6666666666666666,
              "#ed7953"
             ],
             [
              0.7777777777777778,
              "#fb9f3a"
             ],
             [
              0.8888888888888888,
              "#fdca26"
             ],
             [
              1.0,
              "#f0f921"
             ]
            ]
           }
          ],
          "surface": [
           {
            "type": "surface",
            "colorbar": {
             "outlinewidth": 0,
             "ticks": ""
            },
            "colorscale": [
             [
              0.0,
              "#0d0887"
             ],
             [
              0.1111111111111111,
              "#46039f"
             ],
             [
              0.2222222222222222,
              "#7201a8"
             ],
             [
              0.3333333333333333,
              "#9c179e"
             ],
             [
              0.4444444444444444,
              "#bd3786"
             ],
             [
              0.5555555555555556,
              "#d8576b"
             ],
             [
              0.6666666666666666,
              "#ed7953"
             ],
             [
              0.7777777777777778,
              "#fb9f3a"
             ],
             [
              0.8888888888888888,
              "#fdca26"
             ],
             [
              1.0,
              "#f0f921"
             ]
            ]
           }
          ],
          "mesh3d": [
           {
            "type": "mesh3d",
            "colorbar": {
             "outlinewidth": 0,
             "ticks": ""
            }
           }
          ],
          "scatter": [
           {
            "fillpattern": {
             "fillmode": "overlay",
             "size": 10,
             "solidity": 0.2
            },
            "type": "scatter"
           }
          ],
          "parcoords": [
           {
            "type": "parcoords",
            "line": {
             "colorbar": {
              "outlinewidth": 0,
              "ticks": ""
             }
            }
           }
          ],
          "scatterpolargl": [
           {
            "type": "scatterpolargl",
            "marker": {
             "colorbar": {
              "outlinewidth": 0,
              "ticks": ""
             }
            }
           }
          ],
          "bar": [
           {
            "error_x": {
             "color": "#2a3f5f"
            },
            "error_y": {
             "color": "#2a3f5f"
            },
            "marker": {
             "line": {
              "color": "#E5ECF6",
              "width": 0.5
             },
             "pattern": {
              "fillmode": "overlay",
              "size": 10,
              "solidity": 0.2
             }
            },
            "type": "bar"
           }
          ],
          "scattergeo": [
           {
            "type": "scattergeo",
            "marker": {
             "colorbar": {
              "outlinewidth": 0,
              "ticks": ""
             }
            }
           }
          ],
          "scatterpolar": [
           {
            "type": "scatterpolar",
            "marker": {
             "colorbar": {
              "outlinewidth": 0,
              "ticks": ""
             }
            }
           }
          ],
          "histogram": [
           {
            "marker": {
             "pattern": {
              "fillmode": "overlay",
              "size": 10,
              "solidity": 0.2
             }
            },
            "type": "histogram"
           }
          ],
          "scattergl": [
           {
            "type": "scattergl",
            "marker": {
             "colorbar": {
              "outlinewidth": 0,
              "ticks": ""
             }
            }
           }
          ],
          "scatter3d": [
           {
            "type": "scatter3d",
            "line": {
             "colorbar": {
              "outlinewidth": 0,
              "ticks": ""
             }
            },
            "marker": {
             "colorbar": {
              "outlinewidth": 0,
              "ticks": ""
             }
            }
           }
          ],
          "scattermapbox": [
           {
            "type": "scattermapbox",
            "marker": {
             "colorbar": {
              "outlinewidth": 0,
              "ticks": ""
             }
            }
           }
          ],
          "scatterternary": [
           {
            "type": "scatterternary",
            "marker": {
             "colorbar": {
              "outlinewidth": 0,
              "ticks": ""
             }
            }
           }
          ],
          "scattercarpet": [
           {
            "type": "scattercarpet",
            "marker": {
             "colorbar": {
              "outlinewidth": 0,
              "ticks": ""
             }
            }
           }
          ],
          "carpet": [
           {
            "aaxis": {
             "endlinecolor": "#2a3f5f",
             "gridcolor": "white",
             "linecolor": "white",
             "minorgridcolor": "white",
             "startlinecolor": "#2a3f5f"
            },
            "baxis": {
             "endlinecolor": "#2a3f5f",
             "gridcolor": "white",
             "linecolor": "white",
             "minorgridcolor": "white",
             "startlinecolor": "#2a3f5f"
            },
            "type": "carpet"
           }
          ],
          "table": [
           {
            "cells": {
             "fill": {
              "color": "#EBF0F8"
             },
             "line": {
              "color": "white"
             }
            },
            "header": {
             "fill": {
              "color": "#C8D4E3"
             },
             "line": {
              "color": "white"
             }
            },
            "type": "table"
           }
          ],
          "barpolar": [
           {
            "marker": {
             "line": {
              "color": "#E5ECF6",
              "width": 0.5
             },
             "pattern": {
              "fillmode": "overlay",
              "size": 10,
              "solidity": 0.2
             }
            },
            "type": "barpolar"
           }
          ],
          "pie": [
           {
            "automargin": true,
            "type": "pie"
           }
          ]
         },
         "layout": {
          "autotypenumbers": "strict",
          "colorway": [
           "#636efa",
           "#EF553B",
           "#00cc96",
           "#ab63fa",
           "#FFA15A",
           "#19d3f3",
           "#FF6692",
           "#B6E880",
           "#FF97FF",
           "#FECB52"
          ],
          "font": {
           "color": "#2a3f5f"
          },
          "hovermode": "closest",
          "hoverlabel": {
           "align": "left"
          },
          "paper_bgcolor": "white",
          "plot_bgcolor": "#E5ECF6",
          "polar": {
           "bgcolor": "#E5ECF6",
           "angularaxis": {
            "gridcolor": "white",
            "linecolor": "white",
            "ticks": ""
           },
           "radialaxis": {
            "gridcolor": "white",
            "linecolor": "white",
            "ticks": ""
           }
          },
          "ternary": {
           "bgcolor": "#E5ECF6",
           "aaxis": {
            "gridcolor": "white",
            "linecolor": "white",
            "ticks": ""
           },
           "baxis": {
            "gridcolor": "white",
            "linecolor": "white",
            "ticks": ""
           },
           "caxis": {
            "gridcolor": "white",
            "linecolor": "white",
            "ticks": ""
           }
          },
          "coloraxis": {
           "colorbar": {
            "outlinewidth": 0,
            "ticks": ""
           }
          },
          "colorscale": {
           "sequential": [
            [
             0.0,
             "#0d0887"
            ],
            [
             0.1111111111111111,
             "#46039f"
            ],
            [
             0.2222222222222222,
             "#7201a8"
            ],
            [
             0.3333333333333333,
             "#9c179e"
            ],
            [
             0.4444444444444444,
             "#bd3786"
            ],
            [
             0.5555555555555556,
             "#d8576b"
            ],
            [
             0.6666666666666666,
             "#ed7953"
            ],
            [
             0.7777777777777778,
             "#fb9f3a"
            ],
            [
             0.8888888888888888,
             "#fdca26"
            ],
            [
             1.0,
             "#f0f921"
            ]
           ],
           "sequentialminus": [
            [
             0.0,
             "#0d0887"
            ],
            [
             0.1111111111111111,
             "#46039f"
            ],
            [
             0.2222222222222222,
             "#7201a8"
            ],
            [
             0.3333333333333333,
             "#9c179e"
            ],
            [
             0.4444444444444444,
             "#bd3786"
            ],
            [
             0.5555555555555556,
             "#d8576b"
            ],
            [
             0.6666666666666666,
             "#ed7953"
            ],
            [
             0.7777777777777778,
             "#fb9f3a"
            ],
            [
             0.8888888888888888,
             "#fdca26"
            ],
            [
             1.0,
             "#f0f921"
            ]
           ],
           "diverging": [
            [
             0,
             "#8e0152"
            ],
            [
             0.1,
             "#c51b7d"
            ],
            [
             0.2,
             "#de77ae"
            ],
            [
             0.3,
             "#f1b6da"
            ],
            [
             0.4,
             "#fde0ef"
            ],
            [
             0.5,
             "#f7f7f7"
            ],
            [
             0.6,
             "#e6f5d0"
            ],
            [
             0.7,
             "#b8e186"
            ],
            [
             0.8,
             "#7fbc41"
            ],
            [
             0.9,
             "#4d9221"
            ],
            [
             1,
             "#276419"
            ]
           ]
          },
          "xaxis": {
           "gridcolor": "white",
           "linecolor": "white",
           "ticks": "",
           "title": {
            "standoff": 15
           },
           "zerolinecolor": "white",
           "automargin": true,
           "zerolinewidth": 2
          },
          "yaxis": {
           "gridcolor": "white",
           "linecolor": "white",
           "ticks": "",
           "title": {
            "standoff": 15
           },
           "zerolinecolor": "white",
           "automargin": true,
           "zerolinewidth": 2
          },
          "scene": {
           "xaxis": {
            "backgroundcolor": "#E5ECF6",
            "gridcolor": "white",
            "linecolor": "white",
            "showbackground": true,
            "ticks": "",
            "zerolinecolor": "white",
            "gridwidth": 2
           },
           "yaxis": {
            "backgroundcolor": "#E5ECF6",
            "gridcolor": "white",
            "linecolor": "white",
            "showbackground": true,
            "ticks": "",
            "zerolinecolor": "white",
            "gridwidth": 2
           },
           "zaxis": {
            "backgroundcolor": "#E5ECF6",
            "gridcolor": "white",
            "linecolor": "white",
            "showbackground": true,
            "ticks": "",
            "zerolinecolor": "white",
            "gridwidth": 2
           }
          },
          "shapedefaults": {
           "line": {
            "color": "#2a3f5f"
           }
          },
          "annotationdefaults": {
           "arrowcolor": "#2a3f5f",
           "arrowhead": 0,
           "arrowwidth": 1
          },
          "geo": {
           "bgcolor": "white",
           "landcolor": "#E5ECF6",
           "subunitcolor": "white",
           "showland": true,
           "showlakes": true,
           "lakecolor": "white"
          },
          "title": {
           "x": 0.05
          },
          "mapbox": {
           "style": "light"
          }
         }
        },
        "polar": {
         "domain": {
          "x": [
           0.0,
           1.0
          ],
          "y": [
           0.0,
           1.0
          ]
         },
         "angularaxis": {
          "direction": "clockwise",
          "rotation": 90
         }
        },
        "legend": {
         "title": {
          "text": "Model"
         },
         "tracegroupgap": 0
        },
        "title": {
         "text": "Radar Chart for F1 Scores for XGLM (Resource Level = 4, Only Bloomz = False, Only Bloom = False, Only XGLM = False)"
        },
        "height": 600,
        "width": 800
       },
       "config": {
        "plotlyServerURL": "https://plot.ly"
       }
      }
     },
     "metadata": {},
     "output_type": "display_data"
    }
   ],
   "source": [
    "import warnings\n",
    "\n",
    "warnings.filterwarnings('ignore')\n",
    "\n",
    "only_bloomz = False\n",
    "only_bloom = False\n",
    "only_xglm = False\n",
    "\n",
    "# we can filter based on 'Language Family', 'Script (ISO 15924)', 'Resource Level', 'Population', 'Language Vitality', 'Digital Language Support'.\n",
    "model_name = 'XGLM'\n",
    "filter_column = 'Resource Level'\n",
    "value = None\n",
    "\n",
    "if filter_column is None:\n",
    "    generate_polar_plot(melted_df, filter_column, model_name, value, only_bloom, only_bloomz, only_xglm)\n",
    "elif value != None:\n",
    "    generate_polar_plot(melted_df, filter_column, model_name, value, only_bloom, only_bloomz, only_xglm)\n",
    "else:\n",
    "    for value in df[filter_column].unique():\n",
    "        generate_polar_plot(melted_df, filter_column, model_name, value, only_bloom, only_bloomz, only_gxlm)\n"
   ],
   "metadata": {
    "collapsed": false,
    "ExecuteTime": {
     "end_time": "2024-01-29T22:28:42.056820847Z",
     "start_time": "2024-01-29T22:28:41.812307533Z"
    }
   },
   "id": "198e222b413bc0aa",
   "execution_count": 7
  },
  {
   "cell_type": "code",
   "execution_count": 114,
   "id": "addb828027a4abb1",
   "metadata": {
    "collapsed": false,
    "ExecuteTime": {
     "end_time": "2024-01-29T23:48:38.630576032Z",
     "start_time": "2024-01-29T23:48:38.471307122Z"
    }
   },
   "outputs": [
    {
     "data": {
      "application/vnd.plotly.v1+json": {
       "data": [
        {
         "hovertemplate": "<extra></extra>",
         "legendgroup": "",
         "line": {
          "color": "#636efa",
          "dash": "solid"
         },
         "marker": {
          "symbol": "circle"
         },
         "mode": "lines",
         "name": "",
         "orientation": "v",
         "showlegend": false,
         "xaxis": "x",
         "yaxis": "y",
         "type": "scatter"
        },
        {
         "error_y": {
          "array": [
           0.018004196481327468,
           0.009056424251833584,
           0.0318562580376335,
           0.013735255922201012,
           0.023403844402060715
          ]
         },
         "hovertemplate": "<b>%{hovertext}</b><br><br>Num_Params=%{x}<br>F1 Score=%{y}<extra></extra>",
         "hovertext": [
          "Bloom",
          "Bloom",
          "Bloom",
          "Bloom",
          "Bloom"
         ],
         "legendgroup": "",
         "line": {
          "color": "red",
          "dash": "solid"
         },
         "marker": {
          "symbol": "circle"
         },
         "mode": "lines",
         "name": "",
         "orientation": "v",
         "showlegend": false,
         "x": [
          560,
          1100,
          1700,
          3000,
          7100
         ],
         "xaxis": "x",
         "y": [
          0.23406647969944885,
          0.16559455276450216,
          0.19106364430894882,
          0.20547824176140983,
          0.20350361158316294
         ],
         "yaxis": "y",
         "type": "scatter"
        },
        {
         "error_y": {
          "array": [
           0.006625423124345484,
           0.00612528984079205,
           0.004184924413371196,
           0.004055761863852635,
           0.003987778910350595
          ]
         },
         "hovertemplate": "<b>%{hovertext}</b><br><br>Num_Params=%{x}<br>F1 Score=%{y}<extra></extra>",
         "hovertext": [
          "Bloomz",
          "Bloomz",
          "Bloomz",
          "Bloomz",
          "Bloomz"
         ],
         "legendgroup": "",
         "line": {
          "color": "blue",
          "dash": "solid"
         },
         "marker": {
          "symbol": "circle"
         },
         "mode": "lines",
         "name": "",
         "orientation": "v",
         "showlegend": false,
         "x": [
          560,
          1100,
          1700,
          3000,
          7100
         ],
         "xaxis": "x",
         "y": [
          0.36048236955422175,
          0.2760959881354633,
          0.29910501596821076,
          0.41751762979790724,
          0.47000860000596045
         ],
         "yaxis": "y",
         "type": "scatter"
        },
        {
         "error_y": {
          "array": [
           0.017633178488226195,
           0.02277052047680907,
           0.026213128431015153,
           0.028914064245508225
          ]
         },
         "hovertemplate": "<b>%{hovertext}</b><br><br>Num_Params=%{x}<br>F1 Score=%{y}<extra></extra>",
         "hovertext": [
          "XGLM",
          "XGLM",
          "XGLM",
          "XGLM"
         ],
         "legendgroup": "",
         "line": {
          "color": "green",
          "dash": "solid"
         },
         "marker": {
          "symbol": "circle"
         },
         "mode": "lines",
         "name": "",
         "orientation": "v",
         "showlegend": false,
         "x": [
          564,
          1700,
          2900,
          7500
         ],
         "xaxis": "x",
         "y": [
          0.26372572046810333,
          0.34031673340647584,
          0.32553077477886233,
          0.3654703883646775
         ],
         "yaxis": "y",
         "type": "scatter"
        }
       ],
       "layout": {
        "template": {
         "data": {
          "histogram2dcontour": [
           {
            "type": "histogram2dcontour",
            "colorbar": {
             "outlinewidth": 0,
             "ticks": ""
            },
            "colorscale": [
             [
              0.0,
              "#0d0887"
             ],
             [
              0.1111111111111111,
              "#46039f"
             ],
             [
              0.2222222222222222,
              "#7201a8"
             ],
             [
              0.3333333333333333,
              "#9c179e"
             ],
             [
              0.4444444444444444,
              "#bd3786"
             ],
             [
              0.5555555555555556,
              "#d8576b"
             ],
             [
              0.6666666666666666,
              "#ed7953"
             ],
             [
              0.7777777777777778,
              "#fb9f3a"
             ],
             [
              0.8888888888888888,
              "#fdca26"
             ],
             [
              1.0,
              "#f0f921"
             ]
            ]
           }
          ],
          "choropleth": [
           {
            "type": "choropleth",
            "colorbar": {
             "outlinewidth": 0,
             "ticks": ""
            }
           }
          ],
          "histogram2d": [
           {
            "type": "histogram2d",
            "colorbar": {
             "outlinewidth": 0,
             "ticks": ""
            },
            "colorscale": [
             [
              0.0,
              "#0d0887"
             ],
             [
              0.1111111111111111,
              "#46039f"
             ],
             [
              0.2222222222222222,
              "#7201a8"
             ],
             [
              0.3333333333333333,
              "#9c179e"
             ],
             [
              0.4444444444444444,
              "#bd3786"
             ],
             [
              0.5555555555555556,
              "#d8576b"
             ],
             [
              0.6666666666666666,
              "#ed7953"
             ],
             [
              0.7777777777777778,
              "#fb9f3a"
             ],
             [
              0.8888888888888888,
              "#fdca26"
             ],
             [
              1.0,
              "#f0f921"
             ]
            ]
           }
          ],
          "heatmap": [
           {
            "type": "heatmap",
            "colorbar": {
             "outlinewidth": 0,
             "ticks": ""
            },
            "colorscale": [
             [
              0.0,
              "#0d0887"
             ],
             [
              0.1111111111111111,
              "#46039f"
             ],
             [
              0.2222222222222222,
              "#7201a8"
             ],
             [
              0.3333333333333333,
              "#9c179e"
             ],
             [
              0.4444444444444444,
              "#bd3786"
             ],
             [
              0.5555555555555556,
              "#d8576b"
             ],
             [
              0.6666666666666666,
              "#ed7953"
             ],
             [
              0.7777777777777778,
              "#fb9f3a"
             ],
             [
              0.8888888888888888,
              "#fdca26"
             ],
             [
              1.0,
              "#f0f921"
             ]
            ]
           }
          ],
          "heatmapgl": [
           {
            "type": "heatmapgl",
            "colorbar": {
             "outlinewidth": 0,
             "ticks": ""
            },
            "colorscale": [
             [
              0.0,
              "#0d0887"
             ],
             [
              0.1111111111111111,
              "#46039f"
             ],
             [
              0.2222222222222222,
              "#7201a8"
             ],
             [
              0.3333333333333333,
              "#9c179e"
             ],
             [
              0.4444444444444444,
              "#bd3786"
             ],
             [
              0.5555555555555556,
              "#d8576b"
             ],
             [
              0.6666666666666666,
              "#ed7953"
             ],
             [
              0.7777777777777778,
              "#fb9f3a"
             ],
             [
              0.8888888888888888,
              "#fdca26"
             ],
             [
              1.0,
              "#f0f921"
             ]
            ]
           }
          ],
          "contourcarpet": [
           {
            "type": "contourcarpet",
            "colorbar": {
             "outlinewidth": 0,
             "ticks": ""
            }
           }
          ],
          "contour": [
           {
            "type": "contour",
            "colorbar": {
             "outlinewidth": 0,
             "ticks": ""
            },
            "colorscale": [
             [
              0.0,
              "#0d0887"
             ],
             [
              0.1111111111111111,
              "#46039f"
             ],
             [
              0.2222222222222222,
              "#7201a8"
             ],
             [
              0.3333333333333333,
              "#9c179e"
             ],
             [
              0.4444444444444444,
              "#bd3786"
             ],
             [
              0.5555555555555556,
              "#d8576b"
             ],
             [
              0.6666666666666666,
              "#ed7953"
             ],
             [
              0.7777777777777778,
              "#fb9f3a"
             ],
             [
              0.8888888888888888,
              "#fdca26"
             ],
             [
              1.0,
              "#f0f921"
             ]
            ]
           }
          ],
          "surface": [
           {
            "type": "surface",
            "colorbar": {
             "outlinewidth": 0,
             "ticks": ""
            },
            "colorscale": [
             [
              0.0,
              "#0d0887"
             ],
             [
              0.1111111111111111,
              "#46039f"
             ],
             [
              0.2222222222222222,
              "#7201a8"
             ],
             [
              0.3333333333333333,
              "#9c179e"
             ],
             [
              0.4444444444444444,
              "#bd3786"
             ],
             [
              0.5555555555555556,
              "#d8576b"
             ],
             [
              0.6666666666666666,
              "#ed7953"
             ],
             [
              0.7777777777777778,
              "#fb9f3a"
             ],
             [
              0.8888888888888888,
              "#fdca26"
             ],
             [
              1.0,
              "#f0f921"
             ]
            ]
           }
          ],
          "mesh3d": [
           {
            "type": "mesh3d",
            "colorbar": {
             "outlinewidth": 0,
             "ticks": ""
            }
           }
          ],
          "scatter": [
           {
            "fillpattern": {
             "fillmode": "overlay",
             "size": 10,
             "solidity": 0.2
            },
            "type": "scatter"
           }
          ],
          "parcoords": [
           {
            "type": "parcoords",
            "line": {
             "colorbar": {
              "outlinewidth": 0,
              "ticks": ""
             }
            }
           }
          ],
          "scatterpolargl": [
           {
            "type": "scatterpolargl",
            "marker": {
             "colorbar": {
              "outlinewidth": 0,
              "ticks": ""
             }
            }
           }
          ],
          "bar": [
           {
            "error_x": {
             "color": "#2a3f5f"
            },
            "error_y": {
             "color": "#2a3f5f"
            },
            "marker": {
             "line": {
              "color": "#E5ECF6",
              "width": 0.5
             },
             "pattern": {
              "fillmode": "overlay",
              "size": 10,
              "solidity": 0.2
             }
            },
            "type": "bar"
           }
          ],
          "scattergeo": [
           {
            "type": "scattergeo",
            "marker": {
             "colorbar": {
              "outlinewidth": 0,
              "ticks": ""
             }
            }
           }
          ],
          "scatterpolar": [
           {
            "type": "scatterpolar",
            "marker": {
             "colorbar": {
              "outlinewidth": 0,
              "ticks": ""
             }
            }
           }
          ],
          "histogram": [
           {
            "marker": {
             "pattern": {
              "fillmode": "overlay",
              "size": 10,
              "solidity": 0.2
             }
            },
            "type": "histogram"
           }
          ],
          "scattergl": [
           {
            "type": "scattergl",
            "marker": {
             "colorbar": {
              "outlinewidth": 0,
              "ticks": ""
             }
            }
           }
          ],
          "scatter3d": [
           {
            "type": "scatter3d",
            "line": {
             "colorbar": {
              "outlinewidth": 0,
              "ticks": ""
             }
            },
            "marker": {
             "colorbar": {
              "outlinewidth": 0,
              "ticks": ""
             }
            }
           }
          ],
          "scattermapbox": [
           {
            "type": "scattermapbox",
            "marker": {
             "colorbar": {
              "outlinewidth": 0,
              "ticks": ""
             }
            }
           }
          ],
          "scatterternary": [
           {
            "type": "scatterternary",
            "marker": {
             "colorbar": {
              "outlinewidth": 0,
              "ticks": ""
             }
            }
           }
          ],
          "scattercarpet": [
           {
            "type": "scattercarpet",
            "marker": {
             "colorbar": {
              "outlinewidth": 0,
              "ticks": ""
             }
            }
           }
          ],
          "carpet": [
           {
            "aaxis": {
             "endlinecolor": "#2a3f5f",
             "gridcolor": "white",
             "linecolor": "white",
             "minorgridcolor": "white",
             "startlinecolor": "#2a3f5f"
            },
            "baxis": {
             "endlinecolor": "#2a3f5f",
             "gridcolor": "white",
             "linecolor": "white",
             "minorgridcolor": "white",
             "startlinecolor": "#2a3f5f"
            },
            "type": "carpet"
           }
          ],
          "table": [
           {
            "cells": {
             "fill": {
              "color": "#EBF0F8"
             },
             "line": {
              "color": "white"
             }
            },
            "header": {
             "fill": {
              "color": "#C8D4E3"
             },
             "line": {
              "color": "white"
             }
            },
            "type": "table"
           }
          ],
          "barpolar": [
           {
            "marker": {
             "line": {
              "color": "#E5ECF6",
              "width": 0.5
             },
             "pattern": {
              "fillmode": "overlay",
              "size": 10,
              "solidity": 0.2
             }
            },
            "type": "barpolar"
           }
          ],
          "pie": [
           {
            "automargin": true,
            "type": "pie"
           }
          ]
         },
         "layout": {
          "autotypenumbers": "strict",
          "colorway": [
           "#636efa",
           "#EF553B",
           "#00cc96",
           "#ab63fa",
           "#FFA15A",
           "#19d3f3",
           "#FF6692",
           "#B6E880",
           "#FF97FF",
           "#FECB52"
          ],
          "font": {
           "color": "#2a3f5f"
          },
          "hovermode": "closest",
          "hoverlabel": {
           "align": "left"
          },
          "paper_bgcolor": "white",
          "plot_bgcolor": "#E5ECF6",
          "polar": {
           "bgcolor": "#E5ECF6",
           "angularaxis": {
            "gridcolor": "white",
            "linecolor": "white",
            "ticks": ""
           },
           "radialaxis": {
            "gridcolor": "white",
            "linecolor": "white",
            "ticks": ""
           }
          },
          "ternary": {
           "bgcolor": "#E5ECF6",
           "aaxis": {
            "gridcolor": "white",
            "linecolor": "white",
            "ticks": ""
           },
           "baxis": {
            "gridcolor": "white",
            "linecolor": "white",
            "ticks": ""
           },
           "caxis": {
            "gridcolor": "white",
            "linecolor": "white",
            "ticks": ""
           }
          },
          "coloraxis": {
           "colorbar": {
            "outlinewidth": 0,
            "ticks": ""
           }
          },
          "colorscale": {
           "sequential": [
            [
             0.0,
             "#0d0887"
            ],
            [
             0.1111111111111111,
             "#46039f"
            ],
            [
             0.2222222222222222,
             "#7201a8"
            ],
            [
             0.3333333333333333,
             "#9c179e"
            ],
            [
             0.4444444444444444,
             "#bd3786"
            ],
            [
             0.5555555555555556,
             "#d8576b"
            ],
            [
             0.6666666666666666,
             "#ed7953"
            ],
            [
             0.7777777777777778,
             "#fb9f3a"
            ],
            [
             0.8888888888888888,
             "#fdca26"
            ],
            [
             1.0,
             "#f0f921"
            ]
           ],
           "sequentialminus": [
            [
             0.0,
             "#0d0887"
            ],
            [
             0.1111111111111111,
             "#46039f"
            ],
            [
             0.2222222222222222,
             "#7201a8"
            ],
            [
             0.3333333333333333,
             "#9c179e"
            ],
            [
             0.4444444444444444,
             "#bd3786"
            ],
            [
             0.5555555555555556,
             "#d8576b"
            ],
            [
             0.6666666666666666,
             "#ed7953"
            ],
            [
             0.7777777777777778,
             "#fb9f3a"
            ],
            [
             0.8888888888888888,
             "#fdca26"
            ],
            [
             1.0,
             "#f0f921"
            ]
           ],
           "diverging": [
            [
             0,
             "#8e0152"
            ],
            [
             0.1,
             "#c51b7d"
            ],
            [
             0.2,
             "#de77ae"
            ],
            [
             0.3,
             "#f1b6da"
            ],
            [
             0.4,
             "#fde0ef"
            ],
            [
             0.5,
             "#f7f7f7"
            ],
            [
             0.6,
             "#e6f5d0"
            ],
            [
             0.7,
             "#b8e186"
            ],
            [
             0.8,
             "#7fbc41"
            ],
            [
             0.9,
             "#4d9221"
            ],
            [
             1,
             "#276419"
            ]
           ]
          },
          "xaxis": {
           "gridcolor": "white",
           "linecolor": "white",
           "ticks": "",
           "title": {
            "standoff": 15
           },
           "zerolinecolor": "white",
           "automargin": true,
           "zerolinewidth": 2
          },
          "yaxis": {
           "gridcolor": "white",
           "linecolor": "white",
           "ticks": "",
           "title": {
            "standoff": 15
           },
           "zerolinecolor": "white",
           "automargin": true,
           "zerolinewidth": 2
          },
          "scene": {
           "xaxis": {
            "backgroundcolor": "#E5ECF6",
            "gridcolor": "white",
            "linecolor": "white",
            "showbackground": true,
            "ticks": "",
            "zerolinecolor": "white",
            "gridwidth": 2
           },
           "yaxis": {
            "backgroundcolor": "#E5ECF6",
            "gridcolor": "white",
            "linecolor": "white",
            "showbackground": true,
            "ticks": "",
            "zerolinecolor": "white",
            "gridwidth": 2
           },
           "zaxis": {
            "backgroundcolor": "#E5ECF6",
            "gridcolor": "white",
            "linecolor": "white",
            "showbackground": true,
            "ticks": "",
            "zerolinecolor": "white",
            "gridwidth": 2
           }
          },
          "shapedefaults": {
           "line": {
            "color": "#2a3f5f"
           }
          },
          "annotationdefaults": {
           "arrowcolor": "#2a3f5f",
           "arrowhead": 0,
           "arrowwidth": 1
          },
          "geo": {
           "bgcolor": "white",
           "landcolor": "#E5ECF6",
           "subunitcolor": "white",
           "showland": true,
           "showlakes": true,
           "lakecolor": "white"
          },
          "title": {
           "x": 0.05
          },
          "mapbox": {
           "style": "light"
          }
         }
        },
        "xaxis": {
         "anchor": "y",
         "domain": [
          0.0,
          1.0
         ],
         "title": {
          "text": "Number of Parameters"
         }
        },
        "yaxis": {
         "anchor": "x",
         "domain": [
          0.0,
          1.0
         ],
         "title": {
          "text": "Mean F1 Score"
         }
        },
        "legend": {
         "tracegroupgap": 0
        },
        "margin": {
         "t": 60
        },
        "title": {
         "text": "Line Plot for Mean F1 Scores with Variance (Filter: None = None, Only Bloomz = True, Only Bloom = False, Only XGLM = False)"
        },
        "showlegend": true,
        "height": 600
       },
       "config": {
        "plotlyServerURL": "https://plot.ly"
       }
      }
     },
     "metadata": {},
     "output_type": "display_data"
    }
   ],
   "source": [
    "import plotly.express as px\n",
    "\n",
    "only_bloomz = True\n",
    "only_bloom = False\n",
    "only_xglm = False\n",
    "\n",
    "filter_column = None\n",
    "value = None\n",
    "\n",
    "if filter_column is None:\n",
    "    genetate_line(melted_df, filter_column, value, only_bloom, only_bloomz, only_xglm)\n",
    "elif value != None:\n",
    "    genetate_line(melted_df, filter_column, value, only_bloom, only_bloomz, only_xglm)\n",
    "else:\n",
    "    for value in df[filter_column].unique():\n",
    "        genetate_line(melted_df, filter_column, value, only_bloom, only_bloomz, only_xglm)"
   ]
  },
  {
   "cell_type": "code",
   "outputs": [
    {
     "data": {
      "application/vnd.plotly.v1+json": {
       "data": [
        {
         "hovertemplate": "<extra></extra>",
         "legendgroup": "",
         "line": {
          "color": "#636efa",
          "dash": "solid"
         },
         "marker": {
          "symbol": "circle"
         },
         "mode": "lines",
         "name": "",
         "orientation": "v",
         "showlegend": false,
         "xaxis": "x",
         "yaxis": "y",
         "type": "scatter"
        },
        {
         "error_y": {
          "array": [
           0.014122778976263928,
           0.0074391670772664675,
           0.023692884218458946,
           0.010788492903303474,
           0.017345219780871418
          ]
         },
         "hovertemplate": "<b>%{hovertext}</b><br><br>Num_Params=%{x}<br>F1 Score=%{y}<extra></extra>",
         "hovertext": [
          "Bloom",
          "Bloom",
          "Bloom",
          "Bloom",
          "Bloom"
         ],
         "legendgroup": "",
         "line": {
          "color": "red",
          "dash": "solid"
         },
         "marker": {
          "symbol": "circle"
         },
         "mode": "lines",
         "name": "",
         "orientation": "v",
         "showlegend": false,
         "x": [
          560,
          1100,
          1700,
          3000,
          7100
         ],
         "xaxis": "x",
         "y": [
          0.22169944744104475,
          0.1413707253582598,
          0.20385804936552857,
          0.18300832626729083,
          0.1729445760540961
         ],
         "yaxis": "y",
         "type": "scatter"
        },
        {
         "error_y": {
          "array": [
           0.013851375687488333,
           0.009512534847986177,
           0.0077647067908232425,
           0.013431367127994,
           0.017777074545577098
          ]
         },
         "hovertemplate": "<b>%{hovertext}</b><br><br>Num_Params=%{x}<br>F1 Score=%{y}<extra></extra>",
         "hovertext": [
          "Bloomz",
          "Bloomz",
          "Bloomz",
          "Bloomz",
          "Bloomz"
         ],
         "legendgroup": "",
         "line": {
          "color": "blue",
          "dash": "solid"
         },
         "marker": {
          "symbol": "circle"
         },
         "mode": "lines",
         "name": "",
         "orientation": "v",
         "showlegend": false,
         "x": [
          560,
          1100,
          1700,
          3000,
          7100
         ],
         "xaxis": "x",
         "y": [
          0.2913069547391543,
          0.22296079098113628,
          0.22067145707403577,
          0.30992008855597014,
          0.34588351331788897
         ],
         "yaxis": "y",
         "type": "scatter"
        },
        {
         "error_y": {
          "array": [
           0.016920024888106372,
           0.021297512380767717,
           0.024107616744857317,
           0.023564719665230004
          ]
         },
         "hovertemplate": "<b>%{hovertext}</b><br><br>Num_Params=%{x}<br>F1 Score=%{y}<extra></extra>",
         "hovertext": [
          "XGLM",
          "XGLM",
          "XGLM",
          "XGLM"
         ],
         "legendgroup": "",
         "line": {
          "color": "green",
          "dash": "solid"
         },
         "marker": {
          "symbol": "circle"
         },
         "mode": "lines",
         "name": "",
         "orientation": "v",
         "showlegend": false,
         "x": [
          564,
          1700,
          2900,
          7500
         ],
         "xaxis": "x",
         "y": [
          0.26734536701728073,
          0.3369579897187584,
          0.3368737272229996,
          0.3476007780578148
         ],
         "yaxis": "y",
         "type": "scatter"
        }
       ],
       "layout": {
        "template": {
         "data": {
          "histogram2dcontour": [
           {
            "type": "histogram2dcontour",
            "colorbar": {
             "outlinewidth": 0,
             "ticks": ""
            },
            "colorscale": [
             [
              0.0,
              "#0d0887"
             ],
             [
              0.1111111111111111,
              "#46039f"
             ],
             [
              0.2222222222222222,
              "#7201a8"
             ],
             [
              0.3333333333333333,
              "#9c179e"
             ],
             [
              0.4444444444444444,
              "#bd3786"
             ],
             [
              0.5555555555555556,
              "#d8576b"
             ],
             [
              0.6666666666666666,
              "#ed7953"
             ],
             [
              0.7777777777777778,
              "#fb9f3a"
             ],
             [
              0.8888888888888888,
              "#fdca26"
             ],
             [
              1.0,
              "#f0f921"
             ]
            ]
           }
          ],
          "choropleth": [
           {
            "type": "choropleth",
            "colorbar": {
             "outlinewidth": 0,
             "ticks": ""
            }
           }
          ],
          "histogram2d": [
           {
            "type": "histogram2d",
            "colorbar": {
             "outlinewidth": 0,
             "ticks": ""
            },
            "colorscale": [
             [
              0.0,
              "#0d0887"
             ],
             [
              0.1111111111111111,
              "#46039f"
             ],
             [
              0.2222222222222222,
              "#7201a8"
             ],
             [
              0.3333333333333333,
              "#9c179e"
             ],
             [
              0.4444444444444444,
              "#bd3786"
             ],
             [
              0.5555555555555556,
              "#d8576b"
             ],
             [
              0.6666666666666666,
              "#ed7953"
             ],
             [
              0.7777777777777778,
              "#fb9f3a"
             ],
             [
              0.8888888888888888,
              "#fdca26"
             ],
             [
              1.0,
              "#f0f921"
             ]
            ]
           }
          ],
          "heatmap": [
           {
            "type": "heatmap",
            "colorbar": {
             "outlinewidth": 0,
             "ticks": ""
            },
            "colorscale": [
             [
              0.0,
              "#0d0887"
             ],
             [
              0.1111111111111111,
              "#46039f"
             ],
             [
              0.2222222222222222,
              "#7201a8"
             ],
             [
              0.3333333333333333,
              "#9c179e"
             ],
             [
              0.4444444444444444,
              "#bd3786"
             ],
             [
              0.5555555555555556,
              "#d8576b"
             ],
             [
              0.6666666666666666,
              "#ed7953"
             ],
             [
              0.7777777777777778,
              "#fb9f3a"
             ],
             [
              0.8888888888888888,
              "#fdca26"
             ],
             [
              1.0,
              "#f0f921"
             ]
            ]
           }
          ],
          "heatmapgl": [
           {
            "type": "heatmapgl",
            "colorbar": {
             "outlinewidth": 0,
             "ticks": ""
            },
            "colorscale": [
             [
              0.0,
              "#0d0887"
             ],
             [
              0.1111111111111111,
              "#46039f"
             ],
             [
              0.2222222222222222,
              "#7201a8"
             ],
             [
              0.3333333333333333,
              "#9c179e"
             ],
             [
              0.4444444444444444,
              "#bd3786"
             ],
             [
              0.5555555555555556,
              "#d8576b"
             ],
             [
              0.6666666666666666,
              "#ed7953"
             ],
             [
              0.7777777777777778,
              "#fb9f3a"
             ],
             [
              0.8888888888888888,
              "#fdca26"
             ],
             [
              1.0,
              "#f0f921"
             ]
            ]
           }
          ],
          "contourcarpet": [
           {
            "type": "contourcarpet",
            "colorbar": {
             "outlinewidth": 0,
             "ticks": ""
            }
           }
          ],
          "contour": [
           {
            "type": "contour",
            "colorbar": {
             "outlinewidth": 0,
             "ticks": ""
            },
            "colorscale": [
             [
              0.0,
              "#0d0887"
             ],
             [
              0.1111111111111111,
              "#46039f"
             ],
             [
              0.2222222222222222,
              "#7201a8"
             ],
             [
              0.3333333333333333,
              "#9c179e"
             ],
             [
              0.4444444444444444,
              "#bd3786"
             ],
             [
              0.5555555555555556,
              "#d8576b"
             ],
             [
              0.6666666666666666,
              "#ed7953"
             ],
             [
              0.7777777777777778,
              "#fb9f3a"
             ],
             [
              0.8888888888888888,
              "#fdca26"
             ],
             [
              1.0,
              "#f0f921"
             ]
            ]
           }
          ],
          "surface": [
           {
            "type": "surface",
            "colorbar": {
             "outlinewidth": 0,
             "ticks": ""
            },
            "colorscale": [
             [
              0.0,
              "#0d0887"
             ],
             [
              0.1111111111111111,
              "#46039f"
             ],
             [
              0.2222222222222222,
              "#7201a8"
             ],
             [
              0.3333333333333333,
              "#9c179e"
             ],
             [
              0.4444444444444444,
              "#bd3786"
             ],
             [
              0.5555555555555556,
              "#d8576b"
             ],
             [
              0.6666666666666666,
              "#ed7953"
             ],
             [
              0.7777777777777778,
              "#fb9f3a"
             ],
             [
              0.8888888888888888,
              "#fdca26"
             ],
             [
              1.0,
              "#f0f921"
             ]
            ]
           }
          ],
          "mesh3d": [
           {
            "type": "mesh3d",
            "colorbar": {
             "outlinewidth": 0,
             "ticks": ""
            }
           }
          ],
          "scatter": [
           {
            "fillpattern": {
             "fillmode": "overlay",
             "size": 10,
             "solidity": 0.2
            },
            "type": "scatter"
           }
          ],
          "parcoords": [
           {
            "type": "parcoords",
            "line": {
             "colorbar": {
              "outlinewidth": 0,
              "ticks": ""
             }
            }
           }
          ],
          "scatterpolargl": [
           {
            "type": "scatterpolargl",
            "marker": {
             "colorbar": {
              "outlinewidth": 0,
              "ticks": ""
             }
            }
           }
          ],
          "bar": [
           {
            "error_x": {
             "color": "#2a3f5f"
            },
            "error_y": {
             "color": "#2a3f5f"
            },
            "marker": {
             "line": {
              "color": "#E5ECF6",
              "width": 0.5
             },
             "pattern": {
              "fillmode": "overlay",
              "size": 10,
              "solidity": 0.2
             }
            },
            "type": "bar"
           }
          ],
          "scattergeo": [
           {
            "type": "scattergeo",
            "marker": {
             "colorbar": {
              "outlinewidth": 0,
              "ticks": ""
             }
            }
           }
          ],
          "scatterpolar": [
           {
            "type": "scatterpolar",
            "marker": {
             "colorbar": {
              "outlinewidth": 0,
              "ticks": ""
             }
            }
           }
          ],
          "histogram": [
           {
            "marker": {
             "pattern": {
              "fillmode": "overlay",
              "size": 10,
              "solidity": 0.2
             }
            },
            "type": "histogram"
           }
          ],
          "scattergl": [
           {
            "type": "scattergl",
            "marker": {
             "colorbar": {
              "outlinewidth": 0,
              "ticks": ""
             }
            }
           }
          ],
          "scatter3d": [
           {
            "type": "scatter3d",
            "line": {
             "colorbar": {
              "outlinewidth": 0,
              "ticks": ""
             }
            },
            "marker": {
             "colorbar": {
              "outlinewidth": 0,
              "ticks": ""
             }
            }
           }
          ],
          "scattermapbox": [
           {
            "type": "scattermapbox",
            "marker": {
             "colorbar": {
              "outlinewidth": 0,
              "ticks": ""
             }
            }
           }
          ],
          "scatterternary": [
           {
            "type": "scatterternary",
            "marker": {
             "colorbar": {
              "outlinewidth": 0,
              "ticks": ""
             }
            }
           }
          ],
          "scattercarpet": [
           {
            "type": "scattercarpet",
            "marker": {
             "colorbar": {
              "outlinewidth": 0,
              "ticks": ""
             }
            }
           }
          ],
          "carpet": [
           {
            "aaxis": {
             "endlinecolor": "#2a3f5f",
             "gridcolor": "white",
             "linecolor": "white",
             "minorgridcolor": "white",
             "startlinecolor": "#2a3f5f"
            },
            "baxis": {
             "endlinecolor": "#2a3f5f",
             "gridcolor": "white",
             "linecolor": "white",
             "minorgridcolor": "white",
             "startlinecolor": "#2a3f5f"
            },
            "type": "carpet"
           }
          ],
          "table": [
           {
            "cells": {
             "fill": {
              "color": "#EBF0F8"
             },
             "line": {
              "color": "white"
             }
            },
            "header": {
             "fill": {
              "color": "#C8D4E3"
             },
             "line": {
              "color": "white"
             }
            },
            "type": "table"
           }
          ],
          "barpolar": [
           {
            "marker": {
             "line": {
              "color": "#E5ECF6",
              "width": 0.5
             },
             "pattern": {
              "fillmode": "overlay",
              "size": 10,
              "solidity": 0.2
             }
            },
            "type": "barpolar"
           }
          ],
          "pie": [
           {
            "automargin": true,
            "type": "pie"
           }
          ]
         },
         "layout": {
          "autotypenumbers": "strict",
          "colorway": [
           "#636efa",
           "#EF553B",
           "#00cc96",
           "#ab63fa",
           "#FFA15A",
           "#19d3f3",
           "#FF6692",
           "#B6E880",
           "#FF97FF",
           "#FECB52"
          ],
          "font": {
           "color": "#2a3f5f"
          },
          "hovermode": "closest",
          "hoverlabel": {
           "align": "left"
          },
          "paper_bgcolor": "white",
          "plot_bgcolor": "#E5ECF6",
          "polar": {
           "bgcolor": "#E5ECF6",
           "angularaxis": {
            "gridcolor": "white",
            "linecolor": "white",
            "ticks": ""
           },
           "radialaxis": {
            "gridcolor": "white",
            "linecolor": "white",
            "ticks": ""
           }
          },
          "ternary": {
           "bgcolor": "#E5ECF6",
           "aaxis": {
            "gridcolor": "white",
            "linecolor": "white",
            "ticks": ""
           },
           "baxis": {
            "gridcolor": "white",
            "linecolor": "white",
            "ticks": ""
           },
           "caxis": {
            "gridcolor": "white",
            "linecolor": "white",
            "ticks": ""
           }
          },
          "coloraxis": {
           "colorbar": {
            "outlinewidth": 0,
            "ticks": ""
           }
          },
          "colorscale": {
           "sequential": [
            [
             0.0,
             "#0d0887"
            ],
            [
             0.1111111111111111,
             "#46039f"
            ],
            [
             0.2222222222222222,
             "#7201a8"
            ],
            [
             0.3333333333333333,
             "#9c179e"
            ],
            [
             0.4444444444444444,
             "#bd3786"
            ],
            [
             0.5555555555555556,
             "#d8576b"
            ],
            [
             0.6666666666666666,
             "#ed7953"
            ],
            [
             0.7777777777777778,
             "#fb9f3a"
            ],
            [
             0.8888888888888888,
             "#fdca26"
            ],
            [
             1.0,
             "#f0f921"
            ]
           ],
           "sequentialminus": [
            [
             0.0,
             "#0d0887"
            ],
            [
             0.1111111111111111,
             "#46039f"
            ],
            [
             0.2222222222222222,
             "#7201a8"
            ],
            [
             0.3333333333333333,
             "#9c179e"
            ],
            [
             0.4444444444444444,
             "#bd3786"
            ],
            [
             0.5555555555555556,
             "#d8576b"
            ],
            [
             0.6666666666666666,
             "#ed7953"
            ],
            [
             0.7777777777777778,
             "#fb9f3a"
            ],
            [
             0.8888888888888888,
             "#fdca26"
            ],
            [
             1.0,
             "#f0f921"
            ]
           ],
           "diverging": [
            [
             0,
             "#8e0152"
            ],
            [
             0.1,
             "#c51b7d"
            ],
            [
             0.2,
             "#de77ae"
            ],
            [
             0.3,
             "#f1b6da"
            ],
            [
             0.4,
             "#fde0ef"
            ],
            [
             0.5,
             "#f7f7f7"
            ],
            [
             0.6,
             "#e6f5d0"
            ],
            [
             0.7,
             "#b8e186"
            ],
            [
             0.8,
             "#7fbc41"
            ],
            [
             0.9,
             "#4d9221"
            ],
            [
             1,
             "#276419"
            ]
           ]
          },
          "xaxis": {
           "gridcolor": "white",
           "linecolor": "white",
           "ticks": "",
           "title": {
            "standoff": 15
           },
           "zerolinecolor": "white",
           "automargin": true,
           "zerolinewidth": 2
          },
          "yaxis": {
           "gridcolor": "white",
           "linecolor": "white",
           "ticks": "",
           "title": {
            "standoff": 15
           },
           "zerolinecolor": "white",
           "automargin": true,
           "zerolinewidth": 2
          },
          "scene": {
           "xaxis": {
            "backgroundcolor": "#E5ECF6",
            "gridcolor": "white",
            "linecolor": "white",
            "showbackground": true,
            "ticks": "",
            "zerolinecolor": "white",
            "gridwidth": 2
           },
           "yaxis": {
            "backgroundcolor": "#E5ECF6",
            "gridcolor": "white",
            "linecolor": "white",
            "showbackground": true,
            "ticks": "",
            "zerolinecolor": "white",
            "gridwidth": 2
           },
           "zaxis": {
            "backgroundcolor": "#E5ECF6",
            "gridcolor": "white",
            "linecolor": "white",
            "showbackground": true,
            "ticks": "",
            "zerolinecolor": "white",
            "gridwidth": 2
           }
          },
          "shapedefaults": {
           "line": {
            "color": "#2a3f5f"
           }
          },
          "annotationdefaults": {
           "arrowcolor": "#2a3f5f",
           "arrowhead": 0,
           "arrowwidth": 1
          },
          "geo": {
           "bgcolor": "white",
           "landcolor": "#E5ECF6",
           "subunitcolor": "white",
           "showland": true,
           "showlakes": true,
           "lakecolor": "white"
          },
          "title": {
           "x": 0.05
          },
          "mapbox": {
           "style": "light"
          }
         }
        },
        "xaxis": {
         "anchor": "y",
         "domain": [
          0.0,
          1.0
         ],
         "title": {
          "text": "Number of Parameters"
         }
        },
        "yaxis": {
         "anchor": "x",
         "domain": [
          0.0,
          1.0
         ],
         "title": {
          "text": "Mean F1 Score"
         }
        },
        "legend": {
         "tracegroupgap": 0
        },
        "margin": {
         "t": 60
        },
        "title": {
         "text": "Line Plot for Mean F1 Scores with Variance (Filter: None = None, Only Bloomz = False, Only Bloom = False, Only XGLM = False)"
        },
        "showlegend": true,
        "height": 600
       },
       "config": {
        "plotlyServerURL": "https://plot.ly"
       }
      }
     },
     "metadata": {},
     "output_type": "display_data"
    }
   ],
   "source": [
    "import plotly.express as px\n",
    "\n",
    "only_bloomz = False\n",
    "only_bloom = False\n",
    "only_xglm = False\n",
    "\n",
    "filter_column = None\n",
    "value = None\n",
    "\n",
    "if filter_column is None:\n",
    "    genetate_line(melted_df, filter_column, value, only_bloom, only_bloomz, only_xglm)\n",
    "elif value != None:\n",
    "    genetate_line(melted_df, filter_column, value, only_bloom, only_bloomz, only_xglm)\n",
    "else:\n",
    "    for value in df[filter_column].unique():\n",
    "        genetate_line(melted_df, filter_column, value, only_bloom, only_bloomz, only_xglm)"
   ],
   "metadata": {
    "collapsed": false,
    "ExecuteTime": {
     "end_time": "2024-01-29T23:48:40.958158440Z",
     "start_time": "2024-01-29T23:48:40.852967059Z"
    }
   },
   "id": "2d96813825f6a160",
   "execution_count": 115
  },
  {
   "cell_type": "code",
   "outputs": [
    {
     "data": {
      "application/vnd.plotly.v1+json": {
       "data": [
        {
         "colorscale": [
          [
           0.0,
           "#440154"
          ],
          [
           0.1111111111111111,
           "#482878"
          ],
          [
           0.2222222222222222,
           "#3e4989"
          ],
          [
           0.3333333333333333,
           "#31688e"
          ],
          [
           0.4444444444444444,
           "#26828e"
          ],
          [
           0.5555555555555556,
           "#1f9e89"
          ],
          [
           0.6666666666666666,
           "#35b779"
          ],
          [
           0.7777777777777778,
           "#6ece58"
          ],
          [
           0.8888888888888888,
           "#b5de2b"
          ],
          [
           1.0,
           "#fde725"
          ]
         ],
         "reversescale": false,
         "showscale": true,
         "x": [
          "Bloom Train Data Percentage",
          "BLOOMZ Finetune Data",
          "XGLM Train Percentage",
          "F1 Score",
          "Num_Params"
         ],
         "y": [
          "Bloom Train Data Percentage",
          "BLOOMZ Finetune Data",
          "XGLM Train Percentage",
          "F1 Score",
          "Num_Params"
         ],
         "z": [
          [
           1.0,
           0.9142056244477799,
           0.9433583936099149,
           0.21413594008910708,
           0.0
          ],
          [
           0.9142056244477799,
           1.0,
           0.993048064198706,
           0.4876190410550389,
           1.060109123399721E-16
          ],
          [
           0.9433583936099149,
           0.993048064198706,
           1.0,
           0.5536203394416642,
           1.1444689171964413E-16
          ],
          [
           0.21413594008910708,
           0.4876190410550389,
           0.5536203394416642,
           1.0,
           0.13191215962764155
          ],
          [
           0.0,
           1.060109123399721E-16,
           1.1444689171964413E-16,
           0.13191215962764155,
           1.0
          ]
         ],
         "type": "heatmap"
        }
       ],
       "layout": {
        "annotations": [
         {
          "font": {
           "color": "#000000"
          },
          "showarrow": false,
          "text": "1.0",
          "x": "Bloom Train Data Percentage",
          "xref": "x",
          "y": "Bloom Train Data Percentage",
          "yref": "y"
         },
         {
          "font": {
           "color": "#000000"
          },
          "showarrow": false,
          "text": "0.91",
          "x": "BLOOMZ Finetune Data",
          "xref": "x",
          "y": "Bloom Train Data Percentage",
          "yref": "y"
         },
         {
          "font": {
           "color": "#000000"
          },
          "showarrow": false,
          "text": "0.94",
          "x": "XGLM Train Percentage",
          "xref": "x",
          "y": "Bloom Train Data Percentage",
          "yref": "y"
         },
         {
          "font": {
           "color": "#FFFFFF"
          },
          "showarrow": false,
          "text": "0.21",
          "x": "F1 Score",
          "xref": "x",
          "y": "Bloom Train Data Percentage",
          "yref": "y"
         },
         {
          "font": {
           "color": "#FFFFFF"
          },
          "showarrow": false,
          "text": "0.0",
          "x": "Num_Params",
          "xref": "x",
          "y": "Bloom Train Data Percentage",
          "yref": "y"
         },
         {
          "font": {
           "color": "#000000"
          },
          "showarrow": false,
          "text": "0.91",
          "x": "Bloom Train Data Percentage",
          "xref": "x",
          "y": "BLOOMZ Finetune Data",
          "yref": "y"
         },
         {
          "font": {
           "color": "#000000"
          },
          "showarrow": false,
          "text": "1.0",
          "x": "BLOOMZ Finetune Data",
          "xref": "x",
          "y": "BLOOMZ Finetune Data",
          "yref": "y"
         },
         {
          "font": {
           "color": "#000000"
          },
          "showarrow": false,
          "text": "0.99",
          "x": "XGLM Train Percentage",
          "xref": "x",
          "y": "BLOOMZ Finetune Data",
          "yref": "y"
         },
         {
          "font": {
           "color": "#FFFFFF"
          },
          "showarrow": false,
          "text": "0.49",
          "x": "F1 Score",
          "xref": "x",
          "y": "BLOOMZ Finetune Data",
          "yref": "y"
         },
         {
          "font": {
           "color": "#FFFFFF"
          },
          "showarrow": false,
          "text": "0.0",
          "x": "Num_Params",
          "xref": "x",
          "y": "BLOOMZ Finetune Data",
          "yref": "y"
         },
         {
          "font": {
           "color": "#000000"
          },
          "showarrow": false,
          "text": "0.94",
          "x": "Bloom Train Data Percentage",
          "xref": "x",
          "y": "XGLM Train Percentage",
          "yref": "y"
         },
         {
          "font": {
           "color": "#000000"
          },
          "showarrow": false,
          "text": "0.99",
          "x": "BLOOMZ Finetune Data",
          "xref": "x",
          "y": "XGLM Train Percentage",
          "yref": "y"
         },
         {
          "font": {
           "color": "#000000"
          },
          "showarrow": false,
          "text": "1.0",
          "x": "XGLM Train Percentage",
          "xref": "x",
          "y": "XGLM Train Percentage",
          "yref": "y"
         },
         {
          "font": {
           "color": "#000000"
          },
          "showarrow": false,
          "text": "0.55",
          "x": "F1 Score",
          "xref": "x",
          "y": "XGLM Train Percentage",
          "yref": "y"
         },
         {
          "font": {
           "color": "#FFFFFF"
          },
          "showarrow": false,
          "text": "0.0",
          "x": "Num_Params",
          "xref": "x",
          "y": "XGLM Train Percentage",
          "yref": "y"
         },
         {
          "font": {
           "color": "#FFFFFF"
          },
          "showarrow": false,
          "text": "0.21",
          "x": "Bloom Train Data Percentage",
          "xref": "x",
          "y": "F1 Score",
          "yref": "y"
         },
         {
          "font": {
           "color": "#FFFFFF"
          },
          "showarrow": false,
          "text": "0.49",
          "x": "BLOOMZ Finetune Data",
          "xref": "x",
          "y": "F1 Score",
          "yref": "y"
         },
         {
          "font": {
           "color": "#000000"
          },
          "showarrow": false,
          "text": "0.55",
          "x": "XGLM Train Percentage",
          "xref": "x",
          "y": "F1 Score",
          "yref": "y"
         },
         {
          "font": {
           "color": "#000000"
          },
          "showarrow": false,
          "text": "1.0",
          "x": "F1 Score",
          "xref": "x",
          "y": "F1 Score",
          "yref": "y"
         },
         {
          "font": {
           "color": "#FFFFFF"
          },
          "showarrow": false,
          "text": "0.13",
          "x": "Num_Params",
          "xref": "x",
          "y": "F1 Score",
          "yref": "y"
         },
         {
          "font": {
           "color": "#FFFFFF"
          },
          "showarrow": false,
          "text": "0.0",
          "x": "Bloom Train Data Percentage",
          "xref": "x",
          "y": "Num_Params",
          "yref": "y"
         },
         {
          "font": {
           "color": "#FFFFFF"
          },
          "showarrow": false,
          "text": "0.0",
          "x": "BLOOMZ Finetune Data",
          "xref": "x",
          "y": "Num_Params",
          "yref": "y"
         },
         {
          "font": {
           "color": "#FFFFFF"
          },
          "showarrow": false,
          "text": "0.0",
          "x": "XGLM Train Percentage",
          "xref": "x",
          "y": "Num_Params",
          "yref": "y"
         },
         {
          "font": {
           "color": "#FFFFFF"
          },
          "showarrow": false,
          "text": "0.13",
          "x": "F1 Score",
          "xref": "x",
          "y": "Num_Params",
          "yref": "y"
         },
         {
          "font": {
           "color": "#000000"
          },
          "showarrow": false,
          "text": "1.0",
          "x": "Num_Params",
          "xref": "x",
          "y": "Num_Params",
          "yref": "y"
         }
        ],
        "xaxis": {
         "dtick": 1,
         "gridcolor": "rgb(0, 0, 0)",
         "side": "top",
         "ticks": ""
        },
        "yaxis": {
         "dtick": 1,
         "ticks": "",
         "ticksuffix": "  "
        },
        "template": {
         "data": {
          "histogram2dcontour": [
           {
            "type": "histogram2dcontour",
            "colorbar": {
             "outlinewidth": 0,
             "ticks": ""
            },
            "colorscale": [
             [
              0.0,
              "#0d0887"
             ],
             [
              0.1111111111111111,
              "#46039f"
             ],
             [
              0.2222222222222222,
              "#7201a8"
             ],
             [
              0.3333333333333333,
              "#9c179e"
             ],
             [
              0.4444444444444444,
              "#bd3786"
             ],
             [
              0.5555555555555556,
              "#d8576b"
             ],
             [
              0.6666666666666666,
              "#ed7953"
             ],
             [
              0.7777777777777778,
              "#fb9f3a"
             ],
             [
              0.8888888888888888,
              "#fdca26"
             ],
             [
              1.0,
              "#f0f921"
             ]
            ]
           }
          ],
          "choropleth": [
           {
            "type": "choropleth",
            "colorbar": {
             "outlinewidth": 0,
             "ticks": ""
            }
           }
          ],
          "histogram2d": [
           {
            "type": "histogram2d",
            "colorbar": {
             "outlinewidth": 0,
             "ticks": ""
            },
            "colorscale": [
             [
              0.0,
              "#0d0887"
             ],
             [
              0.1111111111111111,
              "#46039f"
             ],
             [
              0.2222222222222222,
              "#7201a8"
             ],
             [
              0.3333333333333333,
              "#9c179e"
             ],
             [
              0.4444444444444444,
              "#bd3786"
             ],
             [
              0.5555555555555556,
              "#d8576b"
             ],
             [
              0.6666666666666666,
              "#ed7953"
             ],
             [
              0.7777777777777778,
              "#fb9f3a"
             ],
             [
              0.8888888888888888,
              "#fdca26"
             ],
             [
              1.0,
              "#f0f921"
             ]
            ]
           }
          ],
          "heatmap": [
           {
            "type": "heatmap",
            "colorbar": {
             "outlinewidth": 0,
             "ticks": ""
            },
            "colorscale": [
             [
              0.0,
              "#0d0887"
             ],
             [
              0.1111111111111111,
              "#46039f"
             ],
             [
              0.2222222222222222,
              "#7201a8"
             ],
             [
              0.3333333333333333,
              "#9c179e"
             ],
             [
              0.4444444444444444,
              "#bd3786"
             ],
             [
              0.5555555555555556,
              "#d8576b"
             ],
             [
              0.6666666666666666,
              "#ed7953"
             ],
             [
              0.7777777777777778,
              "#fb9f3a"
             ],
             [
              0.8888888888888888,
              "#fdca26"
             ],
             [
              1.0,
              "#f0f921"
             ]
            ]
           }
          ],
          "heatmapgl": [
           {
            "type": "heatmapgl",
            "colorbar": {
             "outlinewidth": 0,
             "ticks": ""
            },
            "colorscale": [
             [
              0.0,
              "#0d0887"
             ],
             [
              0.1111111111111111,
              "#46039f"
             ],
             [
              0.2222222222222222,
              "#7201a8"
             ],
             [
              0.3333333333333333,
              "#9c179e"
             ],
             [
              0.4444444444444444,
              "#bd3786"
             ],
             [
              0.5555555555555556,
              "#d8576b"
             ],
             [
              0.6666666666666666,
              "#ed7953"
             ],
             [
              0.7777777777777778,
              "#fb9f3a"
             ],
             [
              0.8888888888888888,
              "#fdca26"
             ],
             [
              1.0,
              "#f0f921"
             ]
            ]
           }
          ],
          "contourcarpet": [
           {
            "type": "contourcarpet",
            "colorbar": {
             "outlinewidth": 0,
             "ticks": ""
            }
           }
          ],
          "contour": [
           {
            "type": "contour",
            "colorbar": {
             "outlinewidth": 0,
             "ticks": ""
            },
            "colorscale": [
             [
              0.0,
              "#0d0887"
             ],
             [
              0.1111111111111111,
              "#46039f"
             ],
             [
              0.2222222222222222,
              "#7201a8"
             ],
             [
              0.3333333333333333,
              "#9c179e"
             ],
             [
              0.4444444444444444,
              "#bd3786"
             ],
             [
              0.5555555555555556,
              "#d8576b"
             ],
             [
              0.6666666666666666,
              "#ed7953"
             ],
             [
              0.7777777777777778,
              "#fb9f3a"
             ],
             [
              0.8888888888888888,
              "#fdca26"
             ],
             [
              1.0,
              "#f0f921"
             ]
            ]
           }
          ],
          "surface": [
           {
            "type": "surface",
            "colorbar": {
             "outlinewidth": 0,
             "ticks": ""
            },
            "colorscale": [
             [
              0.0,
              "#0d0887"
             ],
             [
              0.1111111111111111,
              "#46039f"
             ],
             [
              0.2222222222222222,
              "#7201a8"
             ],
             [
              0.3333333333333333,
              "#9c179e"
             ],
             [
              0.4444444444444444,
              "#bd3786"
             ],
             [
              0.5555555555555556,
              "#d8576b"
             ],
             [
              0.6666666666666666,
              "#ed7953"
             ],
             [
              0.7777777777777778,
              "#fb9f3a"
             ],
             [
              0.8888888888888888,
              "#fdca26"
             ],
             [
              1.0,
              "#f0f921"
             ]
            ]
           }
          ],
          "mesh3d": [
           {
            "type": "mesh3d",
            "colorbar": {
             "outlinewidth": 0,
             "ticks": ""
            }
           }
          ],
          "scatter": [
           {
            "fillpattern": {
             "fillmode": "overlay",
             "size": 10,
             "solidity": 0.2
            },
            "type": "scatter"
           }
          ],
          "parcoords": [
           {
            "type": "parcoords",
            "line": {
             "colorbar": {
              "outlinewidth": 0,
              "ticks": ""
             }
            }
           }
          ],
          "scatterpolargl": [
           {
            "type": "scatterpolargl",
            "marker": {
             "colorbar": {
              "outlinewidth": 0,
              "ticks": ""
             }
            }
           }
          ],
          "bar": [
           {
            "error_x": {
             "color": "#2a3f5f"
            },
            "error_y": {
             "color": "#2a3f5f"
            },
            "marker": {
             "line": {
              "color": "#E5ECF6",
              "width": 0.5
             },
             "pattern": {
              "fillmode": "overlay",
              "size": 10,
              "solidity": 0.2
             }
            },
            "type": "bar"
           }
          ],
          "scattergeo": [
           {
            "type": "scattergeo",
            "marker": {
             "colorbar": {
              "outlinewidth": 0,
              "ticks": ""
             }
            }
           }
          ],
          "scatterpolar": [
           {
            "type": "scatterpolar",
            "marker": {
             "colorbar": {
              "outlinewidth": 0,
              "ticks": ""
             }
            }
           }
          ],
          "histogram": [
           {
            "marker": {
             "pattern": {
              "fillmode": "overlay",
              "size": 10,
              "solidity": 0.2
             }
            },
            "type": "histogram"
           }
          ],
          "scattergl": [
           {
            "type": "scattergl",
            "marker": {
             "colorbar": {
              "outlinewidth": 0,
              "ticks": ""
             }
            }
           }
          ],
          "scatter3d": [
           {
            "type": "scatter3d",
            "line": {
             "colorbar": {
              "outlinewidth": 0,
              "ticks": ""
             }
            },
            "marker": {
             "colorbar": {
              "outlinewidth": 0,
              "ticks": ""
             }
            }
           }
          ],
          "scattermapbox": [
           {
            "type": "scattermapbox",
            "marker": {
             "colorbar": {
              "outlinewidth": 0,
              "ticks": ""
             }
            }
           }
          ],
          "scatterternary": [
           {
            "type": "scatterternary",
            "marker": {
             "colorbar": {
              "outlinewidth": 0,
              "ticks": ""
             }
            }
           }
          ],
          "scattercarpet": [
           {
            "type": "scattercarpet",
            "marker": {
             "colorbar": {
              "outlinewidth": 0,
              "ticks": ""
             }
            }
           }
          ],
          "carpet": [
           {
            "aaxis": {
             "endlinecolor": "#2a3f5f",
             "gridcolor": "white",
             "linecolor": "white",
             "minorgridcolor": "white",
             "startlinecolor": "#2a3f5f"
            },
            "baxis": {
             "endlinecolor": "#2a3f5f",
             "gridcolor": "white",
             "linecolor": "white",
             "minorgridcolor": "white",
             "startlinecolor": "#2a3f5f"
            },
            "type": "carpet"
           }
          ],
          "table": [
           {
            "cells": {
             "fill": {
              "color": "#EBF0F8"
             },
             "line": {
              "color": "white"
             }
            },
            "header": {
             "fill": {
              "color": "#C8D4E3"
             },
             "line": {
              "color": "white"
             }
            },
            "type": "table"
           }
          ],
          "barpolar": [
           {
            "marker": {
             "line": {
              "color": "#E5ECF6",
              "width": 0.5
             },
             "pattern": {
              "fillmode": "overlay",
              "size": 10,
              "solidity": 0.2
             }
            },
            "type": "barpolar"
           }
          ],
          "pie": [
           {
            "automargin": true,
            "type": "pie"
           }
          ]
         },
         "layout": {
          "autotypenumbers": "strict",
          "colorway": [
           "#636efa",
           "#EF553B",
           "#00cc96",
           "#ab63fa",
           "#FFA15A",
           "#19d3f3",
           "#FF6692",
           "#B6E880",
           "#FF97FF",
           "#FECB52"
          ],
          "font": {
           "color": "#2a3f5f"
          },
          "hovermode": "closest",
          "hoverlabel": {
           "align": "left"
          },
          "paper_bgcolor": "white",
          "plot_bgcolor": "#E5ECF6",
          "polar": {
           "bgcolor": "#E5ECF6",
           "angularaxis": {
            "gridcolor": "white",
            "linecolor": "white",
            "ticks": ""
           },
           "radialaxis": {
            "gridcolor": "white",
            "linecolor": "white",
            "ticks": ""
           }
          },
          "ternary": {
           "bgcolor": "#E5ECF6",
           "aaxis": {
            "gridcolor": "white",
            "linecolor": "white",
            "ticks": ""
           },
           "baxis": {
            "gridcolor": "white",
            "linecolor": "white",
            "ticks": ""
           },
           "caxis": {
            "gridcolor": "white",
            "linecolor": "white",
            "ticks": ""
           }
          },
          "coloraxis": {
           "colorbar": {
            "outlinewidth": 0,
            "ticks": ""
           }
          },
          "colorscale": {
           "sequential": [
            [
             0.0,
             "#0d0887"
            ],
            [
             0.1111111111111111,
             "#46039f"
            ],
            [
             0.2222222222222222,
             "#7201a8"
            ],
            [
             0.3333333333333333,
             "#9c179e"
            ],
            [
             0.4444444444444444,
             "#bd3786"
            ],
            [
             0.5555555555555556,
             "#d8576b"
            ],
            [
             0.6666666666666666,
             "#ed7953"
            ],
            [
             0.7777777777777778,
             "#fb9f3a"
            ],
            [
             0.8888888888888888,
             "#fdca26"
            ],
            [
             1.0,
             "#f0f921"
            ]
           ],
           "sequentialminus": [
            [
             0.0,
             "#0d0887"
            ],
            [
             0.1111111111111111,
             "#46039f"
            ],
            [
             0.2222222222222222,
             "#7201a8"
            ],
            [
             0.3333333333333333,
             "#9c179e"
            ],
            [
             0.4444444444444444,
             "#bd3786"
            ],
            [
             0.5555555555555556,
             "#d8576b"
            ],
            [
             0.6666666666666666,
             "#ed7953"
            ],
            [
             0.7777777777777778,
             "#fb9f3a"
            ],
            [
             0.8888888888888888,
             "#fdca26"
            ],
            [
             1.0,
             "#f0f921"
            ]
           ],
           "diverging": [
            [
             0,
             "#8e0152"
            ],
            [
             0.1,
             "#c51b7d"
            ],
            [
             0.2,
             "#de77ae"
            ],
            [
             0.3,
             "#f1b6da"
            ],
            [
             0.4,
             "#fde0ef"
            ],
            [
             0.5,
             "#f7f7f7"
            ],
            [
             0.6,
             "#e6f5d0"
            ],
            [
             0.7,
             "#b8e186"
            ],
            [
             0.8,
             "#7fbc41"
            ],
            [
             0.9,
             "#4d9221"
            ],
            [
             1,
             "#276419"
            ]
           ]
          },
          "xaxis": {
           "gridcolor": "white",
           "linecolor": "white",
           "ticks": "",
           "title": {
            "standoff": 15
           },
           "zerolinecolor": "white",
           "automargin": true,
           "zerolinewidth": 2
          },
          "yaxis": {
           "gridcolor": "white",
           "linecolor": "white",
           "ticks": "",
           "title": {
            "standoff": 15
           },
           "zerolinecolor": "white",
           "automargin": true,
           "zerolinewidth": 2
          },
          "scene": {
           "xaxis": {
            "backgroundcolor": "#E5ECF6",
            "gridcolor": "white",
            "linecolor": "white",
            "showbackground": true,
            "ticks": "",
            "zerolinecolor": "white",
            "gridwidth": 2
           },
           "yaxis": {
            "backgroundcolor": "#E5ECF6",
            "gridcolor": "white",
            "linecolor": "white",
            "showbackground": true,
            "ticks": "",
            "zerolinecolor": "white",
            "gridwidth": 2
           },
           "zaxis": {
            "backgroundcolor": "#E5ECF6",
            "gridcolor": "white",
            "linecolor": "white",
            "showbackground": true,
            "ticks": "",
            "zerolinecolor": "white",
            "gridwidth": 2
           }
          },
          "shapedefaults": {
           "line": {
            "color": "#2a3f5f"
           }
          },
          "annotationdefaults": {
           "arrowcolor": "#2a3f5f",
           "arrowhead": 0,
           "arrowwidth": 1
          },
          "geo": {
           "bgcolor": "white",
           "landcolor": "#E5ECF6",
           "subunitcolor": "white",
           "showland": true,
           "showlakes": true,
           "lakecolor": "white"
          },
          "title": {
           "x": 0.05
          },
          "mapbox": {
           "style": "light"
          }
         }
        },
        "title": {
         "text": "Correlation Matrix of Bloom"
        }
       },
       "config": {
        "plotlyServerURL": "https://plot.ly"
       }
      }
     },
     "metadata": {},
     "output_type": "display_data"
    }
   ],
   "source": [
    "import plotly.figure_factory as ff\n",
    "import pandas as pd\n",
    "\n",
    "only_bloomz = False\n",
    "only_bloom = True\n",
    "only_xglm = False\n",
    "\n",
    "filter_column = 'Resource Level'\n",
    "value = 5\n",
    "\n",
    "model_name = 'Bloom'\n",
    "\n",
    "# Filter the dataframe\n",
    "filtered_df = filter_df(melted_df, filter_column, value, only_bloom, only_bloomz, only_xglm)\n",
    "model_data = filtered_df[filtered_df['Model'].str.startswith(\"F1 \" + model_name.lower() + '-')]\n",
    "\n",
    "# Calculate correlation matrix\n",
    "correlation_matrix = model_data.corr()\n",
    "\n",
    "# Create annotated heatmap\n",
    "fig = ff.create_annotated_heatmap(z=correlation_matrix.values,\n",
    "                                  x=correlation_matrix.columns.tolist(),\n",
    "                                  y=correlation_matrix.index.tolist(),\n",
    "                                  colorscale='Viridis',\n",
    "                                  annotation_text=correlation_matrix.round(2).values,\n",
    "                                  showscale=True)\n",
    "\n",
    "# Set title\n",
    "fig.update_layout(title_text=f'Correlation Matrix of {model_name}')\n",
    "\n",
    "# Show the plot\n",
    "fig.show()"
   ],
   "metadata": {
    "collapsed": false,
    "ExecuteTime": {
     "end_time": "2024-01-29T23:59:06.885696554Z",
     "start_time": "2024-01-29T23:59:06.837513686Z"
    }
   },
   "id": "2a99d91d0b13af80",
   "execution_count": 122
  },
  {
   "cell_type": "code",
   "outputs": [],
   "source": [],
   "metadata": {
    "collapsed": false
   },
   "id": "8c0c0cbdeac29c3f"
  }
 ],
 "metadata": {
  "kernelspec": {
   "display_name": "Python 3",
   "language": "python",
   "name": "python3"
  },
  "language_info": {
   "codemirror_mode": {
    "name": "ipython",
    "version": 3
   },
   "file_extension": ".py",
   "mimetype": "text/x-python",
   "name": "python",
   "nbconvert_exporter": "python",
   "pygments_lexer": "ipython3",
   "version": "3.11.4"
  }
 },
 "nbformat": 4,
 "nbformat_minor": 5
}
