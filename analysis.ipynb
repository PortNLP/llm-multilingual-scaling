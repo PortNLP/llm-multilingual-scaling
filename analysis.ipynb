{
 "cells": [
  {
   "cell_type": "code",
   "execution_count": 1,
   "id": "initial_id",
   "metadata": {
    "collapsed": true,
    "ExecuteTime": {
     "end_time": "2024-01-22T23:35:44.673473376Z",
     "start_time": "2024-01-22T23:35:44.282975380Z"
    }
   },
   "outputs": [
    {
     "data": {
      "text/plain": "    Folder Name                 Language Name ISO 639 - 1 ISO 639 - 2 (B)  \\\n0      ace_Arab                          Aceh         NaN             ace   \n1      ace_Latn                          Aceh         NaN             ace   \n2      acm_Arab    Mesopotamian Spoken Arabic         NaN             NaN   \n3      acq_Arab  Arabic, Ta’izzi-Adeni Spoken         NaN             NaN   \n4      aeb_Arab        Tunisian Spoken Arabic         NaN             NaN   \n..          ...                           ...         ...             ...   \n199    yue_Hant                   Yue Chinese         NaN             NaN   \n200    zho_Hans                       Chinese          zh             chi   \n201    zho_Hant                       Chinese          zh             chi   \n202    zsm_Latn                Standard Malay          ms             NaN   \n203    zul_Latn                          Zulu          zu             zul   \n\n    ISO 639 - 2 (T) ISO 639 - 3 Script (ISO 15924) Language Family  \\\n0               ace         ace               Arab    Austronesian   \n1               ace         ace               Latn    Austronesian   \n2               NaN         acm               Arab    Afro-Asiatic   \n3               NaN         acq               Arab    Afro-Asiatic   \n4               NaN         aeb               Arab    Afro-Asiatic   \n..              ...         ...                ...             ...   \n199             NaN         yue               Hant    Sino-Tibetan   \n200             zho         zho               Hans    Sino-Tibetan   \n201             zho         zho               Hant    Sino-Tibetan   \n202             NaN         zsm               Latn    Austronesian   \n203             zul         zul               Latn     Niger-Congo   \n\n                 Population Language Vitality  ... XLM-R Train Tokens  \\\n0    1 million to 1 billion        Endangered  ...                NaN   \n1    1 million to 1 billion        Endangered  ...                NaN   \n2    1 million to 1 billion     Institutional  ...                NaN   \n3    1 million to 1 billion     Institutional  ...                NaN   \n4    1 million to 1 billion     Institutional  ...                NaN   \n..                      ...               ...  ...                ...   \n199  1 million to 1 billion     Institutional  ...                NaN   \n200          1 billion plus     Institutional  ...              259.0   \n201          1 billion plus     Institutional  ...              176.0   \n202                    None     Institutional  ...             1318.0   \n203  1 million to 1 billion     Institutional  ...                NaN   \n\n    F1 Bloom-560M sampling  F1 Bloom-560M beam-search  \\\n0                 0.035714                   0.014548   \n1                 0.029306                   0.074956   \n2                 0.053613                   0.036458   \n3                 0.038295                   0.038158   \n4                 0.056647                   0.054823   \n..                     ...                        ...   \n199               0.110311                   0.031746   \n200               0.068555                   0.032927   \n201               0.036136                   0.051013   \n202               0.067582                   0.047711   \n203               0.033298                   0.063359   \n\n     F1 PolyLM-1.7b sampling  F1 PolyLM-1.7b beam-search  F1 Bloomz-560M  \\\n0                   0.042353                    0.046569        0.105192   \n1                   0.109695                    0.116462        0.352888   \n2                   0.068885                    0.128984        0.459507   \n3                   0.049175                    0.080324        0.460365   \n4                   0.089042                    0.068235        0.455299   \n..                       ...                         ...             ...   \n199                 0.067612                    0.057919        0.344580   \n200                 0.075991                    0.076000        0.327759   \n201                 0.128679                    0.090060        0.337263   \n202                 0.072207                    0.090327        0.392790   \n203                 0.051829                    0.070188        0.247997   \n\n     F1 Bloomz-1b1  F1 Bloomz-1b7  F1 Bloomz-3b  F1 Bloomz-7b1  \n0         0.094892       0.114471      0.142853         0.1020  \n1         0.260779       0.262736      0.335329         0.4112  \n2         0.382058       0.335226      0.435668         0.4919  \n3         0.330938       0.353313      0.453236         0.4965  \n4         0.343693       0.315781      0.442202         0.4663  \n..             ...            ...           ...            ...  \n199       0.321814       0.366669      0.482894         0.4993  \n200       0.330228       0.391396      0.489759         0.5081  \n201       0.356543       0.376002      0.485621         0.5203  \n202       0.316372       0.298548      0.451145         0.4952  \n203       0.161390       0.244301      0.345928         0.4085  \n\n[204 rows x 24 columns]",
      "text/html": "<div>\n<style scoped>\n    .dataframe tbody tr th:only-of-type {\n        vertical-align: middle;\n    }\n\n    .dataframe tbody tr th {\n        vertical-align: top;\n    }\n\n    .dataframe thead th {\n        text-align: right;\n    }\n</style>\n<table border=\"1\" class=\"dataframe\">\n  <thead>\n    <tr style=\"text-align: right;\">\n      <th></th>\n      <th>Folder Name</th>\n      <th>Language Name</th>\n      <th>ISO 639 - 1</th>\n      <th>ISO 639 - 2 (B)</th>\n      <th>ISO 639 - 2 (T)</th>\n      <th>ISO 639 - 3</th>\n      <th>Script (ISO 15924)</th>\n      <th>Language Family</th>\n      <th>Population</th>\n      <th>Language Vitality</th>\n      <th>...</th>\n      <th>XLM-R Train Tokens</th>\n      <th>F1 Bloom-560M sampling</th>\n      <th>F1 Bloom-560M beam-search</th>\n      <th>F1 PolyLM-1.7b sampling</th>\n      <th>F1 PolyLM-1.7b beam-search</th>\n      <th>F1 Bloomz-560M</th>\n      <th>F1 Bloomz-1b1</th>\n      <th>F1 Bloomz-1b7</th>\n      <th>F1 Bloomz-3b</th>\n      <th>F1 Bloomz-7b1</th>\n    </tr>\n  </thead>\n  <tbody>\n    <tr>\n      <th>0</th>\n      <td>ace_Arab</td>\n      <td>Aceh</td>\n      <td>NaN</td>\n      <td>ace</td>\n      <td>ace</td>\n      <td>ace</td>\n      <td>Arab</td>\n      <td>Austronesian</td>\n      <td>1 million to 1 billion</td>\n      <td>Endangered</td>\n      <td>...</td>\n      <td>NaN</td>\n      <td>0.035714</td>\n      <td>0.014548</td>\n      <td>0.042353</td>\n      <td>0.046569</td>\n      <td>0.105192</td>\n      <td>0.094892</td>\n      <td>0.114471</td>\n      <td>0.142853</td>\n      <td>0.1020</td>\n    </tr>\n    <tr>\n      <th>1</th>\n      <td>ace_Latn</td>\n      <td>Aceh</td>\n      <td>NaN</td>\n      <td>ace</td>\n      <td>ace</td>\n      <td>ace</td>\n      <td>Latn</td>\n      <td>Austronesian</td>\n      <td>1 million to 1 billion</td>\n      <td>Endangered</td>\n      <td>...</td>\n      <td>NaN</td>\n      <td>0.029306</td>\n      <td>0.074956</td>\n      <td>0.109695</td>\n      <td>0.116462</td>\n      <td>0.352888</td>\n      <td>0.260779</td>\n      <td>0.262736</td>\n      <td>0.335329</td>\n      <td>0.4112</td>\n    </tr>\n    <tr>\n      <th>2</th>\n      <td>acm_Arab</td>\n      <td>Mesopotamian Spoken Arabic</td>\n      <td>NaN</td>\n      <td>NaN</td>\n      <td>NaN</td>\n      <td>acm</td>\n      <td>Arab</td>\n      <td>Afro-Asiatic</td>\n      <td>1 million to 1 billion</td>\n      <td>Institutional</td>\n      <td>...</td>\n      <td>NaN</td>\n      <td>0.053613</td>\n      <td>0.036458</td>\n      <td>0.068885</td>\n      <td>0.128984</td>\n      <td>0.459507</td>\n      <td>0.382058</td>\n      <td>0.335226</td>\n      <td>0.435668</td>\n      <td>0.4919</td>\n    </tr>\n    <tr>\n      <th>3</th>\n      <td>acq_Arab</td>\n      <td>Arabic, Ta’izzi-Adeni Spoken</td>\n      <td>NaN</td>\n      <td>NaN</td>\n      <td>NaN</td>\n      <td>acq</td>\n      <td>Arab</td>\n      <td>Afro-Asiatic</td>\n      <td>1 million to 1 billion</td>\n      <td>Institutional</td>\n      <td>...</td>\n      <td>NaN</td>\n      <td>0.038295</td>\n      <td>0.038158</td>\n      <td>0.049175</td>\n      <td>0.080324</td>\n      <td>0.460365</td>\n      <td>0.330938</td>\n      <td>0.353313</td>\n      <td>0.453236</td>\n      <td>0.4965</td>\n    </tr>\n    <tr>\n      <th>4</th>\n      <td>aeb_Arab</td>\n      <td>Tunisian Spoken Arabic</td>\n      <td>NaN</td>\n      <td>NaN</td>\n      <td>NaN</td>\n      <td>aeb</td>\n      <td>Arab</td>\n      <td>Afro-Asiatic</td>\n      <td>1 million to 1 billion</td>\n      <td>Institutional</td>\n      <td>...</td>\n      <td>NaN</td>\n      <td>0.056647</td>\n      <td>0.054823</td>\n      <td>0.089042</td>\n      <td>0.068235</td>\n      <td>0.455299</td>\n      <td>0.343693</td>\n      <td>0.315781</td>\n      <td>0.442202</td>\n      <td>0.4663</td>\n    </tr>\n    <tr>\n      <th>...</th>\n      <td>...</td>\n      <td>...</td>\n      <td>...</td>\n      <td>...</td>\n      <td>...</td>\n      <td>...</td>\n      <td>...</td>\n      <td>...</td>\n      <td>...</td>\n      <td>...</td>\n      <td>...</td>\n      <td>...</td>\n      <td>...</td>\n      <td>...</td>\n      <td>...</td>\n      <td>...</td>\n      <td>...</td>\n      <td>...</td>\n      <td>...</td>\n      <td>...</td>\n      <td>...</td>\n    </tr>\n    <tr>\n      <th>199</th>\n      <td>yue_Hant</td>\n      <td>Yue Chinese</td>\n      <td>NaN</td>\n      <td>NaN</td>\n      <td>NaN</td>\n      <td>yue</td>\n      <td>Hant</td>\n      <td>Sino-Tibetan</td>\n      <td>1 million to 1 billion</td>\n      <td>Institutional</td>\n      <td>...</td>\n      <td>NaN</td>\n      <td>0.110311</td>\n      <td>0.031746</td>\n      <td>0.067612</td>\n      <td>0.057919</td>\n      <td>0.344580</td>\n      <td>0.321814</td>\n      <td>0.366669</td>\n      <td>0.482894</td>\n      <td>0.4993</td>\n    </tr>\n    <tr>\n      <th>200</th>\n      <td>zho_Hans</td>\n      <td>Chinese</td>\n      <td>zh</td>\n      <td>chi</td>\n      <td>zho</td>\n      <td>zho</td>\n      <td>Hans</td>\n      <td>Sino-Tibetan</td>\n      <td>1 billion plus</td>\n      <td>Institutional</td>\n      <td>...</td>\n      <td>259.0</td>\n      <td>0.068555</td>\n      <td>0.032927</td>\n      <td>0.075991</td>\n      <td>0.076000</td>\n      <td>0.327759</td>\n      <td>0.330228</td>\n      <td>0.391396</td>\n      <td>0.489759</td>\n      <td>0.5081</td>\n    </tr>\n    <tr>\n      <th>201</th>\n      <td>zho_Hant</td>\n      <td>Chinese</td>\n      <td>zh</td>\n      <td>chi</td>\n      <td>zho</td>\n      <td>zho</td>\n      <td>Hant</td>\n      <td>Sino-Tibetan</td>\n      <td>1 billion plus</td>\n      <td>Institutional</td>\n      <td>...</td>\n      <td>176.0</td>\n      <td>0.036136</td>\n      <td>0.051013</td>\n      <td>0.128679</td>\n      <td>0.090060</td>\n      <td>0.337263</td>\n      <td>0.356543</td>\n      <td>0.376002</td>\n      <td>0.485621</td>\n      <td>0.5203</td>\n    </tr>\n    <tr>\n      <th>202</th>\n      <td>zsm_Latn</td>\n      <td>Standard Malay</td>\n      <td>ms</td>\n      <td>NaN</td>\n      <td>NaN</td>\n      <td>zsm</td>\n      <td>Latn</td>\n      <td>Austronesian</td>\n      <td>None</td>\n      <td>Institutional</td>\n      <td>...</td>\n      <td>1318.0</td>\n      <td>0.067582</td>\n      <td>0.047711</td>\n      <td>0.072207</td>\n      <td>0.090327</td>\n      <td>0.392790</td>\n      <td>0.316372</td>\n      <td>0.298548</td>\n      <td>0.451145</td>\n      <td>0.4952</td>\n    </tr>\n    <tr>\n      <th>203</th>\n      <td>zul_Latn</td>\n      <td>Zulu</td>\n      <td>zu</td>\n      <td>zul</td>\n      <td>zul</td>\n      <td>zul</td>\n      <td>Latn</td>\n      <td>Niger-Congo</td>\n      <td>1 million to 1 billion</td>\n      <td>Institutional</td>\n      <td>...</td>\n      <td>NaN</td>\n      <td>0.033298</td>\n      <td>0.063359</td>\n      <td>0.051829</td>\n      <td>0.070188</td>\n      <td>0.247997</td>\n      <td>0.161390</td>\n      <td>0.244301</td>\n      <td>0.345928</td>\n      <td>0.4085</td>\n    </tr>\n  </tbody>\n</table>\n<p>204 rows × 24 columns</p>\n</div>"
     },
     "execution_count": 1,
     "metadata": {},
     "output_type": "execute_result"
    }
   ],
   "source": [
    "import pandas as pd\n",
    "\n",
    "df = pd.read_excel('SIB-200 languages - ACL.xlsx')\n",
    "df"
   ]
  },
  {
   "cell_type": "code",
   "execution_count": 2,
   "id": "9ec085e302f81484",
   "metadata": {
    "collapsed": false,
    "ExecuteTime": {
     "end_time": "2024-01-22T23:35:45.846570111Z",
     "start_time": "2024-01-22T23:35:45.828748327Z"
    }
   },
   "outputs": [
    {
     "data": {
      "text/plain": "                     Language Name Language Family Script (ISO 15924)  \\\n0                             Aceh    Austronesian               Arab   \n1                             Aceh    Austronesian               Latn   \n2       Mesopotamian Spoken Arabic    Afro-Asiatic               Arab   \n3     Arabic, Ta’izzi-Adeni Spoken    Afro-Asiatic               Arab   \n4           Tunisian Spoken Arabic    Afro-Asiatic               Arab   \n...                            ...             ...                ...   \n1015                   Yue Chinese    Sino-Tibetan               Hant   \n1016                       Chinese    Sino-Tibetan               Hans   \n1017                       Chinese    Sino-Tibetan               Hant   \n1018                Standard Malay    Austronesian               Latn   \n1019                          Zulu     Niger-Congo               Latn   \n\n     Resource Level              Population Language Vitality  \\\n0                 1  1 million to 1 billion        Endangered   \n1                 1  1 million to 1 billion        Endangered   \n2              None  1 million to 1 billion     Institutional   \n3              None  1 million to 1 billion     Institutional   \n4              None  1 million to 1 billion     Institutional   \n...             ...                     ...               ...   \n1015           None  1 million to 1 billion     Institutional   \n1016              5          1 billion plus     Institutional   \n1017              5          1 billion plus     Institutional   \n1018              3                    None     Institutional   \n1019              2  1 million to 1 billion     Institutional   \n\n     Digital Language Support  Bloom Train Data Percentage  \\\n0                   Ascending                          NaN   \n1                   Ascending                          NaN   \n2                    Emerging                          NaN   \n3                    Emerging                          NaN   \n4                    Emerging                          NaN   \n...                       ...                          ...   \n1015                    Vital                          NaN   \n1016                 Thriving                       16.200   \n1017                 Thriving                        0.050   \n1018                    Vital                          NaN   \n1019                    Vital                        0.001   \n\n      BLOOMZ Finetune Data           Model  F1 Score  \n0                      NaN  F1 Bloomz-560M  0.105192  \n1                      NaN  F1 Bloomz-560M  0.352888  \n2                      NaN  F1 Bloomz-560M  0.459507  \n3                      NaN  F1 Bloomz-560M  0.460365  \n4                      NaN  F1 Bloomz-560M  0.455299  \n...                    ...             ...       ...  \n1015                   NaN   F1 Bloomz-7b1  0.499300  \n1016                  4.51   F1 Bloomz-7b1  0.508100  \n1017                   NaN   F1 Bloomz-7b1  0.520300  \n1018                   NaN   F1 Bloomz-7b1  0.495200  \n1019                  1.16   F1 Bloomz-7b1  0.408500  \n\n[1020 rows x 11 columns]",
      "text/html": "<div>\n<style scoped>\n    .dataframe tbody tr th:only-of-type {\n        vertical-align: middle;\n    }\n\n    .dataframe tbody tr th {\n        vertical-align: top;\n    }\n\n    .dataframe thead th {\n        text-align: right;\n    }\n</style>\n<table border=\"1\" class=\"dataframe\">\n  <thead>\n    <tr style=\"text-align: right;\">\n      <th></th>\n      <th>Language Name</th>\n      <th>Language Family</th>\n      <th>Script (ISO 15924)</th>\n      <th>Resource Level</th>\n      <th>Population</th>\n      <th>Language Vitality</th>\n      <th>Digital Language Support</th>\n      <th>Bloom Train Data Percentage</th>\n      <th>BLOOMZ Finetune Data</th>\n      <th>Model</th>\n      <th>F1 Score</th>\n    </tr>\n  </thead>\n  <tbody>\n    <tr>\n      <th>0</th>\n      <td>Aceh</td>\n      <td>Austronesian</td>\n      <td>Arab</td>\n      <td>1</td>\n      <td>1 million to 1 billion</td>\n      <td>Endangered</td>\n      <td>Ascending</td>\n      <td>NaN</td>\n      <td>NaN</td>\n      <td>F1 Bloomz-560M</td>\n      <td>0.105192</td>\n    </tr>\n    <tr>\n      <th>1</th>\n      <td>Aceh</td>\n      <td>Austronesian</td>\n      <td>Latn</td>\n      <td>1</td>\n      <td>1 million to 1 billion</td>\n      <td>Endangered</td>\n      <td>Ascending</td>\n      <td>NaN</td>\n      <td>NaN</td>\n      <td>F1 Bloomz-560M</td>\n      <td>0.352888</td>\n    </tr>\n    <tr>\n      <th>2</th>\n      <td>Mesopotamian Spoken Arabic</td>\n      <td>Afro-Asiatic</td>\n      <td>Arab</td>\n      <td>None</td>\n      <td>1 million to 1 billion</td>\n      <td>Institutional</td>\n      <td>Emerging</td>\n      <td>NaN</td>\n      <td>NaN</td>\n      <td>F1 Bloomz-560M</td>\n      <td>0.459507</td>\n    </tr>\n    <tr>\n      <th>3</th>\n      <td>Arabic, Ta’izzi-Adeni Spoken</td>\n      <td>Afro-Asiatic</td>\n      <td>Arab</td>\n      <td>None</td>\n      <td>1 million to 1 billion</td>\n      <td>Institutional</td>\n      <td>Emerging</td>\n      <td>NaN</td>\n      <td>NaN</td>\n      <td>F1 Bloomz-560M</td>\n      <td>0.460365</td>\n    </tr>\n    <tr>\n      <th>4</th>\n      <td>Tunisian Spoken Arabic</td>\n      <td>Afro-Asiatic</td>\n      <td>Arab</td>\n      <td>None</td>\n      <td>1 million to 1 billion</td>\n      <td>Institutional</td>\n      <td>Emerging</td>\n      <td>NaN</td>\n      <td>NaN</td>\n      <td>F1 Bloomz-560M</td>\n      <td>0.455299</td>\n    </tr>\n    <tr>\n      <th>...</th>\n      <td>...</td>\n      <td>...</td>\n      <td>...</td>\n      <td>...</td>\n      <td>...</td>\n      <td>...</td>\n      <td>...</td>\n      <td>...</td>\n      <td>...</td>\n      <td>...</td>\n      <td>...</td>\n    </tr>\n    <tr>\n      <th>1015</th>\n      <td>Yue Chinese</td>\n      <td>Sino-Tibetan</td>\n      <td>Hant</td>\n      <td>None</td>\n      <td>1 million to 1 billion</td>\n      <td>Institutional</td>\n      <td>Vital</td>\n      <td>NaN</td>\n      <td>NaN</td>\n      <td>F1 Bloomz-7b1</td>\n      <td>0.499300</td>\n    </tr>\n    <tr>\n      <th>1016</th>\n      <td>Chinese</td>\n      <td>Sino-Tibetan</td>\n      <td>Hans</td>\n      <td>5</td>\n      <td>1 billion plus</td>\n      <td>Institutional</td>\n      <td>Thriving</td>\n      <td>16.200</td>\n      <td>4.51</td>\n      <td>F1 Bloomz-7b1</td>\n      <td>0.508100</td>\n    </tr>\n    <tr>\n      <th>1017</th>\n      <td>Chinese</td>\n      <td>Sino-Tibetan</td>\n      <td>Hant</td>\n      <td>5</td>\n      <td>1 billion plus</td>\n      <td>Institutional</td>\n      <td>Thriving</td>\n      <td>0.050</td>\n      <td>NaN</td>\n      <td>F1 Bloomz-7b1</td>\n      <td>0.520300</td>\n    </tr>\n    <tr>\n      <th>1018</th>\n      <td>Standard Malay</td>\n      <td>Austronesian</td>\n      <td>Latn</td>\n      <td>3</td>\n      <td>None</td>\n      <td>Institutional</td>\n      <td>Vital</td>\n      <td>NaN</td>\n      <td>NaN</td>\n      <td>F1 Bloomz-7b1</td>\n      <td>0.495200</td>\n    </tr>\n    <tr>\n      <th>1019</th>\n      <td>Zulu</td>\n      <td>Niger-Congo</td>\n      <td>Latn</td>\n      <td>2</td>\n      <td>1 million to 1 billion</td>\n      <td>Institutional</td>\n      <td>Vital</td>\n      <td>0.001</td>\n      <td>1.16</td>\n      <td>F1 Bloomz-7b1</td>\n      <td>0.408500</td>\n    </tr>\n  </tbody>\n</table>\n<p>1020 rows × 11 columns</p>\n</div>"
     },
     "execution_count": 2,
     "metadata": {},
     "output_type": "execute_result"
    }
   ],
   "source": [
    "import pandas as pd\n",
    "\n",
    "# Select relevant columns for analysis\n",
    "columns_to_plot = ['Language Name', 'Language Family', 'Script (ISO 15924)', 'Resource Level', 'Population', 'Language Vitality', 'Digital Language Support', \n",
    "                   'Bloom Train Data Percentage', 'BLOOMZ Finetune Data', \n",
    "                   'F1 Bloomz-560M', 'F1 Bloomz-1b1', 'F1 Bloomz-1b7', 'F1 Bloomz-3b', 'F1 Bloomz-7b1']\n",
    "\n",
    "# Melt the DataFrame to make it suitable for plotting\n",
    "melted_df = pd.melt(df, id_vars=columns_to_plot[:9], value_vars=columns_to_plot[9:],\n",
    "                    var_name='Model', value_name='F1 Score')\n",
    "melted_df"
   ]
  },
  {
   "cell_type": "code",
   "execution_count": 3,
   "id": "ef17e461ca40af21",
   "metadata": {
    "collapsed": false,
    "ExecuteTime": {
     "end_time": "2024-01-22T23:35:48.045524812Z",
     "start_time": "2024-01-22T23:35:47.970549764Z"
    }
   },
   "outputs": [],
   "source": [
    "import plotly.io as pio\n",
    "pio.renderers.default = 'vscode'"
   ]
  },
  {
   "cell_type": "code",
   "execution_count": 4,
   "id": "57ebb0144cf30395",
   "metadata": {
    "collapsed": false,
    "ExecuteTime": {
     "end_time": "2024-01-22T23:35:49.565853152Z",
     "start_time": "2024-01-22T23:35:49.559042825Z"
    }
   },
   "outputs": [],
   "source": [
    "from functools import reduce\n",
    "import operator\n",
    "\n",
    "def filter_df(melted_df: pd.DataFrame, filter: str = None, value: str = None, only_bloom: bool = False, only_bloomz: bool = False) -> pd.DataFrame:\n",
    "    conditions = []  # Initialize an empty list to store conditions\n",
    "    if filter is not None and value is not None:\n",
    "        conditions.append(melted_df[filter] == value)\n",
    "    if only_bloom:\n",
    "        conditions.append(melted_df['Bloom Train Data Percentage'] > 0)\n",
    "    if only_bloomz:\n",
    "        conditions.append(melted_df['BLOOMZ Finetune Data'] > 0)\n",
    "\n",
    "    # If no conditions were added, return the original DataFrame\n",
    "    if not conditions:\n",
    "        return melted_df\n",
    "\n",
    "    # Use reduce with the logical AND operator to combine conditions\n",
    "    combined_conditions = reduce(operator.and_, conditions)\n",
    "\n",
    "    return melted_df[combined_conditions]"
   ]
  },
  {
   "cell_type": "code",
   "outputs": [
    {
     "data": {
      "application/vnd.plotly.v1+json": {
       "data": [
        {
         "alignmentgroup": "True",
         "hovertemplate": "Model=%{x}<br>F1 Score=%{y}<extra></extra>",
         "legendgroup": "F1 Bloomz-560M",
         "marker": {
          "color": "#636efa"
         },
         "name": "F1 Bloomz-560M",
         "notched": false,
         "offsetgroup": "F1 Bloomz-560M",
         "orientation": "v",
         "showlegend": true,
         "x": [
          "F1 Bloomz-560M",
          "F1 Bloomz-560M",
          "F1 Bloomz-560M",
          "F1 Bloomz-560M",
          "F1 Bloomz-560M",
          "F1 Bloomz-560M",
          "F1 Bloomz-560M",
          "F1 Bloomz-560M",
          "F1 Bloomz-560M",
          "F1 Bloomz-560M",
          "F1 Bloomz-560M",
          "F1 Bloomz-560M"
         ],
         "x0": " ",
         "xaxis": "x",
         "y": [
          0.310248032497588,
          0.2381400853513182,
          0.494547665855617,
          0.4387968835643254,
          0.2378989011581146,
          0.4155700502492404,
          0.3004678350313753,
          0.3940721003134797,
          0.398363107814965,
          0.3016214779372674,
          0.2544030794975366,
          0.3185596008615901
         ],
         "y0": " ",
         "yaxis": "y",
         "type": "box"
        },
        {
         "alignmentgroup": "True",
         "hovertemplate": "Model=%{x}<br>F1 Score=%{y}<extra></extra>",
         "legendgroup": "F1 Bloomz-1b1",
         "marker": {
          "color": "#EF553B"
         },
         "name": "F1 Bloomz-1b1",
         "notched": false,
         "offsetgroup": "F1 Bloomz-1b1",
         "orientation": "v",
         "showlegend": true,
         "x": [
          "F1 Bloomz-1b1",
          "F1 Bloomz-1b1",
          "F1 Bloomz-1b1",
          "F1 Bloomz-1b1",
          "F1 Bloomz-1b1",
          "F1 Bloomz-1b1",
          "F1 Bloomz-1b1",
          "F1 Bloomz-1b1",
          "F1 Bloomz-1b1",
          "F1 Bloomz-1b1",
          "F1 Bloomz-1b1",
          "F1 Bloomz-1b1"
         ],
         "x0": " ",
         "xaxis": "x",
         "y": [
          0.262674584103155,
          0.214927666218214,
          0.340967332623886,
          0.308508996201712,
          0.176771054141471,
          0.356474511804722,
          0.23923384139014,
          0.278987678987679,
          0.309623824451411,
          0.20415287327052,
          0.192519892760646,
          0.300408096510152
         ],
         "y0": " ",
         "yaxis": "y",
         "type": "box"
        },
        {
         "alignmentgroup": "True",
         "hovertemplate": "Model=%{x}<br>F1 Score=%{y}<extra></extra>",
         "legendgroup": "F1 Bloomz-1b7",
         "marker": {
          "color": "#00cc96"
         },
         "name": "F1 Bloomz-1b7",
         "notched": false,
         "offsetgroup": "F1 Bloomz-1b7",
         "orientation": "v",
         "showlegend": true,
         "x": [
          "F1 Bloomz-1b7",
          "F1 Bloomz-1b7",
          "F1 Bloomz-1b7",
          "F1 Bloomz-1b7",
          "F1 Bloomz-1b7",
          "F1 Bloomz-1b7",
          "F1 Bloomz-1b7",
          "F1 Bloomz-1b7",
          "F1 Bloomz-1b7",
          "F1 Bloomz-1b7",
          "F1 Bloomz-1b7",
          "F1 Bloomz-1b7"
         ],
         "x0": " ",
         "xaxis": "x",
         "y": [
          0.244945394372259,
          0.219351312514928,
          0.342571118397731,
          0.307918053127291,
          0.183735528007713,
          0.363795071814554,
          0.253471745367692,
          0.347828292580985,
          0.380685614624586,
          0.266981876345761,
          0.219629897121645,
          0.279117150983332
         ],
         "y0": " ",
         "yaxis": "y",
         "type": "box"
        },
        {
         "alignmentgroup": "True",
         "hovertemplate": "Model=%{x}<br>F1 Score=%{y}<extra></extra>",
         "legendgroup": "F1 Bloomz-3b",
         "marker": {
          "color": "#ab63fa"
         },
         "name": "F1 Bloomz-3b",
         "notched": false,
         "offsetgroup": "F1 Bloomz-3b",
         "orientation": "v",
         "showlegend": true,
         "x": [
          "F1 Bloomz-3b",
          "F1 Bloomz-3b",
          "F1 Bloomz-3b",
          "F1 Bloomz-3b",
          "F1 Bloomz-3b",
          "F1 Bloomz-3b",
          "F1 Bloomz-3b",
          "F1 Bloomz-3b",
          "F1 Bloomz-3b",
          "F1 Bloomz-3b",
          "F1 Bloomz-3b",
          "F1 Bloomz-3b"
         ],
         "x0": " ",
         "xaxis": "x",
         "y": [
          0.353334084969588,
          0.303137833497269,
          0.468189708472662,
          0.458974951142749,
          0.28559235575745,
          0.467202146332743,
          0.358427308795794,
          0.474578989869755,
          0.475748646482015,
          0.356734917262025,
          0.342146274777854,
          0.382615844521307
         ],
         "y0": " ",
         "yaxis": "y",
         "type": "box"
        },
        {
         "alignmentgroup": "True",
         "hovertemplate": "Model=%{x}<br>F1 Score=%{y}<extra></extra>",
         "legendgroup": "F1 Bloomz-7b1",
         "marker": {
          "color": "#FFA15A"
         },
         "name": "F1 Bloomz-7b1",
         "notched": false,
         "offsetgroup": "F1 Bloomz-7b1",
         "orientation": "v",
         "showlegend": true,
         "x": [
          "F1 Bloomz-7b1",
          "F1 Bloomz-7b1",
          "F1 Bloomz-7b1",
          "F1 Bloomz-7b1",
          "F1 Bloomz-7b1",
          "F1 Bloomz-7b1",
          "F1 Bloomz-7b1",
          "F1 Bloomz-7b1",
          "F1 Bloomz-7b1",
          "F1 Bloomz-7b1",
          "F1 Bloomz-7b1",
          "F1 Bloomz-7b1"
         ],
         "x0": " ",
         "xaxis": "x",
         "y": [
          0.404,
          0.3603,
          0.5292,
          0.5348,
          0.2923,
          0.5266,
          0.4421,
          0.515,
          0.5375,
          0.4081,
          0.436,
          0.4153
         ],
         "y0": " ",
         "yaxis": "y",
         "type": "box"
        }
       ],
       "layout": {
        "template": {
         "data": {
          "histogram2dcontour": [
           {
            "type": "histogram2dcontour",
            "colorbar": {
             "outlinewidth": 0,
             "ticks": ""
            },
            "colorscale": [
             [
              0.0,
              "#0d0887"
             ],
             [
              0.1111111111111111,
              "#46039f"
             ],
             [
              0.2222222222222222,
              "#7201a8"
             ],
             [
              0.3333333333333333,
              "#9c179e"
             ],
             [
              0.4444444444444444,
              "#bd3786"
             ],
             [
              0.5555555555555556,
              "#d8576b"
             ],
             [
              0.6666666666666666,
              "#ed7953"
             ],
             [
              0.7777777777777778,
              "#fb9f3a"
             ],
             [
              0.8888888888888888,
              "#fdca26"
             ],
             [
              1.0,
              "#f0f921"
             ]
            ]
           }
          ],
          "choropleth": [
           {
            "type": "choropleth",
            "colorbar": {
             "outlinewidth": 0,
             "ticks": ""
            }
           }
          ],
          "histogram2d": [
           {
            "type": "histogram2d",
            "colorbar": {
             "outlinewidth": 0,
             "ticks": ""
            },
            "colorscale": [
             [
              0.0,
              "#0d0887"
             ],
             [
              0.1111111111111111,
              "#46039f"
             ],
             [
              0.2222222222222222,
              "#7201a8"
             ],
             [
              0.3333333333333333,
              "#9c179e"
             ],
             [
              0.4444444444444444,
              "#bd3786"
             ],
             [
              0.5555555555555556,
              "#d8576b"
             ],
             [
              0.6666666666666666,
              "#ed7953"
             ],
             [
              0.7777777777777778,
              "#fb9f3a"
             ],
             [
              0.8888888888888888,
              "#fdca26"
             ],
             [
              1.0,
              "#f0f921"
             ]
            ]
           }
          ],
          "heatmap": [
           {
            "type": "heatmap",
            "colorbar": {
             "outlinewidth": 0,
             "ticks": ""
            },
            "colorscale": [
             [
              0.0,
              "#0d0887"
             ],
             [
              0.1111111111111111,
              "#46039f"
             ],
             [
              0.2222222222222222,
              "#7201a8"
             ],
             [
              0.3333333333333333,
              "#9c179e"
             ],
             [
              0.4444444444444444,
              "#bd3786"
             ],
             [
              0.5555555555555556,
              "#d8576b"
             ],
             [
              0.6666666666666666,
              "#ed7953"
             ],
             [
              0.7777777777777778,
              "#fb9f3a"
             ],
             [
              0.8888888888888888,
              "#fdca26"
             ],
             [
              1.0,
              "#f0f921"
             ]
            ]
           }
          ],
          "heatmapgl": [
           {
            "type": "heatmapgl",
            "colorbar": {
             "outlinewidth": 0,
             "ticks": ""
            },
            "colorscale": [
             [
              0.0,
              "#0d0887"
             ],
             [
              0.1111111111111111,
              "#46039f"
             ],
             [
              0.2222222222222222,
              "#7201a8"
             ],
             [
              0.3333333333333333,
              "#9c179e"
             ],
             [
              0.4444444444444444,
              "#bd3786"
             ],
             [
              0.5555555555555556,
              "#d8576b"
             ],
             [
              0.6666666666666666,
              "#ed7953"
             ],
             [
              0.7777777777777778,
              "#fb9f3a"
             ],
             [
              0.8888888888888888,
              "#fdca26"
             ],
             [
              1.0,
              "#f0f921"
             ]
            ]
           }
          ],
          "contourcarpet": [
           {
            "type": "contourcarpet",
            "colorbar": {
             "outlinewidth": 0,
             "ticks": ""
            }
           }
          ],
          "contour": [
           {
            "type": "contour",
            "colorbar": {
             "outlinewidth": 0,
             "ticks": ""
            },
            "colorscale": [
             [
              0.0,
              "#0d0887"
             ],
             [
              0.1111111111111111,
              "#46039f"
             ],
             [
              0.2222222222222222,
              "#7201a8"
             ],
             [
              0.3333333333333333,
              "#9c179e"
             ],
             [
              0.4444444444444444,
              "#bd3786"
             ],
             [
              0.5555555555555556,
              "#d8576b"
             ],
             [
              0.6666666666666666,
              "#ed7953"
             ],
             [
              0.7777777777777778,
              "#fb9f3a"
             ],
             [
              0.8888888888888888,
              "#fdca26"
             ],
             [
              1.0,
              "#f0f921"
             ]
            ]
           }
          ],
          "surface": [
           {
            "type": "surface",
            "colorbar": {
             "outlinewidth": 0,
             "ticks": ""
            },
            "colorscale": [
             [
              0.0,
              "#0d0887"
             ],
             [
              0.1111111111111111,
              "#46039f"
             ],
             [
              0.2222222222222222,
              "#7201a8"
             ],
             [
              0.3333333333333333,
              "#9c179e"
             ],
             [
              0.4444444444444444,
              "#bd3786"
             ],
             [
              0.5555555555555556,
              "#d8576b"
             ],
             [
              0.6666666666666666,
              "#ed7953"
             ],
             [
              0.7777777777777778,
              "#fb9f3a"
             ],
             [
              0.8888888888888888,
              "#fdca26"
             ],
             [
              1.0,
              "#f0f921"
             ]
            ]
           }
          ],
          "mesh3d": [
           {
            "type": "mesh3d",
            "colorbar": {
             "outlinewidth": 0,
             "ticks": ""
            }
           }
          ],
          "scatter": [
           {
            "fillpattern": {
             "fillmode": "overlay",
             "size": 10,
             "solidity": 0.2
            },
            "type": "scatter"
           }
          ],
          "parcoords": [
           {
            "type": "parcoords",
            "line": {
             "colorbar": {
              "outlinewidth": 0,
              "ticks": ""
             }
            }
           }
          ],
          "scatterpolargl": [
           {
            "type": "scatterpolargl",
            "marker": {
             "colorbar": {
              "outlinewidth": 0,
              "ticks": ""
             }
            }
           }
          ],
          "bar": [
           {
            "error_x": {
             "color": "#2a3f5f"
            },
            "error_y": {
             "color": "#2a3f5f"
            },
            "marker": {
             "line": {
              "color": "#E5ECF6",
              "width": 0.5
             },
             "pattern": {
              "fillmode": "overlay",
              "size": 10,
              "solidity": 0.2
             }
            },
            "type": "bar"
           }
          ],
          "scattergeo": [
           {
            "type": "scattergeo",
            "marker": {
             "colorbar": {
              "outlinewidth": 0,
              "ticks": ""
             }
            }
           }
          ],
          "scatterpolar": [
           {
            "type": "scatterpolar",
            "marker": {
             "colorbar": {
              "outlinewidth": 0,
              "ticks": ""
             }
            }
           }
          ],
          "histogram": [
           {
            "marker": {
             "pattern": {
              "fillmode": "overlay",
              "size": 10,
              "solidity": 0.2
             }
            },
            "type": "histogram"
           }
          ],
          "scattergl": [
           {
            "type": "scattergl",
            "marker": {
             "colorbar": {
              "outlinewidth": 0,
              "ticks": ""
             }
            }
           }
          ],
          "scatter3d": [
           {
            "type": "scatter3d",
            "line": {
             "colorbar": {
              "outlinewidth": 0,
              "ticks": ""
             }
            },
            "marker": {
             "colorbar": {
              "outlinewidth": 0,
              "ticks": ""
             }
            }
           }
          ],
          "scattermapbox": [
           {
            "type": "scattermapbox",
            "marker": {
             "colorbar": {
              "outlinewidth": 0,
              "ticks": ""
             }
            }
           }
          ],
          "scatterternary": [
           {
            "type": "scatterternary",
            "marker": {
             "colorbar": {
              "outlinewidth": 0,
              "ticks": ""
             }
            }
           }
          ],
          "scattercarpet": [
           {
            "type": "scattercarpet",
            "marker": {
             "colorbar": {
              "outlinewidth": 0,
              "ticks": ""
             }
            }
           }
          ],
          "carpet": [
           {
            "aaxis": {
             "endlinecolor": "#2a3f5f",
             "gridcolor": "white",
             "linecolor": "white",
             "minorgridcolor": "white",
             "startlinecolor": "#2a3f5f"
            },
            "baxis": {
             "endlinecolor": "#2a3f5f",
             "gridcolor": "white",
             "linecolor": "white",
             "minorgridcolor": "white",
             "startlinecolor": "#2a3f5f"
            },
            "type": "carpet"
           }
          ],
          "table": [
           {
            "cells": {
             "fill": {
              "color": "#EBF0F8"
             },
             "line": {
              "color": "white"
             }
            },
            "header": {
             "fill": {
              "color": "#C8D4E3"
             },
             "line": {
              "color": "white"
             }
            },
            "type": "table"
           }
          ],
          "barpolar": [
           {
            "marker": {
             "line": {
              "color": "#E5ECF6",
              "width": 0.5
             },
             "pattern": {
              "fillmode": "overlay",
              "size": 10,
              "solidity": 0.2
             }
            },
            "type": "barpolar"
           }
          ],
          "pie": [
           {
            "automargin": true,
            "type": "pie"
           }
          ]
         },
         "layout": {
          "autotypenumbers": "strict",
          "colorway": [
           "#636efa",
           "#EF553B",
           "#00cc96",
           "#ab63fa",
           "#FFA15A",
           "#19d3f3",
           "#FF6692",
           "#B6E880",
           "#FF97FF",
           "#FECB52"
          ],
          "font": {
           "color": "#2a3f5f"
          },
          "hovermode": "closest",
          "hoverlabel": {
           "align": "left"
          },
          "paper_bgcolor": "white",
          "plot_bgcolor": "#E5ECF6",
          "polar": {
           "bgcolor": "#E5ECF6",
           "angularaxis": {
            "gridcolor": "white",
            "linecolor": "white",
            "ticks": ""
           },
           "radialaxis": {
            "gridcolor": "white",
            "linecolor": "white",
            "ticks": ""
           }
          },
          "ternary": {
           "bgcolor": "#E5ECF6",
           "aaxis": {
            "gridcolor": "white",
            "linecolor": "white",
            "ticks": ""
           },
           "baxis": {
            "gridcolor": "white",
            "linecolor": "white",
            "ticks": ""
           },
           "caxis": {
            "gridcolor": "white",
            "linecolor": "white",
            "ticks": ""
           }
          },
          "coloraxis": {
           "colorbar": {
            "outlinewidth": 0,
            "ticks": ""
           }
          },
          "colorscale": {
           "sequential": [
            [
             0.0,
             "#0d0887"
            ],
            [
             0.1111111111111111,
             "#46039f"
            ],
            [
             0.2222222222222222,
             "#7201a8"
            ],
            [
             0.3333333333333333,
             "#9c179e"
            ],
            [
             0.4444444444444444,
             "#bd3786"
            ],
            [
             0.5555555555555556,
             "#d8576b"
            ],
            [
             0.6666666666666666,
             "#ed7953"
            ],
            [
             0.7777777777777778,
             "#fb9f3a"
            ],
            [
             0.8888888888888888,
             "#fdca26"
            ],
            [
             1.0,
             "#f0f921"
            ]
           ],
           "sequentialminus": [
            [
             0.0,
             "#0d0887"
            ],
            [
             0.1111111111111111,
             "#46039f"
            ],
            [
             0.2222222222222222,
             "#7201a8"
            ],
            [
             0.3333333333333333,
             "#9c179e"
            ],
            [
             0.4444444444444444,
             "#bd3786"
            ],
            [
             0.5555555555555556,
             "#d8576b"
            ],
            [
             0.6666666666666666,
             "#ed7953"
            ],
            [
             0.7777777777777778,
             "#fb9f3a"
            ],
            [
             0.8888888888888888,
             "#fdca26"
            ],
            [
             1.0,
             "#f0f921"
            ]
           ],
           "diverging": [
            [
             0,
             "#8e0152"
            ],
            [
             0.1,
             "#c51b7d"
            ],
            [
             0.2,
             "#de77ae"
            ],
            [
             0.3,
             "#f1b6da"
            ],
            [
             0.4,
             "#fde0ef"
            ],
            [
             0.5,
             "#f7f7f7"
            ],
            [
             0.6,
             "#e6f5d0"
            ],
            [
             0.7,
             "#b8e186"
            ],
            [
             0.8,
             "#7fbc41"
            ],
            [
             0.9,
             "#4d9221"
            ],
            [
             1,
             "#276419"
            ]
           ]
          },
          "xaxis": {
           "gridcolor": "white",
           "linecolor": "white",
           "ticks": "",
           "title": {
            "standoff": 15
           },
           "zerolinecolor": "white",
           "automargin": true,
           "zerolinewidth": 2
          },
          "yaxis": {
           "gridcolor": "white",
           "linecolor": "white",
           "ticks": "",
           "title": {
            "standoff": 15
           },
           "zerolinecolor": "white",
           "automargin": true,
           "zerolinewidth": 2
          },
          "scene": {
           "xaxis": {
            "backgroundcolor": "#E5ECF6",
            "gridcolor": "white",
            "linecolor": "white",
            "showbackground": true,
            "ticks": "",
            "zerolinecolor": "white",
            "gridwidth": 2
           },
           "yaxis": {
            "backgroundcolor": "#E5ECF6",
            "gridcolor": "white",
            "linecolor": "white",
            "showbackground": true,
            "ticks": "",
            "zerolinecolor": "white",
            "gridwidth": 2
           },
           "zaxis": {
            "backgroundcolor": "#E5ECF6",
            "gridcolor": "white",
            "linecolor": "white",
            "showbackground": true,
            "ticks": "",
            "zerolinecolor": "white",
            "gridwidth": 2
           }
          },
          "shapedefaults": {
           "line": {
            "color": "#2a3f5f"
           }
          },
          "annotationdefaults": {
           "arrowcolor": "#2a3f5f",
           "arrowhead": 0,
           "arrowwidth": 1
          },
          "geo": {
           "bgcolor": "white",
           "landcolor": "#E5ECF6",
           "subunitcolor": "white",
           "showland": true,
           "showlakes": true,
           "lakecolor": "white"
          },
          "title": {
           "x": 0.05
          },
          "mapbox": {
           "style": "light"
          }
         }
        },
        "xaxis": {
         "anchor": "y",
         "domain": [
          0.0,
          1.0
         ],
         "title": {
          "text": "Model"
         },
         "categoryorder": "array",
         "categoryarray": [
          "F1 Bloomz-560M",
          "F1 Bloomz-1b1",
          "F1 Bloomz-1b7",
          "F1 Bloomz-3b",
          "F1 Bloomz-7b1"
         ]
        },
        "yaxis": {
         "anchor": "x",
         "domain": [
          0.0,
          1.0
         ],
         "title": {
          "text": "F1 Score"
         }
        },
        "legend": {
         "title": {
          "text": "Model"
         },
         "tracegroupgap": 0
        },
        "title": {
         "text": "Box Plot for F1 Scores For All Languages (None = None, Only Bloomz = True, Only Bloom = True)"
        },
        "boxmode": "overlay"
       },
       "config": {
        "plotlyServerURL": "https://plot.ly"
       }
      }
     },
     "metadata": {},
     "output_type": "display_data"
    }
   ],
   "source": [
    "import plotly.express as px\n",
    "only_bloom = True\n",
    "only_bloomz = True\n",
    "filter = None\n",
    "value = None\n",
    "\n",
    "# filtered_df = filter_df(melted_df, filter, value, only_bloom=only_bloom, only_bloomz=only_bloomz)\n",
    "fig = px.box(melted_df[melted_df['BLOOMZ Finetune Data'] <= 0.34], x='Model', y='F1 Score',\n",
    "             color='Model', title=f'Box Plot for F1 Scores For All Languages ({filter} = {value}, Only Bloomz = {only_bloomz}, Only Bloom = {only_bloom})',\n",
    "             labels={'F1 Score': 'F1 Score', 'Model': 'Model'})\n",
    "\n",
    "fig.show()"
   ],
   "metadata": {
    "collapsed": false,
    "ExecuteTime": {
     "end_time": "2024-01-22T23:53:03.166321706Z",
     "start_time": "2024-01-22T23:53:03.107509442Z"
    }
   },
   "id": "6b0a893a2df85aac",
   "execution_count": 20
  },
  {
   "cell_type": "code",
   "outputs": [
    {
     "data": {
      "application/vnd.plotly.v1+json": {
       "data": [
        {
         "alignmentgroup": "True",
         "hovertemplate": "Model=%{x}<br>F1 Score=%{y}<extra></extra>",
         "legendgroup": "F1 Bloomz-560M",
         "marker": {
          "color": "#636efa"
         },
         "name": "F1 Bloomz-560M",
         "notched": false,
         "offsetgroup": "F1 Bloomz-560M",
         "orientation": "v",
         "showlegend": true,
         "x": [
          "F1 Bloomz-560M",
          "F1 Bloomz-560M",
          "F1 Bloomz-560M",
          "F1 Bloomz-560M",
          "F1 Bloomz-560M",
          "F1 Bloomz-560M",
          "F1 Bloomz-560M",
          "F1 Bloomz-560M",
          "F1 Bloomz-560M",
          "F1 Bloomz-560M"
         ],
         "x0": " ",
         "xaxis": "x",
         "y": [
          0.4568021014073646,
          0.5217400167074505,
          0.5243499555999556,
          0.3611615433549396,
          0.4582668860944492,
          0.511097244046414,
          0.4886778969439165,
          0.3162987370080736,
          0.3820677196008129,
          0.3277587714927868
         ],
         "y0": " ",
         "yaxis": "y",
         "type": "box"
        },
        {
         "alignmentgroup": "True",
         "hovertemplate": "Model=%{x}<br>F1 Score=%{y}<extra></extra>",
         "legendgroup": "F1 Bloomz-1b1",
         "marker": {
          "color": "#EF553B"
         },
         "name": "F1 Bloomz-1b1",
         "notched": false,
         "offsetgroup": "F1 Bloomz-1b1",
         "orientation": "v",
         "showlegend": true,
         "x": [
          "F1 Bloomz-1b1",
          "F1 Bloomz-1b1",
          "F1 Bloomz-1b1",
          "F1 Bloomz-1b1",
          "F1 Bloomz-1b1",
          "F1 Bloomz-1b1",
          "F1 Bloomz-1b1",
          "F1 Bloomz-1b1",
          "F1 Bloomz-1b1",
          "F1 Bloomz-1b1"
         ],
         "x0": " ",
         "xaxis": "x",
         "y": [
          0.346219733522199,
          0.386150448404891,
          0.396907944748308,
          0.353627171683537,
          0.319229099120519,
          0.372691496940639,
          0.36710183841662,
          0.265911335144842,
          0.383325214143629,
          0.330227742013419
         ],
         "y0": " ",
         "yaxis": "y",
         "type": "box"
        },
        {
         "alignmentgroup": "True",
         "hovertemplate": "Model=%{x}<br>F1 Score=%{y}<extra></extra>",
         "legendgroup": "F1 Bloomz-1b7",
         "marker": {
          "color": "#00cc96"
         },
         "name": "F1 Bloomz-1b7",
         "notched": false,
         "offsetgroup": "F1 Bloomz-1b7",
         "orientation": "v",
         "showlegend": true,
         "x": [
          "F1 Bloomz-1b7",
          "F1 Bloomz-1b7",
          "F1 Bloomz-1b7",
          "F1 Bloomz-1b7",
          "F1 Bloomz-1b7",
          "F1 Bloomz-1b7",
          "F1 Bloomz-1b7",
          "F1 Bloomz-1b7",
          "F1 Bloomz-1b7",
          "F1 Bloomz-1b7"
         ],
         "x0": " ",
         "xaxis": "x",
         "y": [
          0.342716911325934,
          0.389342140418455,
          0.339680695921552,
          0.365836222261394,
          0.346982748276964,
          0.369804182482076,
          0.352700316351094,
          0.263733001141908,
          0.35645208523292,
          0.391396207570736
         ],
         "y0": " ",
         "yaxis": "y",
         "type": "box"
        },
        {
         "alignmentgroup": "True",
         "hovertemplate": "Model=%{x}<br>F1 Score=%{y}<extra></extra>",
         "legendgroup": "F1 Bloomz-3b",
         "marker": {
          "color": "#ab63fa"
         },
         "name": "F1 Bloomz-3b",
         "notched": false,
         "offsetgroup": "F1 Bloomz-3b",
         "orientation": "v",
         "showlegend": true,
         "x": [
          "F1 Bloomz-3b",
          "F1 Bloomz-3b",
          "F1 Bloomz-3b",
          "F1 Bloomz-3b",
          "F1 Bloomz-3b",
          "F1 Bloomz-3b",
          "F1 Bloomz-3b",
          "F1 Bloomz-3b",
          "F1 Bloomz-3b",
          "F1 Bloomz-3b"
         ],
         "x0": " ",
         "xaxis": "x",
         "y": [
          0.468787309386968,
          0.499246825246599,
          0.473167474796977,
          0.491596424010217,
          0.491369822450511,
          0.464908159502658,
          0.469949684994275,
          0.43096663836203,
          0.494098548510313,
          0.489758628164161
         ],
         "y0": " ",
         "yaxis": "y",
         "type": "box"
        },
        {
         "alignmentgroup": "True",
         "hovertemplate": "Model=%{x}<br>F1 Score=%{y}<extra></extra>",
         "legendgroup": "F1 Bloomz-7b1",
         "marker": {
          "color": "#FFA15A"
         },
         "name": "F1 Bloomz-7b1",
         "notched": false,
         "offsetgroup": "F1 Bloomz-7b1",
         "orientation": "v",
         "showlegend": true,
         "x": [
          "F1 Bloomz-7b1",
          "F1 Bloomz-7b1",
          "F1 Bloomz-7b1",
          "F1 Bloomz-7b1",
          "F1 Bloomz-7b1",
          "F1 Bloomz-7b1",
          "F1 Bloomz-7b1",
          "F1 Bloomz-7b1",
          "F1 Bloomz-7b1",
          "F1 Bloomz-7b1"
         ],
         "x0": " ",
         "xaxis": "x",
         "y": [
          0.5006,
          0.5186,
          0.5451,
          0.5333,
          0.5199,
          0.5269,
          0.5578,
          0.5029,
          0.5391,
          0.5081
         ],
         "y0": " ",
         "yaxis": "y",
         "type": "box"
        }
       ],
       "layout": {
        "template": {
         "data": {
          "histogram2dcontour": [
           {
            "type": "histogram2dcontour",
            "colorbar": {
             "outlinewidth": 0,
             "ticks": ""
            },
            "colorscale": [
             [
              0.0,
              "#0d0887"
             ],
             [
              0.1111111111111111,
              "#46039f"
             ],
             [
              0.2222222222222222,
              "#7201a8"
             ],
             [
              0.3333333333333333,
              "#9c179e"
             ],
             [
              0.4444444444444444,
              "#bd3786"
             ],
             [
              0.5555555555555556,
              "#d8576b"
             ],
             [
              0.6666666666666666,
              "#ed7953"
             ],
             [
              0.7777777777777778,
              "#fb9f3a"
             ],
             [
              0.8888888888888888,
              "#fdca26"
             ],
             [
              1.0,
              "#f0f921"
             ]
            ]
           }
          ],
          "choropleth": [
           {
            "type": "choropleth",
            "colorbar": {
             "outlinewidth": 0,
             "ticks": ""
            }
           }
          ],
          "histogram2d": [
           {
            "type": "histogram2d",
            "colorbar": {
             "outlinewidth": 0,
             "ticks": ""
            },
            "colorscale": [
             [
              0.0,
              "#0d0887"
             ],
             [
              0.1111111111111111,
              "#46039f"
             ],
             [
              0.2222222222222222,
              "#7201a8"
             ],
             [
              0.3333333333333333,
              "#9c179e"
             ],
             [
              0.4444444444444444,
              "#bd3786"
             ],
             [
              0.5555555555555556,
              "#d8576b"
             ],
             [
              0.6666666666666666,
              "#ed7953"
             ],
             [
              0.7777777777777778,
              "#fb9f3a"
             ],
             [
              0.8888888888888888,
              "#fdca26"
             ],
             [
              1.0,
              "#f0f921"
             ]
            ]
           }
          ],
          "heatmap": [
           {
            "type": "heatmap",
            "colorbar": {
             "outlinewidth": 0,
             "ticks": ""
            },
            "colorscale": [
             [
              0.0,
              "#0d0887"
             ],
             [
              0.1111111111111111,
              "#46039f"
             ],
             [
              0.2222222222222222,
              "#7201a8"
             ],
             [
              0.3333333333333333,
              "#9c179e"
             ],
             [
              0.4444444444444444,
              "#bd3786"
             ],
             [
              0.5555555555555556,
              "#d8576b"
             ],
             [
              0.6666666666666666,
              "#ed7953"
             ],
             [
              0.7777777777777778,
              "#fb9f3a"
             ],
             [
              0.8888888888888888,
              "#fdca26"
             ],
             [
              1.0,
              "#f0f921"
             ]
            ]
           }
          ],
          "heatmapgl": [
           {
            "type": "heatmapgl",
            "colorbar": {
             "outlinewidth": 0,
             "ticks": ""
            },
            "colorscale": [
             [
              0.0,
              "#0d0887"
             ],
             [
              0.1111111111111111,
              "#46039f"
             ],
             [
              0.2222222222222222,
              "#7201a8"
             ],
             [
              0.3333333333333333,
              "#9c179e"
             ],
             [
              0.4444444444444444,
              "#bd3786"
             ],
             [
              0.5555555555555556,
              "#d8576b"
             ],
             [
              0.6666666666666666,
              "#ed7953"
             ],
             [
              0.7777777777777778,
              "#fb9f3a"
             ],
             [
              0.8888888888888888,
              "#fdca26"
             ],
             [
              1.0,
              "#f0f921"
             ]
            ]
           }
          ],
          "contourcarpet": [
           {
            "type": "contourcarpet",
            "colorbar": {
             "outlinewidth": 0,
             "ticks": ""
            }
           }
          ],
          "contour": [
           {
            "type": "contour",
            "colorbar": {
             "outlinewidth": 0,
             "ticks": ""
            },
            "colorscale": [
             [
              0.0,
              "#0d0887"
             ],
             [
              0.1111111111111111,
              "#46039f"
             ],
             [
              0.2222222222222222,
              "#7201a8"
             ],
             [
              0.3333333333333333,
              "#9c179e"
             ],
             [
              0.4444444444444444,
              "#bd3786"
             ],
             [
              0.5555555555555556,
              "#d8576b"
             ],
             [
              0.6666666666666666,
              "#ed7953"
             ],
             [
              0.7777777777777778,
              "#fb9f3a"
             ],
             [
              0.8888888888888888,
              "#fdca26"
             ],
             [
              1.0,
              "#f0f921"
             ]
            ]
           }
          ],
          "surface": [
           {
            "type": "surface",
            "colorbar": {
             "outlinewidth": 0,
             "ticks": ""
            },
            "colorscale": [
             [
              0.0,
              "#0d0887"
             ],
             [
              0.1111111111111111,
              "#46039f"
             ],
             [
              0.2222222222222222,
              "#7201a8"
             ],
             [
              0.3333333333333333,
              "#9c179e"
             ],
             [
              0.4444444444444444,
              "#bd3786"
             ],
             [
              0.5555555555555556,
              "#d8576b"
             ],
             [
              0.6666666666666666,
              "#ed7953"
             ],
             [
              0.7777777777777778,
              "#fb9f3a"
             ],
             [
              0.8888888888888888,
              "#fdca26"
             ],
             [
              1.0,
              "#f0f921"
             ]
            ]
           }
          ],
          "mesh3d": [
           {
            "type": "mesh3d",
            "colorbar": {
             "outlinewidth": 0,
             "ticks": ""
            }
           }
          ],
          "scatter": [
           {
            "fillpattern": {
             "fillmode": "overlay",
             "size": 10,
             "solidity": 0.2
            },
            "type": "scatter"
           }
          ],
          "parcoords": [
           {
            "type": "parcoords",
            "line": {
             "colorbar": {
              "outlinewidth": 0,
              "ticks": ""
             }
            }
           }
          ],
          "scatterpolargl": [
           {
            "type": "scatterpolargl",
            "marker": {
             "colorbar": {
              "outlinewidth": 0,
              "ticks": ""
             }
            }
           }
          ],
          "bar": [
           {
            "error_x": {
             "color": "#2a3f5f"
            },
            "error_y": {
             "color": "#2a3f5f"
            },
            "marker": {
             "line": {
              "color": "#E5ECF6",
              "width": 0.5
             },
             "pattern": {
              "fillmode": "overlay",
              "size": 10,
              "solidity": 0.2
             }
            },
            "type": "bar"
           }
          ],
          "scattergeo": [
           {
            "type": "scattergeo",
            "marker": {
             "colorbar": {
              "outlinewidth": 0,
              "ticks": ""
             }
            }
           }
          ],
          "scatterpolar": [
           {
            "type": "scatterpolar",
            "marker": {
             "colorbar": {
              "outlinewidth": 0,
              "ticks": ""
             }
            }
           }
          ],
          "histogram": [
           {
            "marker": {
             "pattern": {
              "fillmode": "overlay",
              "size": 10,
              "solidity": 0.2
             }
            },
            "type": "histogram"
           }
          ],
          "scattergl": [
           {
            "type": "scattergl",
            "marker": {
             "colorbar": {
              "outlinewidth": 0,
              "ticks": ""
             }
            }
           }
          ],
          "scatter3d": [
           {
            "type": "scatter3d",
            "line": {
             "colorbar": {
              "outlinewidth": 0,
              "ticks": ""
             }
            },
            "marker": {
             "colorbar": {
              "outlinewidth": 0,
              "ticks": ""
             }
            }
           }
          ],
          "scattermapbox": [
           {
            "type": "scattermapbox",
            "marker": {
             "colorbar": {
              "outlinewidth": 0,
              "ticks": ""
             }
            }
           }
          ],
          "scatterternary": [
           {
            "type": "scatterternary",
            "marker": {
             "colorbar": {
              "outlinewidth": 0,
              "ticks": ""
             }
            }
           }
          ],
          "scattercarpet": [
           {
            "type": "scattercarpet",
            "marker": {
             "colorbar": {
              "outlinewidth": 0,
              "ticks": ""
             }
            }
           }
          ],
          "carpet": [
           {
            "aaxis": {
             "endlinecolor": "#2a3f5f",
             "gridcolor": "white",
             "linecolor": "white",
             "minorgridcolor": "white",
             "startlinecolor": "#2a3f5f"
            },
            "baxis": {
             "endlinecolor": "#2a3f5f",
             "gridcolor": "white",
             "linecolor": "white",
             "minorgridcolor": "white",
             "startlinecolor": "#2a3f5f"
            },
            "type": "carpet"
           }
          ],
          "table": [
           {
            "cells": {
             "fill": {
              "color": "#EBF0F8"
             },
             "line": {
              "color": "white"
             }
            },
            "header": {
             "fill": {
              "color": "#C8D4E3"
             },
             "line": {
              "color": "white"
             }
            },
            "type": "table"
           }
          ],
          "barpolar": [
           {
            "marker": {
             "line": {
              "color": "#E5ECF6",
              "width": 0.5
             },
             "pattern": {
              "fillmode": "overlay",
              "size": 10,
              "solidity": 0.2
             }
            },
            "type": "barpolar"
           }
          ],
          "pie": [
           {
            "automargin": true,
            "type": "pie"
           }
          ]
         },
         "layout": {
          "autotypenumbers": "strict",
          "colorway": [
           "#636efa",
           "#EF553B",
           "#00cc96",
           "#ab63fa",
           "#FFA15A",
           "#19d3f3",
           "#FF6692",
           "#B6E880",
           "#FF97FF",
           "#FECB52"
          ],
          "font": {
           "color": "#2a3f5f"
          },
          "hovermode": "closest",
          "hoverlabel": {
           "align": "left"
          },
          "paper_bgcolor": "white",
          "plot_bgcolor": "#E5ECF6",
          "polar": {
           "bgcolor": "#E5ECF6",
           "angularaxis": {
            "gridcolor": "white",
            "linecolor": "white",
            "ticks": ""
           },
           "radialaxis": {
            "gridcolor": "white",
            "linecolor": "white",
            "ticks": ""
           }
          },
          "ternary": {
           "bgcolor": "#E5ECF6",
           "aaxis": {
            "gridcolor": "white",
            "linecolor": "white",
            "ticks": ""
           },
           "baxis": {
            "gridcolor": "white",
            "linecolor": "white",
            "ticks": ""
           },
           "caxis": {
            "gridcolor": "white",
            "linecolor": "white",
            "ticks": ""
           }
          },
          "coloraxis": {
           "colorbar": {
            "outlinewidth": 0,
            "ticks": ""
           }
          },
          "colorscale": {
           "sequential": [
            [
             0.0,
             "#0d0887"
            ],
            [
             0.1111111111111111,
             "#46039f"
            ],
            [
             0.2222222222222222,
             "#7201a8"
            ],
            [
             0.3333333333333333,
             "#9c179e"
            ],
            [
             0.4444444444444444,
             "#bd3786"
            ],
            [
             0.5555555555555556,
             "#d8576b"
            ],
            [
             0.6666666666666666,
             "#ed7953"
            ],
            [
             0.7777777777777778,
             "#fb9f3a"
            ],
            [
             0.8888888888888888,
             "#fdca26"
            ],
            [
             1.0,
             "#f0f921"
            ]
           ],
           "sequentialminus": [
            [
             0.0,
             "#0d0887"
            ],
            [
             0.1111111111111111,
             "#46039f"
            ],
            [
             0.2222222222222222,
             "#7201a8"
            ],
            [
             0.3333333333333333,
             "#9c179e"
            ],
            [
             0.4444444444444444,
             "#bd3786"
            ],
            [
             0.5555555555555556,
             "#d8576b"
            ],
            [
             0.6666666666666666,
             "#ed7953"
            ],
            [
             0.7777777777777778,
             "#fb9f3a"
            ],
            [
             0.8888888888888888,
             "#fdca26"
            ],
            [
             1.0,
             "#f0f921"
            ]
           ],
           "diverging": [
            [
             0,
             "#8e0152"
            ],
            [
             0.1,
             "#c51b7d"
            ],
            [
             0.2,
             "#de77ae"
            ],
            [
             0.3,
             "#f1b6da"
            ],
            [
             0.4,
             "#fde0ef"
            ],
            [
             0.5,
             "#f7f7f7"
            ],
            [
             0.6,
             "#e6f5d0"
            ],
            [
             0.7,
             "#b8e186"
            ],
            [
             0.8,
             "#7fbc41"
            ],
            [
             0.9,
             "#4d9221"
            ],
            [
             1,
             "#276419"
            ]
           ]
          },
          "xaxis": {
           "gridcolor": "white",
           "linecolor": "white",
           "ticks": "",
           "title": {
            "standoff": 15
           },
           "zerolinecolor": "white",
           "automargin": true,
           "zerolinewidth": 2
          },
          "yaxis": {
           "gridcolor": "white",
           "linecolor": "white",
           "ticks": "",
           "title": {
            "standoff": 15
           },
           "zerolinecolor": "white",
           "automargin": true,
           "zerolinewidth": 2
          },
          "scene": {
           "xaxis": {
            "backgroundcolor": "#E5ECF6",
            "gridcolor": "white",
            "linecolor": "white",
            "showbackground": true,
            "ticks": "",
            "zerolinecolor": "white",
            "gridwidth": 2
           },
           "yaxis": {
            "backgroundcolor": "#E5ECF6",
            "gridcolor": "white",
            "linecolor": "white",
            "showbackground": true,
            "ticks": "",
            "zerolinecolor": "white",
            "gridwidth": 2
           },
           "zaxis": {
            "backgroundcolor": "#E5ECF6",
            "gridcolor": "white",
            "linecolor": "white",
            "showbackground": true,
            "ticks": "",
            "zerolinecolor": "white",
            "gridwidth": 2
           }
          },
          "shapedefaults": {
           "line": {
            "color": "#2a3f5f"
           }
          },
          "annotationdefaults": {
           "arrowcolor": "#2a3f5f",
           "arrowhead": 0,
           "arrowwidth": 1
          },
          "geo": {
           "bgcolor": "white",
           "landcolor": "#E5ECF6",
           "subunitcolor": "white",
           "showland": true,
           "showlakes": true,
           "lakecolor": "white"
          },
          "title": {
           "x": 0.05
          },
          "mapbox": {
           "style": "light"
          }
         }
        },
        "xaxis": {
         "anchor": "y",
         "domain": [
          0.0,
          1.0
         ],
         "title": {
          "text": "Model"
         },
         "categoryorder": "array",
         "categoryarray": [
          "F1 Bloomz-560M",
          "F1 Bloomz-1b1",
          "F1 Bloomz-1b7",
          "F1 Bloomz-3b",
          "F1 Bloomz-7b1"
         ]
        },
        "yaxis": {
         "anchor": "x",
         "domain": [
          0.0,
          1.0
         ],
         "title": {
          "text": "F1 Score"
         }
        },
        "legend": {
         "title": {
          "text": "Model"
         },
         "tracegroupgap": 0
        },
        "title": {
         "text": "Box Plot for F1 Scores For All Languages (None = None, Only Bloomz = True, Only Bloom = True)"
        },
        "boxmode": "overlay"
       },
       "config": {
        "plotlyServerURL": "https://plot.ly"
       }
      }
     },
     "metadata": {},
     "output_type": "display_data"
    }
   ],
   "source": [
    "import plotly.express as px\n",
    "only_bloom = True\n",
    "only_bloomz = True\n",
    "filter = None\n",
    "value = None\n",
    "\n",
    "# filtered_df = filter_df(melted_df, filter, value, only_bloom=only_bloom, only_bloomz=only_bloomz)\n",
    "fig = px.box(melted_df[melted_df['BLOOMZ Finetune Data'] > 1.2], x='Model', y='F1 Score',\n",
    "             color='Model', title=f'Box Plot for F1 Scores For All Languages ({filter} = {value}, Only Bloomz = {only_bloomz}, Only Bloom = {only_bloom})',\n",
    "             labels={'F1 Score': 'F1 Score', 'Model': 'Model'})\n",
    "\n",
    "fig.show()"
   ],
   "metadata": {
    "collapsed": false,
    "ExecuteTime": {
     "end_time": "2024-01-22T23:53:17.886125574Z",
     "start_time": "2024-01-22T23:53:17.821647663Z"
    }
   },
   "id": "e8d0a8ed8d3840fc",
   "execution_count": 21
  },
  {
   "cell_type": "code",
   "execution_count": 22,
   "id": "184e442b618b539f",
   "metadata": {
    "collapsed": false,
    "ExecuteTime": {
     "end_time": "2024-01-23T00:05:47.844835624Z",
     "start_time": "2024-01-23T00:05:47.758562981Z"
    }
   },
   "outputs": [
    {
     "data": {
      "application/vnd.plotly.v1+json": {
       "data": [
        {
         "alignmentgroup": "True",
         "hovertemplate": "Model=%{x}<br>F1 Score=%{y}<extra></extra>",
         "legendgroup": "F1 Bloomz-560M",
         "marker": {
          "color": "#636efa"
         },
         "name": "F1 Bloomz-560M",
         "notched": false,
         "offsetgroup": "F1 Bloomz-560M",
         "orientation": "v",
         "showlegend": true,
         "x": [
          "F1 Bloomz-560M",
          "F1 Bloomz-560M",
          "F1 Bloomz-560M",
          "F1 Bloomz-560M",
          "F1 Bloomz-560M",
          "F1 Bloomz-560M",
          "F1 Bloomz-560M",
          "F1 Bloomz-560M",
          "F1 Bloomz-560M",
          "F1 Bloomz-560M",
          "F1 Bloomz-560M",
          "F1 Bloomz-560M",
          "F1 Bloomz-560M",
          "F1 Bloomz-560M",
          "F1 Bloomz-560M",
          "F1 Bloomz-560M",
          "F1 Bloomz-560M",
          "F1 Bloomz-560M",
          "F1 Bloomz-560M",
          "F1 Bloomz-560M",
          "F1 Bloomz-560M",
          "F1 Bloomz-560M",
          "F1 Bloomz-560M",
          "F1 Bloomz-560M",
          "F1 Bloomz-560M",
          "F1 Bloomz-560M",
          "F1 Bloomz-560M",
          "F1 Bloomz-560M",
          "F1 Bloomz-560M",
          "F1 Bloomz-560M",
          "F1 Bloomz-560M",
          "F1 Bloomz-560M",
          "F1 Bloomz-560M",
          "F1 Bloomz-560M",
          "F1 Bloomz-560M",
          "F1 Bloomz-560M",
          "F1 Bloomz-560M",
          "F1 Bloomz-560M",
          "F1 Bloomz-560M",
          "F1 Bloomz-560M",
          "F1 Bloomz-560M",
          "F1 Bloomz-560M",
          "F1 Bloomz-560M",
          "F1 Bloomz-560M",
          "F1 Bloomz-560M",
          "F1 Bloomz-560M",
          "F1 Bloomz-560M",
          "F1 Bloomz-560M",
          "F1 Bloomz-560M",
          "F1 Bloomz-560M",
          "F1 Bloomz-560M",
          "F1 Bloomz-560M",
          "F1 Bloomz-560M",
          "F1 Bloomz-560M",
          "F1 Bloomz-560M",
          "F1 Bloomz-560M",
          "F1 Bloomz-560M",
          "F1 Bloomz-560M",
          "F1 Bloomz-560M",
          "F1 Bloomz-560M",
          "F1 Bloomz-560M",
          "F1 Bloomz-560M",
          "F1 Bloomz-560M",
          "F1 Bloomz-560M",
          "F1 Bloomz-560M",
          "F1 Bloomz-560M",
          "F1 Bloomz-560M",
          "F1 Bloomz-560M",
          "F1 Bloomz-560M",
          "F1 Bloomz-560M",
          "F1 Bloomz-560M",
          "F1 Bloomz-560M",
          "F1 Bloomz-560M",
          "F1 Bloomz-560M",
          "F1 Bloomz-560M",
          "F1 Bloomz-560M",
          "F1 Bloomz-560M",
          "F1 Bloomz-560M",
          "F1 Bloomz-560M",
          "F1 Bloomz-560M",
          "F1 Bloomz-560M",
          "F1 Bloomz-560M",
          "F1 Bloomz-560M",
          "F1 Bloomz-560M",
          "F1 Bloomz-560M",
          "F1 Bloomz-560M",
          "F1 Bloomz-560M",
          "F1 Bloomz-560M",
          "F1 Bloomz-560M",
          "F1 Bloomz-560M",
          "F1 Bloomz-560M",
          "F1 Bloomz-560M",
          "F1 Bloomz-560M",
          "F1 Bloomz-560M",
          "F1 Bloomz-560M",
          "F1 Bloomz-560M",
          "F1 Bloomz-560M",
          "F1 Bloomz-560M",
          "F1 Bloomz-560M",
          "F1 Bloomz-560M",
          "F1 Bloomz-560M",
          "F1 Bloomz-560M",
          "F1 Bloomz-560M",
          "F1 Bloomz-560M",
          "F1 Bloomz-560M",
          "F1 Bloomz-560M",
          "F1 Bloomz-560M",
          "F1 Bloomz-560M",
          "F1 Bloomz-560M",
          "F1 Bloomz-560M",
          "F1 Bloomz-560M",
          "F1 Bloomz-560M",
          "F1 Bloomz-560M",
          "F1 Bloomz-560M",
          "F1 Bloomz-560M",
          "F1 Bloomz-560M",
          "F1 Bloomz-560M",
          "F1 Bloomz-560M",
          "F1 Bloomz-560M",
          "F1 Bloomz-560M",
          "F1 Bloomz-560M",
          "F1 Bloomz-560M",
          "F1 Bloomz-560M",
          "F1 Bloomz-560M",
          "F1 Bloomz-560M",
          "F1 Bloomz-560M",
          "F1 Bloomz-560M",
          "F1 Bloomz-560M",
          "F1 Bloomz-560M",
          "F1 Bloomz-560M",
          "F1 Bloomz-560M",
          "F1 Bloomz-560M",
          "F1 Bloomz-560M",
          "F1 Bloomz-560M",
          "F1 Bloomz-560M",
          "F1 Bloomz-560M",
          "F1 Bloomz-560M",
          "F1 Bloomz-560M",
          "F1 Bloomz-560M",
          "F1 Bloomz-560M",
          "F1 Bloomz-560M",
          "F1 Bloomz-560M",
          "F1 Bloomz-560M",
          "F1 Bloomz-560M",
          "F1 Bloomz-560M",
          "F1 Bloomz-560M",
          "F1 Bloomz-560M",
          "F1 Bloomz-560M",
          "F1 Bloomz-560M",
          "F1 Bloomz-560M",
          "F1 Bloomz-560M",
          "F1 Bloomz-560M",
          "F1 Bloomz-560M",
          "F1 Bloomz-560M",
          "F1 Bloomz-560M",
          "F1 Bloomz-560M",
          "F1 Bloomz-560M",
          "F1 Bloomz-560M",
          "F1 Bloomz-560M",
          "F1 Bloomz-560M",
          "F1 Bloomz-560M",
          "F1 Bloomz-560M",
          "F1 Bloomz-560M",
          "F1 Bloomz-560M",
          "F1 Bloomz-560M",
          "F1 Bloomz-560M",
          "F1 Bloomz-560M",
          "F1 Bloomz-560M",
          "F1 Bloomz-560M",
          "F1 Bloomz-560M",
          "F1 Bloomz-560M",
          "F1 Bloomz-560M",
          "F1 Bloomz-560M",
          "F1 Bloomz-560M",
          "F1 Bloomz-560M",
          "F1 Bloomz-560M",
          "F1 Bloomz-560M",
          "F1 Bloomz-560M",
          "F1 Bloomz-560M",
          "F1 Bloomz-560M",
          "F1 Bloomz-560M",
          "F1 Bloomz-560M",
          "F1 Bloomz-560M",
          "F1 Bloomz-560M",
          "F1 Bloomz-560M",
          "F1 Bloomz-560M",
          "F1 Bloomz-560M",
          "F1 Bloomz-560M",
          "F1 Bloomz-560M",
          "F1 Bloomz-560M",
          "F1 Bloomz-560M",
          "F1 Bloomz-560M",
          "F1 Bloomz-560M",
          "F1 Bloomz-560M",
          "F1 Bloomz-560M",
          "F1 Bloomz-560M",
          "F1 Bloomz-560M",
          "F1 Bloomz-560M",
          "F1 Bloomz-560M",
          "F1 Bloomz-560M",
          "F1 Bloomz-560M",
          "F1 Bloomz-560M",
          "F1 Bloomz-560M",
          "F1 Bloomz-560M"
         ],
         "x0": " ",
         "xaxis": "x",
         "y": [
          0.1051919359293013,
          0.3528883593808499,
          0.4595071456405616,
          0.4603651206592383,
          0.4552987264663793,
          0.4149810195974722,
          0.4376203563877983,
          0.310248032497588,
          0.2690240048716606,
          0.0691921403578806,
          0.4509892034665022,
          0.4568021014073646,
          0.2270427227713659,
          0.4585028122708691,
          0.439471210603868,
          0.4907216943175632,
          0.3580787342234046,
          0.4884241240462051,
          0.3044471358150603,
          0.2969859473482495,
          0.1701496350178728,
          0.2165937999771226,
          0.1199379651153131,
          0.2381400853513182,
          0.3947338361045388,
          0.06390497469335644,
          0.2651773149451168,
          0.4507358407690966,
          0.2938244023728921,
          0.1077215001921532,
          0.3681583940497875,
          0.05972305240087667,
          0.2900944317644398,
          0.3821148618024516,
          0.1291534105494061,
          0.494547665855617,
          0.3795776905641622,
          0.3004836245038967,
          0.3362904366960932,
          0.07048595685199432,
          0.3010844251903023,
          0.3052283246725594,
          0.4004265492393984,
          0.3958613437075879,
          0.2599193718304864,
          0.3386894786079296,
          0.0468384074941452,
          0.1159680531732418,
          0.5217400167074505,
          0.3474284157929726,
          0.3303312679848648,
          0.4387968835643254,
          0.288177418183139,
          0.2196705295021234,
          0.3196315388149465,
          0.2567556139183135,
          0.2378989011581146,
          0.5243499555999556,
          0.4037783198638674,
          0.3013049294171221,
          0.1657409654323659,
          0.229257785893367,
          0.2040362358674175,
          0.5172431982575088,
          0.3478402930853429,
          0.3845072479730258,
          0.3005369355851769,
          0.2370531275000187,
          0.05272000726546181,
          0.3611615433549396,
          0.3284486373165619,
          0.2816808424775204,
          0.2756712337296094,
          0.04492795950155764,
          0.2696717407032516,
          0.3759902399748635,
          0.4582668860944492,
          0.2027819016174661,
          0.4410312805474096,
          0.4008526564712406,
          0.2427859952793076,
          0.1407950965296273,
          0.2451198873472341,
          0.2730351111736561,
          0.4155700502492404,
          0.2845611273464116,
          0.205271050327213,
          0.1094513318359023,
          0.1475353707927126,
          0.2547059330978768,
          0.3832232891990386,
          0.09248267307279752,
          0.1899591149591149,
          0.3004678350313753,
          0.3289811586801084,
          0.1158916473227696,
          0.2781733130770774,
          0.2236010297893227,
          0.08520084905956185,
          0.2884179309261655,
          0.3275991735341438,
          0.1131149023390403,
          0.1371817756810744,
          0.4536359050632002,
          0.3424676931255878,
          0.3541884707588369,
          0.2370319508875645,
          0.3555986302254959,
          0.2455785097616342,
          0.3572259527323154,
          0.348834509325548,
          0.2676852641414497,
          0.278430119659505,
          0.3767827274258948,
          0.2829722742470525,
          0.3651799748892278,
          0.3633101912255343,
          0.3940721003134797,
          0.393811051235561,
          0.0794491885823155,
          0.3654329767851605,
          0.1402751167207706,
          0.3489246542224936,
          0.168749633642289,
          0.2392114426271403,
          0.260150249152926,
          0.09399791732090289,
          0.3490490102933881,
          0.3065918099309473,
          0.3049493674493674,
          0.3797122576790298,
          0.3179982642356503,
          0.1560795454545454,
          0.3316350632979521,
          0.4468454484570604,
          0.398363107814965,
          0.4337481512947919,
          0.3825382022478995,
          0.3888908724574127,
          0.2183779194362718,
          0.3134697570904499,
          0.3097744137515521,
          0.2966560989574239,
          0.511097244046414,
          0.3011426178910938,
          0.3767704730377686,
          0.4360415905492632,
          0.3161502676679203,
          0.1800394118504217,
          0.3016066828994325,
          0.2826964463083545,
          0.05252566363677475,
          0.3703796511844616,
          0.182806600036989,
          0.06838952293497748,
          0.3574697903645272,
          0.3028561554724346,
          0.2703779859381213,
          0.2822332003559516,
          0.21614888953581,
          0.2416461089930478,
          0.3016214779372674,
          0.4886778969439165,
          0.4245944607709313,
          0.1679673628982385,
          0.2572720814165501,
          0.4018762930141342,
          0.3351179121060107,
          0.3162987370080736,
          0.2798772277712496,
          0.3827682151981046,
          0.2848706719561191,
          0.0665214058812162,
          0.09088122605363985,
          0.4517532997786543,
          0.1245708946096665,
          0.4048008768724881,
          0.1037524965940505,
          0.07819068897907074,
          0.393920268565058,
          0.3174907204680559,
          0.2739054257778704,
          0.2623931623931624,
          0.2544030794975366,
          0.3426942714432075,
          0.3185596008615901,
          0.06213255356609661,
          0.0745081531371854,
          0.07821035423663798,
          0.2902410112198076,
          0.4011727243497276,
          0.3183819271034576,
          0.3811719935289729,
          0.3820677196008129,
          0.3835606114369122,
          0.3311119964892831,
          0.268159902041481,
          0.05281229378935478,
          0.2761076876215469,
          0.3445803790600845,
          0.3277587714927868,
          0.3372632407344874,
          0.3927895120730486,
          0.2479965665267173
         ],
         "y0": " ",
         "yaxis": "y",
         "type": "box"
        },
        {
         "alignmentgroup": "True",
         "hovertemplate": "Model=%{x}<br>F1 Score=%{y}<extra></extra>",
         "legendgroup": "F1 Bloomz-1b1",
         "marker": {
          "color": "#EF553B"
         },
         "name": "F1 Bloomz-1b1",
         "notched": false,
         "offsetgroup": "F1 Bloomz-1b1",
         "orientation": "v",
         "showlegend": true,
         "x": [
          "F1 Bloomz-1b1",
          "F1 Bloomz-1b1",
          "F1 Bloomz-1b1",
          "F1 Bloomz-1b1",
          "F1 Bloomz-1b1",
          "F1 Bloomz-1b1",
          "F1 Bloomz-1b1",
          "F1 Bloomz-1b1",
          "F1 Bloomz-1b1",
          "F1 Bloomz-1b1",
          "F1 Bloomz-1b1",
          "F1 Bloomz-1b1",
          "F1 Bloomz-1b1",
          "F1 Bloomz-1b1",
          "F1 Bloomz-1b1",
          "F1 Bloomz-1b1",
          "F1 Bloomz-1b1",
          "F1 Bloomz-1b1",
          "F1 Bloomz-1b1",
          "F1 Bloomz-1b1",
          "F1 Bloomz-1b1",
          "F1 Bloomz-1b1",
          "F1 Bloomz-1b1",
          "F1 Bloomz-1b1",
          "F1 Bloomz-1b1",
          "F1 Bloomz-1b1",
          "F1 Bloomz-1b1",
          "F1 Bloomz-1b1",
          "F1 Bloomz-1b1",
          "F1 Bloomz-1b1",
          "F1 Bloomz-1b1",
          "F1 Bloomz-1b1",
          "F1 Bloomz-1b1",
          "F1 Bloomz-1b1",
          "F1 Bloomz-1b1",
          "F1 Bloomz-1b1",
          "F1 Bloomz-1b1",
          "F1 Bloomz-1b1",
          "F1 Bloomz-1b1",
          "F1 Bloomz-1b1",
          "F1 Bloomz-1b1",
          "F1 Bloomz-1b1",
          "F1 Bloomz-1b1",
          "F1 Bloomz-1b1",
          "F1 Bloomz-1b1",
          "F1 Bloomz-1b1",
          "F1 Bloomz-1b1",
          "F1 Bloomz-1b1",
          "F1 Bloomz-1b1",
          "F1 Bloomz-1b1",
          "F1 Bloomz-1b1",
          "F1 Bloomz-1b1",
          "F1 Bloomz-1b1",
          "F1 Bloomz-1b1",
          "F1 Bloomz-1b1",
          "F1 Bloomz-1b1",
          "F1 Bloomz-1b1",
          "F1 Bloomz-1b1",
          "F1 Bloomz-1b1",
          "F1 Bloomz-1b1",
          "F1 Bloomz-1b1",
          "F1 Bloomz-1b1",
          "F1 Bloomz-1b1",
          "F1 Bloomz-1b1",
          "F1 Bloomz-1b1",
          "F1 Bloomz-1b1",
          "F1 Bloomz-1b1",
          "F1 Bloomz-1b1",
          "F1 Bloomz-1b1",
          "F1 Bloomz-1b1",
          "F1 Bloomz-1b1",
          "F1 Bloomz-1b1",
          "F1 Bloomz-1b1",
          "F1 Bloomz-1b1",
          "F1 Bloomz-1b1",
          "F1 Bloomz-1b1",
          "F1 Bloomz-1b1",
          "F1 Bloomz-1b1",
          "F1 Bloomz-1b1",
          "F1 Bloomz-1b1",
          "F1 Bloomz-1b1",
          "F1 Bloomz-1b1",
          "F1 Bloomz-1b1",
          "F1 Bloomz-1b1",
          "F1 Bloomz-1b1",
          "F1 Bloomz-1b1",
          "F1 Bloomz-1b1",
          "F1 Bloomz-1b1",
          "F1 Bloomz-1b1",
          "F1 Bloomz-1b1",
          "F1 Bloomz-1b1",
          "F1 Bloomz-1b1",
          "F1 Bloomz-1b1",
          "F1 Bloomz-1b1",
          "F1 Bloomz-1b1",
          "F1 Bloomz-1b1",
          "F1 Bloomz-1b1",
          "F1 Bloomz-1b1",
          "F1 Bloomz-1b1",
          "F1 Bloomz-1b1",
          "F1 Bloomz-1b1",
          "F1 Bloomz-1b1",
          "F1 Bloomz-1b1",
          "F1 Bloomz-1b1",
          "F1 Bloomz-1b1",
          "F1 Bloomz-1b1",
          "F1 Bloomz-1b1",
          "F1 Bloomz-1b1",
          "F1 Bloomz-1b1",
          "F1 Bloomz-1b1",
          "F1 Bloomz-1b1",
          "F1 Bloomz-1b1",
          "F1 Bloomz-1b1",
          "F1 Bloomz-1b1",
          "F1 Bloomz-1b1",
          "F1 Bloomz-1b1",
          "F1 Bloomz-1b1",
          "F1 Bloomz-1b1",
          "F1 Bloomz-1b1",
          "F1 Bloomz-1b1",
          "F1 Bloomz-1b1",
          "F1 Bloomz-1b1",
          "F1 Bloomz-1b1",
          "F1 Bloomz-1b1",
          "F1 Bloomz-1b1",
          "F1 Bloomz-1b1",
          "F1 Bloomz-1b1",
          "F1 Bloomz-1b1",
          "F1 Bloomz-1b1",
          "F1 Bloomz-1b1",
          "F1 Bloomz-1b1",
          "F1 Bloomz-1b1",
          "F1 Bloomz-1b1",
          "F1 Bloomz-1b1",
          "F1 Bloomz-1b1",
          "F1 Bloomz-1b1",
          "F1 Bloomz-1b1",
          "F1 Bloomz-1b1",
          "F1 Bloomz-1b1",
          "F1 Bloomz-1b1",
          "F1 Bloomz-1b1",
          "F1 Bloomz-1b1",
          "F1 Bloomz-1b1",
          "F1 Bloomz-1b1",
          "F1 Bloomz-1b1",
          "F1 Bloomz-1b1",
          "F1 Bloomz-1b1",
          "F1 Bloomz-1b1",
          "F1 Bloomz-1b1",
          "F1 Bloomz-1b1",
          "F1 Bloomz-1b1",
          "F1 Bloomz-1b1",
          "F1 Bloomz-1b1",
          "F1 Bloomz-1b1",
          "F1 Bloomz-1b1",
          "F1 Bloomz-1b1",
          "F1 Bloomz-1b1",
          "F1 Bloomz-1b1",
          "F1 Bloomz-1b1",
          "F1 Bloomz-1b1",
          "F1 Bloomz-1b1",
          "F1 Bloomz-1b1",
          "F1 Bloomz-1b1",
          "F1 Bloomz-1b1",
          "F1 Bloomz-1b1",
          "F1 Bloomz-1b1",
          "F1 Bloomz-1b1",
          "F1 Bloomz-1b1",
          "F1 Bloomz-1b1",
          "F1 Bloomz-1b1",
          "F1 Bloomz-1b1",
          "F1 Bloomz-1b1",
          "F1 Bloomz-1b1",
          "F1 Bloomz-1b1",
          "F1 Bloomz-1b1",
          "F1 Bloomz-1b1",
          "F1 Bloomz-1b1",
          "F1 Bloomz-1b1",
          "F1 Bloomz-1b1",
          "F1 Bloomz-1b1",
          "F1 Bloomz-1b1",
          "F1 Bloomz-1b1",
          "F1 Bloomz-1b1",
          "F1 Bloomz-1b1",
          "F1 Bloomz-1b1",
          "F1 Bloomz-1b1",
          "F1 Bloomz-1b1",
          "F1 Bloomz-1b1",
          "F1 Bloomz-1b1",
          "F1 Bloomz-1b1",
          "F1 Bloomz-1b1",
          "F1 Bloomz-1b1",
          "F1 Bloomz-1b1",
          "F1 Bloomz-1b1",
          "F1 Bloomz-1b1",
          "F1 Bloomz-1b1",
          "F1 Bloomz-1b1",
          "F1 Bloomz-1b1",
          "F1 Bloomz-1b1",
          "F1 Bloomz-1b1",
          "F1 Bloomz-1b1",
          "F1 Bloomz-1b1",
          "F1 Bloomz-1b1",
          "F1 Bloomz-1b1"
         ],
         "x0": " ",
         "xaxis": "x",
         "y": [
          0.0948916054591201,
          0.260778965412123,
          0.38205816858528,
          0.330938279729718,
          0.34369285894494,
          0.318131054632897,
          0.369023412635643,
          0.262674584103155,
          0.255212773779149,
          0.0456611913057906,
          0.342135719883565,
          0.346219733522199,
          0.147106704177122,
          0.343739657981896,
          0.382246477511325,
          0.34967499153159,
          0.279729989963819,
          0.373226082547714,
          0.35285344092161,
          0.185810890012571,
          0.19139602329226,
          0.207386221601353,
          0.0707554993269279,
          0.214927666218214,
          0.242946625178342,
          0.0317460317460317,
          0.171275858053315,
          0.349086411095527,
          0.299514325249619,
          0.0707343807088053,
          0.270756919822516,
          0.0902399127589967,
          0.228436333296813,
          0.254468554706466,
          0.103250716755988,
          0.340967332623886,
          0.243553623428201,
          0.251009684436588,
          0.174686951680983,
          0.0494987680156614,
          0.221911663216011,
          0.175723165723166,
          0.316209342687924,
          0.361779909432521,
          0.254120675005264,
          0.20032362004193,
          0.0745629897528632,
          0.118267195126979,
          0.386150448404891,
          0.280520467505004,
          0.223749114929239,
          0.308508996201712,
          0.205682651536837,
          0.216969389157596,
          0.188091749694263,
          0.170689214167475,
          0.176771054141471,
          0.396907944748308,
          0.298661292162903,
          0.236106079987157,
          0.138581945361606,
          0.166751216547758,
          0.147127032631234,
          0.358681633407243,
          0.25903341358726,
          0.322892437892438,
          0.218957148076622,
          0.15254229156166,
          0.0869027773052541,
          0.353627171683537,
          0.364485947982287,
          0.232079198251974,
          0.162784325889165,
          0.0814732881439254,
          0.126027206624222,
          0.263119305927354,
          0.319229099120519,
          0.193033936738537,
          0.331445192376244,
          0.293894442094536,
          0.295754639297972,
          0.134344963151702,
          0.206627847989589,
          0.168335510532716,
          0.356474511804722,
          0.251574512444078,
          0.258851635889747,
          0.0438744613632506,
          0.0776757118220533,
          0.178159619103318,
          0.306062229843175,
          0.0372405372405372,
          0.106510582202983,
          0.23923384139014,
          0.245435988160446,
          0.0448747680890538,
          0.189324707550514,
          0.18977318977319,
          0.0565195173808455,
          0.226638312793743,
          0.207908163265306,
          0.0758287441960911,
          0.0906314095418933,
          0.262016112483402,
          0.286328486328486,
          0.201011804706723,
          0.234761738861147,
          0.285868177634941,
          0.214481061504735,
          0.291895248665504,
          0.194399591558407,
          0.170918490311385,
          0.231005091754835,
          0.251898260102508,
          0.233457891900473,
          0.374238426429261,
          0.361453313373663,
          0.278987678987679,
          0.313640603119081,
          0.0432159165035877,
          0.300770490643908,
          0.068482541758122,
          0.260405745822356,
          0.0620942440903302,
          0.200017434819691,
          0.155944705857749,
          0.0648434169084983,
          0.333174169342197,
          0.260317314746882,
          0.314649120953939,
          0.350477481358988,
          0.203512217437256,
          0.130179033696622,
          0.216358190551174,
          0.355780317992299,
          0.309623824451411,
          0.300605055898345,
          0.405056186085504,
          0.261247069955485,
          0.164498883710706,
          0.253106417392132,
          0.190545454545455,
          0.254938867438867,
          0.372691496940639,
          0.231515132577064,
          0.229306867099681,
          0.247072304508587,
          0.208508711951524,
          0.177522913685535,
          0.243330627705628,
          0.297700463129456,
          0.0803451577908762,
          0.260184597570616,
          0.151513045083969,
          0.0368228262965105,
          0.221038961038961,
          0.239563583928984,
          0.19171993121573,
          0.17211408876447,
          0.162176870748299,
          0.15824940123205,
          0.20415287327052,
          0.36710183841662,
          0.265518365156046,
          0.0643060040917775,
          0.171420000806647,
          0.296879637305169,
          0.281766828126284,
          0.265911335144842,
          0.257261876811086,
          0.36600491796144,
          0.208976293852654,
          0.0646536646536647,
          0.06573512287798,
          0.282353353259854,
          0.0382690521142378,
          0.238953022286356,
          0.0617358320876151,
          0.0495721224269524,
          0.342456830261852,
          0.205839778833908,
          0.171368317549035,
          0.233898549464342,
          0.192519892760646,
          0.208980506276563,
          0.300408096510152,
          0.0377585377585378,
          0.0438850555129625,
          0.0445861678004535,
          0.149183741293127,
          0.315411921347486,
          0.213253945381784,
          0.296947856063821,
          0.383325214143629,
          0.293605222046028,
          0.282852282852283,
          0.199719818896773,
          0.0374215850990536,
          0.171600761516728,
          0.321813874512171,
          0.330227742013419,
          0.356542503250036,
          0.316372024031447,
          0.16139013108183
         ],
         "y0": " ",
         "yaxis": "y",
         "type": "box"
        },
        {
         "alignmentgroup": "True",
         "hovertemplate": "Model=%{x}<br>F1 Score=%{y}<extra></extra>",
         "legendgroup": "F1 Bloomz-1b7",
         "marker": {
          "color": "#00cc96"
         },
         "name": "F1 Bloomz-1b7",
         "notched": false,
         "offsetgroup": "F1 Bloomz-1b7",
         "orientation": "v",
         "showlegend": true,
         "x": [
          "F1 Bloomz-1b7",
          "F1 Bloomz-1b7",
          "F1 Bloomz-1b7",
          "F1 Bloomz-1b7",
          "F1 Bloomz-1b7",
          "F1 Bloomz-1b7",
          "F1 Bloomz-1b7",
          "F1 Bloomz-1b7",
          "F1 Bloomz-1b7",
          "F1 Bloomz-1b7",
          "F1 Bloomz-1b7",
          "F1 Bloomz-1b7",
          "F1 Bloomz-1b7",
          "F1 Bloomz-1b7",
          "F1 Bloomz-1b7",
          "F1 Bloomz-1b7",
          "F1 Bloomz-1b7",
          "F1 Bloomz-1b7",
          "F1 Bloomz-1b7",
          "F1 Bloomz-1b7",
          "F1 Bloomz-1b7",
          "F1 Bloomz-1b7",
          "F1 Bloomz-1b7",
          "F1 Bloomz-1b7",
          "F1 Bloomz-1b7",
          "F1 Bloomz-1b7",
          "F1 Bloomz-1b7",
          "F1 Bloomz-1b7",
          "F1 Bloomz-1b7",
          "F1 Bloomz-1b7",
          "F1 Bloomz-1b7",
          "F1 Bloomz-1b7",
          "F1 Bloomz-1b7",
          "F1 Bloomz-1b7",
          "F1 Bloomz-1b7",
          "F1 Bloomz-1b7",
          "F1 Bloomz-1b7",
          "F1 Bloomz-1b7",
          "F1 Bloomz-1b7",
          "F1 Bloomz-1b7",
          "F1 Bloomz-1b7",
          "F1 Bloomz-1b7",
          "F1 Bloomz-1b7",
          "F1 Bloomz-1b7",
          "F1 Bloomz-1b7",
          "F1 Bloomz-1b7",
          "F1 Bloomz-1b7",
          "F1 Bloomz-1b7",
          "F1 Bloomz-1b7",
          "F1 Bloomz-1b7",
          "F1 Bloomz-1b7",
          "F1 Bloomz-1b7",
          "F1 Bloomz-1b7",
          "F1 Bloomz-1b7",
          "F1 Bloomz-1b7",
          "F1 Bloomz-1b7",
          "F1 Bloomz-1b7",
          "F1 Bloomz-1b7",
          "F1 Bloomz-1b7",
          "F1 Bloomz-1b7",
          "F1 Bloomz-1b7",
          "F1 Bloomz-1b7",
          "F1 Bloomz-1b7",
          "F1 Bloomz-1b7",
          "F1 Bloomz-1b7",
          "F1 Bloomz-1b7",
          "F1 Bloomz-1b7",
          "F1 Bloomz-1b7",
          "F1 Bloomz-1b7",
          "F1 Bloomz-1b7",
          "F1 Bloomz-1b7",
          "F1 Bloomz-1b7",
          "F1 Bloomz-1b7",
          "F1 Bloomz-1b7",
          "F1 Bloomz-1b7",
          "F1 Bloomz-1b7",
          "F1 Bloomz-1b7",
          "F1 Bloomz-1b7",
          "F1 Bloomz-1b7",
          "F1 Bloomz-1b7",
          "F1 Bloomz-1b7",
          "F1 Bloomz-1b7",
          "F1 Bloomz-1b7",
          "F1 Bloomz-1b7",
          "F1 Bloomz-1b7",
          "F1 Bloomz-1b7",
          "F1 Bloomz-1b7",
          "F1 Bloomz-1b7",
          "F1 Bloomz-1b7",
          "F1 Bloomz-1b7",
          "F1 Bloomz-1b7",
          "F1 Bloomz-1b7",
          "F1 Bloomz-1b7",
          "F1 Bloomz-1b7",
          "F1 Bloomz-1b7",
          "F1 Bloomz-1b7",
          "F1 Bloomz-1b7",
          "F1 Bloomz-1b7",
          "F1 Bloomz-1b7",
          "F1 Bloomz-1b7",
          "F1 Bloomz-1b7",
          "F1 Bloomz-1b7",
          "F1 Bloomz-1b7",
          "F1 Bloomz-1b7",
          "F1 Bloomz-1b7",
          "F1 Bloomz-1b7",
          "F1 Bloomz-1b7",
          "F1 Bloomz-1b7",
          "F1 Bloomz-1b7",
          "F1 Bloomz-1b7",
          "F1 Bloomz-1b7",
          "F1 Bloomz-1b7",
          "F1 Bloomz-1b7",
          "F1 Bloomz-1b7",
          "F1 Bloomz-1b7",
          "F1 Bloomz-1b7",
          "F1 Bloomz-1b7",
          "F1 Bloomz-1b7",
          "F1 Bloomz-1b7",
          "F1 Bloomz-1b7",
          "F1 Bloomz-1b7",
          "F1 Bloomz-1b7",
          "F1 Bloomz-1b7",
          "F1 Bloomz-1b7",
          "F1 Bloomz-1b7",
          "F1 Bloomz-1b7",
          "F1 Bloomz-1b7",
          "F1 Bloomz-1b7",
          "F1 Bloomz-1b7",
          "F1 Bloomz-1b7",
          "F1 Bloomz-1b7",
          "F1 Bloomz-1b7",
          "F1 Bloomz-1b7",
          "F1 Bloomz-1b7",
          "F1 Bloomz-1b7",
          "F1 Bloomz-1b7",
          "F1 Bloomz-1b7",
          "F1 Bloomz-1b7",
          "F1 Bloomz-1b7",
          "F1 Bloomz-1b7",
          "F1 Bloomz-1b7",
          "F1 Bloomz-1b7",
          "F1 Bloomz-1b7",
          "F1 Bloomz-1b7",
          "F1 Bloomz-1b7",
          "F1 Bloomz-1b7",
          "F1 Bloomz-1b7",
          "F1 Bloomz-1b7",
          "F1 Bloomz-1b7",
          "F1 Bloomz-1b7",
          "F1 Bloomz-1b7",
          "F1 Bloomz-1b7",
          "F1 Bloomz-1b7",
          "F1 Bloomz-1b7",
          "F1 Bloomz-1b7",
          "F1 Bloomz-1b7",
          "F1 Bloomz-1b7",
          "F1 Bloomz-1b7",
          "F1 Bloomz-1b7",
          "F1 Bloomz-1b7",
          "F1 Bloomz-1b7",
          "F1 Bloomz-1b7",
          "F1 Bloomz-1b7",
          "F1 Bloomz-1b7",
          "F1 Bloomz-1b7",
          "F1 Bloomz-1b7",
          "F1 Bloomz-1b7",
          "F1 Bloomz-1b7",
          "F1 Bloomz-1b7",
          "F1 Bloomz-1b7",
          "F1 Bloomz-1b7",
          "F1 Bloomz-1b7",
          "F1 Bloomz-1b7",
          "F1 Bloomz-1b7",
          "F1 Bloomz-1b7",
          "F1 Bloomz-1b7",
          "F1 Bloomz-1b7",
          "F1 Bloomz-1b7",
          "F1 Bloomz-1b7",
          "F1 Bloomz-1b7",
          "F1 Bloomz-1b7",
          "F1 Bloomz-1b7",
          "F1 Bloomz-1b7",
          "F1 Bloomz-1b7",
          "F1 Bloomz-1b7",
          "F1 Bloomz-1b7",
          "F1 Bloomz-1b7",
          "F1 Bloomz-1b7",
          "F1 Bloomz-1b7",
          "F1 Bloomz-1b7",
          "F1 Bloomz-1b7",
          "F1 Bloomz-1b7",
          "F1 Bloomz-1b7",
          "F1 Bloomz-1b7",
          "F1 Bloomz-1b7",
          "F1 Bloomz-1b7",
          "F1 Bloomz-1b7",
          "F1 Bloomz-1b7",
          "F1 Bloomz-1b7",
          "F1 Bloomz-1b7",
          "F1 Bloomz-1b7",
          "F1 Bloomz-1b7",
          "F1 Bloomz-1b7",
          "F1 Bloomz-1b7"
         ],
         "x0": " ",
         "xaxis": "x",
         "y": [
          0.114470728161755,
          0.262736488613497,
          0.335226430315716,
          0.353313172043011,
          0.315780882977715,
          0.207929175031976,
          0.332090521880203,
          0.244945394372259,
          0.217555988722112,
          0.0472255017709563,
          0.348998026239406,
          0.342716911325934,
          0.181883185307843,
          0.339783633304849,
          0.327394284439325,
          0.320660544913539,
          0.38052598327372,
          0.308558400440498,
          0.385202226615889,
          0.228993444972348,
          0.138954234518751,
          0.179842187422772,
          0.138846337200064,
          0.219351312514928,
          0.234246039152254,
          0.0685854793738611,
          0.20621333976143,
          0.39227966043185,
          0.333272831714686,
          0.0716278143056386,
          0.246342592592593,
          0.0603595227026189,
          0.221580932032769,
          0.247276981714672,
          0.123418248418248,
          0.342571118397731,
          0.249945887445887,
          0.205166301479694,
          0.230185514968124,
          0.0721685761047463,
          0.177464008859358,
          0.186445971595824,
          0.223661969132687,
          0.273657124947363,
          0.224265780123165,
          0.189428860175112,
          0.0468384074941452,
          0.0689798071127185,
          0.389342140418455,
          0.203480887304417,
          0.181298977567013,
          0.307918053127291,
          0.188496148973368,
          0.210602131066198,
          0.182070753375361,
          0.20531112223139,
          0.183735528007713,
          0.339680695921552,
          0.243352613181814,
          0.179032721010333,
          0.140645050017247,
          0.207261501601124,
          0.159133905500185,
          0.35731273920175,
          0.225545263559969,
          0.364085655417324,
          0.197105846656553,
          0.174169905855007,
          0.0784305353940739,
          0.365836222261394,
          0.320290369747601,
          0.182705353542541,
          0.197899037520295,
          0.058410469198851,
          0.281614651244289,
          0.239012617816966,
          0.346982748276964,
          0.214443203402899,
          0.318729710774865,
          0.248095652350971,
          0.319019502832601,
          0.0902325903364253,
          0.189934807081776,
          0.195593758093758,
          0.363795071814554,
          0.235211475894706,
          0.222333430125125,
          0.0819693246471489,
          0.119530078710645,
          0.220156654939264,
          0.227404187427479,
          0.0706394027913015,
          0.18122851950729,
          0.253471745367692,
          0.233773478955778,
          0.113612623935205,
          0.184083301056825,
          0.167716482589354,
          0.0837514774665476,
          0.209988669802906,
          0.216784038683749,
          0.117258881954642,
          0.173890023447546,
          0.214273531698087,
          0.21275803382826,
          0.285437381341086,
          0.180432360037623,
          0.212297809816535,
          0.210358010791315,
          0.220655534941249,
          0.224161727043163,
          0.206216332752969,
          0.191374446809229,
          0.232829730259587,
          0.17556598934001,
          0.363348696084352,
          0.379995665926579,
          0.347828292580985,
          0.331276792519011,
          0.077175697865353,
          0.25351552985649,
          0.0909431569237865,
          0.194096467338367,
          0.133824508824509,
          0.190395365152647,
          0.158023127577278,
          0.089520757020757,
          0.235178196119999,
          0.231649010202367,
          0.218104892523497,
          0.373902967913712,
          0.23503584392302,
          0.126747787610619,
          0.242067739519014,
          0.303659769760424,
          0.380685614624586,
          0.263925010093623,
          0.373045871354006,
          0.232133140039668,
          0.161943716291542,
          0.145377200171721,
          0.219386957400212,
          0.196596553562976,
          0.369804182482076,
          0.156456690028587,
          0.235818860942014,
          0.24726553869411,
          0.223349679729768,
          0.144152457198309,
          0.217203582447405,
          0.318003371529928,
          0.0468384074941452,
          0.22056856187291,
          0.225233669592602,
          0.0682349503214494,
          0.227840161861041,
          0.225012329520881,
          0.159796917421627,
          0.208373422457012,
          0.158833544504276,
          0.20495914240317,
          0.266981876345761,
          0.352700316351094,
          0.225150521537257,
          0.111106058692266,
          0.237310577035762,
          0.277513709073495,
          0.197414862960392,
          0.263733001141908,
          0.189634445450086,
          0.319160849865503,
          0.238254854947265,
          0.0597230524008767,
          0.12026862026862,
          0.354524389406839,
          0.112679737613034,
          0.22128221136332,
          0.0999225006458279,
          0.0608309439478271,
          0.226064885960066,
          0.241053433973059,
          0.220985646633144,
          0.184553261204205,
          0.219629897121645,
          0.191736634184337,
          0.279117150983332,
          0.051456388799485,
          0.12305155162298,
          0.0856213535525925,
          0.163086342880863,
          0.380419090713208,
          0.15484496124031,
          0.225920715248155,
          0.35645208523292,
          0.259641395649786,
          0.25330357056325,
          0.227492535854429,
          0.0413223140495868,
          0.240244675866295,
          0.366669087599249,
          0.391396207570736,
          0.37600173724301,
          0.298548131038464,
          0.244301465925196
         ],
         "y0": " ",
         "yaxis": "y",
         "type": "box"
        },
        {
         "alignmentgroup": "True",
         "hovertemplate": "Model=%{x}<br>F1 Score=%{y}<extra></extra>",
         "legendgroup": "F1 Bloomz-3b",
         "marker": {
          "color": "#ab63fa"
         },
         "name": "F1 Bloomz-3b",
         "notched": false,
         "offsetgroup": "F1 Bloomz-3b",
         "orientation": "v",
         "showlegend": true,
         "x": [
          "F1 Bloomz-3b",
          "F1 Bloomz-3b",
          "F1 Bloomz-3b",
          "F1 Bloomz-3b",
          "F1 Bloomz-3b",
          "F1 Bloomz-3b",
          "F1 Bloomz-3b",
          "F1 Bloomz-3b",
          "F1 Bloomz-3b",
          "F1 Bloomz-3b",
          "F1 Bloomz-3b",
          "F1 Bloomz-3b",
          "F1 Bloomz-3b",
          "F1 Bloomz-3b",
          "F1 Bloomz-3b",
          "F1 Bloomz-3b",
          "F1 Bloomz-3b",
          "F1 Bloomz-3b",
          "F1 Bloomz-3b",
          "F1 Bloomz-3b",
          "F1 Bloomz-3b",
          "F1 Bloomz-3b",
          "F1 Bloomz-3b",
          "F1 Bloomz-3b",
          "F1 Bloomz-3b",
          "F1 Bloomz-3b",
          "F1 Bloomz-3b",
          "F1 Bloomz-3b",
          "F1 Bloomz-3b",
          "F1 Bloomz-3b",
          "F1 Bloomz-3b",
          "F1 Bloomz-3b",
          "F1 Bloomz-3b",
          "F1 Bloomz-3b",
          "F1 Bloomz-3b",
          "F1 Bloomz-3b",
          "F1 Bloomz-3b",
          "F1 Bloomz-3b",
          "F1 Bloomz-3b",
          "F1 Bloomz-3b",
          "F1 Bloomz-3b",
          "F1 Bloomz-3b",
          "F1 Bloomz-3b",
          "F1 Bloomz-3b",
          "F1 Bloomz-3b",
          "F1 Bloomz-3b",
          "F1 Bloomz-3b",
          "F1 Bloomz-3b",
          "F1 Bloomz-3b",
          "F1 Bloomz-3b",
          "F1 Bloomz-3b",
          "F1 Bloomz-3b",
          "F1 Bloomz-3b",
          "F1 Bloomz-3b",
          "F1 Bloomz-3b",
          "F1 Bloomz-3b",
          "F1 Bloomz-3b",
          "F1 Bloomz-3b",
          "F1 Bloomz-3b",
          "F1 Bloomz-3b",
          "F1 Bloomz-3b",
          "F1 Bloomz-3b",
          "F1 Bloomz-3b",
          "F1 Bloomz-3b",
          "F1 Bloomz-3b",
          "F1 Bloomz-3b",
          "F1 Bloomz-3b",
          "F1 Bloomz-3b",
          "F1 Bloomz-3b",
          "F1 Bloomz-3b",
          "F1 Bloomz-3b",
          "F1 Bloomz-3b",
          "F1 Bloomz-3b",
          "F1 Bloomz-3b",
          "F1 Bloomz-3b",
          "F1 Bloomz-3b",
          "F1 Bloomz-3b",
          "F1 Bloomz-3b",
          "F1 Bloomz-3b",
          "F1 Bloomz-3b",
          "F1 Bloomz-3b",
          "F1 Bloomz-3b",
          "F1 Bloomz-3b",
          "F1 Bloomz-3b",
          "F1 Bloomz-3b",
          "F1 Bloomz-3b",
          "F1 Bloomz-3b",
          "F1 Bloomz-3b",
          "F1 Bloomz-3b",
          "F1 Bloomz-3b",
          "F1 Bloomz-3b",
          "F1 Bloomz-3b",
          "F1 Bloomz-3b",
          "F1 Bloomz-3b",
          "F1 Bloomz-3b",
          "F1 Bloomz-3b",
          "F1 Bloomz-3b",
          "F1 Bloomz-3b",
          "F1 Bloomz-3b",
          "F1 Bloomz-3b",
          "F1 Bloomz-3b",
          "F1 Bloomz-3b",
          "F1 Bloomz-3b",
          "F1 Bloomz-3b",
          "F1 Bloomz-3b",
          "F1 Bloomz-3b",
          "F1 Bloomz-3b",
          "F1 Bloomz-3b",
          "F1 Bloomz-3b",
          "F1 Bloomz-3b",
          "F1 Bloomz-3b",
          "F1 Bloomz-3b",
          "F1 Bloomz-3b",
          "F1 Bloomz-3b",
          "F1 Bloomz-3b",
          "F1 Bloomz-3b",
          "F1 Bloomz-3b",
          "F1 Bloomz-3b",
          "F1 Bloomz-3b",
          "F1 Bloomz-3b",
          "F1 Bloomz-3b",
          "F1 Bloomz-3b",
          "F1 Bloomz-3b",
          "F1 Bloomz-3b",
          "F1 Bloomz-3b",
          "F1 Bloomz-3b",
          "F1 Bloomz-3b",
          "F1 Bloomz-3b",
          "F1 Bloomz-3b",
          "F1 Bloomz-3b",
          "F1 Bloomz-3b",
          "F1 Bloomz-3b",
          "F1 Bloomz-3b",
          "F1 Bloomz-3b",
          "F1 Bloomz-3b",
          "F1 Bloomz-3b",
          "F1 Bloomz-3b",
          "F1 Bloomz-3b",
          "F1 Bloomz-3b",
          "F1 Bloomz-3b",
          "F1 Bloomz-3b",
          "F1 Bloomz-3b",
          "F1 Bloomz-3b",
          "F1 Bloomz-3b",
          "F1 Bloomz-3b",
          "F1 Bloomz-3b",
          "F1 Bloomz-3b",
          "F1 Bloomz-3b",
          "F1 Bloomz-3b",
          "F1 Bloomz-3b",
          "F1 Bloomz-3b",
          "F1 Bloomz-3b",
          "F1 Bloomz-3b",
          "F1 Bloomz-3b",
          "F1 Bloomz-3b",
          "F1 Bloomz-3b",
          "F1 Bloomz-3b",
          "F1 Bloomz-3b",
          "F1 Bloomz-3b",
          "F1 Bloomz-3b",
          "F1 Bloomz-3b",
          "F1 Bloomz-3b",
          "F1 Bloomz-3b",
          "F1 Bloomz-3b",
          "F1 Bloomz-3b",
          "F1 Bloomz-3b",
          "F1 Bloomz-3b",
          "F1 Bloomz-3b",
          "F1 Bloomz-3b",
          "F1 Bloomz-3b",
          "F1 Bloomz-3b",
          "F1 Bloomz-3b",
          "F1 Bloomz-3b",
          "F1 Bloomz-3b",
          "F1 Bloomz-3b",
          "F1 Bloomz-3b",
          "F1 Bloomz-3b",
          "F1 Bloomz-3b",
          "F1 Bloomz-3b",
          "F1 Bloomz-3b",
          "F1 Bloomz-3b",
          "F1 Bloomz-3b",
          "F1 Bloomz-3b",
          "F1 Bloomz-3b",
          "F1 Bloomz-3b",
          "F1 Bloomz-3b",
          "F1 Bloomz-3b",
          "F1 Bloomz-3b",
          "F1 Bloomz-3b",
          "F1 Bloomz-3b",
          "F1 Bloomz-3b",
          "F1 Bloomz-3b",
          "F1 Bloomz-3b",
          "F1 Bloomz-3b",
          "F1 Bloomz-3b",
          "F1 Bloomz-3b",
          "F1 Bloomz-3b",
          "F1 Bloomz-3b",
          "F1 Bloomz-3b",
          "F1 Bloomz-3b",
          "F1 Bloomz-3b",
          "F1 Bloomz-3b",
          "F1 Bloomz-3b",
          "F1 Bloomz-3b"
         ],
         "x0": " ",
         "xaxis": "x",
         "y": [
          0.142853239065781,
          0.335328829636287,
          0.435668208116553,
          0.453235950497058,
          0.442201626722128,
          0.309195402298851,
          0.460215925139126,
          0.353334084969588,
          0.311738626592701,
          0.0966988089229176,
          0.453119724646723,
          0.468787309386968,
          0.224052041896281,
          0.4685437729426,
          0.448474045735154,
          0.431383948991394,
          0.437715565183884,
          0.45371030368647,
          0.490311157552537,
          0.251676516653264,
          0.180199641239969,
          0.246925387419148,
          0.209598074697315,
          0.303137833497269,
          0.399032778687034,
          0.118899841791408,
          0.27183064361268,
          0.467022728128972,
          0.456995128234726,
          0.136020583190395,
          0.385718830617577,
          0.122298096855619,
          0.296820307580396,
          0.367181144271767,
          0.219131969563004,
          0.468189708472662,
          0.36953902692819,
          0.263210007047216,
          0.257559000722616,
          0.13855967163379,
          0.282627514912547,
          0.228985538562018,
          0.362025829235218,
          0.399073345554303,
          0.263839329963326,
          0.310533410008243,
          0.0468384074941452,
          0.150617810823415,
          0.499246825246599,
          0.322594951193767,
          0.263794841687022,
          0.458974951142749,
          0.286603839265792,
          0.238598827366943,
          0.264775402664062,
          0.240365179252479,
          0.28559235575745,
          0.473167474796977,
          0.373280608194401,
          0.272123200937371,
          0.173927345802346,
          0.223477332852333,
          0.227730348343102,
          0.496015773455631,
          0.359427414544742,
          0.468589619504254,
          0.345680412717618,
          0.230059065228557,
          0.123677809604583,
          0.491596424010217,
          0.475761356766987,
          0.272280693580953,
          0.288032050283102,
          0.0796985030571368,
          0.374499537450028,
          0.36350123649198,
          0.491369822450511,
          0.228236916522483,
          0.436003946710886,
          0.396787199657328,
          0.417700528539747,
          0.165559057002673,
          0.257941044256834,
          0.247284617069929,
          0.467202146332743,
          0.284661891639784,
          0.318550527155142,
          0.115057399291472,
          0.186701991370554,
          0.234287074776721,
          0.359101543132126,
          0.147806570343527,
          0.197297461008905,
          0.358427308795794,
          0.390438352027084,
          0.176449237301497,
          0.28669803599019,
          0.233312402913111,
          0.0777793013893466,
          0.285457482953011,
          0.29068680473966,
          0.176291380261069,
          0.214062443379468,
          0.372963113448116,
          0.313025608210379,
          0.357771463913372,
          0.247601589425387,
          0.311300733600579,
          0.237092350982415,
          0.308532110667571,
          0.309250695541018,
          0.344421994995854,
          0.255928304910406,
          0.303665007218404,
          0.228949958561286,
          0.484816628264209,
          0.485791820457073,
          0.474578989869755,
          0.480698651719545,
          0.117112072267842,
          0.413779360007808,
          0.191099773033434,
          0.303626122544788,
          0.202793848092565,
          0.298256392996475,
          0.236799414259226,
          0.106231671554252,
          0.323413037885589,
          0.302455451525219,
          0.334206219294316,
          0.493562392795883,
          0.366645206626145,
          0.15875570174122,
          0.367978570924484,
          0.431505069074708,
          0.475748646482015,
          0.361555070112006,
          0.490123254185489,
          0.427047805561966,
          0.231729119847561,
          0.33792688727822,
          0.304074896471866,
          0.273860453272218,
          0.464908159502658,
          0.332936729432731,
          0.280514317878901,
          0.413597301839747,
          0.386566690431008,
          0.301437100448958,
          0.266855990053265,
          0.405212520426055,
          0.056225896684708,
          0.324513920515065,
          0.190761059556772,
          0.0995180508528673,
          0.259885848981594,
          0.218235444845291,
          0.245748546829397,
          0.385213801396446,
          0.204639613453064,
          0.228701621411516,
          0.356734917262025,
          0.469949684994275,
          0.372258926287564,
          0.18821349873865,
          0.293674490618539,
          0.380190907180535,
          0.333361471784353,
          0.43096663836203,
          0.23106998293636,
          0.452307605253105,
          0.254245878112147,
          0.0691469522114683,
          0.198033056017522,
          0.480511036927889,
          0.170539018933724,
          0.311507543884616,
          0.157621051678075,
          0.096399304357241,
          0.322245137491616,
          0.359589284504884,
          0.344928118855106,
          0.25574456420042,
          0.342146274777854,
          0.294312611490418,
          0.382615844521307,
          0.059008160703076,
          0.154419233276095,
          0.150771378169634,
          0.265705836188268,
          0.456542896318381,
          0.217090890682637,
          0.364379437265494,
          0.494098548510313,
          0.379073245600644,
          0.358700852312834,
          0.329349844118726,
          0.085013854679803,
          0.368853184304338,
          0.482893601694005,
          0.489758628164161,
          0.485620779999753,
          0.451145223187134,
          0.345928047108171
         ],
         "y0": " ",
         "yaxis": "y",
         "type": "box"
        },
        {
         "alignmentgroup": "True",
         "hovertemplate": "Model=%{x}<br>F1 Score=%{y}<extra></extra>",
         "legendgroup": "F1 Bloomz-7b1",
         "marker": {
          "color": "#FFA15A"
         },
         "name": "F1 Bloomz-7b1",
         "notched": false,
         "offsetgroup": "F1 Bloomz-7b1",
         "orientation": "v",
         "showlegend": true,
         "x": [
          "F1 Bloomz-7b1",
          "F1 Bloomz-7b1",
          "F1 Bloomz-7b1",
          "F1 Bloomz-7b1",
          "F1 Bloomz-7b1",
          "F1 Bloomz-7b1",
          "F1 Bloomz-7b1",
          "F1 Bloomz-7b1",
          "F1 Bloomz-7b1",
          "F1 Bloomz-7b1",
          "F1 Bloomz-7b1",
          "F1 Bloomz-7b1",
          "F1 Bloomz-7b1",
          "F1 Bloomz-7b1",
          "F1 Bloomz-7b1",
          "F1 Bloomz-7b1",
          "F1 Bloomz-7b1",
          "F1 Bloomz-7b1",
          "F1 Bloomz-7b1",
          "F1 Bloomz-7b1",
          "F1 Bloomz-7b1",
          "F1 Bloomz-7b1",
          "F1 Bloomz-7b1",
          "F1 Bloomz-7b1",
          "F1 Bloomz-7b1",
          "F1 Bloomz-7b1",
          "F1 Bloomz-7b1",
          "F1 Bloomz-7b1",
          "F1 Bloomz-7b1",
          "F1 Bloomz-7b1",
          "F1 Bloomz-7b1",
          "F1 Bloomz-7b1",
          "F1 Bloomz-7b1",
          "F1 Bloomz-7b1",
          "F1 Bloomz-7b1",
          "F1 Bloomz-7b1",
          "F1 Bloomz-7b1",
          "F1 Bloomz-7b1",
          "F1 Bloomz-7b1",
          "F1 Bloomz-7b1",
          "F1 Bloomz-7b1",
          "F1 Bloomz-7b1",
          "F1 Bloomz-7b1",
          "F1 Bloomz-7b1",
          "F1 Bloomz-7b1",
          "F1 Bloomz-7b1",
          "F1 Bloomz-7b1",
          "F1 Bloomz-7b1",
          "F1 Bloomz-7b1",
          "F1 Bloomz-7b1",
          "F1 Bloomz-7b1",
          "F1 Bloomz-7b1",
          "F1 Bloomz-7b1",
          "F1 Bloomz-7b1",
          "F1 Bloomz-7b1",
          "F1 Bloomz-7b1",
          "F1 Bloomz-7b1",
          "F1 Bloomz-7b1",
          "F1 Bloomz-7b1",
          "F1 Bloomz-7b1",
          "F1 Bloomz-7b1",
          "F1 Bloomz-7b1",
          "F1 Bloomz-7b1",
          "F1 Bloomz-7b1",
          "F1 Bloomz-7b1",
          "F1 Bloomz-7b1",
          "F1 Bloomz-7b1",
          "F1 Bloomz-7b1",
          "F1 Bloomz-7b1",
          "F1 Bloomz-7b1",
          "F1 Bloomz-7b1",
          "F1 Bloomz-7b1",
          "F1 Bloomz-7b1",
          "F1 Bloomz-7b1",
          "F1 Bloomz-7b1",
          "F1 Bloomz-7b1",
          "F1 Bloomz-7b1",
          "F1 Bloomz-7b1",
          "F1 Bloomz-7b1",
          "F1 Bloomz-7b1",
          "F1 Bloomz-7b1",
          "F1 Bloomz-7b1",
          "F1 Bloomz-7b1",
          "F1 Bloomz-7b1",
          "F1 Bloomz-7b1",
          "F1 Bloomz-7b1",
          "F1 Bloomz-7b1",
          "F1 Bloomz-7b1",
          "F1 Bloomz-7b1",
          "F1 Bloomz-7b1",
          "F1 Bloomz-7b1",
          "F1 Bloomz-7b1",
          "F1 Bloomz-7b1",
          "F1 Bloomz-7b1",
          "F1 Bloomz-7b1",
          "F1 Bloomz-7b1",
          "F1 Bloomz-7b1",
          "F1 Bloomz-7b1",
          "F1 Bloomz-7b1",
          "F1 Bloomz-7b1",
          "F1 Bloomz-7b1",
          "F1 Bloomz-7b1",
          "F1 Bloomz-7b1",
          "F1 Bloomz-7b1",
          "F1 Bloomz-7b1",
          "F1 Bloomz-7b1",
          "F1 Bloomz-7b1",
          "F1 Bloomz-7b1",
          "F1 Bloomz-7b1",
          "F1 Bloomz-7b1",
          "F1 Bloomz-7b1",
          "F1 Bloomz-7b1",
          "F1 Bloomz-7b1",
          "F1 Bloomz-7b1",
          "F1 Bloomz-7b1",
          "F1 Bloomz-7b1",
          "F1 Bloomz-7b1",
          "F1 Bloomz-7b1",
          "F1 Bloomz-7b1",
          "F1 Bloomz-7b1",
          "F1 Bloomz-7b1",
          "F1 Bloomz-7b1",
          "F1 Bloomz-7b1",
          "F1 Bloomz-7b1",
          "F1 Bloomz-7b1",
          "F1 Bloomz-7b1",
          "F1 Bloomz-7b1",
          "F1 Bloomz-7b1",
          "F1 Bloomz-7b1",
          "F1 Bloomz-7b1",
          "F1 Bloomz-7b1",
          "F1 Bloomz-7b1",
          "F1 Bloomz-7b1",
          "F1 Bloomz-7b1",
          "F1 Bloomz-7b1",
          "F1 Bloomz-7b1",
          "F1 Bloomz-7b1",
          "F1 Bloomz-7b1",
          "F1 Bloomz-7b1",
          "F1 Bloomz-7b1",
          "F1 Bloomz-7b1",
          "F1 Bloomz-7b1",
          "F1 Bloomz-7b1",
          "F1 Bloomz-7b1",
          "F1 Bloomz-7b1",
          "F1 Bloomz-7b1",
          "F1 Bloomz-7b1",
          "F1 Bloomz-7b1",
          "F1 Bloomz-7b1",
          "F1 Bloomz-7b1",
          "F1 Bloomz-7b1",
          "F1 Bloomz-7b1",
          "F1 Bloomz-7b1",
          "F1 Bloomz-7b1",
          "F1 Bloomz-7b1",
          "F1 Bloomz-7b1",
          "F1 Bloomz-7b1",
          "F1 Bloomz-7b1",
          "F1 Bloomz-7b1",
          "F1 Bloomz-7b1",
          "F1 Bloomz-7b1",
          "F1 Bloomz-7b1",
          "F1 Bloomz-7b1",
          "F1 Bloomz-7b1",
          "F1 Bloomz-7b1",
          "F1 Bloomz-7b1",
          "F1 Bloomz-7b1",
          "F1 Bloomz-7b1",
          "F1 Bloomz-7b1",
          "F1 Bloomz-7b1",
          "F1 Bloomz-7b1",
          "F1 Bloomz-7b1",
          "F1 Bloomz-7b1",
          "F1 Bloomz-7b1",
          "F1 Bloomz-7b1",
          "F1 Bloomz-7b1",
          "F1 Bloomz-7b1",
          "F1 Bloomz-7b1",
          "F1 Bloomz-7b1",
          "F1 Bloomz-7b1",
          "F1 Bloomz-7b1",
          "F1 Bloomz-7b1",
          "F1 Bloomz-7b1",
          "F1 Bloomz-7b1",
          "F1 Bloomz-7b1",
          "F1 Bloomz-7b1",
          "F1 Bloomz-7b1",
          "F1 Bloomz-7b1",
          "F1 Bloomz-7b1",
          "F1 Bloomz-7b1",
          "F1 Bloomz-7b1",
          "F1 Bloomz-7b1",
          "F1 Bloomz-7b1",
          "F1 Bloomz-7b1",
          "F1 Bloomz-7b1",
          "F1 Bloomz-7b1",
          "F1 Bloomz-7b1",
          "F1 Bloomz-7b1",
          "F1 Bloomz-7b1",
          "F1 Bloomz-7b1",
          "F1 Bloomz-7b1",
          "F1 Bloomz-7b1",
          "F1 Bloomz-7b1",
          "F1 Bloomz-7b1"
         ],
         "x0": " ",
         "xaxis": "x",
         "y": [
          0.102,
          0.4112,
          0.4919,
          0.4965,
          0.4663,
          0.3705,
          0.4867,
          0.404,
          0.317,
          0.0963,
          0.4883,
          0.5006,
          0.2094,
          0.5024,
          0.5085,
          0.5025,
          0.4919,
          0.5287,
          0.5053,
          0.2426,
          0.2222,
          0.2808,
          0.1941,
          0.3603,
          0.4195,
          0.1133,
          0.2956,
          0.5242,
          0.4931,
          0.1188,
          0.4495,
          0.0965,
          0.3788,
          0.3885,
          0.3368,
          0.5292,
          0.4025,
          0.3236,
          0.2633,
          0.1701,
          0.2932,
          0.2553,
          0.395,
          0.5102,
          0.2731,
          0.3054,
          0.0468,
          0.1674,
          0.5186,
          0.4054,
          0.2978,
          0.5348,
          0.2598,
          0.261,
          0.2676,
          0.2561,
          0.2923,
          0.5451,
          0.4315,
          0.2963,
          0.2242,
          0.2341,
          0.2019,
          0.5349,
          0.3609,
          0.5185,
          0.373,
          0.2416,
          0.116,
          0.5333,
          0.4938,
          0.3233,
          0.2841,
          0.0782,
          0.445,
          0.4015,
          0.5199,
          0.2488,
          0.5013,
          0.4523,
          0.4588,
          0.1377,
          0.2432,
          0.2949,
          0.5266,
          0.3603,
          0.3432,
          0.1145,
          0.204,
          0.2433,
          0.4502,
          0.1435,
          0.1997,
          0.4421,
          0.4438,
          0.195,
          0.2568,
          0.2607,
          0.0833,
          0.2868,
          0.3133,
          0.2162,
          0.2089,
          0.4276,
          0.3631,
          0.451,
          0.3329,
          0.4504,
          0.2985,
          0.3864,
          0.3619,
          0.3428,
          0.2777,
          0.327,
          0.323,
          0.505,
          0.5099,
          0.515,
          0.5063,
          0.1019,
          0.4296,
          0.229,
          0.4101,
          0.2309,
          0.2395,
          0.1819,
          0.1025,
          0.4265,
          0.3745,
          0.387,
          0.5313,
          0.4258,
          0.1444,
          0.3984,
          0.4974,
          0.5375,
          0.4046,
          0.5135,
          0.4525,
          0.2952,
          0.3691,
          0.2911,
          0.3303,
          0.5269,
          0.3413,
          0.2662,
          0.4814,
          0.4628,
          0.414,
          0.3017,
          0.4673,
          null,
          0.3779,
          null,
          0.1046,
          0.3455,
          0.3543,
          0.2056,
          0.463,
          0.2732,
          0.3004,
          0.4081,
          0.5578,
          0.4329,
          0.2719,
          0.3014,
          0.4446,
          0.3955,
          0.5029,
          0.3143,
          0.5082,
          0.281,
          0.0903,
          0.1922,
          0.5113,
          0.1501,
          0.3984,
          0.1446,
          0.0861,
          0.3796,
          0.4219,
          0.4101,
          0.2918,
          0.436,
          0.3397,
          0.4153,
          0.0674,
          0.1431,
          0.3018,
          0.2215,
          0.5083,
          0.2626,
          0.4295,
          0.5391,
          0.4016,
          0.3851,
          0.4091,
          0.1078,
          0.4377,
          0.4993,
          0.5081,
          0.5203,
          0.4952,
          0.4085
         ],
         "y0": " ",
         "yaxis": "y",
         "type": "box"
        }
       ],
       "layout": {
        "template": {
         "data": {
          "histogram2dcontour": [
           {
            "type": "histogram2dcontour",
            "colorbar": {
             "outlinewidth": 0,
             "ticks": ""
            },
            "colorscale": [
             [
              0.0,
              "#0d0887"
             ],
             [
              0.1111111111111111,
              "#46039f"
             ],
             [
              0.2222222222222222,
              "#7201a8"
             ],
             [
              0.3333333333333333,
              "#9c179e"
             ],
             [
              0.4444444444444444,
              "#bd3786"
             ],
             [
              0.5555555555555556,
              "#d8576b"
             ],
             [
              0.6666666666666666,
              "#ed7953"
             ],
             [
              0.7777777777777778,
              "#fb9f3a"
             ],
             [
              0.8888888888888888,
              "#fdca26"
             ],
             [
              1.0,
              "#f0f921"
             ]
            ]
           }
          ],
          "choropleth": [
           {
            "type": "choropleth",
            "colorbar": {
             "outlinewidth": 0,
             "ticks": ""
            }
           }
          ],
          "histogram2d": [
           {
            "type": "histogram2d",
            "colorbar": {
             "outlinewidth": 0,
             "ticks": ""
            },
            "colorscale": [
             [
              0.0,
              "#0d0887"
             ],
             [
              0.1111111111111111,
              "#46039f"
             ],
             [
              0.2222222222222222,
              "#7201a8"
             ],
             [
              0.3333333333333333,
              "#9c179e"
             ],
             [
              0.4444444444444444,
              "#bd3786"
             ],
             [
              0.5555555555555556,
              "#d8576b"
             ],
             [
              0.6666666666666666,
              "#ed7953"
             ],
             [
              0.7777777777777778,
              "#fb9f3a"
             ],
             [
              0.8888888888888888,
              "#fdca26"
             ],
             [
              1.0,
              "#f0f921"
             ]
            ]
           }
          ],
          "heatmap": [
           {
            "type": "heatmap",
            "colorbar": {
             "outlinewidth": 0,
             "ticks": ""
            },
            "colorscale": [
             [
              0.0,
              "#0d0887"
             ],
             [
              0.1111111111111111,
              "#46039f"
             ],
             [
              0.2222222222222222,
              "#7201a8"
             ],
             [
              0.3333333333333333,
              "#9c179e"
             ],
             [
              0.4444444444444444,
              "#bd3786"
             ],
             [
              0.5555555555555556,
              "#d8576b"
             ],
             [
              0.6666666666666666,
              "#ed7953"
             ],
             [
              0.7777777777777778,
              "#fb9f3a"
             ],
             [
              0.8888888888888888,
              "#fdca26"
             ],
             [
              1.0,
              "#f0f921"
             ]
            ]
           }
          ],
          "heatmapgl": [
           {
            "type": "heatmapgl",
            "colorbar": {
             "outlinewidth": 0,
             "ticks": ""
            },
            "colorscale": [
             [
              0.0,
              "#0d0887"
             ],
             [
              0.1111111111111111,
              "#46039f"
             ],
             [
              0.2222222222222222,
              "#7201a8"
             ],
             [
              0.3333333333333333,
              "#9c179e"
             ],
             [
              0.4444444444444444,
              "#bd3786"
             ],
             [
              0.5555555555555556,
              "#d8576b"
             ],
             [
              0.6666666666666666,
              "#ed7953"
             ],
             [
              0.7777777777777778,
              "#fb9f3a"
             ],
             [
              0.8888888888888888,
              "#fdca26"
             ],
             [
              1.0,
              "#f0f921"
             ]
            ]
           }
          ],
          "contourcarpet": [
           {
            "type": "contourcarpet",
            "colorbar": {
             "outlinewidth": 0,
             "ticks": ""
            }
           }
          ],
          "contour": [
           {
            "type": "contour",
            "colorbar": {
             "outlinewidth": 0,
             "ticks": ""
            },
            "colorscale": [
             [
              0.0,
              "#0d0887"
             ],
             [
              0.1111111111111111,
              "#46039f"
             ],
             [
              0.2222222222222222,
              "#7201a8"
             ],
             [
              0.3333333333333333,
              "#9c179e"
             ],
             [
              0.4444444444444444,
              "#bd3786"
             ],
             [
              0.5555555555555556,
              "#d8576b"
             ],
             [
              0.6666666666666666,
              "#ed7953"
             ],
             [
              0.7777777777777778,
              "#fb9f3a"
             ],
             [
              0.8888888888888888,
              "#fdca26"
             ],
             [
              1.0,
              "#f0f921"
             ]
            ]
           }
          ],
          "surface": [
           {
            "type": "surface",
            "colorbar": {
             "outlinewidth": 0,
             "ticks": ""
            },
            "colorscale": [
             [
              0.0,
              "#0d0887"
             ],
             [
              0.1111111111111111,
              "#46039f"
             ],
             [
              0.2222222222222222,
              "#7201a8"
             ],
             [
              0.3333333333333333,
              "#9c179e"
             ],
             [
              0.4444444444444444,
              "#bd3786"
             ],
             [
              0.5555555555555556,
              "#d8576b"
             ],
             [
              0.6666666666666666,
              "#ed7953"
             ],
             [
              0.7777777777777778,
              "#fb9f3a"
             ],
             [
              0.8888888888888888,
              "#fdca26"
             ],
             [
              1.0,
              "#f0f921"
             ]
            ]
           }
          ],
          "mesh3d": [
           {
            "type": "mesh3d",
            "colorbar": {
             "outlinewidth": 0,
             "ticks": ""
            }
           }
          ],
          "scatter": [
           {
            "fillpattern": {
             "fillmode": "overlay",
             "size": 10,
             "solidity": 0.2
            },
            "type": "scatter"
           }
          ],
          "parcoords": [
           {
            "type": "parcoords",
            "line": {
             "colorbar": {
              "outlinewidth": 0,
              "ticks": ""
             }
            }
           }
          ],
          "scatterpolargl": [
           {
            "type": "scatterpolargl",
            "marker": {
             "colorbar": {
              "outlinewidth": 0,
              "ticks": ""
             }
            }
           }
          ],
          "bar": [
           {
            "error_x": {
             "color": "#2a3f5f"
            },
            "error_y": {
             "color": "#2a3f5f"
            },
            "marker": {
             "line": {
              "color": "#E5ECF6",
              "width": 0.5
             },
             "pattern": {
              "fillmode": "overlay",
              "size": 10,
              "solidity": 0.2
             }
            },
            "type": "bar"
           }
          ],
          "scattergeo": [
           {
            "type": "scattergeo",
            "marker": {
             "colorbar": {
              "outlinewidth": 0,
              "ticks": ""
             }
            }
           }
          ],
          "scatterpolar": [
           {
            "type": "scatterpolar",
            "marker": {
             "colorbar": {
              "outlinewidth": 0,
              "ticks": ""
             }
            }
           }
          ],
          "histogram": [
           {
            "marker": {
             "pattern": {
              "fillmode": "overlay",
              "size": 10,
              "solidity": 0.2
             }
            },
            "type": "histogram"
           }
          ],
          "scattergl": [
           {
            "type": "scattergl",
            "marker": {
             "colorbar": {
              "outlinewidth": 0,
              "ticks": ""
             }
            }
           }
          ],
          "scatter3d": [
           {
            "type": "scatter3d",
            "line": {
             "colorbar": {
              "outlinewidth": 0,
              "ticks": ""
             }
            },
            "marker": {
             "colorbar": {
              "outlinewidth": 0,
              "ticks": ""
             }
            }
           }
          ],
          "scattermapbox": [
           {
            "type": "scattermapbox",
            "marker": {
             "colorbar": {
              "outlinewidth": 0,
              "ticks": ""
             }
            }
           }
          ],
          "scatterternary": [
           {
            "type": "scatterternary",
            "marker": {
             "colorbar": {
              "outlinewidth": 0,
              "ticks": ""
             }
            }
           }
          ],
          "scattercarpet": [
           {
            "type": "scattercarpet",
            "marker": {
             "colorbar": {
              "outlinewidth": 0,
              "ticks": ""
             }
            }
           }
          ],
          "carpet": [
           {
            "aaxis": {
             "endlinecolor": "#2a3f5f",
             "gridcolor": "white",
             "linecolor": "white",
             "minorgridcolor": "white",
             "startlinecolor": "#2a3f5f"
            },
            "baxis": {
             "endlinecolor": "#2a3f5f",
             "gridcolor": "white",
             "linecolor": "white",
             "minorgridcolor": "white",
             "startlinecolor": "#2a3f5f"
            },
            "type": "carpet"
           }
          ],
          "table": [
           {
            "cells": {
             "fill": {
              "color": "#EBF0F8"
             },
             "line": {
              "color": "white"
             }
            },
            "header": {
             "fill": {
              "color": "#C8D4E3"
             },
             "line": {
              "color": "white"
             }
            },
            "type": "table"
           }
          ],
          "barpolar": [
           {
            "marker": {
             "line": {
              "color": "#E5ECF6",
              "width": 0.5
             },
             "pattern": {
              "fillmode": "overlay",
              "size": 10,
              "solidity": 0.2
             }
            },
            "type": "barpolar"
           }
          ],
          "pie": [
           {
            "automargin": true,
            "type": "pie"
           }
          ]
         },
         "layout": {
          "autotypenumbers": "strict",
          "colorway": [
           "#636efa",
           "#EF553B",
           "#00cc96",
           "#ab63fa",
           "#FFA15A",
           "#19d3f3",
           "#FF6692",
           "#B6E880",
           "#FF97FF",
           "#FECB52"
          ],
          "font": {
           "color": "#2a3f5f"
          },
          "hovermode": "closest",
          "hoverlabel": {
           "align": "left"
          },
          "paper_bgcolor": "white",
          "plot_bgcolor": "#E5ECF6",
          "polar": {
           "bgcolor": "#E5ECF6",
           "angularaxis": {
            "gridcolor": "white",
            "linecolor": "white",
            "ticks": ""
           },
           "radialaxis": {
            "gridcolor": "white",
            "linecolor": "white",
            "ticks": ""
           }
          },
          "ternary": {
           "bgcolor": "#E5ECF6",
           "aaxis": {
            "gridcolor": "white",
            "linecolor": "white",
            "ticks": ""
           },
           "baxis": {
            "gridcolor": "white",
            "linecolor": "white",
            "ticks": ""
           },
           "caxis": {
            "gridcolor": "white",
            "linecolor": "white",
            "ticks": ""
           }
          },
          "coloraxis": {
           "colorbar": {
            "outlinewidth": 0,
            "ticks": ""
           }
          },
          "colorscale": {
           "sequential": [
            [
             0.0,
             "#0d0887"
            ],
            [
             0.1111111111111111,
             "#46039f"
            ],
            [
             0.2222222222222222,
             "#7201a8"
            ],
            [
             0.3333333333333333,
             "#9c179e"
            ],
            [
             0.4444444444444444,
             "#bd3786"
            ],
            [
             0.5555555555555556,
             "#d8576b"
            ],
            [
             0.6666666666666666,
             "#ed7953"
            ],
            [
             0.7777777777777778,
             "#fb9f3a"
            ],
            [
             0.8888888888888888,
             "#fdca26"
            ],
            [
             1.0,
             "#f0f921"
            ]
           ],
           "sequentialminus": [
            [
             0.0,
             "#0d0887"
            ],
            [
             0.1111111111111111,
             "#46039f"
            ],
            [
             0.2222222222222222,
             "#7201a8"
            ],
            [
             0.3333333333333333,
             "#9c179e"
            ],
            [
             0.4444444444444444,
             "#bd3786"
            ],
            [
             0.5555555555555556,
             "#d8576b"
            ],
            [
             0.6666666666666666,
             "#ed7953"
            ],
            [
             0.7777777777777778,
             "#fb9f3a"
            ],
            [
             0.8888888888888888,
             "#fdca26"
            ],
            [
             1.0,
             "#f0f921"
            ]
           ],
           "diverging": [
            [
             0,
             "#8e0152"
            ],
            [
             0.1,
             "#c51b7d"
            ],
            [
             0.2,
             "#de77ae"
            ],
            [
             0.3,
             "#f1b6da"
            ],
            [
             0.4,
             "#fde0ef"
            ],
            [
             0.5,
             "#f7f7f7"
            ],
            [
             0.6,
             "#e6f5d0"
            ],
            [
             0.7,
             "#b8e186"
            ],
            [
             0.8,
             "#7fbc41"
            ],
            [
             0.9,
             "#4d9221"
            ],
            [
             1,
             "#276419"
            ]
           ]
          },
          "xaxis": {
           "gridcolor": "white",
           "linecolor": "white",
           "ticks": "",
           "title": {
            "standoff": 15
           },
           "zerolinecolor": "white",
           "automargin": true,
           "zerolinewidth": 2
          },
          "yaxis": {
           "gridcolor": "white",
           "linecolor": "white",
           "ticks": "",
           "title": {
            "standoff": 15
           },
           "zerolinecolor": "white",
           "automargin": true,
           "zerolinewidth": 2
          },
          "scene": {
           "xaxis": {
            "backgroundcolor": "#E5ECF6",
            "gridcolor": "white",
            "linecolor": "white",
            "showbackground": true,
            "ticks": "",
            "zerolinecolor": "white",
            "gridwidth": 2
           },
           "yaxis": {
            "backgroundcolor": "#E5ECF6",
            "gridcolor": "white",
            "linecolor": "white",
            "showbackground": true,
            "ticks": "",
            "zerolinecolor": "white",
            "gridwidth": 2
           },
           "zaxis": {
            "backgroundcolor": "#E5ECF6",
            "gridcolor": "white",
            "linecolor": "white",
            "showbackground": true,
            "ticks": "",
            "zerolinecolor": "white",
            "gridwidth": 2
           }
          },
          "shapedefaults": {
           "line": {
            "color": "#2a3f5f"
           }
          },
          "annotationdefaults": {
           "arrowcolor": "#2a3f5f",
           "arrowhead": 0,
           "arrowwidth": 1
          },
          "geo": {
           "bgcolor": "white",
           "landcolor": "#E5ECF6",
           "subunitcolor": "white",
           "showland": true,
           "showlakes": true,
           "lakecolor": "white"
          },
          "title": {
           "x": 0.05
          },
          "mapbox": {
           "style": "light"
          }
         }
        },
        "xaxis": {
         "anchor": "y",
         "domain": [
          0.0,
          1.0
         ],
         "title": {
          "text": "Model"
         },
         "categoryorder": "array",
         "categoryarray": [
          "F1 Bloomz-560M",
          "F1 Bloomz-1b1",
          "F1 Bloomz-1b7",
          "F1 Bloomz-3b",
          "F1 Bloomz-7b1"
         ]
        },
        "yaxis": {
         "anchor": "x",
         "domain": [
          0.0,
          1.0
         ],
         "title": {
          "text": "F1 Score"
         }
        },
        "legend": {
         "title": {
          "text": "Model"
         },
         "tracegroupgap": 0
        },
        "title": {
         "text": "Box Plot for F1 Scores For All Languages (None = None, Only Bloomz = False, Only Bloom = False)"
        },
        "boxmode": "overlay"
       },
       "config": {
        "plotlyServerURL": "https://plot.ly"
       }
      }
     },
     "metadata": {},
     "output_type": "display_data"
    }
   ],
   "source": [
    "import plotly.express as px\n",
    "only_bloom = False\n",
    "only_bloomz = False\n",
    "filter = None\n",
    "value = None\n",
    "\n",
    "filtered_df = filter_df(melted_df, filter, value, only_bloom=only_bloom, only_bloomz=only_bloomz)\n",
    "fig = px.box(filtered_df, x='Model', y='F1 Score',\n",
    "             color='Model', title=f'Box Plot for F1 Scores For All Languages ({filter} = {value}, Only Bloomz = {only_bloomz}, Only Bloom = {only_bloom})',\n",
    "             labels={'F1 Score': 'F1 Score', 'Model': 'Model'})\n",
    "\n",
    "fig.show()"
   ]
  },
  {
   "cell_type": "code",
   "execution_count": 27,
   "id": "d87604e426b1d2ce",
   "metadata": {
    "collapsed": false,
    "ExecuteTime": {
     "end_time": "2024-01-23T00:27:37.654953891Z",
     "start_time": "2024-01-23T00:27:37.369341664Z"
    }
   },
   "outputs": [
    {
     "data": {
      "application/vnd.plotly.v1+json": {
       "data": [
        {
         "alignmentgroup": "True",
         "hovertemplate": "Model=%{x}<br>F1 Score=%{y}<extra></extra>",
         "legendgroup": "F1 Bloomz-560M",
         "marker": {
          "color": "#636efa"
         },
         "name": "F1 Bloomz-560M",
         "notched": false,
         "offsetgroup": "F1 Bloomz-560M",
         "orientation": "v",
         "showlegend": true,
         "x": [
          "F1 Bloomz-560M",
          "F1 Bloomz-560M",
          "F1 Bloomz-560M",
          "F1 Bloomz-560M",
          "F1 Bloomz-560M",
          "F1 Bloomz-560M",
          "F1 Bloomz-560M",
          "F1 Bloomz-560M",
          "F1 Bloomz-560M",
          "F1 Bloomz-560M",
          "F1 Bloomz-560M",
          "F1 Bloomz-560M",
          "F1 Bloomz-560M",
          "F1 Bloomz-560M",
          "F1 Bloomz-560M",
          "F1 Bloomz-560M",
          "F1 Bloomz-560M",
          "F1 Bloomz-560M",
          "F1 Bloomz-560M"
         ],
         "x0": " ",
         "xaxis": "x",
         "y": [
          0.310248032497588,
          0.2381400853513182,
          0.3845072479730258,
          0.2696717407032516,
          0.4155700502492404,
          0.3004678350313753,
          0.3289811586801084,
          0.3541884707588369,
          0.2676852641414497,
          0.3940721003134797,
          0.3797122576790298,
          0.3179982642356503,
          0.3316350632979521,
          0.398363107814965,
          0.2822332003559516,
          0.4517532997786543,
          0.2739054257778704,
          0.2544030794975366,
          0.3185596008615901
         ],
         "y0": " ",
         "yaxis": "y",
         "type": "box"
        },
        {
         "alignmentgroup": "True",
         "hovertemplate": "Model=%{x}<br>F1 Score=%{y}<extra></extra>",
         "legendgroup": "F1 Bloomz-1b1",
         "marker": {
          "color": "#EF553B"
         },
         "name": "F1 Bloomz-1b1",
         "notched": false,
         "offsetgroup": "F1 Bloomz-1b1",
         "orientation": "v",
         "showlegend": true,
         "x": [
          "F1 Bloomz-1b1",
          "F1 Bloomz-1b1",
          "F1 Bloomz-1b1",
          "F1 Bloomz-1b1",
          "F1 Bloomz-1b1",
          "F1 Bloomz-1b1",
          "F1 Bloomz-1b1",
          "F1 Bloomz-1b1",
          "F1 Bloomz-1b1",
          "F1 Bloomz-1b1",
          "F1 Bloomz-1b1",
          "F1 Bloomz-1b1",
          "F1 Bloomz-1b1",
          "F1 Bloomz-1b1",
          "F1 Bloomz-1b1",
          "F1 Bloomz-1b1",
          "F1 Bloomz-1b1",
          "F1 Bloomz-1b1",
          "F1 Bloomz-1b1"
         ],
         "x0": " ",
         "xaxis": "x",
         "y": [
          0.262674584103155,
          0.214927666218214,
          0.322892437892438,
          0.126027206624222,
          0.356474511804722,
          0.23923384139014,
          0.245435988160446,
          0.201011804706723,
          0.170918490311385,
          0.278987678987679,
          0.350477481358988,
          0.203512217437256,
          0.216358190551174,
          0.309623824451411,
          0.17211408876447,
          0.282353353259854,
          0.171368317549035,
          0.192519892760646,
          0.300408096510152
         ],
         "y0": " ",
         "yaxis": "y",
         "type": "box"
        },
        {
         "alignmentgroup": "True",
         "hovertemplate": "Model=%{x}<br>F1 Score=%{y}<extra></extra>",
         "legendgroup": "F1 Bloomz-1b7",
         "marker": {
          "color": "#00cc96"
         },
         "name": "F1 Bloomz-1b7",
         "notched": false,
         "offsetgroup": "F1 Bloomz-1b7",
         "orientation": "v",
         "showlegend": true,
         "x": [
          "F1 Bloomz-1b7",
          "F1 Bloomz-1b7",
          "F1 Bloomz-1b7",
          "F1 Bloomz-1b7",
          "F1 Bloomz-1b7",
          "F1 Bloomz-1b7",
          "F1 Bloomz-1b7",
          "F1 Bloomz-1b7",
          "F1 Bloomz-1b7",
          "F1 Bloomz-1b7",
          "F1 Bloomz-1b7",
          "F1 Bloomz-1b7",
          "F1 Bloomz-1b7",
          "F1 Bloomz-1b7",
          "F1 Bloomz-1b7",
          "F1 Bloomz-1b7",
          "F1 Bloomz-1b7",
          "F1 Bloomz-1b7",
          "F1 Bloomz-1b7"
         ],
         "x0": " ",
         "xaxis": "x",
         "y": [
          0.244945394372259,
          0.219351312514928,
          0.364085655417324,
          0.281614651244289,
          0.363795071814554,
          0.253471745367692,
          0.233773478955778,
          0.285437381341086,
          0.206216332752969,
          0.347828292580985,
          0.373902967913712,
          0.23503584392302,
          0.242067739519014,
          0.380685614624586,
          0.208373422457012,
          0.354524389406839,
          0.220985646633144,
          0.219629897121645,
          0.279117150983332
         ],
         "y0": " ",
         "yaxis": "y",
         "type": "box"
        },
        {
         "alignmentgroup": "True",
         "hovertemplate": "Model=%{x}<br>F1 Score=%{y}<extra></extra>",
         "legendgroup": "F1 Bloomz-3b",
         "marker": {
          "color": "#ab63fa"
         },
         "name": "F1 Bloomz-3b",
         "notched": false,
         "offsetgroup": "F1 Bloomz-3b",
         "orientation": "v",
         "showlegend": true,
         "x": [
          "F1 Bloomz-3b",
          "F1 Bloomz-3b",
          "F1 Bloomz-3b",
          "F1 Bloomz-3b",
          "F1 Bloomz-3b",
          "F1 Bloomz-3b",
          "F1 Bloomz-3b",
          "F1 Bloomz-3b",
          "F1 Bloomz-3b",
          "F1 Bloomz-3b",
          "F1 Bloomz-3b",
          "F1 Bloomz-3b",
          "F1 Bloomz-3b",
          "F1 Bloomz-3b",
          "F1 Bloomz-3b",
          "F1 Bloomz-3b",
          "F1 Bloomz-3b",
          "F1 Bloomz-3b",
          "F1 Bloomz-3b"
         ],
         "x0": " ",
         "xaxis": "x",
         "y": [
          0.353334084969588,
          0.303137833497269,
          0.468589619504254,
          0.374499537450028,
          0.467202146332743,
          0.358427308795794,
          0.390438352027084,
          0.357771463913372,
          0.344421994995854,
          0.474578989869755,
          0.493562392795883,
          0.366645206626145,
          0.367978570924484,
          0.475748646482015,
          0.385213801396446,
          0.480511036927889,
          0.344928118855106,
          0.342146274777854,
          0.382615844521307
         ],
         "y0": " ",
         "yaxis": "y",
         "type": "box"
        },
        {
         "alignmentgroup": "True",
         "hovertemplate": "Model=%{x}<br>F1 Score=%{y}<extra></extra>",
         "legendgroup": "F1 Bloomz-7b1",
         "marker": {
          "color": "#FFA15A"
         },
         "name": "F1 Bloomz-7b1",
         "notched": false,
         "offsetgroup": "F1 Bloomz-7b1",
         "orientation": "v",
         "showlegend": true,
         "x": [
          "F1 Bloomz-7b1",
          "F1 Bloomz-7b1",
          "F1 Bloomz-7b1",
          "F1 Bloomz-7b1",
          "F1 Bloomz-7b1",
          "F1 Bloomz-7b1",
          "F1 Bloomz-7b1",
          "F1 Bloomz-7b1",
          "F1 Bloomz-7b1",
          "F1 Bloomz-7b1",
          "F1 Bloomz-7b1",
          "F1 Bloomz-7b1",
          "F1 Bloomz-7b1",
          "F1 Bloomz-7b1",
          "F1 Bloomz-7b1",
          "F1 Bloomz-7b1",
          "F1 Bloomz-7b1",
          "F1 Bloomz-7b1",
          "F1 Bloomz-7b1"
         ],
         "x0": " ",
         "xaxis": "x",
         "y": [
          0.404,
          0.3603,
          0.5185,
          0.445,
          0.5266,
          0.4421,
          0.4438,
          0.451,
          0.3428,
          0.515,
          0.5313,
          0.4258,
          0.3984,
          0.5375,
          0.463,
          0.5113,
          0.4101,
          0.436,
          0.4153
         ],
         "y0": " ",
         "yaxis": "y",
         "type": "box"
        }
       ],
       "layout": {
        "template": {
         "data": {
          "histogram2dcontour": [
           {
            "type": "histogram2dcontour",
            "colorbar": {
             "outlinewidth": 0,
             "ticks": ""
            },
            "colorscale": [
             [
              0.0,
              "#0d0887"
             ],
             [
              0.1111111111111111,
              "#46039f"
             ],
             [
              0.2222222222222222,
              "#7201a8"
             ],
             [
              0.3333333333333333,
              "#9c179e"
             ],
             [
              0.4444444444444444,
              "#bd3786"
             ],
             [
              0.5555555555555556,
              "#d8576b"
             ],
             [
              0.6666666666666666,
              "#ed7953"
             ],
             [
              0.7777777777777778,
              "#fb9f3a"
             ],
             [
              0.8888888888888888,
              "#fdca26"
             ],
             [
              1.0,
              "#f0f921"
             ]
            ]
           }
          ],
          "choropleth": [
           {
            "type": "choropleth",
            "colorbar": {
             "outlinewidth": 0,
             "ticks": ""
            }
           }
          ],
          "histogram2d": [
           {
            "type": "histogram2d",
            "colorbar": {
             "outlinewidth": 0,
             "ticks": ""
            },
            "colorscale": [
             [
              0.0,
              "#0d0887"
             ],
             [
              0.1111111111111111,
              "#46039f"
             ],
             [
              0.2222222222222222,
              "#7201a8"
             ],
             [
              0.3333333333333333,
              "#9c179e"
             ],
             [
              0.4444444444444444,
              "#bd3786"
             ],
             [
              0.5555555555555556,
              "#d8576b"
             ],
             [
              0.6666666666666666,
              "#ed7953"
             ],
             [
              0.7777777777777778,
              "#fb9f3a"
             ],
             [
              0.8888888888888888,
              "#fdca26"
             ],
             [
              1.0,
              "#f0f921"
             ]
            ]
           }
          ],
          "heatmap": [
           {
            "type": "heatmap",
            "colorbar": {
             "outlinewidth": 0,
             "ticks": ""
            },
            "colorscale": [
             [
              0.0,
              "#0d0887"
             ],
             [
              0.1111111111111111,
              "#46039f"
             ],
             [
              0.2222222222222222,
              "#7201a8"
             ],
             [
              0.3333333333333333,
              "#9c179e"
             ],
             [
              0.4444444444444444,
              "#bd3786"
             ],
             [
              0.5555555555555556,
              "#d8576b"
             ],
             [
              0.6666666666666666,
              "#ed7953"
             ],
             [
              0.7777777777777778,
              "#fb9f3a"
             ],
             [
              0.8888888888888888,
              "#fdca26"
             ],
             [
              1.0,
              "#f0f921"
             ]
            ]
           }
          ],
          "heatmapgl": [
           {
            "type": "heatmapgl",
            "colorbar": {
             "outlinewidth": 0,
             "ticks": ""
            },
            "colorscale": [
             [
              0.0,
              "#0d0887"
             ],
             [
              0.1111111111111111,
              "#46039f"
             ],
             [
              0.2222222222222222,
              "#7201a8"
             ],
             [
              0.3333333333333333,
              "#9c179e"
             ],
             [
              0.4444444444444444,
              "#bd3786"
             ],
             [
              0.5555555555555556,
              "#d8576b"
             ],
             [
              0.6666666666666666,
              "#ed7953"
             ],
             [
              0.7777777777777778,
              "#fb9f3a"
             ],
             [
              0.8888888888888888,
              "#fdca26"
             ],
             [
              1.0,
              "#f0f921"
             ]
            ]
           }
          ],
          "contourcarpet": [
           {
            "type": "contourcarpet",
            "colorbar": {
             "outlinewidth": 0,
             "ticks": ""
            }
           }
          ],
          "contour": [
           {
            "type": "contour",
            "colorbar": {
             "outlinewidth": 0,
             "ticks": ""
            },
            "colorscale": [
             [
              0.0,
              "#0d0887"
             ],
             [
              0.1111111111111111,
              "#46039f"
             ],
             [
              0.2222222222222222,
              "#7201a8"
             ],
             [
              0.3333333333333333,
              "#9c179e"
             ],
             [
              0.4444444444444444,
              "#bd3786"
             ],
             [
              0.5555555555555556,
              "#d8576b"
             ],
             [
              0.6666666666666666,
              "#ed7953"
             ],
             [
              0.7777777777777778,
              "#fb9f3a"
             ],
             [
              0.8888888888888888,
              "#fdca26"
             ],
             [
              1.0,
              "#f0f921"
             ]
            ]
           }
          ],
          "surface": [
           {
            "type": "surface",
            "colorbar": {
             "outlinewidth": 0,
             "ticks": ""
            },
            "colorscale": [
             [
              0.0,
              "#0d0887"
             ],
             [
              0.1111111111111111,
              "#46039f"
             ],
             [
              0.2222222222222222,
              "#7201a8"
             ],
             [
              0.3333333333333333,
              "#9c179e"
             ],
             [
              0.4444444444444444,
              "#bd3786"
             ],
             [
              0.5555555555555556,
              "#d8576b"
             ],
             [
              0.6666666666666666,
              "#ed7953"
             ],
             [
              0.7777777777777778,
              "#fb9f3a"
             ],
             [
              0.8888888888888888,
              "#fdca26"
             ],
             [
              1.0,
              "#f0f921"
             ]
            ]
           }
          ],
          "mesh3d": [
           {
            "type": "mesh3d",
            "colorbar": {
             "outlinewidth": 0,
             "ticks": ""
            }
           }
          ],
          "scatter": [
           {
            "fillpattern": {
             "fillmode": "overlay",
             "size": 10,
             "solidity": 0.2
            },
            "type": "scatter"
           }
          ],
          "parcoords": [
           {
            "type": "parcoords",
            "line": {
             "colorbar": {
              "outlinewidth": 0,
              "ticks": ""
             }
            }
           }
          ],
          "scatterpolargl": [
           {
            "type": "scatterpolargl",
            "marker": {
             "colorbar": {
              "outlinewidth": 0,
              "ticks": ""
             }
            }
           }
          ],
          "bar": [
           {
            "error_x": {
             "color": "#2a3f5f"
            },
            "error_y": {
             "color": "#2a3f5f"
            },
            "marker": {
             "line": {
              "color": "#E5ECF6",
              "width": 0.5
             },
             "pattern": {
              "fillmode": "overlay",
              "size": 10,
              "solidity": 0.2
             }
            },
            "type": "bar"
           }
          ],
          "scattergeo": [
           {
            "type": "scattergeo",
            "marker": {
             "colorbar": {
              "outlinewidth": 0,
              "ticks": ""
             }
            }
           }
          ],
          "scatterpolar": [
           {
            "type": "scatterpolar",
            "marker": {
             "colorbar": {
              "outlinewidth": 0,
              "ticks": ""
             }
            }
           }
          ],
          "histogram": [
           {
            "marker": {
             "pattern": {
              "fillmode": "overlay",
              "size": 10,
              "solidity": 0.2
             }
            },
            "type": "histogram"
           }
          ],
          "scattergl": [
           {
            "type": "scattergl",
            "marker": {
             "colorbar": {
              "outlinewidth": 0,
              "ticks": ""
             }
            }
           }
          ],
          "scatter3d": [
           {
            "type": "scatter3d",
            "line": {
             "colorbar": {
              "outlinewidth": 0,
              "ticks": ""
             }
            },
            "marker": {
             "colorbar": {
              "outlinewidth": 0,
              "ticks": ""
             }
            }
           }
          ],
          "scattermapbox": [
           {
            "type": "scattermapbox",
            "marker": {
             "colorbar": {
              "outlinewidth": 0,
              "ticks": ""
             }
            }
           }
          ],
          "scatterternary": [
           {
            "type": "scatterternary",
            "marker": {
             "colorbar": {
              "outlinewidth": 0,
              "ticks": ""
             }
            }
           }
          ],
          "scattercarpet": [
           {
            "type": "scattercarpet",
            "marker": {
             "colorbar": {
              "outlinewidth": 0,
              "ticks": ""
             }
            }
           }
          ],
          "carpet": [
           {
            "aaxis": {
             "endlinecolor": "#2a3f5f",
             "gridcolor": "white",
             "linecolor": "white",
             "minorgridcolor": "white",
             "startlinecolor": "#2a3f5f"
            },
            "baxis": {
             "endlinecolor": "#2a3f5f",
             "gridcolor": "white",
             "linecolor": "white",
             "minorgridcolor": "white",
             "startlinecolor": "#2a3f5f"
            },
            "type": "carpet"
           }
          ],
          "table": [
           {
            "cells": {
             "fill": {
              "color": "#EBF0F8"
             },
             "line": {
              "color": "white"
             }
            },
            "header": {
             "fill": {
              "color": "#C8D4E3"
             },
             "line": {
              "color": "white"
             }
            },
            "type": "table"
           }
          ],
          "barpolar": [
           {
            "marker": {
             "line": {
              "color": "#E5ECF6",
              "width": 0.5
             },
             "pattern": {
              "fillmode": "overlay",
              "size": 10,
              "solidity": 0.2
             }
            },
            "type": "barpolar"
           }
          ],
          "pie": [
           {
            "automargin": true,
            "type": "pie"
           }
          ]
         },
         "layout": {
          "autotypenumbers": "strict",
          "colorway": [
           "#636efa",
           "#EF553B",
           "#00cc96",
           "#ab63fa",
           "#FFA15A",
           "#19d3f3",
           "#FF6692",
           "#B6E880",
           "#FF97FF",
           "#FECB52"
          ],
          "font": {
           "color": "#2a3f5f"
          },
          "hovermode": "closest",
          "hoverlabel": {
           "align": "left"
          },
          "paper_bgcolor": "white",
          "plot_bgcolor": "#E5ECF6",
          "polar": {
           "bgcolor": "#E5ECF6",
           "angularaxis": {
            "gridcolor": "white",
            "linecolor": "white",
            "ticks": ""
           },
           "radialaxis": {
            "gridcolor": "white",
            "linecolor": "white",
            "ticks": ""
           }
          },
          "ternary": {
           "bgcolor": "#E5ECF6",
           "aaxis": {
            "gridcolor": "white",
            "linecolor": "white",
            "ticks": ""
           },
           "baxis": {
            "gridcolor": "white",
            "linecolor": "white",
            "ticks": ""
           },
           "caxis": {
            "gridcolor": "white",
            "linecolor": "white",
            "ticks": ""
           }
          },
          "coloraxis": {
           "colorbar": {
            "outlinewidth": 0,
            "ticks": ""
           }
          },
          "colorscale": {
           "sequential": [
            [
             0.0,
             "#0d0887"
            ],
            [
             0.1111111111111111,
             "#46039f"
            ],
            [
             0.2222222222222222,
             "#7201a8"
            ],
            [
             0.3333333333333333,
             "#9c179e"
            ],
            [
             0.4444444444444444,
             "#bd3786"
            ],
            [
             0.5555555555555556,
             "#d8576b"
            ],
            [
             0.6666666666666666,
             "#ed7953"
            ],
            [
             0.7777777777777778,
             "#fb9f3a"
            ],
            [
             0.8888888888888888,
             "#fdca26"
            ],
            [
             1.0,
             "#f0f921"
            ]
           ],
           "sequentialminus": [
            [
             0.0,
             "#0d0887"
            ],
            [
             0.1111111111111111,
             "#46039f"
            ],
            [
             0.2222222222222222,
             "#7201a8"
            ],
            [
             0.3333333333333333,
             "#9c179e"
            ],
            [
             0.4444444444444444,
             "#bd3786"
            ],
            [
             0.5555555555555556,
             "#d8576b"
            ],
            [
             0.6666666666666666,
             "#ed7953"
            ],
            [
             0.7777777777777778,
             "#fb9f3a"
            ],
            [
             0.8888888888888888,
             "#fdca26"
            ],
            [
             1.0,
             "#f0f921"
            ]
           ],
           "diverging": [
            [
             0,
             "#8e0152"
            ],
            [
             0.1,
             "#c51b7d"
            ],
            [
             0.2,
             "#de77ae"
            ],
            [
             0.3,
             "#f1b6da"
            ],
            [
             0.4,
             "#fde0ef"
            ],
            [
             0.5,
             "#f7f7f7"
            ],
            [
             0.6,
             "#e6f5d0"
            ],
            [
             0.7,
             "#b8e186"
            ],
            [
             0.8,
             "#7fbc41"
            ],
            [
             0.9,
             "#4d9221"
            ],
            [
             1,
             "#276419"
            ]
           ]
          },
          "xaxis": {
           "gridcolor": "white",
           "linecolor": "white",
           "ticks": "",
           "title": {
            "standoff": 15
           },
           "zerolinecolor": "white",
           "automargin": true,
           "zerolinewidth": 2
          },
          "yaxis": {
           "gridcolor": "white",
           "linecolor": "white",
           "ticks": "",
           "title": {
            "standoff": 15
           },
           "zerolinecolor": "white",
           "automargin": true,
           "zerolinewidth": 2
          },
          "scene": {
           "xaxis": {
            "backgroundcolor": "#E5ECF6",
            "gridcolor": "white",
            "linecolor": "white",
            "showbackground": true,
            "ticks": "",
            "zerolinecolor": "white",
            "gridwidth": 2
           },
           "yaxis": {
            "backgroundcolor": "#E5ECF6",
            "gridcolor": "white",
            "linecolor": "white",
            "showbackground": true,
            "ticks": "",
            "zerolinecolor": "white",
            "gridwidth": 2
           },
           "zaxis": {
            "backgroundcolor": "#E5ECF6",
            "gridcolor": "white",
            "linecolor": "white",
            "showbackground": true,
            "ticks": "",
            "zerolinecolor": "white",
            "gridwidth": 2
           }
          },
          "shapedefaults": {
           "line": {
            "color": "#2a3f5f"
           }
          },
          "annotationdefaults": {
           "arrowcolor": "#2a3f5f",
           "arrowhead": 0,
           "arrowwidth": 1
          },
          "geo": {
           "bgcolor": "white",
           "landcolor": "#E5ECF6",
           "subunitcolor": "white",
           "showland": true,
           "showlakes": true,
           "lakecolor": "white"
          },
          "title": {
           "x": 0.05
          },
          "mapbox": {
           "style": "light"
          }
         }
        },
        "xaxis": {
         "anchor": "y",
         "domain": [
          0.0,
          1.0
         ],
         "title": {
          "text": "Model"
         },
         "categoryorder": "array",
         "categoryarray": [
          "F1 Bloomz-560M",
          "F1 Bloomz-1b1",
          "F1 Bloomz-1b7",
          "F1 Bloomz-3b",
          "F1 Bloomz-7b1"
         ]
        },
        "yaxis": {
         "anchor": "x",
         "domain": [
          0.0,
          1.0
         ],
         "title": {
          "text": "F1 Score"
         }
        },
        "legend": {
         "title": {
          "text": "Model"
         },
         "tracegroupgap": 0
        },
        "title": {
         "text": "Box Plot for F1 Scores by Model (Resource Level = 1, Only Bloomz = True, Only Bloom = False)"
        },
        "boxmode": "overlay"
       },
       "config": {
        "plotlyServerURL": "https://plot.ly"
       }
      }
     },
     "metadata": {},
     "output_type": "display_data"
    },
    {
     "data": {
      "application/vnd.plotly.v1+json": {
       "data": [],
       "layout": {
        "template": {
         "data": {
          "histogram2dcontour": [
           {
            "type": "histogram2dcontour",
            "colorbar": {
             "outlinewidth": 0,
             "ticks": ""
            },
            "colorscale": [
             [
              0.0,
              "#0d0887"
             ],
             [
              0.1111111111111111,
              "#46039f"
             ],
             [
              0.2222222222222222,
              "#7201a8"
             ],
             [
              0.3333333333333333,
              "#9c179e"
             ],
             [
              0.4444444444444444,
              "#bd3786"
             ],
             [
              0.5555555555555556,
              "#d8576b"
             ],
             [
              0.6666666666666666,
              "#ed7953"
             ],
             [
              0.7777777777777778,
              "#fb9f3a"
             ],
             [
              0.8888888888888888,
              "#fdca26"
             ],
             [
              1.0,
              "#f0f921"
             ]
            ]
           }
          ],
          "choropleth": [
           {
            "type": "choropleth",
            "colorbar": {
             "outlinewidth": 0,
             "ticks": ""
            }
           }
          ],
          "histogram2d": [
           {
            "type": "histogram2d",
            "colorbar": {
             "outlinewidth": 0,
             "ticks": ""
            },
            "colorscale": [
             [
              0.0,
              "#0d0887"
             ],
             [
              0.1111111111111111,
              "#46039f"
             ],
             [
              0.2222222222222222,
              "#7201a8"
             ],
             [
              0.3333333333333333,
              "#9c179e"
             ],
             [
              0.4444444444444444,
              "#bd3786"
             ],
             [
              0.5555555555555556,
              "#d8576b"
             ],
             [
              0.6666666666666666,
              "#ed7953"
             ],
             [
              0.7777777777777778,
              "#fb9f3a"
             ],
             [
              0.8888888888888888,
              "#fdca26"
             ],
             [
              1.0,
              "#f0f921"
             ]
            ]
           }
          ],
          "heatmap": [
           {
            "type": "heatmap",
            "colorbar": {
             "outlinewidth": 0,
             "ticks": ""
            },
            "colorscale": [
             [
              0.0,
              "#0d0887"
             ],
             [
              0.1111111111111111,
              "#46039f"
             ],
             [
              0.2222222222222222,
              "#7201a8"
             ],
             [
              0.3333333333333333,
              "#9c179e"
             ],
             [
              0.4444444444444444,
              "#bd3786"
             ],
             [
              0.5555555555555556,
              "#d8576b"
             ],
             [
              0.6666666666666666,
              "#ed7953"
             ],
             [
              0.7777777777777778,
              "#fb9f3a"
             ],
             [
              0.8888888888888888,
              "#fdca26"
             ],
             [
              1.0,
              "#f0f921"
             ]
            ]
           }
          ],
          "heatmapgl": [
           {
            "type": "heatmapgl",
            "colorbar": {
             "outlinewidth": 0,
             "ticks": ""
            },
            "colorscale": [
             [
              0.0,
              "#0d0887"
             ],
             [
              0.1111111111111111,
              "#46039f"
             ],
             [
              0.2222222222222222,
              "#7201a8"
             ],
             [
              0.3333333333333333,
              "#9c179e"
             ],
             [
              0.4444444444444444,
              "#bd3786"
             ],
             [
              0.5555555555555556,
              "#d8576b"
             ],
             [
              0.6666666666666666,
              "#ed7953"
             ],
             [
              0.7777777777777778,
              "#fb9f3a"
             ],
             [
              0.8888888888888888,
              "#fdca26"
             ],
             [
              1.0,
              "#f0f921"
             ]
            ]
           }
          ],
          "contourcarpet": [
           {
            "type": "contourcarpet",
            "colorbar": {
             "outlinewidth": 0,
             "ticks": ""
            }
           }
          ],
          "contour": [
           {
            "type": "contour",
            "colorbar": {
             "outlinewidth": 0,
             "ticks": ""
            },
            "colorscale": [
             [
              0.0,
              "#0d0887"
             ],
             [
              0.1111111111111111,
              "#46039f"
             ],
             [
              0.2222222222222222,
              "#7201a8"
             ],
             [
              0.3333333333333333,
              "#9c179e"
             ],
             [
              0.4444444444444444,
              "#bd3786"
             ],
             [
              0.5555555555555556,
              "#d8576b"
             ],
             [
              0.6666666666666666,
              "#ed7953"
             ],
             [
              0.7777777777777778,
              "#fb9f3a"
             ],
             [
              0.8888888888888888,
              "#fdca26"
             ],
             [
              1.0,
              "#f0f921"
             ]
            ]
           }
          ],
          "surface": [
           {
            "type": "surface",
            "colorbar": {
             "outlinewidth": 0,
             "ticks": ""
            },
            "colorscale": [
             [
              0.0,
              "#0d0887"
             ],
             [
              0.1111111111111111,
              "#46039f"
             ],
             [
              0.2222222222222222,
              "#7201a8"
             ],
             [
              0.3333333333333333,
              "#9c179e"
             ],
             [
              0.4444444444444444,
              "#bd3786"
             ],
             [
              0.5555555555555556,
              "#d8576b"
             ],
             [
              0.6666666666666666,
              "#ed7953"
             ],
             [
              0.7777777777777778,
              "#fb9f3a"
             ],
             [
              0.8888888888888888,
              "#fdca26"
             ],
             [
              1.0,
              "#f0f921"
             ]
            ]
           }
          ],
          "mesh3d": [
           {
            "type": "mesh3d",
            "colorbar": {
             "outlinewidth": 0,
             "ticks": ""
            }
           }
          ],
          "scatter": [
           {
            "fillpattern": {
             "fillmode": "overlay",
             "size": 10,
             "solidity": 0.2
            },
            "type": "scatter"
           }
          ],
          "parcoords": [
           {
            "type": "parcoords",
            "line": {
             "colorbar": {
              "outlinewidth": 0,
              "ticks": ""
             }
            }
           }
          ],
          "scatterpolargl": [
           {
            "type": "scatterpolargl",
            "marker": {
             "colorbar": {
              "outlinewidth": 0,
              "ticks": ""
             }
            }
           }
          ],
          "bar": [
           {
            "error_x": {
             "color": "#2a3f5f"
            },
            "error_y": {
             "color": "#2a3f5f"
            },
            "marker": {
             "line": {
              "color": "#E5ECF6",
              "width": 0.5
             },
             "pattern": {
              "fillmode": "overlay",
              "size": 10,
              "solidity": 0.2
             }
            },
            "type": "bar"
           }
          ],
          "scattergeo": [
           {
            "type": "scattergeo",
            "marker": {
             "colorbar": {
              "outlinewidth": 0,
              "ticks": ""
             }
            }
           }
          ],
          "scatterpolar": [
           {
            "type": "scatterpolar",
            "marker": {
             "colorbar": {
              "outlinewidth": 0,
              "ticks": ""
             }
            }
           }
          ],
          "histogram": [
           {
            "marker": {
             "pattern": {
              "fillmode": "overlay",
              "size": 10,
              "solidity": 0.2
             }
            },
            "type": "histogram"
           }
          ],
          "scattergl": [
           {
            "type": "scattergl",
            "marker": {
             "colorbar": {
              "outlinewidth": 0,
              "ticks": ""
             }
            }
           }
          ],
          "scatter3d": [
           {
            "type": "scatter3d",
            "line": {
             "colorbar": {
              "outlinewidth": 0,
              "ticks": ""
             }
            },
            "marker": {
             "colorbar": {
              "outlinewidth": 0,
              "ticks": ""
             }
            }
           }
          ],
          "scattermapbox": [
           {
            "type": "scattermapbox",
            "marker": {
             "colorbar": {
              "outlinewidth": 0,
              "ticks": ""
             }
            }
           }
          ],
          "scatterternary": [
           {
            "type": "scatterternary",
            "marker": {
             "colorbar": {
              "outlinewidth": 0,
              "ticks": ""
             }
            }
           }
          ],
          "scattercarpet": [
           {
            "type": "scattercarpet",
            "marker": {
             "colorbar": {
              "outlinewidth": 0,
              "ticks": ""
             }
            }
           }
          ],
          "carpet": [
           {
            "aaxis": {
             "endlinecolor": "#2a3f5f",
             "gridcolor": "white",
             "linecolor": "white",
             "minorgridcolor": "white",
             "startlinecolor": "#2a3f5f"
            },
            "baxis": {
             "endlinecolor": "#2a3f5f",
             "gridcolor": "white",
             "linecolor": "white",
             "minorgridcolor": "white",
             "startlinecolor": "#2a3f5f"
            },
            "type": "carpet"
           }
          ],
          "table": [
           {
            "cells": {
             "fill": {
              "color": "#EBF0F8"
             },
             "line": {
              "color": "white"
             }
            },
            "header": {
             "fill": {
              "color": "#C8D4E3"
             },
             "line": {
              "color": "white"
             }
            },
            "type": "table"
           }
          ],
          "barpolar": [
           {
            "marker": {
             "line": {
              "color": "#E5ECF6",
              "width": 0.5
             },
             "pattern": {
              "fillmode": "overlay",
              "size": 10,
              "solidity": 0.2
             }
            },
            "type": "barpolar"
           }
          ],
          "pie": [
           {
            "automargin": true,
            "type": "pie"
           }
          ]
         },
         "layout": {
          "autotypenumbers": "strict",
          "colorway": [
           "#636efa",
           "#EF553B",
           "#00cc96",
           "#ab63fa",
           "#FFA15A",
           "#19d3f3",
           "#FF6692",
           "#B6E880",
           "#FF97FF",
           "#FECB52"
          ],
          "font": {
           "color": "#2a3f5f"
          },
          "hovermode": "closest",
          "hoverlabel": {
           "align": "left"
          },
          "paper_bgcolor": "white",
          "plot_bgcolor": "#E5ECF6",
          "polar": {
           "bgcolor": "#E5ECF6",
           "angularaxis": {
            "gridcolor": "white",
            "linecolor": "white",
            "ticks": ""
           },
           "radialaxis": {
            "gridcolor": "white",
            "linecolor": "white",
            "ticks": ""
           }
          },
          "ternary": {
           "bgcolor": "#E5ECF6",
           "aaxis": {
            "gridcolor": "white",
            "linecolor": "white",
            "ticks": ""
           },
           "baxis": {
            "gridcolor": "white",
            "linecolor": "white",
            "ticks": ""
           },
           "caxis": {
            "gridcolor": "white",
            "linecolor": "white",
            "ticks": ""
           }
          },
          "coloraxis": {
           "colorbar": {
            "outlinewidth": 0,
            "ticks": ""
           }
          },
          "colorscale": {
           "sequential": [
            [
             0.0,
             "#0d0887"
            ],
            [
             0.1111111111111111,
             "#46039f"
            ],
            [
             0.2222222222222222,
             "#7201a8"
            ],
            [
             0.3333333333333333,
             "#9c179e"
            ],
            [
             0.4444444444444444,
             "#bd3786"
            ],
            [
             0.5555555555555556,
             "#d8576b"
            ],
            [
             0.6666666666666666,
             "#ed7953"
            ],
            [
             0.7777777777777778,
             "#fb9f3a"
            ],
            [
             0.8888888888888888,
             "#fdca26"
            ],
            [
             1.0,
             "#f0f921"
            ]
           ],
           "sequentialminus": [
            [
             0.0,
             "#0d0887"
            ],
            [
             0.1111111111111111,
             "#46039f"
            ],
            [
             0.2222222222222222,
             "#7201a8"
            ],
            [
             0.3333333333333333,
             "#9c179e"
            ],
            [
             0.4444444444444444,
             "#bd3786"
            ],
            [
             0.5555555555555556,
             "#d8576b"
            ],
            [
             0.6666666666666666,
             "#ed7953"
            ],
            [
             0.7777777777777778,
             "#fb9f3a"
            ],
            [
             0.8888888888888888,
             "#fdca26"
            ],
            [
             1.0,
             "#f0f921"
            ]
           ],
           "diverging": [
            [
             0,
             "#8e0152"
            ],
            [
             0.1,
             "#c51b7d"
            ],
            [
             0.2,
             "#de77ae"
            ],
            [
             0.3,
             "#f1b6da"
            ],
            [
             0.4,
             "#fde0ef"
            ],
            [
             0.5,
             "#f7f7f7"
            ],
            [
             0.6,
             "#e6f5d0"
            ],
            [
             0.7,
             "#b8e186"
            ],
            [
             0.8,
             "#7fbc41"
            ],
            [
             0.9,
             "#4d9221"
            ],
            [
             1,
             "#276419"
            ]
           ]
          },
          "xaxis": {
           "gridcolor": "white",
           "linecolor": "white",
           "ticks": "",
           "title": {
            "standoff": 15
           },
           "zerolinecolor": "white",
           "automargin": true,
           "zerolinewidth": 2
          },
          "yaxis": {
           "gridcolor": "white",
           "linecolor": "white",
           "ticks": "",
           "title": {
            "standoff": 15
           },
           "zerolinecolor": "white",
           "automargin": true,
           "zerolinewidth": 2
          },
          "scene": {
           "xaxis": {
            "backgroundcolor": "#E5ECF6",
            "gridcolor": "white",
            "linecolor": "white",
            "showbackground": true,
            "ticks": "",
            "zerolinecolor": "white",
            "gridwidth": 2
           },
           "yaxis": {
            "backgroundcolor": "#E5ECF6",
            "gridcolor": "white",
            "linecolor": "white",
            "showbackground": true,
            "ticks": "",
            "zerolinecolor": "white",
            "gridwidth": 2
           },
           "zaxis": {
            "backgroundcolor": "#E5ECF6",
            "gridcolor": "white",
            "linecolor": "white",
            "showbackground": true,
            "ticks": "",
            "zerolinecolor": "white",
            "gridwidth": 2
           }
          },
          "shapedefaults": {
           "line": {
            "color": "#2a3f5f"
           }
          },
          "annotationdefaults": {
           "arrowcolor": "#2a3f5f",
           "arrowhead": 0,
           "arrowwidth": 1
          },
          "geo": {
           "bgcolor": "white",
           "landcolor": "#E5ECF6",
           "subunitcolor": "white",
           "showland": true,
           "showlakes": true,
           "lakecolor": "white"
          },
          "title": {
           "x": 0.05
          },
          "mapbox": {
           "style": "light"
          }
         }
        },
        "xaxis": {
         "anchor": "y",
         "domain": [
          0.0,
          1.0
         ],
         "title": {
          "text": "Model"
         },
         "categoryorder": "array",
         "categoryarray": []
        },
        "yaxis": {
         "anchor": "x",
         "domain": [
          0.0,
          1.0
         ],
         "title": {
          "text": "F1 Score"
         }
        },
        "legend": {
         "tracegroupgap": 0
        },
        "title": {
         "text": "Box Plot for F1 Scores by Model (Resource Level = None, Only Bloomz = True, Only Bloom = False)"
        },
        "boxmode": "overlay"
       },
       "config": {
        "plotlyServerURL": "https://plot.ly"
       }
      }
     },
     "metadata": {},
     "output_type": "display_data"
    },
    {
     "data": {
      "application/vnd.plotly.v1+json": {
       "data": [
        {
         "alignmentgroup": "True",
         "hovertemplate": "Model=%{x}<br>F1 Score=%{y}<extra></extra>",
         "legendgroup": "F1 Bloomz-560M",
         "marker": {
          "color": "#636efa"
         },
         "name": "F1 Bloomz-560M",
         "notched": false,
         "offsetgroup": "F1 Bloomz-560M",
         "orientation": "v",
         "showlegend": true,
         "x": [
          "F1 Bloomz-560M",
          "F1 Bloomz-560M",
          "F1 Bloomz-560M",
          "F1 Bloomz-560M"
         ],
         "x0": " ",
         "xaxis": "x",
         "y": [
          0.4507358407690966,
          0.4582668860944492,
          0.3827682151981046,
          0.4011727243497276
         ],
         "y0": " ",
         "yaxis": "y",
         "type": "box"
        },
        {
         "alignmentgroup": "True",
         "hovertemplate": "Model=%{x}<br>F1 Score=%{y}<extra></extra>",
         "legendgroup": "F1 Bloomz-1b1",
         "marker": {
          "color": "#EF553B"
         },
         "name": "F1 Bloomz-1b1",
         "notched": false,
         "offsetgroup": "F1 Bloomz-1b1",
         "orientation": "v",
         "showlegend": true,
         "x": [
          "F1 Bloomz-1b1",
          "F1 Bloomz-1b1",
          "F1 Bloomz-1b1",
          "F1 Bloomz-1b1"
         ],
         "x0": " ",
         "xaxis": "x",
         "y": [
          0.349086411095527,
          0.319229099120519,
          0.36600491796144,
          0.315411921347486
         ],
         "y0": " ",
         "yaxis": "y",
         "type": "box"
        },
        {
         "alignmentgroup": "True",
         "hovertemplate": "Model=%{x}<br>F1 Score=%{y}<extra></extra>",
         "legendgroup": "F1 Bloomz-1b7",
         "marker": {
          "color": "#00cc96"
         },
         "name": "F1 Bloomz-1b7",
         "notched": false,
         "offsetgroup": "F1 Bloomz-1b7",
         "orientation": "v",
         "showlegend": true,
         "x": [
          "F1 Bloomz-1b7",
          "F1 Bloomz-1b7",
          "F1 Bloomz-1b7",
          "F1 Bloomz-1b7"
         ],
         "x0": " ",
         "xaxis": "x",
         "y": [
          0.39227966043185,
          0.346982748276964,
          0.319160849865503,
          0.380419090713208
         ],
         "y0": " ",
         "yaxis": "y",
         "type": "box"
        },
        {
         "alignmentgroup": "True",
         "hovertemplate": "Model=%{x}<br>F1 Score=%{y}<extra></extra>",
         "legendgroup": "F1 Bloomz-3b",
         "marker": {
          "color": "#ab63fa"
         },
         "name": "F1 Bloomz-3b",
         "notched": false,
         "offsetgroup": "F1 Bloomz-3b",
         "orientation": "v",
         "showlegend": true,
         "x": [
          "F1 Bloomz-3b",
          "F1 Bloomz-3b",
          "F1 Bloomz-3b",
          "F1 Bloomz-3b"
         ],
         "x0": " ",
         "xaxis": "x",
         "y": [
          0.467022728128972,
          0.491369822450511,
          0.452307605253105,
          0.456542896318381
         ],
         "y0": " ",
         "yaxis": "y",
         "type": "box"
        },
        {
         "alignmentgroup": "True",
         "hovertemplate": "Model=%{x}<br>F1 Score=%{y}<extra></extra>",
         "legendgroup": "F1 Bloomz-7b1",
         "marker": {
          "color": "#FFA15A"
         },
         "name": "F1 Bloomz-7b1",
         "notched": false,
         "offsetgroup": "F1 Bloomz-7b1",
         "orientation": "v",
         "showlegend": true,
         "x": [
          "F1 Bloomz-7b1",
          "F1 Bloomz-7b1",
          "F1 Bloomz-7b1",
          "F1 Bloomz-7b1"
         ],
         "x0": " ",
         "xaxis": "x",
         "y": [
          0.5242,
          0.5199,
          0.5082,
          0.5083
         ],
         "y0": " ",
         "yaxis": "y",
         "type": "box"
        }
       ],
       "layout": {
        "template": {
         "data": {
          "histogram2dcontour": [
           {
            "type": "histogram2dcontour",
            "colorbar": {
             "outlinewidth": 0,
             "ticks": ""
            },
            "colorscale": [
             [
              0.0,
              "#0d0887"
             ],
             [
              0.1111111111111111,
              "#46039f"
             ],
             [
              0.2222222222222222,
              "#7201a8"
             ],
             [
              0.3333333333333333,
              "#9c179e"
             ],
             [
              0.4444444444444444,
              "#bd3786"
             ],
             [
              0.5555555555555556,
              "#d8576b"
             ],
             [
              0.6666666666666666,
              "#ed7953"
             ],
             [
              0.7777777777777778,
              "#fb9f3a"
             ],
             [
              0.8888888888888888,
              "#fdca26"
             ],
             [
              1.0,
              "#f0f921"
             ]
            ]
           }
          ],
          "choropleth": [
           {
            "type": "choropleth",
            "colorbar": {
             "outlinewidth": 0,
             "ticks": ""
            }
           }
          ],
          "histogram2d": [
           {
            "type": "histogram2d",
            "colorbar": {
             "outlinewidth": 0,
             "ticks": ""
            },
            "colorscale": [
             [
              0.0,
              "#0d0887"
             ],
             [
              0.1111111111111111,
              "#46039f"
             ],
             [
              0.2222222222222222,
              "#7201a8"
             ],
             [
              0.3333333333333333,
              "#9c179e"
             ],
             [
              0.4444444444444444,
              "#bd3786"
             ],
             [
              0.5555555555555556,
              "#d8576b"
             ],
             [
              0.6666666666666666,
              "#ed7953"
             ],
             [
              0.7777777777777778,
              "#fb9f3a"
             ],
             [
              0.8888888888888888,
              "#fdca26"
             ],
             [
              1.0,
              "#f0f921"
             ]
            ]
           }
          ],
          "heatmap": [
           {
            "type": "heatmap",
            "colorbar": {
             "outlinewidth": 0,
             "ticks": ""
            },
            "colorscale": [
             [
              0.0,
              "#0d0887"
             ],
             [
              0.1111111111111111,
              "#46039f"
             ],
             [
              0.2222222222222222,
              "#7201a8"
             ],
             [
              0.3333333333333333,
              "#9c179e"
             ],
             [
              0.4444444444444444,
              "#bd3786"
             ],
             [
              0.5555555555555556,
              "#d8576b"
             ],
             [
              0.6666666666666666,
              "#ed7953"
             ],
             [
              0.7777777777777778,
              "#fb9f3a"
             ],
             [
              0.8888888888888888,
              "#fdca26"
             ],
             [
              1.0,
              "#f0f921"
             ]
            ]
           }
          ],
          "heatmapgl": [
           {
            "type": "heatmapgl",
            "colorbar": {
             "outlinewidth": 0,
             "ticks": ""
            },
            "colorscale": [
             [
              0.0,
              "#0d0887"
             ],
             [
              0.1111111111111111,
              "#46039f"
             ],
             [
              0.2222222222222222,
              "#7201a8"
             ],
             [
              0.3333333333333333,
              "#9c179e"
             ],
             [
              0.4444444444444444,
              "#bd3786"
             ],
             [
              0.5555555555555556,
              "#d8576b"
             ],
             [
              0.6666666666666666,
              "#ed7953"
             ],
             [
              0.7777777777777778,
              "#fb9f3a"
             ],
             [
              0.8888888888888888,
              "#fdca26"
             ],
             [
              1.0,
              "#f0f921"
             ]
            ]
           }
          ],
          "contourcarpet": [
           {
            "type": "contourcarpet",
            "colorbar": {
             "outlinewidth": 0,
             "ticks": ""
            }
           }
          ],
          "contour": [
           {
            "type": "contour",
            "colorbar": {
             "outlinewidth": 0,
             "ticks": ""
            },
            "colorscale": [
             [
              0.0,
              "#0d0887"
             ],
             [
              0.1111111111111111,
              "#46039f"
             ],
             [
              0.2222222222222222,
              "#7201a8"
             ],
             [
              0.3333333333333333,
              "#9c179e"
             ],
             [
              0.4444444444444444,
              "#bd3786"
             ],
             [
              0.5555555555555556,
              "#d8576b"
             ],
             [
              0.6666666666666666,
              "#ed7953"
             ],
             [
              0.7777777777777778,
              "#fb9f3a"
             ],
             [
              0.8888888888888888,
              "#fdca26"
             ],
             [
              1.0,
              "#f0f921"
             ]
            ]
           }
          ],
          "surface": [
           {
            "type": "surface",
            "colorbar": {
             "outlinewidth": 0,
             "ticks": ""
            },
            "colorscale": [
             [
              0.0,
              "#0d0887"
             ],
             [
              0.1111111111111111,
              "#46039f"
             ],
             [
              0.2222222222222222,
              "#7201a8"
             ],
             [
              0.3333333333333333,
              "#9c179e"
             ],
             [
              0.4444444444444444,
              "#bd3786"
             ],
             [
              0.5555555555555556,
              "#d8576b"
             ],
             [
              0.6666666666666666,
              "#ed7953"
             ],
             [
              0.7777777777777778,
              "#fb9f3a"
             ],
             [
              0.8888888888888888,
              "#fdca26"
             ],
             [
              1.0,
              "#f0f921"
             ]
            ]
           }
          ],
          "mesh3d": [
           {
            "type": "mesh3d",
            "colorbar": {
             "outlinewidth": 0,
             "ticks": ""
            }
           }
          ],
          "scatter": [
           {
            "fillpattern": {
             "fillmode": "overlay",
             "size": 10,
             "solidity": 0.2
            },
            "type": "scatter"
           }
          ],
          "parcoords": [
           {
            "type": "parcoords",
            "line": {
             "colorbar": {
              "outlinewidth": 0,
              "ticks": ""
             }
            }
           }
          ],
          "scatterpolargl": [
           {
            "type": "scatterpolargl",
            "marker": {
             "colorbar": {
              "outlinewidth": 0,
              "ticks": ""
             }
            }
           }
          ],
          "bar": [
           {
            "error_x": {
             "color": "#2a3f5f"
            },
            "error_y": {
             "color": "#2a3f5f"
            },
            "marker": {
             "line": {
              "color": "#E5ECF6",
              "width": 0.5
             },
             "pattern": {
              "fillmode": "overlay",
              "size": 10,
              "solidity": 0.2
             }
            },
            "type": "bar"
           }
          ],
          "scattergeo": [
           {
            "type": "scattergeo",
            "marker": {
             "colorbar": {
              "outlinewidth": 0,
              "ticks": ""
             }
            }
           }
          ],
          "scatterpolar": [
           {
            "type": "scatterpolar",
            "marker": {
             "colorbar": {
              "outlinewidth": 0,
              "ticks": ""
             }
            }
           }
          ],
          "histogram": [
           {
            "marker": {
             "pattern": {
              "fillmode": "overlay",
              "size": 10,
              "solidity": 0.2
             }
            },
            "type": "histogram"
           }
          ],
          "scattergl": [
           {
            "type": "scattergl",
            "marker": {
             "colorbar": {
              "outlinewidth": 0,
              "ticks": ""
             }
            }
           }
          ],
          "scatter3d": [
           {
            "type": "scatter3d",
            "line": {
             "colorbar": {
              "outlinewidth": 0,
              "ticks": ""
             }
            },
            "marker": {
             "colorbar": {
              "outlinewidth": 0,
              "ticks": ""
             }
            }
           }
          ],
          "scattermapbox": [
           {
            "type": "scattermapbox",
            "marker": {
             "colorbar": {
              "outlinewidth": 0,
              "ticks": ""
             }
            }
           }
          ],
          "scatterternary": [
           {
            "type": "scatterternary",
            "marker": {
             "colorbar": {
              "outlinewidth": 0,
              "ticks": ""
             }
            }
           }
          ],
          "scattercarpet": [
           {
            "type": "scattercarpet",
            "marker": {
             "colorbar": {
              "outlinewidth": 0,
              "ticks": ""
             }
            }
           }
          ],
          "carpet": [
           {
            "aaxis": {
             "endlinecolor": "#2a3f5f",
             "gridcolor": "white",
             "linecolor": "white",
             "minorgridcolor": "white",
             "startlinecolor": "#2a3f5f"
            },
            "baxis": {
             "endlinecolor": "#2a3f5f",
             "gridcolor": "white",
             "linecolor": "white",
             "minorgridcolor": "white",
             "startlinecolor": "#2a3f5f"
            },
            "type": "carpet"
           }
          ],
          "table": [
           {
            "cells": {
             "fill": {
              "color": "#EBF0F8"
             },
             "line": {
              "color": "white"
             }
            },
            "header": {
             "fill": {
              "color": "#C8D4E3"
             },
             "line": {
              "color": "white"
             }
            },
            "type": "table"
           }
          ],
          "barpolar": [
           {
            "marker": {
             "line": {
              "color": "#E5ECF6",
              "width": 0.5
             },
             "pattern": {
              "fillmode": "overlay",
              "size": 10,
              "solidity": 0.2
             }
            },
            "type": "barpolar"
           }
          ],
          "pie": [
           {
            "automargin": true,
            "type": "pie"
           }
          ]
         },
         "layout": {
          "autotypenumbers": "strict",
          "colorway": [
           "#636efa",
           "#EF553B",
           "#00cc96",
           "#ab63fa",
           "#FFA15A",
           "#19d3f3",
           "#FF6692",
           "#B6E880",
           "#FF97FF",
           "#FECB52"
          ],
          "font": {
           "color": "#2a3f5f"
          },
          "hovermode": "closest",
          "hoverlabel": {
           "align": "left"
          },
          "paper_bgcolor": "white",
          "plot_bgcolor": "#E5ECF6",
          "polar": {
           "bgcolor": "#E5ECF6",
           "angularaxis": {
            "gridcolor": "white",
            "linecolor": "white",
            "ticks": ""
           },
           "radialaxis": {
            "gridcolor": "white",
            "linecolor": "white",
            "ticks": ""
           }
          },
          "ternary": {
           "bgcolor": "#E5ECF6",
           "aaxis": {
            "gridcolor": "white",
            "linecolor": "white",
            "ticks": ""
           },
           "baxis": {
            "gridcolor": "white",
            "linecolor": "white",
            "ticks": ""
           },
           "caxis": {
            "gridcolor": "white",
            "linecolor": "white",
            "ticks": ""
           }
          },
          "coloraxis": {
           "colorbar": {
            "outlinewidth": 0,
            "ticks": ""
           }
          },
          "colorscale": {
           "sequential": [
            [
             0.0,
             "#0d0887"
            ],
            [
             0.1111111111111111,
             "#46039f"
            ],
            [
             0.2222222222222222,
             "#7201a8"
            ],
            [
             0.3333333333333333,
             "#9c179e"
            ],
            [
             0.4444444444444444,
             "#bd3786"
            ],
            [
             0.5555555555555556,
             "#d8576b"
            ],
            [
             0.6666666666666666,
             "#ed7953"
            ],
            [
             0.7777777777777778,
             "#fb9f3a"
            ],
            [
             0.8888888888888888,
             "#fdca26"
            ],
            [
             1.0,
             "#f0f921"
            ]
           ],
           "sequentialminus": [
            [
             0.0,
             "#0d0887"
            ],
            [
             0.1111111111111111,
             "#46039f"
            ],
            [
             0.2222222222222222,
             "#7201a8"
            ],
            [
             0.3333333333333333,
             "#9c179e"
            ],
            [
             0.4444444444444444,
             "#bd3786"
            ],
            [
             0.5555555555555556,
             "#d8576b"
            ],
            [
             0.6666666666666666,
             "#ed7953"
            ],
            [
             0.7777777777777778,
             "#fb9f3a"
            ],
            [
             0.8888888888888888,
             "#fdca26"
            ],
            [
             1.0,
             "#f0f921"
            ]
           ],
           "diverging": [
            [
             0,
             "#8e0152"
            ],
            [
             0.1,
             "#c51b7d"
            ],
            [
             0.2,
             "#de77ae"
            ],
            [
             0.3,
             "#f1b6da"
            ],
            [
             0.4,
             "#fde0ef"
            ],
            [
             0.5,
             "#f7f7f7"
            ],
            [
             0.6,
             "#e6f5d0"
            ],
            [
             0.7,
             "#b8e186"
            ],
            [
             0.8,
             "#7fbc41"
            ],
            [
             0.9,
             "#4d9221"
            ],
            [
             1,
             "#276419"
            ]
           ]
          },
          "xaxis": {
           "gridcolor": "white",
           "linecolor": "white",
           "ticks": "",
           "title": {
            "standoff": 15
           },
           "zerolinecolor": "white",
           "automargin": true,
           "zerolinewidth": 2
          },
          "yaxis": {
           "gridcolor": "white",
           "linecolor": "white",
           "ticks": "",
           "title": {
            "standoff": 15
           },
           "zerolinecolor": "white",
           "automargin": true,
           "zerolinewidth": 2
          },
          "scene": {
           "xaxis": {
            "backgroundcolor": "#E5ECF6",
            "gridcolor": "white",
            "linecolor": "white",
            "showbackground": true,
            "ticks": "",
            "zerolinecolor": "white",
            "gridwidth": 2
           },
           "yaxis": {
            "backgroundcolor": "#E5ECF6",
            "gridcolor": "white",
            "linecolor": "white",
            "showbackground": true,
            "ticks": "",
            "zerolinecolor": "white",
            "gridwidth": 2
           },
           "zaxis": {
            "backgroundcolor": "#E5ECF6",
            "gridcolor": "white",
            "linecolor": "white",
            "showbackground": true,
            "ticks": "",
            "zerolinecolor": "white",
            "gridwidth": 2
           }
          },
          "shapedefaults": {
           "line": {
            "color": "#2a3f5f"
           }
          },
          "annotationdefaults": {
           "arrowcolor": "#2a3f5f",
           "arrowhead": 0,
           "arrowwidth": 1
          },
          "geo": {
           "bgcolor": "white",
           "landcolor": "#E5ECF6",
           "subunitcolor": "white",
           "showland": true,
           "showlakes": true,
           "lakecolor": "white"
          },
          "title": {
           "x": 0.05
          },
          "mapbox": {
           "style": "light"
          }
         }
        },
        "xaxis": {
         "anchor": "y",
         "domain": [
          0.0,
          1.0
         ],
         "title": {
          "text": "Model"
         },
         "categoryorder": "array",
         "categoryarray": [
          "F1 Bloomz-560M",
          "F1 Bloomz-1b1",
          "F1 Bloomz-1b7",
          "F1 Bloomz-3b",
          "F1 Bloomz-7b1"
         ]
        },
        "yaxis": {
         "anchor": "x",
         "domain": [
          0.0,
          1.0
         ],
         "title": {
          "text": "F1 Score"
         }
        },
        "legend": {
         "title": {
          "text": "Model"
         },
         "tracegroupgap": 0
        },
        "title": {
         "text": "Box Plot for F1 Scores by Model (Resource Level = 3, Only Bloomz = True, Only Bloom = False)"
        },
        "boxmode": "overlay"
       },
       "config": {
        "plotlyServerURL": "https://plot.ly"
       }
      }
     },
     "metadata": {},
     "output_type": "display_data"
    },
    {
     "data": {
      "application/vnd.plotly.v1+json": {
       "data": [
        {
         "alignmentgroup": "True",
         "hovertemplate": "Model=%{x}<br>F1 Score=%{y}<extra></extra>",
         "legendgroup": "F1 Bloomz-560M",
         "marker": {
          "color": "#636efa"
         },
         "name": "F1 Bloomz-560M",
         "notched": false,
         "offsetgroup": "F1 Bloomz-560M",
         "orientation": "v",
         "showlegend": true,
         "x": [
          "F1 Bloomz-560M",
          "F1 Bloomz-560M",
          "F1 Bloomz-560M",
          "F1 Bloomz-560M",
          "F1 Bloomz-560M",
          "F1 Bloomz-560M",
          "F1 Bloomz-560M",
          "F1 Bloomz-560M"
         ],
         "x0": " ",
         "xaxis": "x",
         "y": [
          0.393811051235561,
          0.3825382022478995,
          0.3162987370080736,
          0.3174907204680559,
          0.3311119964892831,
          0.268159902041481,
          0.2761076876215469,
          0.2479965665267173
         ],
         "y0": " ",
         "yaxis": "y",
         "type": "box"
        },
        {
         "alignmentgroup": "True",
         "hovertemplate": "Model=%{x}<br>F1 Score=%{y}<extra></extra>",
         "legendgroup": "F1 Bloomz-1b1",
         "marker": {
          "color": "#EF553B"
         },
         "name": "F1 Bloomz-1b1",
         "notched": false,
         "offsetgroup": "F1 Bloomz-1b1",
         "orientation": "v",
         "showlegend": true,
         "x": [
          "F1 Bloomz-1b1",
          "F1 Bloomz-1b1",
          "F1 Bloomz-1b1",
          "F1 Bloomz-1b1",
          "F1 Bloomz-1b1",
          "F1 Bloomz-1b1",
          "F1 Bloomz-1b1",
          "F1 Bloomz-1b1"
         ],
         "x0": " ",
         "xaxis": "x",
         "y": [
          0.313640603119081,
          0.405056186085504,
          0.265911335144842,
          0.205839778833908,
          0.282852282852283,
          0.199719818896773,
          0.171600761516728,
          0.16139013108183
         ],
         "y0": " ",
         "yaxis": "y",
         "type": "box"
        },
        {
         "alignmentgroup": "True",
         "hovertemplate": "Model=%{x}<br>F1 Score=%{y}<extra></extra>",
         "legendgroup": "F1 Bloomz-1b7",
         "marker": {
          "color": "#00cc96"
         },
         "name": "F1 Bloomz-1b7",
         "notched": false,
         "offsetgroup": "F1 Bloomz-1b7",
         "orientation": "v",
         "showlegend": true,
         "x": [
          "F1 Bloomz-1b7",
          "F1 Bloomz-1b7",
          "F1 Bloomz-1b7",
          "F1 Bloomz-1b7",
          "F1 Bloomz-1b7",
          "F1 Bloomz-1b7",
          "F1 Bloomz-1b7",
          "F1 Bloomz-1b7"
         ],
         "x0": " ",
         "xaxis": "x",
         "y": [
          0.331276792519011,
          0.373045871354006,
          0.263733001141908,
          0.241053433973059,
          0.25330357056325,
          0.227492535854429,
          0.240244675866295,
          0.244301465925196
         ],
         "y0": " ",
         "yaxis": "y",
         "type": "box"
        },
        {
         "alignmentgroup": "True",
         "hovertemplate": "Model=%{x}<br>F1 Score=%{y}<extra></extra>",
         "legendgroup": "F1 Bloomz-3b",
         "marker": {
          "color": "#ab63fa"
         },
         "name": "F1 Bloomz-3b",
         "notched": false,
         "offsetgroup": "F1 Bloomz-3b",
         "orientation": "v",
         "showlegend": true,
         "x": [
          "F1 Bloomz-3b",
          "F1 Bloomz-3b",
          "F1 Bloomz-3b",
          "F1 Bloomz-3b",
          "F1 Bloomz-3b",
          "F1 Bloomz-3b",
          "F1 Bloomz-3b",
          "F1 Bloomz-3b"
         ],
         "x0": " ",
         "xaxis": "x",
         "y": [
          0.480698651719545,
          0.490123254185489,
          0.43096663836203,
          0.359589284504884,
          0.358700852312834,
          0.329349844118726,
          0.368853184304338,
          0.345928047108171
         ],
         "y0": " ",
         "yaxis": "y",
         "type": "box"
        },
        {
         "alignmentgroup": "True",
         "hovertemplate": "Model=%{x}<br>F1 Score=%{y}<extra></extra>",
         "legendgroup": "F1 Bloomz-7b1",
         "marker": {
          "color": "#FFA15A"
         },
         "name": "F1 Bloomz-7b1",
         "notched": false,
         "offsetgroup": "F1 Bloomz-7b1",
         "orientation": "v",
         "showlegend": true,
         "x": [
          "F1 Bloomz-7b1",
          "F1 Bloomz-7b1",
          "F1 Bloomz-7b1",
          "F1 Bloomz-7b1",
          "F1 Bloomz-7b1",
          "F1 Bloomz-7b1",
          "F1 Bloomz-7b1",
          "F1 Bloomz-7b1"
         ],
         "x0": " ",
         "xaxis": "x",
         "y": [
          0.5063,
          0.5135,
          0.5029,
          0.4219,
          0.3851,
          0.4091,
          0.4377,
          0.4085
         ],
         "y0": " ",
         "yaxis": "y",
         "type": "box"
        }
       ],
       "layout": {
        "template": {
         "data": {
          "histogram2dcontour": [
           {
            "type": "histogram2dcontour",
            "colorbar": {
             "outlinewidth": 0,
             "ticks": ""
            },
            "colorscale": [
             [
              0.0,
              "#0d0887"
             ],
             [
              0.1111111111111111,
              "#46039f"
             ],
             [
              0.2222222222222222,
              "#7201a8"
             ],
             [
              0.3333333333333333,
              "#9c179e"
             ],
             [
              0.4444444444444444,
              "#bd3786"
             ],
             [
              0.5555555555555556,
              "#d8576b"
             ],
             [
              0.6666666666666666,
              "#ed7953"
             ],
             [
              0.7777777777777778,
              "#fb9f3a"
             ],
             [
              0.8888888888888888,
              "#fdca26"
             ],
             [
              1.0,
              "#f0f921"
             ]
            ]
           }
          ],
          "choropleth": [
           {
            "type": "choropleth",
            "colorbar": {
             "outlinewidth": 0,
             "ticks": ""
            }
           }
          ],
          "histogram2d": [
           {
            "type": "histogram2d",
            "colorbar": {
             "outlinewidth": 0,
             "ticks": ""
            },
            "colorscale": [
             [
              0.0,
              "#0d0887"
             ],
             [
              0.1111111111111111,
              "#46039f"
             ],
             [
              0.2222222222222222,
              "#7201a8"
             ],
             [
              0.3333333333333333,
              "#9c179e"
             ],
             [
              0.4444444444444444,
              "#bd3786"
             ],
             [
              0.5555555555555556,
              "#d8576b"
             ],
             [
              0.6666666666666666,
              "#ed7953"
             ],
             [
              0.7777777777777778,
              "#fb9f3a"
             ],
             [
              0.8888888888888888,
              "#fdca26"
             ],
             [
              1.0,
              "#f0f921"
             ]
            ]
           }
          ],
          "heatmap": [
           {
            "type": "heatmap",
            "colorbar": {
             "outlinewidth": 0,
             "ticks": ""
            },
            "colorscale": [
             [
              0.0,
              "#0d0887"
             ],
             [
              0.1111111111111111,
              "#46039f"
             ],
             [
              0.2222222222222222,
              "#7201a8"
             ],
             [
              0.3333333333333333,
              "#9c179e"
             ],
             [
              0.4444444444444444,
              "#bd3786"
             ],
             [
              0.5555555555555556,
              "#d8576b"
             ],
             [
              0.6666666666666666,
              "#ed7953"
             ],
             [
              0.7777777777777778,
              "#fb9f3a"
             ],
             [
              0.8888888888888888,
              "#fdca26"
             ],
             [
              1.0,
              "#f0f921"
             ]
            ]
           }
          ],
          "heatmapgl": [
           {
            "type": "heatmapgl",
            "colorbar": {
             "outlinewidth": 0,
             "ticks": ""
            },
            "colorscale": [
             [
              0.0,
              "#0d0887"
             ],
             [
              0.1111111111111111,
              "#46039f"
             ],
             [
              0.2222222222222222,
              "#7201a8"
             ],
             [
              0.3333333333333333,
              "#9c179e"
             ],
             [
              0.4444444444444444,
              "#bd3786"
             ],
             [
              0.5555555555555556,
              "#d8576b"
             ],
             [
              0.6666666666666666,
              "#ed7953"
             ],
             [
              0.7777777777777778,
              "#fb9f3a"
             ],
             [
              0.8888888888888888,
              "#fdca26"
             ],
             [
              1.0,
              "#f0f921"
             ]
            ]
           }
          ],
          "contourcarpet": [
           {
            "type": "contourcarpet",
            "colorbar": {
             "outlinewidth": 0,
             "ticks": ""
            }
           }
          ],
          "contour": [
           {
            "type": "contour",
            "colorbar": {
             "outlinewidth": 0,
             "ticks": ""
            },
            "colorscale": [
             [
              0.0,
              "#0d0887"
             ],
             [
              0.1111111111111111,
              "#46039f"
             ],
             [
              0.2222222222222222,
              "#7201a8"
             ],
             [
              0.3333333333333333,
              "#9c179e"
             ],
             [
              0.4444444444444444,
              "#bd3786"
             ],
             [
              0.5555555555555556,
              "#d8576b"
             ],
             [
              0.6666666666666666,
              "#ed7953"
             ],
             [
              0.7777777777777778,
              "#fb9f3a"
             ],
             [
              0.8888888888888888,
              "#fdca26"
             ],
             [
              1.0,
              "#f0f921"
             ]
            ]
           }
          ],
          "surface": [
           {
            "type": "surface",
            "colorbar": {
             "outlinewidth": 0,
             "ticks": ""
            },
            "colorscale": [
             [
              0.0,
              "#0d0887"
             ],
             [
              0.1111111111111111,
              "#46039f"
             ],
             [
              0.2222222222222222,
              "#7201a8"
             ],
             [
              0.3333333333333333,
              "#9c179e"
             ],
             [
              0.4444444444444444,
              "#bd3786"
             ],
             [
              0.5555555555555556,
              "#d8576b"
             ],
             [
              0.6666666666666666,
              "#ed7953"
             ],
             [
              0.7777777777777778,
              "#fb9f3a"
             ],
             [
              0.8888888888888888,
              "#fdca26"
             ],
             [
              1.0,
              "#f0f921"
             ]
            ]
           }
          ],
          "mesh3d": [
           {
            "type": "mesh3d",
            "colorbar": {
             "outlinewidth": 0,
             "ticks": ""
            }
           }
          ],
          "scatter": [
           {
            "fillpattern": {
             "fillmode": "overlay",
             "size": 10,
             "solidity": 0.2
            },
            "type": "scatter"
           }
          ],
          "parcoords": [
           {
            "type": "parcoords",
            "line": {
             "colorbar": {
              "outlinewidth": 0,
              "ticks": ""
             }
            }
           }
          ],
          "scatterpolargl": [
           {
            "type": "scatterpolargl",
            "marker": {
             "colorbar": {
              "outlinewidth": 0,
              "ticks": ""
             }
            }
           }
          ],
          "bar": [
           {
            "error_x": {
             "color": "#2a3f5f"
            },
            "error_y": {
             "color": "#2a3f5f"
            },
            "marker": {
             "line": {
              "color": "#E5ECF6",
              "width": 0.5
             },
             "pattern": {
              "fillmode": "overlay",
              "size": 10,
              "solidity": 0.2
             }
            },
            "type": "bar"
           }
          ],
          "scattergeo": [
           {
            "type": "scattergeo",
            "marker": {
             "colorbar": {
              "outlinewidth": 0,
              "ticks": ""
             }
            }
           }
          ],
          "scatterpolar": [
           {
            "type": "scatterpolar",
            "marker": {
             "colorbar": {
              "outlinewidth": 0,
              "ticks": ""
             }
            }
           }
          ],
          "histogram": [
           {
            "marker": {
             "pattern": {
              "fillmode": "overlay",
              "size": 10,
              "solidity": 0.2
             }
            },
            "type": "histogram"
           }
          ],
          "scattergl": [
           {
            "type": "scattergl",
            "marker": {
             "colorbar": {
              "outlinewidth": 0,
              "ticks": ""
             }
            }
           }
          ],
          "scatter3d": [
           {
            "type": "scatter3d",
            "line": {
             "colorbar": {
              "outlinewidth": 0,
              "ticks": ""
             }
            },
            "marker": {
             "colorbar": {
              "outlinewidth": 0,
              "ticks": ""
             }
            }
           }
          ],
          "scattermapbox": [
           {
            "type": "scattermapbox",
            "marker": {
             "colorbar": {
              "outlinewidth": 0,
              "ticks": ""
             }
            }
           }
          ],
          "scatterternary": [
           {
            "type": "scatterternary",
            "marker": {
             "colorbar": {
              "outlinewidth": 0,
              "ticks": ""
             }
            }
           }
          ],
          "scattercarpet": [
           {
            "type": "scattercarpet",
            "marker": {
             "colorbar": {
              "outlinewidth": 0,
              "ticks": ""
             }
            }
           }
          ],
          "carpet": [
           {
            "aaxis": {
             "endlinecolor": "#2a3f5f",
             "gridcolor": "white",
             "linecolor": "white",
             "minorgridcolor": "white",
             "startlinecolor": "#2a3f5f"
            },
            "baxis": {
             "endlinecolor": "#2a3f5f",
             "gridcolor": "white",
             "linecolor": "white",
             "minorgridcolor": "white",
             "startlinecolor": "#2a3f5f"
            },
            "type": "carpet"
           }
          ],
          "table": [
           {
            "cells": {
             "fill": {
              "color": "#EBF0F8"
             },
             "line": {
              "color": "white"
             }
            },
            "header": {
             "fill": {
              "color": "#C8D4E3"
             },
             "line": {
              "color": "white"
             }
            },
            "type": "table"
           }
          ],
          "barpolar": [
           {
            "marker": {
             "line": {
              "color": "#E5ECF6",
              "width": 0.5
             },
             "pattern": {
              "fillmode": "overlay",
              "size": 10,
              "solidity": 0.2
             }
            },
            "type": "barpolar"
           }
          ],
          "pie": [
           {
            "automargin": true,
            "type": "pie"
           }
          ]
         },
         "layout": {
          "autotypenumbers": "strict",
          "colorway": [
           "#636efa",
           "#EF553B",
           "#00cc96",
           "#ab63fa",
           "#FFA15A",
           "#19d3f3",
           "#FF6692",
           "#B6E880",
           "#FF97FF",
           "#FECB52"
          ],
          "font": {
           "color": "#2a3f5f"
          },
          "hovermode": "closest",
          "hoverlabel": {
           "align": "left"
          },
          "paper_bgcolor": "white",
          "plot_bgcolor": "#E5ECF6",
          "polar": {
           "bgcolor": "#E5ECF6",
           "angularaxis": {
            "gridcolor": "white",
            "linecolor": "white",
            "ticks": ""
           },
           "radialaxis": {
            "gridcolor": "white",
            "linecolor": "white",
            "ticks": ""
           }
          },
          "ternary": {
           "bgcolor": "#E5ECF6",
           "aaxis": {
            "gridcolor": "white",
            "linecolor": "white",
            "ticks": ""
           },
           "baxis": {
            "gridcolor": "white",
            "linecolor": "white",
            "ticks": ""
           },
           "caxis": {
            "gridcolor": "white",
            "linecolor": "white",
            "ticks": ""
           }
          },
          "coloraxis": {
           "colorbar": {
            "outlinewidth": 0,
            "ticks": ""
           }
          },
          "colorscale": {
           "sequential": [
            [
             0.0,
             "#0d0887"
            ],
            [
             0.1111111111111111,
             "#46039f"
            ],
            [
             0.2222222222222222,
             "#7201a8"
            ],
            [
             0.3333333333333333,
             "#9c179e"
            ],
            [
             0.4444444444444444,
             "#bd3786"
            ],
            [
             0.5555555555555556,
             "#d8576b"
            ],
            [
             0.6666666666666666,
             "#ed7953"
            ],
            [
             0.7777777777777778,
             "#fb9f3a"
            ],
            [
             0.8888888888888888,
             "#fdca26"
            ],
            [
             1.0,
             "#f0f921"
            ]
           ],
           "sequentialminus": [
            [
             0.0,
             "#0d0887"
            ],
            [
             0.1111111111111111,
             "#46039f"
            ],
            [
             0.2222222222222222,
             "#7201a8"
            ],
            [
             0.3333333333333333,
             "#9c179e"
            ],
            [
             0.4444444444444444,
             "#bd3786"
            ],
            [
             0.5555555555555556,
             "#d8576b"
            ],
            [
             0.6666666666666666,
             "#ed7953"
            ],
            [
             0.7777777777777778,
             "#fb9f3a"
            ],
            [
             0.8888888888888888,
             "#fdca26"
            ],
            [
             1.0,
             "#f0f921"
            ]
           ],
           "diverging": [
            [
             0,
             "#8e0152"
            ],
            [
             0.1,
             "#c51b7d"
            ],
            [
             0.2,
             "#de77ae"
            ],
            [
             0.3,
             "#f1b6da"
            ],
            [
             0.4,
             "#fde0ef"
            ],
            [
             0.5,
             "#f7f7f7"
            ],
            [
             0.6,
             "#e6f5d0"
            ],
            [
             0.7,
             "#b8e186"
            ],
            [
             0.8,
             "#7fbc41"
            ],
            [
             0.9,
             "#4d9221"
            ],
            [
             1,
             "#276419"
            ]
           ]
          },
          "xaxis": {
           "gridcolor": "white",
           "linecolor": "white",
           "ticks": "",
           "title": {
            "standoff": 15
           },
           "zerolinecolor": "white",
           "automargin": true,
           "zerolinewidth": 2
          },
          "yaxis": {
           "gridcolor": "white",
           "linecolor": "white",
           "ticks": "",
           "title": {
            "standoff": 15
           },
           "zerolinecolor": "white",
           "automargin": true,
           "zerolinewidth": 2
          },
          "scene": {
           "xaxis": {
            "backgroundcolor": "#E5ECF6",
            "gridcolor": "white",
            "linecolor": "white",
            "showbackground": true,
            "ticks": "",
            "zerolinecolor": "white",
            "gridwidth": 2
           },
           "yaxis": {
            "backgroundcolor": "#E5ECF6",
            "gridcolor": "white",
            "linecolor": "white",
            "showbackground": true,
            "ticks": "",
            "zerolinecolor": "white",
            "gridwidth": 2
           },
           "zaxis": {
            "backgroundcolor": "#E5ECF6",
            "gridcolor": "white",
            "linecolor": "white",
            "showbackground": true,
            "ticks": "",
            "zerolinecolor": "white",
            "gridwidth": 2
           }
          },
          "shapedefaults": {
           "line": {
            "color": "#2a3f5f"
           }
          },
          "annotationdefaults": {
           "arrowcolor": "#2a3f5f",
           "arrowhead": 0,
           "arrowwidth": 1
          },
          "geo": {
           "bgcolor": "white",
           "landcolor": "#E5ECF6",
           "subunitcolor": "white",
           "showland": true,
           "showlakes": true,
           "lakecolor": "white"
          },
          "title": {
           "x": 0.05
          },
          "mapbox": {
           "style": "light"
          }
         }
        },
        "xaxis": {
         "anchor": "y",
         "domain": [
          0.0,
          1.0
         ],
         "title": {
          "text": "Model"
         },
         "categoryorder": "array",
         "categoryarray": [
          "F1 Bloomz-560M",
          "F1 Bloomz-1b1",
          "F1 Bloomz-1b7",
          "F1 Bloomz-3b",
          "F1 Bloomz-7b1"
         ]
        },
        "yaxis": {
         "anchor": "x",
         "domain": [
          0.0,
          1.0
         ],
         "title": {
          "text": "F1 Score"
         }
        },
        "legend": {
         "title": {
          "text": "Model"
         },
         "tracegroupgap": 0
        },
        "title": {
         "text": "Box Plot for F1 Scores by Model (Resource Level = 2, Only Bloomz = True, Only Bloom = False)"
        },
        "boxmode": "overlay"
       },
       "config": {
        "plotlyServerURL": "https://plot.ly"
       }
      }
     },
     "metadata": {},
     "output_type": "display_data"
    },
    {
     "data": {
      "application/vnd.plotly.v1+json": {
       "data": [
        {
         "alignmentgroup": "True",
         "hovertemplate": "Model=%{x}<br>F1 Score=%{y}<extra></extra>",
         "legendgroup": "F1 Bloomz-560M",
         "marker": {
          "color": "#636efa"
         },
         "name": "F1 Bloomz-560M",
         "notched": false,
         "offsetgroup": "F1 Bloomz-560M",
         "orientation": "v",
         "showlegend": true,
         "x": [
          "F1 Bloomz-560M",
          "F1 Bloomz-560M",
          "F1 Bloomz-560M",
          "F1 Bloomz-560M",
          "F1 Bloomz-560M"
         ],
         "x0": " ",
         "xaxis": "x",
         "y": [
          0.4568021014073646,
          0.5217400167074505,
          0.5243499555999556,
          0.4886778969439165,
          0.3277587714927868
         ],
         "y0": " ",
         "yaxis": "y",
         "type": "box"
        },
        {
         "alignmentgroup": "True",
         "hovertemplate": "Model=%{x}<br>F1 Score=%{y}<extra></extra>",
         "legendgroup": "F1 Bloomz-1b1",
         "marker": {
          "color": "#EF553B"
         },
         "name": "F1 Bloomz-1b1",
         "notched": false,
         "offsetgroup": "F1 Bloomz-1b1",
         "orientation": "v",
         "showlegend": true,
         "x": [
          "F1 Bloomz-1b1",
          "F1 Bloomz-1b1",
          "F1 Bloomz-1b1",
          "F1 Bloomz-1b1",
          "F1 Bloomz-1b1"
         ],
         "x0": " ",
         "xaxis": "x",
         "y": [
          0.346219733522199,
          0.386150448404891,
          0.396907944748308,
          0.36710183841662,
          0.330227742013419
         ],
         "y0": " ",
         "yaxis": "y",
         "type": "box"
        },
        {
         "alignmentgroup": "True",
         "hovertemplate": "Model=%{x}<br>F1 Score=%{y}<extra></extra>",
         "legendgroup": "F1 Bloomz-1b7",
         "marker": {
          "color": "#00cc96"
         },
         "name": "F1 Bloomz-1b7",
         "notched": false,
         "offsetgroup": "F1 Bloomz-1b7",
         "orientation": "v",
         "showlegend": true,
         "x": [
          "F1 Bloomz-1b7",
          "F1 Bloomz-1b7",
          "F1 Bloomz-1b7",
          "F1 Bloomz-1b7",
          "F1 Bloomz-1b7"
         ],
         "x0": " ",
         "xaxis": "x",
         "y": [
          0.342716911325934,
          0.389342140418455,
          0.339680695921552,
          0.352700316351094,
          0.391396207570736
         ],
         "y0": " ",
         "yaxis": "y",
         "type": "box"
        },
        {
         "alignmentgroup": "True",
         "hovertemplate": "Model=%{x}<br>F1 Score=%{y}<extra></extra>",
         "legendgroup": "F1 Bloomz-3b",
         "marker": {
          "color": "#ab63fa"
         },
         "name": "F1 Bloomz-3b",
         "notched": false,
         "offsetgroup": "F1 Bloomz-3b",
         "orientation": "v",
         "showlegend": true,
         "x": [
          "F1 Bloomz-3b",
          "F1 Bloomz-3b",
          "F1 Bloomz-3b",
          "F1 Bloomz-3b",
          "F1 Bloomz-3b"
         ],
         "x0": " ",
         "xaxis": "x",
         "y": [
          0.468787309386968,
          0.499246825246599,
          0.473167474796977,
          0.469949684994275,
          0.489758628164161
         ],
         "y0": " ",
         "yaxis": "y",
         "type": "box"
        },
        {
         "alignmentgroup": "True",
         "hovertemplate": "Model=%{x}<br>F1 Score=%{y}<extra></extra>",
         "legendgroup": "F1 Bloomz-7b1",
         "marker": {
          "color": "#FFA15A"
         },
         "name": "F1 Bloomz-7b1",
         "notched": false,
         "offsetgroup": "F1 Bloomz-7b1",
         "orientation": "v",
         "showlegend": true,
         "x": [
          "F1 Bloomz-7b1",
          "F1 Bloomz-7b1",
          "F1 Bloomz-7b1",
          "F1 Bloomz-7b1",
          "F1 Bloomz-7b1"
         ],
         "x0": " ",
         "xaxis": "x",
         "y": [
          0.5006,
          0.5186,
          0.5451,
          0.5578,
          0.5081
         ],
         "y0": " ",
         "yaxis": "y",
         "type": "box"
        }
       ],
       "layout": {
        "template": {
         "data": {
          "histogram2dcontour": [
           {
            "type": "histogram2dcontour",
            "colorbar": {
             "outlinewidth": 0,
             "ticks": ""
            },
            "colorscale": [
             [
              0.0,
              "#0d0887"
             ],
             [
              0.1111111111111111,
              "#46039f"
             ],
             [
              0.2222222222222222,
              "#7201a8"
             ],
             [
              0.3333333333333333,
              "#9c179e"
             ],
             [
              0.4444444444444444,
              "#bd3786"
             ],
             [
              0.5555555555555556,
              "#d8576b"
             ],
             [
              0.6666666666666666,
              "#ed7953"
             ],
             [
              0.7777777777777778,
              "#fb9f3a"
             ],
             [
              0.8888888888888888,
              "#fdca26"
             ],
             [
              1.0,
              "#f0f921"
             ]
            ]
           }
          ],
          "choropleth": [
           {
            "type": "choropleth",
            "colorbar": {
             "outlinewidth": 0,
             "ticks": ""
            }
           }
          ],
          "histogram2d": [
           {
            "type": "histogram2d",
            "colorbar": {
             "outlinewidth": 0,
             "ticks": ""
            },
            "colorscale": [
             [
              0.0,
              "#0d0887"
             ],
             [
              0.1111111111111111,
              "#46039f"
             ],
             [
              0.2222222222222222,
              "#7201a8"
             ],
             [
              0.3333333333333333,
              "#9c179e"
             ],
             [
              0.4444444444444444,
              "#bd3786"
             ],
             [
              0.5555555555555556,
              "#d8576b"
             ],
             [
              0.6666666666666666,
              "#ed7953"
             ],
             [
              0.7777777777777778,
              "#fb9f3a"
             ],
             [
              0.8888888888888888,
              "#fdca26"
             ],
             [
              1.0,
              "#f0f921"
             ]
            ]
           }
          ],
          "heatmap": [
           {
            "type": "heatmap",
            "colorbar": {
             "outlinewidth": 0,
             "ticks": ""
            },
            "colorscale": [
             [
              0.0,
              "#0d0887"
             ],
             [
              0.1111111111111111,
              "#46039f"
             ],
             [
              0.2222222222222222,
              "#7201a8"
             ],
             [
              0.3333333333333333,
              "#9c179e"
             ],
             [
              0.4444444444444444,
              "#bd3786"
             ],
             [
              0.5555555555555556,
              "#d8576b"
             ],
             [
              0.6666666666666666,
              "#ed7953"
             ],
             [
              0.7777777777777778,
              "#fb9f3a"
             ],
             [
              0.8888888888888888,
              "#fdca26"
             ],
             [
              1.0,
              "#f0f921"
             ]
            ]
           }
          ],
          "heatmapgl": [
           {
            "type": "heatmapgl",
            "colorbar": {
             "outlinewidth": 0,
             "ticks": ""
            },
            "colorscale": [
             [
              0.0,
              "#0d0887"
             ],
             [
              0.1111111111111111,
              "#46039f"
             ],
             [
              0.2222222222222222,
              "#7201a8"
             ],
             [
              0.3333333333333333,
              "#9c179e"
             ],
             [
              0.4444444444444444,
              "#bd3786"
             ],
             [
              0.5555555555555556,
              "#d8576b"
             ],
             [
              0.6666666666666666,
              "#ed7953"
             ],
             [
              0.7777777777777778,
              "#fb9f3a"
             ],
             [
              0.8888888888888888,
              "#fdca26"
             ],
             [
              1.0,
              "#f0f921"
             ]
            ]
           }
          ],
          "contourcarpet": [
           {
            "type": "contourcarpet",
            "colorbar": {
             "outlinewidth": 0,
             "ticks": ""
            }
           }
          ],
          "contour": [
           {
            "type": "contour",
            "colorbar": {
             "outlinewidth": 0,
             "ticks": ""
            },
            "colorscale": [
             [
              0.0,
              "#0d0887"
             ],
             [
              0.1111111111111111,
              "#46039f"
             ],
             [
              0.2222222222222222,
              "#7201a8"
             ],
             [
              0.3333333333333333,
              "#9c179e"
             ],
             [
              0.4444444444444444,
              "#bd3786"
             ],
             [
              0.5555555555555556,
              "#d8576b"
             ],
             [
              0.6666666666666666,
              "#ed7953"
             ],
             [
              0.7777777777777778,
              "#fb9f3a"
             ],
             [
              0.8888888888888888,
              "#fdca26"
             ],
             [
              1.0,
              "#f0f921"
             ]
            ]
           }
          ],
          "surface": [
           {
            "type": "surface",
            "colorbar": {
             "outlinewidth": 0,
             "ticks": ""
            },
            "colorscale": [
             [
              0.0,
              "#0d0887"
             ],
             [
              0.1111111111111111,
              "#46039f"
             ],
             [
              0.2222222222222222,
              "#7201a8"
             ],
             [
              0.3333333333333333,
              "#9c179e"
             ],
             [
              0.4444444444444444,
              "#bd3786"
             ],
             [
              0.5555555555555556,
              "#d8576b"
             ],
             [
              0.6666666666666666,
              "#ed7953"
             ],
             [
              0.7777777777777778,
              "#fb9f3a"
             ],
             [
              0.8888888888888888,
              "#fdca26"
             ],
             [
              1.0,
              "#f0f921"
             ]
            ]
           }
          ],
          "mesh3d": [
           {
            "type": "mesh3d",
            "colorbar": {
             "outlinewidth": 0,
             "ticks": ""
            }
           }
          ],
          "scatter": [
           {
            "fillpattern": {
             "fillmode": "overlay",
             "size": 10,
             "solidity": 0.2
            },
            "type": "scatter"
           }
          ],
          "parcoords": [
           {
            "type": "parcoords",
            "line": {
             "colorbar": {
              "outlinewidth": 0,
              "ticks": ""
             }
            }
           }
          ],
          "scatterpolargl": [
           {
            "type": "scatterpolargl",
            "marker": {
             "colorbar": {
              "outlinewidth": 0,
              "ticks": ""
             }
            }
           }
          ],
          "bar": [
           {
            "error_x": {
             "color": "#2a3f5f"
            },
            "error_y": {
             "color": "#2a3f5f"
            },
            "marker": {
             "line": {
              "color": "#E5ECF6",
              "width": 0.5
             },
             "pattern": {
              "fillmode": "overlay",
              "size": 10,
              "solidity": 0.2
             }
            },
            "type": "bar"
           }
          ],
          "scattergeo": [
           {
            "type": "scattergeo",
            "marker": {
             "colorbar": {
              "outlinewidth": 0,
              "ticks": ""
             }
            }
           }
          ],
          "scatterpolar": [
           {
            "type": "scatterpolar",
            "marker": {
             "colorbar": {
              "outlinewidth": 0,
              "ticks": ""
             }
            }
           }
          ],
          "histogram": [
           {
            "marker": {
             "pattern": {
              "fillmode": "overlay",
              "size": 10,
              "solidity": 0.2
             }
            },
            "type": "histogram"
           }
          ],
          "scattergl": [
           {
            "type": "scattergl",
            "marker": {
             "colorbar": {
              "outlinewidth": 0,
              "ticks": ""
             }
            }
           }
          ],
          "scatter3d": [
           {
            "type": "scatter3d",
            "line": {
             "colorbar": {
              "outlinewidth": 0,
              "ticks": ""
             }
            },
            "marker": {
             "colorbar": {
              "outlinewidth": 0,
              "ticks": ""
             }
            }
           }
          ],
          "scattermapbox": [
           {
            "type": "scattermapbox",
            "marker": {
             "colorbar": {
              "outlinewidth": 0,
              "ticks": ""
             }
            }
           }
          ],
          "scatterternary": [
           {
            "type": "scatterternary",
            "marker": {
             "colorbar": {
              "outlinewidth": 0,
              "ticks": ""
             }
            }
           }
          ],
          "scattercarpet": [
           {
            "type": "scattercarpet",
            "marker": {
             "colorbar": {
              "outlinewidth": 0,
              "ticks": ""
             }
            }
           }
          ],
          "carpet": [
           {
            "aaxis": {
             "endlinecolor": "#2a3f5f",
             "gridcolor": "white",
             "linecolor": "white",
             "minorgridcolor": "white",
             "startlinecolor": "#2a3f5f"
            },
            "baxis": {
             "endlinecolor": "#2a3f5f",
             "gridcolor": "white",
             "linecolor": "white",
             "minorgridcolor": "white",
             "startlinecolor": "#2a3f5f"
            },
            "type": "carpet"
           }
          ],
          "table": [
           {
            "cells": {
             "fill": {
              "color": "#EBF0F8"
             },
             "line": {
              "color": "white"
             }
            },
            "header": {
             "fill": {
              "color": "#C8D4E3"
             },
             "line": {
              "color": "white"
             }
            },
            "type": "table"
           }
          ],
          "barpolar": [
           {
            "marker": {
             "line": {
              "color": "#E5ECF6",
              "width": 0.5
             },
             "pattern": {
              "fillmode": "overlay",
              "size": 10,
              "solidity": 0.2
             }
            },
            "type": "barpolar"
           }
          ],
          "pie": [
           {
            "automargin": true,
            "type": "pie"
           }
          ]
         },
         "layout": {
          "autotypenumbers": "strict",
          "colorway": [
           "#636efa",
           "#EF553B",
           "#00cc96",
           "#ab63fa",
           "#FFA15A",
           "#19d3f3",
           "#FF6692",
           "#B6E880",
           "#FF97FF",
           "#FECB52"
          ],
          "font": {
           "color": "#2a3f5f"
          },
          "hovermode": "closest",
          "hoverlabel": {
           "align": "left"
          },
          "paper_bgcolor": "white",
          "plot_bgcolor": "#E5ECF6",
          "polar": {
           "bgcolor": "#E5ECF6",
           "angularaxis": {
            "gridcolor": "white",
            "linecolor": "white",
            "ticks": ""
           },
           "radialaxis": {
            "gridcolor": "white",
            "linecolor": "white",
            "ticks": ""
           }
          },
          "ternary": {
           "bgcolor": "#E5ECF6",
           "aaxis": {
            "gridcolor": "white",
            "linecolor": "white",
            "ticks": ""
           },
           "baxis": {
            "gridcolor": "white",
            "linecolor": "white",
            "ticks": ""
           },
           "caxis": {
            "gridcolor": "white",
            "linecolor": "white",
            "ticks": ""
           }
          },
          "coloraxis": {
           "colorbar": {
            "outlinewidth": 0,
            "ticks": ""
           }
          },
          "colorscale": {
           "sequential": [
            [
             0.0,
             "#0d0887"
            ],
            [
             0.1111111111111111,
             "#46039f"
            ],
            [
             0.2222222222222222,
             "#7201a8"
            ],
            [
             0.3333333333333333,
             "#9c179e"
            ],
            [
             0.4444444444444444,
             "#bd3786"
            ],
            [
             0.5555555555555556,
             "#d8576b"
            ],
            [
             0.6666666666666666,
             "#ed7953"
            ],
            [
             0.7777777777777778,
             "#fb9f3a"
            ],
            [
             0.8888888888888888,
             "#fdca26"
            ],
            [
             1.0,
             "#f0f921"
            ]
           ],
           "sequentialminus": [
            [
             0.0,
             "#0d0887"
            ],
            [
             0.1111111111111111,
             "#46039f"
            ],
            [
             0.2222222222222222,
             "#7201a8"
            ],
            [
             0.3333333333333333,
             "#9c179e"
            ],
            [
             0.4444444444444444,
             "#bd3786"
            ],
            [
             0.5555555555555556,
             "#d8576b"
            ],
            [
             0.6666666666666666,
             "#ed7953"
            ],
            [
             0.7777777777777778,
             "#fb9f3a"
            ],
            [
             0.8888888888888888,
             "#fdca26"
            ],
            [
             1.0,
             "#f0f921"
            ]
           ],
           "diverging": [
            [
             0,
             "#8e0152"
            ],
            [
             0.1,
             "#c51b7d"
            ],
            [
             0.2,
             "#de77ae"
            ],
            [
             0.3,
             "#f1b6da"
            ],
            [
             0.4,
             "#fde0ef"
            ],
            [
             0.5,
             "#f7f7f7"
            ],
            [
             0.6,
             "#e6f5d0"
            ],
            [
             0.7,
             "#b8e186"
            ],
            [
             0.8,
             "#7fbc41"
            ],
            [
             0.9,
             "#4d9221"
            ],
            [
             1,
             "#276419"
            ]
           ]
          },
          "xaxis": {
           "gridcolor": "white",
           "linecolor": "white",
           "ticks": "",
           "title": {
            "standoff": 15
           },
           "zerolinecolor": "white",
           "automargin": true,
           "zerolinewidth": 2
          },
          "yaxis": {
           "gridcolor": "white",
           "linecolor": "white",
           "ticks": "",
           "title": {
            "standoff": 15
           },
           "zerolinecolor": "white",
           "automargin": true,
           "zerolinewidth": 2
          },
          "scene": {
           "xaxis": {
            "backgroundcolor": "#E5ECF6",
            "gridcolor": "white",
            "linecolor": "white",
            "showbackground": true,
            "ticks": "",
            "zerolinecolor": "white",
            "gridwidth": 2
           },
           "yaxis": {
            "backgroundcolor": "#E5ECF6",
            "gridcolor": "white",
            "linecolor": "white",
            "showbackground": true,
            "ticks": "",
            "zerolinecolor": "white",
            "gridwidth": 2
           },
           "zaxis": {
            "backgroundcolor": "#E5ECF6",
            "gridcolor": "white",
            "linecolor": "white",
            "showbackground": true,
            "ticks": "",
            "zerolinecolor": "white",
            "gridwidth": 2
           }
          },
          "shapedefaults": {
           "line": {
            "color": "#2a3f5f"
           }
          },
          "annotationdefaults": {
           "arrowcolor": "#2a3f5f",
           "arrowhead": 0,
           "arrowwidth": 1
          },
          "geo": {
           "bgcolor": "white",
           "landcolor": "#E5ECF6",
           "subunitcolor": "white",
           "showland": true,
           "showlakes": true,
           "lakecolor": "white"
          },
          "title": {
           "x": 0.05
          },
          "mapbox": {
           "style": "light"
          }
         }
        },
        "xaxis": {
         "anchor": "y",
         "domain": [
          0.0,
          1.0
         ],
         "title": {
          "text": "Model"
         },
         "categoryorder": "array",
         "categoryarray": [
          "F1 Bloomz-560M",
          "F1 Bloomz-1b1",
          "F1 Bloomz-1b7",
          "F1 Bloomz-3b",
          "F1 Bloomz-7b1"
         ]
        },
        "yaxis": {
         "anchor": "x",
         "domain": [
          0.0,
          1.0
         ],
         "title": {
          "text": "F1 Score"
         }
        },
        "legend": {
         "title": {
          "text": "Model"
         },
         "tracegroupgap": 0
        },
        "title": {
         "text": "Box Plot for F1 Scores by Model (Resource Level = 5, Only Bloomz = True, Only Bloom = False)"
        },
        "boxmode": "overlay"
       },
       "config": {
        "plotlyServerURL": "https://plot.ly"
       }
      }
     },
     "metadata": {},
     "output_type": "display_data"
    },
    {
     "data": {
      "application/vnd.plotly.v1+json": {
       "data": [
        {
         "alignmentgroup": "True",
         "hovertemplate": "Model=%{x}<br>F1 Score=%{y}<extra></extra>",
         "legendgroup": "F1 Bloomz-560M",
         "marker": {
          "color": "#636efa"
         },
         "name": "F1 Bloomz-560M",
         "notched": false,
         "offsetgroup": "F1 Bloomz-560M",
         "orientation": "v",
         "showlegend": true,
         "x": [
          "F1 Bloomz-560M",
          "F1 Bloomz-560M",
          "F1 Bloomz-560M"
         ],
         "x0": " ",
         "xaxis": "x",
         "y": [
          0.2378989011581146,
          0.3161502676679203,
          0.3016214779372674
         ],
         "y0": " ",
         "yaxis": "y",
         "type": "box"
        },
        {
         "alignmentgroup": "True",
         "hovertemplate": "Model=%{x}<br>F1 Score=%{y}<extra></extra>",
         "legendgroup": "F1 Bloomz-1b1",
         "marker": {
          "color": "#EF553B"
         },
         "name": "F1 Bloomz-1b1",
         "notched": false,
         "offsetgroup": "F1 Bloomz-1b1",
         "orientation": "v",
         "showlegend": true,
         "x": [
          "F1 Bloomz-1b1",
          "F1 Bloomz-1b1",
          "F1 Bloomz-1b1"
         ],
         "x0": " ",
         "xaxis": "x",
         "y": [
          0.176771054141471,
          0.208508711951524,
          0.20415287327052
         ],
         "y0": " ",
         "yaxis": "y",
         "type": "box"
        },
        {
         "alignmentgroup": "True",
         "hovertemplate": "Model=%{x}<br>F1 Score=%{y}<extra></extra>",
         "legendgroup": "F1 Bloomz-1b7",
         "marker": {
          "color": "#00cc96"
         },
         "name": "F1 Bloomz-1b7",
         "notched": false,
         "offsetgroup": "F1 Bloomz-1b7",
         "orientation": "v",
         "showlegend": true,
         "x": [
          "F1 Bloomz-1b7",
          "F1 Bloomz-1b7",
          "F1 Bloomz-1b7"
         ],
         "x0": " ",
         "xaxis": "x",
         "y": [
          0.183735528007713,
          0.223349679729768,
          0.266981876345761
         ],
         "y0": " ",
         "yaxis": "y",
         "type": "box"
        },
        {
         "alignmentgroup": "True",
         "hovertemplate": "Model=%{x}<br>F1 Score=%{y}<extra></extra>",
         "legendgroup": "F1 Bloomz-3b",
         "marker": {
          "color": "#ab63fa"
         },
         "name": "F1 Bloomz-3b",
         "notched": false,
         "offsetgroup": "F1 Bloomz-3b",
         "orientation": "v",
         "showlegend": true,
         "x": [
          "F1 Bloomz-3b",
          "F1 Bloomz-3b",
          "F1 Bloomz-3b"
         ],
         "x0": " ",
         "xaxis": "x",
         "y": [
          0.28559235575745,
          0.386566690431008,
          0.356734917262025
         ],
         "y0": " ",
         "yaxis": "y",
         "type": "box"
        },
        {
         "alignmentgroup": "True",
         "hovertemplate": "Model=%{x}<br>F1 Score=%{y}<extra></extra>",
         "legendgroup": "F1 Bloomz-7b1",
         "marker": {
          "color": "#FFA15A"
         },
         "name": "F1 Bloomz-7b1",
         "notched": false,
         "offsetgroup": "F1 Bloomz-7b1",
         "orientation": "v",
         "showlegend": true,
         "x": [
          "F1 Bloomz-7b1",
          "F1 Bloomz-7b1",
          "F1 Bloomz-7b1"
         ],
         "x0": " ",
         "xaxis": "x",
         "y": [
          0.2923,
          0.4628,
          0.4081
         ],
         "y0": " ",
         "yaxis": "y",
         "type": "box"
        }
       ],
       "layout": {
        "template": {
         "data": {
          "histogram2dcontour": [
           {
            "type": "histogram2dcontour",
            "colorbar": {
             "outlinewidth": 0,
             "ticks": ""
            },
            "colorscale": [
             [
              0.0,
              "#0d0887"
             ],
             [
              0.1111111111111111,
              "#46039f"
             ],
             [
              0.2222222222222222,
              "#7201a8"
             ],
             [
              0.3333333333333333,
              "#9c179e"
             ],
             [
              0.4444444444444444,
              "#bd3786"
             ],
             [
              0.5555555555555556,
              "#d8576b"
             ],
             [
              0.6666666666666666,
              "#ed7953"
             ],
             [
              0.7777777777777778,
              "#fb9f3a"
             ],
             [
              0.8888888888888888,
              "#fdca26"
             ],
             [
              1.0,
              "#f0f921"
             ]
            ]
           }
          ],
          "choropleth": [
           {
            "type": "choropleth",
            "colorbar": {
             "outlinewidth": 0,
             "ticks": ""
            }
           }
          ],
          "histogram2d": [
           {
            "type": "histogram2d",
            "colorbar": {
             "outlinewidth": 0,
             "ticks": ""
            },
            "colorscale": [
             [
              0.0,
              "#0d0887"
             ],
             [
              0.1111111111111111,
              "#46039f"
             ],
             [
              0.2222222222222222,
              "#7201a8"
             ],
             [
              0.3333333333333333,
              "#9c179e"
             ],
             [
              0.4444444444444444,
              "#bd3786"
             ],
             [
              0.5555555555555556,
              "#d8576b"
             ],
             [
              0.6666666666666666,
              "#ed7953"
             ],
             [
              0.7777777777777778,
              "#fb9f3a"
             ],
             [
              0.8888888888888888,
              "#fdca26"
             ],
             [
              1.0,
              "#f0f921"
             ]
            ]
           }
          ],
          "heatmap": [
           {
            "type": "heatmap",
            "colorbar": {
             "outlinewidth": 0,
             "ticks": ""
            },
            "colorscale": [
             [
              0.0,
              "#0d0887"
             ],
             [
              0.1111111111111111,
              "#46039f"
             ],
             [
              0.2222222222222222,
              "#7201a8"
             ],
             [
              0.3333333333333333,
              "#9c179e"
             ],
             [
              0.4444444444444444,
              "#bd3786"
             ],
             [
              0.5555555555555556,
              "#d8576b"
             ],
             [
              0.6666666666666666,
              "#ed7953"
             ],
             [
              0.7777777777777778,
              "#fb9f3a"
             ],
             [
              0.8888888888888888,
              "#fdca26"
             ],
             [
              1.0,
              "#f0f921"
             ]
            ]
           }
          ],
          "heatmapgl": [
           {
            "type": "heatmapgl",
            "colorbar": {
             "outlinewidth": 0,
             "ticks": ""
            },
            "colorscale": [
             [
              0.0,
              "#0d0887"
             ],
             [
              0.1111111111111111,
              "#46039f"
             ],
             [
              0.2222222222222222,
              "#7201a8"
             ],
             [
              0.3333333333333333,
              "#9c179e"
             ],
             [
              0.4444444444444444,
              "#bd3786"
             ],
             [
              0.5555555555555556,
              "#d8576b"
             ],
             [
              0.6666666666666666,
              "#ed7953"
             ],
             [
              0.7777777777777778,
              "#fb9f3a"
             ],
             [
              0.8888888888888888,
              "#fdca26"
             ],
             [
              1.0,
              "#f0f921"
             ]
            ]
           }
          ],
          "contourcarpet": [
           {
            "type": "contourcarpet",
            "colorbar": {
             "outlinewidth": 0,
             "ticks": ""
            }
           }
          ],
          "contour": [
           {
            "type": "contour",
            "colorbar": {
             "outlinewidth": 0,
             "ticks": ""
            },
            "colorscale": [
             [
              0.0,
              "#0d0887"
             ],
             [
              0.1111111111111111,
              "#46039f"
             ],
             [
              0.2222222222222222,
              "#7201a8"
             ],
             [
              0.3333333333333333,
              "#9c179e"
             ],
             [
              0.4444444444444444,
              "#bd3786"
             ],
             [
              0.5555555555555556,
              "#d8576b"
             ],
             [
              0.6666666666666666,
              "#ed7953"
             ],
             [
              0.7777777777777778,
              "#fb9f3a"
             ],
             [
              0.8888888888888888,
              "#fdca26"
             ],
             [
              1.0,
              "#f0f921"
             ]
            ]
           }
          ],
          "surface": [
           {
            "type": "surface",
            "colorbar": {
             "outlinewidth": 0,
             "ticks": ""
            },
            "colorscale": [
             [
              0.0,
              "#0d0887"
             ],
             [
              0.1111111111111111,
              "#46039f"
             ],
             [
              0.2222222222222222,
              "#7201a8"
             ],
             [
              0.3333333333333333,
              "#9c179e"
             ],
             [
              0.4444444444444444,
              "#bd3786"
             ],
             [
              0.5555555555555556,
              "#d8576b"
             ],
             [
              0.6666666666666666,
              "#ed7953"
             ],
             [
              0.7777777777777778,
              "#fb9f3a"
             ],
             [
              0.8888888888888888,
              "#fdca26"
             ],
             [
              1.0,
              "#f0f921"
             ]
            ]
           }
          ],
          "mesh3d": [
           {
            "type": "mesh3d",
            "colorbar": {
             "outlinewidth": 0,
             "ticks": ""
            }
           }
          ],
          "scatter": [
           {
            "fillpattern": {
             "fillmode": "overlay",
             "size": 10,
             "solidity": 0.2
            },
            "type": "scatter"
           }
          ],
          "parcoords": [
           {
            "type": "parcoords",
            "line": {
             "colorbar": {
              "outlinewidth": 0,
              "ticks": ""
             }
            }
           }
          ],
          "scatterpolargl": [
           {
            "type": "scatterpolargl",
            "marker": {
             "colorbar": {
              "outlinewidth": 0,
              "ticks": ""
             }
            }
           }
          ],
          "bar": [
           {
            "error_x": {
             "color": "#2a3f5f"
            },
            "error_y": {
             "color": "#2a3f5f"
            },
            "marker": {
             "line": {
              "color": "#E5ECF6",
              "width": 0.5
             },
             "pattern": {
              "fillmode": "overlay",
              "size": 10,
              "solidity": 0.2
             }
            },
            "type": "bar"
           }
          ],
          "scattergeo": [
           {
            "type": "scattergeo",
            "marker": {
             "colorbar": {
              "outlinewidth": 0,
              "ticks": ""
             }
            }
           }
          ],
          "scatterpolar": [
           {
            "type": "scatterpolar",
            "marker": {
             "colorbar": {
              "outlinewidth": 0,
              "ticks": ""
             }
            }
           }
          ],
          "histogram": [
           {
            "marker": {
             "pattern": {
              "fillmode": "overlay",
              "size": 10,
              "solidity": 0.2
             }
            },
            "type": "histogram"
           }
          ],
          "scattergl": [
           {
            "type": "scattergl",
            "marker": {
             "colorbar": {
              "outlinewidth": 0,
              "ticks": ""
             }
            }
           }
          ],
          "scatter3d": [
           {
            "type": "scatter3d",
            "line": {
             "colorbar": {
              "outlinewidth": 0,
              "ticks": ""
             }
            },
            "marker": {
             "colorbar": {
              "outlinewidth": 0,
              "ticks": ""
             }
            }
           }
          ],
          "scattermapbox": [
           {
            "type": "scattermapbox",
            "marker": {
             "colorbar": {
              "outlinewidth": 0,
              "ticks": ""
             }
            }
           }
          ],
          "scatterternary": [
           {
            "type": "scatterternary",
            "marker": {
             "colorbar": {
              "outlinewidth": 0,
              "ticks": ""
             }
            }
           }
          ],
          "scattercarpet": [
           {
            "type": "scattercarpet",
            "marker": {
             "colorbar": {
              "outlinewidth": 0,
              "ticks": ""
             }
            }
           }
          ],
          "carpet": [
           {
            "aaxis": {
             "endlinecolor": "#2a3f5f",
             "gridcolor": "white",
             "linecolor": "white",
             "minorgridcolor": "white",
             "startlinecolor": "#2a3f5f"
            },
            "baxis": {
             "endlinecolor": "#2a3f5f",
             "gridcolor": "white",
             "linecolor": "white",
             "minorgridcolor": "white",
             "startlinecolor": "#2a3f5f"
            },
            "type": "carpet"
           }
          ],
          "table": [
           {
            "cells": {
             "fill": {
              "color": "#EBF0F8"
             },
             "line": {
              "color": "white"
             }
            },
            "header": {
             "fill": {
              "color": "#C8D4E3"
             },
             "line": {
              "color": "white"
             }
            },
            "type": "table"
           }
          ],
          "barpolar": [
           {
            "marker": {
             "line": {
              "color": "#E5ECF6",
              "width": 0.5
             },
             "pattern": {
              "fillmode": "overlay",
              "size": 10,
              "solidity": 0.2
             }
            },
            "type": "barpolar"
           }
          ],
          "pie": [
           {
            "automargin": true,
            "type": "pie"
           }
          ]
         },
         "layout": {
          "autotypenumbers": "strict",
          "colorway": [
           "#636efa",
           "#EF553B",
           "#00cc96",
           "#ab63fa",
           "#FFA15A",
           "#19d3f3",
           "#FF6692",
           "#B6E880",
           "#FF97FF",
           "#FECB52"
          ],
          "font": {
           "color": "#2a3f5f"
          },
          "hovermode": "closest",
          "hoverlabel": {
           "align": "left"
          },
          "paper_bgcolor": "white",
          "plot_bgcolor": "#E5ECF6",
          "polar": {
           "bgcolor": "#E5ECF6",
           "angularaxis": {
            "gridcolor": "white",
            "linecolor": "white",
            "ticks": ""
           },
           "radialaxis": {
            "gridcolor": "white",
            "linecolor": "white",
            "ticks": ""
           }
          },
          "ternary": {
           "bgcolor": "#E5ECF6",
           "aaxis": {
            "gridcolor": "white",
            "linecolor": "white",
            "ticks": ""
           },
           "baxis": {
            "gridcolor": "white",
            "linecolor": "white",
            "ticks": ""
           },
           "caxis": {
            "gridcolor": "white",
            "linecolor": "white",
            "ticks": ""
           }
          },
          "coloraxis": {
           "colorbar": {
            "outlinewidth": 0,
            "ticks": ""
           }
          },
          "colorscale": {
           "sequential": [
            [
             0.0,
             "#0d0887"
            ],
            [
             0.1111111111111111,
             "#46039f"
            ],
            [
             0.2222222222222222,
             "#7201a8"
            ],
            [
             0.3333333333333333,
             "#9c179e"
            ],
            [
             0.4444444444444444,
             "#bd3786"
            ],
            [
             0.5555555555555556,
             "#d8576b"
            ],
            [
             0.6666666666666666,
             "#ed7953"
            ],
            [
             0.7777777777777778,
             "#fb9f3a"
            ],
            [
             0.8888888888888888,
             "#fdca26"
            ],
            [
             1.0,
             "#f0f921"
            ]
           ],
           "sequentialminus": [
            [
             0.0,
             "#0d0887"
            ],
            [
             0.1111111111111111,
             "#46039f"
            ],
            [
             0.2222222222222222,
             "#7201a8"
            ],
            [
             0.3333333333333333,
             "#9c179e"
            ],
            [
             0.4444444444444444,
             "#bd3786"
            ],
            [
             0.5555555555555556,
             "#d8576b"
            ],
            [
             0.6666666666666666,
             "#ed7953"
            ],
            [
             0.7777777777777778,
             "#fb9f3a"
            ],
            [
             0.8888888888888888,
             "#fdca26"
            ],
            [
             1.0,
             "#f0f921"
            ]
           ],
           "diverging": [
            [
             0,
             "#8e0152"
            ],
            [
             0.1,
             "#c51b7d"
            ],
            [
             0.2,
             "#de77ae"
            ],
            [
             0.3,
             "#f1b6da"
            ],
            [
             0.4,
             "#fde0ef"
            ],
            [
             0.5,
             "#f7f7f7"
            ],
            [
             0.6,
             "#e6f5d0"
            ],
            [
             0.7,
             "#b8e186"
            ],
            [
             0.8,
             "#7fbc41"
            ],
            [
             0.9,
             "#4d9221"
            ],
            [
             1,
             "#276419"
            ]
           ]
          },
          "xaxis": {
           "gridcolor": "white",
           "linecolor": "white",
           "ticks": "",
           "title": {
            "standoff": 15
           },
           "zerolinecolor": "white",
           "automargin": true,
           "zerolinewidth": 2
          },
          "yaxis": {
           "gridcolor": "white",
           "linecolor": "white",
           "ticks": "",
           "title": {
            "standoff": 15
           },
           "zerolinecolor": "white",
           "automargin": true,
           "zerolinewidth": 2
          },
          "scene": {
           "xaxis": {
            "backgroundcolor": "#E5ECF6",
            "gridcolor": "white",
            "linecolor": "white",
            "showbackground": true,
            "ticks": "",
            "zerolinecolor": "white",
            "gridwidth": 2
           },
           "yaxis": {
            "backgroundcolor": "#E5ECF6",
            "gridcolor": "white",
            "linecolor": "white",
            "showbackground": true,
            "ticks": "",
            "zerolinecolor": "white",
            "gridwidth": 2
           },
           "zaxis": {
            "backgroundcolor": "#E5ECF6",
            "gridcolor": "white",
            "linecolor": "white",
            "showbackground": true,
            "ticks": "",
            "zerolinecolor": "white",
            "gridwidth": 2
           }
          },
          "shapedefaults": {
           "line": {
            "color": "#2a3f5f"
           }
          },
          "annotationdefaults": {
           "arrowcolor": "#2a3f5f",
           "arrowhead": 0,
           "arrowwidth": 1
          },
          "geo": {
           "bgcolor": "white",
           "landcolor": "#E5ECF6",
           "subunitcolor": "white",
           "showland": true,
           "showlakes": true,
           "lakecolor": "white"
          },
          "title": {
           "x": 0.05
          },
          "mapbox": {
           "style": "light"
          }
         }
        },
        "xaxis": {
         "anchor": "y",
         "domain": [
          0.0,
          1.0
         ],
         "title": {
          "text": "Model"
         },
         "categoryorder": "array",
         "categoryarray": [
          "F1 Bloomz-560M",
          "F1 Bloomz-1b1",
          "F1 Bloomz-1b7",
          "F1 Bloomz-3b",
          "F1 Bloomz-7b1"
         ]
        },
        "yaxis": {
         "anchor": "x",
         "domain": [
          0.0,
          1.0
         ],
         "title": {
          "text": "F1 Score"
         }
        },
        "legend": {
         "title": {
          "text": "Model"
         },
         "tracegroupgap": 0
        },
        "title": {
         "text": "Box Plot for F1 Scores by Model (Resource Level = 0, Only Bloomz = True, Only Bloom = False)"
        },
        "boxmode": "overlay"
       },
       "config": {
        "plotlyServerURL": "https://plot.ly"
       }
      }
     },
     "metadata": {},
     "output_type": "display_data"
    },
    {
     "data": {
      "application/vnd.plotly.v1+json": {
       "data": [
        {
         "alignmentgroup": "True",
         "hovertemplate": "Model=%{x}<br>F1 Score=%{y}<extra></extra>",
         "legendgroup": "F1 Bloomz-560M",
         "marker": {
          "color": "#636efa"
         },
         "name": "F1 Bloomz-560M",
         "notched": false,
         "offsetgroup": "F1 Bloomz-560M",
         "orientation": "v",
         "showlegend": true,
         "x": [
          "F1 Bloomz-560M",
          "F1 Bloomz-560M",
          "F1 Bloomz-560M",
          "F1 Bloomz-560M",
          "F1 Bloomz-560M"
         ],
         "x0": " ",
         "xaxis": "x",
         "y": [
          0.494547665855617,
          0.4387968835643254,
          0.3611615433549396,
          0.511097244046414,
          0.3820677196008129
         ],
         "y0": " ",
         "yaxis": "y",
         "type": "box"
        },
        {
         "alignmentgroup": "True",
         "hovertemplate": "Model=%{x}<br>F1 Score=%{y}<extra></extra>",
         "legendgroup": "F1 Bloomz-1b1",
         "marker": {
          "color": "#EF553B"
         },
         "name": "F1 Bloomz-1b1",
         "notched": false,
         "offsetgroup": "F1 Bloomz-1b1",
         "orientation": "v",
         "showlegend": true,
         "x": [
          "F1 Bloomz-1b1",
          "F1 Bloomz-1b1",
          "F1 Bloomz-1b1",
          "F1 Bloomz-1b1",
          "F1 Bloomz-1b1"
         ],
         "x0": " ",
         "xaxis": "x",
         "y": [
          0.340967332623886,
          0.308508996201712,
          0.353627171683537,
          0.372691496940639,
          0.383325214143629
         ],
         "y0": " ",
         "yaxis": "y",
         "type": "box"
        },
        {
         "alignmentgroup": "True",
         "hovertemplate": "Model=%{x}<br>F1 Score=%{y}<extra></extra>",
         "legendgroup": "F1 Bloomz-1b7",
         "marker": {
          "color": "#00cc96"
         },
         "name": "F1 Bloomz-1b7",
         "notched": false,
         "offsetgroup": "F1 Bloomz-1b7",
         "orientation": "v",
         "showlegend": true,
         "x": [
          "F1 Bloomz-1b7",
          "F1 Bloomz-1b7",
          "F1 Bloomz-1b7",
          "F1 Bloomz-1b7",
          "F1 Bloomz-1b7"
         ],
         "x0": " ",
         "xaxis": "x",
         "y": [
          0.342571118397731,
          0.307918053127291,
          0.365836222261394,
          0.369804182482076,
          0.35645208523292
         ],
         "y0": " ",
         "yaxis": "y",
         "type": "box"
        },
        {
         "alignmentgroup": "True",
         "hovertemplate": "Model=%{x}<br>F1 Score=%{y}<extra></extra>",
         "legendgroup": "F1 Bloomz-3b",
         "marker": {
          "color": "#ab63fa"
         },
         "name": "F1 Bloomz-3b",
         "notched": false,
         "offsetgroup": "F1 Bloomz-3b",
         "orientation": "v",
         "showlegend": true,
         "x": [
          "F1 Bloomz-3b",
          "F1 Bloomz-3b",
          "F1 Bloomz-3b",
          "F1 Bloomz-3b",
          "F1 Bloomz-3b"
         ],
         "x0": " ",
         "xaxis": "x",
         "y": [
          0.468189708472662,
          0.458974951142749,
          0.491596424010217,
          0.464908159502658,
          0.494098548510313
         ],
         "y0": " ",
         "yaxis": "y",
         "type": "box"
        },
        {
         "alignmentgroup": "True",
         "hovertemplate": "Model=%{x}<br>F1 Score=%{y}<extra></extra>",
         "legendgroup": "F1 Bloomz-7b1",
         "marker": {
          "color": "#FFA15A"
         },
         "name": "F1 Bloomz-7b1",
         "notched": false,
         "offsetgroup": "F1 Bloomz-7b1",
         "orientation": "v",
         "showlegend": true,
         "x": [
          "F1 Bloomz-7b1",
          "F1 Bloomz-7b1",
          "F1 Bloomz-7b1",
          "F1 Bloomz-7b1",
          "F1 Bloomz-7b1"
         ],
         "x0": " ",
         "xaxis": "x",
         "y": [
          0.5292,
          0.5348,
          0.5333,
          0.5269,
          0.5391
         ],
         "y0": " ",
         "yaxis": "y",
         "type": "box"
        }
       ],
       "layout": {
        "template": {
         "data": {
          "histogram2dcontour": [
           {
            "type": "histogram2dcontour",
            "colorbar": {
             "outlinewidth": 0,
             "ticks": ""
            },
            "colorscale": [
             [
              0.0,
              "#0d0887"
             ],
             [
              0.1111111111111111,
              "#46039f"
             ],
             [
              0.2222222222222222,
              "#7201a8"
             ],
             [
              0.3333333333333333,
              "#9c179e"
             ],
             [
              0.4444444444444444,
              "#bd3786"
             ],
             [
              0.5555555555555556,
              "#d8576b"
             ],
             [
              0.6666666666666666,
              "#ed7953"
             ],
             [
              0.7777777777777778,
              "#fb9f3a"
             ],
             [
              0.8888888888888888,
              "#fdca26"
             ],
             [
              1.0,
              "#f0f921"
             ]
            ]
           }
          ],
          "choropleth": [
           {
            "type": "choropleth",
            "colorbar": {
             "outlinewidth": 0,
             "ticks": ""
            }
           }
          ],
          "histogram2d": [
           {
            "type": "histogram2d",
            "colorbar": {
             "outlinewidth": 0,
             "ticks": ""
            },
            "colorscale": [
             [
              0.0,
              "#0d0887"
             ],
             [
              0.1111111111111111,
              "#46039f"
             ],
             [
              0.2222222222222222,
              "#7201a8"
             ],
             [
              0.3333333333333333,
              "#9c179e"
             ],
             [
              0.4444444444444444,
              "#bd3786"
             ],
             [
              0.5555555555555556,
              "#d8576b"
             ],
             [
              0.6666666666666666,
              "#ed7953"
             ],
             [
              0.7777777777777778,
              "#fb9f3a"
             ],
             [
              0.8888888888888888,
              "#fdca26"
             ],
             [
              1.0,
              "#f0f921"
             ]
            ]
           }
          ],
          "heatmap": [
           {
            "type": "heatmap",
            "colorbar": {
             "outlinewidth": 0,
             "ticks": ""
            },
            "colorscale": [
             [
              0.0,
              "#0d0887"
             ],
             [
              0.1111111111111111,
              "#46039f"
             ],
             [
              0.2222222222222222,
              "#7201a8"
             ],
             [
              0.3333333333333333,
              "#9c179e"
             ],
             [
              0.4444444444444444,
              "#bd3786"
             ],
             [
              0.5555555555555556,
              "#d8576b"
             ],
             [
              0.6666666666666666,
              "#ed7953"
             ],
             [
              0.7777777777777778,
              "#fb9f3a"
             ],
             [
              0.8888888888888888,
              "#fdca26"
             ],
             [
              1.0,
              "#f0f921"
             ]
            ]
           }
          ],
          "heatmapgl": [
           {
            "type": "heatmapgl",
            "colorbar": {
             "outlinewidth": 0,
             "ticks": ""
            },
            "colorscale": [
             [
              0.0,
              "#0d0887"
             ],
             [
              0.1111111111111111,
              "#46039f"
             ],
             [
              0.2222222222222222,
              "#7201a8"
             ],
             [
              0.3333333333333333,
              "#9c179e"
             ],
             [
              0.4444444444444444,
              "#bd3786"
             ],
             [
              0.5555555555555556,
              "#d8576b"
             ],
             [
              0.6666666666666666,
              "#ed7953"
             ],
             [
              0.7777777777777778,
              "#fb9f3a"
             ],
             [
              0.8888888888888888,
              "#fdca26"
             ],
             [
              1.0,
              "#f0f921"
             ]
            ]
           }
          ],
          "contourcarpet": [
           {
            "type": "contourcarpet",
            "colorbar": {
             "outlinewidth": 0,
             "ticks": ""
            }
           }
          ],
          "contour": [
           {
            "type": "contour",
            "colorbar": {
             "outlinewidth": 0,
             "ticks": ""
            },
            "colorscale": [
             [
              0.0,
              "#0d0887"
             ],
             [
              0.1111111111111111,
              "#46039f"
             ],
             [
              0.2222222222222222,
              "#7201a8"
             ],
             [
              0.3333333333333333,
              "#9c179e"
             ],
             [
              0.4444444444444444,
              "#bd3786"
             ],
             [
              0.5555555555555556,
              "#d8576b"
             ],
             [
              0.6666666666666666,
              "#ed7953"
             ],
             [
              0.7777777777777778,
              "#fb9f3a"
             ],
             [
              0.8888888888888888,
              "#fdca26"
             ],
             [
              1.0,
              "#f0f921"
             ]
            ]
           }
          ],
          "surface": [
           {
            "type": "surface",
            "colorbar": {
             "outlinewidth": 0,
             "ticks": ""
            },
            "colorscale": [
             [
              0.0,
              "#0d0887"
             ],
             [
              0.1111111111111111,
              "#46039f"
             ],
             [
              0.2222222222222222,
              "#7201a8"
             ],
             [
              0.3333333333333333,
              "#9c179e"
             ],
             [
              0.4444444444444444,
              "#bd3786"
             ],
             [
              0.5555555555555556,
              "#d8576b"
             ],
             [
              0.6666666666666666,
              "#ed7953"
             ],
             [
              0.7777777777777778,
              "#fb9f3a"
             ],
             [
              0.8888888888888888,
              "#fdca26"
             ],
             [
              1.0,
              "#f0f921"
             ]
            ]
           }
          ],
          "mesh3d": [
           {
            "type": "mesh3d",
            "colorbar": {
             "outlinewidth": 0,
             "ticks": ""
            }
           }
          ],
          "scatter": [
           {
            "fillpattern": {
             "fillmode": "overlay",
             "size": 10,
             "solidity": 0.2
            },
            "type": "scatter"
           }
          ],
          "parcoords": [
           {
            "type": "parcoords",
            "line": {
             "colorbar": {
              "outlinewidth": 0,
              "ticks": ""
             }
            }
           }
          ],
          "scatterpolargl": [
           {
            "type": "scatterpolargl",
            "marker": {
             "colorbar": {
              "outlinewidth": 0,
              "ticks": ""
             }
            }
           }
          ],
          "bar": [
           {
            "error_x": {
             "color": "#2a3f5f"
            },
            "error_y": {
             "color": "#2a3f5f"
            },
            "marker": {
             "line": {
              "color": "#E5ECF6",
              "width": 0.5
             },
             "pattern": {
              "fillmode": "overlay",
              "size": 10,
              "solidity": 0.2
             }
            },
            "type": "bar"
           }
          ],
          "scattergeo": [
           {
            "type": "scattergeo",
            "marker": {
             "colorbar": {
              "outlinewidth": 0,
              "ticks": ""
             }
            }
           }
          ],
          "scatterpolar": [
           {
            "type": "scatterpolar",
            "marker": {
             "colorbar": {
              "outlinewidth": 0,
              "ticks": ""
             }
            }
           }
          ],
          "histogram": [
           {
            "marker": {
             "pattern": {
              "fillmode": "overlay",
              "size": 10,
              "solidity": 0.2
             }
            },
            "type": "histogram"
           }
          ],
          "scattergl": [
           {
            "type": "scattergl",
            "marker": {
             "colorbar": {
              "outlinewidth": 0,
              "ticks": ""
             }
            }
           }
          ],
          "scatter3d": [
           {
            "type": "scatter3d",
            "line": {
             "colorbar": {
              "outlinewidth": 0,
              "ticks": ""
             }
            },
            "marker": {
             "colorbar": {
              "outlinewidth": 0,
              "ticks": ""
             }
            }
           }
          ],
          "scattermapbox": [
           {
            "type": "scattermapbox",
            "marker": {
             "colorbar": {
              "outlinewidth": 0,
              "ticks": ""
             }
            }
           }
          ],
          "scatterternary": [
           {
            "type": "scatterternary",
            "marker": {
             "colorbar": {
              "outlinewidth": 0,
              "ticks": ""
             }
            }
           }
          ],
          "scattercarpet": [
           {
            "type": "scattercarpet",
            "marker": {
             "colorbar": {
              "outlinewidth": 0,
              "ticks": ""
             }
            }
           }
          ],
          "carpet": [
           {
            "aaxis": {
             "endlinecolor": "#2a3f5f",
             "gridcolor": "white",
             "linecolor": "white",
             "minorgridcolor": "white",
             "startlinecolor": "#2a3f5f"
            },
            "baxis": {
             "endlinecolor": "#2a3f5f",
             "gridcolor": "white",
             "linecolor": "white",
             "minorgridcolor": "white",
             "startlinecolor": "#2a3f5f"
            },
            "type": "carpet"
           }
          ],
          "table": [
           {
            "cells": {
             "fill": {
              "color": "#EBF0F8"
             },
             "line": {
              "color": "white"
             }
            },
            "header": {
             "fill": {
              "color": "#C8D4E3"
             },
             "line": {
              "color": "white"
             }
            },
            "type": "table"
           }
          ],
          "barpolar": [
           {
            "marker": {
             "line": {
              "color": "#E5ECF6",
              "width": 0.5
             },
             "pattern": {
              "fillmode": "overlay",
              "size": 10,
              "solidity": 0.2
             }
            },
            "type": "barpolar"
           }
          ],
          "pie": [
           {
            "automargin": true,
            "type": "pie"
           }
          ]
         },
         "layout": {
          "autotypenumbers": "strict",
          "colorway": [
           "#636efa",
           "#EF553B",
           "#00cc96",
           "#ab63fa",
           "#FFA15A",
           "#19d3f3",
           "#FF6692",
           "#B6E880",
           "#FF97FF",
           "#FECB52"
          ],
          "font": {
           "color": "#2a3f5f"
          },
          "hovermode": "closest",
          "hoverlabel": {
           "align": "left"
          },
          "paper_bgcolor": "white",
          "plot_bgcolor": "#E5ECF6",
          "polar": {
           "bgcolor": "#E5ECF6",
           "angularaxis": {
            "gridcolor": "white",
            "linecolor": "white",
            "ticks": ""
           },
           "radialaxis": {
            "gridcolor": "white",
            "linecolor": "white",
            "ticks": ""
           }
          },
          "ternary": {
           "bgcolor": "#E5ECF6",
           "aaxis": {
            "gridcolor": "white",
            "linecolor": "white",
            "ticks": ""
           },
           "baxis": {
            "gridcolor": "white",
            "linecolor": "white",
            "ticks": ""
           },
           "caxis": {
            "gridcolor": "white",
            "linecolor": "white",
            "ticks": ""
           }
          },
          "coloraxis": {
           "colorbar": {
            "outlinewidth": 0,
            "ticks": ""
           }
          },
          "colorscale": {
           "sequential": [
            [
             0.0,
             "#0d0887"
            ],
            [
             0.1111111111111111,
             "#46039f"
            ],
            [
             0.2222222222222222,
             "#7201a8"
            ],
            [
             0.3333333333333333,
             "#9c179e"
            ],
            [
             0.4444444444444444,
             "#bd3786"
            ],
            [
             0.5555555555555556,
             "#d8576b"
            ],
            [
             0.6666666666666666,
             "#ed7953"
            ],
            [
             0.7777777777777778,
             "#fb9f3a"
            ],
            [
             0.8888888888888888,
             "#fdca26"
            ],
            [
             1.0,
             "#f0f921"
            ]
           ],
           "sequentialminus": [
            [
             0.0,
             "#0d0887"
            ],
            [
             0.1111111111111111,
             "#46039f"
            ],
            [
             0.2222222222222222,
             "#7201a8"
            ],
            [
             0.3333333333333333,
             "#9c179e"
            ],
            [
             0.4444444444444444,
             "#bd3786"
            ],
            [
             0.5555555555555556,
             "#d8576b"
            ],
            [
             0.6666666666666666,
             "#ed7953"
            ],
            [
             0.7777777777777778,
             "#fb9f3a"
            ],
            [
             0.8888888888888888,
             "#fdca26"
            ],
            [
             1.0,
             "#f0f921"
            ]
           ],
           "diverging": [
            [
             0,
             "#8e0152"
            ],
            [
             0.1,
             "#c51b7d"
            ],
            [
             0.2,
             "#de77ae"
            ],
            [
             0.3,
             "#f1b6da"
            ],
            [
             0.4,
             "#fde0ef"
            ],
            [
             0.5,
             "#f7f7f7"
            ],
            [
             0.6,
             "#e6f5d0"
            ],
            [
             0.7,
             "#b8e186"
            ],
            [
             0.8,
             "#7fbc41"
            ],
            [
             0.9,
             "#4d9221"
            ],
            [
             1,
             "#276419"
            ]
           ]
          },
          "xaxis": {
           "gridcolor": "white",
           "linecolor": "white",
           "ticks": "",
           "title": {
            "standoff": 15
           },
           "zerolinecolor": "white",
           "automargin": true,
           "zerolinewidth": 2
          },
          "yaxis": {
           "gridcolor": "white",
           "linecolor": "white",
           "ticks": "",
           "title": {
            "standoff": 15
           },
           "zerolinecolor": "white",
           "automargin": true,
           "zerolinewidth": 2
          },
          "scene": {
           "xaxis": {
            "backgroundcolor": "#E5ECF6",
            "gridcolor": "white",
            "linecolor": "white",
            "showbackground": true,
            "ticks": "",
            "zerolinecolor": "white",
            "gridwidth": 2
           },
           "yaxis": {
            "backgroundcolor": "#E5ECF6",
            "gridcolor": "white",
            "linecolor": "white",
            "showbackground": true,
            "ticks": "",
            "zerolinecolor": "white",
            "gridwidth": 2
           },
           "zaxis": {
            "backgroundcolor": "#E5ECF6",
            "gridcolor": "white",
            "linecolor": "white",
            "showbackground": true,
            "ticks": "",
            "zerolinecolor": "white",
            "gridwidth": 2
           }
          },
          "shapedefaults": {
           "line": {
            "color": "#2a3f5f"
           }
          },
          "annotationdefaults": {
           "arrowcolor": "#2a3f5f",
           "arrowhead": 0,
           "arrowwidth": 1
          },
          "geo": {
           "bgcolor": "white",
           "landcolor": "#E5ECF6",
           "subunitcolor": "white",
           "showland": true,
           "showlakes": true,
           "lakecolor": "white"
          },
          "title": {
           "x": 0.05
          },
          "mapbox": {
           "style": "light"
          }
         }
        },
        "xaxis": {
         "anchor": "y",
         "domain": [
          0.0,
          1.0
         ],
         "title": {
          "text": "Model"
         },
         "categoryorder": "array",
         "categoryarray": [
          "F1 Bloomz-560M",
          "F1 Bloomz-1b1",
          "F1 Bloomz-1b7",
          "F1 Bloomz-3b",
          "F1 Bloomz-7b1"
         ]
        },
        "yaxis": {
         "anchor": "x",
         "domain": [
          0.0,
          1.0
         ],
         "title": {
          "text": "F1 Score"
         }
        },
        "legend": {
         "title": {
          "text": "Model"
         },
         "tracegroupgap": 0
        },
        "title": {
         "text": "Box Plot for F1 Scores by Model (Resource Level = 4, Only Bloomz = True, Only Bloom = False)"
        },
        "boxmode": "overlay"
       },
       "config": {
        "plotlyServerURL": "https://plot.ly"
       }
      }
     },
     "metadata": {},
     "output_type": "display_data"
    }
   ],
   "source": [
    "import plotly.express as px\n",
    "\n",
    "only_bloomz = True\n",
    "only_bloom = False\n",
    "\n",
    "# we can filter based on 'Language Family', 'Script (ISO 15924)', 'Resource Level', 'Population', 'Language Vitality', 'Digital Language Support'.\n",
    "filter = 'Resource Level'\n",
    "\n",
    "for value in df[filter].unique():\n",
    "    filtered_df = filter_df(melted_df, filter, value, only_bloom, only_bloomz)\n",
    "    fig = px.box(filtered_df, x='Model', y='F1 Score',\n",
    "                 color='Model', title=f'Box Plot for F1 Scores by Model ({filter} = {value}, Only Bloomz = {only_bloomz}, Only Bloom = {only_bloom})',\n",
    "                 labels={'F1 Score': 'F1 Score', 'Model': 'Model'})\n",
    "    fig.show()\n",
    "# Create a scatter plot using Plotly Express\n",
    "# fig = px.scatter(melted_df, x='Language Name', y='F1 Score', color='Model',\n",
    "#                  facet_col='Language Family', facet_col_wrap=3,\n",
    "#                  labels={'F1 Score': 'F1 Score', 'Language Name': 'Language Name'},\n",
    "#                  title='F1 Score by Language and Model')\n",
    "# \n",
    "# # Customize layout if needed\n",
    "# fig.update_layout(height=2000, width=1200)\n",
    "# \n",
    "# # Show the plot\n",
    "# fig.show()"
   ]
  },
  {
   "cell_type": "code",
   "execution_count": 28,
   "id": "e02f59011107c742",
   "metadata": {
    "collapsed": false,
    "ExecuteTime": {
     "end_time": "2024-01-23T00:30:15.091362058Z",
     "start_time": "2024-01-23T00:30:14.845259759Z"
    }
   },
   "outputs": [
    {
     "data": {
      "application/vnd.plotly.v1+json": {
       "data": [
        {
         "hovertemplate": "Model=F1 Bloomz-560M<br>F1 Score=%{r}<br>Language Name=%{theta}<extra></extra>",
         "legendgroup": "F1 Bloomz-560M",
         "line": {
          "color": "#636efa",
          "dash": "solid"
         },
         "marker": {
          "symbol": "circle"
         },
         "mode": "lines",
         "name": "F1 Bloomz-560M",
         "r": [
          0.310248032497588,
          0.2381400853513182,
          0.3845072479730258,
          0.2696717407032516,
          0.4155700502492404,
          0.3004678350313753,
          0.3289811586801084,
          0.3541884707588369,
          0.2676852641414497,
          0.3940721003134797,
          0.3797122576790298,
          0.3179982642356503,
          0.3316350632979521,
          0.398363107814965,
          0.2822332003559516,
          0.4517532997786543,
          0.2739054257778704,
          0.2544030794975366,
          0.3185596008615901,
          0.310248032497588
         ],
         "showlegend": true,
         "subplot": "polar",
         "theta": [
          "Akan",
          "Bamanankan",
          "Gujarati",
          "Igbo",
          "Kannada",
          "Gikuyu",
          "Kinyarwanda",
          "Lingala",
          "Ganda",
          "Malayalam",
          "Nepali",
          "Northern Sotho",
          "Chichewa",
          "Odia",
          "Shona",
          "Telugu",
          "Tsonga",
          "Tumbuka",
          "Twi",
          "Akan"
         ],
         "type": "scatterpolar"
        },
        {
         "hovertemplate": "Model=F1 Bloomz-1b1<br>F1 Score=%{r}<br>Language Name=%{theta}<extra></extra>",
         "legendgroup": "F1 Bloomz-1b1",
         "line": {
          "color": "#EF553B",
          "dash": "solid"
         },
         "marker": {
          "symbol": "circle"
         },
         "mode": "lines",
         "name": "F1 Bloomz-1b1",
         "r": [
          0.262674584103155,
          0.214927666218214,
          0.322892437892438,
          0.126027206624222,
          0.356474511804722,
          0.23923384139014,
          0.245435988160446,
          0.201011804706723,
          0.170918490311385,
          0.278987678987679,
          0.350477481358988,
          0.203512217437256,
          0.216358190551174,
          0.309623824451411,
          0.17211408876447,
          0.282353353259854,
          0.171368317549035,
          0.192519892760646,
          0.300408096510152,
          0.262674584103155
         ],
         "showlegend": true,
         "subplot": "polar",
         "theta": [
          "Akan",
          "Bamanankan",
          "Gujarati",
          "Igbo",
          "Kannada",
          "Gikuyu",
          "Kinyarwanda",
          "Lingala",
          "Ganda",
          "Malayalam",
          "Nepali",
          "Northern Sotho",
          "Chichewa",
          "Odia",
          "Shona",
          "Telugu",
          "Tsonga",
          "Tumbuka",
          "Twi",
          "Akan"
         ],
         "type": "scatterpolar"
        },
        {
         "hovertemplate": "Model=F1 Bloomz-1b7<br>F1 Score=%{r}<br>Language Name=%{theta}<extra></extra>",
         "legendgroup": "F1 Bloomz-1b7",
         "line": {
          "color": "#00cc96",
          "dash": "solid"
         },
         "marker": {
          "symbol": "circle"
         },
         "mode": "lines",
         "name": "F1 Bloomz-1b7",
         "r": [
          0.244945394372259,
          0.219351312514928,
          0.364085655417324,
          0.281614651244289,
          0.363795071814554,
          0.253471745367692,
          0.233773478955778,
          0.285437381341086,
          0.206216332752969,
          0.347828292580985,
          0.373902967913712,
          0.23503584392302,
          0.242067739519014,
          0.380685614624586,
          0.208373422457012,
          0.354524389406839,
          0.220985646633144,
          0.219629897121645,
          0.279117150983332,
          0.244945394372259
         ],
         "showlegend": true,
         "subplot": "polar",
         "theta": [
          "Akan",
          "Bamanankan",
          "Gujarati",
          "Igbo",
          "Kannada",
          "Gikuyu",
          "Kinyarwanda",
          "Lingala",
          "Ganda",
          "Malayalam",
          "Nepali",
          "Northern Sotho",
          "Chichewa",
          "Odia",
          "Shona",
          "Telugu",
          "Tsonga",
          "Tumbuka",
          "Twi",
          "Akan"
         ],
         "type": "scatterpolar"
        },
        {
         "hovertemplate": "Model=F1 Bloomz-3b<br>F1 Score=%{r}<br>Language Name=%{theta}<extra></extra>",
         "legendgroup": "F1 Bloomz-3b",
         "line": {
          "color": "#ab63fa",
          "dash": "solid"
         },
         "marker": {
          "symbol": "circle"
         },
         "mode": "lines",
         "name": "F1 Bloomz-3b",
         "r": [
          0.353334084969588,
          0.303137833497269,
          0.468589619504254,
          0.374499537450028,
          0.467202146332743,
          0.358427308795794,
          0.390438352027084,
          0.357771463913372,
          0.344421994995854,
          0.474578989869755,
          0.493562392795883,
          0.366645206626145,
          0.367978570924484,
          0.475748646482015,
          0.385213801396446,
          0.480511036927889,
          0.344928118855106,
          0.342146274777854,
          0.382615844521307,
          0.353334084969588
         ],
         "showlegend": true,
         "subplot": "polar",
         "theta": [
          "Akan",
          "Bamanankan",
          "Gujarati",
          "Igbo",
          "Kannada",
          "Gikuyu",
          "Kinyarwanda",
          "Lingala",
          "Ganda",
          "Malayalam",
          "Nepali",
          "Northern Sotho",
          "Chichewa",
          "Odia",
          "Shona",
          "Telugu",
          "Tsonga",
          "Tumbuka",
          "Twi",
          "Akan"
         ],
         "type": "scatterpolar"
        },
        {
         "hovertemplate": "Model=F1 Bloomz-7b1<br>F1 Score=%{r}<br>Language Name=%{theta}<extra></extra>",
         "legendgroup": "F1 Bloomz-7b1",
         "line": {
          "color": "#FFA15A",
          "dash": "solid"
         },
         "marker": {
          "symbol": "circle"
         },
         "mode": "lines",
         "name": "F1 Bloomz-7b1",
         "r": [
          0.404,
          0.3603,
          0.5185,
          0.445,
          0.5266,
          0.4421,
          0.4438,
          0.451,
          0.3428,
          0.515,
          0.5313,
          0.4258,
          0.3984,
          0.5375,
          0.463,
          0.5113,
          0.4101,
          0.436,
          0.4153,
          0.404
         ],
         "showlegend": true,
         "subplot": "polar",
         "theta": [
          "Akan",
          "Bamanankan",
          "Gujarati",
          "Igbo",
          "Kannada",
          "Gikuyu",
          "Kinyarwanda",
          "Lingala",
          "Ganda",
          "Malayalam",
          "Nepali",
          "Northern Sotho",
          "Chichewa",
          "Odia",
          "Shona",
          "Telugu",
          "Tsonga",
          "Tumbuka",
          "Twi",
          "Akan"
         ],
         "type": "scatterpolar"
        }
       ],
       "layout": {
        "template": {
         "data": {
          "histogram2dcontour": [
           {
            "type": "histogram2dcontour",
            "colorbar": {
             "outlinewidth": 0,
             "ticks": ""
            },
            "colorscale": [
             [
              0.0,
              "#0d0887"
             ],
             [
              0.1111111111111111,
              "#46039f"
             ],
             [
              0.2222222222222222,
              "#7201a8"
             ],
             [
              0.3333333333333333,
              "#9c179e"
             ],
             [
              0.4444444444444444,
              "#bd3786"
             ],
             [
              0.5555555555555556,
              "#d8576b"
             ],
             [
              0.6666666666666666,
              "#ed7953"
             ],
             [
              0.7777777777777778,
              "#fb9f3a"
             ],
             [
              0.8888888888888888,
              "#fdca26"
             ],
             [
              1.0,
              "#f0f921"
             ]
            ]
           }
          ],
          "choropleth": [
           {
            "type": "choropleth",
            "colorbar": {
             "outlinewidth": 0,
             "ticks": ""
            }
           }
          ],
          "histogram2d": [
           {
            "type": "histogram2d",
            "colorbar": {
             "outlinewidth": 0,
             "ticks": ""
            },
            "colorscale": [
             [
              0.0,
              "#0d0887"
             ],
             [
              0.1111111111111111,
              "#46039f"
             ],
             [
              0.2222222222222222,
              "#7201a8"
             ],
             [
              0.3333333333333333,
              "#9c179e"
             ],
             [
              0.4444444444444444,
              "#bd3786"
             ],
             [
              0.5555555555555556,
              "#d8576b"
             ],
             [
              0.6666666666666666,
              "#ed7953"
             ],
             [
              0.7777777777777778,
              "#fb9f3a"
             ],
             [
              0.8888888888888888,
              "#fdca26"
             ],
             [
              1.0,
              "#f0f921"
             ]
            ]
           }
          ],
          "heatmap": [
           {
            "type": "heatmap",
            "colorbar": {
             "outlinewidth": 0,
             "ticks": ""
            },
            "colorscale": [
             [
              0.0,
              "#0d0887"
             ],
             [
              0.1111111111111111,
              "#46039f"
             ],
             [
              0.2222222222222222,
              "#7201a8"
             ],
             [
              0.3333333333333333,
              "#9c179e"
             ],
             [
              0.4444444444444444,
              "#bd3786"
             ],
             [
              0.5555555555555556,
              "#d8576b"
             ],
             [
              0.6666666666666666,
              "#ed7953"
             ],
             [
              0.7777777777777778,
              "#fb9f3a"
             ],
             [
              0.8888888888888888,
              "#fdca26"
             ],
             [
              1.0,
              "#f0f921"
             ]
            ]
           }
          ],
          "heatmapgl": [
           {
            "type": "heatmapgl",
            "colorbar": {
             "outlinewidth": 0,
             "ticks": ""
            },
            "colorscale": [
             [
              0.0,
              "#0d0887"
             ],
             [
              0.1111111111111111,
              "#46039f"
             ],
             [
              0.2222222222222222,
              "#7201a8"
             ],
             [
              0.3333333333333333,
              "#9c179e"
             ],
             [
              0.4444444444444444,
              "#bd3786"
             ],
             [
              0.5555555555555556,
              "#d8576b"
             ],
             [
              0.6666666666666666,
              "#ed7953"
             ],
             [
              0.7777777777777778,
              "#fb9f3a"
             ],
             [
              0.8888888888888888,
              "#fdca26"
             ],
             [
              1.0,
              "#f0f921"
             ]
            ]
           }
          ],
          "contourcarpet": [
           {
            "type": "contourcarpet",
            "colorbar": {
             "outlinewidth": 0,
             "ticks": ""
            }
           }
          ],
          "contour": [
           {
            "type": "contour",
            "colorbar": {
             "outlinewidth": 0,
             "ticks": ""
            },
            "colorscale": [
             [
              0.0,
              "#0d0887"
             ],
             [
              0.1111111111111111,
              "#46039f"
             ],
             [
              0.2222222222222222,
              "#7201a8"
             ],
             [
              0.3333333333333333,
              "#9c179e"
             ],
             [
              0.4444444444444444,
              "#bd3786"
             ],
             [
              0.5555555555555556,
              "#d8576b"
             ],
             [
              0.6666666666666666,
              "#ed7953"
             ],
             [
              0.7777777777777778,
              "#fb9f3a"
             ],
             [
              0.8888888888888888,
              "#fdca26"
             ],
             [
              1.0,
              "#f0f921"
             ]
            ]
           }
          ],
          "surface": [
           {
            "type": "surface",
            "colorbar": {
             "outlinewidth": 0,
             "ticks": ""
            },
            "colorscale": [
             [
              0.0,
              "#0d0887"
             ],
             [
              0.1111111111111111,
              "#46039f"
             ],
             [
              0.2222222222222222,
              "#7201a8"
             ],
             [
              0.3333333333333333,
              "#9c179e"
             ],
             [
              0.4444444444444444,
              "#bd3786"
             ],
             [
              0.5555555555555556,
              "#d8576b"
             ],
             [
              0.6666666666666666,
              "#ed7953"
             ],
             [
              0.7777777777777778,
              "#fb9f3a"
             ],
             [
              0.8888888888888888,
              "#fdca26"
             ],
             [
              1.0,
              "#f0f921"
             ]
            ]
           }
          ],
          "mesh3d": [
           {
            "type": "mesh3d",
            "colorbar": {
             "outlinewidth": 0,
             "ticks": ""
            }
           }
          ],
          "scatter": [
           {
            "fillpattern": {
             "fillmode": "overlay",
             "size": 10,
             "solidity": 0.2
            },
            "type": "scatter"
           }
          ],
          "parcoords": [
           {
            "type": "parcoords",
            "line": {
             "colorbar": {
              "outlinewidth": 0,
              "ticks": ""
             }
            }
           }
          ],
          "scatterpolargl": [
           {
            "type": "scatterpolargl",
            "marker": {
             "colorbar": {
              "outlinewidth": 0,
              "ticks": ""
             }
            }
           }
          ],
          "bar": [
           {
            "error_x": {
             "color": "#2a3f5f"
            },
            "error_y": {
             "color": "#2a3f5f"
            },
            "marker": {
             "line": {
              "color": "#E5ECF6",
              "width": 0.5
             },
             "pattern": {
              "fillmode": "overlay",
              "size": 10,
              "solidity": 0.2
             }
            },
            "type": "bar"
           }
          ],
          "scattergeo": [
           {
            "type": "scattergeo",
            "marker": {
             "colorbar": {
              "outlinewidth": 0,
              "ticks": ""
             }
            }
           }
          ],
          "scatterpolar": [
           {
            "type": "scatterpolar",
            "marker": {
             "colorbar": {
              "outlinewidth": 0,
              "ticks": ""
             }
            }
           }
          ],
          "histogram": [
           {
            "marker": {
             "pattern": {
              "fillmode": "overlay",
              "size": 10,
              "solidity": 0.2
             }
            },
            "type": "histogram"
           }
          ],
          "scattergl": [
           {
            "type": "scattergl",
            "marker": {
             "colorbar": {
              "outlinewidth": 0,
              "ticks": ""
             }
            }
           }
          ],
          "scatter3d": [
           {
            "type": "scatter3d",
            "line": {
             "colorbar": {
              "outlinewidth": 0,
              "ticks": ""
             }
            },
            "marker": {
             "colorbar": {
              "outlinewidth": 0,
              "ticks": ""
             }
            }
           }
          ],
          "scattermapbox": [
           {
            "type": "scattermapbox",
            "marker": {
             "colorbar": {
              "outlinewidth": 0,
              "ticks": ""
             }
            }
           }
          ],
          "scatterternary": [
           {
            "type": "scatterternary",
            "marker": {
             "colorbar": {
              "outlinewidth": 0,
              "ticks": ""
             }
            }
           }
          ],
          "scattercarpet": [
           {
            "type": "scattercarpet",
            "marker": {
             "colorbar": {
              "outlinewidth": 0,
              "ticks": ""
             }
            }
           }
          ],
          "carpet": [
           {
            "aaxis": {
             "endlinecolor": "#2a3f5f",
             "gridcolor": "white",
             "linecolor": "white",
             "minorgridcolor": "white",
             "startlinecolor": "#2a3f5f"
            },
            "baxis": {
             "endlinecolor": "#2a3f5f",
             "gridcolor": "white",
             "linecolor": "white",
             "minorgridcolor": "white",
             "startlinecolor": "#2a3f5f"
            },
            "type": "carpet"
           }
          ],
          "table": [
           {
            "cells": {
             "fill": {
              "color": "#EBF0F8"
             },
             "line": {
              "color": "white"
             }
            },
            "header": {
             "fill": {
              "color": "#C8D4E3"
             },
             "line": {
              "color": "white"
             }
            },
            "type": "table"
           }
          ],
          "barpolar": [
           {
            "marker": {
             "line": {
              "color": "#E5ECF6",
              "width": 0.5
             },
             "pattern": {
              "fillmode": "overlay",
              "size": 10,
              "solidity": 0.2
             }
            },
            "type": "barpolar"
           }
          ],
          "pie": [
           {
            "automargin": true,
            "type": "pie"
           }
          ]
         },
         "layout": {
          "autotypenumbers": "strict",
          "colorway": [
           "#636efa",
           "#EF553B",
           "#00cc96",
           "#ab63fa",
           "#FFA15A",
           "#19d3f3",
           "#FF6692",
           "#B6E880",
           "#FF97FF",
           "#FECB52"
          ],
          "font": {
           "color": "#2a3f5f"
          },
          "hovermode": "closest",
          "hoverlabel": {
           "align": "left"
          },
          "paper_bgcolor": "white",
          "plot_bgcolor": "#E5ECF6",
          "polar": {
           "bgcolor": "#E5ECF6",
           "angularaxis": {
            "gridcolor": "white",
            "linecolor": "white",
            "ticks": ""
           },
           "radialaxis": {
            "gridcolor": "white",
            "linecolor": "white",
            "ticks": ""
           }
          },
          "ternary": {
           "bgcolor": "#E5ECF6",
           "aaxis": {
            "gridcolor": "white",
            "linecolor": "white",
            "ticks": ""
           },
           "baxis": {
            "gridcolor": "white",
            "linecolor": "white",
            "ticks": ""
           },
           "caxis": {
            "gridcolor": "white",
            "linecolor": "white",
            "ticks": ""
           }
          },
          "coloraxis": {
           "colorbar": {
            "outlinewidth": 0,
            "ticks": ""
           }
          },
          "colorscale": {
           "sequential": [
            [
             0.0,
             "#0d0887"
            ],
            [
             0.1111111111111111,
             "#46039f"
            ],
            [
             0.2222222222222222,
             "#7201a8"
            ],
            [
             0.3333333333333333,
             "#9c179e"
            ],
            [
             0.4444444444444444,
             "#bd3786"
            ],
            [
             0.5555555555555556,
             "#d8576b"
            ],
            [
             0.6666666666666666,
             "#ed7953"
            ],
            [
             0.7777777777777778,
             "#fb9f3a"
            ],
            [
             0.8888888888888888,
             "#fdca26"
            ],
            [
             1.0,
             "#f0f921"
            ]
           ],
           "sequentialminus": [
            [
             0.0,
             "#0d0887"
            ],
            [
             0.1111111111111111,
             "#46039f"
            ],
            [
             0.2222222222222222,
             "#7201a8"
            ],
            [
             0.3333333333333333,
             "#9c179e"
            ],
            [
             0.4444444444444444,
             "#bd3786"
            ],
            [
             0.5555555555555556,
             "#d8576b"
            ],
            [
             0.6666666666666666,
             "#ed7953"
            ],
            [
             0.7777777777777778,
             "#fb9f3a"
            ],
            [
             0.8888888888888888,
             "#fdca26"
            ],
            [
             1.0,
             "#f0f921"
            ]
           ],
           "diverging": [
            [
             0,
             "#8e0152"
            ],
            [
             0.1,
             "#c51b7d"
            ],
            [
             0.2,
             "#de77ae"
            ],
            [
             0.3,
             "#f1b6da"
            ],
            [
             0.4,
             "#fde0ef"
            ],
            [
             0.5,
             "#f7f7f7"
            ],
            [
             0.6,
             "#e6f5d0"
            ],
            [
             0.7,
             "#b8e186"
            ],
            [
             0.8,
             "#7fbc41"
            ],
            [
             0.9,
             "#4d9221"
            ],
            [
             1,
             "#276419"
            ]
           ]
          },
          "xaxis": {
           "gridcolor": "white",
           "linecolor": "white",
           "ticks": "",
           "title": {
            "standoff": 15
           },
           "zerolinecolor": "white",
           "automargin": true,
           "zerolinewidth": 2
          },
          "yaxis": {
           "gridcolor": "white",
           "linecolor": "white",
           "ticks": "",
           "title": {
            "standoff": 15
           },
           "zerolinecolor": "white",
           "automargin": true,
           "zerolinewidth": 2
          },
          "scene": {
           "xaxis": {
            "backgroundcolor": "#E5ECF6",
            "gridcolor": "white",
            "linecolor": "white",
            "showbackground": true,
            "ticks": "",
            "zerolinecolor": "white",
            "gridwidth": 2
           },
           "yaxis": {
            "backgroundcolor": "#E5ECF6",
            "gridcolor": "white",
            "linecolor": "white",
            "showbackground": true,
            "ticks": "",
            "zerolinecolor": "white",
            "gridwidth": 2
           },
           "zaxis": {
            "backgroundcolor": "#E5ECF6",
            "gridcolor": "white",
            "linecolor": "white",
            "showbackground": true,
            "ticks": "",
            "zerolinecolor": "white",
            "gridwidth": 2
           }
          },
          "shapedefaults": {
           "line": {
            "color": "#2a3f5f"
           }
          },
          "annotationdefaults": {
           "arrowcolor": "#2a3f5f",
           "arrowhead": 0,
           "arrowwidth": 1
          },
          "geo": {
           "bgcolor": "white",
           "landcolor": "#E5ECF6",
           "subunitcolor": "white",
           "showland": true,
           "showlakes": true,
           "lakecolor": "white"
          },
          "title": {
           "x": 0.05
          },
          "mapbox": {
           "style": "light"
          }
         }
        },
        "polar": {
         "domain": {
          "x": [
           0.0,
           1.0
          ],
          "y": [
           0.0,
           1.0
          ]
         },
         "angularaxis": {
          "direction": "clockwise",
          "rotation": 90
         }
        },
        "legend": {
         "title": {
          "text": "Model"
         },
         "tracegroupgap": 0
        },
        "title": {
         "text": "Radar Chart for F1 Scores by Language and Model (1)"
        },
        "height": 600,
        "width": 800
       },
       "config": {
        "plotlyServerURL": "https://plot.ly"
       }
      }
     },
     "metadata": {},
     "output_type": "display_data"
    },
    {
     "data": {
      "application/vnd.plotly.v1+json": {
       "data": [],
       "layout": {
        "template": {
         "data": {
          "histogram2dcontour": [
           {
            "type": "histogram2dcontour",
            "colorbar": {
             "outlinewidth": 0,
             "ticks": ""
            },
            "colorscale": [
             [
              0.0,
              "#0d0887"
             ],
             [
              0.1111111111111111,
              "#46039f"
             ],
             [
              0.2222222222222222,
              "#7201a8"
             ],
             [
              0.3333333333333333,
              "#9c179e"
             ],
             [
              0.4444444444444444,
              "#bd3786"
             ],
             [
              0.5555555555555556,
              "#d8576b"
             ],
             [
              0.6666666666666666,
              "#ed7953"
             ],
             [
              0.7777777777777778,
              "#fb9f3a"
             ],
             [
              0.8888888888888888,
              "#fdca26"
             ],
             [
              1.0,
              "#f0f921"
             ]
            ]
           }
          ],
          "choropleth": [
           {
            "type": "choropleth",
            "colorbar": {
             "outlinewidth": 0,
             "ticks": ""
            }
           }
          ],
          "histogram2d": [
           {
            "type": "histogram2d",
            "colorbar": {
             "outlinewidth": 0,
             "ticks": ""
            },
            "colorscale": [
             [
              0.0,
              "#0d0887"
             ],
             [
              0.1111111111111111,
              "#46039f"
             ],
             [
              0.2222222222222222,
              "#7201a8"
             ],
             [
              0.3333333333333333,
              "#9c179e"
             ],
             [
              0.4444444444444444,
              "#bd3786"
             ],
             [
              0.5555555555555556,
              "#d8576b"
             ],
             [
              0.6666666666666666,
              "#ed7953"
             ],
             [
              0.7777777777777778,
              "#fb9f3a"
             ],
             [
              0.8888888888888888,
              "#fdca26"
             ],
             [
              1.0,
              "#f0f921"
             ]
            ]
           }
          ],
          "heatmap": [
           {
            "type": "heatmap",
            "colorbar": {
             "outlinewidth": 0,
             "ticks": ""
            },
            "colorscale": [
             [
              0.0,
              "#0d0887"
             ],
             [
              0.1111111111111111,
              "#46039f"
             ],
             [
              0.2222222222222222,
              "#7201a8"
             ],
             [
              0.3333333333333333,
              "#9c179e"
             ],
             [
              0.4444444444444444,
              "#bd3786"
             ],
             [
              0.5555555555555556,
              "#d8576b"
             ],
             [
              0.6666666666666666,
              "#ed7953"
             ],
             [
              0.7777777777777778,
              "#fb9f3a"
             ],
             [
              0.8888888888888888,
              "#fdca26"
             ],
             [
              1.0,
              "#f0f921"
             ]
            ]
           }
          ],
          "heatmapgl": [
           {
            "type": "heatmapgl",
            "colorbar": {
             "outlinewidth": 0,
             "ticks": ""
            },
            "colorscale": [
             [
              0.0,
              "#0d0887"
             ],
             [
              0.1111111111111111,
              "#46039f"
             ],
             [
              0.2222222222222222,
              "#7201a8"
             ],
             [
              0.3333333333333333,
              "#9c179e"
             ],
             [
              0.4444444444444444,
              "#bd3786"
             ],
             [
              0.5555555555555556,
              "#d8576b"
             ],
             [
              0.6666666666666666,
              "#ed7953"
             ],
             [
              0.7777777777777778,
              "#fb9f3a"
             ],
             [
              0.8888888888888888,
              "#fdca26"
             ],
             [
              1.0,
              "#f0f921"
             ]
            ]
           }
          ],
          "contourcarpet": [
           {
            "type": "contourcarpet",
            "colorbar": {
             "outlinewidth": 0,
             "ticks": ""
            }
           }
          ],
          "contour": [
           {
            "type": "contour",
            "colorbar": {
             "outlinewidth": 0,
             "ticks": ""
            },
            "colorscale": [
             [
              0.0,
              "#0d0887"
             ],
             [
              0.1111111111111111,
              "#46039f"
             ],
             [
              0.2222222222222222,
              "#7201a8"
             ],
             [
              0.3333333333333333,
              "#9c179e"
             ],
             [
              0.4444444444444444,
              "#bd3786"
             ],
             [
              0.5555555555555556,
              "#d8576b"
             ],
             [
              0.6666666666666666,
              "#ed7953"
             ],
             [
              0.7777777777777778,
              "#fb9f3a"
             ],
             [
              0.8888888888888888,
              "#fdca26"
             ],
             [
              1.0,
              "#f0f921"
             ]
            ]
           }
          ],
          "surface": [
           {
            "type": "surface",
            "colorbar": {
             "outlinewidth": 0,
             "ticks": ""
            },
            "colorscale": [
             [
              0.0,
              "#0d0887"
             ],
             [
              0.1111111111111111,
              "#46039f"
             ],
             [
              0.2222222222222222,
              "#7201a8"
             ],
             [
              0.3333333333333333,
              "#9c179e"
             ],
             [
              0.4444444444444444,
              "#bd3786"
             ],
             [
              0.5555555555555556,
              "#d8576b"
             ],
             [
              0.6666666666666666,
              "#ed7953"
             ],
             [
              0.7777777777777778,
              "#fb9f3a"
             ],
             [
              0.8888888888888888,
              "#fdca26"
             ],
             [
              1.0,
              "#f0f921"
             ]
            ]
           }
          ],
          "mesh3d": [
           {
            "type": "mesh3d",
            "colorbar": {
             "outlinewidth": 0,
             "ticks": ""
            }
           }
          ],
          "scatter": [
           {
            "fillpattern": {
             "fillmode": "overlay",
             "size": 10,
             "solidity": 0.2
            },
            "type": "scatter"
           }
          ],
          "parcoords": [
           {
            "type": "parcoords",
            "line": {
             "colorbar": {
              "outlinewidth": 0,
              "ticks": ""
             }
            }
           }
          ],
          "scatterpolargl": [
           {
            "type": "scatterpolargl",
            "marker": {
             "colorbar": {
              "outlinewidth": 0,
              "ticks": ""
             }
            }
           }
          ],
          "bar": [
           {
            "error_x": {
             "color": "#2a3f5f"
            },
            "error_y": {
             "color": "#2a3f5f"
            },
            "marker": {
             "line": {
              "color": "#E5ECF6",
              "width": 0.5
             },
             "pattern": {
              "fillmode": "overlay",
              "size": 10,
              "solidity": 0.2
             }
            },
            "type": "bar"
           }
          ],
          "scattergeo": [
           {
            "type": "scattergeo",
            "marker": {
             "colorbar": {
              "outlinewidth": 0,
              "ticks": ""
             }
            }
           }
          ],
          "scatterpolar": [
           {
            "type": "scatterpolar",
            "marker": {
             "colorbar": {
              "outlinewidth": 0,
              "ticks": ""
             }
            }
           }
          ],
          "histogram": [
           {
            "marker": {
             "pattern": {
              "fillmode": "overlay",
              "size": 10,
              "solidity": 0.2
             }
            },
            "type": "histogram"
           }
          ],
          "scattergl": [
           {
            "type": "scattergl",
            "marker": {
             "colorbar": {
              "outlinewidth": 0,
              "ticks": ""
             }
            }
           }
          ],
          "scatter3d": [
           {
            "type": "scatter3d",
            "line": {
             "colorbar": {
              "outlinewidth": 0,
              "ticks": ""
             }
            },
            "marker": {
             "colorbar": {
              "outlinewidth": 0,
              "ticks": ""
             }
            }
           }
          ],
          "scattermapbox": [
           {
            "type": "scattermapbox",
            "marker": {
             "colorbar": {
              "outlinewidth": 0,
              "ticks": ""
             }
            }
           }
          ],
          "scatterternary": [
           {
            "type": "scatterternary",
            "marker": {
             "colorbar": {
              "outlinewidth": 0,
              "ticks": ""
             }
            }
           }
          ],
          "scattercarpet": [
           {
            "type": "scattercarpet",
            "marker": {
             "colorbar": {
              "outlinewidth": 0,
              "ticks": ""
             }
            }
           }
          ],
          "carpet": [
           {
            "aaxis": {
             "endlinecolor": "#2a3f5f",
             "gridcolor": "white",
             "linecolor": "white",
             "minorgridcolor": "white",
             "startlinecolor": "#2a3f5f"
            },
            "baxis": {
             "endlinecolor": "#2a3f5f",
             "gridcolor": "white",
             "linecolor": "white",
             "minorgridcolor": "white",
             "startlinecolor": "#2a3f5f"
            },
            "type": "carpet"
           }
          ],
          "table": [
           {
            "cells": {
             "fill": {
              "color": "#EBF0F8"
             },
             "line": {
              "color": "white"
             }
            },
            "header": {
             "fill": {
              "color": "#C8D4E3"
             },
             "line": {
              "color": "white"
             }
            },
            "type": "table"
           }
          ],
          "barpolar": [
           {
            "marker": {
             "line": {
              "color": "#E5ECF6",
              "width": 0.5
             },
             "pattern": {
              "fillmode": "overlay",
              "size": 10,
              "solidity": 0.2
             }
            },
            "type": "barpolar"
           }
          ],
          "pie": [
           {
            "automargin": true,
            "type": "pie"
           }
          ]
         },
         "layout": {
          "autotypenumbers": "strict",
          "colorway": [
           "#636efa",
           "#EF553B",
           "#00cc96",
           "#ab63fa",
           "#FFA15A",
           "#19d3f3",
           "#FF6692",
           "#B6E880",
           "#FF97FF",
           "#FECB52"
          ],
          "font": {
           "color": "#2a3f5f"
          },
          "hovermode": "closest",
          "hoverlabel": {
           "align": "left"
          },
          "paper_bgcolor": "white",
          "plot_bgcolor": "#E5ECF6",
          "polar": {
           "bgcolor": "#E5ECF6",
           "angularaxis": {
            "gridcolor": "white",
            "linecolor": "white",
            "ticks": ""
           },
           "radialaxis": {
            "gridcolor": "white",
            "linecolor": "white",
            "ticks": ""
           }
          },
          "ternary": {
           "bgcolor": "#E5ECF6",
           "aaxis": {
            "gridcolor": "white",
            "linecolor": "white",
            "ticks": ""
           },
           "baxis": {
            "gridcolor": "white",
            "linecolor": "white",
            "ticks": ""
           },
           "caxis": {
            "gridcolor": "white",
            "linecolor": "white",
            "ticks": ""
           }
          },
          "coloraxis": {
           "colorbar": {
            "outlinewidth": 0,
            "ticks": ""
           }
          },
          "colorscale": {
           "sequential": [
            [
             0.0,
             "#0d0887"
            ],
            [
             0.1111111111111111,
             "#46039f"
            ],
            [
             0.2222222222222222,
             "#7201a8"
            ],
            [
             0.3333333333333333,
             "#9c179e"
            ],
            [
             0.4444444444444444,
             "#bd3786"
            ],
            [
             0.5555555555555556,
             "#d8576b"
            ],
            [
             0.6666666666666666,
             "#ed7953"
            ],
            [
             0.7777777777777778,
             "#fb9f3a"
            ],
            [
             0.8888888888888888,
             "#fdca26"
            ],
            [
             1.0,
             "#f0f921"
            ]
           ],
           "sequentialminus": [
            [
             0.0,
             "#0d0887"
            ],
            [
             0.1111111111111111,
             "#46039f"
            ],
            [
             0.2222222222222222,
             "#7201a8"
            ],
            [
             0.3333333333333333,
             "#9c179e"
            ],
            [
             0.4444444444444444,
             "#bd3786"
            ],
            [
             0.5555555555555556,
             "#d8576b"
            ],
            [
             0.6666666666666666,
             "#ed7953"
            ],
            [
             0.7777777777777778,
             "#fb9f3a"
            ],
            [
             0.8888888888888888,
             "#fdca26"
            ],
            [
             1.0,
             "#f0f921"
            ]
           ],
           "diverging": [
            [
             0,
             "#8e0152"
            ],
            [
             0.1,
             "#c51b7d"
            ],
            [
             0.2,
             "#de77ae"
            ],
            [
             0.3,
             "#f1b6da"
            ],
            [
             0.4,
             "#fde0ef"
            ],
            [
             0.5,
             "#f7f7f7"
            ],
            [
             0.6,
             "#e6f5d0"
            ],
            [
             0.7,
             "#b8e186"
            ],
            [
             0.8,
             "#7fbc41"
            ],
            [
             0.9,
             "#4d9221"
            ],
            [
             1,
             "#276419"
            ]
           ]
          },
          "xaxis": {
           "gridcolor": "white",
           "linecolor": "white",
           "ticks": "",
           "title": {
            "standoff": 15
           },
           "zerolinecolor": "white",
           "automargin": true,
           "zerolinewidth": 2
          },
          "yaxis": {
           "gridcolor": "white",
           "linecolor": "white",
           "ticks": "",
           "title": {
            "standoff": 15
           },
           "zerolinecolor": "white",
           "automargin": true,
           "zerolinewidth": 2
          },
          "scene": {
           "xaxis": {
            "backgroundcolor": "#E5ECF6",
            "gridcolor": "white",
            "linecolor": "white",
            "showbackground": true,
            "ticks": "",
            "zerolinecolor": "white",
            "gridwidth": 2
           },
           "yaxis": {
            "backgroundcolor": "#E5ECF6",
            "gridcolor": "white",
            "linecolor": "white",
            "showbackground": true,
            "ticks": "",
            "zerolinecolor": "white",
            "gridwidth": 2
           },
           "zaxis": {
            "backgroundcolor": "#E5ECF6",
            "gridcolor": "white",
            "linecolor": "white",
            "showbackground": true,
            "ticks": "",
            "zerolinecolor": "white",
            "gridwidth": 2
           }
          },
          "shapedefaults": {
           "line": {
            "color": "#2a3f5f"
           }
          },
          "annotationdefaults": {
           "arrowcolor": "#2a3f5f",
           "arrowhead": 0,
           "arrowwidth": 1
          },
          "geo": {
           "bgcolor": "white",
           "landcolor": "#E5ECF6",
           "subunitcolor": "white",
           "showland": true,
           "showlakes": true,
           "lakecolor": "white"
          },
          "title": {
           "x": 0.05
          },
          "mapbox": {
           "style": "light"
          }
         }
        },
        "polar": {
         "domain": {
          "x": [
           0.0,
           1.0
          ],
          "y": [
           0.0,
           1.0
          ]
         },
         "angularaxis": {
          "direction": "clockwise",
          "rotation": 90
         }
        },
        "legend": {
         "tracegroupgap": 0
        },
        "title": {
         "text": "Radar Chart for F1 Scores by Language and Model (None)"
        },
        "height": 600,
        "width": 800
       },
       "config": {
        "plotlyServerURL": "https://plot.ly"
       }
      }
     },
     "metadata": {},
     "output_type": "display_data"
    },
    {
     "data": {
      "application/vnd.plotly.v1+json": {
       "data": [
        {
         "hovertemplate": "Model=F1 Bloomz-560M<br>F1 Score=%{r}<br>Language Name=%{theta}<extra></extra>",
         "legendgroup": "F1 Bloomz-560M",
         "line": {
          "color": "#636efa",
          "dash": "solid"
         },
         "marker": {
          "symbol": "circle"
         },
         "mode": "lines",
         "name": "F1 Bloomz-560M",
         "r": [
          0.4507358407690966,
          0.4582668860944492,
          0.3827682151981046,
          0.4011727243497276,
          0.4507358407690966
         ],
         "showlegend": true,
         "subplot": "polar",
         "theta": [
          "Bengali",
          "Indonesian",
          "Tamil",
          "Urdu",
          "Bengali"
         ],
         "type": "scatterpolar"
        },
        {
         "hovertemplate": "Model=F1 Bloomz-1b1<br>F1 Score=%{r}<br>Language Name=%{theta}<extra></extra>",
         "legendgroup": "F1 Bloomz-1b1",
         "line": {
          "color": "#EF553B",
          "dash": "solid"
         },
         "marker": {
          "symbol": "circle"
         },
         "mode": "lines",
         "name": "F1 Bloomz-1b1",
         "r": [
          0.349086411095527,
          0.319229099120519,
          0.36600491796144,
          0.315411921347486,
          0.349086411095527
         ],
         "showlegend": true,
         "subplot": "polar",
         "theta": [
          "Bengali",
          "Indonesian",
          "Tamil",
          "Urdu",
          "Bengali"
         ],
         "type": "scatterpolar"
        },
        {
         "hovertemplate": "Model=F1 Bloomz-1b7<br>F1 Score=%{r}<br>Language Name=%{theta}<extra></extra>",
         "legendgroup": "F1 Bloomz-1b7",
         "line": {
          "color": "#00cc96",
          "dash": "solid"
         },
         "marker": {
          "symbol": "circle"
         },
         "mode": "lines",
         "name": "F1 Bloomz-1b7",
         "r": [
          0.39227966043185,
          0.346982748276964,
          0.319160849865503,
          0.380419090713208,
          0.39227966043185
         ],
         "showlegend": true,
         "subplot": "polar",
         "theta": [
          "Bengali",
          "Indonesian",
          "Tamil",
          "Urdu",
          "Bengali"
         ],
         "type": "scatterpolar"
        },
        {
         "hovertemplate": "Model=F1 Bloomz-3b<br>F1 Score=%{r}<br>Language Name=%{theta}<extra></extra>",
         "legendgroup": "F1 Bloomz-3b",
         "line": {
          "color": "#ab63fa",
          "dash": "solid"
         },
         "marker": {
          "symbol": "circle"
         },
         "mode": "lines",
         "name": "F1 Bloomz-3b",
         "r": [
          0.467022728128972,
          0.491369822450511,
          0.452307605253105,
          0.456542896318381,
          0.467022728128972
         ],
         "showlegend": true,
         "subplot": "polar",
         "theta": [
          "Bengali",
          "Indonesian",
          "Tamil",
          "Urdu",
          "Bengali"
         ],
         "type": "scatterpolar"
        },
        {
         "hovertemplate": "Model=F1 Bloomz-7b1<br>F1 Score=%{r}<br>Language Name=%{theta}<extra></extra>",
         "legendgroup": "F1 Bloomz-7b1",
         "line": {
          "color": "#FFA15A",
          "dash": "solid"
         },
         "marker": {
          "symbol": "circle"
         },
         "mode": "lines",
         "name": "F1 Bloomz-7b1",
         "r": [
          0.5242,
          0.5199,
          0.5082,
          0.5083,
          0.5242
         ],
         "showlegend": true,
         "subplot": "polar",
         "theta": [
          "Bengali",
          "Indonesian",
          "Tamil",
          "Urdu",
          "Bengali"
         ],
         "type": "scatterpolar"
        }
       ],
       "layout": {
        "template": {
         "data": {
          "histogram2dcontour": [
           {
            "type": "histogram2dcontour",
            "colorbar": {
             "outlinewidth": 0,
             "ticks": ""
            },
            "colorscale": [
             [
              0.0,
              "#0d0887"
             ],
             [
              0.1111111111111111,
              "#46039f"
             ],
             [
              0.2222222222222222,
              "#7201a8"
             ],
             [
              0.3333333333333333,
              "#9c179e"
             ],
             [
              0.4444444444444444,
              "#bd3786"
             ],
             [
              0.5555555555555556,
              "#d8576b"
             ],
             [
              0.6666666666666666,
              "#ed7953"
             ],
             [
              0.7777777777777778,
              "#fb9f3a"
             ],
             [
              0.8888888888888888,
              "#fdca26"
             ],
             [
              1.0,
              "#f0f921"
             ]
            ]
           }
          ],
          "choropleth": [
           {
            "type": "choropleth",
            "colorbar": {
             "outlinewidth": 0,
             "ticks": ""
            }
           }
          ],
          "histogram2d": [
           {
            "type": "histogram2d",
            "colorbar": {
             "outlinewidth": 0,
             "ticks": ""
            },
            "colorscale": [
             [
              0.0,
              "#0d0887"
             ],
             [
              0.1111111111111111,
              "#46039f"
             ],
             [
              0.2222222222222222,
              "#7201a8"
             ],
             [
              0.3333333333333333,
              "#9c179e"
             ],
             [
              0.4444444444444444,
              "#bd3786"
             ],
             [
              0.5555555555555556,
              "#d8576b"
             ],
             [
              0.6666666666666666,
              "#ed7953"
             ],
             [
              0.7777777777777778,
              "#fb9f3a"
             ],
             [
              0.8888888888888888,
              "#fdca26"
             ],
             [
              1.0,
              "#f0f921"
             ]
            ]
           }
          ],
          "heatmap": [
           {
            "type": "heatmap",
            "colorbar": {
             "outlinewidth": 0,
             "ticks": ""
            },
            "colorscale": [
             [
              0.0,
              "#0d0887"
             ],
             [
              0.1111111111111111,
              "#46039f"
             ],
             [
              0.2222222222222222,
              "#7201a8"
             ],
             [
              0.3333333333333333,
              "#9c179e"
             ],
             [
              0.4444444444444444,
              "#bd3786"
             ],
             [
              0.5555555555555556,
              "#d8576b"
             ],
             [
              0.6666666666666666,
              "#ed7953"
             ],
             [
              0.7777777777777778,
              "#fb9f3a"
             ],
             [
              0.8888888888888888,
              "#fdca26"
             ],
             [
              1.0,
              "#f0f921"
             ]
            ]
           }
          ],
          "heatmapgl": [
           {
            "type": "heatmapgl",
            "colorbar": {
             "outlinewidth": 0,
             "ticks": ""
            },
            "colorscale": [
             [
              0.0,
              "#0d0887"
             ],
             [
              0.1111111111111111,
              "#46039f"
             ],
             [
              0.2222222222222222,
              "#7201a8"
             ],
             [
              0.3333333333333333,
              "#9c179e"
             ],
             [
              0.4444444444444444,
              "#bd3786"
             ],
             [
              0.5555555555555556,
              "#d8576b"
             ],
             [
              0.6666666666666666,
              "#ed7953"
             ],
             [
              0.7777777777777778,
              "#fb9f3a"
             ],
             [
              0.8888888888888888,
              "#fdca26"
             ],
             [
              1.0,
              "#f0f921"
             ]
            ]
           }
          ],
          "contourcarpet": [
           {
            "type": "contourcarpet",
            "colorbar": {
             "outlinewidth": 0,
             "ticks": ""
            }
           }
          ],
          "contour": [
           {
            "type": "contour",
            "colorbar": {
             "outlinewidth": 0,
             "ticks": ""
            },
            "colorscale": [
             [
              0.0,
              "#0d0887"
             ],
             [
              0.1111111111111111,
              "#46039f"
             ],
             [
              0.2222222222222222,
              "#7201a8"
             ],
             [
              0.3333333333333333,
              "#9c179e"
             ],
             [
              0.4444444444444444,
              "#bd3786"
             ],
             [
              0.5555555555555556,
              "#d8576b"
             ],
             [
              0.6666666666666666,
              "#ed7953"
             ],
             [
              0.7777777777777778,
              "#fb9f3a"
             ],
             [
              0.8888888888888888,
              "#fdca26"
             ],
             [
              1.0,
              "#f0f921"
             ]
            ]
           }
          ],
          "surface": [
           {
            "type": "surface",
            "colorbar": {
             "outlinewidth": 0,
             "ticks": ""
            },
            "colorscale": [
             [
              0.0,
              "#0d0887"
             ],
             [
              0.1111111111111111,
              "#46039f"
             ],
             [
              0.2222222222222222,
              "#7201a8"
             ],
             [
              0.3333333333333333,
              "#9c179e"
             ],
             [
              0.4444444444444444,
              "#bd3786"
             ],
             [
              0.5555555555555556,
              "#d8576b"
             ],
             [
              0.6666666666666666,
              "#ed7953"
             ],
             [
              0.7777777777777778,
              "#fb9f3a"
             ],
             [
              0.8888888888888888,
              "#fdca26"
             ],
             [
              1.0,
              "#f0f921"
             ]
            ]
           }
          ],
          "mesh3d": [
           {
            "type": "mesh3d",
            "colorbar": {
             "outlinewidth": 0,
             "ticks": ""
            }
           }
          ],
          "scatter": [
           {
            "fillpattern": {
             "fillmode": "overlay",
             "size": 10,
             "solidity": 0.2
            },
            "type": "scatter"
           }
          ],
          "parcoords": [
           {
            "type": "parcoords",
            "line": {
             "colorbar": {
              "outlinewidth": 0,
              "ticks": ""
             }
            }
           }
          ],
          "scatterpolargl": [
           {
            "type": "scatterpolargl",
            "marker": {
             "colorbar": {
              "outlinewidth": 0,
              "ticks": ""
             }
            }
           }
          ],
          "bar": [
           {
            "error_x": {
             "color": "#2a3f5f"
            },
            "error_y": {
             "color": "#2a3f5f"
            },
            "marker": {
             "line": {
              "color": "#E5ECF6",
              "width": 0.5
             },
             "pattern": {
              "fillmode": "overlay",
              "size": 10,
              "solidity": 0.2
             }
            },
            "type": "bar"
           }
          ],
          "scattergeo": [
           {
            "type": "scattergeo",
            "marker": {
             "colorbar": {
              "outlinewidth": 0,
              "ticks": ""
             }
            }
           }
          ],
          "scatterpolar": [
           {
            "type": "scatterpolar",
            "marker": {
             "colorbar": {
              "outlinewidth": 0,
              "ticks": ""
             }
            }
           }
          ],
          "histogram": [
           {
            "marker": {
             "pattern": {
              "fillmode": "overlay",
              "size": 10,
              "solidity": 0.2
             }
            },
            "type": "histogram"
           }
          ],
          "scattergl": [
           {
            "type": "scattergl",
            "marker": {
             "colorbar": {
              "outlinewidth": 0,
              "ticks": ""
             }
            }
           }
          ],
          "scatter3d": [
           {
            "type": "scatter3d",
            "line": {
             "colorbar": {
              "outlinewidth": 0,
              "ticks": ""
             }
            },
            "marker": {
             "colorbar": {
              "outlinewidth": 0,
              "ticks": ""
             }
            }
           }
          ],
          "scattermapbox": [
           {
            "type": "scattermapbox",
            "marker": {
             "colorbar": {
              "outlinewidth": 0,
              "ticks": ""
             }
            }
           }
          ],
          "scatterternary": [
           {
            "type": "scatterternary",
            "marker": {
             "colorbar": {
              "outlinewidth": 0,
              "ticks": ""
             }
            }
           }
          ],
          "scattercarpet": [
           {
            "type": "scattercarpet",
            "marker": {
             "colorbar": {
              "outlinewidth": 0,
              "ticks": ""
             }
            }
           }
          ],
          "carpet": [
           {
            "aaxis": {
             "endlinecolor": "#2a3f5f",
             "gridcolor": "white",
             "linecolor": "white",
             "minorgridcolor": "white",
             "startlinecolor": "#2a3f5f"
            },
            "baxis": {
             "endlinecolor": "#2a3f5f",
             "gridcolor": "white",
             "linecolor": "white",
             "minorgridcolor": "white",
             "startlinecolor": "#2a3f5f"
            },
            "type": "carpet"
           }
          ],
          "table": [
           {
            "cells": {
             "fill": {
              "color": "#EBF0F8"
             },
             "line": {
              "color": "white"
             }
            },
            "header": {
             "fill": {
              "color": "#C8D4E3"
             },
             "line": {
              "color": "white"
             }
            },
            "type": "table"
           }
          ],
          "barpolar": [
           {
            "marker": {
             "line": {
              "color": "#E5ECF6",
              "width": 0.5
             },
             "pattern": {
              "fillmode": "overlay",
              "size": 10,
              "solidity": 0.2
             }
            },
            "type": "barpolar"
           }
          ],
          "pie": [
           {
            "automargin": true,
            "type": "pie"
           }
          ]
         },
         "layout": {
          "autotypenumbers": "strict",
          "colorway": [
           "#636efa",
           "#EF553B",
           "#00cc96",
           "#ab63fa",
           "#FFA15A",
           "#19d3f3",
           "#FF6692",
           "#B6E880",
           "#FF97FF",
           "#FECB52"
          ],
          "font": {
           "color": "#2a3f5f"
          },
          "hovermode": "closest",
          "hoverlabel": {
           "align": "left"
          },
          "paper_bgcolor": "white",
          "plot_bgcolor": "#E5ECF6",
          "polar": {
           "bgcolor": "#E5ECF6",
           "angularaxis": {
            "gridcolor": "white",
            "linecolor": "white",
            "ticks": ""
           },
           "radialaxis": {
            "gridcolor": "white",
            "linecolor": "white",
            "ticks": ""
           }
          },
          "ternary": {
           "bgcolor": "#E5ECF6",
           "aaxis": {
            "gridcolor": "white",
            "linecolor": "white",
            "ticks": ""
           },
           "baxis": {
            "gridcolor": "white",
            "linecolor": "white",
            "ticks": ""
           },
           "caxis": {
            "gridcolor": "white",
            "linecolor": "white",
            "ticks": ""
           }
          },
          "coloraxis": {
           "colorbar": {
            "outlinewidth": 0,
            "ticks": ""
           }
          },
          "colorscale": {
           "sequential": [
            [
             0.0,
             "#0d0887"
            ],
            [
             0.1111111111111111,
             "#46039f"
            ],
            [
             0.2222222222222222,
             "#7201a8"
            ],
            [
             0.3333333333333333,
             "#9c179e"
            ],
            [
             0.4444444444444444,
             "#bd3786"
            ],
            [
             0.5555555555555556,
             "#d8576b"
            ],
            [
             0.6666666666666666,
             "#ed7953"
            ],
            [
             0.7777777777777778,
             "#fb9f3a"
            ],
            [
             0.8888888888888888,
             "#fdca26"
            ],
            [
             1.0,
             "#f0f921"
            ]
           ],
           "sequentialminus": [
            [
             0.0,
             "#0d0887"
            ],
            [
             0.1111111111111111,
             "#46039f"
            ],
            [
             0.2222222222222222,
             "#7201a8"
            ],
            [
             0.3333333333333333,
             "#9c179e"
            ],
            [
             0.4444444444444444,
             "#bd3786"
            ],
            [
             0.5555555555555556,
             "#d8576b"
            ],
            [
             0.6666666666666666,
             "#ed7953"
            ],
            [
             0.7777777777777778,
             "#fb9f3a"
            ],
            [
             0.8888888888888888,
             "#fdca26"
            ],
            [
             1.0,
             "#f0f921"
            ]
           ],
           "diverging": [
            [
             0,
             "#8e0152"
            ],
            [
             0.1,
             "#c51b7d"
            ],
            [
             0.2,
             "#de77ae"
            ],
            [
             0.3,
             "#f1b6da"
            ],
            [
             0.4,
             "#fde0ef"
            ],
            [
             0.5,
             "#f7f7f7"
            ],
            [
             0.6,
             "#e6f5d0"
            ],
            [
             0.7,
             "#b8e186"
            ],
            [
             0.8,
             "#7fbc41"
            ],
            [
             0.9,
             "#4d9221"
            ],
            [
             1,
             "#276419"
            ]
           ]
          },
          "xaxis": {
           "gridcolor": "white",
           "linecolor": "white",
           "ticks": "",
           "title": {
            "standoff": 15
           },
           "zerolinecolor": "white",
           "automargin": true,
           "zerolinewidth": 2
          },
          "yaxis": {
           "gridcolor": "white",
           "linecolor": "white",
           "ticks": "",
           "title": {
            "standoff": 15
           },
           "zerolinecolor": "white",
           "automargin": true,
           "zerolinewidth": 2
          },
          "scene": {
           "xaxis": {
            "backgroundcolor": "#E5ECF6",
            "gridcolor": "white",
            "linecolor": "white",
            "showbackground": true,
            "ticks": "",
            "zerolinecolor": "white",
            "gridwidth": 2
           },
           "yaxis": {
            "backgroundcolor": "#E5ECF6",
            "gridcolor": "white",
            "linecolor": "white",
            "showbackground": true,
            "ticks": "",
            "zerolinecolor": "white",
            "gridwidth": 2
           },
           "zaxis": {
            "backgroundcolor": "#E5ECF6",
            "gridcolor": "white",
            "linecolor": "white",
            "showbackground": true,
            "ticks": "",
            "zerolinecolor": "white",
            "gridwidth": 2
           }
          },
          "shapedefaults": {
           "line": {
            "color": "#2a3f5f"
           }
          },
          "annotationdefaults": {
           "arrowcolor": "#2a3f5f",
           "arrowhead": 0,
           "arrowwidth": 1
          },
          "geo": {
           "bgcolor": "white",
           "landcolor": "#E5ECF6",
           "subunitcolor": "white",
           "showland": true,
           "showlakes": true,
           "lakecolor": "white"
          },
          "title": {
           "x": 0.05
          },
          "mapbox": {
           "style": "light"
          }
         }
        },
        "polar": {
         "domain": {
          "x": [
           0.0,
           1.0
          ],
          "y": [
           0.0,
           1.0
          ]
         },
         "angularaxis": {
          "direction": "clockwise",
          "rotation": 90
         }
        },
        "legend": {
         "title": {
          "text": "Model"
         },
         "tracegroupgap": 0
        },
        "title": {
         "text": "Radar Chart for F1 Scores by Language and Model (3)"
        },
        "height": 600,
        "width": 800
       },
       "config": {
        "plotlyServerURL": "https://plot.ly"
       }
      }
     },
     "metadata": {},
     "output_type": "display_data"
    },
    {
     "data": {
      "application/vnd.plotly.v1+json": {
       "data": [
        {
         "hovertemplate": "Model=F1 Bloomz-560M<br>F1 Score=%{r}<br>Language Name=%{theta}<extra></extra>",
         "legendgroup": "F1 Bloomz-560M",
         "line": {
          "color": "#636efa",
          "dash": "solid"
         },
         "marker": {
          "symbol": "circle"
         },
         "mode": "lines",
         "name": "F1 Bloomz-560M",
         "r": [
          0.393811051235561,
          0.3825382022478995,
          0.3162987370080736,
          0.3174907204680559,
          0.3311119964892831,
          0.268159902041481,
          0.2761076876215469,
          0.2479965665267173,
          0.393811051235561
         ],
         "showlegend": true,
         "subplot": "polar",
         "theta": [
          "Marathi",
          "Eastern Punjabi",
          "Swahili",
          "Setswana",
          "Wolof",
          "Xhosa",
          "Yoruba",
          "Zulu",
          "Marathi"
         ],
         "type": "scatterpolar"
        },
        {
         "hovertemplate": "Model=F1 Bloomz-1b1<br>F1 Score=%{r}<br>Language Name=%{theta}<extra></extra>",
         "legendgroup": "F1 Bloomz-1b1",
         "line": {
          "color": "#EF553B",
          "dash": "solid"
         },
         "marker": {
          "symbol": "circle"
         },
         "mode": "lines",
         "name": "F1 Bloomz-1b1",
         "r": [
          0.313640603119081,
          0.405056186085504,
          0.265911335144842,
          0.205839778833908,
          0.282852282852283,
          0.199719818896773,
          0.171600761516728,
          0.16139013108183,
          0.313640603119081
         ],
         "showlegend": true,
         "subplot": "polar",
         "theta": [
          "Marathi",
          "Eastern Punjabi",
          "Swahili",
          "Setswana",
          "Wolof",
          "Xhosa",
          "Yoruba",
          "Zulu",
          "Marathi"
         ],
         "type": "scatterpolar"
        },
        {
         "hovertemplate": "Model=F1 Bloomz-1b7<br>F1 Score=%{r}<br>Language Name=%{theta}<extra></extra>",
         "legendgroup": "F1 Bloomz-1b7",
         "line": {
          "color": "#00cc96",
          "dash": "solid"
         },
         "marker": {
          "symbol": "circle"
         },
         "mode": "lines",
         "name": "F1 Bloomz-1b7",
         "r": [
          0.331276792519011,
          0.373045871354006,
          0.263733001141908,
          0.241053433973059,
          0.25330357056325,
          0.227492535854429,
          0.240244675866295,
          0.244301465925196,
          0.331276792519011
         ],
         "showlegend": true,
         "subplot": "polar",
         "theta": [
          "Marathi",
          "Eastern Punjabi",
          "Swahili",
          "Setswana",
          "Wolof",
          "Xhosa",
          "Yoruba",
          "Zulu",
          "Marathi"
         ],
         "type": "scatterpolar"
        },
        {
         "hovertemplate": "Model=F1 Bloomz-3b<br>F1 Score=%{r}<br>Language Name=%{theta}<extra></extra>",
         "legendgroup": "F1 Bloomz-3b",
         "line": {
          "color": "#ab63fa",
          "dash": "solid"
         },
         "marker": {
          "symbol": "circle"
         },
         "mode": "lines",
         "name": "F1 Bloomz-3b",
         "r": [
          0.480698651719545,
          0.490123254185489,
          0.43096663836203,
          0.359589284504884,
          0.358700852312834,
          0.329349844118726,
          0.368853184304338,
          0.345928047108171,
          0.480698651719545
         ],
         "showlegend": true,
         "subplot": "polar",
         "theta": [
          "Marathi",
          "Eastern Punjabi",
          "Swahili",
          "Setswana",
          "Wolof",
          "Xhosa",
          "Yoruba",
          "Zulu",
          "Marathi"
         ],
         "type": "scatterpolar"
        },
        {
         "hovertemplate": "Model=F1 Bloomz-7b1<br>F1 Score=%{r}<br>Language Name=%{theta}<extra></extra>",
         "legendgroup": "F1 Bloomz-7b1",
         "line": {
          "color": "#FFA15A",
          "dash": "solid"
         },
         "marker": {
          "symbol": "circle"
         },
         "mode": "lines",
         "name": "F1 Bloomz-7b1",
         "r": [
          0.5063,
          0.5135,
          0.5029,
          0.4219,
          0.3851,
          0.4091,
          0.4377,
          0.4085,
          0.5063
         ],
         "showlegend": true,
         "subplot": "polar",
         "theta": [
          "Marathi",
          "Eastern Punjabi",
          "Swahili",
          "Setswana",
          "Wolof",
          "Xhosa",
          "Yoruba",
          "Zulu",
          "Marathi"
         ],
         "type": "scatterpolar"
        }
       ],
       "layout": {
        "template": {
         "data": {
          "histogram2dcontour": [
           {
            "type": "histogram2dcontour",
            "colorbar": {
             "outlinewidth": 0,
             "ticks": ""
            },
            "colorscale": [
             [
              0.0,
              "#0d0887"
             ],
             [
              0.1111111111111111,
              "#46039f"
             ],
             [
              0.2222222222222222,
              "#7201a8"
             ],
             [
              0.3333333333333333,
              "#9c179e"
             ],
             [
              0.4444444444444444,
              "#bd3786"
             ],
             [
              0.5555555555555556,
              "#d8576b"
             ],
             [
              0.6666666666666666,
              "#ed7953"
             ],
             [
              0.7777777777777778,
              "#fb9f3a"
             ],
             [
              0.8888888888888888,
              "#fdca26"
             ],
             [
              1.0,
              "#f0f921"
             ]
            ]
           }
          ],
          "choropleth": [
           {
            "type": "choropleth",
            "colorbar": {
             "outlinewidth": 0,
             "ticks": ""
            }
           }
          ],
          "histogram2d": [
           {
            "type": "histogram2d",
            "colorbar": {
             "outlinewidth": 0,
             "ticks": ""
            },
            "colorscale": [
             [
              0.0,
              "#0d0887"
             ],
             [
              0.1111111111111111,
              "#46039f"
             ],
             [
              0.2222222222222222,
              "#7201a8"
             ],
             [
              0.3333333333333333,
              "#9c179e"
             ],
             [
              0.4444444444444444,
              "#bd3786"
             ],
             [
              0.5555555555555556,
              "#d8576b"
             ],
             [
              0.6666666666666666,
              "#ed7953"
             ],
             [
              0.7777777777777778,
              "#fb9f3a"
             ],
             [
              0.8888888888888888,
              "#fdca26"
             ],
             [
              1.0,
              "#f0f921"
             ]
            ]
           }
          ],
          "heatmap": [
           {
            "type": "heatmap",
            "colorbar": {
             "outlinewidth": 0,
             "ticks": ""
            },
            "colorscale": [
             [
              0.0,
              "#0d0887"
             ],
             [
              0.1111111111111111,
              "#46039f"
             ],
             [
              0.2222222222222222,
              "#7201a8"
             ],
             [
              0.3333333333333333,
              "#9c179e"
             ],
             [
              0.4444444444444444,
              "#bd3786"
             ],
             [
              0.5555555555555556,
              "#d8576b"
             ],
             [
              0.6666666666666666,
              "#ed7953"
             ],
             [
              0.7777777777777778,
              "#fb9f3a"
             ],
             [
              0.8888888888888888,
              "#fdca26"
             ],
             [
              1.0,
              "#f0f921"
             ]
            ]
           }
          ],
          "heatmapgl": [
           {
            "type": "heatmapgl",
            "colorbar": {
             "outlinewidth": 0,
             "ticks": ""
            },
            "colorscale": [
             [
              0.0,
              "#0d0887"
             ],
             [
              0.1111111111111111,
              "#46039f"
             ],
             [
              0.2222222222222222,
              "#7201a8"
             ],
             [
              0.3333333333333333,
              "#9c179e"
             ],
             [
              0.4444444444444444,
              "#bd3786"
             ],
             [
              0.5555555555555556,
              "#d8576b"
             ],
             [
              0.6666666666666666,
              "#ed7953"
             ],
             [
              0.7777777777777778,
              "#fb9f3a"
             ],
             [
              0.8888888888888888,
              "#fdca26"
             ],
             [
              1.0,
              "#f0f921"
             ]
            ]
           }
          ],
          "contourcarpet": [
           {
            "type": "contourcarpet",
            "colorbar": {
             "outlinewidth": 0,
             "ticks": ""
            }
           }
          ],
          "contour": [
           {
            "type": "contour",
            "colorbar": {
             "outlinewidth": 0,
             "ticks": ""
            },
            "colorscale": [
             [
              0.0,
              "#0d0887"
             ],
             [
              0.1111111111111111,
              "#46039f"
             ],
             [
              0.2222222222222222,
              "#7201a8"
             ],
             [
              0.3333333333333333,
              "#9c179e"
             ],
             [
              0.4444444444444444,
              "#bd3786"
             ],
             [
              0.5555555555555556,
              "#d8576b"
             ],
             [
              0.6666666666666666,
              "#ed7953"
             ],
             [
              0.7777777777777778,
              "#fb9f3a"
             ],
             [
              0.8888888888888888,
              "#fdca26"
             ],
             [
              1.0,
              "#f0f921"
             ]
            ]
           }
          ],
          "surface": [
           {
            "type": "surface",
            "colorbar": {
             "outlinewidth": 0,
             "ticks": ""
            },
            "colorscale": [
             [
              0.0,
              "#0d0887"
             ],
             [
              0.1111111111111111,
              "#46039f"
             ],
             [
              0.2222222222222222,
              "#7201a8"
             ],
             [
              0.3333333333333333,
              "#9c179e"
             ],
             [
              0.4444444444444444,
              "#bd3786"
             ],
             [
              0.5555555555555556,
              "#d8576b"
             ],
             [
              0.6666666666666666,
              "#ed7953"
             ],
             [
              0.7777777777777778,
              "#fb9f3a"
             ],
             [
              0.8888888888888888,
              "#fdca26"
             ],
             [
              1.0,
              "#f0f921"
             ]
            ]
           }
          ],
          "mesh3d": [
           {
            "type": "mesh3d",
            "colorbar": {
             "outlinewidth": 0,
             "ticks": ""
            }
           }
          ],
          "scatter": [
           {
            "fillpattern": {
             "fillmode": "overlay",
             "size": 10,
             "solidity": 0.2
            },
            "type": "scatter"
           }
          ],
          "parcoords": [
           {
            "type": "parcoords",
            "line": {
             "colorbar": {
              "outlinewidth": 0,
              "ticks": ""
             }
            }
           }
          ],
          "scatterpolargl": [
           {
            "type": "scatterpolargl",
            "marker": {
             "colorbar": {
              "outlinewidth": 0,
              "ticks": ""
             }
            }
           }
          ],
          "bar": [
           {
            "error_x": {
             "color": "#2a3f5f"
            },
            "error_y": {
             "color": "#2a3f5f"
            },
            "marker": {
             "line": {
              "color": "#E5ECF6",
              "width": 0.5
             },
             "pattern": {
              "fillmode": "overlay",
              "size": 10,
              "solidity": 0.2
             }
            },
            "type": "bar"
           }
          ],
          "scattergeo": [
           {
            "type": "scattergeo",
            "marker": {
             "colorbar": {
              "outlinewidth": 0,
              "ticks": ""
             }
            }
           }
          ],
          "scatterpolar": [
           {
            "type": "scatterpolar",
            "marker": {
             "colorbar": {
              "outlinewidth": 0,
              "ticks": ""
             }
            }
           }
          ],
          "histogram": [
           {
            "marker": {
             "pattern": {
              "fillmode": "overlay",
              "size": 10,
              "solidity": 0.2
             }
            },
            "type": "histogram"
           }
          ],
          "scattergl": [
           {
            "type": "scattergl",
            "marker": {
             "colorbar": {
              "outlinewidth": 0,
              "ticks": ""
             }
            }
           }
          ],
          "scatter3d": [
           {
            "type": "scatter3d",
            "line": {
             "colorbar": {
              "outlinewidth": 0,
              "ticks": ""
             }
            },
            "marker": {
             "colorbar": {
              "outlinewidth": 0,
              "ticks": ""
             }
            }
           }
          ],
          "scattermapbox": [
           {
            "type": "scattermapbox",
            "marker": {
             "colorbar": {
              "outlinewidth": 0,
              "ticks": ""
             }
            }
           }
          ],
          "scatterternary": [
           {
            "type": "scatterternary",
            "marker": {
             "colorbar": {
              "outlinewidth": 0,
              "ticks": ""
             }
            }
           }
          ],
          "scattercarpet": [
           {
            "type": "scattercarpet",
            "marker": {
             "colorbar": {
              "outlinewidth": 0,
              "ticks": ""
             }
            }
           }
          ],
          "carpet": [
           {
            "aaxis": {
             "endlinecolor": "#2a3f5f",
             "gridcolor": "white",
             "linecolor": "white",
             "minorgridcolor": "white",
             "startlinecolor": "#2a3f5f"
            },
            "baxis": {
             "endlinecolor": "#2a3f5f",
             "gridcolor": "white",
             "linecolor": "white",
             "minorgridcolor": "white",
             "startlinecolor": "#2a3f5f"
            },
            "type": "carpet"
           }
          ],
          "table": [
           {
            "cells": {
             "fill": {
              "color": "#EBF0F8"
             },
             "line": {
              "color": "white"
             }
            },
            "header": {
             "fill": {
              "color": "#C8D4E3"
             },
             "line": {
              "color": "white"
             }
            },
            "type": "table"
           }
          ],
          "barpolar": [
           {
            "marker": {
             "line": {
              "color": "#E5ECF6",
              "width": 0.5
             },
             "pattern": {
              "fillmode": "overlay",
              "size": 10,
              "solidity": 0.2
             }
            },
            "type": "barpolar"
           }
          ],
          "pie": [
           {
            "automargin": true,
            "type": "pie"
           }
          ]
         },
         "layout": {
          "autotypenumbers": "strict",
          "colorway": [
           "#636efa",
           "#EF553B",
           "#00cc96",
           "#ab63fa",
           "#FFA15A",
           "#19d3f3",
           "#FF6692",
           "#B6E880",
           "#FF97FF",
           "#FECB52"
          ],
          "font": {
           "color": "#2a3f5f"
          },
          "hovermode": "closest",
          "hoverlabel": {
           "align": "left"
          },
          "paper_bgcolor": "white",
          "plot_bgcolor": "#E5ECF6",
          "polar": {
           "bgcolor": "#E5ECF6",
           "angularaxis": {
            "gridcolor": "white",
            "linecolor": "white",
            "ticks": ""
           },
           "radialaxis": {
            "gridcolor": "white",
            "linecolor": "white",
            "ticks": ""
           }
          },
          "ternary": {
           "bgcolor": "#E5ECF6",
           "aaxis": {
            "gridcolor": "white",
            "linecolor": "white",
            "ticks": ""
           },
           "baxis": {
            "gridcolor": "white",
            "linecolor": "white",
            "ticks": ""
           },
           "caxis": {
            "gridcolor": "white",
            "linecolor": "white",
            "ticks": ""
           }
          },
          "coloraxis": {
           "colorbar": {
            "outlinewidth": 0,
            "ticks": ""
           }
          },
          "colorscale": {
           "sequential": [
            [
             0.0,
             "#0d0887"
            ],
            [
             0.1111111111111111,
             "#46039f"
            ],
            [
             0.2222222222222222,
             "#7201a8"
            ],
            [
             0.3333333333333333,
             "#9c179e"
            ],
            [
             0.4444444444444444,
             "#bd3786"
            ],
            [
             0.5555555555555556,
             "#d8576b"
            ],
            [
             0.6666666666666666,
             "#ed7953"
            ],
            [
             0.7777777777777778,
             "#fb9f3a"
            ],
            [
             0.8888888888888888,
             "#fdca26"
            ],
            [
             1.0,
             "#f0f921"
            ]
           ],
           "sequentialminus": [
            [
             0.0,
             "#0d0887"
            ],
            [
             0.1111111111111111,
             "#46039f"
            ],
            [
             0.2222222222222222,
             "#7201a8"
            ],
            [
             0.3333333333333333,
             "#9c179e"
            ],
            [
             0.4444444444444444,
             "#bd3786"
            ],
            [
             0.5555555555555556,
             "#d8576b"
            ],
            [
             0.6666666666666666,
             "#ed7953"
            ],
            [
             0.7777777777777778,
             "#fb9f3a"
            ],
            [
             0.8888888888888888,
             "#fdca26"
            ],
            [
             1.0,
             "#f0f921"
            ]
           ],
           "diverging": [
            [
             0,
             "#8e0152"
            ],
            [
             0.1,
             "#c51b7d"
            ],
            [
             0.2,
             "#de77ae"
            ],
            [
             0.3,
             "#f1b6da"
            ],
            [
             0.4,
             "#fde0ef"
            ],
            [
             0.5,
             "#f7f7f7"
            ],
            [
             0.6,
             "#e6f5d0"
            ],
            [
             0.7,
             "#b8e186"
            ],
            [
             0.8,
             "#7fbc41"
            ],
            [
             0.9,
             "#4d9221"
            ],
            [
             1,
             "#276419"
            ]
           ]
          },
          "xaxis": {
           "gridcolor": "white",
           "linecolor": "white",
           "ticks": "",
           "title": {
            "standoff": 15
           },
           "zerolinecolor": "white",
           "automargin": true,
           "zerolinewidth": 2
          },
          "yaxis": {
           "gridcolor": "white",
           "linecolor": "white",
           "ticks": "",
           "title": {
            "standoff": 15
           },
           "zerolinecolor": "white",
           "automargin": true,
           "zerolinewidth": 2
          },
          "scene": {
           "xaxis": {
            "backgroundcolor": "#E5ECF6",
            "gridcolor": "white",
            "linecolor": "white",
            "showbackground": true,
            "ticks": "",
            "zerolinecolor": "white",
            "gridwidth": 2
           },
           "yaxis": {
            "backgroundcolor": "#E5ECF6",
            "gridcolor": "white",
            "linecolor": "white",
            "showbackground": true,
            "ticks": "",
            "zerolinecolor": "white",
            "gridwidth": 2
           },
           "zaxis": {
            "backgroundcolor": "#E5ECF6",
            "gridcolor": "white",
            "linecolor": "white",
            "showbackground": true,
            "ticks": "",
            "zerolinecolor": "white",
            "gridwidth": 2
           }
          },
          "shapedefaults": {
           "line": {
            "color": "#2a3f5f"
           }
          },
          "annotationdefaults": {
           "arrowcolor": "#2a3f5f",
           "arrowhead": 0,
           "arrowwidth": 1
          },
          "geo": {
           "bgcolor": "white",
           "landcolor": "#E5ECF6",
           "subunitcolor": "white",
           "showland": true,
           "showlakes": true,
           "lakecolor": "white"
          },
          "title": {
           "x": 0.05
          },
          "mapbox": {
           "style": "light"
          }
         }
        },
        "polar": {
         "domain": {
          "x": [
           0.0,
           1.0
          ],
          "y": [
           0.0,
           1.0
          ]
         },
         "angularaxis": {
          "direction": "clockwise",
          "rotation": 90
         }
        },
        "legend": {
         "title": {
          "text": "Model"
         },
         "tracegroupgap": 0
        },
        "title": {
         "text": "Radar Chart for F1 Scores by Language and Model (2)"
        },
        "height": 600,
        "width": 800
       },
       "config": {
        "plotlyServerURL": "https://plot.ly"
       }
      }
     },
     "metadata": {},
     "output_type": "display_data"
    },
    {
     "data": {
      "application/vnd.plotly.v1+json": {
       "data": [
        {
         "hovertemplate": "Model=F1 Bloomz-560M<br>F1 Score=%{r}<br>Language Name=%{theta}<extra></extra>",
         "legendgroup": "F1 Bloomz-560M",
         "line": {
          "color": "#636efa",
          "dash": "solid"
         },
         "marker": {
          "symbol": "circle"
         },
         "mode": "lines",
         "name": "F1 Bloomz-560M",
         "r": [
          0.4568021014073646,
          0.5217400167074505,
          0.5243499555999556,
          0.4886778969439165,
          0.3277587714927868,
          0.4568021014073646
         ],
         "showlegend": true,
         "subplot": "polar",
         "theta": [
          "Standard Arabic",
          "English",
          "French",
          "Spanish",
          "Chinese",
          "Standard Arabic"
         ],
         "type": "scatterpolar"
        },
        {
         "hovertemplate": "Model=F1 Bloomz-1b1<br>F1 Score=%{r}<br>Language Name=%{theta}<extra></extra>",
         "legendgroup": "F1 Bloomz-1b1",
         "line": {
          "color": "#EF553B",
          "dash": "solid"
         },
         "marker": {
          "symbol": "circle"
         },
         "mode": "lines",
         "name": "F1 Bloomz-1b1",
         "r": [
          0.346219733522199,
          0.386150448404891,
          0.396907944748308,
          0.36710183841662,
          0.330227742013419,
          0.346219733522199
         ],
         "showlegend": true,
         "subplot": "polar",
         "theta": [
          "Standard Arabic",
          "English",
          "French",
          "Spanish",
          "Chinese",
          "Standard Arabic"
         ],
         "type": "scatterpolar"
        },
        {
         "hovertemplate": "Model=F1 Bloomz-1b7<br>F1 Score=%{r}<br>Language Name=%{theta}<extra></extra>",
         "legendgroup": "F1 Bloomz-1b7",
         "line": {
          "color": "#00cc96",
          "dash": "solid"
         },
         "marker": {
          "symbol": "circle"
         },
         "mode": "lines",
         "name": "F1 Bloomz-1b7",
         "r": [
          0.342716911325934,
          0.389342140418455,
          0.339680695921552,
          0.352700316351094,
          0.391396207570736,
          0.342716911325934
         ],
         "showlegend": true,
         "subplot": "polar",
         "theta": [
          "Standard Arabic",
          "English",
          "French",
          "Spanish",
          "Chinese",
          "Standard Arabic"
         ],
         "type": "scatterpolar"
        },
        {
         "hovertemplate": "Model=F1 Bloomz-3b<br>F1 Score=%{r}<br>Language Name=%{theta}<extra></extra>",
         "legendgroup": "F1 Bloomz-3b",
         "line": {
          "color": "#ab63fa",
          "dash": "solid"
         },
         "marker": {
          "symbol": "circle"
         },
         "mode": "lines",
         "name": "F1 Bloomz-3b",
         "r": [
          0.468787309386968,
          0.499246825246599,
          0.473167474796977,
          0.469949684994275,
          0.489758628164161,
          0.468787309386968
         ],
         "showlegend": true,
         "subplot": "polar",
         "theta": [
          "Standard Arabic",
          "English",
          "French",
          "Spanish",
          "Chinese",
          "Standard Arabic"
         ],
         "type": "scatterpolar"
        },
        {
         "hovertemplate": "Model=F1 Bloomz-7b1<br>F1 Score=%{r}<br>Language Name=%{theta}<extra></extra>",
         "legendgroup": "F1 Bloomz-7b1",
         "line": {
          "color": "#FFA15A",
          "dash": "solid"
         },
         "marker": {
          "symbol": "circle"
         },
         "mode": "lines",
         "name": "F1 Bloomz-7b1",
         "r": [
          0.5006,
          0.5186,
          0.5451,
          0.5578,
          0.5081,
          0.5006
         ],
         "showlegend": true,
         "subplot": "polar",
         "theta": [
          "Standard Arabic",
          "English",
          "French",
          "Spanish",
          "Chinese",
          "Standard Arabic"
         ],
         "type": "scatterpolar"
        }
       ],
       "layout": {
        "template": {
         "data": {
          "histogram2dcontour": [
           {
            "type": "histogram2dcontour",
            "colorbar": {
             "outlinewidth": 0,
             "ticks": ""
            },
            "colorscale": [
             [
              0.0,
              "#0d0887"
             ],
             [
              0.1111111111111111,
              "#46039f"
             ],
             [
              0.2222222222222222,
              "#7201a8"
             ],
             [
              0.3333333333333333,
              "#9c179e"
             ],
             [
              0.4444444444444444,
              "#bd3786"
             ],
             [
              0.5555555555555556,
              "#d8576b"
             ],
             [
              0.6666666666666666,
              "#ed7953"
             ],
             [
              0.7777777777777778,
              "#fb9f3a"
             ],
             [
              0.8888888888888888,
              "#fdca26"
             ],
             [
              1.0,
              "#f0f921"
             ]
            ]
           }
          ],
          "choropleth": [
           {
            "type": "choropleth",
            "colorbar": {
             "outlinewidth": 0,
             "ticks": ""
            }
           }
          ],
          "histogram2d": [
           {
            "type": "histogram2d",
            "colorbar": {
             "outlinewidth": 0,
             "ticks": ""
            },
            "colorscale": [
             [
              0.0,
              "#0d0887"
             ],
             [
              0.1111111111111111,
              "#46039f"
             ],
             [
              0.2222222222222222,
              "#7201a8"
             ],
             [
              0.3333333333333333,
              "#9c179e"
             ],
             [
              0.4444444444444444,
              "#bd3786"
             ],
             [
              0.5555555555555556,
              "#d8576b"
             ],
             [
              0.6666666666666666,
              "#ed7953"
             ],
             [
              0.7777777777777778,
              "#fb9f3a"
             ],
             [
              0.8888888888888888,
              "#fdca26"
             ],
             [
              1.0,
              "#f0f921"
             ]
            ]
           }
          ],
          "heatmap": [
           {
            "type": "heatmap",
            "colorbar": {
             "outlinewidth": 0,
             "ticks": ""
            },
            "colorscale": [
             [
              0.0,
              "#0d0887"
             ],
             [
              0.1111111111111111,
              "#46039f"
             ],
             [
              0.2222222222222222,
              "#7201a8"
             ],
             [
              0.3333333333333333,
              "#9c179e"
             ],
             [
              0.4444444444444444,
              "#bd3786"
             ],
             [
              0.5555555555555556,
              "#d8576b"
             ],
             [
              0.6666666666666666,
              "#ed7953"
             ],
             [
              0.7777777777777778,
              "#fb9f3a"
             ],
             [
              0.8888888888888888,
              "#fdca26"
             ],
             [
              1.0,
              "#f0f921"
             ]
            ]
           }
          ],
          "heatmapgl": [
           {
            "type": "heatmapgl",
            "colorbar": {
             "outlinewidth": 0,
             "ticks": ""
            },
            "colorscale": [
             [
              0.0,
              "#0d0887"
             ],
             [
              0.1111111111111111,
              "#46039f"
             ],
             [
              0.2222222222222222,
              "#7201a8"
             ],
             [
              0.3333333333333333,
              "#9c179e"
             ],
             [
              0.4444444444444444,
              "#bd3786"
             ],
             [
              0.5555555555555556,
              "#d8576b"
             ],
             [
              0.6666666666666666,
              "#ed7953"
             ],
             [
              0.7777777777777778,
              "#fb9f3a"
             ],
             [
              0.8888888888888888,
              "#fdca26"
             ],
             [
              1.0,
              "#f0f921"
             ]
            ]
           }
          ],
          "contourcarpet": [
           {
            "type": "contourcarpet",
            "colorbar": {
             "outlinewidth": 0,
             "ticks": ""
            }
           }
          ],
          "contour": [
           {
            "type": "contour",
            "colorbar": {
             "outlinewidth": 0,
             "ticks": ""
            },
            "colorscale": [
             [
              0.0,
              "#0d0887"
             ],
             [
              0.1111111111111111,
              "#46039f"
             ],
             [
              0.2222222222222222,
              "#7201a8"
             ],
             [
              0.3333333333333333,
              "#9c179e"
             ],
             [
              0.4444444444444444,
              "#bd3786"
             ],
             [
              0.5555555555555556,
              "#d8576b"
             ],
             [
              0.6666666666666666,
              "#ed7953"
             ],
             [
              0.7777777777777778,
              "#fb9f3a"
             ],
             [
              0.8888888888888888,
              "#fdca26"
             ],
             [
              1.0,
              "#f0f921"
             ]
            ]
           }
          ],
          "surface": [
           {
            "type": "surface",
            "colorbar": {
             "outlinewidth": 0,
             "ticks": ""
            },
            "colorscale": [
             [
              0.0,
              "#0d0887"
             ],
             [
              0.1111111111111111,
              "#46039f"
             ],
             [
              0.2222222222222222,
              "#7201a8"
             ],
             [
              0.3333333333333333,
              "#9c179e"
             ],
             [
              0.4444444444444444,
              "#bd3786"
             ],
             [
              0.5555555555555556,
              "#d8576b"
             ],
             [
              0.6666666666666666,
              "#ed7953"
             ],
             [
              0.7777777777777778,
              "#fb9f3a"
             ],
             [
              0.8888888888888888,
              "#fdca26"
             ],
             [
              1.0,
              "#f0f921"
             ]
            ]
           }
          ],
          "mesh3d": [
           {
            "type": "mesh3d",
            "colorbar": {
             "outlinewidth": 0,
             "ticks": ""
            }
           }
          ],
          "scatter": [
           {
            "fillpattern": {
             "fillmode": "overlay",
             "size": 10,
             "solidity": 0.2
            },
            "type": "scatter"
           }
          ],
          "parcoords": [
           {
            "type": "parcoords",
            "line": {
             "colorbar": {
              "outlinewidth": 0,
              "ticks": ""
             }
            }
           }
          ],
          "scatterpolargl": [
           {
            "type": "scatterpolargl",
            "marker": {
             "colorbar": {
              "outlinewidth": 0,
              "ticks": ""
             }
            }
           }
          ],
          "bar": [
           {
            "error_x": {
             "color": "#2a3f5f"
            },
            "error_y": {
             "color": "#2a3f5f"
            },
            "marker": {
             "line": {
              "color": "#E5ECF6",
              "width": 0.5
             },
             "pattern": {
              "fillmode": "overlay",
              "size": 10,
              "solidity": 0.2
             }
            },
            "type": "bar"
           }
          ],
          "scattergeo": [
           {
            "type": "scattergeo",
            "marker": {
             "colorbar": {
              "outlinewidth": 0,
              "ticks": ""
             }
            }
           }
          ],
          "scatterpolar": [
           {
            "type": "scatterpolar",
            "marker": {
             "colorbar": {
              "outlinewidth": 0,
              "ticks": ""
             }
            }
           }
          ],
          "histogram": [
           {
            "marker": {
             "pattern": {
              "fillmode": "overlay",
              "size": 10,
              "solidity": 0.2
             }
            },
            "type": "histogram"
           }
          ],
          "scattergl": [
           {
            "type": "scattergl",
            "marker": {
             "colorbar": {
              "outlinewidth": 0,
              "ticks": ""
             }
            }
           }
          ],
          "scatter3d": [
           {
            "type": "scatter3d",
            "line": {
             "colorbar": {
              "outlinewidth": 0,
              "ticks": ""
             }
            },
            "marker": {
             "colorbar": {
              "outlinewidth": 0,
              "ticks": ""
             }
            }
           }
          ],
          "scattermapbox": [
           {
            "type": "scattermapbox",
            "marker": {
             "colorbar": {
              "outlinewidth": 0,
              "ticks": ""
             }
            }
           }
          ],
          "scatterternary": [
           {
            "type": "scatterternary",
            "marker": {
             "colorbar": {
              "outlinewidth": 0,
              "ticks": ""
             }
            }
           }
          ],
          "scattercarpet": [
           {
            "type": "scattercarpet",
            "marker": {
             "colorbar": {
              "outlinewidth": 0,
              "ticks": ""
             }
            }
           }
          ],
          "carpet": [
           {
            "aaxis": {
             "endlinecolor": "#2a3f5f",
             "gridcolor": "white",
             "linecolor": "white",
             "minorgridcolor": "white",
             "startlinecolor": "#2a3f5f"
            },
            "baxis": {
             "endlinecolor": "#2a3f5f",
             "gridcolor": "white",
             "linecolor": "white",
             "minorgridcolor": "white",
             "startlinecolor": "#2a3f5f"
            },
            "type": "carpet"
           }
          ],
          "table": [
           {
            "cells": {
             "fill": {
              "color": "#EBF0F8"
             },
             "line": {
              "color": "white"
             }
            },
            "header": {
             "fill": {
              "color": "#C8D4E3"
             },
             "line": {
              "color": "white"
             }
            },
            "type": "table"
           }
          ],
          "barpolar": [
           {
            "marker": {
             "line": {
              "color": "#E5ECF6",
              "width": 0.5
             },
             "pattern": {
              "fillmode": "overlay",
              "size": 10,
              "solidity": 0.2
             }
            },
            "type": "barpolar"
           }
          ],
          "pie": [
           {
            "automargin": true,
            "type": "pie"
           }
          ]
         },
         "layout": {
          "autotypenumbers": "strict",
          "colorway": [
           "#636efa",
           "#EF553B",
           "#00cc96",
           "#ab63fa",
           "#FFA15A",
           "#19d3f3",
           "#FF6692",
           "#B6E880",
           "#FF97FF",
           "#FECB52"
          ],
          "font": {
           "color": "#2a3f5f"
          },
          "hovermode": "closest",
          "hoverlabel": {
           "align": "left"
          },
          "paper_bgcolor": "white",
          "plot_bgcolor": "#E5ECF6",
          "polar": {
           "bgcolor": "#E5ECF6",
           "angularaxis": {
            "gridcolor": "white",
            "linecolor": "white",
            "ticks": ""
           },
           "radialaxis": {
            "gridcolor": "white",
            "linecolor": "white",
            "ticks": ""
           }
          },
          "ternary": {
           "bgcolor": "#E5ECF6",
           "aaxis": {
            "gridcolor": "white",
            "linecolor": "white",
            "ticks": ""
           },
           "baxis": {
            "gridcolor": "white",
            "linecolor": "white",
            "ticks": ""
           },
           "caxis": {
            "gridcolor": "white",
            "linecolor": "white",
            "ticks": ""
           }
          },
          "coloraxis": {
           "colorbar": {
            "outlinewidth": 0,
            "ticks": ""
           }
          },
          "colorscale": {
           "sequential": [
            [
             0.0,
             "#0d0887"
            ],
            [
             0.1111111111111111,
             "#46039f"
            ],
            [
             0.2222222222222222,
             "#7201a8"
            ],
            [
             0.3333333333333333,
             "#9c179e"
            ],
            [
             0.4444444444444444,
             "#bd3786"
            ],
            [
             0.5555555555555556,
             "#d8576b"
            ],
            [
             0.6666666666666666,
             "#ed7953"
            ],
            [
             0.7777777777777778,
             "#fb9f3a"
            ],
            [
             0.8888888888888888,
             "#fdca26"
            ],
            [
             1.0,
             "#f0f921"
            ]
           ],
           "sequentialminus": [
            [
             0.0,
             "#0d0887"
            ],
            [
             0.1111111111111111,
             "#46039f"
            ],
            [
             0.2222222222222222,
             "#7201a8"
            ],
            [
             0.3333333333333333,
             "#9c179e"
            ],
            [
             0.4444444444444444,
             "#bd3786"
            ],
            [
             0.5555555555555556,
             "#d8576b"
            ],
            [
             0.6666666666666666,
             "#ed7953"
            ],
            [
             0.7777777777777778,
             "#fb9f3a"
            ],
            [
             0.8888888888888888,
             "#fdca26"
            ],
            [
             1.0,
             "#f0f921"
            ]
           ],
           "diverging": [
            [
             0,
             "#8e0152"
            ],
            [
             0.1,
             "#c51b7d"
            ],
            [
             0.2,
             "#de77ae"
            ],
            [
             0.3,
             "#f1b6da"
            ],
            [
             0.4,
             "#fde0ef"
            ],
            [
             0.5,
             "#f7f7f7"
            ],
            [
             0.6,
             "#e6f5d0"
            ],
            [
             0.7,
             "#b8e186"
            ],
            [
             0.8,
             "#7fbc41"
            ],
            [
             0.9,
             "#4d9221"
            ],
            [
             1,
             "#276419"
            ]
           ]
          },
          "xaxis": {
           "gridcolor": "white",
           "linecolor": "white",
           "ticks": "",
           "title": {
            "standoff": 15
           },
           "zerolinecolor": "white",
           "automargin": true,
           "zerolinewidth": 2
          },
          "yaxis": {
           "gridcolor": "white",
           "linecolor": "white",
           "ticks": "",
           "title": {
            "standoff": 15
           },
           "zerolinecolor": "white",
           "automargin": true,
           "zerolinewidth": 2
          },
          "scene": {
           "xaxis": {
            "backgroundcolor": "#E5ECF6",
            "gridcolor": "white",
            "linecolor": "white",
            "showbackground": true,
            "ticks": "",
            "zerolinecolor": "white",
            "gridwidth": 2
           },
           "yaxis": {
            "backgroundcolor": "#E5ECF6",
            "gridcolor": "white",
            "linecolor": "white",
            "showbackground": true,
            "ticks": "",
            "zerolinecolor": "white",
            "gridwidth": 2
           },
           "zaxis": {
            "backgroundcolor": "#E5ECF6",
            "gridcolor": "white",
            "linecolor": "white",
            "showbackground": true,
            "ticks": "",
            "zerolinecolor": "white",
            "gridwidth": 2
           }
          },
          "shapedefaults": {
           "line": {
            "color": "#2a3f5f"
           }
          },
          "annotationdefaults": {
           "arrowcolor": "#2a3f5f",
           "arrowhead": 0,
           "arrowwidth": 1
          },
          "geo": {
           "bgcolor": "white",
           "landcolor": "#E5ECF6",
           "subunitcolor": "white",
           "showland": true,
           "showlakes": true,
           "lakecolor": "white"
          },
          "title": {
           "x": 0.05
          },
          "mapbox": {
           "style": "light"
          }
         }
        },
        "polar": {
         "domain": {
          "x": [
           0.0,
           1.0
          ],
          "y": [
           0.0,
           1.0
          ]
         },
         "angularaxis": {
          "direction": "clockwise",
          "rotation": 90
         }
        },
        "legend": {
         "title": {
          "text": "Model"
         },
         "tracegroupgap": 0
        },
        "title": {
         "text": "Radar Chart for F1 Scores by Language and Model (5)"
        },
        "height": 600,
        "width": 800
       },
       "config": {
        "plotlyServerURL": "https://plot.ly"
       }
      }
     },
     "metadata": {},
     "output_type": "display_data"
    },
    {
     "data": {
      "application/vnd.plotly.v1+json": {
       "data": [
        {
         "hovertemplate": "Model=F1 Bloomz-560M<br>F1 Score=%{r}<br>Language Name=%{theta}<extra></extra>",
         "legendgroup": "F1 Bloomz-560M",
         "line": {
          "color": "#636efa",
          "dash": "solid"
         },
         "marker": {
          "symbol": "circle"
         },
         "mode": "lines",
         "name": "F1 Bloomz-560M",
         "r": [
          0.2378989011581146,
          0.3161502676679203,
          0.3016214779372674,
          0.2378989011581146
         ],
         "showlegend": true,
         "subplot": "polar",
         "theta": [
          "Fon",
          "Rundi",
          "Southern Sotho",
          "Fon"
         ],
         "type": "scatterpolar"
        },
        {
         "hovertemplate": "Model=F1 Bloomz-1b1<br>F1 Score=%{r}<br>Language Name=%{theta}<extra></extra>",
         "legendgroup": "F1 Bloomz-1b1",
         "line": {
          "color": "#EF553B",
          "dash": "solid"
         },
         "marker": {
          "symbol": "circle"
         },
         "mode": "lines",
         "name": "F1 Bloomz-1b1",
         "r": [
          0.176771054141471,
          0.208508711951524,
          0.20415287327052,
          0.176771054141471
         ],
         "showlegend": true,
         "subplot": "polar",
         "theta": [
          "Fon",
          "Rundi",
          "Southern Sotho",
          "Fon"
         ],
         "type": "scatterpolar"
        },
        {
         "hovertemplate": "Model=F1 Bloomz-1b7<br>F1 Score=%{r}<br>Language Name=%{theta}<extra></extra>",
         "legendgroup": "F1 Bloomz-1b7",
         "line": {
          "color": "#00cc96",
          "dash": "solid"
         },
         "marker": {
          "symbol": "circle"
         },
         "mode": "lines",
         "name": "F1 Bloomz-1b7",
         "r": [
          0.183735528007713,
          0.223349679729768,
          0.266981876345761,
          0.183735528007713
         ],
         "showlegend": true,
         "subplot": "polar",
         "theta": [
          "Fon",
          "Rundi",
          "Southern Sotho",
          "Fon"
         ],
         "type": "scatterpolar"
        },
        {
         "hovertemplate": "Model=F1 Bloomz-3b<br>F1 Score=%{r}<br>Language Name=%{theta}<extra></extra>",
         "legendgroup": "F1 Bloomz-3b",
         "line": {
          "color": "#ab63fa",
          "dash": "solid"
         },
         "marker": {
          "symbol": "circle"
         },
         "mode": "lines",
         "name": "F1 Bloomz-3b",
         "r": [
          0.28559235575745,
          0.386566690431008,
          0.356734917262025,
          0.28559235575745
         ],
         "showlegend": true,
         "subplot": "polar",
         "theta": [
          "Fon",
          "Rundi",
          "Southern Sotho",
          "Fon"
         ],
         "type": "scatterpolar"
        },
        {
         "hovertemplate": "Model=F1 Bloomz-7b1<br>F1 Score=%{r}<br>Language Name=%{theta}<extra></extra>",
         "legendgroup": "F1 Bloomz-7b1",
         "line": {
          "color": "#FFA15A",
          "dash": "solid"
         },
         "marker": {
          "symbol": "circle"
         },
         "mode": "lines",
         "name": "F1 Bloomz-7b1",
         "r": [
          0.2923,
          0.4628,
          0.4081,
          0.2923
         ],
         "showlegend": true,
         "subplot": "polar",
         "theta": [
          "Fon",
          "Rundi",
          "Southern Sotho",
          "Fon"
         ],
         "type": "scatterpolar"
        }
       ],
       "layout": {
        "template": {
         "data": {
          "histogram2dcontour": [
           {
            "type": "histogram2dcontour",
            "colorbar": {
             "outlinewidth": 0,
             "ticks": ""
            },
            "colorscale": [
             [
              0.0,
              "#0d0887"
             ],
             [
              0.1111111111111111,
              "#46039f"
             ],
             [
              0.2222222222222222,
              "#7201a8"
             ],
             [
              0.3333333333333333,
              "#9c179e"
             ],
             [
              0.4444444444444444,
              "#bd3786"
             ],
             [
              0.5555555555555556,
              "#d8576b"
             ],
             [
              0.6666666666666666,
              "#ed7953"
             ],
             [
              0.7777777777777778,
              "#fb9f3a"
             ],
             [
              0.8888888888888888,
              "#fdca26"
             ],
             [
              1.0,
              "#f0f921"
             ]
            ]
           }
          ],
          "choropleth": [
           {
            "type": "choropleth",
            "colorbar": {
             "outlinewidth": 0,
             "ticks": ""
            }
           }
          ],
          "histogram2d": [
           {
            "type": "histogram2d",
            "colorbar": {
             "outlinewidth": 0,
             "ticks": ""
            },
            "colorscale": [
             [
              0.0,
              "#0d0887"
             ],
             [
              0.1111111111111111,
              "#46039f"
             ],
             [
              0.2222222222222222,
              "#7201a8"
             ],
             [
              0.3333333333333333,
              "#9c179e"
             ],
             [
              0.4444444444444444,
              "#bd3786"
             ],
             [
              0.5555555555555556,
              "#d8576b"
             ],
             [
              0.6666666666666666,
              "#ed7953"
             ],
             [
              0.7777777777777778,
              "#fb9f3a"
             ],
             [
              0.8888888888888888,
              "#fdca26"
             ],
             [
              1.0,
              "#f0f921"
             ]
            ]
           }
          ],
          "heatmap": [
           {
            "type": "heatmap",
            "colorbar": {
             "outlinewidth": 0,
             "ticks": ""
            },
            "colorscale": [
             [
              0.0,
              "#0d0887"
             ],
             [
              0.1111111111111111,
              "#46039f"
             ],
             [
              0.2222222222222222,
              "#7201a8"
             ],
             [
              0.3333333333333333,
              "#9c179e"
             ],
             [
              0.4444444444444444,
              "#bd3786"
             ],
             [
              0.5555555555555556,
              "#d8576b"
             ],
             [
              0.6666666666666666,
              "#ed7953"
             ],
             [
              0.7777777777777778,
              "#fb9f3a"
             ],
             [
              0.8888888888888888,
              "#fdca26"
             ],
             [
              1.0,
              "#f0f921"
             ]
            ]
           }
          ],
          "heatmapgl": [
           {
            "type": "heatmapgl",
            "colorbar": {
             "outlinewidth": 0,
             "ticks": ""
            },
            "colorscale": [
             [
              0.0,
              "#0d0887"
             ],
             [
              0.1111111111111111,
              "#46039f"
             ],
             [
              0.2222222222222222,
              "#7201a8"
             ],
             [
              0.3333333333333333,
              "#9c179e"
             ],
             [
              0.4444444444444444,
              "#bd3786"
             ],
             [
              0.5555555555555556,
              "#d8576b"
             ],
             [
              0.6666666666666666,
              "#ed7953"
             ],
             [
              0.7777777777777778,
              "#fb9f3a"
             ],
             [
              0.8888888888888888,
              "#fdca26"
             ],
             [
              1.0,
              "#f0f921"
             ]
            ]
           }
          ],
          "contourcarpet": [
           {
            "type": "contourcarpet",
            "colorbar": {
             "outlinewidth": 0,
             "ticks": ""
            }
           }
          ],
          "contour": [
           {
            "type": "contour",
            "colorbar": {
             "outlinewidth": 0,
             "ticks": ""
            },
            "colorscale": [
             [
              0.0,
              "#0d0887"
             ],
             [
              0.1111111111111111,
              "#46039f"
             ],
             [
              0.2222222222222222,
              "#7201a8"
             ],
             [
              0.3333333333333333,
              "#9c179e"
             ],
             [
              0.4444444444444444,
              "#bd3786"
             ],
             [
              0.5555555555555556,
              "#d8576b"
             ],
             [
              0.6666666666666666,
              "#ed7953"
             ],
             [
              0.7777777777777778,
              "#fb9f3a"
             ],
             [
              0.8888888888888888,
              "#fdca26"
             ],
             [
              1.0,
              "#f0f921"
             ]
            ]
           }
          ],
          "surface": [
           {
            "type": "surface",
            "colorbar": {
             "outlinewidth": 0,
             "ticks": ""
            },
            "colorscale": [
             [
              0.0,
              "#0d0887"
             ],
             [
              0.1111111111111111,
              "#46039f"
             ],
             [
              0.2222222222222222,
              "#7201a8"
             ],
             [
              0.3333333333333333,
              "#9c179e"
             ],
             [
              0.4444444444444444,
              "#bd3786"
             ],
             [
              0.5555555555555556,
              "#d8576b"
             ],
             [
              0.6666666666666666,
              "#ed7953"
             ],
             [
              0.7777777777777778,
              "#fb9f3a"
             ],
             [
              0.8888888888888888,
              "#fdca26"
             ],
             [
              1.0,
              "#f0f921"
             ]
            ]
           }
          ],
          "mesh3d": [
           {
            "type": "mesh3d",
            "colorbar": {
             "outlinewidth": 0,
             "ticks": ""
            }
           }
          ],
          "scatter": [
           {
            "fillpattern": {
             "fillmode": "overlay",
             "size": 10,
             "solidity": 0.2
            },
            "type": "scatter"
           }
          ],
          "parcoords": [
           {
            "type": "parcoords",
            "line": {
             "colorbar": {
              "outlinewidth": 0,
              "ticks": ""
             }
            }
           }
          ],
          "scatterpolargl": [
           {
            "type": "scatterpolargl",
            "marker": {
             "colorbar": {
              "outlinewidth": 0,
              "ticks": ""
             }
            }
           }
          ],
          "bar": [
           {
            "error_x": {
             "color": "#2a3f5f"
            },
            "error_y": {
             "color": "#2a3f5f"
            },
            "marker": {
             "line": {
              "color": "#E5ECF6",
              "width": 0.5
             },
             "pattern": {
              "fillmode": "overlay",
              "size": 10,
              "solidity": 0.2
             }
            },
            "type": "bar"
           }
          ],
          "scattergeo": [
           {
            "type": "scattergeo",
            "marker": {
             "colorbar": {
              "outlinewidth": 0,
              "ticks": ""
             }
            }
           }
          ],
          "scatterpolar": [
           {
            "type": "scatterpolar",
            "marker": {
             "colorbar": {
              "outlinewidth": 0,
              "ticks": ""
             }
            }
           }
          ],
          "histogram": [
           {
            "marker": {
             "pattern": {
              "fillmode": "overlay",
              "size": 10,
              "solidity": 0.2
             }
            },
            "type": "histogram"
           }
          ],
          "scattergl": [
           {
            "type": "scattergl",
            "marker": {
             "colorbar": {
              "outlinewidth": 0,
              "ticks": ""
             }
            }
           }
          ],
          "scatter3d": [
           {
            "type": "scatter3d",
            "line": {
             "colorbar": {
              "outlinewidth": 0,
              "ticks": ""
             }
            },
            "marker": {
             "colorbar": {
              "outlinewidth": 0,
              "ticks": ""
             }
            }
           }
          ],
          "scattermapbox": [
           {
            "type": "scattermapbox",
            "marker": {
             "colorbar": {
              "outlinewidth": 0,
              "ticks": ""
             }
            }
           }
          ],
          "scatterternary": [
           {
            "type": "scatterternary",
            "marker": {
             "colorbar": {
              "outlinewidth": 0,
              "ticks": ""
             }
            }
           }
          ],
          "scattercarpet": [
           {
            "type": "scattercarpet",
            "marker": {
             "colorbar": {
              "outlinewidth": 0,
              "ticks": ""
             }
            }
           }
          ],
          "carpet": [
           {
            "aaxis": {
             "endlinecolor": "#2a3f5f",
             "gridcolor": "white",
             "linecolor": "white",
             "minorgridcolor": "white",
             "startlinecolor": "#2a3f5f"
            },
            "baxis": {
             "endlinecolor": "#2a3f5f",
             "gridcolor": "white",
             "linecolor": "white",
             "minorgridcolor": "white",
             "startlinecolor": "#2a3f5f"
            },
            "type": "carpet"
           }
          ],
          "table": [
           {
            "cells": {
             "fill": {
              "color": "#EBF0F8"
             },
             "line": {
              "color": "white"
             }
            },
            "header": {
             "fill": {
              "color": "#C8D4E3"
             },
             "line": {
              "color": "white"
             }
            },
            "type": "table"
           }
          ],
          "barpolar": [
           {
            "marker": {
             "line": {
              "color": "#E5ECF6",
              "width": 0.5
             },
             "pattern": {
              "fillmode": "overlay",
              "size": 10,
              "solidity": 0.2
             }
            },
            "type": "barpolar"
           }
          ],
          "pie": [
           {
            "automargin": true,
            "type": "pie"
           }
          ]
         },
         "layout": {
          "autotypenumbers": "strict",
          "colorway": [
           "#636efa",
           "#EF553B",
           "#00cc96",
           "#ab63fa",
           "#FFA15A",
           "#19d3f3",
           "#FF6692",
           "#B6E880",
           "#FF97FF",
           "#FECB52"
          ],
          "font": {
           "color": "#2a3f5f"
          },
          "hovermode": "closest",
          "hoverlabel": {
           "align": "left"
          },
          "paper_bgcolor": "white",
          "plot_bgcolor": "#E5ECF6",
          "polar": {
           "bgcolor": "#E5ECF6",
           "angularaxis": {
            "gridcolor": "white",
            "linecolor": "white",
            "ticks": ""
           },
           "radialaxis": {
            "gridcolor": "white",
            "linecolor": "white",
            "ticks": ""
           }
          },
          "ternary": {
           "bgcolor": "#E5ECF6",
           "aaxis": {
            "gridcolor": "white",
            "linecolor": "white",
            "ticks": ""
           },
           "baxis": {
            "gridcolor": "white",
            "linecolor": "white",
            "ticks": ""
           },
           "caxis": {
            "gridcolor": "white",
            "linecolor": "white",
            "ticks": ""
           }
          },
          "coloraxis": {
           "colorbar": {
            "outlinewidth": 0,
            "ticks": ""
           }
          },
          "colorscale": {
           "sequential": [
            [
             0.0,
             "#0d0887"
            ],
            [
             0.1111111111111111,
             "#46039f"
            ],
            [
             0.2222222222222222,
             "#7201a8"
            ],
            [
             0.3333333333333333,
             "#9c179e"
            ],
            [
             0.4444444444444444,
             "#bd3786"
            ],
            [
             0.5555555555555556,
             "#d8576b"
            ],
            [
             0.6666666666666666,
             "#ed7953"
            ],
            [
             0.7777777777777778,
             "#fb9f3a"
            ],
            [
             0.8888888888888888,
             "#fdca26"
            ],
            [
             1.0,
             "#f0f921"
            ]
           ],
           "sequentialminus": [
            [
             0.0,
             "#0d0887"
            ],
            [
             0.1111111111111111,
             "#46039f"
            ],
            [
             0.2222222222222222,
             "#7201a8"
            ],
            [
             0.3333333333333333,
             "#9c179e"
            ],
            [
             0.4444444444444444,
             "#bd3786"
            ],
            [
             0.5555555555555556,
             "#d8576b"
            ],
            [
             0.6666666666666666,
             "#ed7953"
            ],
            [
             0.7777777777777778,
             "#fb9f3a"
            ],
            [
             0.8888888888888888,
             "#fdca26"
            ],
            [
             1.0,
             "#f0f921"
            ]
           ],
           "diverging": [
            [
             0,
             "#8e0152"
            ],
            [
             0.1,
             "#c51b7d"
            ],
            [
             0.2,
             "#de77ae"
            ],
            [
             0.3,
             "#f1b6da"
            ],
            [
             0.4,
             "#fde0ef"
            ],
            [
             0.5,
             "#f7f7f7"
            ],
            [
             0.6,
             "#e6f5d0"
            ],
            [
             0.7,
             "#b8e186"
            ],
            [
             0.8,
             "#7fbc41"
            ],
            [
             0.9,
             "#4d9221"
            ],
            [
             1,
             "#276419"
            ]
           ]
          },
          "xaxis": {
           "gridcolor": "white",
           "linecolor": "white",
           "ticks": "",
           "title": {
            "standoff": 15
           },
           "zerolinecolor": "white",
           "automargin": true,
           "zerolinewidth": 2
          },
          "yaxis": {
           "gridcolor": "white",
           "linecolor": "white",
           "ticks": "",
           "title": {
            "standoff": 15
           },
           "zerolinecolor": "white",
           "automargin": true,
           "zerolinewidth": 2
          },
          "scene": {
           "xaxis": {
            "backgroundcolor": "#E5ECF6",
            "gridcolor": "white",
            "linecolor": "white",
            "showbackground": true,
            "ticks": "",
            "zerolinecolor": "white",
            "gridwidth": 2
           },
           "yaxis": {
            "backgroundcolor": "#E5ECF6",
            "gridcolor": "white",
            "linecolor": "white",
            "showbackground": true,
            "ticks": "",
            "zerolinecolor": "white",
            "gridwidth": 2
           },
           "zaxis": {
            "backgroundcolor": "#E5ECF6",
            "gridcolor": "white",
            "linecolor": "white",
            "showbackground": true,
            "ticks": "",
            "zerolinecolor": "white",
            "gridwidth": 2
           }
          },
          "shapedefaults": {
           "line": {
            "color": "#2a3f5f"
           }
          },
          "annotationdefaults": {
           "arrowcolor": "#2a3f5f",
           "arrowhead": 0,
           "arrowwidth": 1
          },
          "geo": {
           "bgcolor": "white",
           "landcolor": "#E5ECF6",
           "subunitcolor": "white",
           "showland": true,
           "showlakes": true,
           "lakecolor": "white"
          },
          "title": {
           "x": 0.05
          },
          "mapbox": {
           "style": "light"
          }
         }
        },
        "polar": {
         "domain": {
          "x": [
           0.0,
           1.0
          ],
          "y": [
           0.0,
           1.0
          ]
         },
         "angularaxis": {
          "direction": "clockwise",
          "rotation": 90
         }
        },
        "legend": {
         "title": {
          "text": "Model"
         },
         "tracegroupgap": 0
        },
        "title": {
         "text": "Radar Chart for F1 Scores by Language and Model (0)"
        },
        "height": 600,
        "width": 800
       },
       "config": {
        "plotlyServerURL": "https://plot.ly"
       }
      }
     },
     "metadata": {},
     "output_type": "display_data"
    },
    {
     "data": {
      "application/vnd.plotly.v1+json": {
       "data": [
        {
         "hovertemplate": "Model=F1 Bloomz-560M<br>F1 Score=%{r}<br>Language Name=%{theta}<extra></extra>",
         "legendgroup": "F1 Bloomz-560M",
         "line": {
          "color": "#636efa",
          "dash": "solid"
         },
         "marker": {
          "symbol": "circle"
         },
         "mode": "lines",
         "name": "F1 Bloomz-560M",
         "r": [
          0.494547665855617,
          0.4387968835643254,
          0.3611615433549396,
          0.511097244046414,
          0.3820677196008129,
          0.494547665855617
         ],
         "showlegend": true,
         "subplot": "polar",
         "theta": [
          "Catalan",
          "Euskera",
          "Hindi",
          "Portuguese",
          "Vietnamese",
          "Catalan"
         ],
         "type": "scatterpolar"
        },
        {
         "hovertemplate": "Model=F1 Bloomz-1b1<br>F1 Score=%{r}<br>Language Name=%{theta}<extra></extra>",
         "legendgroup": "F1 Bloomz-1b1",
         "line": {
          "color": "#EF553B",
          "dash": "solid"
         },
         "marker": {
          "symbol": "circle"
         },
         "mode": "lines",
         "name": "F1 Bloomz-1b1",
         "r": [
          0.340967332623886,
          0.308508996201712,
          0.353627171683537,
          0.372691496940639,
          0.383325214143629,
          0.340967332623886
         ],
         "showlegend": true,
         "subplot": "polar",
         "theta": [
          "Catalan",
          "Euskera",
          "Hindi",
          "Portuguese",
          "Vietnamese",
          "Catalan"
         ],
         "type": "scatterpolar"
        },
        {
         "hovertemplate": "Model=F1 Bloomz-1b7<br>F1 Score=%{r}<br>Language Name=%{theta}<extra></extra>",
         "legendgroup": "F1 Bloomz-1b7",
         "line": {
          "color": "#00cc96",
          "dash": "solid"
         },
         "marker": {
          "symbol": "circle"
         },
         "mode": "lines",
         "name": "F1 Bloomz-1b7",
         "r": [
          0.342571118397731,
          0.307918053127291,
          0.365836222261394,
          0.369804182482076,
          0.35645208523292,
          0.342571118397731
         ],
         "showlegend": true,
         "subplot": "polar",
         "theta": [
          "Catalan",
          "Euskera",
          "Hindi",
          "Portuguese",
          "Vietnamese",
          "Catalan"
         ],
         "type": "scatterpolar"
        },
        {
         "hovertemplate": "Model=F1 Bloomz-3b<br>F1 Score=%{r}<br>Language Name=%{theta}<extra></extra>",
         "legendgroup": "F1 Bloomz-3b",
         "line": {
          "color": "#ab63fa",
          "dash": "solid"
         },
         "marker": {
          "symbol": "circle"
         },
         "mode": "lines",
         "name": "F1 Bloomz-3b",
         "r": [
          0.468189708472662,
          0.458974951142749,
          0.491596424010217,
          0.464908159502658,
          0.494098548510313,
          0.468189708472662
         ],
         "showlegend": true,
         "subplot": "polar",
         "theta": [
          "Catalan",
          "Euskera",
          "Hindi",
          "Portuguese",
          "Vietnamese",
          "Catalan"
         ],
         "type": "scatterpolar"
        },
        {
         "hovertemplate": "Model=F1 Bloomz-7b1<br>F1 Score=%{r}<br>Language Name=%{theta}<extra></extra>",
         "legendgroup": "F1 Bloomz-7b1",
         "line": {
          "color": "#FFA15A",
          "dash": "solid"
         },
         "marker": {
          "symbol": "circle"
         },
         "mode": "lines",
         "name": "F1 Bloomz-7b1",
         "r": [
          0.5292,
          0.5348,
          0.5333,
          0.5269,
          0.5391,
          0.5292
         ],
         "showlegend": true,
         "subplot": "polar",
         "theta": [
          "Catalan",
          "Euskera",
          "Hindi",
          "Portuguese",
          "Vietnamese",
          "Catalan"
         ],
         "type": "scatterpolar"
        }
       ],
       "layout": {
        "template": {
         "data": {
          "histogram2dcontour": [
           {
            "type": "histogram2dcontour",
            "colorbar": {
             "outlinewidth": 0,
             "ticks": ""
            },
            "colorscale": [
             [
              0.0,
              "#0d0887"
             ],
             [
              0.1111111111111111,
              "#46039f"
             ],
             [
              0.2222222222222222,
              "#7201a8"
             ],
             [
              0.3333333333333333,
              "#9c179e"
             ],
             [
              0.4444444444444444,
              "#bd3786"
             ],
             [
              0.5555555555555556,
              "#d8576b"
             ],
             [
              0.6666666666666666,
              "#ed7953"
             ],
             [
              0.7777777777777778,
              "#fb9f3a"
             ],
             [
              0.8888888888888888,
              "#fdca26"
             ],
             [
              1.0,
              "#f0f921"
             ]
            ]
           }
          ],
          "choropleth": [
           {
            "type": "choropleth",
            "colorbar": {
             "outlinewidth": 0,
             "ticks": ""
            }
           }
          ],
          "histogram2d": [
           {
            "type": "histogram2d",
            "colorbar": {
             "outlinewidth": 0,
             "ticks": ""
            },
            "colorscale": [
             [
              0.0,
              "#0d0887"
             ],
             [
              0.1111111111111111,
              "#46039f"
             ],
             [
              0.2222222222222222,
              "#7201a8"
             ],
             [
              0.3333333333333333,
              "#9c179e"
             ],
             [
              0.4444444444444444,
              "#bd3786"
             ],
             [
              0.5555555555555556,
              "#d8576b"
             ],
             [
              0.6666666666666666,
              "#ed7953"
             ],
             [
              0.7777777777777778,
              "#fb9f3a"
             ],
             [
              0.8888888888888888,
              "#fdca26"
             ],
             [
              1.0,
              "#f0f921"
             ]
            ]
           }
          ],
          "heatmap": [
           {
            "type": "heatmap",
            "colorbar": {
             "outlinewidth": 0,
             "ticks": ""
            },
            "colorscale": [
             [
              0.0,
              "#0d0887"
             ],
             [
              0.1111111111111111,
              "#46039f"
             ],
             [
              0.2222222222222222,
              "#7201a8"
             ],
             [
              0.3333333333333333,
              "#9c179e"
             ],
             [
              0.4444444444444444,
              "#bd3786"
             ],
             [
              0.5555555555555556,
              "#d8576b"
             ],
             [
              0.6666666666666666,
              "#ed7953"
             ],
             [
              0.7777777777777778,
              "#fb9f3a"
             ],
             [
              0.8888888888888888,
              "#fdca26"
             ],
             [
              1.0,
              "#f0f921"
             ]
            ]
           }
          ],
          "heatmapgl": [
           {
            "type": "heatmapgl",
            "colorbar": {
             "outlinewidth": 0,
             "ticks": ""
            },
            "colorscale": [
             [
              0.0,
              "#0d0887"
             ],
             [
              0.1111111111111111,
              "#46039f"
             ],
             [
              0.2222222222222222,
              "#7201a8"
             ],
             [
              0.3333333333333333,
              "#9c179e"
             ],
             [
              0.4444444444444444,
              "#bd3786"
             ],
             [
              0.5555555555555556,
              "#d8576b"
             ],
             [
              0.6666666666666666,
              "#ed7953"
             ],
             [
              0.7777777777777778,
              "#fb9f3a"
             ],
             [
              0.8888888888888888,
              "#fdca26"
             ],
             [
              1.0,
              "#f0f921"
             ]
            ]
           }
          ],
          "contourcarpet": [
           {
            "type": "contourcarpet",
            "colorbar": {
             "outlinewidth": 0,
             "ticks": ""
            }
           }
          ],
          "contour": [
           {
            "type": "contour",
            "colorbar": {
             "outlinewidth": 0,
             "ticks": ""
            },
            "colorscale": [
             [
              0.0,
              "#0d0887"
             ],
             [
              0.1111111111111111,
              "#46039f"
             ],
             [
              0.2222222222222222,
              "#7201a8"
             ],
             [
              0.3333333333333333,
              "#9c179e"
             ],
             [
              0.4444444444444444,
              "#bd3786"
             ],
             [
              0.5555555555555556,
              "#d8576b"
             ],
             [
              0.6666666666666666,
              "#ed7953"
             ],
             [
              0.7777777777777778,
              "#fb9f3a"
             ],
             [
              0.8888888888888888,
              "#fdca26"
             ],
             [
              1.0,
              "#f0f921"
             ]
            ]
           }
          ],
          "surface": [
           {
            "type": "surface",
            "colorbar": {
             "outlinewidth": 0,
             "ticks": ""
            },
            "colorscale": [
             [
              0.0,
              "#0d0887"
             ],
             [
              0.1111111111111111,
              "#46039f"
             ],
             [
              0.2222222222222222,
              "#7201a8"
             ],
             [
              0.3333333333333333,
              "#9c179e"
             ],
             [
              0.4444444444444444,
              "#bd3786"
             ],
             [
              0.5555555555555556,
              "#d8576b"
             ],
             [
              0.6666666666666666,
              "#ed7953"
             ],
             [
              0.7777777777777778,
              "#fb9f3a"
             ],
             [
              0.8888888888888888,
              "#fdca26"
             ],
             [
              1.0,
              "#f0f921"
             ]
            ]
           }
          ],
          "mesh3d": [
           {
            "type": "mesh3d",
            "colorbar": {
             "outlinewidth": 0,
             "ticks": ""
            }
           }
          ],
          "scatter": [
           {
            "fillpattern": {
             "fillmode": "overlay",
             "size": 10,
             "solidity": 0.2
            },
            "type": "scatter"
           }
          ],
          "parcoords": [
           {
            "type": "parcoords",
            "line": {
             "colorbar": {
              "outlinewidth": 0,
              "ticks": ""
             }
            }
           }
          ],
          "scatterpolargl": [
           {
            "type": "scatterpolargl",
            "marker": {
             "colorbar": {
              "outlinewidth": 0,
              "ticks": ""
             }
            }
           }
          ],
          "bar": [
           {
            "error_x": {
             "color": "#2a3f5f"
            },
            "error_y": {
             "color": "#2a3f5f"
            },
            "marker": {
             "line": {
              "color": "#E5ECF6",
              "width": 0.5
             },
             "pattern": {
              "fillmode": "overlay",
              "size": 10,
              "solidity": 0.2
             }
            },
            "type": "bar"
           }
          ],
          "scattergeo": [
           {
            "type": "scattergeo",
            "marker": {
             "colorbar": {
              "outlinewidth": 0,
              "ticks": ""
             }
            }
           }
          ],
          "scatterpolar": [
           {
            "type": "scatterpolar",
            "marker": {
             "colorbar": {
              "outlinewidth": 0,
              "ticks": ""
             }
            }
           }
          ],
          "histogram": [
           {
            "marker": {
             "pattern": {
              "fillmode": "overlay",
              "size": 10,
              "solidity": 0.2
             }
            },
            "type": "histogram"
           }
          ],
          "scattergl": [
           {
            "type": "scattergl",
            "marker": {
             "colorbar": {
              "outlinewidth": 0,
              "ticks": ""
             }
            }
           }
          ],
          "scatter3d": [
           {
            "type": "scatter3d",
            "line": {
             "colorbar": {
              "outlinewidth": 0,
              "ticks": ""
             }
            },
            "marker": {
             "colorbar": {
              "outlinewidth": 0,
              "ticks": ""
             }
            }
           }
          ],
          "scattermapbox": [
           {
            "type": "scattermapbox",
            "marker": {
             "colorbar": {
              "outlinewidth": 0,
              "ticks": ""
             }
            }
           }
          ],
          "scatterternary": [
           {
            "type": "scatterternary",
            "marker": {
             "colorbar": {
              "outlinewidth": 0,
              "ticks": ""
             }
            }
           }
          ],
          "scattercarpet": [
           {
            "type": "scattercarpet",
            "marker": {
             "colorbar": {
              "outlinewidth": 0,
              "ticks": ""
             }
            }
           }
          ],
          "carpet": [
           {
            "aaxis": {
             "endlinecolor": "#2a3f5f",
             "gridcolor": "white",
             "linecolor": "white",
             "minorgridcolor": "white",
             "startlinecolor": "#2a3f5f"
            },
            "baxis": {
             "endlinecolor": "#2a3f5f",
             "gridcolor": "white",
             "linecolor": "white",
             "minorgridcolor": "white",
             "startlinecolor": "#2a3f5f"
            },
            "type": "carpet"
           }
          ],
          "table": [
           {
            "cells": {
             "fill": {
              "color": "#EBF0F8"
             },
             "line": {
              "color": "white"
             }
            },
            "header": {
             "fill": {
              "color": "#C8D4E3"
             },
             "line": {
              "color": "white"
             }
            },
            "type": "table"
           }
          ],
          "barpolar": [
           {
            "marker": {
             "line": {
              "color": "#E5ECF6",
              "width": 0.5
             },
             "pattern": {
              "fillmode": "overlay",
              "size": 10,
              "solidity": 0.2
             }
            },
            "type": "barpolar"
           }
          ],
          "pie": [
           {
            "automargin": true,
            "type": "pie"
           }
          ]
         },
         "layout": {
          "autotypenumbers": "strict",
          "colorway": [
           "#636efa",
           "#EF553B",
           "#00cc96",
           "#ab63fa",
           "#FFA15A",
           "#19d3f3",
           "#FF6692",
           "#B6E880",
           "#FF97FF",
           "#FECB52"
          ],
          "font": {
           "color": "#2a3f5f"
          },
          "hovermode": "closest",
          "hoverlabel": {
           "align": "left"
          },
          "paper_bgcolor": "white",
          "plot_bgcolor": "#E5ECF6",
          "polar": {
           "bgcolor": "#E5ECF6",
           "angularaxis": {
            "gridcolor": "white",
            "linecolor": "white",
            "ticks": ""
           },
           "radialaxis": {
            "gridcolor": "white",
            "linecolor": "white",
            "ticks": ""
           }
          },
          "ternary": {
           "bgcolor": "#E5ECF6",
           "aaxis": {
            "gridcolor": "white",
            "linecolor": "white",
            "ticks": ""
           },
           "baxis": {
            "gridcolor": "white",
            "linecolor": "white",
            "ticks": ""
           },
           "caxis": {
            "gridcolor": "white",
            "linecolor": "white",
            "ticks": ""
           }
          },
          "coloraxis": {
           "colorbar": {
            "outlinewidth": 0,
            "ticks": ""
           }
          },
          "colorscale": {
           "sequential": [
            [
             0.0,
             "#0d0887"
            ],
            [
             0.1111111111111111,
             "#46039f"
            ],
            [
             0.2222222222222222,
             "#7201a8"
            ],
            [
             0.3333333333333333,
             "#9c179e"
            ],
            [
             0.4444444444444444,
             "#bd3786"
            ],
            [
             0.5555555555555556,
             "#d8576b"
            ],
            [
             0.6666666666666666,
             "#ed7953"
            ],
            [
             0.7777777777777778,
             "#fb9f3a"
            ],
            [
             0.8888888888888888,
             "#fdca26"
            ],
            [
             1.0,
             "#f0f921"
            ]
           ],
           "sequentialminus": [
            [
             0.0,
             "#0d0887"
            ],
            [
             0.1111111111111111,
             "#46039f"
            ],
            [
             0.2222222222222222,
             "#7201a8"
            ],
            [
             0.3333333333333333,
             "#9c179e"
            ],
            [
             0.4444444444444444,
             "#bd3786"
            ],
            [
             0.5555555555555556,
             "#d8576b"
            ],
            [
             0.6666666666666666,
             "#ed7953"
            ],
            [
             0.7777777777777778,
             "#fb9f3a"
            ],
            [
             0.8888888888888888,
             "#fdca26"
            ],
            [
             1.0,
             "#f0f921"
            ]
           ],
           "diverging": [
            [
             0,
             "#8e0152"
            ],
            [
             0.1,
             "#c51b7d"
            ],
            [
             0.2,
             "#de77ae"
            ],
            [
             0.3,
             "#f1b6da"
            ],
            [
             0.4,
             "#fde0ef"
            ],
            [
             0.5,
             "#f7f7f7"
            ],
            [
             0.6,
             "#e6f5d0"
            ],
            [
             0.7,
             "#b8e186"
            ],
            [
             0.8,
             "#7fbc41"
            ],
            [
             0.9,
             "#4d9221"
            ],
            [
             1,
             "#276419"
            ]
           ]
          },
          "xaxis": {
           "gridcolor": "white",
           "linecolor": "white",
           "ticks": "",
           "title": {
            "standoff": 15
           },
           "zerolinecolor": "white",
           "automargin": true,
           "zerolinewidth": 2
          },
          "yaxis": {
           "gridcolor": "white",
           "linecolor": "white",
           "ticks": "",
           "title": {
            "standoff": 15
           },
           "zerolinecolor": "white",
           "automargin": true,
           "zerolinewidth": 2
          },
          "scene": {
           "xaxis": {
            "backgroundcolor": "#E5ECF6",
            "gridcolor": "white",
            "linecolor": "white",
            "showbackground": true,
            "ticks": "",
            "zerolinecolor": "white",
            "gridwidth": 2
           },
           "yaxis": {
            "backgroundcolor": "#E5ECF6",
            "gridcolor": "white",
            "linecolor": "white",
            "showbackground": true,
            "ticks": "",
            "zerolinecolor": "white",
            "gridwidth": 2
           },
           "zaxis": {
            "backgroundcolor": "#E5ECF6",
            "gridcolor": "white",
            "linecolor": "white",
            "showbackground": true,
            "ticks": "",
            "zerolinecolor": "white",
            "gridwidth": 2
           }
          },
          "shapedefaults": {
           "line": {
            "color": "#2a3f5f"
           }
          },
          "annotationdefaults": {
           "arrowcolor": "#2a3f5f",
           "arrowhead": 0,
           "arrowwidth": 1
          },
          "geo": {
           "bgcolor": "white",
           "landcolor": "#E5ECF6",
           "subunitcolor": "white",
           "showland": true,
           "showlakes": true,
           "lakecolor": "white"
          },
          "title": {
           "x": 0.05
          },
          "mapbox": {
           "style": "light"
          }
         }
        },
        "polar": {
         "domain": {
          "x": [
           0.0,
           1.0
          ],
          "y": [
           0.0,
           1.0
          ]
         },
         "angularaxis": {
          "direction": "clockwise",
          "rotation": 90
         }
        },
        "legend": {
         "title": {
          "text": "Model"
         },
         "tracegroupgap": 0
        },
        "title": {
         "text": "Radar Chart for F1 Scores by Language and Model (4)"
        },
        "height": 600,
        "width": 800
       },
       "config": {
        "plotlyServerURL": "https://plot.ly"
       }
      }
     },
     "metadata": {},
     "output_type": "display_data"
    }
   ],
   "source": [
    "import plotly.express as px\n",
    "import warnings\n",
    "\n",
    "warnings.filterwarnings('ignore')\n",
    "\n",
    "# Radar chart for all models in the same plot using plotly\n",
    "only_bloomz = True\n",
    "only_bloom = False\n",
    "filter = 'Resource Level'\n",
    "\n",
    "for value in df[filter].unique():\n",
    "    filtered_df = filter_df(melted_df, filter, value, only_bloom, only_bloomz)\n",
    "    fig = px.line_polar(filtered_df, r='F1 Score', theta='Language Name', line_close=True,\n",
    "                        color='Model', title=f'Radar Chart for F1 Scores by Language and Model ({value})',\n",
    "                        height=600, width=800)\n",
    "    fig.show()"
   ]
  },
  {
   "cell_type": "code",
   "execution_count": null,
   "id": "addb828027a4abb1",
   "metadata": {
    "collapsed": false
   },
   "outputs": [],
   "source": []
  }
 ],
 "metadata": {
  "kernelspec": {
   "display_name": "Python 3",
   "language": "python",
   "name": "python3"
  },
  "language_info": {
   "codemirror_mode": {
    "name": "ipython",
    "version": 3
   },
   "file_extension": ".py",
   "mimetype": "text/x-python",
   "name": "python",
   "nbconvert_exporter": "python",
   "pygments_lexer": "ipython3",
   "version": "3.11.4"
  }
 },
 "nbformat": 4,
 "nbformat_minor": 5
}
