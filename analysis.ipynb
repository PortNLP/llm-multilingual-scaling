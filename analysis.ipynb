{
 "cells": [
  {
   "cell_type": "code",
   "execution_count": 11,
   "id": "initial_id",
   "metadata": {
    "collapsed": true,
    "ExecuteTime": {
     "end_time": "2024-01-22T21:16:31.113764655Z",
     "start_time": "2024-01-22T21:16:31.018470822Z"
    }
   },
   "outputs": [
    {
     "data": {
      "text/plain": "    Folder Name                 Language Name ISO 639 - 1 ISO 639 - 2 (B)  \\\n0      ace_Arab                          Aceh         NaN             ace   \n1      ace_Latn                          Aceh         NaN             ace   \n2      acm_Arab    Mesopotamian Spoken Arabic         NaN             NaN   \n3      acq_Arab  Arabic, Ta’izzi-Adeni Spoken         NaN             NaN   \n4      aeb_Arab        Tunisian Spoken Arabic         NaN             NaN   \n..          ...                           ...         ...             ...   \n199    yue_Hant                   Yue Chinese         NaN             NaN   \n200    zho_Hans                       Chinese          zh             chi   \n201    zho_Hant                       Chinese          zh             chi   \n202    zsm_Latn                Standard Malay          ms             NaN   \n203    zul_Latn                          Zulu          zu             zul   \n\n    ISO 639 - 2 (T) ISO 639 - 3 Script (ISO 15924) Language Family  \\\n0               ace         ace               Arab    Austronesian   \n1               ace         ace               Latn    Austronesian   \n2               NaN         acm               Arab    Afro-Asiatic   \n3               NaN         acq               Arab    Afro-Asiatic   \n4               NaN         aeb               Arab    Afro-Asiatic   \n..              ...         ...                ...             ...   \n199             NaN         yue               Hant    Sino-Tibetan   \n200             zho         zho               Hans    Sino-Tibetan   \n201             zho         zho               Hant    Sino-Tibetan   \n202             NaN         zsm               Latn    Austronesian   \n203             zul         zul               Latn     Niger-Congo   \n\n                 Population Language Vitality  ... XLM-R Train Tokens  \\\n0    1 million to 1 billion        Endangered  ...                NaN   \n1    1 million to 1 billion        Endangered  ...                NaN   \n2    1 million to 1 billion     Institutional  ...                NaN   \n3    1 million to 1 billion     Institutional  ...                NaN   \n4    1 million to 1 billion     Institutional  ...                NaN   \n..                      ...               ...  ...                ...   \n199  1 million to 1 billion     Institutional  ...                NaN   \n200          1 billion plus     Institutional  ...              259.0   \n201          1 billion plus     Institutional  ...              176.0   \n202                    None     Institutional  ...             1318.0   \n203  1 million to 1 billion     Institutional  ...                NaN   \n\n    F1 Bloom-560M sampling  F1 Bloom-560M beam-search  \\\n0                 0.035714                   0.014548   \n1                 0.029306                   0.074956   \n2                 0.053613                   0.036458   \n3                 0.038295                   0.038158   \n4                 0.056647                   0.054823   \n..                     ...                        ...   \n199               0.110311                   0.031746   \n200               0.068555                   0.032927   \n201               0.036136                   0.051013   \n202               0.067582                   0.047711   \n203               0.033298                   0.063359   \n\n     F1 PolyLM-1.7b sampling  F1 PolyLM-1.7b beam-search  F1 Bloomz-560M  \\\n0                   0.042353                    0.046569        0.105192   \n1                   0.109695                    0.116462        0.352888   \n2                   0.068885                    0.128984        0.459507   \n3                   0.049175                    0.080324        0.460365   \n4                   0.089042                    0.068235        0.455299   \n..                       ...                         ...             ...   \n199                 0.067612                    0.057919        0.344580   \n200                 0.075991                    0.076000        0.327759   \n201                 0.128679                    0.090060        0.337263   \n202                 0.072207                    0.090327        0.392790   \n203                 0.051829                    0.070188        0.247997   \n\n     F1 Bloomz-1b1  F1 Bloomz-1b7  F1 Bloomz-3b  F1 Bloomz-7b1  \n0         0.094892       0.114471      0.142853         0.1020  \n1         0.260779       0.262736      0.335329         0.4112  \n2         0.382058       0.335226      0.435668         0.4919  \n3         0.330938       0.353313      0.453236         0.4965  \n4         0.343693       0.315781      0.442202         0.4663  \n..             ...            ...           ...            ...  \n199       0.321814       0.366669      0.482894         0.4993  \n200       0.330228       0.391396      0.489759         0.5081  \n201       0.356543       0.376002      0.485621         0.5203  \n202       0.316372       0.298548      0.451145         0.4952  \n203       0.161390       0.244301      0.345928         0.4085  \n\n[204 rows x 24 columns]",
      "text/html": "<div>\n<style scoped>\n    .dataframe tbody tr th:only-of-type {\n        vertical-align: middle;\n    }\n\n    .dataframe tbody tr th {\n        vertical-align: top;\n    }\n\n    .dataframe thead th {\n        text-align: right;\n    }\n</style>\n<table border=\"1\" class=\"dataframe\">\n  <thead>\n    <tr style=\"text-align: right;\">\n      <th></th>\n      <th>Folder Name</th>\n      <th>Language Name</th>\n      <th>ISO 639 - 1</th>\n      <th>ISO 639 - 2 (B)</th>\n      <th>ISO 639 - 2 (T)</th>\n      <th>ISO 639 - 3</th>\n      <th>Script (ISO 15924)</th>\n      <th>Language Family</th>\n      <th>Population</th>\n      <th>Language Vitality</th>\n      <th>...</th>\n      <th>XLM-R Train Tokens</th>\n      <th>F1 Bloom-560M sampling</th>\n      <th>F1 Bloom-560M beam-search</th>\n      <th>F1 PolyLM-1.7b sampling</th>\n      <th>F1 PolyLM-1.7b beam-search</th>\n      <th>F1 Bloomz-560M</th>\n      <th>F1 Bloomz-1b1</th>\n      <th>F1 Bloomz-1b7</th>\n      <th>F1 Bloomz-3b</th>\n      <th>F1 Bloomz-7b1</th>\n    </tr>\n  </thead>\n  <tbody>\n    <tr>\n      <th>0</th>\n      <td>ace_Arab</td>\n      <td>Aceh</td>\n      <td>NaN</td>\n      <td>ace</td>\n      <td>ace</td>\n      <td>ace</td>\n      <td>Arab</td>\n      <td>Austronesian</td>\n      <td>1 million to 1 billion</td>\n      <td>Endangered</td>\n      <td>...</td>\n      <td>NaN</td>\n      <td>0.035714</td>\n      <td>0.014548</td>\n      <td>0.042353</td>\n      <td>0.046569</td>\n      <td>0.105192</td>\n      <td>0.094892</td>\n      <td>0.114471</td>\n      <td>0.142853</td>\n      <td>0.1020</td>\n    </tr>\n    <tr>\n      <th>1</th>\n      <td>ace_Latn</td>\n      <td>Aceh</td>\n      <td>NaN</td>\n      <td>ace</td>\n      <td>ace</td>\n      <td>ace</td>\n      <td>Latn</td>\n      <td>Austronesian</td>\n      <td>1 million to 1 billion</td>\n      <td>Endangered</td>\n      <td>...</td>\n      <td>NaN</td>\n      <td>0.029306</td>\n      <td>0.074956</td>\n      <td>0.109695</td>\n      <td>0.116462</td>\n      <td>0.352888</td>\n      <td>0.260779</td>\n      <td>0.262736</td>\n      <td>0.335329</td>\n      <td>0.4112</td>\n    </tr>\n    <tr>\n      <th>2</th>\n      <td>acm_Arab</td>\n      <td>Mesopotamian Spoken Arabic</td>\n      <td>NaN</td>\n      <td>NaN</td>\n      <td>NaN</td>\n      <td>acm</td>\n      <td>Arab</td>\n      <td>Afro-Asiatic</td>\n      <td>1 million to 1 billion</td>\n      <td>Institutional</td>\n      <td>...</td>\n      <td>NaN</td>\n      <td>0.053613</td>\n      <td>0.036458</td>\n      <td>0.068885</td>\n      <td>0.128984</td>\n      <td>0.459507</td>\n      <td>0.382058</td>\n      <td>0.335226</td>\n      <td>0.435668</td>\n      <td>0.4919</td>\n    </tr>\n    <tr>\n      <th>3</th>\n      <td>acq_Arab</td>\n      <td>Arabic, Ta’izzi-Adeni Spoken</td>\n      <td>NaN</td>\n      <td>NaN</td>\n      <td>NaN</td>\n      <td>acq</td>\n      <td>Arab</td>\n      <td>Afro-Asiatic</td>\n      <td>1 million to 1 billion</td>\n      <td>Institutional</td>\n      <td>...</td>\n      <td>NaN</td>\n      <td>0.038295</td>\n      <td>0.038158</td>\n      <td>0.049175</td>\n      <td>0.080324</td>\n      <td>0.460365</td>\n      <td>0.330938</td>\n      <td>0.353313</td>\n      <td>0.453236</td>\n      <td>0.4965</td>\n    </tr>\n    <tr>\n      <th>4</th>\n      <td>aeb_Arab</td>\n      <td>Tunisian Spoken Arabic</td>\n      <td>NaN</td>\n      <td>NaN</td>\n      <td>NaN</td>\n      <td>aeb</td>\n      <td>Arab</td>\n      <td>Afro-Asiatic</td>\n      <td>1 million to 1 billion</td>\n      <td>Institutional</td>\n      <td>...</td>\n      <td>NaN</td>\n      <td>0.056647</td>\n      <td>0.054823</td>\n      <td>0.089042</td>\n      <td>0.068235</td>\n      <td>0.455299</td>\n      <td>0.343693</td>\n      <td>0.315781</td>\n      <td>0.442202</td>\n      <td>0.4663</td>\n    </tr>\n    <tr>\n      <th>...</th>\n      <td>...</td>\n      <td>...</td>\n      <td>...</td>\n      <td>...</td>\n      <td>...</td>\n      <td>...</td>\n      <td>...</td>\n      <td>...</td>\n      <td>...</td>\n      <td>...</td>\n      <td>...</td>\n      <td>...</td>\n      <td>...</td>\n      <td>...</td>\n      <td>...</td>\n      <td>...</td>\n      <td>...</td>\n      <td>...</td>\n      <td>...</td>\n      <td>...</td>\n      <td>...</td>\n    </tr>\n    <tr>\n      <th>199</th>\n      <td>yue_Hant</td>\n      <td>Yue Chinese</td>\n      <td>NaN</td>\n      <td>NaN</td>\n      <td>NaN</td>\n      <td>yue</td>\n      <td>Hant</td>\n      <td>Sino-Tibetan</td>\n      <td>1 million to 1 billion</td>\n      <td>Institutional</td>\n      <td>...</td>\n      <td>NaN</td>\n      <td>0.110311</td>\n      <td>0.031746</td>\n      <td>0.067612</td>\n      <td>0.057919</td>\n      <td>0.344580</td>\n      <td>0.321814</td>\n      <td>0.366669</td>\n      <td>0.482894</td>\n      <td>0.4993</td>\n    </tr>\n    <tr>\n      <th>200</th>\n      <td>zho_Hans</td>\n      <td>Chinese</td>\n      <td>zh</td>\n      <td>chi</td>\n      <td>zho</td>\n      <td>zho</td>\n      <td>Hans</td>\n      <td>Sino-Tibetan</td>\n      <td>1 billion plus</td>\n      <td>Institutional</td>\n      <td>...</td>\n      <td>259.0</td>\n      <td>0.068555</td>\n      <td>0.032927</td>\n      <td>0.075991</td>\n      <td>0.076000</td>\n      <td>0.327759</td>\n      <td>0.330228</td>\n      <td>0.391396</td>\n      <td>0.489759</td>\n      <td>0.5081</td>\n    </tr>\n    <tr>\n      <th>201</th>\n      <td>zho_Hant</td>\n      <td>Chinese</td>\n      <td>zh</td>\n      <td>chi</td>\n      <td>zho</td>\n      <td>zho</td>\n      <td>Hant</td>\n      <td>Sino-Tibetan</td>\n      <td>1 billion plus</td>\n      <td>Institutional</td>\n      <td>...</td>\n      <td>176.0</td>\n      <td>0.036136</td>\n      <td>0.051013</td>\n      <td>0.128679</td>\n      <td>0.090060</td>\n      <td>0.337263</td>\n      <td>0.356543</td>\n      <td>0.376002</td>\n      <td>0.485621</td>\n      <td>0.5203</td>\n    </tr>\n    <tr>\n      <th>202</th>\n      <td>zsm_Latn</td>\n      <td>Standard Malay</td>\n      <td>ms</td>\n      <td>NaN</td>\n      <td>NaN</td>\n      <td>zsm</td>\n      <td>Latn</td>\n      <td>Austronesian</td>\n      <td>None</td>\n      <td>Institutional</td>\n      <td>...</td>\n      <td>1318.0</td>\n      <td>0.067582</td>\n      <td>0.047711</td>\n      <td>0.072207</td>\n      <td>0.090327</td>\n      <td>0.392790</td>\n      <td>0.316372</td>\n      <td>0.298548</td>\n      <td>0.451145</td>\n      <td>0.4952</td>\n    </tr>\n    <tr>\n      <th>203</th>\n      <td>zul_Latn</td>\n      <td>Zulu</td>\n      <td>zu</td>\n      <td>zul</td>\n      <td>zul</td>\n      <td>zul</td>\n      <td>Latn</td>\n      <td>Niger-Congo</td>\n      <td>1 million to 1 billion</td>\n      <td>Institutional</td>\n      <td>...</td>\n      <td>NaN</td>\n      <td>0.033298</td>\n      <td>0.063359</td>\n      <td>0.051829</td>\n      <td>0.070188</td>\n      <td>0.247997</td>\n      <td>0.161390</td>\n      <td>0.244301</td>\n      <td>0.345928</td>\n      <td>0.4085</td>\n    </tr>\n  </tbody>\n</table>\n<p>204 rows × 24 columns</p>\n</div>"
     },
     "execution_count": 11,
     "metadata": {},
     "output_type": "execute_result"
    }
   ],
   "source": [
    "import pandas as pd\n",
    "\n",
    "df = pd.read_excel('SIB-200 languages - ACL.xlsx')\n",
    "df"
   ]
  },
  {
   "cell_type": "code",
   "outputs": [
    {
     "data": {
      "text/plain": "                     Language Name Language Family Script (ISO 15924)  \\\n0                             Aceh    Austronesian               Arab   \n1                             Aceh    Austronesian               Latn   \n2       Mesopotamian Spoken Arabic    Afro-Asiatic               Arab   \n3     Arabic, Ta’izzi-Adeni Spoken    Afro-Asiatic               Arab   \n4           Tunisian Spoken Arabic    Afro-Asiatic               Arab   \n...                            ...             ...                ...   \n1015                   Yue Chinese    Sino-Tibetan               Hant   \n1016                       Chinese    Sino-Tibetan               Hans   \n1017                       Chinese    Sino-Tibetan               Hant   \n1018                Standard Malay    Austronesian               Latn   \n1019                          Zulu     Niger-Congo               Latn   \n\n     Resource Level  Bloom Train Data Percentage  BLOOMZ Finetune Data  \\\n0                 1                          NaN                   NaN   \n1                 1                          NaN                   NaN   \n2              None                          NaN                   NaN   \n3              None                          NaN                   NaN   \n4              None                          NaN                   NaN   \n...             ...                          ...                   ...   \n1015           None                          NaN                   NaN   \n1016              5                       16.200                  4.51   \n1017              5                        0.050                   NaN   \n1018              3                          NaN                   NaN   \n1019              2                        0.001                  1.16   \n\n               Model  F1 Score  \n0     F1 Bloomz-560M  0.105192  \n1     F1 Bloomz-560M  0.352888  \n2     F1 Bloomz-560M  0.459507  \n3     F1 Bloomz-560M  0.460365  \n4     F1 Bloomz-560M  0.455299  \n...              ...       ...  \n1015   F1 Bloomz-7b1  0.499300  \n1016   F1 Bloomz-7b1  0.508100  \n1017   F1 Bloomz-7b1  0.520300  \n1018   F1 Bloomz-7b1  0.495200  \n1019   F1 Bloomz-7b1  0.408500  \n\n[1020 rows x 8 columns]",
      "text/html": "<div>\n<style scoped>\n    .dataframe tbody tr th:only-of-type {\n        vertical-align: middle;\n    }\n\n    .dataframe tbody tr th {\n        vertical-align: top;\n    }\n\n    .dataframe thead th {\n        text-align: right;\n    }\n</style>\n<table border=\"1\" class=\"dataframe\">\n  <thead>\n    <tr style=\"text-align: right;\">\n      <th></th>\n      <th>Language Name</th>\n      <th>Language Family</th>\n      <th>Script (ISO 15924)</th>\n      <th>Resource Level</th>\n      <th>Bloom Train Data Percentage</th>\n      <th>BLOOMZ Finetune Data</th>\n      <th>Model</th>\n      <th>F1 Score</th>\n    </tr>\n  </thead>\n  <tbody>\n    <tr>\n      <th>0</th>\n      <td>Aceh</td>\n      <td>Austronesian</td>\n      <td>Arab</td>\n      <td>1</td>\n      <td>NaN</td>\n      <td>NaN</td>\n      <td>F1 Bloomz-560M</td>\n      <td>0.105192</td>\n    </tr>\n    <tr>\n      <th>1</th>\n      <td>Aceh</td>\n      <td>Austronesian</td>\n      <td>Latn</td>\n      <td>1</td>\n      <td>NaN</td>\n      <td>NaN</td>\n      <td>F1 Bloomz-560M</td>\n      <td>0.352888</td>\n    </tr>\n    <tr>\n      <th>2</th>\n      <td>Mesopotamian Spoken Arabic</td>\n      <td>Afro-Asiatic</td>\n      <td>Arab</td>\n      <td>None</td>\n      <td>NaN</td>\n      <td>NaN</td>\n      <td>F1 Bloomz-560M</td>\n      <td>0.459507</td>\n    </tr>\n    <tr>\n      <th>3</th>\n      <td>Arabic, Ta’izzi-Adeni Spoken</td>\n      <td>Afro-Asiatic</td>\n      <td>Arab</td>\n      <td>None</td>\n      <td>NaN</td>\n      <td>NaN</td>\n      <td>F1 Bloomz-560M</td>\n      <td>0.460365</td>\n    </tr>\n    <tr>\n      <th>4</th>\n      <td>Tunisian Spoken Arabic</td>\n      <td>Afro-Asiatic</td>\n      <td>Arab</td>\n      <td>None</td>\n      <td>NaN</td>\n      <td>NaN</td>\n      <td>F1 Bloomz-560M</td>\n      <td>0.455299</td>\n    </tr>\n    <tr>\n      <th>...</th>\n      <td>...</td>\n      <td>...</td>\n      <td>...</td>\n      <td>...</td>\n      <td>...</td>\n      <td>...</td>\n      <td>...</td>\n      <td>...</td>\n    </tr>\n    <tr>\n      <th>1015</th>\n      <td>Yue Chinese</td>\n      <td>Sino-Tibetan</td>\n      <td>Hant</td>\n      <td>None</td>\n      <td>NaN</td>\n      <td>NaN</td>\n      <td>F1 Bloomz-7b1</td>\n      <td>0.499300</td>\n    </tr>\n    <tr>\n      <th>1016</th>\n      <td>Chinese</td>\n      <td>Sino-Tibetan</td>\n      <td>Hans</td>\n      <td>5</td>\n      <td>16.200</td>\n      <td>4.51</td>\n      <td>F1 Bloomz-7b1</td>\n      <td>0.508100</td>\n    </tr>\n    <tr>\n      <th>1017</th>\n      <td>Chinese</td>\n      <td>Sino-Tibetan</td>\n      <td>Hant</td>\n      <td>5</td>\n      <td>0.050</td>\n      <td>NaN</td>\n      <td>F1 Bloomz-7b1</td>\n      <td>0.520300</td>\n    </tr>\n    <tr>\n      <th>1018</th>\n      <td>Standard Malay</td>\n      <td>Austronesian</td>\n      <td>Latn</td>\n      <td>3</td>\n      <td>NaN</td>\n      <td>NaN</td>\n      <td>F1 Bloomz-7b1</td>\n      <td>0.495200</td>\n    </tr>\n    <tr>\n      <th>1019</th>\n      <td>Zulu</td>\n      <td>Niger-Congo</td>\n      <td>Latn</td>\n      <td>2</td>\n      <td>0.001</td>\n      <td>1.16</td>\n      <td>F1 Bloomz-7b1</td>\n      <td>0.408500</td>\n    </tr>\n  </tbody>\n</table>\n<p>1020 rows × 8 columns</p>\n</div>"
     },
     "execution_count": 15,
     "metadata": {},
     "output_type": "execute_result"
    }
   ],
   "source": [
    "import pandas as pd\n",
    "\n",
    "# Select relevant columns for analysis\n",
    "columns_to_plot = ['Language Name', 'Language Family', 'Script (ISO 15924)', 'Resource Level', 'Bloom Train Data Percentage', 'BLOOMZ Finetune Data', \n",
    "                   'F1 Bloomz-560M', 'F1 Bloomz-1b1', 'F1 Bloomz-1b7', 'F1 Bloomz-3b', 'F1 Bloomz-7b1']\n",
    "\n",
    "# Melt the DataFrame to make it suitable for plotting\n",
    "melted_df = pd.melt(df, id_vars=columns_to_plot[:6], value_vars=columns_to_plot[6:],\n",
    "                    var_name='Model', value_name='F1 Score')\n",
    "melted_df"
   ],
   "metadata": {
    "collapsed": false,
    "ExecuteTime": {
     "end_time": "2024-01-22T21:18:05.893607475Z",
     "start_time": "2024-01-22T21:18:05.867787633Z"
    }
   },
   "id": "9ec085e302f81484",
   "execution_count": 15
  },
  {
   "cell_type": "code",
   "outputs": [],
   "source": [
    "import plotly.io as pio\n",
    "pio.renderers.default = 'chrome'"
   ],
   "metadata": {
    "collapsed": false,
    "ExecuteTime": {
     "end_time": "2024-01-22T21:18:20.099986086Z",
     "start_time": "2024-01-22T21:18:20.057332646Z"
    }
   },
   "id": "ef17e461ca40af21",
   "execution_count": 16
  },
  {
   "cell_type": "code",
   "outputs": [],
   "source": [
    "from functools import reduce\n",
    "import operator\n",
    "\n",
    "def filter_df(melted_df: pd.DataFrame, filter: str = None, value: str = None, only_bloom: bool = False, only_bloomz: bool = False) -> pd.DataFrame:\n",
    "    conditions = []  # Initialize an empty list to store conditions\n",
    "    if filter is not None and value is not None:\n",
    "        conditions.append(melted_df[filter] == value)\n",
    "    if only_bloom:\n",
    "        conditions.append(melted_df['Bloom Train Data Percentage'] > 0)\n",
    "    if only_bloomz:\n",
    "        conditions.append(melted_df['BLOOMZ Finetune Data'] > 0)\n",
    "\n",
    "    # If no conditions were added, return the original DataFrame\n",
    "    if not conditions:\n",
    "        return melted_df\n",
    "\n",
    "    # Use reduce with the logical AND operator to combine conditions\n",
    "    combined_conditions = reduce(operator.and_, conditions)\n",
    "\n",
    "    return melted_df[combined_conditions]"
   ],
   "metadata": {
    "collapsed": false,
    "ExecuteTime": {
     "end_time": "2024-01-22T21:56:11.591965009Z",
     "start_time": "2024-01-22T21:56:11.548847927Z"
    }
   },
   "id": "57ebb0144cf30395",
   "execution_count": 68
  },
  {
   "cell_type": "code",
   "outputs": [],
   "source": [
    "import plotly.express as px\n",
    "only_bloom = False\n",
    "only_bloomz = False\n",
    "filter = None\n",
    "value = None\n",
    "\n",
    "filtered_df = filter_df(melted_df, only_bloom=only_bloom, only_bloomz=only_bloomz)\n",
    "fig = px.box(filtered_df, x='Model', y='F1 Score',\n",
    "             color='Model', title=f'Box Plot for F1 Scores',\n",
    "             labels={'F1 Score': 'F1 Score', 'Model': 'Model'})\n",
    "\n",
    "fig.show()"
   ],
   "metadata": {
    "collapsed": false,
    "ExecuteTime": {
     "end_time": "2024-01-22T21:57:01.994632414Z",
     "start_time": "2024-01-22T21:57:01.923273430Z"
    }
   },
   "id": "184e442b618b539f",
   "execution_count": 71
  },
  {
   "cell_type": "code",
   "outputs": [],
   "source": [
    "import plotly.express as px\n",
    "\n",
    "only_bloomz = False\n",
    "only_bloom = False\n",
    "filter = 'Resource Level'\n",
    "\n",
    "for value in df[filter].unique():\n",
    "    filtered_df = filter_df(melted_df, filter, value, only_bloom, only_bloomz)\n",
    "    fig = px.box(filtered_df, x='Model', y='F1 Score',\n",
    "                 color='Model', title=f'Box Plot for F1 Scores by Model ({filter} = {value}, Only Bloomz = {only_bloomz}, Only Bloom = {only_bloom})',\n",
    "                 labels={'F1 Score': 'F1 Score', 'Model': 'Model'})\n",
    "    fig.show()\n",
    "# Create a scatter plot using Plotly Express\n",
    "# fig = px.scatter(melted_df, x='Language Name', y='F1 Score', color='Model',\n",
    "#                  facet_col='Language Family', facet_col_wrap=3,\n",
    "#                  labels={'F1 Score': 'F1 Score', 'Language Name': 'Language Name'},\n",
    "#                  title='F1 Score by Language and Model')\n",
    "# \n",
    "# # Customize layout if needed\n",
    "# fig.update_layout(height=2000, width=1200)\n",
    "# \n",
    "# # Show the plot\n",
    "# fig.show()"
   ],
   "metadata": {
    "collapsed": false,
    "ExecuteTime": {
     "end_time": "2024-01-22T21:40:02.723512842Z",
     "start_time": "2024-01-22T21:40:01.956775377Z"
    }
   },
   "id": "d87604e426b1d2ce",
   "execution_count": 41
  },
  {
   "cell_type": "code",
   "outputs": [],
   "source": [
    "import plotly.express as px\n",
    "import warnings\n",
    "\n",
    "warnings.filterwarnings('ignore')\n",
    "\n",
    "# Radar chart for all models in the same plot using plotly\n",
    "only_bloomz = False\n",
    "only_bloom = False\n",
    "filter = 'Language Family'\n",
    "\n",
    "for value in df[filter].unique():\n",
    "    filtered_df = filter_df(melted_df, filter, value, only_bloom, only_bloomz)\n",
    "    fig = px.line_polar(filtered_df, r='F1 Score', theta='Language Name', line_close=True,\n",
    "                        color='Model', title=f'Radar Chart for F1 Scores by Language and Model ({value})',\n",
    "                        height=600, width=800)\n",
    "    fig.show()"
   ],
   "metadata": {
    "collapsed": false,
    "ExecuteTime": {
     "end_time": "2024-01-22T21:40:38.422823054Z",
     "start_time": "2024-01-22T21:40:36.173207908Z"
    }
   },
   "id": "e02f59011107c742",
   "execution_count": 42
  },
  {
   "cell_type": "code",
   "outputs": [
    {
     "data": {
      "text/plain": "     Language Name Language Family Script (ISO 15924) Resource Level  \\\n200        Chinese    Sino-Tibetan               Hans              5   \n404        Chinese    Sino-Tibetan               Hans              5   \n608        Chinese    Sino-Tibetan               Hans              5   \n812        Chinese    Sino-Tibetan               Hans              5   \n1016       Chinese    Sino-Tibetan               Hans              5   \n\n      Bloom Train Data Percentage  BLOOMZ Finetune Data           Model  \\\n200                          16.2                  4.51  F1 Bloomz-560M   \n404                          16.2                  4.51   F1 Bloomz-1b1   \n608                          16.2                  4.51   F1 Bloomz-1b7   \n812                          16.2                  4.51    F1 Bloomz-3b   \n1016                         16.2                  4.51   F1 Bloomz-7b1   \n\n      F1 Score  \n200   0.327759  \n404   0.330228  \n608   0.391396  \n812   0.489759  \n1016  0.508100  ",
      "text/html": "<div>\n<style scoped>\n    .dataframe tbody tr th:only-of-type {\n        vertical-align: middle;\n    }\n\n    .dataframe tbody tr th {\n        vertical-align: top;\n    }\n\n    .dataframe thead th {\n        text-align: right;\n    }\n</style>\n<table border=\"1\" class=\"dataframe\">\n  <thead>\n    <tr style=\"text-align: right;\">\n      <th></th>\n      <th>Language Name</th>\n      <th>Language Family</th>\n      <th>Script (ISO 15924)</th>\n      <th>Resource Level</th>\n      <th>Bloom Train Data Percentage</th>\n      <th>BLOOMZ Finetune Data</th>\n      <th>Model</th>\n      <th>F1 Score</th>\n    </tr>\n  </thead>\n  <tbody>\n    <tr>\n      <th>200</th>\n      <td>Chinese</td>\n      <td>Sino-Tibetan</td>\n      <td>Hans</td>\n      <td>5</td>\n      <td>16.2</td>\n      <td>4.51</td>\n      <td>F1 Bloomz-560M</td>\n      <td>0.327759</td>\n    </tr>\n    <tr>\n      <th>404</th>\n      <td>Chinese</td>\n      <td>Sino-Tibetan</td>\n      <td>Hans</td>\n      <td>5</td>\n      <td>16.2</td>\n      <td>4.51</td>\n      <td>F1 Bloomz-1b1</td>\n      <td>0.330228</td>\n    </tr>\n    <tr>\n      <th>608</th>\n      <td>Chinese</td>\n      <td>Sino-Tibetan</td>\n      <td>Hans</td>\n      <td>5</td>\n      <td>16.2</td>\n      <td>4.51</td>\n      <td>F1 Bloomz-1b7</td>\n      <td>0.391396</td>\n    </tr>\n    <tr>\n      <th>812</th>\n      <td>Chinese</td>\n      <td>Sino-Tibetan</td>\n      <td>Hans</td>\n      <td>5</td>\n      <td>16.2</td>\n      <td>4.51</td>\n      <td>F1 Bloomz-3b</td>\n      <td>0.489759</td>\n    </tr>\n    <tr>\n      <th>1016</th>\n      <td>Chinese</td>\n      <td>Sino-Tibetan</td>\n      <td>Hans</td>\n      <td>5</td>\n      <td>16.2</td>\n      <td>4.51</td>\n      <td>F1 Bloomz-7b1</td>\n      <td>0.508100</td>\n    </tr>\n  </tbody>\n</table>\n</div>"
     },
     "execution_count": 24,
     "metadata": {},
     "output_type": "execute_result"
    }
   ],
   "source": [
    "melted_df[(melted_df[filter] == value) & (melted_df['Bloom Train Data Percentage'] > 0 | (melted_df['BLOOMZ Finetune Data'] > 0))]"
   ],
   "metadata": {
    "collapsed": false,
    "ExecuteTime": {
     "end_time": "2024-01-22T21:23:40.168302318Z",
     "start_time": "2024-01-22T21:23:40.124399929Z"
    }
   },
   "id": "6202bfd0b40e095e",
   "execution_count": 24
  },
  {
   "cell_type": "code",
   "outputs": [],
   "source": [],
   "metadata": {
    "collapsed": false
   },
   "id": "addb828027a4abb1"
  }
 ],
 "metadata": {
  "kernelspec": {
   "display_name": "Python 3",
   "language": "python",
   "name": "python3"
  },
  "language_info": {
   "codemirror_mode": {
    "name": "ipython",
    "version": 2
   },
   "file_extension": ".py",
   "mimetype": "text/x-python",
   "name": "python",
   "nbconvert_exporter": "python",
   "pygments_lexer": "ipython2",
   "version": "2.7.6"
  }
 },
 "nbformat": 4,
 "nbformat_minor": 5
}
