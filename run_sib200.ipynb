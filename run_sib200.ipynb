{
 "cells": [
  {
   "cell_type": "code",
   "execution_count": null,
   "id": "5b26c62f8fb04a28",
   "metadata": {
    "ExecuteTime": {
     "end_time": "2024-01-05T03:48:49.991614610Z",
     "start_time": "2024-01-05T03:48:49.617157466Z"
    },
    "collapsed": false
   },
   "outputs": [],
   "source": [
    "import pandas as pd\n",
    "\n",
    "df = pd.read_excel('SIB-200 languages - ACL.xlsx')\n",
    "filtered_languages = df[df['Bloom Train Data Percentage'] > 0]\n",
    "filtered_languages"
   ]
  },
  {
   "cell_type": "code",
   "execution_count": null,
   "id": "61617cda088564ef",
   "metadata": {
    "ExecuteTime": {
     "end_time": "2024-01-05T03:49:06.773272112Z",
     "start_time": "2024-01-05T03:48:54.176771587Z"
    },
    "collapsed": false
   },
   "outputs": [],
   "source": [
    "import os\n",
    "import subprocess\n",
    "import torch\n",
    "import gc\n",
    "\n",
    "# Set environment variables\n",
    "output_directory = \"output_sib200\"\n",
    "os.makedirs(output_directory, exist_ok=True)\n",
    "MAX_LENGTH = \"164\"\n",
    "BATCH_SIZE = \"16\"\n",
    "NUM_EPOCHS = \"10\"\n",
    "SAVE_STEPS = \"500000\"\n",
    "MODEL = \"bigscience/bloom-1b1\"\n",
    "MODEL_TYPE = \"bloom\"\n",
    "dir_name = \"sib-200/data/annotated\"\n",
    "SEED = \"42\"\n",
    "\n",
    "# Iterate over directories in dir_name\n",
    "for SRC_LANG_DIR in filtered_languages['Folder Name'][:1]:\n",
    "    gc.collect()\n",
    "    torch.cuda.empty_cache()\n",
    "    # Extract SRC_LANG from directory name\n",
    "    SRC_LANG = os.path.basename(SRC_LANG_DIR)\n",
    "    print(SRC_LANG)\n",
    "\n",
    "    OUTPUT_FILE = f\"test_result_{SRC_LANG}\"\n",
    "    OUTPUT_PREDICTION = f\"test_predictions_{SRC_LANG}\"\n",
    "    SRC_DATA_DIR = os.path.join(dir_name, SRC_LANG)\n",
    "    OUTPUT_DIR = f\"{output_directory}/{MODEL}/{SRC_LANG}_bert\"\n",
    "\n",
    "    subprocess.run([\n",
    "        'python', 'sib-200/code/train_textclass.py',\n",
    "        \"--data_dir\", SRC_DATA_DIR,\n",
    "        \"--model_type\", MODEL_TYPE,\n",
    "        \"--model_name_or_path\", MODEL,\n",
    "        \"--output_dir\", OUTPUT_DIR,\n",
    "        \"--output_result\", OUTPUT_FILE,\n",
    "        \"--output_prediction_file\", OUTPUT_PREDICTION,\n",
    "        \"--max_seq_length\", MAX_LENGTH,\n",
    "        \"--num_train_epochs\", NUM_EPOCHS,\n",
    "        \"--learning_rate\", \"1e-5\",\n",
    "        \"--per_gpu_train_batch_size\", BATCH_SIZE,\n",
    "        \"--per_gpu_eval_batch_size\", BATCH_SIZE,\n",
    "        \"--save_steps\", SAVE_STEPS,\n",
    "        \"--seed\", SEED,\n",
    "        \"--gradient_accumulation_steps\", \"2\",\n",
    "        \"--labels\", os.path.join(SRC_DATA_DIR, 'labels.txt'),\n",
    "        \"--do_train\",\n",
    "        \"--do_eval\",\n",
    "        \"--do_predict\",\n",
    "        \"--overwrite_output_dir\"\n",
    "    ])\n",
    "\n",
    "    # Remove unnecessary files\n",
    "    files_to_remove = [\n",
    "        \"pytorch_model.bin\",\n",
    "        \"sentencepiece.bpe.model\",\n",
    "        \"tokenizer.json\",\n",
    "        \"tokenizer_config.json\",\n",
    "        \"config.json\",\n",
    "        \"training_args.bin\",\n",
    "        \"special_tokens_map.json\",\n",
    "        \"sentencepiece.model\",\n",
    "    ]\n",
    "\n",
    "    for file_name in files_to_remove:\n",
    "        file_path = os.path.join(OUTPUT_DIR, file_name)\n",
    "        if os.path.exists(file_path):\n",
    "            os.remove(file_path)"
   ]
  },
  {
   "cell_type": "code",
   "execution_count": null,
   "id": "2176dafaa65f4531",
   "metadata": {
    "collapsed": false
   },
   "outputs": [],
   "source": []
  }
 ],
 "metadata": {
  "kernelspec": {
   "display_name": "Python 3",
   "language": "python",
   "name": "python3"
  },
  "language_info": {
   "codemirror_mode": {
    "name": "ipython",
    "version": 2
   },
   "file_extension": ".py",
   "mimetype": "text/x-python",
   "name": "python",
   "nbconvert_exporter": "python",
   "pygments_lexer": "ipython2",
   "version": "2.7.6"
  }
 },
 "nbformat": 4,
 "nbformat_minor": 5
}
